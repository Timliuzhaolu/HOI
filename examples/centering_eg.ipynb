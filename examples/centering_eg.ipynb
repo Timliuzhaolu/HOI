{
 "cells": [
  {
   "cell_type": "code",
   "execution_count": 93,
   "id": "ad6c33f5-1244-4dda-907b-a42d0d9ed9fd",
   "metadata": {},
   "outputs": [],
   "source": [
    "import numpy as np\n",
    "from numpy import matmul as mt\n",
    "from sklearn.metrics.pairwise import pairwise_kernels, pairwise_distances"
   ]
  },
  {
   "cell_type": "code",
   "execution_count": 94,
   "id": "49c1f473-7886-44ba-bba1-66e37ee111b1",
   "metadata": {},
   "outputs": [],
   "source": [
    "def width(Z):\n",
    "    \"\"\"\n",
    "    Computes the median heuristic for the kernel bandwidth\n",
    "    \"\"\"\n",
    "    dist_mat = pairwise_distances(Z, metric='euclidean')\n",
    "    width_Z = np.median(dist_mat[dist_mat > 0])\n",
    "    return width_Z\n",
    "\n",
    "def generate_kernel(seed):\n",
    "    np.random.seed(seed)\n",
    "    K = np.random.randint(5, size=(3, 3))\n",
    "    K = pairwise_kernels(K, metric='rbf', gamma=0.5 / (width(K) ** 2))\n",
    "    return K"
   ]
  },
  {
   "cell_type": "code",
   "execution_count": 95,
   "id": "182c95e3-ddbc-4ea6-8f34-91c269578896",
   "metadata": {},
   "outputs": [],
   "source": [
    "def centering(K):\n",
    "    H = np.eye(3) - 1/3 * np.ones(3)\n",
    "    Kc = H @ K @ H\n",
    "    return Kc"
   ]
  },
  {
   "cell_type": "code",
   "execution_count": 170,
   "id": "edc683f8-3efd-45e6-8231-93dc133b9207",
   "metadata": {},
   "outputs": [],
   "source": [
    "def first_centering_streitberg_4(Kc, Lc, Mc, Nc):\n",
    "    length = np.shape(K)[0]\n",
    "\n",
    "    si = 0\n",
    "    for i in range(length):\n",
    "        for j in range(length):\n",
    "            for k in range(length):\n",
    "                for l in range(length):\n",
    "                    p1234_p1234 = Kc[i, k] * Lc[i, k] * Mc[i, k] * Nc[i, k]\n",
    "                    p1234_p12p34 = Kc[i, k] * Lc[i, k] * Mc[i, j] * Nc[i, j]\n",
    "                    p1234_p13p24 = Kc[i, k] * Lc[i, j] * Mc[i, k] * Nc[i, j]\n",
    "                    p1234_p14p23 = Kc[i, k] * Lc[i, j] * Mc[i, j] * Nc[i, k]\n",
    "                    p12p34_p12p34 = Kc[i, k] * Lc[i, k] * Mc[j, l] * Nc[j, l]\n",
    "                    p12p34_p13p24 = Kc[i, k] * Lc[i, l] * Mc[j, k] * Nc[j, l]\n",
    "                    p12p34_p14p23 = Kc[i, k] * Lc[i, l] * Mc[j, l] * Nc[j, k]\n",
    "                    p13p24_p13p24 = Kc[i, k] * Lc[j, l] * Mc[i, k] * Nc[j, l]\n",
    "                    p13p24_p14p23 = Kc[i, k] * Lc[j, l] * Mc[i, l] * Nc[j, k]\n",
    "                    p14p23_p14p23 = Kc[i, k] * Lc[j, l] * Mc[j, l] * Nc[i, k]\n",
    "\n",
    "                    si = si + p1234_p1234 - 2 * p1234_p12p34 - 2 * p1234_p13p24 - 2 * p1234_p14p23 + p12p34_p12p34 + 2 * p12p34_p13p24 + 2 * p12p34_p14p23+ p13p24_p13p24 + 2 * p13p24_p14p23 + p14p23_p14p23\n",
    "    return (1/length**4) * si\n",
    "\n",
    "\n",
    "def second_centering_streitberg_4(Kc, Lc, Mc, Nc, KcLc):\n",
    "    length = np.shape(K)[0]\n",
    "\n",
    "    si = 0\n",
    "    for i in range(length):\n",
    "        for j in range(length):\n",
    "            for k in range(length):\n",
    "                for l in range(length):\n",
    "                    p1234_p1234 = KcLc[i, k] * Mc[i, k] * Nc[i, k]\n",
    "                    p1234_p13p24 = Kc[i, k] * Lc[i, j] * Mc[i, k] * Nc[i, j]\n",
    "                    p1234_p14p23 = Kc[i, k] * Lc[i, j] * Mc[i, j] * Nc[i, k]\n",
    "                    p13p24_p13p24 = Kc[i, k] * Lc[j, l] * Mc[i, k] * Nc[j, l]\n",
    "                    p13p24_p14p23 = Kc[i, k] * Lc[j, l] * Mc[i, l] * Nc[j, k]\n",
    "                    p14p23_p14p23 = Kc[i, k] * Lc[j, l] * Mc[j, l] * Nc[i, k]\n",
    "                    si = si + p1234_p1234 - 2 * p1234_p13p24 - 2 * p1234_p14p23 + p13p24_p13p24 + 2 * p13p24_p14p23 + p14p23_p14p23\n",
    "    return (1/length**4) * si"
   ]
  },
  {
   "cell_type": "code",
   "execution_count": 174,
   "id": "6ae2bca4-8a0e-41b1-8455-23116226c7b6",
   "metadata": {},
   "outputs": [],
   "source": [
    "seed = 40\n",
    "K = generate_kernel(seed)\n",
    "Kc = centering(K)\n",
    "\n",
    "L = generate_kernel(seed+1)\n",
    "Lc = centering(L)\n",
    "\n",
    "M = generate_kernel(seed+2)\n",
    "Mc = centering(M)\n",
    "\n",
    "N = generate_kernel(seed+3)\n",
    "Nc = centering(N)\n",
    "\n",
    "KcLc = centering(Kc * Lc)"
   ]
  },
  {
   "cell_type": "code",
   "execution_count": 175,
   "id": "0a6c716d-533a-4449-b0db-cbc470f7045a",
   "metadata": {},
   "outputs": [
    {
     "data": {
      "text/plain": [
       "0.0012844184853450188"
      ]
     },
     "execution_count": 175,
     "metadata": {},
     "output_type": "execute_result"
    }
   ],
   "source": [
    "first_centering_streitberg_4(Kc, Lc, Mc, Nc)"
   ]
  },
  {
   "cell_type": "code",
   "execution_count": 176,
   "id": "99f17b06-41fd-4216-a623-e3b1e21b965f",
   "metadata": {},
   "outputs": [
    {
     "data": {
      "text/plain": [
       "-0.00025396791722191936"
      ]
     },
     "execution_count": 176,
     "metadata": {},
     "output_type": "execute_result"
    }
   ],
   "source": [
    "second_centering_streitberg_4(Kc, Lc, Mc, Nc, KcLc)"
   ]
  },
  {
   "cell_type": "code",
   "execution_count": 183,
   "id": "9d57848d-9bfe-4ea4-9a15-6ce19beeced9",
   "metadata": {},
   "outputs": [],
   "source": [
    "list_of_lists = [K[0] for _ in range(3)]"
   ]
  },
  {
   "cell_type": "code",
   "execution_count": 184,
   "id": "5c941958-5bcc-4346-a175-d66e49beb2a4",
   "metadata": {},
   "outputs": [
    {
     "data": {
      "text/plain": [
       "[array([1.        , 0.52578802, 0.60653066]),\n",
       " array([1.        , 0.52578802, 0.60653066]),\n",
       " array([1.        , 0.52578802, 0.60653066])]"
      ]
     },
     "execution_count": 184,
     "metadata": {},
     "output_type": "execute_result"
    }
   ],
   "source": [
    "list_of_lists"
   ]
  },
  {
   "cell_type": "code",
   "execution_count": 191,
   "id": "4b3665a1-ade0-480f-875a-43866556b3fb",
   "metadata": {},
   "outputs": [
    {
     "data": {
      "text/plain": [
       "array([[1.        , 0.52578802, 0.60653066],\n",
       "       [0.52578802, 1.        , 0.75147729],\n",
       "       [0.60653066, 0.75147729, 1.        ]])"
      ]
     },
     "execution_count": 191,
     "metadata": {},
     "output_type": "execute_result"
    }
   ],
   "source": [
    "K"
   ]
  },
  {
   "cell_type": "code",
   "execution_count": null,
   "id": "9871b703-6956-4b91-8370-777b1a6a791f",
   "metadata": {},
   "outputs": [],
   "source": []
  },
  {
   "cell_type": "code",
   "execution_count": 186,
   "id": "88c7b3dd-978a-4171-b43b-7186fd1dda7b",
   "metadata": {},
   "outputs": [],
   "source": [
    "dict = {'a':1, 'b':2} "
   ]
  },
  {
   "cell_type": "code",
   "execution_count": 189,
   "id": "b3f12b07-6a39-49bd-acbc-912f915ae532",
   "metadata": {},
   "outputs": [
    {
     "data": {
      "text/plain": [
       "[1, 2]"
      ]
     },
     "execution_count": 189,
     "metadata": {},
     "output_type": "execute_result"
    }
   ],
   "source": [
    "list(dict.values())"
   ]
  },
  {
   "cell_type": "code",
   "execution_count": null,
   "id": "405f7bdd-2163-4e0c-a8b0-d71027ab35d9",
   "metadata": {},
   "outputs": [],
   "source": []
  }
 ],
 "metadata": {
  "kernelspec": {
   "display_name": "Python 3 (ipykernel)",
   "language": "python",
   "name": "python3"
  },
  "language_info": {
   "codemirror_mode": {
    "name": "ipython",
    "version": 3
   },
   "file_extension": ".py",
   "mimetype": "text/x-python",
   "name": "python",
   "nbconvert_exporter": "python",
   "pygments_lexer": "ipython3",
   "version": "3.9.12"
  }
 },
 "nbformat": 4,
 "nbformat_minor": 5
}

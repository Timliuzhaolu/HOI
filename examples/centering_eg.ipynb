{
 "cells": [
  {
   "cell_type": "code",
   "execution_count": 1,
   "id": "ad6c33f5-1244-4dda-907b-a42d0d9ed9fd",
   "metadata": {},
   "outputs": [],
   "source": [
    "import numpy as np\n",
    "from numpy import matmul as mt"
   ]
  },
  {
   "cell_type": "code",
   "execution_count": 2,
   "id": "6fae88ee-1a7a-4608-a249-060165b9d913",
   "metadata": {},
   "outputs": [
    {
     "name": "stdout",
     "output_type": "stream",
     "text": [
      "[[ 0.66666667 -0.33333333 -0.33333333]\n",
      " [-0.33333333  0.66666667 -0.33333333]\n",
      " [-0.33333333 -0.33333333  0.66666667]]\n"
     ]
    }
   ],
   "source": [
    "H = np.eye(3) - 1/3 * np.ones(3)\n",
    "print(H)"
   ]
  },
  {
   "cell_type": "code",
   "execution_count": 13,
   "id": "f8d0f5f8-08b6-4542-834e-549a5ac5105d",
   "metadata": {},
   "outputs": [
    {
     "name": "stdout",
     "output_type": "stream",
     "text": [
      "[[3.  4.  3. ]\n",
      " [4.  4.  0.5]\n",
      " [3.  0.5 3. ]]\n"
     ]
    }
   ],
   "source": [
    "K = np.random.randint(5, size=(3, 3))\n",
    "K = (K + K.T)/2\n",
    "print(K)"
   ]
  },
  {
   "cell_type": "code",
   "execution_count": 14,
   "id": "0471414f-941a-48c7-a41a-8c107689d558",
   "metadata": {},
   "outputs": [
    {
     "name": "stdout",
     "output_type": "stream",
     "text": [
      "[[1. 0. 2.]\n",
      " [0. 0. 1.]\n",
      " [2. 1. 3.]]\n"
     ]
    }
   ],
   "source": [
    "L = np.random.randint(5, size=(3, 3))\n",
    "L = (L + L.T)/2\n",
    "print(L)"
   ]
  },
  {
   "cell_type": "code",
   "execution_count": 17,
   "id": "4157c7fb-8ba3-45fb-a83f-104db80acdbb",
   "metadata": {},
   "outputs": [
    {
     "name": "stdout",
     "output_type": "stream",
     "text": [
      "[[-0.88888889  0.61111111  0.27777778]\n",
      " [ 0.61111111  1.11111111 -1.72222222]\n",
      " [ 0.27777778 -1.72222222  1.44444444]]\n"
     ]
    }
   ],
   "source": [
    "Kc = mt(mt(H, K),H)\n",
    "print(Kc)"
   ]
  },
  {
   "cell_type": "code",
   "execution_count": 46,
   "id": "0a198fa7-5566-4235-bd95-4ad8c132d311",
   "metadata": {},
   "outputs": [
    {
     "name": "stdout",
     "output_type": "stream",
     "text": [
      "[[-0.33333333  0.66666667 -0.33333333]\n",
      " [ 0.66666667 -2.33333333  1.66666667]\n",
      " [-0.33333333  1.66666667 -1.33333333]]\n"
     ]
    }
   ],
   "source": [
    "Lc = mt(mt(H, L),H)\n",
    "print(Lc)"
   ]
  },
  {
   "cell_type": "code",
   "execution_count": 48,
   "id": "d36b3425-8ce0-4041-a840-89eb0e5d4864",
   "metadata": {},
   "outputs": [],
   "source": [
    "def centering(k):\n",
    "    H = np.eye(3) - 1/3 * np.ones(3)\n",
    "    return mt(mt(H, k),H)"
   ]
  },
  {
   "cell_type": "code",
   "execution_count": 51,
   "id": "dbc0ed1b-fc10-41f0-82d8-064f6c18bbb0",
   "metadata": {},
   "outputs": [
    {
     "data": {
      "text/plain": [
       "array([[-0.81481481,  0.18518519,  0.62962963],\n",
       "       [ 0.18518519, -0.25925926,  0.07407407],\n",
       "       [ 0.62962963,  0.07407407, -0.7037037 ]])"
      ]
     },
     "execution_count": 51,
     "metadata": {},
     "output_type": "execute_result"
    }
   ],
   "source": [
    "centering(Kc*Lc)"
   ]
  },
  {
   "cell_type": "code",
   "execution_count": 53,
   "id": "957b8144-c16f-4a1a-8e09-4a37907eceb8",
   "metadata": {},
   "outputs": [
    {
     "data": {
      "text/plain": [
       "array([[-0.25925926,  0.07407407,  0.2962963 ],\n",
       "       [ 0.07407407, -1.03703704, -0.92592593],\n",
       "       [ 0.2962963 , -0.92592593, -1.92592593]])"
      ]
     },
     "execution_count": 53,
     "metadata": {},
     "output_type": "execute_result"
    }
   ],
   "source": [
    "Kc*Lc"
   ]
  },
  {
   "cell_type": "code",
   "execution_count": 55,
   "id": "b6c24f7a-4e40-4ab4-b59f-6e1c3b93ee50",
   "metadata": {},
   "outputs": [
    {
     "data": {
      "text/plain": [
       "array([[ 0.11111111, -1.22222222,  1.11111111],\n",
       "       [ 0.44444444, -1.88888889,  1.44444444],\n",
       "       [-0.55555556,  3.11111111, -2.55555556]])"
      ]
     },
     "execution_count": 55,
     "metadata": {},
     "output_type": "execute_result"
    }
   ],
   "source": [
    "mt(Kc, Lc)"
   ]
  },
  {
   "cell_type": "code",
   "execution_count": 16,
   "id": "5ee17baf-663d-41dc-b46d-c4a2496daef2",
   "metadata": {},
   "outputs": [
    {
     "data": {
      "text/plain": [
       "array([[-0.88888889,  0.61111111,  0.27777778],\n",
       "       [ 0.61111111,  1.11111111, -1.72222222],\n",
       "       [ 0.27777778, -1.72222222,  1.44444444]])"
      ]
     },
     "execution_count": 16,
     "metadata": {},
     "output_type": "execute_result"
    }
   ],
   "source": [
    "H @ K @ H"
   ]
  },
  {
   "cell_type": "code",
   "execution_count": 1,
   "id": "166a67a2-230a-472c-bd9f-94ca3ae6abe6",
   "metadata": {},
   "outputs": [],
   "source": [
    "def gridfunc(func):\n",
    "    def wrapper():\n",
    "        sums = 0\n",
    "        for i in range(3):\n",
    "            for j in range(3):\n",
    "                results.append(func(col))\n",
    "        return sums\n",
    "    return wrapper\n",
    "\n",
    "@gridfunc\n",
    "def foo(x):\n",
    "    return x+1\n",
    "\n",
    "grid = [[1,2,3,],[4,5,6],[7,8,9]]\n",
    "results = foo(grid)"
   ]
  },
  {
   "cell_type": "code",
   "execution_count": 7,
   "id": "55fd7777-c215-4f14-898c-270d8ff5c967",
   "metadata": {},
   "outputs": [],
   "source": [
    "import numpy as np\n",
    "grid = np.array([[1,2,3,],[4,5,6],[7,8,9]])"
   ]
  },
  {
   "cell_type": "code",
   "execution_count": 9,
   "id": "90e1341a-fadb-40ce-9902-3a1494ec0edf",
   "metadata": {},
   "outputs": [
    {
     "data": {
      "text/plain": [
       "1"
      ]
     },
     "execution_count": 9,
     "metadata": {},
     "output_type": "execute_result"
    }
   ],
   "source": [
    "grid[0,0]"
   ]
  },
  {
   "cell_type": "code",
   "execution_count": 15,
   "id": "7c0b9b6b-dbfb-4d77-a28e-f52490d19da9",
   "metadata": {},
   "outputs": [],
   "source": [
    "length = np.shape(grid)[0]\n",
    "sums = 0\n",
    "for i in range(length):\n",
    "    for j in range(length):\n",
    "        sums = sums + grid[i,j]*grid[i,j]\n",
    "sums = 1/(length**8) * sums"
   ]
  },
  {
   "cell_type": "code",
   "execution_count": 20,
   "id": "02bb0528-f0d7-46de-8bf9-10e881df9971",
   "metadata": {},
   "outputs": [],
   "source": [
    "index = 'i'"
   ]
  },
  {
   "cell_type": "code",
   "execution_count": 21,
   "id": "cd2afa6b-f18f-4449-b3d2-be93441418ad",
   "metadata": {},
   "outputs": [
    {
     "data": {
      "text/plain": [
       "'i'"
      ]
     },
     "execution_count": 21,
     "metadata": {},
     "output_type": "execute_result"
    }
   ],
   "source": [
    "index.strip('\\\"')"
   ]
  },
  {
   "cell_type": "code",
   "execution_count": null,
   "id": "32ccf76b-bb02-4985-94cb-919a3f55943c",
   "metadata": {},
   "outputs": [],
   "source": []
  }
 ],
 "metadata": {
  "kernelspec": {
   "display_name": "Python 3 (ipykernel)",
   "language": "python",
   "name": "python3"
  },
  "language_info": {
   "codemirror_mode": {
    "name": "ipython",
    "version": 3
   },
   "file_extension": ".py",
   "mimetype": "text/x-python",
   "name": "python",
   "nbconvert_exporter": "python",
   "pygments_lexer": "ipython3",
   "version": "3.9.12"
  }
 },
 "nbformat": 4,
 "nbformat_minor": 5
}

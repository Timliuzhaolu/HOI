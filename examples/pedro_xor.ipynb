{
 "cells": [
  {
   "cell_type": "code",
   "execution_count": 3,
   "id": "39f89232-cd03-4d67-a45a-28e4a0eaafd4",
   "metadata": {},
   "outputs": [],
   "source": [
    "%load_ext autoreload\n",
    "%autoreload 2"
   ]
  },
  {
   "cell_type": "code",
   "execution_count": 4,
   "id": "29e96b59-f289-4d59-9c05-3e1d0053ccb3",
   "metadata": {},
   "outputs": [],
   "source": [
    "import sys\n",
    "sys.path.append('/Users/Tim/PycharmProjects/HOI/')"
   ]
  },
  {
   "cell_type": "code",
   "execution_count": 5,
   "id": "8f9f1deb-15cc-48ba-942e-6701fce72281",
   "metadata": {},
   "outputs": [],
   "source": [
    "import pandas as pd\n",
    "import numpy as np\n",
    "from tqdm.notebook import tqdm"
   ]
  },
  {
   "cell_type": "code",
   "execution_count": 6,
   "id": "535a4310-0db2-42c6-a902-f2f83bd15486",
   "metadata": {},
   "outputs": [],
   "source": [
    "from synthetic_data import nonstationary_ts_n, make_iid_example, mixed_multinormal\n",
    "from HOI.preprocessings import compute_kernel, compute_kernel_n\n",
    "from HOI.tests import test_lancaster, lancaster_permutation, test_independence\n",
    "from HOI.statistics import compute_dHSIC_statistics, compute_lancaster_statistics"
   ]
  },
  {
   "cell_type": "code",
   "execution_count": 7,
   "id": "6f1c67cc-750c-4977-8904-b564d945dbde",
   "metadata": {},
   "outputs": [],
   "source": [
    "import matplotlib.pyplot as plt"
   ]
  },
  {
   "cell_type": "markdown",
   "id": "f6889be0-9e87-404e-885a-02ca084ba2c5",
   "metadata": {
    "tags": []
   },
   "source": [
    "# XOR"
   ]
  },
  {
   "cell_type": "code",
   "execution_count": 15,
   "id": "c1ba6720-19b8-4034-a8ea-9f68ba650ba4",
   "metadata": {},
   "outputs": [],
   "source": [
    "x = np.random.binomial(n=1, p=0.5, size=300)\n",
    "y = np.random.binomial(n=1, p=0.5, size=300)"
   ]
  },
  {
   "cell_type": "code",
   "execution_count": 13,
   "id": "7ebea563-ac07-45ba-84ec-c8e200f65e4c",
   "metadata": {},
   "outputs": [],
   "source": [
    "z = np.mod(x+y, 2)"
   ]
  },
  {
   "cell_type": "code",
   "execution_count": 17,
   "id": "f96a9c4d-810c-4c34-98cb-a65adaaf1b24",
   "metadata": {},
   "outputs": [
    {
     "data": {
      "application/vnd.jupyter.widget-view+json": {
       "model_id": "c582616e1ee74aef94baf9116a875393",
       "version_major": 2,
       "version_minor": 0
      },
      "text/plain": [
       "  0%|          | 0/100 [00:00<?, ?it/s]"
      ]
     },
     "metadata": {},
     "output_type": "display_data"
    },
    {
     "name": "stdout",
     "output_type": "stream",
     "text": [
      "100\n"
     ]
    }
   ],
   "source": [
    "rejects = 0\n",
    "for i in tqdm(np.arange(100)):\n",
    "    df = pd.DataFrame(list(zip(x, y, z)), columns=['x', 'y', 'z'])\n",
    "    data_dict, kernel_dict = compute_kernel(df)\n",
    "    _, _, _, reject = test_lancaster([kernel_dict['x'], kernel_dict['y'],kernel_dict['z']], None, n_perms=5000, alpha=0.05, mode='permutation')       \n",
    "    rejects = rejects + reject\n",
    "print(rejects)"
   ]
  },
  {
   "cell_type": "code",
   "execution_count": 19,
   "id": "24c3b8ed-7888-4d26-83c2-582b04a3435e",
   "metadata": {},
   "outputs": [
    {
     "data": {
      "application/vnd.jupyter.widget-view+json": {
       "model_id": "66a83a35b947471bb91883e6d33b247d",
       "version_major": 2,
       "version_minor": 0
      },
      "text/plain": [
       "  0%|          | 0/100 [00:00<?, ?it/s]"
      ]
     },
     "metadata": {},
     "output_type": "display_data"
    },
    {
     "name": "stdout",
     "output_type": "stream",
     "text": [
      "100\n"
     ]
    }
   ],
   "source": [
    "rejects = 0\n",
    "for i in tqdm(np.arange(100)):\n",
    "    df = pd.DataFrame(list(zip(x, y, z)), columns=['x', 'y', 'z'])\n",
    "    data_dict, kernel_dict = compute_kernel(df)\n",
    "    _, _, _, reject = test_independence([kernel_dict['x'], kernel_dict['y'],kernel_dict['z']], None, mode='iid', n_perms=5000, alpha=0.05)\n",
    "    rejects = rejects + reject\n",
    "print(rejects)"
   ]
  },
  {
   "cell_type": "code",
   "execution_count": 16,
   "id": "e2019b69-0a01-4b51-89e2-da840de0d5b8",
   "metadata": {},
   "outputs": [
    {
     "data": {
      "application/vnd.jupyter.widget-view+json": {
       "model_id": "f498b6fc25b44cdfbb5588a630a85939",
       "version_major": 2,
       "version_minor": 0
      },
      "text/plain": [
       "  0%|          | 0/100 [00:00<?, ?it/s]"
      ]
     },
     "metadata": {},
     "output_type": "display_data"
    },
    {
     "name": "stdout",
     "output_type": "stream",
     "text": [
      "0\n"
     ]
    }
   ],
   "source": [
    "rejects = 0\n",
    "for i in tqdm(np.arange(100)):\n",
    "    df = pd.DataFrame(list(zip(x, y, z)), columns=['x', 'y', 'z'])\n",
    "    data_dict, kernel_dict = compute_kernel(df)\n",
    "    _, _, _, reject = test_independence([kernel_dict['x'], kernel_dict['z']], None, mode='iid', n_perms=5000, alpha=0.05)\n",
    "    rejects = rejects + reject\n",
    "print(rejects)"
   ]
  },
  {
   "cell_type": "markdown",
   "id": "b914d2e2-7a90-4b49-ae7a-032c386b7bcf",
   "metadata": {
    "tags": []
   },
   "source": [
    "# AND"
   ]
  },
  {
   "cell_type": "code",
   "execution_count": 17,
   "id": "6816847b-5d52-4cb8-9b01-6c9477cd5220",
   "metadata": {},
   "outputs": [],
   "source": [
    "x = np.random.binomial(n=1, p=0.5, size=100)\n",
    "y = np.random.binomial(n=1, p=0.5, size=100)"
   ]
  },
  {
   "cell_type": "code",
   "execution_count": 18,
   "id": "2a618b22-d40e-4e23-b641-6725d597bb69",
   "metadata": {},
   "outputs": [],
   "source": [
    "z = x*y"
   ]
  },
  {
   "cell_type": "code",
   "execution_count": 19,
   "id": "82453939-9ae1-4fae-917d-2fd7278cae71",
   "metadata": {},
   "outputs": [
    {
     "data": {
      "application/vnd.jupyter.widget-view+json": {
       "model_id": "4852e53e1f074719af20c78a1a0b7f89",
       "version_major": 2,
       "version_minor": 0
      },
      "text/plain": [
       "  0%|          | 0/100 [00:00<?, ?it/s]"
      ]
     },
     "metadata": {},
     "output_type": "display_data"
    },
    {
     "name": "stdout",
     "output_type": "stream",
     "text": [
      "100\n"
     ]
    }
   ],
   "source": [
    "rejects = 0\n",
    "for i in tqdm(np.arange(100)):\n",
    "    df = pd.DataFrame(list(zip(x, y, z)), columns=['x', 'y', 'z'])\n",
    "    data_dict, kernel_dict = compute_kernel(df)\n",
    "    _, _, _, reject = test_lancaster([kernel_dict['x'], kernel_dict['y'],kernel_dict['z']], None, n_perms=2000, alpha=0.05, mode='permutation')       \n",
    "    rejects = rejects + reject\n",
    "print(rejects)"
   ]
  },
  {
   "cell_type": "code",
   "execution_count": 20,
   "id": "493e6475-787f-49eb-9193-e3280a328e00",
   "metadata": {},
   "outputs": [
    {
     "data": {
      "application/vnd.jupyter.widget-view+json": {
       "model_id": "898e2c9da3964cc98eaabd57d9708c8a",
       "version_major": 2,
       "version_minor": 0
      },
      "text/plain": [
       "  0%|          | 0/100 [00:00<?, ?it/s]"
      ]
     },
     "metadata": {},
     "output_type": "display_data"
    },
    {
     "name": "stdout",
     "output_type": "stream",
     "text": [
      "100\n"
     ]
    }
   ],
   "source": [
    "rejects = 0\n",
    "for i in tqdm(np.arange(100)):\n",
    "    df = pd.DataFrame(list(zip(x, y, z)), columns=['x', 'y', 'z'])\n",
    "    data_dict, kernel_dict = compute_kernel(df)\n",
    "    _, _, _, reject = test_independence([kernel_dict['x'], kernel_dict['y'],kernel_dict['z']], None, mode='iid', n_perms=2000, alpha=0.05)\n",
    "    rejects = rejects + reject\n",
    "print(rejects)"
   ]
  },
  {
   "cell_type": "code",
   "execution_count": 21,
   "id": "ee5de901-57f2-4b65-85f7-379be9ac5cf5",
   "metadata": {},
   "outputs": [
    {
     "data": {
      "application/vnd.jupyter.widget-view+json": {
       "model_id": "ad03611e01514336bce46b4f69a113a8",
       "version_major": 2,
       "version_minor": 0
      },
      "text/plain": [
       "  0%|          | 0/100 [00:00<?, ?it/s]"
      ]
     },
     "metadata": {},
     "output_type": "display_data"
    },
    {
     "name": "stdout",
     "output_type": "stream",
     "text": [
      "100\n"
     ]
    }
   ],
   "source": [
    "rejects = 0\n",
    "for i in tqdm(np.arange(100)):\n",
    "    df = pd.DataFrame(list(zip(x, y, z)), columns=['x', 'y', 'z'])\n",
    "    data_dict, kernel_dict = compute_kernel(df)\n",
    "    _, _, _, reject = test_independence([kernel_dict['x'], kernel_dict['z']], None, mode='iid', n_perms=2000, alpha=0.05)\n",
    "    rejects = rejects + reject\n",
    "print(rejects)"
   ]
  },
  {
   "cell_type": "markdown",
   "id": "36c0a00e-2fa0-486f-9ae4-7a86a2ed6c4f",
   "metadata": {},
   "source": [
    "# uncorrelated"
   ]
  },
  {
   "cell_type": "code",
   "execution_count": 22,
   "id": "f95c5b66-c8b9-4573-b7e8-511bea46dd5c",
   "metadata": {},
   "outputs": [],
   "source": [
    "x = np.random.binomial(n=1, p=0.5, size=100)\n",
    "y = np.random.binomial(n=1, p=0.5, size=100)"
   ]
  },
  {
   "cell_type": "code",
   "execution_count": 23,
   "id": "1a7f32cc-ceb2-44b0-85ac-3928178b3f35",
   "metadata": {},
   "outputs": [],
   "source": [
    "z = np.random.binomial(n=1, p=0.5, size=100)"
   ]
  },
  {
   "cell_type": "code",
   "execution_count": 24,
   "id": "9440c53b-b216-44da-b44f-14e51f58e25f",
   "metadata": {},
   "outputs": [
    {
     "data": {
      "application/vnd.jupyter.widget-view+json": {
       "model_id": "4c2efafb50aa428682e429872e0a9f5c",
       "version_major": 2,
       "version_minor": 0
      },
      "text/plain": [
       "  0%|          | 0/100 [00:00<?, ?it/s]"
      ]
     },
     "metadata": {},
     "output_type": "display_data"
    },
    {
     "name": "stdout",
     "output_type": "stream",
     "text": [
      "0\n"
     ]
    }
   ],
   "source": [
    "rejects = 0\n",
    "for i in tqdm(np.arange(100)):\n",
    "    df = pd.DataFrame(list(zip(x, y, z)), columns=['x', 'y', 'z'])\n",
    "    data_dict, kernel_dict = compute_kernel(df)\n",
    "    _, _, _, reject = test_lancaster([kernel_dict['x'], kernel_dict['y'],kernel_dict['z']], None, n_perms=2000, alpha=0.05, mode='permutation')       \n",
    "    rejects = rejects + reject\n",
    "print(rejects)"
   ]
  },
  {
   "cell_type": "code",
   "execution_count": 25,
   "id": "5e3f4ca5-5734-41f3-b6ea-1dedaddbda7c",
   "metadata": {},
   "outputs": [
    {
     "data": {
      "application/vnd.jupyter.widget-view+json": {
       "model_id": "d31e3a6597884a70978080e99bf39f4d",
       "version_major": 2,
       "version_minor": 0
      },
      "text/plain": [
       "  0%|          | 0/100 [00:00<?, ?it/s]"
      ]
     },
     "metadata": {},
     "output_type": "display_data"
    },
    {
     "name": "stdout",
     "output_type": "stream",
     "text": [
      "0\n"
     ]
    }
   ],
   "source": [
    "rejects = 0\n",
    "for i in tqdm(np.arange(100)):\n",
    "    df = pd.DataFrame(list(zip(x, y, z)), columns=['x', 'y', 'z'])\n",
    "    data_dict, kernel_dict = compute_kernel(df)\n",
    "    _, _, _, reject = test_independence([kernel_dict['x'], kernel_dict['y'],kernel_dict['z']], None, mode='iid', n_perms=2000, alpha=0.05)\n",
    "    rejects = rejects + reject\n",
    "print(rejects)"
   ]
  },
  {
   "cell_type": "code",
   "execution_count": 28,
   "id": "5fa3b6af-c40c-4ec1-9a70-bca1f17f6294",
   "metadata": {},
   "outputs": [
    {
     "data": {
      "application/vnd.jupyter.widget-view+json": {
       "model_id": "aab336860bb94682adfdb795a4d0a006",
       "version_major": 2,
       "version_minor": 0
      },
      "text/plain": [
       "  0%|          | 0/100 [00:00<?, ?it/s]"
      ]
     },
     "metadata": {},
     "output_type": "display_data"
    },
    {
     "name": "stdout",
     "output_type": "stream",
     "text": [
      "0\n"
     ]
    }
   ],
   "source": [
    "rejects = 0\n",
    "for i in tqdm(np.arange(100)):\n",
    "    df = pd.DataFrame(list(zip(x, y, z)), columns=['x', 'y', 'z'])\n",
    "    data_dict, kernel_dict = compute_kernel(df)\n",
    "    _, _, _, reject = test_independence([kernel_dict['x'], kernel_dict['z']], None, mode='iid', n_perms=5000, alpha=0.05)\n",
    "    rejects = rejects + reject\n",
    "print(rejects)"
   ]
  },
  {
   "cell_type": "code",
   "execution_count": null,
   "id": "3ee8f5ab-382c-47ff-954c-acedd48dc38d",
   "metadata": {},
   "outputs": [],
   "source": []
  }
 ],
 "metadata": {
  "kernelspec": {
   "display_name": "Python 3 (ipykernel)",
   "language": "python",
   "name": "python3"
  },
  "language_info": {
   "codemirror_mode": {
    "name": "ipython",
    "version": 3
   },
   "file_extension": ".py",
   "mimetype": "text/x-python",
   "name": "python",
   "nbconvert_exporter": "python",
   "pygments_lexer": "ipython3",
   "version": "3.9.12"
  }
 },
 "nbformat": 4,
 "nbformat_minor": 5
}

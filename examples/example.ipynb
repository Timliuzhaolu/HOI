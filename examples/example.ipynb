{
 "cells": [
  {
   "cell_type": "code",
   "execution_count": 32,
   "id": "d450d99d-26c7-4344-9cd9-dd8ceeb30d5e",
   "metadata": {},
   "outputs": [
    {
     "name": "stdout",
     "output_type": "stream",
     "text": [
      "The autoreload extension is already loaded. To reload it, use:\n",
      "  %reload_ext autoreload\n"
     ]
    }
   ],
   "source": [
    "%load_ext autoreload\n",
    "%autoreload 2"
   ]
  },
  {
   "cell_type": "code",
   "execution_count": 19,
   "id": "0c545e65",
   "metadata": {},
   "outputs": [],
   "source": [
    "import sys\n",
    "sys.path.append('/Users/Tim/PycharmProjects/HOI/')"
   ]
  },
  {
   "cell_type": "code",
   "execution_count": 20,
   "id": "2b2f019a",
   "metadata": {},
   "outputs": [
    {
     "data": {
      "text/plain": [
       "['/Users/tim/PycharmProjects/HOI/examples',\n",
       " '/Users/tim/opt/anaconda3/envs/hoi/lib/python310.zip',\n",
       " '/Users/tim/opt/anaconda3/envs/hoi/lib/python3.10',\n",
       " '/Users/tim/opt/anaconda3/envs/hoi/lib/python3.10/lib-dynload',\n",
       " '',\n",
       " '/Users/tim/opt/anaconda3/envs/hoi/lib/python3.10/site-packages',\n",
       " '/Users/Tim/PycharmProjects/HOI/',\n",
       " '/Users/Tim/PycharmProjects/HOI/']"
      ]
     },
     "execution_count": 20,
     "metadata": {},
     "output_type": "execute_result"
    }
   ],
   "source": [
    "import sys\n",
    "sys.path"
   ]
  },
  {
   "cell_type": "code",
   "execution_count": 33,
   "id": "65f05883",
   "metadata": {},
   "outputs": [],
   "source": [
    "import pandas as pd\n",
    "import numpy as np\n",
    "from tqdm import tqdm"
   ]
  },
  {
   "cell_type": "code",
   "execution_count": 34,
   "id": "e531d637",
   "metadata": {},
   "outputs": [],
   "source": [
    "from synthetic_data import make_iid_example\n",
    "from HOI.preprocessings import compute_kernel\n",
    "from HOI.tests import test_independence"
   ]
  },
  {
   "cell_type": "code",
   "execution_count": 7,
   "id": "51b94954-419c-489a-b80c-475a72b5f690",
   "metadata": {
    "tags": []
   },
   "outputs": [
    {
     "name": "stderr",
     "output_type": "stream",
     "text": [
      "100%|█████████████████████████████████████████████| 9/9 [12:27<00:00, 83.04s/it]\n"
     ]
    }
   ],
   "source": [
    "# power calculation for higher-order data\n",
    "power ={}\n",
    "for d in tqdm(np.arange(0.1, 1, 0.1)):\n",
    "    rejects = 0\n",
    "    for i in np.arange(100):\n",
    "        df = make_iid_example('higher-order', s = d, n_sample=100)\n",
    "        data_dict, kernel_dict = compute_kernel(df)\n",
    "        _, _, reject = test_independence([kernel_dict['d1'], kernel_dict['d2'], kernel_dict['d3']],\n",
    "                                         [data_dict['d1'], data_dict['d2'], data_dict['d3']],\n",
    "                                          mode = 'iid', n_perms=5000, alpha=0.05)\n",
    "        rejects = rejects + reject\n",
    "    power[str(d)] = rejects/100"
   ]
  },
  {
   "cell_type": "code",
   "execution_count": 8,
   "id": "aabe0348-9009-4316-9d62-4ce05745c4cd",
   "metadata": {},
   "outputs": [
    {
     "data": {
      "text/plain": [
       "{'0.1': 0.09,\n",
       " '0.2': 0.09,\n",
       " '0.30000000000000004': 0.16,\n",
       " '0.4': 0.19,\n",
       " '0.5': 0.58,\n",
       " '0.6': 0.97,\n",
       " '0.7000000000000001': 1.0,\n",
       " '0.8': 1.0,\n",
       " '0.9': 1.0}"
      ]
     },
     "execution_count": 8,
     "metadata": {},
     "output_type": "execute_result"
    }
   ],
   "source": [
    "power"
   ]
  },
  {
   "cell_type": "code",
   "execution_count": null,
   "id": "3f007243-bcc1-4182-8c94-58660fd26f0e",
   "metadata": {},
   "outputs": [
    {
     "name": "stderr",
     "output_type": "stream",
     "text": [
      " 56%|████████████████████████▍                   | 5/9 [12:52<10:15, 153.86s/it]"
     ]
    }
   ],
   "source": [
    "# power calculation for multi-normal data\n",
    "power ={}\n",
    "for d in tqdm(np.arange(0.1, 1, 0.1)):\n",
    "    rejects = 0\n",
    "    for i in np.arange(100):\n",
    "        df = make_iid_example(mode='multi-normal', s = d, n_sample=100)\n",
    "        data_dict, kernel_dict = compute_kernel(df)\n",
    "        _, _, reject1 = test_independence([kernel_dict['d1'], kernel_dict['d2']],\n",
    "                                         [data_dict['d1'], data_dict['d2']],\n",
    "                                          mode = 'iid', n_perms=5000, alpha=0.05)\n",
    "        \n",
    "        _, _, reject2 = test_independence([kernel_dict['d1'], kernel_dict['d3']],\n",
    "                                 [data_dict['d1'], data_dict['d3']],\n",
    "                                  mode = 'iid', n_perms=5000, alpha=0.05)\n",
    "\n",
    "        _, _, reject3 = test_independence([kernel_dict['d2'], kernel_dict['d3']],\n",
    "                             [data_dict['d2'], data_dict['d3']],\n",
    "                              mode = 'iid', n_perms=5000, alpha=0.05)\n",
    "        \n",
    "        rejects = rejects + reject1+reject2+reject3\n",
    "    power[str(d)] = rejects/300"
   ]
  },
  {
   "cell_type": "code",
   "execution_count": null,
   "id": "11ea1de7-29e8-4ef0-b606-62fbf5c4da5b",
   "metadata": {},
   "outputs": [],
   "source": [
    "power"
   ]
  },
  {
   "cell_type": "code",
   "execution_count": null,
   "id": "7392cb0b-aaf3-48d2-b968-594119faf682",
   "metadata": {},
   "outputs": [],
   "source": []
  },
  {
   "cell_type": "code",
   "execution_count": null,
   "id": "191ccfc8-31a4-4b7f-99e5-ed6994a61e6c",
   "metadata": {},
   "outputs": [],
   "source": [
    "# power calculation for interpolated data\n",
    "power ={}\n",
    "for d in tqdm(np.arange(0.1, 1, 0.1)):\n",
    "    rejects = 0\n",
    "    for i in np.arange(100):\n",
    "        df = make_iid_example(mode='interpolated', s = d, n_sample=100)\n",
    "        data_dict, kernel_dict = compute_kernel(df)\n",
    "        _, _, reject1 = test_independence([kernel_dict['d1'], kernel_dict['d2']],\n",
    "                                         [data_dict['d1'], data_dict['d2']],\n",
    "                                          mode = 'iid', n_perms=5000, alpha=0.05)\n",
    "        \n",
    "        _, _, reject2 = test_independence([kernel_dict['d1'], kernel_dict['d3']],\n",
    "                                 [data_dict['d1'], data_dict['d3']],\n",
    "                                  mode = 'iid', n_perms=5000, alpha=0.05)\n",
    "\n",
    "        _, _, reject3 = test_independence([kernel_dict['d2'], kernel_dict['d3']],\n",
    "                             [data_dict['d2'], data_dict['d3']],\n",
    "                              mode = 'iid', n_perms=5000, alpha=0.05)\n",
    "        \n",
    "        rejects = rejects + reject1+reject2+reject3\n",
    "    power[str(d)] = rejects/300"
   ]
  },
  {
   "cell_type": "code",
   "execution_count": null,
   "id": "7d5d498c-a07c-4bb0-a786-1d72c928f1eb",
   "metadata": {},
   "outputs": [],
   "source": [
    "power"
   ]
  },
  {
   "cell_type": "code",
   "execution_count": null,
   "id": "159fee91-f3f9-4046-a322-b010e32cee96",
   "metadata": {},
   "outputs": [],
   "source": []
  },
  {
   "cell_type": "code",
   "execution_count": null,
   "id": "2b56e9b0-3849-451e-8c7b-bfdba3d6a15b",
   "metadata": {},
   "outputs": [],
   "source": []
  },
  {
   "cell_type": "markdown",
   "id": "23c9bfcf",
   "metadata": {},
   "source": [
    "# multi-normal, S = 0.99"
   ]
  },
  {
   "cell_type": "code",
   "execution_count": 147,
   "id": "187fae44",
   "metadata": {},
   "outputs": [],
   "source": [
    "data_df = make_iid_example('multi-normal', s = 0.99)"
   ]
  },
  {
   "cell_type": "code",
   "execution_count": 148,
   "id": "da69b885",
   "metadata": {},
   "outputs": [
    {
     "data": {
      "text/html": [
       "<div>\n",
       "<style scoped>\n",
       "    .dataframe tbody tr th:only-of-type {\n",
       "        vertical-align: middle;\n",
       "    }\n",
       "\n",
       "    .dataframe tbody tr th {\n",
       "        vertical-align: top;\n",
       "    }\n",
       "\n",
       "    .dataframe thead th {\n",
       "        text-align: right;\n",
       "    }\n",
       "</style>\n",
       "<table border=\"1\" class=\"dataframe\">\n",
       "  <thead>\n",
       "    <tr style=\"text-align: right;\">\n",
       "      <th></th>\n",
       "      <th>d1</th>\n",
       "      <th>d2</th>\n",
       "      <th>d3</th>\n",
       "    </tr>\n",
       "  </thead>\n",
       "  <tbody>\n",
       "    <tr>\n",
       "      <th>0</th>\n",
       "      <td>0.975709</td>\n",
       "      <td>1.003210</td>\n",
       "      <td>0.737326</td>\n",
       "    </tr>\n",
       "    <tr>\n",
       "      <th>1</th>\n",
       "      <td>1.239862</td>\n",
       "      <td>1.194489</td>\n",
       "      <td>1.066782</td>\n",
       "    </tr>\n",
       "    <tr>\n",
       "      <th>2</th>\n",
       "      <td>-0.700289</td>\n",
       "      <td>-0.519349</td>\n",
       "      <td>-0.414743</td>\n",
       "    </tr>\n",
       "    <tr>\n",
       "      <th>3</th>\n",
       "      <td>0.453285</td>\n",
       "      <td>0.337193</td>\n",
       "      <td>0.322808</td>\n",
       "    </tr>\n",
       "    <tr>\n",
       "      <th>4</th>\n",
       "      <td>-1.582181</td>\n",
       "      <td>-1.615040</td>\n",
       "      <td>-1.683302</td>\n",
       "    </tr>\n",
       "    <tr>\n",
       "      <th>...</th>\n",
       "      <td>...</td>\n",
       "      <td>...</td>\n",
       "      <td>...</td>\n",
       "    </tr>\n",
       "    <tr>\n",
       "      <th>95</th>\n",
       "      <td>-0.428175</td>\n",
       "      <td>-0.371847</td>\n",
       "      <td>-0.496028</td>\n",
       "    </tr>\n",
       "    <tr>\n",
       "      <th>96</th>\n",
       "      <td>0.268221</td>\n",
       "      <td>0.377493</td>\n",
       "      <td>0.239660</td>\n",
       "    </tr>\n",
       "    <tr>\n",
       "      <th>97</th>\n",
       "      <td>0.832519</td>\n",
       "      <td>0.840402</td>\n",
       "      <td>0.768648</td>\n",
       "    </tr>\n",
       "    <tr>\n",
       "      <th>98</th>\n",
       "      <td>-0.837189</td>\n",
       "      <td>-0.848547</td>\n",
       "      <td>-0.419025</td>\n",
       "    </tr>\n",
       "    <tr>\n",
       "      <th>99</th>\n",
       "      <td>-0.538867</td>\n",
       "      <td>-0.341615</td>\n",
       "      <td>-0.484228</td>\n",
       "    </tr>\n",
       "  </tbody>\n",
       "</table>\n",
       "<p>100 rows × 3 columns</p>\n",
       "</div>"
      ],
      "text/plain": [
       "          d1        d2        d3\n",
       "0   0.975709  1.003210  0.737326\n",
       "1   1.239862  1.194489  1.066782\n",
       "2  -0.700289 -0.519349 -0.414743\n",
       "3   0.453285  0.337193  0.322808\n",
       "4  -1.582181 -1.615040 -1.683302\n",
       "..       ...       ...       ...\n",
       "95 -0.428175 -0.371847 -0.496028\n",
       "96  0.268221  0.377493  0.239660\n",
       "97  0.832519  0.840402  0.768648\n",
       "98 -0.837189 -0.848547 -0.419025\n",
       "99 -0.538867 -0.341615 -0.484228\n",
       "\n",
       "[100 rows x 3 columns]"
      ]
     },
     "execution_count": 148,
     "metadata": {},
     "output_type": "execute_result"
    }
   ],
   "source": [
    "data_df"
   ]
  },
  {
   "cell_type": "code",
   "execution_count": 149,
   "id": "000243ba",
   "metadata": {},
   "outputs": [],
   "source": [
    "data_dict, kernel_dict = compute_kernel(data_df)"
   ]
  },
  {
   "cell_type": "code",
   "execution_count": 150,
   "id": "5d170888",
   "metadata": {},
   "outputs": [
    {
     "data": {
      "text/plain": [
       "array([[1.        , 0.9637786 , 0.22645637, ..., 0.98921774, 0.17591686,\n",
       "        0.29733694],\n",
       "       [0.9637786 , 1.        , 0.13665967, ..., 0.916006  , 0.10217753,\n",
       "        0.18770997],\n",
       "       [0.22645637, 0.13665967, 1.        , ..., 0.28872924, 0.99013952,\n",
       "        0.98631723],\n",
       "       ...,\n",
       "       [0.98921774, 0.916006  , 0.28872924, ..., 1.        , 0.2289899 ,\n",
       "        0.36994737],\n",
       "       [0.17591686, 0.10217753, 0.99013952, ..., 0.2289899 , 1.        ,\n",
       "        0.95403454],\n",
       "       [0.29733694, 0.18770997, 0.98631723, ..., 0.36994737, 0.95403454,\n",
       "        1.        ]])"
      ]
     },
     "execution_count": 150,
     "metadata": {},
     "output_type": "execute_result"
    }
   ],
   "source": [
    "kernel_dict['d1']"
   ]
  },
  {
   "cell_type": "code",
   "execution_count": 155,
   "id": "bcbd79f1",
   "metadata": {},
   "outputs": [
    {
     "data": {
      "text/plain": [
       "(0.08310243605319323, 0.00429274471233454, 1)"
      ]
     },
     "execution_count": 155,
     "metadata": {},
     "output_type": "execute_result"
    }
   ],
   "source": [
    "test_independence([kernel_dict['d1'], kernel_dict['d2']], n_perms=1000, alpha=0.05)"
   ]
  },
  {
   "cell_type": "code",
   "execution_count": 156,
   "id": "2b24f975",
   "metadata": {},
   "outputs": [
    {
     "data": {
      "text/plain": [
       "(0.08174070105053433, 0.004197527769259968, 1)"
      ]
     },
     "execution_count": 156,
     "metadata": {},
     "output_type": "execute_result"
    }
   ],
   "source": [
    "test_independence([kernel_dict['d1'], kernel_dict['d3']], n_perms=1000, alpha=0.05)"
   ]
  },
  {
   "cell_type": "code",
   "execution_count": 157,
   "id": "cef89325",
   "metadata": {},
   "outputs": [
    {
     "data": {
      "text/plain": [
       "(0.08084666712698341, 0.004234556705420722, 1)"
      ]
     },
     "execution_count": 157,
     "metadata": {},
     "output_type": "execute_result"
    }
   ],
   "source": [
    "test_independence([kernel_dict['d2'], kernel_dict['d3']], n_perms=1000, alpha=0.05)"
   ]
  },
  {
   "cell_type": "code",
   "execution_count": 158,
   "id": "4acdfa8e",
   "metadata": {},
   "outputs": [
    {
     "data": {
      "text/plain": [
       "(0.13314619215894336, 0.0063933156678924186, 1)"
      ]
     },
     "execution_count": 158,
     "metadata": {},
     "output_type": "execute_result"
    }
   ],
   "source": [
    "test_independence([kernel_dict['d1'], kernel_dict['d2'], kernel_dict['d3']], n_perms=1000, alpha=0.05)"
   ]
  },
  {
   "cell_type": "markdown",
   "id": "e281fc15",
   "metadata": {
    "tags": []
   },
   "source": [
    "# multi-normal data, S = 0.01"
   ]
  },
  {
   "cell_type": "code",
   "execution_count": 13,
   "id": "e63dcbd4",
   "metadata": {},
   "outputs": [],
   "source": [
    "data_df = make_iid_example('multi-normal', s = 0.01)"
   ]
  },
  {
   "cell_type": "code",
   "execution_count": 16,
   "id": "e283179c",
   "metadata": {},
   "outputs": [],
   "source": [
    "data_dict, kernel_dict = compute_kernel(data_df)"
   ]
  },
  {
   "cell_type": "code",
   "execution_count": 17,
   "id": "a8e947a6",
   "metadata": {},
   "outputs": [
    {
     "data": {
      "text/plain": [
       "(0.0017278482088732838, 0.004842012134713469, 0)"
      ]
     },
     "execution_count": 17,
     "metadata": {},
     "output_type": "execute_result"
    }
   ],
   "source": [
    "test_independence([kernel_dict['d1'], kernel_dict['d2']], n_perms=100, alpha=0.05)"
   ]
  },
  {
   "cell_type": "code",
   "execution_count": 18,
   "id": "b89ad38a",
   "metadata": {},
   "outputs": [
    {
     "data": {
      "text/plain": [
       "(0.0016071037474718608, 0.004114489512150432, 0)"
      ]
     },
     "execution_count": 18,
     "metadata": {},
     "output_type": "execute_result"
    }
   ],
   "source": [
    "test_independence([kernel_dict['d1'], kernel_dict['d3']], n_perms=100, alpha=0.05)"
   ]
  },
  {
   "cell_type": "code",
   "execution_count": 19,
   "id": "8a5eda3b",
   "metadata": {},
   "outputs": [
    {
     "data": {
      "text/plain": [
       "(0.001198240010647833, 0.003850132562742803, 0)"
      ]
     },
     "execution_count": 19,
     "metadata": {},
     "output_type": "execute_result"
    }
   ],
   "source": [
    "test_independence([kernel_dict['d3'], kernel_dict['d2']], n_perms=100, alpha=0.05)"
   ]
  },
  {
   "cell_type": "code",
   "execution_count": 20,
   "id": "4826fb24",
   "metadata": {},
   "outputs": [
    {
     "data": {
      "text/plain": [
       "(0.0032659564347825576, 0.007843157200729367, 0)"
      ]
     },
     "execution_count": 20,
     "metadata": {},
     "output_type": "execute_result"
    }
   ],
   "source": [
    "test_independence([kernel_dict['d1'], kernel_dict['d2'], kernel_dict['d3']], n_perms=50, alpha=0.05)"
   ]
  },
  {
   "cell_type": "markdown",
   "id": "a811f938",
   "metadata": {
    "tags": []
   },
   "source": [
    "# higher-order data; S = 0.5"
   ]
  },
  {
   "cell_type": "code",
   "execution_count": 83,
   "id": "b8cbb83f",
   "metadata": {},
   "outputs": [],
   "source": [
    "data_df = make_iid_example('higher-order', s = 0.6)"
   ]
  },
  {
   "cell_type": "code",
   "execution_count": 84,
   "id": "1e8d6a81",
   "metadata": {},
   "outputs": [],
   "source": [
    "data_dict, kernel_dict = compute_kernel(data_df)"
   ]
  },
  {
   "cell_type": "code",
   "execution_count": 85,
   "id": "96ff7b4b",
   "metadata": {},
   "outputs": [
    {
     "data": {
      "text/plain": [
       "(0.0006944484189721489, 0.004337485209658709, 0)"
      ]
     },
     "execution_count": 85,
     "metadata": {},
     "output_type": "execute_result"
    }
   ],
   "source": [
    "test_independence([kernel_dict['d1'], kernel_dict['d2']], n_perms=100, alpha=0.05)"
   ]
  },
  {
   "cell_type": "code",
   "execution_count": 86,
   "id": "4542f2a3",
   "metadata": {},
   "outputs": [
    {
     "data": {
      "text/plain": [
       "(0.0012747768307277418, 0.004688985410978508, 0)"
      ]
     },
     "execution_count": 86,
     "metadata": {},
     "output_type": "execute_result"
    }
   ],
   "source": [
    "test_independence([kernel_dict['d1'], kernel_dict['d3']], n_perms=100, alpha=0.05)"
   ]
  },
  {
   "cell_type": "code",
   "execution_count": 87,
   "id": "92b11299",
   "metadata": {},
   "outputs": [
    {
     "data": {
      "text/plain": [
       "(0.001522406258980591, 0.004121995671024448, 0)"
      ]
     },
     "execution_count": 87,
     "metadata": {},
     "output_type": "execute_result"
    }
   ],
   "source": [
    "test_independence([kernel_dict['d3'], kernel_dict['d2']], n_perms=100, alpha=0.05)"
   ]
  },
  {
   "cell_type": "code",
   "execution_count": 88,
   "id": "576527f4",
   "metadata": {},
   "outputs": [
    {
     "data": {
      "text/plain": [
       "(0.007368907157075333, 0.0063171277642197765, 1)"
      ]
     },
     "execution_count": 88,
     "metadata": {},
     "output_type": "execute_result"
    }
   ],
   "source": [
    "test_independence([kernel_dict['d1'], kernel_dict['d2'], kernel_dict['d3']], n_perms=50, alpha=0.05)"
   ]
  },
  {
   "cell_type": "code",
   "execution_count": null,
   "id": "c43e1234",
   "metadata": {},
   "outputs": [],
   "source": []
  },
  {
   "cell_type": "markdown",
   "id": "3527604d",
   "metadata": {
    "tags": []
   },
   "source": [
    "# interpolated; S = 0.3"
   ]
  },
  {
   "cell_type": "code",
   "execution_count": 95,
   "id": "b304fd29",
   "metadata": {},
   "outputs": [],
   "source": [
    "data_df = make_iid_example('interpolated', s = 0.3)"
   ]
  },
  {
   "cell_type": "code",
   "execution_count": 96,
   "id": "cdfd6463",
   "metadata": {},
   "outputs": [],
   "source": [
    "data_dict, kernel_dict = compute_kernel(data_df)"
   ]
  },
  {
   "cell_type": "code",
   "execution_count": 97,
   "id": "1f93e9ce",
   "metadata": {},
   "outputs": [
    {
     "data": {
      "text/plain": [
       "(0.0024423595474469817, 0.004647639711442664, 0)"
      ]
     },
     "execution_count": 97,
     "metadata": {},
     "output_type": "execute_result"
    }
   ],
   "source": [
    "test_independence([kernel_dict['d1'], kernel_dict['d2']], n_perms=100, alpha=0.05)"
   ]
  },
  {
   "cell_type": "code",
   "execution_count": 98,
   "id": "d21286f6",
   "metadata": {},
   "outputs": [
    {
     "data": {
      "text/plain": [
       "(0.005089925274446072, 0.0034471508094522374, 1)"
      ]
     },
     "execution_count": 98,
     "metadata": {},
     "output_type": "execute_result"
    }
   ],
   "source": [
    "test_independence([kernel_dict['d1'], kernel_dict['d3']], n_perms=100, alpha=0.05)"
   ]
  },
  {
   "cell_type": "code",
   "execution_count": 99,
   "id": "3b35948c",
   "metadata": {},
   "outputs": [
    {
     "data": {
      "text/plain": [
       "(0.0025824951419427533, 0.00411072069783569, 0)"
      ]
     },
     "execution_count": 99,
     "metadata": {},
     "output_type": "execute_result"
    }
   ],
   "source": [
    "test_independence([kernel_dict['d3'], kernel_dict['d2']], n_perms=100, alpha=0.05)"
   ]
  },
  {
   "cell_type": "code",
   "execution_count": 100,
   "id": "9cbcc673",
   "metadata": {},
   "outputs": [
    {
     "data": {
      "text/plain": [
       "(0.005947573691364005, 0.006876821572011083, 0)"
      ]
     },
     "execution_count": 100,
     "metadata": {},
     "output_type": "execute_result"
    }
   ],
   "source": [
    "test_independence([kernel_dict['d1'], kernel_dict['d2'], kernel_dict['d3']], n_perms=50, alpha=0.05)"
   ]
  },
  {
   "cell_type": "code",
   "execution_count": null,
   "id": "aaa82fd7",
   "metadata": {},
   "outputs": [],
   "source": []
  },
  {
   "cell_type": "markdown",
   "id": "4846e788",
   "metadata": {
    "tags": []
   },
   "source": [
    "# interpolated; S = 0.42"
   ]
  },
  {
   "cell_type": "code",
   "execution_count": 159,
   "id": "5c34c5a2",
   "metadata": {},
   "outputs": [],
   "source": [
    "data_df = make_iid_example('interpolated', s = 0.42)"
   ]
  },
  {
   "cell_type": "code",
   "execution_count": 160,
   "id": "0593ba3f",
   "metadata": {},
   "outputs": [],
   "source": [
    "data_dict, kernel_dict = compute_kernel(data_df)"
   ]
  },
  {
   "cell_type": "code",
   "execution_count": 161,
   "id": "df0a8636",
   "metadata": {},
   "outputs": [
    {
     "data": {
      "text/plain": [
       "(0.002752515156401958, 0.00419199666853276, 0)"
      ]
     },
     "execution_count": 161,
     "metadata": {},
     "output_type": "execute_result"
    }
   ],
   "source": [
    "test_independence([kernel_dict['d1'], kernel_dict['d2']], n_perms=1000, alpha=0.05)"
   ]
  },
  {
   "cell_type": "code",
   "execution_count": 162,
   "id": "2141b655",
   "metadata": {},
   "outputs": [
    {
     "data": {
      "text/plain": [
       "(0.001399464528044625, 0.0038643192170724205, 0)"
      ]
     },
     "execution_count": 162,
     "metadata": {},
     "output_type": "execute_result"
    }
   ],
   "source": [
    "test_independence([kernel_dict['d1'], kernel_dict['d3']], n_perms=1000, alpha=0.05)"
   ]
  },
  {
   "cell_type": "code",
   "execution_count": 163,
   "id": "e6b9afda",
   "metadata": {},
   "outputs": [
    {
     "data": {
      "text/plain": [
       "(0.0054425068191708, 0.004138935279364153, 1)"
      ]
     },
     "execution_count": 163,
     "metadata": {},
     "output_type": "execute_result"
    }
   ],
   "source": [
    "test_independence([kernel_dict['d3'], kernel_dict['d2']], n_perms=1000, alpha=0.05)"
   ]
  },
  {
   "cell_type": "code",
   "execution_count": 164,
   "id": "6f247f7c",
   "metadata": {},
   "outputs": [
    {
     "data": {
      "text/plain": [
       "(0.005447645936407619, 0.006324826755856772, 0)"
      ]
     },
     "execution_count": 164,
     "metadata": {},
     "output_type": "execute_result"
    }
   ],
   "source": [
    "test_independence([kernel_dict['d1'], kernel_dict['d2'], kernel_dict['d3']], n_perms=1000, alpha=0.05)"
   ]
  },
  {
   "cell_type": "code",
   "execution_count": null,
   "id": "d56791ed",
   "metadata": {},
   "outputs": [],
   "source": []
  },
  {
   "cell_type": "markdown",
   "id": "633d7117",
   "metadata": {
    "tags": []
   },
   "source": [
    "# interpolated; S = 0.42"
   ]
  },
  {
   "cell_type": "code",
   "execution_count": 42,
   "id": "bee85afe",
   "metadata": {},
   "outputs": [],
   "source": [
    "data_df = make_iid_example('interpolated', s = 0.3)"
   ]
  },
  {
   "cell_type": "code",
   "execution_count": 43,
   "id": "b77363ea",
   "metadata": {},
   "outputs": [],
   "source": [
    "data_dict, kernel_dict = compute_kernel(data_df)"
   ]
  },
  {
   "cell_type": "code",
   "execution_count": 44,
   "id": "fd452873",
   "metadata": {},
   "outputs": [
    {
     "data": {
      "text/plain": [
       "(0.003489291628939184, 0.003844612210234244, 0)"
      ]
     },
     "execution_count": 44,
     "metadata": {},
     "output_type": "execute_result"
    }
   ],
   "source": [
    "test_independence([kernel_dict['d1'], kernel_dict['d2']], n_perms=5000, alpha=0.05)"
   ]
  },
  {
   "cell_type": "code",
   "execution_count": 45,
   "id": "0bb431a1",
   "metadata": {},
   "outputs": [
    {
     "data": {
      "text/plain": [
       "(0.002444563781906939, 0.003849271676652277, 0)"
      ]
     },
     "execution_count": 45,
     "metadata": {},
     "output_type": "execute_result"
    }
   ],
   "source": [
    "test_independence([kernel_dict['d1'], kernel_dict['d3']], n_perms=5000, alpha=0.05)"
   ]
  },
  {
   "cell_type": "code",
   "execution_count": 46,
   "id": "c3f0a69a",
   "metadata": {},
   "outputs": [
    {
     "data": {
      "text/plain": [
       "(0.002993437834578505, 0.00396435225818581, 0)"
      ]
     },
     "execution_count": 46,
     "metadata": {},
     "output_type": "execute_result"
    }
   ],
   "source": [
    "test_independence([kernel_dict['d3'], kernel_dict['d2']], n_perms=5000, alpha=0.05)"
   ]
  },
  {
   "cell_type": "code",
   "execution_count": 47,
   "id": "50467a1e",
   "metadata": {},
   "outputs": [
    {
     "data": {
      "text/plain": [
       "(0.0060342094792866785, 0.006228593903612412, 0)"
      ]
     },
     "execution_count": 47,
     "metadata": {},
     "output_type": "execute_result"
    }
   ],
   "source": [
    "test_independence([kernel_dict['d1'], kernel_dict['d2'], kernel_dict['d3']], n_perms=5000, alpha=0.05)"
   ]
  },
  {
   "cell_type": "code",
   "execution_count": null,
   "id": "a3ba1b17",
   "metadata": {},
   "outputs": [],
   "source": []
  }
 ],
 "metadata": {
  "kernelspec": {
   "display_name": "Python 3 (ipykernel)",
   "language": "python",
   "name": "python3"
  },
  "language_info": {
   "codemirror_mode": {
    "name": "ipython",
    "version": 3
   },
   "file_extension": ".py",
   "mimetype": "text/x-python",
   "name": "python",
   "nbconvert_exporter": "python",
   "pygments_lexer": "ipython3",
   "version": "3.10.4"
  }
 },
 "nbformat": 4,
 "nbformat_minor": 5
}

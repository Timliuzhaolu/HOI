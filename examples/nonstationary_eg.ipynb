{
 "cells": [
  {
   "cell_type": "code",
   "execution_count": 15,
   "id": "001a66f7-f64b-479d-a98b-3eb8d3594957",
   "metadata": {},
   "outputs": [
    {
     "name": "stdout",
     "output_type": "stream",
     "text": [
      "The autoreload extension is already loaded. To reload it, use:\n",
      "  %reload_ext autoreload\n"
     ]
    }
   ],
   "source": [
    "%load_ext autoreload\n",
    "%autoreload 2"
   ]
  },
  {
   "cell_type": "code",
   "execution_count": 16,
   "id": "e8de70d7-85cd-4319-aa59-4bf0d2ed7488",
   "metadata": {},
   "outputs": [],
   "source": [
    "import sys\n",
    "sys.path.append('/Users/Tim/PycharmProjects/HOI/')"
   ]
  },
  {
   "cell_type": "code",
   "execution_count": 114,
   "id": "e78112ca-57fb-4177-81c8-b9eebaf8ae0d",
   "metadata": {},
   "outputs": [],
   "source": [
    "import numba\n",
    "import pandas as pd\n",
    "import numpy as np\n",
    "from tqdm.notebook import tqdm\n",
    "from ipywidgets import IntProgress\n",
    "import itertools\n",
    "\n",
    "import matplotlib.pyplot as plt\n",
    "from numpy import sign, sin, cos, pi\n",
    "from numpy.random import normal, randn"
   ]
  },
  {
   "cell_type": "code",
   "execution_count": 28,
   "id": "3b56efd5-d142-46cf-adb1-9dbea81c97f8",
   "metadata": {},
   "outputs": [],
   "source": [
    "from synthetic_data import stationary_pb_ts, nonstationary_ts_n, stationary_pb_ts_n, nonstat_egs\n",
    "from HOI.preprocessings import compute_kernel, compute_kernel_n\n",
    "from HOI.tests import test_independence"
   ]
  },
  {
   "cell_type": "code",
   "execution_count": 112,
   "id": "6f56c462-e384-4b1c-bfc7-537f0b07bf1d",
   "metadata": {},
   "outputs": [],
   "source": [
    "def find_comb(var):\n",
    "    power_set = []\n",
    "    for L in range(len(var) + 1):\n",
    "        for subset in itertools.combinations(var, L):\n",
    "            if len(subset) >= 2:\n",
    "                power_set.append(list(subset))\n",
    "    return power_set"
   ]
  },
  {
   "cell_type": "code",
   "execution_count": null,
   "id": "8ffd0f0a-efeb-40a8-a99a-946df6be9fc5",
   "metadata": {},
   "outputs": [],
   "source": []
  },
  {
   "cell_type": "markdown",
   "id": "42433384-2390-4c36-aa63-48987d0fa55d",
   "metadata": {},
   "source": [
    "# triangle"
   ]
  },
  {
   "cell_type": "markdown",
   "id": "47114520-a60c-4c94-a75b-f93a5efd0910",
   "metadata": {
    "jp-MarkdownHeadingCollapsed": true,
    "tags": []
   },
   "source": [
    "## case2, z = x+y, gt_rejects = [1, 0, 1, 1]"
   ]
  },
  {
   "cell_type": "code",
   "execution_count": 8,
   "id": "5e616466",
   "metadata": {
    "collapsed": true,
    "jupyter": {
     "outputs_hidden": true
    },
    "tags": []
   },
   "outputs": [
    {
     "data": {
      "application/vnd.jupyter.widget-view+json": {
       "model_id": "f14fab24538c477bb5458049084f8ba8",
       "version_major": 2,
       "version_minor": 0
      },
      "text/plain": [
       "  0%|          | 0/9 [00:00<?, ?it/s]"
      ]
     },
     "metadata": {},
     "output_type": "display_data"
    },
    {
     "data": {
      "application/vnd.jupyter.widget-view+json": {
       "model_id": "7a085ab5be1f4ef2a0d9cf0b53d12a31",
       "version_major": 2,
       "version_minor": 0
      },
      "text/plain": [
       "  0%|          | 0/100 [00:00<?, ?it/s]"
      ]
     },
     "metadata": {},
     "output_type": "display_data"
    },
    {
     "name": "stdout",
     "output_type": "stream",
     "text": [
      "{'0.1': 0.59}\n"
     ]
    },
    {
     "data": {
      "application/vnd.jupyter.widget-view+json": {
       "model_id": "2ad4293e0a5543e599ec2048bbb82072",
       "version_major": 2,
       "version_minor": 0
      },
      "text/plain": [
       "  0%|          | 0/100 [00:00<?, ?it/s]"
      ]
     },
     "metadata": {},
     "output_type": "display_data"
    },
    {
     "name": "stdout",
     "output_type": "stream",
     "text": [
      "{'0.1': 0.59, '0.2': 1.0}\n"
     ]
    },
    {
     "data": {
      "application/vnd.jupyter.widget-view+json": {
       "model_id": "95e16110693144d89ce02d5dc5a1844d",
       "version_major": 2,
       "version_minor": 0
      },
      "text/plain": [
       "  0%|          | 0/100 [00:00<?, ?it/s]"
      ]
     },
     "metadata": {},
     "output_type": "display_data"
    },
    {
     "name": "stdout",
     "output_type": "stream",
     "text": [
      "{'0.1': 0.59, '0.2': 1.0, '0.30000000000000004': 1.0}\n"
     ]
    },
    {
     "data": {
      "application/vnd.jupyter.widget-view+json": {
       "model_id": "3db7174718d1461791f3123fee2a17a1",
       "version_major": 2,
       "version_minor": 0
      },
      "text/plain": [
       "  0%|          | 0/100 [00:00<?, ?it/s]"
      ]
     },
     "metadata": {},
     "output_type": "display_data"
    },
    {
     "ename": "KeyboardInterrupt",
     "evalue": "",
     "output_type": "error",
     "traceback": [
      "\u001b[0;31m---------------------------------------------------------------------------\u001b[0m",
      "\u001b[0;31mKeyboardInterrupt\u001b[0m                         Traceback (most recent call last)",
      "Input \u001b[0;32mIn [8]\u001b[0m, in \u001b[0;36m<cell line: 2>\u001b[0;34m()\u001b[0m\n\u001b[1;32m      7\u001b[0m     kd2 \u001b[38;5;241m=\u001b[39m compute_kernel_n(d2)\n\u001b[1;32m      8\u001b[0m     kd3 \u001b[38;5;241m=\u001b[39m compute_kernel_n(d3)\n\u001b[0;32m----> 9\u001b[0m     _, _, _, reject \u001b[38;5;241m=\u001b[39m \u001b[43mtest_independence\u001b[49m\u001b[43m(\u001b[49m\u001b[43m[\u001b[49m\u001b[43mkd1\u001b[49m\u001b[43m,\u001b[49m\u001b[43m \u001b[49m\u001b[43mkd2\u001b[49m\u001b[43m,\u001b[49m\u001b[43m \u001b[49m\u001b[43mkd3\u001b[49m\u001b[43m]\u001b[49m\u001b[43m,\u001b[49m\u001b[38;5;28;43;01mNone\u001b[39;49;00m\u001b[43m,\u001b[49m\u001b[43m \u001b[49m\u001b[43mmode\u001b[49m\u001b[43m \u001b[49m\u001b[38;5;241;43m=\u001b[39;49m\u001b[43m \u001b[49m\u001b[38;5;124;43m'\u001b[39;49m\u001b[38;5;124;43mpermutation\u001b[39;49m\u001b[38;5;124;43m'\u001b[39;49m\u001b[43m,\u001b[49m\u001b[43m \u001b[49m\u001b[43mn_perms\u001b[49m\u001b[38;5;241;43m=\u001b[39;49m\u001b[38;5;241;43m1000\u001b[39;49m\u001b[43m,\u001b[49m\u001b[43m \u001b[49m\u001b[43malpha\u001b[49m\u001b[38;5;241;43m=\u001b[39;49m\u001b[38;5;241;43m0.05\u001b[39;49m\u001b[43m)\u001b[49m\n\u001b[1;32m     10\u001b[0m     rejects \u001b[38;5;241m=\u001b[39m rejects \u001b[38;5;241m+\u001b[39m reject\n\u001b[1;32m     11\u001b[0m power[\u001b[38;5;28mstr\u001b[39m(d)] \u001b[38;5;241m=\u001b[39m rejects\u001b[38;5;241m/\u001b[39m\u001b[38;5;241m100\u001b[39m\n",
      "File \u001b[0;32m/Users/Tim/PycharmProjects/HOI/HOI/tests.py:237\u001b[0m, in \u001b[0;36mtest_independence\u001b[0;34m(k_list, data_list, n_perms, alpha, mode)\u001b[0m\n\u001b[1;32m    235\u001b[0m \u001b[38;5;28;01mif\u001b[39;00m mode \u001b[38;5;241m==\u001b[39m \u001b[38;5;124m'\u001b[39m\u001b[38;5;124mpermutation\u001b[39m\u001b[38;5;124m'\u001b[39m:\n\u001b[1;32m    236\u001b[0m     statistic \u001b[38;5;241m=\u001b[39m compute_dHSIC_statistics(k_list)\n\u001b[0;32m--> 237\u001b[0m     critical_value, pval \u001b[38;5;241m=\u001b[39m \u001b[43mdhsic_permutation\u001b[49m\u001b[43m(\u001b[49m\u001b[43mk_list\u001b[49m\u001b[43m,\u001b[49m\u001b[43m \u001b[49m\u001b[43mn_samples\u001b[49m\u001b[43m,\u001b[49m\u001b[43m \u001b[49m\u001b[43mn_variables\u001b[49m\u001b[43m,\u001b[49m\u001b[43m \u001b[49m\u001b[43mstatistic\u001b[49m\u001b[43m,\u001b[49m\u001b[43m \u001b[49m\u001b[43mn_perms\u001b[49m\u001b[43m,\u001b[49m\u001b[43m \u001b[49m\u001b[43malpha\u001b[49m\u001b[43m)\u001b[49m\n\u001b[1;32m    238\u001b[0m     reject \u001b[38;5;241m=\u001b[39m \u001b[38;5;28mint\u001b[39m(statistic \u001b[38;5;241m>\u001b[39m critical_value)\n\u001b[1;32m    239\u001b[0m     \u001b[38;5;28;01mreturn\u001b[39;00m statistic, critical_value, pval, reject\n",
      "File \u001b[0;32m/Users/Tim/PycharmProjects/HOI/HOI/tests.py:33\u001b[0m, in \u001b[0;36mdhsic_permutation\u001b[0;34m(k_list, n_samples, n_variables, stat_found, n_perms, alpha)\u001b[0m\n\u001b[1;32m     30\u001b[0m index_perm \u001b[38;5;241m=\u001b[39m np\u001b[38;5;241m.\u001b[39mrandom\u001b[38;5;241m.\u001b[39mpermutation(k_list[j]\u001b[38;5;241m.\u001b[39mshape[\u001b[38;5;241m0\u001b[39m])\n\u001b[1;32m     31\u001b[0m k_perm \u001b[38;5;241m=\u001b[39m k_list[j][index_perm, index_perm[:, \u001b[38;5;28;01mNone\u001b[39;00m]]\n\u001b[0;32m---> 33\u001b[0m term1 \u001b[38;5;241m=\u001b[39m \u001b[43mterm1\u001b[49m\u001b[43m \u001b[49m\u001b[38;5;241;43m*\u001b[39;49m\u001b[43m \u001b[49m\u001b[43mk_perm\u001b[49m\n\u001b[1;32m     34\u001b[0m term2 \u001b[38;5;241m=\u001b[39m term2 \u001b[38;5;241m*\u001b[39m np\u001b[38;5;241m.\u001b[39msum(k_perm) \u001b[38;5;241m/\u001b[39m (n_samples \u001b[38;5;241m*\u001b[39m\u001b[38;5;241m*\u001b[39m \u001b[38;5;241m2\u001b[39m)\n\u001b[1;32m     35\u001b[0m term3 \u001b[38;5;241m=\u001b[39m term3 \u001b[38;5;241m*\u001b[39m np\u001b[38;5;241m.\u001b[39msum(k_perm, axis\u001b[38;5;241m=\u001b[39m\u001b[38;5;241m0\u001b[39m) \u001b[38;5;241m/\u001b[39m n_samples\n",
      "\u001b[0;31mKeyboardInterrupt\u001b[0m: "
     ]
    }
   ],
   "source": [
    "power ={}\n",
    "for d in tqdm(np.arange(0.1, 1, 0.1)):\n",
    "    rejects = 0\n",
    "    for i in tqdm(np.arange(100)):\n",
    "        d1, d2, _, d3 = nonstationary_ts_n(n_sample=300, t_time=5, d=d, mode='case2', a=0.5, order=3)\n",
    "        kd1 = compute_kernel_n(d1)\n",
    "        kd2 = compute_kernel_n(d2)\n",
    "        kd3 = compute_kernel_n(d3)\n",
    "        _, _, _, reject = test_independence([kd1, kd2, kd3],None, mode = 'permutation', n_perms=1000, alpha=0.05)\n",
    "        rejects = rejects + reject\n",
    "    power[str(d)] = rejects/100\n",
    "    print(power)"
   ]
  },
  {
   "cell_type": "markdown",
   "id": "e72d911f-c1a9-4331-8220-2a0524f615a2",
   "metadata": {
    "jp-MarkdownHeadingCollapsed": true,
    "tags": []
   },
   "source": [
    "# case1, z = xy, gt_rejects = [1, 0, 0, 0]"
   ]
  },
  {
   "cell_type": "code",
   "execution_count": 17,
   "id": "fdfb9a48-48f5-4529-8feb-b52ed59f5d79",
   "metadata": {
    "collapsed": true,
    "jupyter": {
     "outputs_hidden": true
    },
    "tags": []
   },
   "outputs": [
    {
     "data": {
      "application/vnd.jupyter.widget-view+json": {
       "model_id": "9587ebb1e5f640bebdc941e3d51b1d67",
       "version_major": 2,
       "version_minor": 0
      },
      "text/plain": [
       "  0%|          | 0/9 [00:00<?, ?it/s]"
      ]
     },
     "metadata": {},
     "output_type": "display_data"
    },
    {
     "data": {
      "application/vnd.jupyter.widget-view+json": {
       "model_id": "c30cca55920d49b0803aae38d7df052d",
       "version_major": 2,
       "version_minor": 0
      },
      "text/plain": [
       "  0%|          | 0/100 [00:00<?, ?it/s]"
      ]
     },
     "metadata": {},
     "output_type": "display_data"
    },
    {
     "name": "stdout",
     "output_type": "stream",
     "text": [
      "{'0.01': 0.11}\n"
     ]
    },
    {
     "data": {
      "application/vnd.jupyter.widget-view+json": {
       "model_id": "646f67e35f834c5bbd13a4f98a1e0a5c",
       "version_major": 2,
       "version_minor": 0
      },
      "text/plain": [
       "  0%|          | 0/100 [00:00<?, ?it/s]"
      ]
     },
     "metadata": {},
     "output_type": "display_data"
    },
    {
     "name": "stdout",
     "output_type": "stream",
     "text": [
      "{'0.01': 0.11, '0.02': 0.1}\n"
     ]
    },
    {
     "data": {
      "application/vnd.jupyter.widget-view+json": {
       "model_id": "89eb08c15a994339be9dda092a812e3f",
       "version_major": 2,
       "version_minor": 0
      },
      "text/plain": [
       "  0%|          | 0/100 [00:00<?, ?it/s]"
      ]
     },
     "metadata": {},
     "output_type": "display_data"
    },
    {
     "name": "stdout",
     "output_type": "stream",
     "text": [
      "{'0.01': 0.11, '0.02': 0.1, '0.03': 0.47}\n"
     ]
    },
    {
     "data": {
      "application/vnd.jupyter.widget-view+json": {
       "model_id": "52b1571dd3e04216b40f87e7052a955e",
       "version_major": 2,
       "version_minor": 0
      },
      "text/plain": [
       "  0%|          | 0/100 [00:00<?, ?it/s]"
      ]
     },
     "metadata": {},
     "output_type": "display_data"
    },
    {
     "name": "stdout",
     "output_type": "stream",
     "text": [
      "{'0.01': 0.11, '0.02': 0.1, '0.03': 0.47, '0.04': 0.86}\n"
     ]
    },
    {
     "data": {
      "application/vnd.jupyter.widget-view+json": {
       "model_id": "1eb8462d25b246768d29557665db2cd3",
       "version_major": 2,
       "version_minor": 0
      },
      "text/plain": [
       "  0%|          | 0/100 [00:00<?, ?it/s]"
      ]
     },
     "metadata": {},
     "output_type": "display_data"
    },
    {
     "name": "stdout",
     "output_type": "stream",
     "text": [
      "{'0.01': 0.11, '0.02': 0.1, '0.03': 0.47, '0.04': 0.86, '0.05': 0.99}\n"
     ]
    },
    {
     "data": {
      "application/vnd.jupyter.widget-view+json": {
       "model_id": "510a0ee1411749e29fd53c28b929166f",
       "version_major": 2,
       "version_minor": 0
      },
      "text/plain": [
       "  0%|          | 0/100 [00:00<?, ?it/s]"
      ]
     },
     "metadata": {},
     "output_type": "display_data"
    },
    {
     "name": "stdout",
     "output_type": "stream",
     "text": [
      "{'0.01': 0.11, '0.02': 0.1, '0.03': 0.47, '0.04': 0.86, '0.05': 0.99, '0.060000000000000005': 1.0}\n"
     ]
    },
    {
     "data": {
      "application/vnd.jupyter.widget-view+json": {
       "model_id": "d4d85bc70982473689d28aa6b9541fb7",
       "version_major": 2,
       "version_minor": 0
      },
      "text/plain": [
       "  0%|          | 0/100 [00:00<?, ?it/s]"
      ]
     },
     "metadata": {},
     "output_type": "display_data"
    },
    {
     "name": "stdout",
     "output_type": "stream",
     "text": [
      "{'0.01': 0.11, '0.02': 0.1, '0.03': 0.47, '0.04': 0.86, '0.05': 0.99, '0.060000000000000005': 1.0, '0.06999999999999999': 1.0}\n"
     ]
    },
    {
     "data": {
      "application/vnd.jupyter.widget-view+json": {
       "model_id": "50f8d6387ca248e7b82b6cf1cb43b6f5",
       "version_major": 2,
       "version_minor": 0
      },
      "text/plain": [
       "  0%|          | 0/100 [00:00<?, ?it/s]"
      ]
     },
     "metadata": {},
     "output_type": "display_data"
    },
    {
     "name": "stdout",
     "output_type": "stream",
     "text": [
      "{'0.01': 0.11, '0.02': 0.1, '0.03': 0.47, '0.04': 0.86, '0.05': 0.99, '0.060000000000000005': 1.0, '0.06999999999999999': 1.0, '0.08': 1.0}\n"
     ]
    },
    {
     "data": {
      "application/vnd.jupyter.widget-view+json": {
       "model_id": "35af0a62ef3e463d9ebb7b8f683bb974",
       "version_major": 2,
       "version_minor": 0
      },
      "text/plain": [
       "  0%|          | 0/100 [00:00<?, ?it/s]"
      ]
     },
     "metadata": {},
     "output_type": "display_data"
    },
    {
     "name": "stdout",
     "output_type": "stream",
     "text": [
      "{'0.01': 0.11, '0.02': 0.1, '0.03': 0.47, '0.04': 0.86, '0.05': 0.99, '0.060000000000000005': 1.0, '0.06999999999999999': 1.0, '0.08': 1.0, '0.09': 1.0}\n"
     ]
    }
   ],
   "source": [
    "power ={}\n",
    "for d in tqdm(np.arange(0.01, 0.1, 0.01)):\n",
    "    rejects = 0\n",
    "    for i in tqdm(np.arange(100)):\n",
    "        d1, d2, _, d3 = nonstationary_ts_n(n_sample=400, t_time=10, d=d, mode='case1', a=0.5, order=3)\n",
    "        kd1 = compute_kernel_n(d1)\n",
    "        kd2 = compute_kernel_n(d2)\n",
    "        kd3 = compute_kernel_n(d3)\n",
    "        _, _, _, reject = test_independence([kd1, kd2, kd3],None, mode = 'permutation', n_perms=1000, alpha=0.05)\n",
    "        rejects = rejects + reject\n",
    "    power[str(d)] = rejects/100\n",
    "    print(power)"
   ]
  },
  {
   "cell_type": "code",
   "execution_count": 18,
   "id": "2c8c687b-600e-40c3-9df3-74b50089a8c6",
   "metadata": {
    "collapsed": true,
    "jupyter": {
     "outputs_hidden": true
    },
    "tags": []
   },
   "outputs": [
    {
     "data": {
      "application/vnd.jupyter.widget-view+json": {
       "model_id": "40b33f53a8e747eda219d389baafa973",
       "version_major": 2,
       "version_minor": 0
      },
      "text/plain": [
       "  0%|          | 0/9 [00:00<?, ?it/s]"
      ]
     },
     "metadata": {},
     "output_type": "display_data"
    },
    {
     "data": {
      "application/vnd.jupyter.widget-view+json": {
       "model_id": "bbed2f6cf8f04865a5633dd9c95bd80f",
       "version_major": 2,
       "version_minor": 0
      },
      "text/plain": [
       "  0%|          | 0/100 [00:00<?, ?it/s]"
      ]
     },
     "metadata": {},
     "output_type": "display_data"
    },
    {
     "name": "stdout",
     "output_type": "stream",
     "text": [
      "{'0.01': 0.08}\n"
     ]
    },
    {
     "data": {
      "application/vnd.jupyter.widget-view+json": {
       "model_id": "925852798516453bb1d85ba48560bce8",
       "version_major": 2,
       "version_minor": 0
      },
      "text/plain": [
       "  0%|          | 0/100 [00:00<?, ?it/s]"
      ]
     },
     "metadata": {},
     "output_type": "display_data"
    },
    {
     "name": "stdout",
     "output_type": "stream",
     "text": [
      "{'0.01': 0.08, '0.02': 0.19}\n"
     ]
    },
    {
     "data": {
      "application/vnd.jupyter.widget-view+json": {
       "model_id": "f4c2fd4f69e44bf3b1eeec773ffe33a7",
       "version_major": 2,
       "version_minor": 0
      },
      "text/plain": [
       "  0%|          | 0/100 [00:00<?, ?it/s]"
      ]
     },
     "metadata": {},
     "output_type": "display_data"
    },
    {
     "name": "stdout",
     "output_type": "stream",
     "text": [
      "{'0.01': 0.08, '0.02': 0.19, '0.03': 0.72}\n"
     ]
    },
    {
     "data": {
      "application/vnd.jupyter.widget-view+json": {
       "model_id": "26785a793d0d4510b8b04cf778010e23",
       "version_major": 2,
       "version_minor": 0
      },
      "text/plain": [
       "  0%|          | 0/100 [00:00<?, ?it/s]"
      ]
     },
     "metadata": {},
     "output_type": "display_data"
    },
    {
     "name": "stdout",
     "output_type": "stream",
     "text": [
      "{'0.01': 0.08, '0.02': 0.19, '0.03': 0.72, '0.04': 0.98}\n"
     ]
    },
    {
     "data": {
      "application/vnd.jupyter.widget-view+json": {
       "model_id": "77014b3ade604663a037b59e2d4d3031",
       "version_major": 2,
       "version_minor": 0
      },
      "text/plain": [
       "  0%|          | 0/100 [00:00<?, ?it/s]"
      ]
     },
     "metadata": {},
     "output_type": "display_data"
    },
    {
     "name": "stdout",
     "output_type": "stream",
     "text": [
      "{'0.01': 0.08, '0.02': 0.19, '0.03': 0.72, '0.04': 0.98, '0.05': 1.0}\n"
     ]
    },
    {
     "data": {
      "application/vnd.jupyter.widget-view+json": {
       "model_id": "394e783b2da74207add14899facf24f4",
       "version_major": 2,
       "version_minor": 0
      },
      "text/plain": [
       "  0%|          | 0/100 [00:00<?, ?it/s]"
      ]
     },
     "metadata": {},
     "output_type": "display_data"
    },
    {
     "name": "stdout",
     "output_type": "stream",
     "text": [
      "{'0.01': 0.08, '0.02': 0.19, '0.03': 0.72, '0.04': 0.98, '0.05': 1.0, '0.060000000000000005': 1.0}\n"
     ]
    },
    {
     "data": {
      "application/vnd.jupyter.widget-view+json": {
       "model_id": "7fa7f352221f4cacbb5339e334c1960d",
       "version_major": 2,
       "version_minor": 0
      },
      "text/plain": [
       "  0%|          | 0/100 [00:00<?, ?it/s]"
      ]
     },
     "metadata": {},
     "output_type": "display_data"
    },
    {
     "name": "stdout",
     "output_type": "stream",
     "text": [
      "{'0.01': 0.08, '0.02': 0.19, '0.03': 0.72, '0.04': 0.98, '0.05': 1.0, '0.060000000000000005': 1.0, '0.06999999999999999': 1.0}\n"
     ]
    },
    {
     "data": {
      "application/vnd.jupyter.widget-view+json": {
       "model_id": "634a1a710c9548459a8f289987a47822",
       "version_major": 2,
       "version_minor": 0
      },
      "text/plain": [
       "  0%|          | 0/100 [00:00<?, ?it/s]"
      ]
     },
     "metadata": {},
     "output_type": "display_data"
    },
    {
     "name": "stdout",
     "output_type": "stream",
     "text": [
      "{'0.01': 0.08, '0.02': 0.19, '0.03': 0.72, '0.04': 0.98, '0.05': 1.0, '0.060000000000000005': 1.0, '0.06999999999999999': 1.0, '0.08': 1.0}\n"
     ]
    },
    {
     "data": {
      "application/vnd.jupyter.widget-view+json": {
       "model_id": "6451a12048684b16bb76df520d23a894",
       "version_major": 2,
       "version_minor": 0
      },
      "text/plain": [
       "  0%|          | 0/100 [00:00<?, ?it/s]"
      ]
     },
     "metadata": {},
     "output_type": "display_data"
    },
    {
     "name": "stdout",
     "output_type": "stream",
     "text": [
      "{'0.01': 0.08, '0.02': 0.19, '0.03': 0.72, '0.04': 0.98, '0.05': 1.0, '0.060000000000000005': 1.0, '0.06999999999999999': 1.0, '0.08': 1.0, '0.09': 1.0}\n"
     ]
    }
   ],
   "source": [
    "power ={}\n",
    "for d in tqdm(np.arange(0.01, 0.1, 0.01)):\n",
    "    rejects = 0\n",
    "    for i in tqdm(np.arange(100)):\n",
    "        d1, d2, _, d3 = nonstationary_ts_n(n_sample=500, t_time=10, d=d, mode='case1', a=0.5, order=3)\n",
    "        kd1 = compute_kernel_n(d1)\n",
    "        kd2 = compute_kernel_n(d2)\n",
    "        kd3 = compute_kernel_n(d3)\n",
    "        _, _, _, reject = test_independence([kd1, kd2, kd3],None, mode = 'permutation', n_perms=1000, alpha=0.05)\n",
    "        rejects = rejects + reject\n",
    "    power[str(d)] = rejects/100\n",
    "    print(power)"
   ]
  },
  {
   "cell_type": "code",
   "execution_count": null,
   "id": "232bc44d-0333-43b2-9f8a-3d2b6f3c2430",
   "metadata": {},
   "outputs": [],
   "source": []
  },
  {
   "cell_type": "markdown",
   "id": "63967c1e-4959-4024-9bbb-2c4f0c8a65eb",
   "metadata": {},
   "source": [
    "## case 3, no edges, gt_rejects = [0, 0, 0, 0]"
   ]
  },
  {
   "cell_type": "code",
   "execution_count": 14,
   "id": "bed164a7-f6bd-48c8-98cd-7e41f71e1710",
   "metadata": {
    "tags": []
   },
   "outputs": [
    {
     "data": {
      "application/vnd.jupyter.widget-view+json": {
       "model_id": "ae9361a34b1846c6960ec4df25270c48",
       "version_major": 2,
       "version_minor": 0
      },
      "text/plain": [
       "  0%|          | 0/9 [00:00<?, ?it/s]"
      ]
     },
     "metadata": {},
     "output_type": "display_data"
    },
    {
     "data": {
      "application/vnd.jupyter.widget-view+json": {
       "model_id": "f02cd47c63cf4185afb7d30cf1de234f",
       "version_major": 2,
       "version_minor": 0
      },
      "text/plain": [
       "  0%|          | 0/100 [00:00<?, ?it/s]"
      ]
     },
     "metadata": {},
     "output_type": "display_data"
    },
    {
     "name": "stdout",
     "output_type": "stream",
     "text": [
      "{'1.0': 0.07}\n"
     ]
    },
    {
     "data": {
      "application/vnd.jupyter.widget-view+json": {
       "model_id": "171833da48b24b6895b7bae66a15f765",
       "version_major": 2,
       "version_minor": 0
      },
      "text/plain": [
       "  0%|          | 0/100 [00:00<?, ?it/s]"
      ]
     },
     "metadata": {},
     "output_type": "display_data"
    },
    {
     "name": "stdout",
     "output_type": "stream",
     "text": [
      "{'1.0': 0.07, '0.9': 0.02}\n"
     ]
    },
    {
     "data": {
      "application/vnd.jupyter.widget-view+json": {
       "model_id": "c231bb91bf2b444498b0d5624224b1ac",
       "version_major": 2,
       "version_minor": 0
      },
      "text/plain": [
       "  0%|          | 0/100 [00:00<?, ?it/s]"
      ]
     },
     "metadata": {},
     "output_type": "display_data"
    },
    {
     "name": "stdout",
     "output_type": "stream",
     "text": [
      "{'1.0': 0.07, '0.9': 0.02, '0.8': 0.05}\n"
     ]
    },
    {
     "data": {
      "application/vnd.jupyter.widget-view+json": {
       "model_id": "69b6108c654141968f7252c37aebf8c4",
       "version_major": 2,
       "version_minor": 0
      },
      "text/plain": [
       "  0%|          | 0/100 [00:00<?, ?it/s]"
      ]
     },
     "metadata": {},
     "output_type": "display_data"
    },
    {
     "name": "stdout",
     "output_type": "stream",
     "text": [
      "{'1.0': 0.07, '0.9': 0.02, '0.8': 0.05, '0.7000000000000001': 0.03}\n"
     ]
    },
    {
     "data": {
      "application/vnd.jupyter.widget-view+json": {
       "model_id": "7cbcaf067a114d86a2cd312a2d20ec6f",
       "version_major": 2,
       "version_minor": 0
      },
      "text/plain": [
       "  0%|          | 0/100 [00:00<?, ?it/s]"
      ]
     },
     "metadata": {},
     "output_type": "display_data"
    },
    {
     "name": "stdout",
     "output_type": "stream",
     "text": [
      "{'1.0': 0.07, '0.9': 0.02, '0.8': 0.05, '0.7000000000000001': 0.03, '0.6000000000000001': 0.08}\n"
     ]
    },
    {
     "data": {
      "application/vnd.jupyter.widget-view+json": {
       "model_id": "4975c4f240c34fafb2c7d9cb0e09a923",
       "version_major": 2,
       "version_minor": 0
      },
      "text/plain": [
       "  0%|          | 0/100 [00:00<?, ?it/s]"
      ]
     },
     "metadata": {},
     "output_type": "display_data"
    },
    {
     "name": "stdout",
     "output_type": "stream",
     "text": [
      "{'1.0': 0.07, '0.9': 0.02, '0.8': 0.05, '0.7000000000000001': 0.03, '0.6000000000000001': 0.08, '0.5000000000000001': 0.06}\n"
     ]
    },
    {
     "data": {
      "application/vnd.jupyter.widget-view+json": {
       "model_id": "5070f25586784031a61609a8e3ca2690",
       "version_major": 2,
       "version_minor": 0
      },
      "text/plain": [
       "  0%|          | 0/100 [00:00<?, ?it/s]"
      ]
     },
     "metadata": {},
     "output_type": "display_data"
    },
    {
     "name": "stdout",
     "output_type": "stream",
     "text": [
      "{'1.0': 0.07, '0.9': 0.02, '0.8': 0.05, '0.7000000000000001': 0.03, '0.6000000000000001': 0.08, '0.5000000000000001': 0.06, '0.40000000000000013': 0.06}\n"
     ]
    },
    {
     "data": {
      "application/vnd.jupyter.widget-view+json": {
       "model_id": "54135ef210764a17bfc28c31ef5c30ce",
       "version_major": 2,
       "version_minor": 0
      },
      "text/plain": [
       "  0%|          | 0/100 [00:00<?, ?it/s]"
      ]
     },
     "metadata": {},
     "output_type": "display_data"
    },
    {
     "name": "stdout",
     "output_type": "stream",
     "text": [
      "{'1.0': 0.07, '0.9': 0.02, '0.8': 0.05, '0.7000000000000001': 0.03, '0.6000000000000001': 0.08, '0.5000000000000001': 0.06, '0.40000000000000013': 0.06, '0.30000000000000016': 0.06}\n"
     ]
    },
    {
     "data": {
      "application/vnd.jupyter.widget-view+json": {
       "model_id": "bd513d71a31549d2a63cda49d4c9636e",
       "version_major": 2,
       "version_minor": 0
      },
      "text/plain": [
       "  0%|          | 0/100 [00:00<?, ?it/s]"
      ]
     },
     "metadata": {},
     "output_type": "display_data"
    },
    {
     "name": "stdout",
     "output_type": "stream",
     "text": [
      "{'1.0': 0.07, '0.9': 0.02, '0.8': 0.05, '0.7000000000000001': 0.03, '0.6000000000000001': 0.08, '0.5000000000000001': 0.06, '0.40000000000000013': 0.06, '0.30000000000000016': 0.06, '0.20000000000000018': 0.02}\n",
      "{'1.0': 0.07, '0.9': 0.02, '0.8': 0.05, '0.7000000000000001': 0.03, '0.6000000000000001': 0.08, '0.5000000000000001': 0.06, '0.40000000000000013': 0.06, '0.30000000000000016': 0.06, '0.20000000000000018': 0.02}\n"
     ]
    }
   ],
   "source": [
    "power ={}\n",
    "for d in tqdm(np.arange(1, 0.1, -0.1)):\n",
    "    rejects = 0\n",
    "    for i in tqdm(np.arange(100)):\n",
    "        d1, d2, _, d3 = nonstationary_ts_n(n_sample=300, t_time=10, d=0.5, mode='case3', a=d, order=3)\n",
    "        kd1 = compute_kernel_n(d1)\n",
    "        kd2 = compute_kernel_n(d2)\n",
    "        kd3 = compute_kernel_n(d3)\n",
    "        _, _, _, reject = test_independence([kd1, kd2, kd3],None,\n",
    "                                                  mode = 'iid', n_perms=5000, alpha=0.05)\n",
    "        rejects = rejects + reject\n",
    "    power[str(d)] = rejects/100\n",
    "    print(power)\n",
    "print(power)"
   ]
  },
  {
   "cell_type": "code",
   "execution_count": null,
   "id": "09ebcbe7-bf4b-41e8-8746-a10ec71a8f0c",
   "metadata": {},
   "outputs": [],
   "source": [
    "power ={}\n",
    "for d in tqdm(np.arange(0.1, 1, 0.1)):\n",
    "    rejects = 0\n",
    "    for i in tqdm(np.arange(100)):\n",
    "        d1, d2, _, d3 = nonstat_ts_n(n_sample=300, t_time=5, d=d, mode='case2', a=0.5, order=3)\n",
    "        kd1 = compute_kernel_n(d1)\n",
    "        kd2 = compute_kernel_n(d2)\n",
    "        kd3 = compute_kernel_n(d3)\n",
    "        _, _, _, reject = test_independence([kd1, kd2, kd3],None, mode = 'permutation', n_perms=1000, alpha=0.05)\n",
    "        rejects = rejects + reject\n",
    "    power[str(d)] = rejects/100\n",
    "    print(power)"
   ]
  },
  {
   "cell_type": "markdown",
   "id": "42a771bf-7bf4-4e17-8581-14d287111788",
   "metadata": {},
   "source": [
    "# additional examples"
   ]
  },
  {
   "cell_type": "code",
   "execution_count": null,
   "id": "38b1fe07-fb16-4a82-a299-11c90562d53f",
   "metadata": {},
   "outputs": [],
   "source": [
    "## linear"
   ]
  },
  {
   "cell_type": "code",
   "execution_count": 99,
   "id": "c5d0c98e-9a60-4029-b9ef-b2f637a219d6",
   "metadata": {
    "tags": []
   },
   "outputs": [
    {
     "data": {
      "application/vnd.jupyter.widget-view+json": {
       "model_id": "66d5a3d0a60b40959c2d6038b43a5414",
       "version_major": 2,
       "version_minor": 0
      },
      "text/plain": [
       "  0%|          | 0/15 [00:00<?, ?it/s]"
      ]
     },
     "metadata": {},
     "output_type": "display_data"
    },
    {
     "data": {
      "application/vnd.jupyter.widget-view+json": {
       "model_id": "b1156b5fece5447ca00685bade259d79",
       "version_major": 2,
       "version_minor": 0
      },
      "text/plain": [
       "  0%|          | 0/100 [00:00<?, ?it/s]"
      ]
     },
     "metadata": {},
     "output_type": "display_data"
    },
    {
     "name": "stdout",
     "output_type": "stream",
     "text": [
      "{'0.01': 0.04}\n"
     ]
    },
    {
     "data": {
      "application/vnd.jupyter.widget-view+json": {
       "model_id": "c15b752164ce4f019ab235c59b15d0d8",
       "version_major": 2,
       "version_minor": 0
      },
      "text/plain": [
       "  0%|          | 0/100 [00:00<?, ?it/s]"
      ]
     },
     "metadata": {},
     "output_type": "display_data"
    },
    {
     "name": "stdout",
     "output_type": "stream",
     "text": [
      "{'0.01': 0.04, '0.03': 0.06}\n"
     ]
    },
    {
     "data": {
      "application/vnd.jupyter.widget-view+json": {
       "model_id": "2750749717964a6d8518638c36fca449",
       "version_major": 2,
       "version_minor": 0
      },
      "text/plain": [
       "  0%|          | 0/100 [00:00<?, ?it/s]"
      ]
     },
     "metadata": {},
     "output_type": "display_data"
    },
    {
     "name": "stdout",
     "output_type": "stream",
     "text": [
      "{'0.01': 0.04, '0.03': 0.06, '0.049999999999999996': 0.12}\n"
     ]
    },
    {
     "data": {
      "application/vnd.jupyter.widget-view+json": {
       "model_id": "1e0e3ef65ec54deea957080d846d216c",
       "version_major": 2,
       "version_minor": 0
      },
      "text/plain": [
       "  0%|          | 0/100 [00:00<?, ?it/s]"
      ]
     },
     "metadata": {},
     "output_type": "display_data"
    },
    {
     "name": "stdout",
     "output_type": "stream",
     "text": [
      "{'0.01': 0.04, '0.03': 0.06, '0.049999999999999996': 0.12, '0.06999999999999999': 0.16}\n"
     ]
    },
    {
     "data": {
      "application/vnd.jupyter.widget-view+json": {
       "model_id": "0b90dbd1a18a40aebcea1aa3bdd8954a",
       "version_major": 2,
       "version_minor": 0
      },
      "text/plain": [
       "  0%|          | 0/100 [00:00<?, ?it/s]"
      ]
     },
     "metadata": {},
     "output_type": "display_data"
    },
    {
     "name": "stdout",
     "output_type": "stream",
     "text": [
      "{'0.01': 0.04, '0.03': 0.06, '0.049999999999999996': 0.12, '0.06999999999999999': 0.16, '0.08999999999999998': 0.2}\n"
     ]
    },
    {
     "data": {
      "application/vnd.jupyter.widget-view+json": {
       "model_id": "c4ab2c3af1ef4a0fb2f38aeb16f84304",
       "version_major": 2,
       "version_minor": 0
      },
      "text/plain": [
       "  0%|          | 0/100 [00:00<?, ?it/s]"
      ]
     },
     "metadata": {},
     "output_type": "display_data"
    },
    {
     "name": "stdout",
     "output_type": "stream",
     "text": [
      "{'0.01': 0.04, '0.03': 0.06, '0.049999999999999996': 0.12, '0.06999999999999999': 0.16, '0.08999999999999998': 0.2, '0.10999999999999997': 0.36}\n"
     ]
    },
    {
     "data": {
      "application/vnd.jupyter.widget-view+json": {
       "model_id": "45c87441d0bc48b1a13a435afe00035d",
       "version_major": 2,
       "version_minor": 0
      },
      "text/plain": [
       "  0%|          | 0/100 [00:00<?, ?it/s]"
      ]
     },
     "metadata": {},
     "output_type": "display_data"
    },
    {
     "name": "stdout",
     "output_type": "stream",
     "text": [
      "{'0.01': 0.04, '0.03': 0.06, '0.049999999999999996': 0.12, '0.06999999999999999': 0.16, '0.08999999999999998': 0.2, '0.10999999999999997': 0.36, '0.12999999999999998': 0.41}\n"
     ]
    },
    {
     "data": {
      "application/vnd.jupyter.widget-view+json": {
       "model_id": "5d52f33a6bb647f1a62ed85b5ff63178",
       "version_major": 2,
       "version_minor": 0
      },
      "text/plain": [
       "  0%|          | 0/100 [00:00<?, ?it/s]"
      ]
     },
     "metadata": {},
     "output_type": "display_data"
    },
    {
     "name": "stdout",
     "output_type": "stream",
     "text": [
      "{'0.01': 0.04, '0.03': 0.06, '0.049999999999999996': 0.12, '0.06999999999999999': 0.16, '0.08999999999999998': 0.2, '0.10999999999999997': 0.36, '0.12999999999999998': 0.41, '0.15': 0.6}\n"
     ]
    },
    {
     "data": {
      "application/vnd.jupyter.widget-view+json": {
       "model_id": "dfb2666d2fa944d19871a62f40c3de62",
       "version_major": 2,
       "version_minor": 0
      },
      "text/plain": [
       "  0%|          | 0/100 [00:00<?, ?it/s]"
      ]
     },
     "metadata": {},
     "output_type": "display_data"
    },
    {
     "name": "stdout",
     "output_type": "stream",
     "text": [
      "{'0.01': 0.04, '0.03': 0.06, '0.049999999999999996': 0.12, '0.06999999999999999': 0.16, '0.08999999999999998': 0.2, '0.10999999999999997': 0.36, '0.12999999999999998': 0.41, '0.15': 0.6, '0.16999999999999998': 0.65}\n"
     ]
    },
    {
     "data": {
      "application/vnd.jupyter.widget-view+json": {
       "model_id": "832ac9156fae4868b6e31692508a20b5",
       "version_major": 2,
       "version_minor": 0
      },
      "text/plain": [
       "  0%|          | 0/100 [00:00<?, ?it/s]"
      ]
     },
     "metadata": {},
     "output_type": "display_data"
    },
    {
     "name": "stdout",
     "output_type": "stream",
     "text": [
      "{'0.01': 0.04, '0.03': 0.06, '0.049999999999999996': 0.12, '0.06999999999999999': 0.16, '0.08999999999999998': 0.2, '0.10999999999999997': 0.36, '0.12999999999999998': 0.41, '0.15': 0.6, '0.16999999999999998': 0.65, '0.18999999999999997': 0.82}\n"
     ]
    },
    {
     "data": {
      "application/vnd.jupyter.widget-view+json": {
       "model_id": "55e653e90fd046e498ef3f3fd494d734",
       "version_major": 2,
       "version_minor": 0
      },
      "text/plain": [
       "  0%|          | 0/100 [00:00<?, ?it/s]"
      ]
     },
     "metadata": {},
     "output_type": "display_data"
    },
    {
     "name": "stdout",
     "output_type": "stream",
     "text": [
      "{'0.01': 0.04, '0.03': 0.06, '0.049999999999999996': 0.12, '0.06999999999999999': 0.16, '0.08999999999999998': 0.2, '0.10999999999999997': 0.36, '0.12999999999999998': 0.41, '0.15': 0.6, '0.16999999999999998': 0.65, '0.18999999999999997': 0.82, '0.20999999999999996': 0.94}\n"
     ]
    },
    {
     "data": {
      "application/vnd.jupyter.widget-view+json": {
       "model_id": "ba3727b924584d76b0ce6a5cb77317a0",
       "version_major": 2,
       "version_minor": 0
      },
      "text/plain": [
       "  0%|          | 0/100 [00:00<?, ?it/s]"
      ]
     },
     "metadata": {},
     "output_type": "display_data"
    },
    {
     "name": "stdout",
     "output_type": "stream",
     "text": [
      "{'0.01': 0.04, '0.03': 0.06, '0.049999999999999996': 0.12, '0.06999999999999999': 0.16, '0.08999999999999998': 0.2, '0.10999999999999997': 0.36, '0.12999999999999998': 0.41, '0.15': 0.6, '0.16999999999999998': 0.65, '0.18999999999999997': 0.82, '0.20999999999999996': 0.94, '0.22999999999999998': 0.94}\n"
     ]
    },
    {
     "data": {
      "application/vnd.jupyter.widget-view+json": {
       "model_id": "3bdea10badff48cfbf504839ce664730",
       "version_major": 2,
       "version_minor": 0
      },
      "text/plain": [
       "  0%|          | 0/100 [00:00<?, ?it/s]"
      ]
     },
     "metadata": {},
     "output_type": "display_data"
    },
    {
     "name": "stdout",
     "output_type": "stream",
     "text": [
      "{'0.01': 0.04, '0.03': 0.06, '0.049999999999999996': 0.12, '0.06999999999999999': 0.16, '0.08999999999999998': 0.2, '0.10999999999999997': 0.36, '0.12999999999999998': 0.41, '0.15': 0.6, '0.16999999999999998': 0.65, '0.18999999999999997': 0.82, '0.20999999999999996': 0.94, '0.22999999999999998': 0.94, '0.24999999999999997': 0.98}\n"
     ]
    },
    {
     "data": {
      "application/vnd.jupyter.widget-view+json": {
       "model_id": "e69885399cfc4a3e812a1cbbc7e4ad54",
       "version_major": 2,
       "version_minor": 0
      },
      "text/plain": [
       "  0%|          | 0/100 [00:00<?, ?it/s]"
      ]
     },
     "metadata": {},
     "output_type": "display_data"
    },
    {
     "name": "stdout",
     "output_type": "stream",
     "text": [
      "{'0.01': 0.04, '0.03': 0.06, '0.049999999999999996': 0.12, '0.06999999999999999': 0.16, '0.08999999999999998': 0.2, '0.10999999999999997': 0.36, '0.12999999999999998': 0.41, '0.15': 0.6, '0.16999999999999998': 0.65, '0.18999999999999997': 0.82, '0.20999999999999996': 0.94, '0.22999999999999998': 0.94, '0.24999999999999997': 0.98, '0.26999999999999996': 0.99}\n"
     ]
    },
    {
     "data": {
      "application/vnd.jupyter.widget-view+json": {
       "model_id": "3ca8b5736bc04ac1890ea02291ea3daf",
       "version_major": 2,
       "version_minor": 0
      },
      "text/plain": [
       "  0%|          | 0/100 [00:00<?, ?it/s]"
      ]
     },
     "metadata": {},
     "output_type": "display_data"
    },
    {
     "name": "stdout",
     "output_type": "stream",
     "text": [
      "{'0.01': 0.04, '0.03': 0.06, '0.049999999999999996': 0.12, '0.06999999999999999': 0.16, '0.08999999999999998': 0.2, '0.10999999999999997': 0.36, '0.12999999999999998': 0.41, '0.15': 0.6, '0.16999999999999998': 0.65, '0.18999999999999997': 0.82, '0.20999999999999996': 0.94, '0.22999999999999998': 0.94, '0.24999999999999997': 0.98, '0.26999999999999996': 0.99, '0.29': 1.0}\n"
     ]
    }
   ],
   "source": [
    "power ={}\n",
    "for d in tqdm(np.arange(0.01, 0.3, 0.02)):\n",
    "    rejects = 0\n",
    "    for i in tqdm(range(100)):\n",
    "        d1, d2, d3 = nonstat_egs(n_sample=50, t_time=20, d=d, mode='case2', a=0.5)\n",
    "        kd1 = compute_kernel_n(d1)\n",
    "        kd2 = compute_kernel_n(d2)\n",
    "        kd3 = compute_kernel_n(d3)\n",
    "        _, _, _, reject = test_independence([kd1, kd2, kd3], None, mode = 'permutation', n_perms = 4000, alpha=0.05)\n",
    "        rejects = rejects + reject\n",
    "    power[str(d)] = rejects/100\n",
    "    print(power)"
   ]
  },
  {
   "cell_type": "code",
   "execution_count": null,
   "id": "5d6a653e-e6d3-4b15-a692-f8bfffdd061d",
   "metadata": {},
   "outputs": [],
   "source": []
  },
  {
   "cell_type": "markdown",
   "id": "f4169f17-06d9-420d-a9b5-21902ff68185",
   "metadata": {},
   "source": [
    "## multiple realisation frequency mixing"
   ]
  },
  {
   "cell_type": "code",
   "execution_count": 214,
   "id": "abaf8ea9-4658-4bcb-8800-54f1e8eda4a9",
   "metadata": {},
   "outputs": [],
   "source": [
    "import scipy.io\n",
    "mat = scipy.io.loadmat('dependence_phases_equal_heteroskedascity_trend.mat')"
   ]
  },
  {
   "cell_type": "code",
   "execution_count": 215,
   "id": "7015f306-13c7-439c-9b8f-ea91acaa3d56",
   "metadata": {},
   "outputs": [
    {
     "data": {
      "text/plain": [
       "(100, 4, 3000)"
      ]
     },
     "execution_count": 215,
     "metadata": {},
     "output_type": "execute_result"
    }
   ],
   "source": [
    "mat['all_samples'].shape"
   ]
  },
  {
   "cell_type": "code",
   "execution_count": 228,
   "id": "bc57784c-9ce0-446f-a5f3-e60f7ecf5674",
   "metadata": {},
   "outputs": [],
   "source": [
    "md1 = mat['all_samples'][0:100,0,600:720]\n",
    "md2 = mat['all_samples'][0:100,1,600:720]\n",
    "md3 = mat['all_samples'][0:100,2,600:720]\n",
    "md4 = mat['all_samples'][0:100,3,600:720]\n",
    "\n",
    "kmd1 = compute_kernel_n(md1)\n",
    "kmd2 = compute_kernel_n(md2)\n",
    "kmd3 = compute_kernel_n(md3)\n",
    "kmd4 = compute_kernel_n(md4)"
   ]
  },
  {
   "cell_type": "code",
   "execution_count": 229,
   "id": "e0c138bd-c368-41e1-8538-b57518d67f61",
   "metadata": {},
   "outputs": [],
   "source": [
    "power_set = find_comb([kmd1, kmd2, kmd3, kmd4])"
   ]
  },
  {
   "cell_type": "code",
   "execution_count": 230,
   "id": "67e6f93c-a8d6-47dd-ae7c-d84586606a14",
   "metadata": {
    "tags": []
   },
   "outputs": [],
   "source": [
    "power_set_name = find_comb(['d1', 'd2', 'd3', 'd4'])"
   ]
  },
  {
   "cell_type": "code",
   "execution_count": 231,
   "id": "f8441bff-a892-454d-bde1-8efa534977b2",
   "metadata": {
    "tags": []
   },
   "outputs": [
    {
     "data": {
      "application/vnd.jupyter.widget-view+json": {
       "model_id": "d4f60dc032694ddf8b2c2d09b79764df",
       "version_major": 2,
       "version_minor": 0
      },
      "text/plain": [
       "  0%|          | 0/11 [00:00<?, ?it/s]"
      ]
     },
     "metadata": {},
     "output_type": "display_data"
    },
    {
     "data": {
      "application/vnd.jupyter.widget-view+json": {
       "model_id": "aa0c4b44d24a40389aaca8d01ab8dc3e",
       "version_major": 2,
       "version_minor": 0
      },
      "text/plain": [
       "  0%|          | 0/10 [00:00<?, ?it/s]"
      ]
     },
     "metadata": {},
     "output_type": "display_data"
    },
    {
     "name": "stdout",
     "output_type": "stream",
     "text": [
      "{\"['d1', 'd2']\": 10}\n"
     ]
    },
    {
     "data": {
      "application/vnd.jupyter.widget-view+json": {
       "model_id": "c982e074459544c68ba7749a8bff7707",
       "version_major": 2,
       "version_minor": 0
      },
      "text/plain": [
       "  0%|          | 0/10 [00:00<?, ?it/s]"
      ]
     },
     "metadata": {},
     "output_type": "display_data"
    },
    {
     "name": "stdout",
     "output_type": "stream",
     "text": [
      "{\"['d1', 'd2']\": 10, \"['d1', 'd3']\": 10}\n"
     ]
    },
    {
     "data": {
      "application/vnd.jupyter.widget-view+json": {
       "model_id": "20da3b855f064eebb2837f38e4a963a6",
       "version_major": 2,
       "version_minor": 0
      },
      "text/plain": [
       "  0%|          | 0/10 [00:00<?, ?it/s]"
      ]
     },
     "metadata": {},
     "output_type": "display_data"
    },
    {
     "name": "stdout",
     "output_type": "stream",
     "text": [
      "{\"['d1', 'd2']\": 10, \"['d1', 'd3']\": 10, \"['d1', 'd4']\": 10}\n"
     ]
    },
    {
     "data": {
      "application/vnd.jupyter.widget-view+json": {
       "model_id": "f358b0016a9b46148acd7f9677d75a74",
       "version_major": 2,
       "version_minor": 0
      },
      "text/plain": [
       "  0%|          | 0/10 [00:00<?, ?it/s]"
      ]
     },
     "metadata": {},
     "output_type": "display_data"
    },
    {
     "ename": "KeyboardInterrupt",
     "evalue": "",
     "output_type": "error",
     "traceback": [
      "\u001b[0;31m---------------------------------------------------------------------------\u001b[0m",
      "\u001b[0;31mKeyboardInterrupt\u001b[0m                         Traceback (most recent call last)",
      "Input \u001b[0;32mIn [231]\u001b[0m, in \u001b[0;36m<cell line: 2>\u001b[0;34m()\u001b[0m\n\u001b[1;32m      3\u001b[0m rejects \u001b[38;5;241m=\u001b[39m \u001b[38;5;241m0\u001b[39m\n\u001b[1;32m      4\u001b[0m \u001b[38;5;28;01mfor\u001b[39;00m i \u001b[38;5;129;01min\u001b[39;00m tqdm(\u001b[38;5;28mrange\u001b[39m(\u001b[38;5;241m10\u001b[39m)):\n\u001b[0;32m----> 5\u001b[0m     _, _, _, reject \u001b[38;5;241m=\u001b[39m \u001b[43mtest_independence\u001b[49m\u001b[43m(\u001b[49m\u001b[43mklist\u001b[49m\u001b[43m,\u001b[49m\u001b[43m \u001b[49m\u001b[38;5;28;43;01mNone\u001b[39;49;00m\u001b[43m,\u001b[49m\u001b[43m \u001b[49m\u001b[43mn_perms\u001b[49m\u001b[38;5;241;43m=\u001b[39;49m\u001b[38;5;241;43m1000\u001b[39;49m\u001b[43m,\u001b[49m\u001b[43m \u001b[49m\u001b[43malpha\u001b[49m\u001b[38;5;241;43m=\u001b[39;49m\u001b[38;5;241;43m0.05\u001b[39;49m\u001b[43m,\u001b[49m\u001b[43m \u001b[49m\u001b[43mmode\u001b[49m\u001b[43m \u001b[49m\u001b[38;5;241;43m=\u001b[39;49m\u001b[43m \u001b[49m\u001b[38;5;124;43m'\u001b[39;49m\u001b[38;5;124;43mpermutation\u001b[39;49m\u001b[38;5;124;43m'\u001b[39;49m\u001b[43m)\u001b[49m\n\u001b[1;32m      6\u001b[0m     rejects \u001b[38;5;241m=\u001b[39m rejects \u001b[38;5;241m+\u001b[39m reject\n\u001b[1;32m      7\u001b[0m power[\u001b[38;5;28mstr\u001b[39m(name)] \u001b[38;5;241m=\u001b[39m rejects\n",
      "File \u001b[0;32m/Users/Tim/PycharmProjects/HOI/HOI/tests.py:237\u001b[0m, in \u001b[0;36mtest_independence\u001b[0;34m(k_list, data_list, n_perms, alpha, mode)\u001b[0m\n\u001b[1;32m    235\u001b[0m \u001b[38;5;28;01mif\u001b[39;00m mode \u001b[38;5;241m==\u001b[39m \u001b[38;5;124m'\u001b[39m\u001b[38;5;124mpermutation\u001b[39m\u001b[38;5;124m'\u001b[39m:\n\u001b[1;32m    236\u001b[0m     statistic \u001b[38;5;241m=\u001b[39m compute_dHSIC_statistics(k_list)\n\u001b[0;32m--> 237\u001b[0m     critical_value, pval \u001b[38;5;241m=\u001b[39m \u001b[43mdhsic_permutation\u001b[49m\u001b[43m(\u001b[49m\u001b[43mk_list\u001b[49m\u001b[43m,\u001b[49m\u001b[43m \u001b[49m\u001b[43mn_samples\u001b[49m\u001b[43m,\u001b[49m\u001b[43m \u001b[49m\u001b[43mn_variables\u001b[49m\u001b[43m,\u001b[49m\u001b[43m \u001b[49m\u001b[43mstatistic\u001b[49m\u001b[43m,\u001b[49m\u001b[43m \u001b[49m\u001b[43mn_perms\u001b[49m\u001b[43m,\u001b[49m\u001b[43m \u001b[49m\u001b[43malpha\u001b[49m\u001b[43m)\u001b[49m\n\u001b[1;32m    238\u001b[0m     reject \u001b[38;5;241m=\u001b[39m \u001b[38;5;28mint\u001b[39m(statistic \u001b[38;5;241m>\u001b[39m critical_value)\n\u001b[1;32m    239\u001b[0m     \u001b[38;5;28;01mreturn\u001b[39;00m statistic, critical_value, pval, reject\n",
      "File \u001b[0;32m/Users/Tim/PycharmProjects/HOI/HOI/tests.py:37\u001b[0m, in \u001b[0;36mdhsic_permutation\u001b[0;34m(k_list, n_samples, n_variables, stat_found, n_perms, alpha)\u001b[0m\n\u001b[1;32m     34\u001b[0m     term2 \u001b[38;5;241m=\u001b[39m term2 \u001b[38;5;241m*\u001b[39m np\u001b[38;5;241m.\u001b[39msum(k_perm) \u001b[38;5;241m/\u001b[39m (n_samples \u001b[38;5;241m*\u001b[39m\u001b[38;5;241m*\u001b[39m \u001b[38;5;241m2\u001b[39m)\n\u001b[1;32m     35\u001b[0m     term3 \u001b[38;5;241m=\u001b[39m term3 \u001b[38;5;241m*\u001b[39m np\u001b[38;5;241m.\u001b[39msum(k_perm, axis\u001b[38;5;241m=\u001b[39m\u001b[38;5;241m0\u001b[39m) \u001b[38;5;241m/\u001b[39m n_samples\n\u001b[0;32m---> 37\u001b[0m term1_sum \u001b[38;5;241m=\u001b[39m \u001b[43mnp\u001b[49m\u001b[38;5;241;43m.\u001b[39;49m\u001b[43msum\u001b[49m\u001b[43m(\u001b[49m\u001b[43mterm1\u001b[49m\u001b[43m)\u001b[49m\n\u001b[1;32m     38\u001b[0m term3_sum \u001b[38;5;241m=\u001b[39m np\u001b[38;5;241m.\u001b[39msum(term3)\n\u001b[1;32m     40\u001b[0m statistics[i] \u001b[38;5;241m=\u001b[39m term1_sum \u001b[38;5;241m/\u001b[39m (n_samples \u001b[38;5;241m*\u001b[39m\u001b[38;5;241m*\u001b[39m \u001b[38;5;241m2\u001b[39m) \u001b[38;5;241m+\u001b[39m term2 \u001b[38;5;241m-\u001b[39m term3_sum\n",
      "File \u001b[0;32m<__array_function__ internals>:5\u001b[0m, in \u001b[0;36msum\u001b[0;34m(*args, **kwargs)\u001b[0m\n",
      "File \u001b[0;32m~/opt/anaconda3/lib/python3.9/site-packages/numpy/core/fromnumeric.py:2259\u001b[0m, in \u001b[0;36msum\u001b[0;34m(a, axis, dtype, out, keepdims, initial, where)\u001b[0m\n\u001b[1;32m   2256\u001b[0m         \u001b[38;5;28;01mreturn\u001b[39;00m out\n\u001b[1;32m   2257\u001b[0m     \u001b[38;5;28;01mreturn\u001b[39;00m res\n\u001b[0;32m-> 2259\u001b[0m \u001b[38;5;28;01mreturn\u001b[39;00m \u001b[43m_wrapreduction\u001b[49m\u001b[43m(\u001b[49m\u001b[43ma\u001b[49m\u001b[43m,\u001b[49m\u001b[43m \u001b[49m\u001b[43mnp\u001b[49m\u001b[38;5;241;43m.\u001b[39;49m\u001b[43madd\u001b[49m\u001b[43m,\u001b[49m\u001b[43m \u001b[49m\u001b[38;5;124;43m'\u001b[39;49m\u001b[38;5;124;43msum\u001b[39;49m\u001b[38;5;124;43m'\u001b[39;49m\u001b[43m,\u001b[49m\u001b[43m \u001b[49m\u001b[43maxis\u001b[49m\u001b[43m,\u001b[49m\u001b[43m \u001b[49m\u001b[43mdtype\u001b[49m\u001b[43m,\u001b[49m\u001b[43m \u001b[49m\u001b[43mout\u001b[49m\u001b[43m,\u001b[49m\u001b[43m \u001b[49m\u001b[43mkeepdims\u001b[49m\u001b[38;5;241;43m=\u001b[39;49m\u001b[43mkeepdims\u001b[49m\u001b[43m,\u001b[49m\n\u001b[1;32m   2260\u001b[0m \u001b[43m                      \u001b[49m\u001b[43minitial\u001b[49m\u001b[38;5;241;43m=\u001b[39;49m\u001b[43minitial\u001b[49m\u001b[43m,\u001b[49m\u001b[43m \u001b[49m\u001b[43mwhere\u001b[49m\u001b[38;5;241;43m=\u001b[39;49m\u001b[43mwhere\u001b[49m\u001b[43m)\u001b[49m\n",
      "File \u001b[0;32m~/opt/anaconda3/lib/python3.9/site-packages/numpy/core/fromnumeric.py:70\u001b[0m, in \u001b[0;36m_wrapreduction\u001b[0;34m(obj, ufunc, method, axis, dtype, out, **kwargs)\u001b[0m\n\u001b[1;32m     69\u001b[0m \u001b[38;5;28;01mdef\u001b[39;00m \u001b[38;5;21m_wrapreduction\u001b[39m(obj, ufunc, method, axis, dtype, out, \u001b[38;5;241m*\u001b[39m\u001b[38;5;241m*\u001b[39mkwargs):\n\u001b[0;32m---> 70\u001b[0m     passkwargs \u001b[38;5;241m=\u001b[39m {k: v \u001b[38;5;28;01mfor\u001b[39;00m k, v \u001b[38;5;129;01min\u001b[39;00m kwargs\u001b[38;5;241m.\u001b[39mitems()\n\u001b[1;32m     71\u001b[0m                   \u001b[38;5;28;01mif\u001b[39;00m v \u001b[38;5;129;01mis\u001b[39;00m \u001b[38;5;129;01mnot\u001b[39;00m np\u001b[38;5;241m.\u001b[39m_NoValue}\n\u001b[1;32m     73\u001b[0m     \u001b[38;5;28;01mif\u001b[39;00m \u001b[38;5;28mtype\u001b[39m(obj) \u001b[38;5;129;01mis\u001b[39;00m \u001b[38;5;129;01mnot\u001b[39;00m mu\u001b[38;5;241m.\u001b[39mndarray:\n\u001b[1;32m     74\u001b[0m         \u001b[38;5;28;01mtry\u001b[39;00m:\n",
      "File \u001b[0;32m~/opt/anaconda3/lib/python3.9/site-packages/numpy/core/fromnumeric.py:71\u001b[0m, in \u001b[0;36m<dictcomp>\u001b[0;34m(.0)\u001b[0m\n\u001b[1;32m     69\u001b[0m \u001b[38;5;28;01mdef\u001b[39;00m \u001b[38;5;21m_wrapreduction\u001b[39m(obj, ufunc, method, axis, dtype, out, \u001b[38;5;241m*\u001b[39m\u001b[38;5;241m*\u001b[39mkwargs):\n\u001b[1;32m     70\u001b[0m     passkwargs \u001b[38;5;241m=\u001b[39m {k: v \u001b[38;5;28;01mfor\u001b[39;00m k, v \u001b[38;5;129;01min\u001b[39;00m kwargs\u001b[38;5;241m.\u001b[39mitems()\n\u001b[0;32m---> 71\u001b[0m                   \u001b[38;5;28;01mif\u001b[39;00m v \u001b[38;5;129;01mis\u001b[39;00m \u001b[38;5;129;01mnot\u001b[39;00m \u001b[43mnp\u001b[49m\u001b[38;5;241;43m.\u001b[39;49m\u001b[43m_NoValue\u001b[49m}\n\u001b[1;32m     73\u001b[0m     \u001b[38;5;28;01mif\u001b[39;00m \u001b[38;5;28mtype\u001b[39m(obj) \u001b[38;5;129;01mis\u001b[39;00m \u001b[38;5;129;01mnot\u001b[39;00m mu\u001b[38;5;241m.\u001b[39mndarray:\n\u001b[1;32m     74\u001b[0m         \u001b[38;5;28;01mtry\u001b[39;00m:\n",
      "\u001b[0;31mKeyboardInterrupt\u001b[0m: "
     ]
    }
   ],
   "source": [
    "power = {}\n",
    "for (name, klist) in tqdm(zip(power_set_name, power_set), total=len(power_set)):\n",
    "    rejects = 0\n",
    "    for i in tqdm(range(10)):\n",
    "        _, _, _, reject = test_independence(klist, None, n_perms=1000, alpha=0.05, mode = 'permutation')\n",
    "        rejects = rejects + reject\n",
    "    power[str(name)] = rejects\n",
    "    print(power)"
   ]
  },
  {
   "cell_type": "code",
   "execution_count": 147,
   "id": "4729c0da-cc03-4b66-8881-6ab0d0ec5f43",
   "metadata": {},
   "outputs": [
    {
     "data": {
      "text/plain": [
       "{\"['d1', 'd2']\": 10,\n",
       " \"['d1', 'd3']\": 10,\n",
       " \"['d1', 'd4']\": 10,\n",
       " \"['d2', 'd3']\": 10,\n",
       " \"['d2', 'd4']\": 10,\n",
       " \"['d3', 'd4']\": 10,\n",
       " \"['d1', 'd2', 'd3']\": 10,\n",
       " \"['d1', 'd2', 'd4']\": 10,\n",
       " \"['d1', 'd3', 'd4']\": 10,\n",
       " \"['d2', 'd3', 'd4']\": 10,\n",
       " \"['d1', 'd2', 'd3', 'd4']\": 10}"
      ]
     },
     "execution_count": 147,
     "metadata": {},
     "output_type": "execute_result"
    }
   ],
   "source": [
    "power"
   ]
  },
  {
   "cell_type": "code",
   "execution_count": null,
   "id": "0a1ea311-f375-4992-b815-e6ed8ea2b002",
   "metadata": {},
   "outputs": [],
   "source": []
  },
  {
   "cell_type": "code",
   "execution_count": 257,
   "id": "4603d6de-aaa8-4ae7-94b6-d95eda0f9ef0",
   "metadata": {},
   "outputs": [],
   "source": [
    "mat = scipy.io.loadmat('dependence_phases_equal_linear_mean_and_heteroskedascity_trend.mat')"
   ]
  },
  {
   "cell_type": "code",
   "execution_count": 258,
   "id": "55432b41-c421-41fa-905a-11db2653676e",
   "metadata": {},
   "outputs": [
    {
     "data": {
      "text/plain": [
       "(100, 4, 3000)"
      ]
     },
     "execution_count": 258,
     "metadata": {},
     "output_type": "execute_result"
    }
   ],
   "source": [
    "mat['all_samples'].shape"
   ]
  },
  {
   "cell_type": "code",
   "execution_count": 263,
   "id": "bc81fb9c-d0e6-42ab-84f8-ad9b7336edda",
   "metadata": {},
   "outputs": [],
   "source": [
    "md1 = mat['all_samples'][:,0,:][:,800:830]\n",
    "md2 = mat['all_samples'][:,1,:][:,800:830]\n",
    "md3 = mat['all_samples'][:,2,:][:,800:830]\n",
    "md4 = mat['all_samples'][:,3,:][:,800:830]\n",
    "\n",
    "kmd1 = compute_kernel_n(md1)\n",
    "kmd2 = compute_kernel_n(md2)\n",
    "kmd3 = compute_kernel_n(md3)\n",
    "kmd4 = compute_kernel_n(md4)"
   ]
  },
  {
   "cell_type": "code",
   "execution_count": 264,
   "id": "a85eb8a4-da7c-4362-8d49-7e7a4f79284c",
   "metadata": {},
   "outputs": [],
   "source": [
    "power_set = find_comb([kmd1, kmd2, kmd3, kmd4])"
   ]
  },
  {
   "cell_type": "code",
   "execution_count": 265,
   "id": "43be286b-2ebd-4575-adae-c3123b22fdb3",
   "metadata": {
    "tags": []
   },
   "outputs": [],
   "source": [
    "power_set_name = find_comb(['d1', 'd2', 'd3', 'd4'])"
   ]
  },
  {
   "cell_type": "code",
   "execution_count": 266,
   "id": "6b4b95e1-e830-4489-a467-4a0a955f314a",
   "metadata": {
    "tags": []
   },
   "outputs": [
    {
     "data": {
      "application/vnd.jupyter.widget-view+json": {
       "model_id": "4ddae2257b6a48bbb6d652cb49c2fc7f",
       "version_major": 2,
       "version_minor": 0
      },
      "text/plain": [
       "  0%|          | 0/11 [00:00<?, ?it/s]"
      ]
     },
     "metadata": {},
     "output_type": "display_data"
    },
    {
     "data": {
      "application/vnd.jupyter.widget-view+json": {
       "model_id": "a6c6861ecebd40fbb01218559b483bb5",
       "version_major": 2,
       "version_minor": 0
      },
      "text/plain": [
       "  0%|          | 0/10 [00:00<?, ?it/s]"
      ]
     },
     "metadata": {},
     "output_type": "display_data"
    },
    {
     "name": "stdout",
     "output_type": "stream",
     "text": [
      "{\"['d1', 'd2']\": 10}\n"
     ]
    },
    {
     "data": {
      "application/vnd.jupyter.widget-view+json": {
       "model_id": "f1fb4666b73347f488ed249da7e8fb98",
       "version_major": 2,
       "version_minor": 0
      },
      "text/plain": [
       "  0%|          | 0/10 [00:00<?, ?it/s]"
      ]
     },
     "metadata": {},
     "output_type": "display_data"
    },
    {
     "name": "stdout",
     "output_type": "stream",
     "text": [
      "{\"['d1', 'd2']\": 10, \"['d1', 'd3']\": 10}\n"
     ]
    },
    {
     "data": {
      "application/vnd.jupyter.widget-view+json": {
       "model_id": "4c49f351f4f8457abdc98660198aed13",
       "version_major": 2,
       "version_minor": 0
      },
      "text/plain": [
       "  0%|          | 0/10 [00:00<?, ?it/s]"
      ]
     },
     "metadata": {},
     "output_type": "display_data"
    },
    {
     "name": "stdout",
     "output_type": "stream",
     "text": [
      "{\"['d1', 'd2']\": 10, \"['d1', 'd3']\": 10, \"['d1', 'd4']\": 10}\n"
     ]
    },
    {
     "data": {
      "application/vnd.jupyter.widget-view+json": {
       "model_id": "eae50216d552498aa86745011849d059",
       "version_major": 2,
       "version_minor": 0
      },
      "text/plain": [
       "  0%|          | 0/10 [00:00<?, ?it/s]"
      ]
     },
     "metadata": {},
     "output_type": "display_data"
    },
    {
     "name": "stdout",
     "output_type": "stream",
     "text": [
      "{\"['d1', 'd2']\": 10, \"['d1', 'd3']\": 10, \"['d1', 'd4']\": 10, \"['d2', 'd3']\": 10}\n"
     ]
    },
    {
     "data": {
      "application/vnd.jupyter.widget-view+json": {
       "model_id": "4a97eff21ca0403798a3c09566135f0b",
       "version_major": 2,
       "version_minor": 0
      },
      "text/plain": [
       "  0%|          | 0/10 [00:00<?, ?it/s]"
      ]
     },
     "metadata": {},
     "output_type": "display_data"
    },
    {
     "name": "stdout",
     "output_type": "stream",
     "text": [
      "{\"['d1', 'd2']\": 10, \"['d1', 'd3']\": 10, \"['d1', 'd4']\": 10, \"['d2', 'd3']\": 10, \"['d2', 'd4']\": 10}\n"
     ]
    },
    {
     "data": {
      "application/vnd.jupyter.widget-view+json": {
       "model_id": "7b996a5b7254490ca5fde69c68fd0f48",
       "version_major": 2,
       "version_minor": 0
      },
      "text/plain": [
       "  0%|          | 0/10 [00:00<?, ?it/s]"
      ]
     },
     "metadata": {},
     "output_type": "display_data"
    },
    {
     "name": "stdout",
     "output_type": "stream",
     "text": [
      "{\"['d1', 'd2']\": 10, \"['d1', 'd3']\": 10, \"['d1', 'd4']\": 10, \"['d2', 'd3']\": 10, \"['d2', 'd4']\": 10, \"['d3', 'd4']\": 10}\n"
     ]
    },
    {
     "data": {
      "application/vnd.jupyter.widget-view+json": {
       "model_id": "07ed5992cefe44509fdb31ce8e8f034a",
       "version_major": 2,
       "version_minor": 0
      },
      "text/plain": [
       "  0%|          | 0/10 [00:00<?, ?it/s]"
      ]
     },
     "metadata": {},
     "output_type": "display_data"
    },
    {
     "name": "stdout",
     "output_type": "stream",
     "text": [
      "{\"['d1', 'd2']\": 10, \"['d1', 'd3']\": 10, \"['d1', 'd4']\": 10, \"['d2', 'd3']\": 10, \"['d2', 'd4']\": 10, \"['d3', 'd4']\": 10, \"['d1', 'd2', 'd3']\": 10}\n"
     ]
    },
    {
     "data": {
      "application/vnd.jupyter.widget-view+json": {
       "model_id": "1445a596e2fb4706a3eb187fb7910566",
       "version_major": 2,
       "version_minor": 0
      },
      "text/plain": [
       "  0%|          | 0/10 [00:00<?, ?it/s]"
      ]
     },
     "metadata": {},
     "output_type": "display_data"
    },
    {
     "name": "stdout",
     "output_type": "stream",
     "text": [
      "{\"['d1', 'd2']\": 10, \"['d1', 'd3']\": 10, \"['d1', 'd4']\": 10, \"['d2', 'd3']\": 10, \"['d2', 'd4']\": 10, \"['d3', 'd4']\": 10, \"['d1', 'd2', 'd3']\": 10, \"['d1', 'd2', 'd4']\": 10}\n"
     ]
    },
    {
     "data": {
      "application/vnd.jupyter.widget-view+json": {
       "model_id": "3a3dacbca0b84e98892984b575b266bf",
       "version_major": 2,
       "version_minor": 0
      },
      "text/plain": [
       "  0%|          | 0/10 [00:00<?, ?it/s]"
      ]
     },
     "metadata": {},
     "output_type": "display_data"
    },
    {
     "name": "stdout",
     "output_type": "stream",
     "text": [
      "{\"['d1', 'd2']\": 10, \"['d1', 'd3']\": 10, \"['d1', 'd4']\": 10, \"['d2', 'd3']\": 10, \"['d2', 'd4']\": 10, \"['d3', 'd4']\": 10, \"['d1', 'd2', 'd3']\": 10, \"['d1', 'd2', 'd4']\": 10, \"['d1', 'd3', 'd4']\": 10}\n"
     ]
    },
    {
     "data": {
      "application/vnd.jupyter.widget-view+json": {
       "model_id": "6670d157805248d1807233a3c5fde2fc",
       "version_major": 2,
       "version_minor": 0
      },
      "text/plain": [
       "  0%|          | 0/10 [00:00<?, ?it/s]"
      ]
     },
     "metadata": {},
     "output_type": "display_data"
    },
    {
     "name": "stdout",
     "output_type": "stream",
     "text": [
      "{\"['d1', 'd2']\": 10, \"['d1', 'd3']\": 10, \"['d1', 'd4']\": 10, \"['d2', 'd3']\": 10, \"['d2', 'd4']\": 10, \"['d3', 'd4']\": 10, \"['d1', 'd2', 'd3']\": 10, \"['d1', 'd2', 'd4']\": 10, \"['d1', 'd3', 'd4']\": 10, \"['d2', 'd3', 'd4']\": 10}\n"
     ]
    },
    {
     "data": {
      "application/vnd.jupyter.widget-view+json": {
       "model_id": "2378e325314c4b93bea4c7a4fb07b369",
       "version_major": 2,
       "version_minor": 0
      },
      "text/plain": [
       "  0%|          | 0/10 [00:00<?, ?it/s]"
      ]
     },
     "metadata": {},
     "output_type": "display_data"
    },
    {
     "name": "stdout",
     "output_type": "stream",
     "text": [
      "{\"['d1', 'd2']\": 10, \"['d1', 'd3']\": 10, \"['d1', 'd4']\": 10, \"['d2', 'd3']\": 10, \"['d2', 'd4']\": 10, \"['d3', 'd4']\": 10, \"['d1', 'd2', 'd3']\": 10, \"['d1', 'd2', 'd4']\": 10, \"['d1', 'd3', 'd4']\": 10, \"['d2', 'd3', 'd4']\": 10, \"['d1', 'd2', 'd3', 'd4']\": 10}\n"
     ]
    }
   ],
   "source": [
    "power = {}\n",
    "for (name, klist) in tqdm(zip(power_set_name, power_set), total=len(power_set)):\n",
    "    rejects = 0\n",
    "    for i in tqdm(range(10)):\n",
    "        _, _, _, reject = test_independence(klist, None, n_perms=1000, alpha=0.05, mode = 'permutation')\n",
    "        rejects = rejects + reject\n",
    "    power[str(name)] = rejects\n",
    "    print(power)"
   ]
  },
  {
   "cell_type": "code",
   "execution_count": 154,
   "id": "26d1ed31-b01a-494b-9388-1887be9a1cfa",
   "metadata": {},
   "outputs": [
    {
     "data": {
      "text/plain": [
       "{\"['d1', 'd2']\": 10,\n",
       " \"['d1', 'd3']\": 10,\n",
       " \"['d1', 'd4']\": 10,\n",
       " \"['d2', 'd3']\": 10,\n",
       " \"['d2', 'd4']\": 10,\n",
       " \"['d3', 'd4']\": 10,\n",
       " \"['d1', 'd2', 'd3']\": 10,\n",
       " \"['d1', 'd2', 'd4']\": 10,\n",
       " \"['d1', 'd3', 'd4']\": 10,\n",
       " \"['d2', 'd3', 'd4']\": 10,\n",
       " \"['d1', 'd2', 'd3', 'd4']\": 10}"
      ]
     },
     "execution_count": 154,
     "metadata": {},
     "output_type": "execute_result"
    }
   ],
   "source": [
    "power"
   ]
  },
  {
   "cell_type": "code",
   "execution_count": null,
   "id": "9aa1eaba-0d3d-4e27-8078-dd639301b3cc",
   "metadata": {},
   "outputs": [],
   "source": []
  },
  {
   "cell_type": "code",
   "execution_count": 155,
   "id": "29cfb05b-5926-4283-bb4b-7b2d51cf5468",
   "metadata": {},
   "outputs": [],
   "source": [
    "mat = scipy.io.loadmat('dependence_phases_equal_linear_mean_trend.mat')"
   ]
  },
  {
   "cell_type": "code",
   "execution_count": 156,
   "id": "5f036f9d-5b30-4f4a-8783-66690789a308",
   "metadata": {},
   "outputs": [
    {
     "data": {
      "text/plain": [
       "(100, 4, 3000)"
      ]
     },
     "execution_count": 156,
     "metadata": {},
     "output_type": "execute_result"
    }
   ],
   "source": [
    "mat['all_samples'].shape"
   ]
  },
  {
   "cell_type": "code",
   "execution_count": 157,
   "id": "b2b3c0c9-8ffa-409d-96fe-406811bf5889",
   "metadata": {},
   "outputs": [],
   "source": [
    "md1 = mat['all_samples'][:,0,:][:,0:500]\n",
    "md2 = mat['all_samples'][:,1,:][:,0:500]\n",
    "md3 = mat['all_samples'][:,2,:][:,0:500]\n",
    "md4 = mat['all_samples'][:,3,:][:,0:500]\n",
    "\n",
    "kmd1 = compute_kernel_n(md1)\n",
    "kmd2 = compute_kernel_n(md2)\n",
    "kmd3 = compute_kernel_n(md3)\n",
    "kmd4 = compute_kernel_n(md4)"
   ]
  },
  {
   "cell_type": "code",
   "execution_count": 158,
   "id": "1f9f5ed4-91b7-4ab8-a67e-c63d7760bfb4",
   "metadata": {},
   "outputs": [],
   "source": [
    "power_set = find_comb([kmd1, kmd2, kmd3, kmd4])"
   ]
  },
  {
   "cell_type": "code",
   "execution_count": 159,
   "id": "d6994804-7c18-470e-bd6d-eecd8d4d655d",
   "metadata": {
    "tags": []
   },
   "outputs": [],
   "source": [
    "power_set_name = find_comb(['d1', 'd2', 'd3', 'd4'])"
   ]
  },
  {
   "cell_type": "code",
   "execution_count": 160,
   "id": "53b29bc1-4a05-4be2-8e2e-6a791723d385",
   "metadata": {
    "collapsed": true,
    "jupyter": {
     "outputs_hidden": true
    },
    "tags": []
   },
   "outputs": [
    {
     "data": {
      "application/vnd.jupyter.widget-view+json": {
       "model_id": "91259bda322a45f6974f00f4bffadb11",
       "version_major": 2,
       "version_minor": 0
      },
      "text/plain": [
       "  0%|          | 0/11 [00:00<?, ?it/s]"
      ]
     },
     "metadata": {},
     "output_type": "display_data"
    },
    {
     "data": {
      "application/vnd.jupyter.widget-view+json": {
       "model_id": "d18b633fef634ab5b38c9d163d1bc430",
       "version_major": 2,
       "version_minor": 0
      },
      "text/plain": [
       "  0%|          | 0/10 [00:00<?, ?it/s]"
      ]
     },
     "metadata": {},
     "output_type": "display_data"
    },
    {
     "name": "stdout",
     "output_type": "stream",
     "text": [
      "{\"['d1', 'd2']\": 10}\n"
     ]
    },
    {
     "data": {
      "application/vnd.jupyter.widget-view+json": {
       "model_id": "fcc5b6587b254d61b90bdd5aa4fe6ac8",
       "version_major": 2,
       "version_minor": 0
      },
      "text/plain": [
       "  0%|          | 0/10 [00:00<?, ?it/s]"
      ]
     },
     "metadata": {},
     "output_type": "display_data"
    },
    {
     "name": "stdout",
     "output_type": "stream",
     "text": [
      "{\"['d1', 'd2']\": 10, \"['d1', 'd3']\": 10}\n"
     ]
    },
    {
     "data": {
      "application/vnd.jupyter.widget-view+json": {
       "model_id": "777b21e768fc4336a0d504e5568ec6ff",
       "version_major": 2,
       "version_minor": 0
      },
      "text/plain": [
       "  0%|          | 0/10 [00:00<?, ?it/s]"
      ]
     },
     "metadata": {},
     "output_type": "display_data"
    },
    {
     "name": "stdout",
     "output_type": "stream",
     "text": [
      "{\"['d1', 'd2']\": 10, \"['d1', 'd3']\": 10, \"['d1', 'd4']\": 10}\n"
     ]
    },
    {
     "data": {
      "application/vnd.jupyter.widget-view+json": {
       "model_id": "2ddb607b50e94db7884de2cf641b65a8",
       "version_major": 2,
       "version_minor": 0
      },
      "text/plain": [
       "  0%|          | 0/10 [00:00<?, ?it/s]"
      ]
     },
     "metadata": {},
     "output_type": "display_data"
    },
    {
     "name": "stdout",
     "output_type": "stream",
     "text": [
      "{\"['d1', 'd2']\": 10, \"['d1', 'd3']\": 10, \"['d1', 'd4']\": 10, \"['d2', 'd3']\": 10}\n"
     ]
    },
    {
     "data": {
      "application/vnd.jupyter.widget-view+json": {
       "model_id": "484282f09df248ee87d8e9b57f266c09",
       "version_major": 2,
       "version_minor": 0
      },
      "text/plain": [
       "  0%|          | 0/10 [00:00<?, ?it/s]"
      ]
     },
     "metadata": {},
     "output_type": "display_data"
    },
    {
     "name": "stdout",
     "output_type": "stream",
     "text": [
      "{\"['d1', 'd2']\": 10, \"['d1', 'd3']\": 10, \"['d1', 'd4']\": 10, \"['d2', 'd3']\": 10, \"['d2', 'd4']\": 10}\n"
     ]
    },
    {
     "data": {
      "application/vnd.jupyter.widget-view+json": {
       "model_id": "2d76a189ec604d1b922abfd0c6b1dd8b",
       "version_major": 2,
       "version_minor": 0
      },
      "text/plain": [
       "  0%|          | 0/10 [00:00<?, ?it/s]"
      ]
     },
     "metadata": {},
     "output_type": "display_data"
    },
    {
     "name": "stdout",
     "output_type": "stream",
     "text": [
      "{\"['d1', 'd2']\": 10, \"['d1', 'd3']\": 10, \"['d1', 'd4']\": 10, \"['d2', 'd3']\": 10, \"['d2', 'd4']\": 10, \"['d3', 'd4']\": 10}\n"
     ]
    },
    {
     "data": {
      "application/vnd.jupyter.widget-view+json": {
       "model_id": "dacafc5a3e1046deb70f7761e854d0f9",
       "version_major": 2,
       "version_minor": 0
      },
      "text/plain": [
       "  0%|          | 0/10 [00:00<?, ?it/s]"
      ]
     },
     "metadata": {},
     "output_type": "display_data"
    },
    {
     "name": "stdout",
     "output_type": "stream",
     "text": [
      "{\"['d1', 'd2']\": 10, \"['d1', 'd3']\": 10, \"['d1', 'd4']\": 10, \"['d2', 'd3']\": 10, \"['d2', 'd4']\": 10, \"['d3', 'd4']\": 10, \"['d1', 'd2', 'd3']\": 10}\n"
     ]
    },
    {
     "data": {
      "application/vnd.jupyter.widget-view+json": {
       "model_id": "14d7951e01a849f5bdf54f45cf3de780",
       "version_major": 2,
       "version_minor": 0
      },
      "text/plain": [
       "  0%|          | 0/10 [00:00<?, ?it/s]"
      ]
     },
     "metadata": {},
     "output_type": "display_data"
    },
    {
     "name": "stdout",
     "output_type": "stream",
     "text": [
      "{\"['d1', 'd2']\": 10, \"['d1', 'd3']\": 10, \"['d1', 'd4']\": 10, \"['d2', 'd3']\": 10, \"['d2', 'd4']\": 10, \"['d3', 'd4']\": 10, \"['d1', 'd2', 'd3']\": 10, \"['d1', 'd2', 'd4']\": 10}\n"
     ]
    },
    {
     "data": {
      "application/vnd.jupyter.widget-view+json": {
       "model_id": "bea776c3b70d4cbd93f784bc842a87fa",
       "version_major": 2,
       "version_minor": 0
      },
      "text/plain": [
       "  0%|          | 0/10 [00:00<?, ?it/s]"
      ]
     },
     "metadata": {},
     "output_type": "display_data"
    },
    {
     "name": "stdout",
     "output_type": "stream",
     "text": [
      "{\"['d1', 'd2']\": 10, \"['d1', 'd3']\": 10, \"['d1', 'd4']\": 10, \"['d2', 'd3']\": 10, \"['d2', 'd4']\": 10, \"['d3', 'd4']\": 10, \"['d1', 'd2', 'd3']\": 10, \"['d1', 'd2', 'd4']\": 10, \"['d1', 'd3', 'd4']\": 10}\n"
     ]
    },
    {
     "data": {
      "application/vnd.jupyter.widget-view+json": {
       "model_id": "d077a093d01f48dcbd010530ab2ad42a",
       "version_major": 2,
       "version_minor": 0
      },
      "text/plain": [
       "  0%|          | 0/10 [00:00<?, ?it/s]"
      ]
     },
     "metadata": {},
     "output_type": "display_data"
    },
    {
     "name": "stdout",
     "output_type": "stream",
     "text": [
      "{\"['d1', 'd2']\": 10, \"['d1', 'd3']\": 10, \"['d1', 'd4']\": 10, \"['d2', 'd3']\": 10, \"['d2', 'd4']\": 10, \"['d3', 'd4']\": 10, \"['d1', 'd2', 'd3']\": 10, \"['d1', 'd2', 'd4']\": 10, \"['d1', 'd3', 'd4']\": 10, \"['d2', 'd3', 'd4']\": 10}\n"
     ]
    },
    {
     "data": {
      "application/vnd.jupyter.widget-view+json": {
       "model_id": "e05e3d3835074f0ba79b76013b01b523",
       "version_major": 2,
       "version_minor": 0
      },
      "text/plain": [
       "  0%|          | 0/10 [00:00<?, ?it/s]"
      ]
     },
     "metadata": {},
     "output_type": "display_data"
    },
    {
     "name": "stdout",
     "output_type": "stream",
     "text": [
      "{\"['d1', 'd2']\": 10, \"['d1', 'd3']\": 10, \"['d1', 'd4']\": 10, \"['d2', 'd3']\": 10, \"['d2', 'd4']\": 10, \"['d3', 'd4']\": 10, \"['d1', 'd2', 'd3']\": 10, \"['d1', 'd2', 'd4']\": 10, \"['d1', 'd3', 'd4']\": 10, \"['d2', 'd3', 'd4']\": 10, \"['d1', 'd2', 'd3', 'd4']\": 10}\n"
     ]
    }
   ],
   "source": [
    "power = {}\n",
    "for (name, klist) in tqdm(zip(power_set_name, power_set), total=len(power_set)):\n",
    "    rejects = 0\n",
    "    for i in tqdm(range(10)):\n",
    "        _, _, _, reject = test_independence(klist, None, n_perms=1000, alpha=0.05, mode = 'permutation')\n",
    "        rejects = rejects + reject\n",
    "    power[str(name)] = rejects\n",
    "    print(power)"
   ]
  },
  {
   "cell_type": "code",
   "execution_count": 161,
   "id": "b96c83f9-6760-4e94-94aa-859d8fcabb40",
   "metadata": {},
   "outputs": [
    {
     "data": {
      "text/plain": [
       "{\"['d1', 'd2']\": 10,\n",
       " \"['d1', 'd3']\": 10,\n",
       " \"['d1', 'd4']\": 10,\n",
       " \"['d2', 'd3']\": 10,\n",
       " \"['d2', 'd4']\": 10,\n",
       " \"['d3', 'd4']\": 10,\n",
       " \"['d1', 'd2', 'd3']\": 10,\n",
       " \"['d1', 'd2', 'd4']\": 10,\n",
       " \"['d1', 'd3', 'd4']\": 10,\n",
       " \"['d2', 'd3', 'd4']\": 10,\n",
       " \"['d1', 'd2', 'd3', 'd4']\": 10}"
      ]
     },
     "execution_count": 161,
     "metadata": {},
     "output_type": "execute_result"
    }
   ],
   "source": [
    "power"
   ]
  },
  {
   "cell_type": "code",
   "execution_count": null,
   "id": "4b84701b-89a6-4b83-ae45-447b75f27aaa",
   "metadata": {},
   "outputs": [],
   "source": []
  },
  {
   "cell_type": "code",
   "execution_count": 165,
   "id": "7308bd27-0af6-4686-b84a-e868d7c2c862",
   "metadata": {},
   "outputs": [],
   "source": [
    "mat = scipy.io.loadmat('multiple_samples_dependence.mat')"
   ]
  },
  {
   "cell_type": "code",
   "execution_count": 166,
   "id": "1bedecd4-703a-4d39-9093-e361d03143e6",
   "metadata": {},
   "outputs": [
    {
     "data": {
      "text/plain": [
       "(80, 4, 3000)"
      ]
     },
     "execution_count": 166,
     "metadata": {},
     "output_type": "execute_result"
    }
   ],
   "source": [
    "mat['all_samples'].shape"
   ]
  },
  {
   "cell_type": "code",
   "execution_count": 181,
   "id": "7e364917-181e-4ace-97dc-b6978bb85eb3",
   "metadata": {},
   "outputs": [],
   "source": [
    "md1 = mat['all_samples'][:,0,:][:,0:300]\n",
    "md2 = mat['all_samples'][:,1,:][:,0:300]\n",
    "md3 = mat['all_samples'][:,2,:][:,0:300]\n",
    "md4 = mat['all_samples'][:,3,:][:,0:300]\n",
    "\n",
    "kmd1 = compute_kernel_n(md1)\n",
    "kmd2 = compute_kernel_n(md2)\n",
    "kmd3 = compute_kernel_n(md3)\n",
    "kmd4 = compute_kernel_n(md4)"
   ]
  },
  {
   "cell_type": "code",
   "execution_count": 168,
   "id": "c3abca65-a331-4562-a490-a59d6bee2529",
   "metadata": {},
   "outputs": [],
   "source": [
    "power_set = find_comb([kmd1, kmd2, kmd3, kmd4])"
   ]
  },
  {
   "cell_type": "code",
   "execution_count": 169,
   "id": "1e35d3d6-779c-4ae5-88b8-e182730b34d1",
   "metadata": {
    "tags": []
   },
   "outputs": [],
   "source": [
    "power_set_name = find_comb(['d1', 'd2', 'd3', 'd4'])"
   ]
  },
  {
   "cell_type": "code",
   "execution_count": 139,
   "id": "cb61797e-79c5-41c9-98fb-13dd43a3bc80",
   "metadata": {
    "collapsed": true,
    "jupyter": {
     "outputs_hidden": true
    },
    "tags": []
   },
   "outputs": [
    {
     "data": {
      "application/vnd.jupyter.widget-view+json": {
       "model_id": "25203bdc19094d04aecff590efa3b0f2",
       "version_major": 2,
       "version_minor": 0
      },
      "text/plain": [
       "  0%|          | 0/11 [00:00<?, ?it/s]"
      ]
     },
     "metadata": {},
     "output_type": "display_data"
    },
    {
     "data": {
      "application/vnd.jupyter.widget-view+json": {
       "model_id": "610fd6f91efa468aab00ebc748b353ad",
       "version_major": 2,
       "version_minor": 0
      },
      "text/plain": [
       "  0%|          | 0/10 [00:00<?, ?it/s]"
      ]
     },
     "metadata": {},
     "output_type": "display_data"
    },
    {
     "name": "stdout",
     "output_type": "stream",
     "text": [
      "{\"['d1', 'd2']\": 0}\n"
     ]
    },
    {
     "data": {
      "application/vnd.jupyter.widget-view+json": {
       "model_id": "c1940c9481bb4596943625a34aa75fb1",
       "version_major": 2,
       "version_minor": 0
      },
      "text/plain": [
       "  0%|          | 0/10 [00:00<?, ?it/s]"
      ]
     },
     "metadata": {},
     "output_type": "display_data"
    },
    {
     "name": "stdout",
     "output_type": "stream",
     "text": [
      "{\"['d1', 'd2']\": 0, \"['d1', 'd3']\": 10}\n"
     ]
    },
    {
     "data": {
      "application/vnd.jupyter.widget-view+json": {
       "model_id": "1ff4b2f7048f48e59878f30b47802d33",
       "version_major": 2,
       "version_minor": 0
      },
      "text/plain": [
       "  0%|          | 0/10 [00:00<?, ?it/s]"
      ]
     },
     "metadata": {},
     "output_type": "display_data"
    },
    {
     "name": "stdout",
     "output_type": "stream",
     "text": [
      "{\"['d1', 'd2']\": 0, \"['d1', 'd3']\": 10, \"['d1', 'd4']\": 10}\n"
     ]
    },
    {
     "data": {
      "application/vnd.jupyter.widget-view+json": {
       "model_id": "19828a1dbfd448e7b21812ad00cceb96",
       "version_major": 2,
       "version_minor": 0
      },
      "text/plain": [
       "  0%|          | 0/10 [00:00<?, ?it/s]"
      ]
     },
     "metadata": {},
     "output_type": "display_data"
    },
    {
     "name": "stdout",
     "output_type": "stream",
     "text": [
      "{\"['d1', 'd2']\": 0, \"['d1', 'd3']\": 10, \"['d1', 'd4']\": 10, \"['d2', 'd3']\": 10}\n"
     ]
    },
    {
     "data": {
      "application/vnd.jupyter.widget-view+json": {
       "model_id": "a182c9d36ce14e0d9d26934d6a82e0c1",
       "version_major": 2,
       "version_minor": 0
      },
      "text/plain": [
       "  0%|          | 0/10 [00:00<?, ?it/s]"
      ]
     },
     "metadata": {},
     "output_type": "display_data"
    },
    {
     "name": "stdout",
     "output_type": "stream",
     "text": [
      "{\"['d1', 'd2']\": 0, \"['d1', 'd3']\": 10, \"['d1', 'd4']\": 10, \"['d2', 'd3']\": 10, \"['d2', 'd4']\": 10}\n"
     ]
    },
    {
     "data": {
      "application/vnd.jupyter.widget-view+json": {
       "model_id": "e8e0ff8692384580b6499e760d9e9041",
       "version_major": 2,
       "version_minor": 0
      },
      "text/plain": [
       "  0%|          | 0/10 [00:00<?, ?it/s]"
      ]
     },
     "metadata": {},
     "output_type": "display_data"
    },
    {
     "name": "stdout",
     "output_type": "stream",
     "text": [
      "{\"['d1', 'd2']\": 0, \"['d1', 'd3']\": 10, \"['d1', 'd4']\": 10, \"['d2', 'd3']\": 10, \"['d2', 'd4']\": 10, \"['d3', 'd4']\": 0}\n"
     ]
    },
    {
     "data": {
      "application/vnd.jupyter.widget-view+json": {
       "model_id": "6e8971f544b24ad89b9a903c1f043fc0",
       "version_major": 2,
       "version_minor": 0
      },
      "text/plain": [
       "  0%|          | 0/10 [00:00<?, ?it/s]"
      ]
     },
     "metadata": {},
     "output_type": "display_data"
    },
    {
     "name": "stdout",
     "output_type": "stream",
     "text": [
      "{\"['d1', 'd2']\": 0, \"['d1', 'd3']\": 10, \"['d1', 'd4']\": 10, \"['d2', 'd3']\": 10, \"['d2', 'd4']\": 10, \"['d3', 'd4']\": 0, \"['d1', 'd2', 'd3']\": 10}\n"
     ]
    },
    {
     "data": {
      "application/vnd.jupyter.widget-view+json": {
       "model_id": "e4df0770bbe3417ca631ebaba83418af",
       "version_major": 2,
       "version_minor": 0
      },
      "text/plain": [
       "  0%|          | 0/10 [00:00<?, ?it/s]"
      ]
     },
     "metadata": {},
     "output_type": "display_data"
    },
    {
     "name": "stdout",
     "output_type": "stream",
     "text": [
      "{\"['d1', 'd2']\": 0, \"['d1', 'd3']\": 10, \"['d1', 'd4']\": 10, \"['d2', 'd3']\": 10, \"['d2', 'd4']\": 10, \"['d3', 'd4']\": 0, \"['d1', 'd2', 'd3']\": 10, \"['d1', 'd2', 'd4']\": 10}\n"
     ]
    },
    {
     "data": {
      "application/vnd.jupyter.widget-view+json": {
       "model_id": "714fe4c8255a4c738351d4075e5e53fa",
       "version_major": 2,
       "version_minor": 0
      },
      "text/plain": [
       "  0%|          | 0/10 [00:00<?, ?it/s]"
      ]
     },
     "metadata": {},
     "output_type": "display_data"
    },
    {
     "name": "stdout",
     "output_type": "stream",
     "text": [
      "{\"['d1', 'd2']\": 0, \"['d1', 'd3']\": 10, \"['d1', 'd4']\": 10, \"['d2', 'd3']\": 10, \"['d2', 'd4']\": 10, \"['d3', 'd4']\": 0, \"['d1', 'd2', 'd3']\": 10, \"['d1', 'd2', 'd4']\": 10, \"['d1', 'd3', 'd4']\": 10}\n"
     ]
    },
    {
     "data": {
      "application/vnd.jupyter.widget-view+json": {
       "model_id": "83c4fe7a461b42029be192cfa9877de5",
       "version_major": 2,
       "version_minor": 0
      },
      "text/plain": [
       "  0%|          | 0/10 [00:00<?, ?it/s]"
      ]
     },
     "metadata": {},
     "output_type": "display_data"
    },
    {
     "name": "stdout",
     "output_type": "stream",
     "text": [
      "{\"['d1', 'd2']\": 0, \"['d1', 'd3']\": 10, \"['d1', 'd4']\": 10, \"['d2', 'd3']\": 10, \"['d2', 'd4']\": 10, \"['d3', 'd4']\": 0, \"['d1', 'd2', 'd3']\": 10, \"['d1', 'd2', 'd4']\": 10, \"['d1', 'd3', 'd4']\": 10, \"['d2', 'd3', 'd4']\": 10}\n"
     ]
    },
    {
     "data": {
      "application/vnd.jupyter.widget-view+json": {
       "model_id": "ba3f6c250ed54d04896fd326025bb5f2",
       "version_major": 2,
       "version_minor": 0
      },
      "text/plain": [
       "  0%|          | 0/10 [00:00<?, ?it/s]"
      ]
     },
     "metadata": {},
     "output_type": "display_data"
    },
    {
     "name": "stdout",
     "output_type": "stream",
     "text": [
      "{\"['d1', 'd2']\": 0, \"['d1', 'd3']\": 10, \"['d1', 'd4']\": 10, \"['d2', 'd3']\": 10, \"['d2', 'd4']\": 10, \"['d3', 'd4']\": 0, \"['d1', 'd2', 'd3']\": 10, \"['d1', 'd2', 'd4']\": 10, \"['d1', 'd3', 'd4']\": 10, \"['d2', 'd3', 'd4']\": 10, \"['d1', 'd2', 'd3', 'd4']\": 10}\n"
     ]
    }
   ],
   "source": [
    "power = {}\n",
    "for (name, klist) in tqdm(zip(power_set_name, power_set), total=len(power_set)):\n",
    "    rejects = 0\n",
    "    for i in tqdm(range(10)):\n",
    "        _, _, _, reject = test_independence(klist, None, n_perms=1000, alpha=0.05, mode = 'permutation')\n",
    "        rejects = rejects + reject\n",
    "    power[str(name)] = rejects\n",
    "    print(power)"
   ]
  },
  {
   "cell_type": "code",
   "execution_count": 140,
   "id": "c560e954-0ae2-4b26-bdd2-fb65b12bb4eb",
   "metadata": {},
   "outputs": [
    {
     "data": {
      "text/plain": [
       "{\"['d1', 'd2']\": 0,\n",
       " \"['d1', 'd3']\": 10,\n",
       " \"['d1', 'd4']\": 10,\n",
       " \"['d2', 'd3']\": 10,\n",
       " \"['d2', 'd4']\": 10,\n",
       " \"['d3', 'd4']\": 0,\n",
       " \"['d1', 'd2', 'd3']\": 10,\n",
       " \"['d1', 'd2', 'd4']\": 10,\n",
       " \"['d1', 'd3', 'd4']\": 10,\n",
       " \"['d2', 'd3', 'd4']\": 10,\n",
       " \"['d1', 'd2', 'd3', 'd4']\": 10}"
      ]
     },
     "execution_count": 140,
     "metadata": {},
     "output_type": "execute_result"
    }
   ],
   "source": [
    "power"
   ]
  },
  {
   "cell_type": "code",
   "execution_count": 172,
   "id": "780e4686-9445-4449-ad62-cf5caa6a1fef",
   "metadata": {},
   "outputs": [
    {
     "data": {
      "text/plain": [
       "[<matplotlib.lines.Line2D at 0x7fd36a336c10>]"
      ]
     },
     "execution_count": 172,
     "metadata": {},
     "output_type": "execute_result"
    },
    {
     "data": {
      "image/png": "[encoded data removed]",
      "text/plain": [
       "<Figure size 432x288 with 1 Axes>"
      ]
     },
     "metadata": {
      "needs_background": "light"
     },
     "output_type": "display_data"
    }
   ],
   "source": [
    "plt.plot(md1[0,:], md2[0,:])"
   ]
  },
  {
   "cell_type": "code",
   "execution_count": 307,
   "id": "16bf854f-bb1a-435b-871c-a8f63e50b184",
   "metadata": {},
   "outputs": [],
   "source": [
    "mat = scipy.io.loadmat('lin1k.mat')"
   ]
  },
  {
   "cell_type": "code",
   "execution_count": 308,
   "id": "48bea396-baa6-4217-b436-cf2d189e30c6",
   "metadata": {},
   "outputs": [
    {
     "data": {
      "text/plain": [
       "(1000, 4, 3000)"
      ]
     },
     "execution_count": 308,
     "metadata": {},
     "output_type": "execute_result"
    }
   ],
   "source": [
    "mat['all_samples'].shape"
   ]
  },
  {
   "cell_type": "code",
   "execution_count": 309,
   "id": "7b3b83a8-bc69-4afa-aad3-fba10586e9d5",
   "metadata": {},
   "outputs": [
    {
     "name": "stdout",
     "output_type": "stream",
     "text": [
      "(500, 50)\n",
      "(500, 500)\n"
     ]
    }
   ],
   "source": [
    "md1 = mat['all_samples'][0:500,0,450:500]\n",
    "md2 = mat['all_samples'][0:500,1,450:500]\n",
    "md3 = mat['all_samples'][0:500,2,450:500]\n",
    "md4 = mat['all_samples'][0:500,3,450:500]\n",
    "print(md1.shape)\n",
    "kmd1 = compute_kernel_n(md1)\n",
    "kmd2 = compute_kernel_n(md2)\n",
    "kmd3 = compute_kernel_n(md3)\n",
    "kmd4 = compute_kernel_n(md4)\n",
    "print(kmd1.shape)"
   ]
  },
  {
   "cell_type": "code",
   "execution_count": 310,
   "id": "cb78b677-e6a0-475f-b740-c5c56107d62b",
   "metadata": {},
   "outputs": [],
   "source": [
    "power_set = find_comb([kmd1, kmd2, kmd3, kmd4])"
   ]
  },
  {
   "cell_type": "code",
   "execution_count": 311,
   "id": "c9b0eaf0-2bd3-42c0-b81f-c5b1c1d12771",
   "metadata": {
    "tags": []
   },
   "outputs": [],
   "source": [
    "power_set_name = find_comb(['d1', 'd2', 'd3', 'd4'])"
   ]
  },
  {
   "cell_type": "code",
   "execution_count": 312,
   "id": "1b932e75-22e5-4d27-972f-ea6227c98a7b",
   "metadata": {
    "tags": []
   },
   "outputs": [
    {
     "data": {
      "application/vnd.jupyter.widget-view+json": {
       "model_id": "0f6b9e70c3ea49b4b57c161f560603a3",
       "version_major": 2,
       "version_minor": 0
      },
      "text/plain": [
       "  0%|          | 0/11 [00:00<?, ?it/s]"
      ]
     },
     "metadata": {},
     "output_type": "display_data"
    },
    {
     "data": {
      "application/vnd.jupyter.widget-view+json": {
       "model_id": "95f38b6457ec4f4f9f340b6a6dcbc38c",
       "version_major": 2,
       "version_minor": 0
      },
      "text/plain": [
       "  0%|          | 0/10 [00:00<?, ?it/s]"
      ]
     },
     "metadata": {},
     "output_type": "display_data"
    },
    {
     "name": "stdout",
     "output_type": "stream",
     "text": [
      "{\"['d1', 'd2']\": 10}\n"
     ]
    },
    {
     "data": {
      "application/vnd.jupyter.widget-view+json": {
       "model_id": "140eb63339a349f780ab13c67d6c0500",
       "version_major": 2,
       "version_minor": 0
      },
      "text/plain": [
       "  0%|          | 0/10 [00:00<?, ?it/s]"
      ]
     },
     "metadata": {},
     "output_type": "display_data"
    },
    {
     "name": "stdout",
     "output_type": "stream",
     "text": [
      "{\"['d1', 'd2']\": 10, \"['d1', 'd3']\": 10}\n"
     ]
    },
    {
     "data": {
      "application/vnd.jupyter.widget-view+json": {
       "model_id": "f13e09e8cc58499484d36bf62ec687de",
       "version_major": 2,
       "version_minor": 0
      },
      "text/plain": [
       "  0%|          | 0/10 [00:00<?, ?it/s]"
      ]
     },
     "metadata": {},
     "output_type": "display_data"
    },
    {
     "ename": "KeyboardInterrupt",
     "evalue": "",
     "output_type": "error",
     "traceback": [
      "\u001b[0;31m---------------------------------------------------------------------------\u001b[0m",
      "\u001b[0;31mKeyboardInterrupt\u001b[0m                         Traceback (most recent call last)",
      "Input \u001b[0;32mIn [312]\u001b[0m, in \u001b[0;36m<cell line: 2>\u001b[0;34m()\u001b[0m\n\u001b[1;32m      3\u001b[0m rejects \u001b[38;5;241m=\u001b[39m \u001b[38;5;241m0\u001b[39m\n\u001b[1;32m      4\u001b[0m \u001b[38;5;28;01mfor\u001b[39;00m i \u001b[38;5;129;01min\u001b[39;00m tqdm(\u001b[38;5;28mrange\u001b[39m(\u001b[38;5;241m10\u001b[39m)):\n\u001b[0;32m----> 5\u001b[0m     _, _, _, reject \u001b[38;5;241m=\u001b[39m \u001b[43mtest_independence\u001b[49m\u001b[43m(\u001b[49m\u001b[43mklist\u001b[49m\u001b[43m,\u001b[49m\u001b[43m \u001b[49m\u001b[38;5;28;43;01mNone\u001b[39;49;00m\u001b[43m,\u001b[49m\u001b[43m \u001b[49m\u001b[43mn_perms\u001b[49m\u001b[38;5;241;43m=\u001b[39;49m\u001b[38;5;241;43m300\u001b[39;49m\u001b[43m,\u001b[49m\u001b[43m \u001b[49m\u001b[43malpha\u001b[49m\u001b[38;5;241;43m=\u001b[39;49m\u001b[38;5;241;43m0.05\u001b[39;49m\u001b[43m,\u001b[49m\u001b[43m \u001b[49m\u001b[43mmode\u001b[49m\u001b[43m \u001b[49m\u001b[38;5;241;43m=\u001b[39;49m\u001b[43m \u001b[49m\u001b[38;5;124;43m'\u001b[39;49m\u001b[38;5;124;43mpermutation\u001b[39;49m\u001b[38;5;124;43m'\u001b[39;49m\u001b[43m)\u001b[49m\n\u001b[1;32m      6\u001b[0m     rejects \u001b[38;5;241m=\u001b[39m rejects \u001b[38;5;241m+\u001b[39m reject\n\u001b[1;32m      7\u001b[0m power[\u001b[38;5;28mstr\u001b[39m(name)] \u001b[38;5;241m=\u001b[39m rejects\n",
      "File \u001b[0;32m/Users/Tim/PycharmProjects/HOI/HOI/tests.py:237\u001b[0m, in \u001b[0;36mtest_independence\u001b[0;34m(k_list, data_list, n_perms, alpha, mode)\u001b[0m\n\u001b[1;32m    235\u001b[0m \u001b[38;5;28;01mif\u001b[39;00m mode \u001b[38;5;241m==\u001b[39m \u001b[38;5;124m'\u001b[39m\u001b[38;5;124mpermutation\u001b[39m\u001b[38;5;124m'\u001b[39m:\n\u001b[1;32m    236\u001b[0m     statistic \u001b[38;5;241m=\u001b[39m compute_dHSIC_statistics(k_list)\n\u001b[0;32m--> 237\u001b[0m     critical_value, pval \u001b[38;5;241m=\u001b[39m \u001b[43mdhsic_permutation\u001b[49m\u001b[43m(\u001b[49m\u001b[43mk_list\u001b[49m\u001b[43m,\u001b[49m\u001b[43m \u001b[49m\u001b[43mn_samples\u001b[49m\u001b[43m,\u001b[49m\u001b[43m \u001b[49m\u001b[43mn_variables\u001b[49m\u001b[43m,\u001b[49m\u001b[43m \u001b[49m\u001b[43mstatistic\u001b[49m\u001b[43m,\u001b[49m\u001b[43m \u001b[49m\u001b[43mn_perms\u001b[49m\u001b[43m,\u001b[49m\u001b[43m \u001b[49m\u001b[43malpha\u001b[49m\u001b[43m)\u001b[49m\n\u001b[1;32m    238\u001b[0m     reject \u001b[38;5;241m=\u001b[39m \u001b[38;5;28mint\u001b[39m(statistic \u001b[38;5;241m>\u001b[39m critical_value)\n\u001b[1;32m    239\u001b[0m     \u001b[38;5;28;01mreturn\u001b[39;00m statistic, critical_value, pval, reject\n",
      "File \u001b[0;32m/Users/Tim/PycharmProjects/HOI/HOI/tests.py:26\u001b[0m, in \u001b[0;36mdhsic_permutation\u001b[0;34m(k_list, n_samples, n_variables, stat_found, n_perms, alpha)\u001b[0m\n\u001b[1;32m     24\u001b[0m \u001b[38;5;28;01mfor\u001b[39;00m i \u001b[38;5;129;01min\u001b[39;00m \u001b[38;5;28mrange\u001b[39m(n_perms):\n\u001b[1;32m     25\u001b[0m     term1 \u001b[38;5;241m=\u001b[39m k_list[\u001b[38;5;241m0\u001b[39m]\n\u001b[0;32m---> 26\u001b[0m     term2 \u001b[38;5;241m=\u001b[39m \u001b[43mnp\u001b[49m\u001b[38;5;241;43m.\u001b[39;49m\u001b[43msum\u001b[49m\u001b[43m(\u001b[49m\u001b[43mk_list\u001b[49m\u001b[43m[\u001b[49m\u001b[38;5;241;43m0\u001b[39;49m\u001b[43m]\u001b[49m\u001b[43m)\u001b[49m \u001b[38;5;241m/\u001b[39m (n_samples \u001b[38;5;241m*\u001b[39m\u001b[38;5;241m*\u001b[39m \u001b[38;5;241m2\u001b[39m)\n\u001b[1;32m     27\u001b[0m     term3 \u001b[38;5;241m=\u001b[39m \u001b[38;5;241m2\u001b[39m \u001b[38;5;241m*\u001b[39m np\u001b[38;5;241m.\u001b[39msum(k_list[\u001b[38;5;241m0\u001b[39m], axis\u001b[38;5;241m=\u001b[39m\u001b[38;5;241m0\u001b[39m) \u001b[38;5;241m/\u001b[39m (n_samples \u001b[38;5;241m*\u001b[39m\u001b[38;5;241m*\u001b[39m \u001b[38;5;241m2\u001b[39m)\n\u001b[1;32m     29\u001b[0m     \u001b[38;5;28;01mfor\u001b[39;00m j \u001b[38;5;129;01min\u001b[39;00m \u001b[38;5;28mrange\u001b[39m(\u001b[38;5;241m1\u001b[39m, n_variables):\n",
      "File \u001b[0;32m<__array_function__ internals>:5\u001b[0m, in \u001b[0;36msum\u001b[0;34m(*args, **kwargs)\u001b[0m\n",
      "File \u001b[0;32m~/opt/anaconda3/lib/python3.9/site-packages/numpy/core/fromnumeric.py:2259\u001b[0m, in \u001b[0;36msum\u001b[0;34m(a, axis, dtype, out, keepdims, initial, where)\u001b[0m\n\u001b[1;32m   2256\u001b[0m         \u001b[38;5;28;01mreturn\u001b[39;00m out\n\u001b[1;32m   2257\u001b[0m     \u001b[38;5;28;01mreturn\u001b[39;00m res\n\u001b[0;32m-> 2259\u001b[0m \u001b[38;5;28;01mreturn\u001b[39;00m \u001b[43m_wrapreduction\u001b[49m\u001b[43m(\u001b[49m\u001b[43ma\u001b[49m\u001b[43m,\u001b[49m\u001b[43m \u001b[49m\u001b[43mnp\u001b[49m\u001b[38;5;241;43m.\u001b[39;49m\u001b[43madd\u001b[49m\u001b[43m,\u001b[49m\u001b[43m \u001b[49m\u001b[38;5;124;43m'\u001b[39;49m\u001b[38;5;124;43msum\u001b[39;49m\u001b[38;5;124;43m'\u001b[39;49m\u001b[43m,\u001b[49m\u001b[43m \u001b[49m\u001b[43maxis\u001b[49m\u001b[43m,\u001b[49m\u001b[43m \u001b[49m\u001b[43mdtype\u001b[49m\u001b[43m,\u001b[49m\u001b[43m \u001b[49m\u001b[43mout\u001b[49m\u001b[43m,\u001b[49m\u001b[43m \u001b[49m\u001b[43mkeepdims\u001b[49m\u001b[38;5;241;43m=\u001b[39;49m\u001b[43mkeepdims\u001b[49m\u001b[43m,\u001b[49m\n\u001b[1;32m   2260\u001b[0m \u001b[43m                      \u001b[49m\u001b[43minitial\u001b[49m\u001b[38;5;241;43m=\u001b[39;49m\u001b[43minitial\u001b[49m\u001b[43m,\u001b[49m\u001b[43m \u001b[49m\u001b[43mwhere\u001b[49m\u001b[38;5;241;43m=\u001b[39;49m\u001b[43mwhere\u001b[49m\u001b[43m)\u001b[49m\n",
      "File \u001b[0;32m~/opt/anaconda3/lib/python3.9/site-packages/numpy/core/fromnumeric.py:86\u001b[0m, in \u001b[0;36m_wrapreduction\u001b[0;34m(obj, ufunc, method, axis, dtype, out, **kwargs)\u001b[0m\n\u001b[1;32m     83\u001b[0m         \u001b[38;5;28;01melse\u001b[39;00m:\n\u001b[1;32m     84\u001b[0m             \u001b[38;5;28;01mreturn\u001b[39;00m reduction(axis\u001b[38;5;241m=\u001b[39maxis, out\u001b[38;5;241m=\u001b[39mout, \u001b[38;5;241m*\u001b[39m\u001b[38;5;241m*\u001b[39mpasskwargs)\n\u001b[0;32m---> 86\u001b[0m \u001b[38;5;28;01mreturn\u001b[39;00m \u001b[43mufunc\u001b[49m\u001b[38;5;241;43m.\u001b[39;49m\u001b[43mreduce\u001b[49m\u001b[43m(\u001b[49m\u001b[43mobj\u001b[49m\u001b[43m,\u001b[49m\u001b[43m \u001b[49m\u001b[43maxis\u001b[49m\u001b[43m,\u001b[49m\u001b[43m \u001b[49m\u001b[43mdtype\u001b[49m\u001b[43m,\u001b[49m\u001b[43m \u001b[49m\u001b[43mout\u001b[49m\u001b[43m,\u001b[49m\u001b[43m \u001b[49m\u001b[38;5;241;43m*\u001b[39;49m\u001b[38;5;241;43m*\u001b[39;49m\u001b[43mpasskwargs\u001b[49m\u001b[43m)\u001b[49m\n",
      "\u001b[0;31mKeyboardInterrupt\u001b[0m: "
     ]
    }
   ],
   "source": [
    "power = {}\n",
    "for (name, klist) in tqdm(zip(power_set_name, power_set), total=len(power_set)):\n",
    "    rejects = 0\n",
    "    for i in tqdm(range(10)):\n",
    "        _, _, _, reject = test_independence(klist, None, n_perms=300, alpha=0.05, mode = 'permutation')\n",
    "        rejects = rejects + reject\n",
    "    power[str(name)] = rejects\n",
    "    print(power)"
   ]
  },
  {
   "cell_type": "code",
   "execution_count": null,
   "id": "d6adb059-8679-41e2-82a5-cd8a6ffbba00",
   "metadata": {},
   "outputs": [],
   "source": []
  }
 ],
 "metadata": {
  "kernelspec": {
   "display_name": "Python 3 (ipykernel)",
   "language": "python",
   "name": "python3"
  },
  "language_info": {
   "codemirror_mode": {
    "name": "ipython",
    "version": 3
   },
   "file_extension": ".py",
   "mimetype": "text/x-python",
   "name": "python",
   "nbconvert_exporter": "python",
   "pygments_lexer": "ipython3",
   "version": "3.9.12"
  }
 },
 "nbformat": 4,
 "nbformat_minor": 5
}

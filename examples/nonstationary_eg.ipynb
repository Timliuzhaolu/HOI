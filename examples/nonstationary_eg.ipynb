{
 "cells": [
  {
   "cell_type": "code",
   "execution_count": 1022,
   "id": "001a66f7-f64b-479d-a98b-3eb8d3594957",
   "metadata": {},
   "outputs": [
    {
     "name": "stdout",
     "output_type": "stream",
     "text": [
      "The autoreload extension is already loaded. To reload it, use:\n",
      "  %reload_ext autoreload\n"
     ]
    }
   ],
   "source": [
    "%load_ext autoreload\n",
    "%autoreload 2"
   ]
  },
  {
   "cell_type": "code",
   "execution_count": 1023,
   "id": "e8de70d7-85cd-4319-aa59-4bf0d2ed7488",
   "metadata": {},
   "outputs": [],
   "source": [
    "import sys\n",
    "sys.path.append('/Users/Tim/PycharmProjects/HOI/')"
   ]
  },
  {
   "cell_type": "code",
   "execution_count": 1024,
   "id": "14090446-a378-49f0-8fda-803b3ca72937",
   "metadata": {},
   "outputs": [
    {
     "data": {
      "text/plain": [
       "['/Users/tim/PycharmProjects/HOI/examples',\n",
       " '/Users/tim/opt/anaconda3/lib/python39.zip',\n",
       " '/Users/tim/opt/anaconda3/lib/python3.9',\n",
       " '/Users/tim/opt/anaconda3/lib/python3.9/lib-dynload',\n",
       " '',\n",
       " '/Users/tim/opt/anaconda3/lib/python3.9/site-packages',\n",
       " '/Users/tim/opt/anaconda3/lib/python3.9/site-packages/aeosa',\n",
       " '/Users/Tim/PycharmProjects/HOI/',\n",
       " '/Users/Tim/PycharmProjects/HOI/']"
      ]
     },
     "execution_count": 1024,
     "metadata": {},
     "output_type": "execute_result"
    }
   ],
   "source": [
    "import sys\n",
    "sys.path"
   ]
  },
  {
   "cell_type": "code",
   "execution_count": 1025,
   "id": "df7de420-a290-483d-8255-576637f00f64",
   "metadata": {},
   "outputs": [
    {
     "data": {
      "text/plain": [
       "'/Users/tim/PycharmProjects/HOI/examples'"
      ]
     },
     "execution_count": 1025,
     "metadata": {},
     "output_type": "execute_result"
    }
   ],
   "source": [
    "import os\n",
    "os.getcwd()"
   ]
  },
  {
   "cell_type": "code",
   "execution_count": 1026,
   "id": "e78112ca-57fb-4177-81c8-b9eebaf8ae0d",
   "metadata": {},
   "outputs": [],
   "source": [
    "import pandas as pd\n",
    "import numpy as np\n",
    "from tqdm.notebook import tqdm\n",
    "from ipywidgets import IntProgress"
   ]
  },
  {
   "cell_type": "code",
   "execution_count": 1027,
   "id": "3b56efd5-d142-46cf-adb1-9dbea81c97f8",
   "metadata": {},
   "outputs": [],
   "source": [
    "from synthetic_data import stationary_pb_ts, nonstationary_ts_n, stationary_pb_ts_n\n",
    "from HOI.preprocessings import compute_kernel, compute_kernel_n\n",
    "from HOI.tests import test_independence"
   ]
  },
  {
   "cell_type": "code",
   "execution_count": 1028,
   "id": "d7598a26-b8e0-476a-81fa-569e4c8179c4",
   "metadata": {},
   "outputs": [],
   "source": [
    "import matplotlib.pyplot as plt\n",
    "\n",
    "def plot_test(data, mode):\n",
    "    x = np.arange(0.1, 1, 0.1)\n",
    "    y = np.array(data)\n",
    "\n",
    "    fig = plt.figure(dpi=800)\n",
    "    ax = fig.add_subplot(111)\n",
    "    ax.set_ylim(0,1.05)\n",
    "    ax.set_xlabel('dependence coefficient')\n",
    "    ax.set_ylabel(mode)\n",
    "    ax.set_title(mode + ' of dHSIC independence tests')\n",
    "    plt.plot(x,y, marker='o', color='b')\n",
    "    for i,j in zip(x,y):\n",
    "        ax.annotate(str(j),xy=(i,j))\n",
    "    plt.show()"
   ]
  },
  {
   "cell_type": "code",
   "execution_count": null,
   "id": "8ffd0f0a-efeb-40a8-a99a-946df6be9fc5",
   "metadata": {},
   "outputs": [],
   "source": []
  },
  {
   "cell_type": "markdown",
   "id": "42433384-2390-4c36-aa63-48987d0fa55d",
   "metadata": {},
   "source": [
    "# triangle"
   ]
  },
  {
   "cell_type": "markdown",
   "id": "47114520-a60c-4c94-a75b-f93a5efd0910",
   "metadata": {
    "tags": []
   },
   "source": [
    "## case2, z = x+y, gt_rejects = [1, 0, 1, 1]"
   ]
  },
  {
   "cell_type": "code",
   "execution_count": 1062,
   "id": "ee6cc906-331a-472b-8b78-92c2e56a54c6",
   "metadata": {},
   "outputs": [
    {
     "name": "stdout",
     "output_type": "stream",
     "text": [
      "1 0 1 1\n",
      "1 0 1 1\n",
      "1 0 1 1\n",
      "1 0 1 1\n",
      "1 0 1 1\n",
      "1 0 1 1\n",
      "1 0 1 1\n",
      "1 0 1 1\n",
      "1 0 1 1\n",
      "1 0 1 1\n",
      "1 0 1 1\n",
      "1 0 1 1\n",
      "1 0 1 1\n",
      "1 0 1 1\n",
      "1 0 1 1\n",
      "1 0 1 1\n",
      "1 0 1 1\n",
      "1 0 1 1\n",
      "1 0 1 1\n",
      "1 0 1 1\n"
     ]
    }
   ],
   "source": [
    "for n in range(20):\n",
    "    d1, d2, _, d3 = nonstationary_ts_n(n_sample=100, t_time=10, d=0.9, mode='case2', a=0.5, order=3)\n",
    "    kd1 = compute_kernel_n(d1)\n",
    "    kd2 = compute_kernel_n(d2)\n",
    "    kd3 = compute_kernel_n(d3)\n",
    "    _, _, reject = test_independence([kd1, kd2, kd3],None,\n",
    "                                              mode = 'iid', n_perms=5000, alpha=0.05)\n",
    "\n",
    "    _, _, reject1 = test_independence([kd1, kd2], None,\n",
    "                                          mode = 'iid', n_perms=5000, alpha=0.05)\n",
    "\n",
    "    _, _, reject2 = test_independence([kd1, kd3],None,\n",
    "                                      mode = 'iid', n_perms=5000, alpha=0.05)\n",
    "\n",
    "    _, _, reject3 = test_independence([kd2, kd3],None,\n",
    "                                      mode = 'iid', n_perms=5000, alpha=0.05)\n",
    "    print(reject, reject1, reject2, reject3)"
   ]
  },
  {
   "cell_type": "markdown",
   "id": "e72d911f-c1a9-4331-8220-2a0524f615a2",
   "metadata": {
    "tags": []
   },
   "source": [
    "# case1, z = xy, gt_rejects = [1, 0, 0, 0]"
   ]
  },
  {
   "cell_type": "code",
   "execution_count": 1061,
   "id": "6984101d-fade-4075-bf01-4029beb41803",
   "metadata": {
    "tags": []
   },
   "outputs": [
    {
     "name": "stdout",
     "output_type": "stream",
     "text": [
      "0 0 0 0\n",
      "1 1 0 0\n",
      "1 0 0 0\n",
      "1 0 0 0\n",
      "0 0 0 0\n",
      "0 0 0 0\n",
      "1 0 1 1\n",
      "0 0 0 0\n",
      "1 0 0 0\n",
      "1 0 0 0\n",
      "0 0 0 0\n",
      "0 0 0 0\n",
      "0 0 0 0\n",
      "0 0 0 0\n",
      "1 0 0 0\n",
      "1 0 0 0\n",
      "1 0 0 0\n",
      "1 0 0 0\n",
      "1 0 0 0\n",
      "1 0 1 0\n"
     ]
    }
   ],
   "source": [
    "for n in range(20):\n",
    "    d1, d2, _, d3 = nonstationary_ts_n(n_sample=200, t_time=40, d=8, mode='case1', a=0.5, order=3)\n",
    "    kd1 = compute_kernel_n(d1)\n",
    "    kd2 = compute_kernel_n(d2)\n",
    "    kd3 = compute_kernel_n(d3)\n",
    "    _, _, reject = test_independence([kd1, kd2, kd3],None,\n",
    "                                              mode = 'iid', n_perms=2000, alpha=0.05)\n",
    "\n",
    "    _, _, reject1 = test_independence([kd1, kd2], None,\n",
    "                                          mode = 'iid', n_perms=2000, alpha=0.05)\n",
    "\n",
    "    _, _, reject2 = test_independence([kd1, kd3],None,\n",
    "                                      mode = 'iid', n_perms=2000, alpha=0.05)\n",
    "\n",
    "    _, _, reject3 = test_independence([kd2, kd3],None,\n",
    "                                      mode = 'iid', n_perms=2000, alpha=0.05)\n",
    "    print(reject, reject1, reject2, reject3)"
   ]
  },
  {
   "cell_type": "code",
   "execution_count": null,
   "id": "6454421f-9976-4404-8100-477499973e3c",
   "metadata": {},
   "outputs": [],
   "source": []
  },
  {
   "cell_type": "code",
   "execution_count": null,
   "id": "d6971f24-e4fc-4d9f-9875-d54d4247d137",
   "metadata": {},
   "outputs": [],
   "source": []
  },
  {
   "cell_type": "markdown",
   "id": "63967c1e-4959-4024-9bbb-2c4f0c8a65eb",
   "metadata": {},
   "source": [
    "## case 3, no edges, gt_rejeccts = [0, 0, 0, 0]"
   ]
  },
  {
   "cell_type": "code",
   "execution_count": 1039,
   "id": "bed164a7-f6bd-48c8-98cd-7e41f71e1710",
   "metadata": {
    "tags": []
   },
   "outputs": [
    {
     "name": "stdout",
     "output_type": "stream",
     "text": [
      "1 1 0 1\n",
      "0 0 0 0\n",
      "0 0 0 0\n",
      "0 0 0 0\n",
      "0 0 0 0\n",
      "1 1 0 0\n",
      "0 0 0 0\n",
      "0 0 0 0\n",
      "0 0 0 1\n",
      "0 0 0 0\n",
      "0 0 0 0\n",
      "0 0 0 0\n",
      "0 0 0 0\n",
      "0 0 0 0\n",
      "0 0 0 0\n",
      "0 0 0 0\n",
      "0 0 0 0\n",
      "0 1 0 0\n",
      "0 0 0 1\n",
      "0 0 0 0\n",
      "0 0 0 0\n",
      "0 0 0 0\n",
      "0 0 0 0\n",
      "0 0 0 0\n",
      "0 0 0 0\n",
      "0 0 0 0\n",
      "0 0 0 0\n",
      "0 0 1 0\n",
      "0 0 0 0\n",
      "0 0 0 0\n"
     ]
    }
   ],
   "source": [
    "for n in range(30):\n",
    "    d1, d2, _, d3 = nonstationary_ts_n(n_sample=100, t_time=10, d=0.9, mode='case3', a=0.9, order=3)    \n",
    "    kd1 = compute_kernel_n(d1)\n",
    "    kd2 = compute_kernel_n(d2)\n",
    "    kd3 = compute_kernel_n(d3)\n",
    "    _, _, reject = test_independence([kd1, kd2, kd3],None,\n",
    "                                              mode = 'iid', n_perms=5000, alpha=0.05)\n",
    "\n",
    "    _, _, reject1 = test_independence([kd1, kd2], None,\n",
    "                                          mode = 'iid', n_perms=5000, alpha=0.05)\n",
    "\n",
    "    _, _, reject2 = test_independence([kd1, kd3],None,\n",
    "                                      mode = 'iid', n_perms=5000, alpha=0.05)\n",
    "\n",
    "    _, _, reject3 = test_independence([kd2, kd3],None,\n",
    "                                      mode = 'iid', n_perms=5000, alpha=0.05)\n",
    "    print(reject, reject1, reject2, reject3)"
   ]
  },
  {
   "cell_type": "markdown",
   "id": "78c807b4-5795-4bff-a872-4874894d105e",
   "metadata": {},
   "source": [
    "# tetrahedron"
   ]
  },
  {
   "cell_type": "markdown",
   "id": "ed59db80-0cf8-4f98-8af7-5a88d69f6059",
   "metadata": {},
   "source": [
    "# case1 gt_reject = [1,0,0,0]"
   ]
  },
  {
   "cell_type": "code",
   "execution_count": null,
   "id": "47afeceb-36e1-46c0-a6b0-38b8a3a2f909",
   "metadata": {},
   "outputs": [],
   "source": []
  }
 ],
 "metadata": {
  "kernelspec": {
   "display_name": "Python 3 (ipykernel)",
   "language": "python",
   "name": "python3"
  },
  "language_info": {
   "codemirror_mode": {
    "name": "ipython",
    "version": 3
   },
   "file_extension": ".py",
   "mimetype": "text/x-python",
   "name": "python",
   "nbconvert_exporter": "python",
   "pygments_lexer": "ipython3",
   "version": "3.9.12"
  }
 },
 "nbformat": 4,
 "nbformat_minor": 5
}

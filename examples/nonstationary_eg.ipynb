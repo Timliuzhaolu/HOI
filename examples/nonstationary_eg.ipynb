{
 "cells": [
  {
   "cell_type": "code",
   "execution_count": 1,
   "id": "001a66f7-f64b-479d-a98b-3eb8d3594957",
   "metadata": {},
   "outputs": [],
   "source": [
    "%load_ext autoreload\n",
    "%autoreload 2"
   ]
  },
  {
   "cell_type": "code",
   "execution_count": 2,
   "id": "e8de70d7-85cd-4319-aa59-4bf0d2ed7488",
   "metadata": {},
   "outputs": [],
   "source": [
    "import sys\n",
    "sys.path.append('/Users/Tim/PycharmProjects/HOI/')"
   ]
  },
  {
   "cell_type": "code",
   "execution_count": 3,
   "id": "14090446-a378-49f0-8fda-803b3ca72937",
   "metadata": {},
   "outputs": [
    {
     "data": {
      "text/plain": [
       "['/Users/tim/PycharmProjects/HOI/examples',\n",
       " '/Users/tim/.conda/envs/HOI/lib/python310.zip',\n",
       " '/Users/tim/.conda/envs/HOI/lib/python3.10',\n",
       " '/Users/tim/.conda/envs/HOI/lib/python3.10/lib-dynload',\n",
       " '',\n",
       " '/Users/tim/.conda/envs/HOI/lib/python3.10/site-packages',\n",
       " '/Users/Tim/PycharmProjects/HOI/']"
      ]
     },
     "execution_count": 3,
     "metadata": {},
     "output_type": "execute_result"
    }
   ],
   "source": [
    "import sys\n",
    "sys.path"
   ]
  },
  {
   "cell_type": "code",
   "execution_count": 4,
   "id": "df7de420-a290-483d-8255-576637f00f64",
   "metadata": {},
   "outputs": [
    {
     "data": {
      "text/plain": [
       "'/Users/tim/PycharmProjects/HOI/examples'"
      ]
     },
     "execution_count": 4,
     "metadata": {},
     "output_type": "execute_result"
    }
   ],
   "source": [
    "import os\n",
    "os.getcwd()"
   ]
  },
  {
   "cell_type": "code",
   "execution_count": 11,
   "id": "e78112ca-57fb-4177-81c8-b9eebaf8ae0d",
   "metadata": {},
   "outputs": [],
   "source": [
    "import numba\n",
    "import pandas as pd\n",
    "import numpy as np\n",
    "from tqdm.notebook import tqdm\n",
    "from ipywidgets import IntProgress"
   ]
  },
  {
   "cell_type": "code",
   "execution_count": 6,
   "id": "3b56efd5-d142-46cf-adb1-9dbea81c97f8",
   "metadata": {},
   "outputs": [],
   "source": [
    "from synthetic_data import stationary_pb_ts, nonstationary_ts_n, stationary_pb_ts_n\n",
    "from HOI.preprocessings import compute_kernel, compute_kernel_n\n",
    "from HOI.tests import test_independence"
   ]
  },
  {
   "cell_type": "code",
   "execution_count": 7,
   "id": "d7598a26-b8e0-476a-81fa-569e4c8179c4",
   "metadata": {},
   "outputs": [],
   "source": [
    "import matplotlib.pyplot as plt\n",
    "\n",
    "def plot_test(data, mode):\n",
    "    x = np.arange(0.1, 1, 0.1)\n",
    "    y = np.array(data)\n",
    "\n",
    "    fig = plt.figure(dpi=800)\n",
    "    ax = fig.add_subplot(111)\n",
    "    ax.set_ylim(0,1.05)\n",
    "    ax.set_xlabel('dependence coefficient')\n",
    "    ax.set_ylabel(mode)\n",
    "    ax.set_title(mode + ' of dHSIC independence tests')\n",
    "    plt.plot(x,y, marker='o', color='b')\n",
    "    for i,j in zip(x,y):\n",
    "        ax.annotate(str(j),xy=(i,j))\n",
    "    plt.show()"
   ]
  },
  {
   "cell_type": "code",
   "execution_count": null,
   "id": "8ffd0f0a-efeb-40a8-a99a-946df6be9fc5",
   "metadata": {},
   "outputs": [],
   "source": []
  },
  {
   "cell_type": "markdown",
   "id": "42433384-2390-4c36-aa63-48987d0fa55d",
   "metadata": {},
   "source": [
    "# triangle"
   ]
  },
  {
   "cell_type": "markdown",
   "id": "47114520-a60c-4c94-a75b-f93a5efd0910",
   "metadata": {
    "tags": []
   },
   "source": [
    "## case2, z = x+y, gt_rejects = [1, 0, 1, 1]"
   ]
  },
  {
   "cell_type": "code",
   "execution_count": 22,
   "id": "5e616466",
   "metadata": {},
   "outputs": [
    {
     "data": {
      "application/json": {
       "ascii": false,
       "bar_format": null,
       "colour": null,
       "elapsed": 0.008687734603881836,
       "initial": 0,
       "n": 0,
       "ncols": null,
       "nrows": 24,
       "postfix": null,
       "prefix": "",
       "rate": null,
       "total": 6,
       "unit": "it",
       "unit_divisor": 1000,
       "unit_scale": false
      },
      "application/vnd.jupyter.widget-view+json": {
       "model_id": "63da3a444f744106bffc0796a8d5d6c8",
       "version_major": 2,
       "version_minor": 0
      },
      "text/plain": [
       "  0%|          | 0/6 [00:00<?, ?it/s]"
      ]
     },
     "metadata": {},
     "output_type": "display_data"
    },
    {
     "data": {
      "application/json": {
       "ascii": false,
       "bar_format": null,
       "colour": null,
       "elapsed": 0.00963902473449707,
       "initial": 0,
       "n": 0,
       "ncols": null,
       "nrows": 24,
       "postfix": null,
       "prefix": "",
       "rate": null,
       "total": 100,
       "unit": "it",
       "unit_divisor": 1000,
       "unit_scale": false
      },
      "application/vnd.jupyter.widget-view+json": {
       "model_id": "963ea00e708347e090673b8c809a00b1",
       "version_major": 2,
       "version_minor": 0
      },
      "text/plain": [
       "  0%|          | 0/100 [00:00<?, ?it/s]"
      ]
     },
     "metadata": {},
     "output_type": "display_data"
    },
    {
     "name": "stdout",
     "output_type": "stream",
     "text": [
      "{'0.1': 0.86}\n"
     ]
    },
    {
     "data": {
      "application/json": {
       "ascii": false,
       "bar_format": null,
       "colour": null,
       "elapsed": 0.0060231685638427734,
       "initial": 0,
       "n": 0,
       "ncols": null,
       "nrows": 24,
       "postfix": null,
       "prefix": "",
       "rate": null,
       "total": 100,
       "unit": "it",
       "unit_divisor": 1000,
       "unit_scale": false
      },
      "application/vnd.jupyter.widget-view+json": {
       "model_id": "18fecd4307c24f78a0eb15c46e9ab5dc",
       "version_major": 2,
       "version_minor": 0
      },
      "text/plain": [
       "  0%|          | 0/100 [00:00<?, ?it/s]"
      ]
     },
     "metadata": {},
     "output_type": "display_data"
    },
    {
     "ename": "KeyboardInterrupt",
     "evalue": "",
     "output_type": "error",
     "traceback": [
      "\u001b[0;31m---------------------------------------------------------------------------\u001b[0m",
      "\u001b[0;31mKeyboardInterrupt\u001b[0m                         Traceback (most recent call last)",
      "Input \u001b[0;32mIn [22]\u001b[0m, in \u001b[0;36m<cell line: 2>\u001b[0;34m()\u001b[0m\n\u001b[1;32m      7\u001b[0m     kd2 \u001b[38;5;241m=\u001b[39m compute_kernel_n(d2)\n\u001b[1;32m      8\u001b[0m     kd3 \u001b[38;5;241m=\u001b[39m compute_kernel_n(d3)\n\u001b[0;32m----> 9\u001b[0m     _, _, _, reject \u001b[38;5;241m=\u001b[39m \u001b[43mtest_independence\u001b[49m\u001b[43m(\u001b[49m\u001b[43m[\u001b[49m\u001b[43mkd1\u001b[49m\u001b[43m,\u001b[49m\u001b[43m \u001b[49m\u001b[43mkd2\u001b[49m\u001b[43m,\u001b[49m\u001b[43m \u001b[49m\u001b[43mkd3\u001b[49m\u001b[43m]\u001b[49m\u001b[43m,\u001b[49m\u001b[38;5;28;43;01mNone\u001b[39;49;00m\u001b[43m,\u001b[49m\u001b[43m \u001b[49m\u001b[43mmode\u001b[49m\u001b[43m \u001b[49m\u001b[38;5;241;43m=\u001b[39;49m\u001b[43m \u001b[49m\u001b[38;5;124;43m'\u001b[39;49m\u001b[38;5;124;43miid\u001b[39;49m\u001b[38;5;124;43m'\u001b[39;49m\u001b[43m,\u001b[49m\u001b[43m \u001b[49m\u001b[43mn_perms\u001b[49m\u001b[38;5;241;43m=\u001b[39;49m\u001b[38;5;241;43m5000\u001b[39;49m\u001b[43m,\u001b[49m\u001b[43m \u001b[49m\u001b[43malpha\u001b[49m\u001b[38;5;241;43m=\u001b[39;49m\u001b[38;5;241;43m0.05\u001b[39;49m\u001b[43m)\u001b[49m\n\u001b[1;32m     11\u001b[0m     rejects \u001b[38;5;241m=\u001b[39m rejects \u001b[38;5;241m+\u001b[39m reject\n\u001b[1;32m     12\u001b[0m power[\u001b[38;5;28mstr\u001b[39m(d)] \u001b[38;5;241m=\u001b[39m rejects\u001b[38;5;241m/\u001b[39m\u001b[38;5;241m100\u001b[39m\n",
      "File \u001b[0;32m/Users/Tim/PycharmProjects/HOI/HOI/tests.py:167\u001b[0m, in \u001b[0;36mtest_independence\u001b[0;34m(k_list, data_list, mode, n_perms, alpha)\u001b[0m\n\u001b[1;32m    165\u001b[0m \u001b[38;5;28;01mif\u001b[39;00m mode \u001b[38;5;241m==\u001b[39m \u001b[38;5;124m'\u001b[39m\u001b[38;5;124miid\u001b[39m\u001b[38;5;124m'\u001b[39m:\n\u001b[1;32m    166\u001b[0m     statistic \u001b[38;5;241m=\u001b[39m compute_dHSIC_statistics(k_list)\n\u001b[0;32m--> 167\u001b[0m     critical_value, pval \u001b[38;5;241m=\u001b[39m \u001b[43mpermutation\u001b[49m\u001b[43m(\u001b[49m\u001b[43mk_list\u001b[49m\u001b[43m,\u001b[49m\u001b[43m \u001b[49m\u001b[43mn_samples\u001b[49m\u001b[43m,\u001b[49m\u001b[43m \u001b[49m\u001b[43mn_variables\u001b[49m\u001b[43m,\u001b[49m\u001b[43m \u001b[49m\u001b[43mstatistic\u001b[49m\u001b[43m,\u001b[49m\u001b[43m \u001b[49m\u001b[43mn_perms\u001b[49m\u001b[43m,\u001b[49m\u001b[43m \u001b[49m\u001b[43malpha\u001b[49m\u001b[43m)\u001b[49m\n\u001b[1;32m    168\u001b[0m     reject \u001b[38;5;241m=\u001b[39m \u001b[38;5;28mint\u001b[39m(statistic \u001b[38;5;241m>\u001b[39m critical_value)\n\u001b[1;32m    169\u001b[0m     \u001b[38;5;28;01mreturn\u001b[39;00m statistic, critical_value, pval, reject\n",
      "File \u001b[0;32m/Users/Tim/PycharmProjects/HOI/HOI/tests.py:31\u001b[0m, in \u001b[0;36mpermutation\u001b[0;34m(k_list, n_samples, n_variables, stat_found, n_perms, alpha)\u001b[0m\n\u001b[1;32m     28\u001b[0m     k_perm \u001b[38;5;241m=\u001b[39m k_list[j][index_perm, index_perm[:, \u001b[38;5;28;01mNone\u001b[39;00m]]\n\u001b[1;32m     30\u001b[0m     term1 \u001b[38;5;241m=\u001b[39m term1 \u001b[38;5;241m*\u001b[39m k_perm\n\u001b[0;32m---> 31\u001b[0m     term2 \u001b[38;5;241m=\u001b[39m term2 \u001b[38;5;241m*\u001b[39m \u001b[43mnp\u001b[49m\u001b[38;5;241;43m.\u001b[39;49m\u001b[43msum\u001b[49m\u001b[43m(\u001b[49m\u001b[43mk_perm\u001b[49m\u001b[43m)\u001b[49m \u001b[38;5;241m/\u001b[39m (n_samples \u001b[38;5;241m*\u001b[39m\u001b[38;5;241m*\u001b[39m \u001b[38;5;241m2\u001b[39m)\n\u001b[1;32m     32\u001b[0m     term3 \u001b[38;5;241m=\u001b[39m term3 \u001b[38;5;241m*\u001b[39m np\u001b[38;5;241m.\u001b[39msum(k_perm, axis\u001b[38;5;241m=\u001b[39m\u001b[38;5;241m0\u001b[39m) \u001b[38;5;241m/\u001b[39m n_samples\n\u001b[1;32m     34\u001b[0m term1_sum \u001b[38;5;241m=\u001b[39m np\u001b[38;5;241m.\u001b[39msum(term1)\n",
      "File \u001b[0;32m<__array_function__ internals>:2\u001b[0m, in \u001b[0;36msum\u001b[0;34m(*args, **kwargs)\u001b[0m\n",
      "\u001b[0;31mKeyboardInterrupt\u001b[0m: "
     ]
    }
   ],
   "source": [
    "power ={}\n",
    "for d in tqdm(np.arange(0.1, 0.7, 0.1)):\n",
    "    rejects = 0\n",
    "    for i in tqdm(np.arange(100)):\n",
    "        d1, d2, _, d3 = nonstationary_ts_n(n_sample=300, t_time=10, d=d, mode='case2', a=0.5, order=3)\n",
    "        kd1 = compute_kernel_n(d1)\n",
    "        kd2 = compute_kernel_n(d2)\n",
    "        kd3 = compute_kernel_n(d3)\n",
    "        _, _, _, reject = test_independence([kd1, kd2, kd3],None, mode = 'iid', n_perms=5000, alpha=0.05)\n",
    "        \n",
    "        rejects = rejects + reject\n",
    "    power[str(d)] = rejects/100\n",
    "    print(power)\n",
    "print(power)"
   ]
  },
  {
   "cell_type": "markdown",
   "id": "e72d911f-c1a9-4331-8220-2a0524f615a2",
   "metadata": {
    "tags": []
   },
   "source": [
    "# case1, z = xy, gt_rejects = [1, 0, 0, 0]"
   ]
  },
  {
   "cell_type": "code",
   "execution_count": 29,
   "id": "6984101d-fade-4075-bf01-4029beb41803",
   "metadata": {
    "scrolled": true,
    "tags": []
   },
   "outputs": [
    {
     "data": {
      "application/json": {
       "ascii": false,
       "bar_format": null,
       "colour": null,
       "elapsed": 0.010097980499267578,
       "initial": 0,
       "n": 0,
       "ncols": null,
       "nrows": 24,
       "postfix": null,
       "prefix": "",
       "rate": null,
       "total": 6,
       "unit": "it",
       "unit_divisor": 1000,
       "unit_scale": false
      },
      "application/vnd.jupyter.widget-view+json": {
       "model_id": "5b39df1b083b4e75a84b5bfbb6714dfd",
       "version_major": 2,
       "version_minor": 0
      },
      "text/plain": [
       "  0%|          | 0/6 [00:00<?, ?it/s]"
      ]
     },
     "metadata": {},
     "output_type": "display_data"
    },
    {
     "data": {
      "application/json": {
       "ascii": false,
       "bar_format": null,
       "colour": null,
       "elapsed": 0.009608983993530273,
       "initial": 0,
       "n": 0,
       "ncols": null,
       "nrows": 24,
       "postfix": null,
       "prefix": "",
       "rate": null,
       "total": 100,
       "unit": "it",
       "unit_divisor": 1000,
       "unit_scale": false
      },
      "application/vnd.jupyter.widget-view+json": {
       "model_id": "a0f2453a654e45d0b2a8b1519dd7701d",
       "version_major": 2,
       "version_minor": 0
      },
      "text/plain": [
       "  0%|          | 0/100 [00:00<?, ?it/s]"
      ]
     },
     "metadata": {},
     "output_type": "display_data"
    },
    {
     "ename": "ValueError",
     "evalue": "too many values to unpack (expected 3)",
     "output_type": "error",
     "traceback": [
      "\u001b[0;31m---------------------------------------------------------------------------\u001b[0m",
      "\u001b[0;31mValueError\u001b[0m                                Traceback (most recent call last)",
      "Input \u001b[0;32mIn [29]\u001b[0m, in \u001b[0;36m<cell line: 2>\u001b[0;34m()\u001b[0m\n\u001b[1;32m      3\u001b[0m rejects \u001b[38;5;241m=\u001b[39m \u001b[38;5;241m0\u001b[39m\n\u001b[1;32m      4\u001b[0m \u001b[38;5;28;01mfor\u001b[39;00m i \u001b[38;5;129;01min\u001b[39;00m tqdm(np\u001b[38;5;241m.\u001b[39marange(\u001b[38;5;241m100\u001b[39m)):\n\u001b[0;32m----> 5\u001b[0m     d1, d2, d3 \u001b[38;5;241m=\u001b[39m nonstationary_ts_n(n_sample\u001b[38;5;241m=\u001b[39m\u001b[38;5;241m300\u001b[39m, t_time\u001b[38;5;241m=\u001b[39m\u001b[38;5;241m10\u001b[39m, d\u001b[38;5;241m=\u001b[39md, mode\u001b[38;5;241m=\u001b[39m\u001b[38;5;124m'\u001b[39m\u001b[38;5;124mcase1\u001b[39m\u001b[38;5;124m'\u001b[39m, a\u001b[38;5;241m=\u001b[39m\u001b[38;5;241m0.5\u001b[39m, order\u001b[38;5;241m=\u001b[39m\u001b[38;5;241m3\u001b[39m)\n\u001b[1;32m      6\u001b[0m     kd1 \u001b[38;5;241m=\u001b[39m compute_kernel_n(d1)\n\u001b[1;32m      7\u001b[0m     kd2 \u001b[38;5;241m=\u001b[39m compute_kernel_n(d2)\n",
      "\u001b[0;31mValueError\u001b[0m: too many values to unpack (expected 3)"
     ]
    }
   ],
   "source": [
    "power ={}\n",
    "for d in tqdm(np.arange(0.1, 0.7, 0.1)):\n",
    "    rejects = 0\n",
    "    for i in tqdm(np.arange(100)):\n",
    "        d1, d2, _, d3 = nonstationary_ts_n(n_sample=300, t_time=10, d=d, mode='case1', a=0.5, order=3)\n",
    "        kd1 = compute_kernel_n(d1)\n",
    "        kd2 = compute_kernel_n(d2)\n",
    "        kd3 = compute_kernel_n(d3)\n",
    "        _, _, _, reject = test_independence([kd1, kd2, kd3],None,\n",
    "                                                  mode = 'iid', n_perms=5000, alpha=0.05)\n",
    "        \n",
    "        rejects = rejects + reject\n",
    "    power[str(d)] = rejects/100\n",
    "    print(power)\n",
    "print(power)"
   ]
  },
  {
   "cell_type": "code",
   "execution_count": null,
   "id": "b1bb6c78",
   "metadata": {},
   "outputs": [],
   "source": []
  },
  {
   "cell_type": "code",
   "execution_count": null,
   "id": "baa81527",
   "metadata": {},
   "outputs": [],
   "source": []
  },
  {
   "cell_type": "markdown",
   "id": "63967c1e-4959-4024-9bbb-2c4f0c8a65eb",
   "metadata": {},
   "source": [
    "## case 3, no edges, gt_rejeccts = [0, 0, 0, 0]"
   ]
  },
  {
   "cell_type": "code",
   "execution_count": 40,
   "id": "bed164a7-f6bd-48c8-98cd-7e41f71e1710",
   "metadata": {
    "tags": []
   },
   "outputs": [
    {
     "data": {
      "application/json": {
       "ascii": false,
       "bar_format": null,
       "colour": null,
       "elapsed": 0.00989079475402832,
       "initial": 0,
       "n": 0,
       "ncols": null,
       "nrows": 24,
       "postfix": null,
       "prefix": "",
       "rate": null,
       "total": 9,
       "unit": "it",
       "unit_divisor": 1000,
       "unit_scale": false
      },
      "application/vnd.jupyter.widget-view+json": {
       "model_id": "7e0d9417ef8e40dea558e213e6e52440",
       "version_major": 2,
       "version_minor": 0
      },
      "text/plain": [
       "  0%|          | 0/9 [00:00<?, ?it/s]"
      ]
     },
     "metadata": {},
     "output_type": "display_data"
    },
    {
     "data": {
      "application/json": {
       "ascii": false,
       "bar_format": null,
       "colour": null,
       "elapsed": 0.009979248046875,
       "initial": 0,
       "n": 0,
       "ncols": null,
       "nrows": 24,
       "postfix": null,
       "prefix": "",
       "rate": null,
       "total": 100,
       "unit": "it",
       "unit_divisor": 1000,
       "unit_scale": false
      },
      "application/vnd.jupyter.widget-view+json": {
       "model_id": "6c8077b32da24fa5aff702b446ac29e4",
       "version_major": 2,
       "version_minor": 0
      },
      "text/plain": [
       "  0%|          | 0/100 [00:00<?, ?it/s]"
      ]
     },
     "metadata": {},
     "output_type": "display_data"
    },
    {
     "name": "stdout",
     "output_type": "stream",
     "text": [
      "{'1.0': 0.0525}\n"
     ]
    },
    {
     "data": {
      "application/json": {
       "ascii": false,
       "bar_format": null,
       "colour": null,
       "elapsed": 0.006030082702636719,
       "initial": 0,
       "n": 0,
       "ncols": null,
       "nrows": 24,
       "postfix": null,
       "prefix": "",
       "rate": null,
       "total": 100,
       "unit": "it",
       "unit_divisor": 1000,
       "unit_scale": false
      },
      "application/vnd.jupyter.widget-view+json": {
       "model_id": "06dd0395171b4960bbcd9029f9a1d372",
       "version_major": 2,
       "version_minor": 0
      },
      "text/plain": [
       "  0%|          | 0/100 [00:00<?, ?it/s]"
      ]
     },
     "metadata": {},
     "output_type": "display_data"
    },
    {
     "ename": "KeyboardInterrupt",
     "evalue": "",
     "output_type": "error",
     "traceback": [
      "\u001b[0;31m---------------------------------------------------------------------------\u001b[0m",
      "\u001b[0;31mKeyboardInterrupt\u001b[0m                         Traceback (most recent call last)",
      "Input \u001b[0;32mIn [40]\u001b[0m, in \u001b[0;36m<cell line: 2>\u001b[0;34m()\u001b[0m\n\u001b[1;32m      8\u001b[0m     kd3 \u001b[38;5;241m=\u001b[39m compute_kernel_n(d3)\n\u001b[1;32m      9\u001b[0m     _, _, _, reject \u001b[38;5;241m=\u001b[39m test_independence([kd1, kd2, kd3],\u001b[38;5;28;01mNone\u001b[39;00m,\n\u001b[1;32m     10\u001b[0m                                               mode \u001b[38;5;241m=\u001b[39m \u001b[38;5;124m'\u001b[39m\u001b[38;5;124miid\u001b[39m\u001b[38;5;124m'\u001b[39m, n_perms\u001b[38;5;241m=\u001b[39m\u001b[38;5;241m5000\u001b[39m, alpha\u001b[38;5;241m=\u001b[39m\u001b[38;5;241m0.05\u001b[39m)\n\u001b[0;32m---> 11\u001b[0m     _, _, _, reject_1 \u001b[38;5;241m=\u001b[39m \u001b[43mtest_independence\u001b[49m\u001b[43m(\u001b[49m\u001b[43m[\u001b[49m\u001b[43mkd1\u001b[49m\u001b[43m,\u001b[49m\u001b[43m \u001b[49m\u001b[43mkd2\u001b[49m\u001b[43m]\u001b[49m\u001b[43m,\u001b[49m\u001b[38;5;28;43;01mNone\u001b[39;49;00m\u001b[43m,\u001b[49m\n\u001b[1;32m     12\u001b[0m \u001b[43m                                              \u001b[49m\u001b[43mmode\u001b[49m\u001b[43m \u001b[49m\u001b[38;5;241;43m=\u001b[39;49m\u001b[43m \u001b[49m\u001b[38;5;124;43m'\u001b[39;49m\u001b[38;5;124;43miid\u001b[39;49m\u001b[38;5;124;43m'\u001b[39;49m\u001b[43m,\u001b[49m\u001b[43m \u001b[49m\u001b[43mn_perms\u001b[49m\u001b[38;5;241;43m=\u001b[39;49m\u001b[38;5;241;43m5000\u001b[39;49m\u001b[43m,\u001b[49m\u001b[43m \u001b[49m\u001b[43malpha\u001b[49m\u001b[38;5;241;43m=\u001b[39;49m\u001b[38;5;241;43m0.05\u001b[39;49m\u001b[43m)\u001b[49m\n\u001b[1;32m     13\u001b[0m     rejects \u001b[38;5;241m=\u001b[39m rejects \u001b[38;5;241m+\u001b[39m reject \u001b[38;5;241m+\u001b[39m reject_1 \u001b[38;5;241m*\u001b[39m \u001b[38;5;241m3\u001b[39m\n\u001b[1;32m     14\u001b[0m power[\u001b[38;5;28mstr\u001b[39m(d)] \u001b[38;5;241m=\u001b[39m rejects\u001b[38;5;241m/\u001b[39m\u001b[38;5;241m400\u001b[39m\n",
      "File \u001b[0;32m/Users/Tim/PycharmProjects/HOI/HOI/tests.py:167\u001b[0m, in \u001b[0;36mtest_independence\u001b[0;34m(k_list, data_list, mode, n_perms, alpha)\u001b[0m\n\u001b[1;32m    165\u001b[0m \u001b[38;5;28;01mif\u001b[39;00m mode \u001b[38;5;241m==\u001b[39m \u001b[38;5;124m'\u001b[39m\u001b[38;5;124miid\u001b[39m\u001b[38;5;124m'\u001b[39m:\n\u001b[1;32m    166\u001b[0m     statistic \u001b[38;5;241m=\u001b[39m compute_dHSIC_statistics(k_list)\n\u001b[0;32m--> 167\u001b[0m     critical_value, pval \u001b[38;5;241m=\u001b[39m \u001b[43mpermutation\u001b[49m\u001b[43m(\u001b[49m\u001b[43mk_list\u001b[49m\u001b[43m,\u001b[49m\u001b[43m \u001b[49m\u001b[43mn_samples\u001b[49m\u001b[43m,\u001b[49m\u001b[43m \u001b[49m\u001b[43mn_variables\u001b[49m\u001b[43m,\u001b[49m\u001b[43m \u001b[49m\u001b[43mstatistic\u001b[49m\u001b[43m,\u001b[49m\u001b[43m \u001b[49m\u001b[43mn_perms\u001b[49m\u001b[43m,\u001b[49m\u001b[43m \u001b[49m\u001b[43malpha\u001b[49m\u001b[43m)\u001b[49m\n\u001b[1;32m    168\u001b[0m     reject \u001b[38;5;241m=\u001b[39m \u001b[38;5;28mint\u001b[39m(statistic \u001b[38;5;241m>\u001b[39m critical_value)\n\u001b[1;32m    169\u001b[0m     \u001b[38;5;28;01mreturn\u001b[39;00m statistic, critical_value, pval, reject\n",
      "File \u001b[0;32m/Users/Tim/PycharmProjects/HOI/HOI/tests.py:31\u001b[0m, in \u001b[0;36mpermutation\u001b[0;34m(k_list, n_samples, n_variables, stat_found, n_perms, alpha)\u001b[0m\n\u001b[1;32m     28\u001b[0m     k_perm \u001b[38;5;241m=\u001b[39m k_list[j][index_perm, index_perm[:, \u001b[38;5;28;01mNone\u001b[39;00m]]\n\u001b[1;32m     30\u001b[0m     term1 \u001b[38;5;241m=\u001b[39m term1 \u001b[38;5;241m*\u001b[39m k_perm\n\u001b[0;32m---> 31\u001b[0m     term2 \u001b[38;5;241m=\u001b[39m term2 \u001b[38;5;241m*\u001b[39m \u001b[43mnp\u001b[49m\u001b[38;5;241;43m.\u001b[39;49m\u001b[43msum\u001b[49m\u001b[43m(\u001b[49m\u001b[43mk_perm\u001b[49m\u001b[43m)\u001b[49m \u001b[38;5;241m/\u001b[39m (n_samples \u001b[38;5;241m*\u001b[39m\u001b[38;5;241m*\u001b[39m \u001b[38;5;241m2\u001b[39m)\n\u001b[1;32m     32\u001b[0m     term3 \u001b[38;5;241m=\u001b[39m term3 \u001b[38;5;241m*\u001b[39m np\u001b[38;5;241m.\u001b[39msum(k_perm, axis\u001b[38;5;241m=\u001b[39m\u001b[38;5;241m0\u001b[39m) \u001b[38;5;241m/\u001b[39m n_samples\n\u001b[1;32m     34\u001b[0m term1_sum \u001b[38;5;241m=\u001b[39m np\u001b[38;5;241m.\u001b[39msum(term1)\n",
      "File \u001b[0;32m<__array_function__ internals>:2\u001b[0m, in \u001b[0;36msum\u001b[0;34m(*args, **kwargs)\u001b[0m\n",
      "\u001b[0;31mKeyboardInterrupt\u001b[0m: "
     ]
    }
   ],
   "source": [
    "power ={}\n",
    "for d in tqdm(np.arange(1, 0.1, -0.1)):\n",
    "    rejects = 0\n",
    "    for i in tqdm(np.arange(100)):\n",
    "        d1, d2, _, d3 = nonstationary_ts_n(n_sample=300, t_time=10, d=0.5, mode='case3', a=d, order=3)\n",
    "        kd1 = compute_kernel_n(d1)\n",
    "        kd2 = compute_kernel_n(d2)\n",
    "        kd3 = compute_kernel_n(d3)\n",
    "        _, _, _, reject = test_independence([kd1, kd2, kd3],None,\n",
    "                                                  mode = 'iid', n_perms=5000, alpha=0.05)\n",
    "        _, _, _, reject_1 = test_independence([kd1, kd2],None,\n",
    "                                                  mode = 'iid', n_perms=5000, alpha=0.05)\n",
    "        rejects = rejects + reject + reject_1 * 3\n",
    "    power[str(d)] = rejects/400\n",
    "    print(power)\n",
    "print(power)"
   ]
  },
  {
   "cell_type": "code",
   "execution_count": null,
   "id": "8ed76d3d",
   "metadata": {},
   "outputs": [],
   "source": []
  },
  {
   "cell_type": "code",
   "execution_count": null,
   "id": "f9bd5895",
   "metadata": {},
   "outputs": [],
   "source": []
  },
  {
   "cell_type": "markdown",
   "id": "78c807b4-5795-4bff-a872-4874894d105e",
   "metadata": {},
   "source": [
    "# tetrahedron"
   ]
  },
  {
   "cell_type": "markdown",
   "id": "ed59db80-0cf8-4f98-8af7-5a88d69f6059",
   "metadata": {},
   "source": [
    "# case1 gt_reject = [1,0,0,0]"
   ]
  },
  {
   "cell_type": "code",
   "execution_count": null,
   "id": "47afeceb-36e1-46c0-a6b0-38b8a3a2f909",
   "metadata": {},
   "outputs": [],
   "source": []
  }
 ],
 "metadata": {
  "kernelspec": {
   "display_name": "Python 3 (ipykernel)",
   "language": "python",
   "name": "python3"
  },
  "language_info": {
   "codemirror_mode": {
    "name": "ipython",
    "version": 3
   },
   "file_extension": ".py",
   "mimetype": "text/x-python",
   "name": "python",
   "nbconvert_exporter": "python",
   "pygments_lexer": "ipython3",
   "version": "3.10.4"
  }
 },
 "nbformat": 4,
 "nbformat_minor": 5
}

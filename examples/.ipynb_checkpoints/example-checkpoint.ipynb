{
 "cells": [
  {
   "cell_type": "code",
   "execution_count": 1,
   "id": "d450d99d-26c7-4344-9cd9-dd8ceeb30d5e",
   "metadata": {},
   "outputs": [],
   "source": [
    "%load_ext autoreload\n",
    "%autoreload 2"
   ]
  },
  {
   "cell_type": "code",
   "execution_count": 2,
   "id": "0c545e65",
   "metadata": {},
   "outputs": [],
   "source": [
    "import sys\n",
    "sys.path.append('/Users/Tim/PycharmProjects/HOI/')"
   ]
  },
  {
   "cell_type": "code",
   "execution_count": 3,
   "id": "2b2f019a",
   "metadata": {},
   "outputs": [
    {
     "data": {
      "text/plain": [
       "['/Users/tim/PycharmProjects/HOI/examples',\n",
       " '/Users/tim/opt/anaconda3/lib/python39.zip',\n",
       " '/Users/tim/opt/anaconda3/lib/python3.9',\n",
       " '/Users/tim/opt/anaconda3/lib/python3.9/lib-dynload',\n",
       " '',\n",
       " '/Users/tim/opt/anaconda3/lib/python3.9/site-packages',\n",
       " '/Users/tim/opt/anaconda3/lib/python3.9/site-packages/aeosa',\n",
       " '/Users/Tim/PycharmProjects/HOI/']"
      ]
     },
     "execution_count": 3,
     "metadata": {},
     "output_type": "execute_result"
    }
   ],
   "source": [
    "import sys\n",
    "sys.path"
   ]
  },
  {
   "cell_type": "code",
   "execution_count": 4,
   "id": "65f05883",
   "metadata": {},
   "outputs": [],
   "source": [
    "import pandas as pd\n",
    "import numpy as np\n",
    "from tqdm.notebook import trange, tqdm"
   ]
  },
  {
   "cell_type": "code",
   "execution_count": 5,
   "id": "e531d637",
   "metadata": {},
   "outputs": [],
   "source": [
    "from synthetic_data import make_iid_example\n",
    "from HOI.preprocessings import compute_kernel\n",
    "from HOI.tests import test_independence"
   ]
  },
  {
   "cell_type": "code",
   "execution_count": 6,
   "id": "51b94954-419c-489a-b80c-475a72b5f690",
   "metadata": {
    "collapsed": true,
    "jupyter": {
     "outputs_hidden": true
    },
    "tags": []
   },
   "outputs": [
    {
     "data": {
      "application/vnd.jupyter.widget-view+json": {
       "model_id": "996496c140284ce48c44b3e949b873be",
       "version_major": 2,
       "version_minor": 0
      },
      "text/plain": [
       "  0%|          | 0/9 [00:00<?, ?it/s]"
      ]
     },
     "metadata": {},
     "output_type": "display_data"
    },
    {
     "ename": "KeyboardInterrupt",
     "evalue": "",
     "output_type": "error",
     "traceback": [
      "\u001b[0;31m---------------------------------------------------------------------------\u001b[0m",
      "\u001b[0;31mKeyboardInterrupt\u001b[0m                         Traceback (most recent call last)",
      "Input \u001b[0;32mIn [6]\u001b[0m, in \u001b[0;36m<cell line: 3>\u001b[0;34m()\u001b[0m\n\u001b[1;32m      6\u001b[0m     df \u001b[38;5;241m=\u001b[39m make_iid_example(\u001b[38;5;124m'\u001b[39m\u001b[38;5;124mhigher-order\u001b[39m\u001b[38;5;124m'\u001b[39m, s \u001b[38;5;241m=\u001b[39m d, n_sample\u001b[38;5;241m=\u001b[39m\u001b[38;5;241m100\u001b[39m)\n\u001b[1;32m      7\u001b[0m     data_dict, kernel_dict \u001b[38;5;241m=\u001b[39m compute_kernel(df)\n\u001b[0;32m----> 8\u001b[0m     _, _, reject \u001b[38;5;241m=\u001b[39m \u001b[43mtest_independence\u001b[49m\u001b[43m(\u001b[49m\u001b[43m[\u001b[49m\u001b[43mkernel_dict\u001b[49m\u001b[43m[\u001b[49m\u001b[38;5;124;43m'\u001b[39;49m\u001b[38;5;124;43md1\u001b[39;49m\u001b[38;5;124;43m'\u001b[39;49m\u001b[43m]\u001b[49m\u001b[43m,\u001b[49m\u001b[43m \u001b[49m\u001b[43mkernel_dict\u001b[49m\u001b[43m[\u001b[49m\u001b[38;5;124;43m'\u001b[39;49m\u001b[38;5;124;43md2\u001b[39;49m\u001b[38;5;124;43m'\u001b[39;49m\u001b[43m]\u001b[49m\u001b[43m,\u001b[49m\u001b[43m \u001b[49m\u001b[43mkernel_dict\u001b[49m\u001b[43m[\u001b[49m\u001b[38;5;124;43m'\u001b[39;49m\u001b[38;5;124;43md3\u001b[39;49m\u001b[38;5;124;43m'\u001b[39;49m\u001b[43m]\u001b[49m\u001b[43m]\u001b[49m\u001b[43m,\u001b[49m\n\u001b[1;32m      9\u001b[0m \u001b[43m                                     \u001b[49m\u001b[43m[\u001b[49m\u001b[43mdata_dict\u001b[49m\u001b[43m[\u001b[49m\u001b[38;5;124;43m'\u001b[39;49m\u001b[38;5;124;43md1\u001b[39;49m\u001b[38;5;124;43m'\u001b[39;49m\u001b[43m]\u001b[49m\u001b[43m,\u001b[49m\u001b[43m \u001b[49m\u001b[43mdata_dict\u001b[49m\u001b[43m[\u001b[49m\u001b[38;5;124;43m'\u001b[39;49m\u001b[38;5;124;43md2\u001b[39;49m\u001b[38;5;124;43m'\u001b[39;49m\u001b[43m]\u001b[49m\u001b[43m,\u001b[49m\u001b[43m \u001b[49m\u001b[43mdata_dict\u001b[49m\u001b[43m[\u001b[49m\u001b[38;5;124;43m'\u001b[39;49m\u001b[38;5;124;43md3\u001b[39;49m\u001b[38;5;124;43m'\u001b[39;49m\u001b[43m]\u001b[49m\u001b[43m]\u001b[49m\u001b[43m,\u001b[49m\n\u001b[1;32m     10\u001b[0m \u001b[43m                                      \u001b[49m\u001b[43mmode\u001b[49m\u001b[43m \u001b[49m\u001b[38;5;241;43m=\u001b[39;49m\u001b[43m \u001b[49m\u001b[38;5;124;43m'\u001b[39;49m\u001b[38;5;124;43miid\u001b[39;49m\u001b[38;5;124;43m'\u001b[39;49m\u001b[43m,\u001b[49m\u001b[43m \u001b[49m\u001b[43mn_perms\u001b[49m\u001b[38;5;241;43m=\u001b[39;49m\u001b[38;5;241;43m5000\u001b[39;49m\u001b[43m,\u001b[49m\u001b[43m \u001b[49m\u001b[43malpha\u001b[49m\u001b[38;5;241;43m=\u001b[39;49m\u001b[38;5;241;43m0.05\u001b[39;49m\u001b[43m)\u001b[49m\n\u001b[1;32m     11\u001b[0m     rejects \u001b[38;5;241m=\u001b[39m rejects \u001b[38;5;241m+\u001b[39m reject\n\u001b[1;32m     12\u001b[0m power[\u001b[38;5;28mstr\u001b[39m(d)] \u001b[38;5;241m=\u001b[39m rejects\u001b[38;5;241m/\u001b[39m\u001b[38;5;241m100\u001b[39m\n",
      "File \u001b[0;32m/Users/Tim/PycharmProjects/HOI/HOI/tests.py:123\u001b[0m, in \u001b[0;36mtest_independence\u001b[0;34m(k_list, data_list, mode, n_perms, alpha)\u001b[0m\n\u001b[1;32m    121\u001b[0m \u001b[38;5;28;01mif\u001b[39;00m mode \u001b[38;5;241m==\u001b[39m \u001b[38;5;124m'\u001b[39m\u001b[38;5;124miid\u001b[39m\u001b[38;5;124m'\u001b[39m:\n\u001b[1;32m    122\u001b[0m     statistic \u001b[38;5;241m=\u001b[39m compute_dHSIC_statistics(k_list)\n\u001b[0;32m--> 123\u001b[0m     critical_value \u001b[38;5;241m=\u001b[39m \u001b[43mpermutation_iid\u001b[49m\u001b[43m(\u001b[49m\u001b[43mk_list\u001b[49m\u001b[43m,\u001b[49m\u001b[43m \u001b[49m\u001b[43mn_samples\u001b[49m\u001b[43m,\u001b[49m\u001b[43m \u001b[49m\u001b[43mn_variables\u001b[49m\u001b[43m,\u001b[49m\u001b[43m \u001b[49m\u001b[43mstatistic\u001b[49m\u001b[43m,\u001b[49m\u001b[43m \u001b[49m\u001b[43mn_perms\u001b[49m\u001b[43m,\u001b[49m\u001b[43m \u001b[49m\u001b[43malpha\u001b[49m\u001b[43m)\u001b[49m\n\u001b[1;32m    124\u001b[0m     reject \u001b[38;5;241m=\u001b[39m \u001b[38;5;28mint\u001b[39m(statistic \u001b[38;5;241m>\u001b[39m critical_value)\n\u001b[1;32m    125\u001b[0m     \u001b[38;5;28;01mreturn\u001b[39;00m statistic, critical_value, reject\n",
      "File \u001b[0;32m/Users/Tim/PycharmProjects/HOI/HOI/tests.py:25\u001b[0m, in \u001b[0;36mpermutation_iid\u001b[0;34m(k_list, n_samples, n_variables, stat_found, n_perms, alpha)\u001b[0m\n\u001b[1;32m     23\u001b[0m \u001b[38;5;28;01mfor\u001b[39;00m j \u001b[38;5;129;01min\u001b[39;00m \u001b[38;5;28mrange\u001b[39m(\u001b[38;5;241m1\u001b[39m, n_variables):\n\u001b[1;32m     24\u001b[0m     index_perm \u001b[38;5;241m=\u001b[39m np\u001b[38;5;241m.\u001b[39mrandom\u001b[38;5;241m.\u001b[39mpermutation(k_list[j]\u001b[38;5;241m.\u001b[39mshape[\u001b[38;5;241m0\u001b[39m])\n\u001b[0;32m---> 25\u001b[0m     k_perm \u001b[38;5;241m=\u001b[39m \u001b[43mk_list\u001b[49m\u001b[43m[\u001b[49m\u001b[43mj\u001b[49m\u001b[43m]\u001b[49m\u001b[43m[\u001b[49m\u001b[43mindex_perm\u001b[49m\u001b[43m,\u001b[49m\u001b[43m \u001b[49m\u001b[43mindex_perm\u001b[49m\u001b[43m[\u001b[49m\u001b[43m:\u001b[49m\u001b[43m,\u001b[49m\u001b[43m \u001b[49m\u001b[38;5;28;43;01mNone\u001b[39;49;00m\u001b[43m]\u001b[49m\u001b[43m]\u001b[49m\n\u001b[1;32m     27\u001b[0m     term1 \u001b[38;5;241m=\u001b[39m term1 \u001b[38;5;241m*\u001b[39m k_perm\n\u001b[1;32m     28\u001b[0m     term2 \u001b[38;5;241m=\u001b[39m term2 \u001b[38;5;241m*\u001b[39m np\u001b[38;5;241m.\u001b[39msum(k_perm) \u001b[38;5;241m/\u001b[39m (n_samples \u001b[38;5;241m*\u001b[39m\u001b[38;5;241m*\u001b[39m \u001b[38;5;241m2\u001b[39m)\n",
      "\u001b[0;31mKeyboardInterrupt\u001b[0m: "
     ]
    }
   ],
   "source": [
    "# power calculation for higher-order data\n",
    "power ={}\n",
    "for d in tqdm(np.arange(0.1, 1, 0.1)):\n",
    "    rejects = 0\n",
    "    for i in np.arange(100):\n",
    "        df = make_iid_example('higher-order', s = d, n_sample=100)\n",
    "        data_dict, kernel_dict = compute_kernel(df)\n",
    "        _, _, reject = test_independence([kernel_dict['d1'], kernel_dict['d2'], kernel_dict['d3']],\n",
    "                                         [data_dict['d1'], data_dict['d2'], data_dict['d3']],\n",
    "                                          mode = 'iid', n_perms=5000, alpha=0.05)\n",
    "        rejects = rejects + reject\n",
    "    power[str(d)] = rejects/100"
   ]
  },
  {
   "cell_type": "code",
   "execution_count": 8,
   "id": "aabe0348-9009-4316-9d62-4ce05745c4cd",
   "metadata": {},
   "outputs": [
    {
     "data": {
      "text/plain": [
       "{'0.1': 0.09,\n",
       " '0.2': 0.09,\n",
       " '0.30000000000000004': 0.16,\n",
       " '0.4': 0.19,\n",
       " '0.5': 0.58,\n",
       " '0.6': 0.97,\n",
       " '0.7000000000000001': 1.0,\n",
       " '0.8': 1.0,\n",
       " '0.9': 1.0}"
      ]
     },
     "execution_count": 8,
     "metadata": {},
     "output_type": "execute_result"
    }
   ],
   "source": [
    "power"
   ]
  },
  {
   "cell_type": "code",
   "execution_count": 43,
   "id": "e2abd426-c4a2-4c60-865e-5ac29aa6bcfb",
   "metadata": {},
   "outputs": [
    {
     "name": "stderr",
     "output_type": "stream",
     "text": [
      "100%|██████████████████████████████████████████| 9/9 [1:22:07<00:00, 547.50s/it]\n"
     ]
    }
   ],
   "source": [
    "# power calculation for higher-order data with more data\n",
    "power ={}\n",
    "for d in tqdm(np.arange(0.1, 1, 0.1), desc='d='+str(d)):\n",
    "    rejects = 0\n",
    "    for i in np.arange(100):\n",
    "        df = make_iid_example('higher-order', s = d, n_sample=300)\n",
    "        data_dict, kernel_dict = compute_kernel(df)\n",
    "        _, _, reject = test_independence([kernel_dict['d1'], kernel_dict['d2'], kernel_dict['d3']],\n",
    "                                         [data_dict['d1'], data_dict['d2'], data_dict['d3']],\n",
    "                                          mode = 'iid', n_perms=5000, alpha=0.05)\n",
    "        rejects = rejects + reject\n",
    "    power[str(d)] = rejects/100"
   ]
  },
  {
   "cell_type": "code",
   "execution_count": null,
   "id": "8c4b9dc1-85c2-4933-8cc8-f7907d69861e",
   "metadata": {},
   "outputs": [],
   "source": [
    "power"
   ]
  },
  {
   "cell_type": "code",
   "execution_count": null,
   "id": "adffdc84-dc9f-4bd0-a76b-4a691b778bdb",
   "metadata": {},
   "outputs": [],
   "source": []
  },
  {
   "cell_type": "code",
   "execution_count": 39,
   "id": "3f007243-bcc1-4182-8c94-58660fd26f0e",
   "metadata": {},
   "outputs": [
    {
     "name": "stderr",
     "output_type": "stream",
     "text": [
      "100%|████████████████████████████████████████████| 9/9 [23:02<00:00, 153.65s/it]\n"
     ]
    }
   ],
   "source": [
    "# power calculation for multi-normal data\n",
    "power ={}\n",
    "for d in tqdm(np.arange(0.1, 1, 0.1)):\n",
    "    rejects = 0\n",
    "    for i in np.arange(100):\n",
    "        df = make_iid_example(mode='multi-normal', s = d, n_sample=100)\n",
    "        data_dict, kernel_dict = compute_kernel(df)\n",
    "        _, _, reject1 = test_independence([kernel_dict['d1'], kernel_dict['d2']],\n",
    "                                         [data_dict['d1'], data_dict['d2']],\n",
    "                                          mode = 'iid', n_perms=5000, alpha=0.05)\n",
    "        \n",
    "        _, _, reject2 = test_independence([kernel_dict['d1'], kernel_dict['d3']],\n",
    "                                 [data_dict['d1'], data_dict['d3']],\n",
    "                                  mode = 'iid', n_perms=5000, alpha=0.05)\n",
    "\n",
    "        _, _, reject3 = test_independence([kernel_dict['d2'], kernel_dict['d3']],\n",
    "                             [data_dict['d2'], data_dict['d3']],\n",
    "                              mode = 'iid', n_perms=5000, alpha=0.05)\n",
    "        \n",
    "        rejects = rejects + reject1+reject2+reject3\n",
    "    power[str(d)] = rejects/300"
   ]
  },
  {
   "cell_type": "code",
   "execution_count": 40,
   "id": "11ea1de7-29e8-4ef0-b606-62fbf5c4da5b",
   "metadata": {},
   "outputs": [
    {
     "data": {
      "text/plain": [
       "{'0.1': 0.12333333333333334,\n",
       " '0.2': 0.3466666666666667,\n",
       " '0.30000000000000004': 0.69,\n",
       " '0.4': 0.9366666666666666,\n",
       " '0.5': 0.9933333333333333,\n",
       " '0.6': 1.0,\n",
       " '0.7000000000000001': 1.0,\n",
       " '0.8': 1.0,\n",
       " '0.9': 1.0}"
      ]
     },
     "execution_count": 40,
     "metadata": {},
     "output_type": "execute_result"
    }
   ],
   "source": [
    "power"
   ]
  },
  {
   "cell_type": "code",
   "execution_count": null,
   "id": "7392cb0b-aaf3-48d2-b968-594119faf682",
   "metadata": {},
   "outputs": [],
   "source": []
  },
  {
   "cell_type": "code",
   "execution_count": 41,
   "id": "191ccfc8-31a4-4b7f-99e5-ed6994a61e6c",
   "metadata": {},
   "outputs": [
    {
     "name": "stderr",
     "output_type": "stream",
     "text": [
      "100%|████████████████████████████████████████████| 9/9 [23:26<00:00, 156.30s/it]\n"
     ]
    }
   ],
   "source": [
    "# power calculation for interpolated data\n",
    "power ={}\n",
    "for d in tqdm(np.arange(0.1, 1, 0.1)):\n",
    "    rejects = 0\n",
    "    for i in np.arange(100):\n",
    "        df = make_iid_example(mode='interpolated', s = d, n_sample=100)\n",
    "        data_dict, kernel_dict = compute_kernel(df)\n",
    "        _, _, reject1 = test_independence([kernel_dict['d1'], kernel_dict['d2']],\n",
    "                                         [data_dict['d1'], data_dict['d2']],\n",
    "                                          mode = 'iid', n_perms=5000, alpha=0.05)\n",
    "        \n",
    "        _, _, reject2 = test_independence([kernel_dict['d1'], kernel_dict['d3']],\n",
    "                                 [data_dict['d1'], data_dict['d3']],\n",
    "                                  mode = 'iid', n_perms=5000, alpha=0.05)\n",
    "\n",
    "        _, _, reject3 = test_independence([kernel_dict['d2'], kernel_dict['d3']],\n",
    "                             [data_dict['d2'], data_dict['d3']],\n",
    "                              mode = 'iid', n_perms=5000, alpha=0.05)\n",
    "        \n",
    "        rejects = rejects + reject1+reject2+reject3\n",
    "    power[str(d)] = rejects/300"
   ]
  },
  {
   "cell_type": "code",
   "execution_count": 42,
   "id": "7d5d498c-a07c-4bb0-a786-1d72c928f1eb",
   "metadata": {},
   "outputs": [
    {
     "data": {
      "text/plain": [
       "{'0.1': 0.05,\n",
       " '0.2': 0.07,\n",
       " '0.30000000000000004': 0.16,\n",
       " '0.4': 0.5933333333333334,\n",
       " '0.5': 0.9866666666666667,\n",
       " '0.6': 1.0,\n",
       " '0.7000000000000001': 1.0,\n",
       " '0.8': 1.0,\n",
       " '0.9': 1.0}"
      ]
     },
     "execution_count": 42,
     "metadata": {},
     "output_type": "execute_result"
    }
   ],
   "source": [
    "power"
   ]
  },
  {
   "cell_type": "code",
   "execution_count": null,
   "id": "159fee91-f3f9-4046-a322-b010e32cee96",
   "metadata": {},
   "outputs": [],
   "source": []
  },
  {
   "cell_type": "code",
   "execution_count": null,
   "id": "2b56e9b0-3849-451e-8c7b-bfdba3d6a15b",
   "metadata": {},
   "outputs": [],
   "source": []
  }
 ],
 "metadata": {
  "kernelspec": {
   "display_name": "Python 3 (ipykernel)",
   "language": "python",
   "name": "python3"
  },
  "language_info": {
   "codemirror_mode": {
    "name": "ipython",
    "version": 3
   },
   "file_extension": ".py",
   "mimetype": "text/x-python",
   "name": "python",
   "nbconvert_exporter": "python",
   "pygments_lexer": "ipython3",
   "version": "3.9.12"
  }
 },
 "nbformat": 4,
 "nbformat_minor": 5
}

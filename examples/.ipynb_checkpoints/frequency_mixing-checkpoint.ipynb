{
 "cells": [
  {
   "cell_type": "code",
   "execution_count": 65,
   "id": "765cc041-b41b-4159-a32f-1aebffce1d6b",
   "metadata": {},
   "outputs": [
    {
     "name": "stdout",
     "output_type": "stream",
     "text": [
      "The autoreload extension is already loaded. To reload it, use:\n",
      "  %reload_ext autoreload\n"
     ]
    }
   ],
   "source": [
    "%load_ext autoreload\n",
    "%autoreload 2"
   ]
  },
  {
   "cell_type": "code",
   "execution_count": 66,
   "id": "53292d77-3612-41a4-ac96-004bc4ffa2e4",
   "metadata": {},
   "outputs": [],
   "source": [
    "import sys\n",
    "sys.path.append('/Users/Tim/PycharmProjects/HOI/')"
   ]
  },
  {
   "cell_type": "code",
   "execution_count": 67,
   "id": "dafa798d-8e05-4bb8-9827-98428204f587",
   "metadata": {},
   "outputs": [],
   "source": [
    "import pandas as pd\n",
    "import numpy as np\n",
    "from tqdm.notebook import tqdm\n",
    "import matplotlib.pyplot as plt\n",
    "import scipy"
   ]
  },
  {
   "cell_type": "code",
   "execution_count": 69,
   "id": "e75b13a1-4ae5-4128-8fea-b19c2bb2df2c",
   "metadata": {},
   "outputs": [],
   "source": [
    "from synthetic_data import stationary_pb_ts, nonstationary_ts_n\n",
    "from HOI.preprocessings import compute_kernel, compute_kernel_n\n",
    "from HOI.tests import test_independence, dhsic_permutation, test_lancaster, estimate_tail_head"
   ]
  },
  {
   "cell_type": "code",
   "execution_count": 70,
   "id": "74686223-ad14-418a-9760-013692a632d7",
   "metadata": {},
   "outputs": [],
   "source": [
    "import matplotlib.pyplot as plt"
   ]
  },
  {
   "cell_type": "code",
   "execution_count": 71,
   "id": "effc5b90-6063-4c51-94c8-6330e4854425",
   "metadata": {},
   "outputs": [],
   "source": [
    "import itertools\n",
    "def find_comb(var):\n",
    "    power_set = []\n",
    "    for L in range(len(var) + 1):\n",
    "        for subset in itertools.combinations(var, L):\n",
    "            if len(subset) >= 2:\n",
    "                power_set.append(list(subset))\n",
    "    return power_set"
   ]
  },
  {
   "cell_type": "markdown",
   "id": "021e2c59-1947-46c6-ace0-1504e7f1871e",
   "metadata": {},
   "source": [
    "# frequency mixing data"
   ]
  },
  {
   "cell_type": "code",
   "execution_count": 13,
   "id": "dce7b381-22a8-4abe-b1db-b93f7f41b622",
   "metadata": {},
   "outputs": [],
   "source": [
    "df = pd.read_csv ('dependence_phases.csv',header=None)"
   ]
  },
  {
   "cell_type": "code",
   "execution_count": 14,
   "id": "fe260468-d51a-407c-b3e9-2fbc4771fb5e",
   "metadata": {},
   "outputs": [],
   "source": [
    "d1 = np.array(df.iloc[0])\n",
    "d2 = np.array(df.iloc[1])\n",
    "d3 = np.array(df.iloc[2])\n",
    "d4 = np.array(df.iloc[3])\n",
    "\n",
    "df = pd.DataFrame(list(zip(d1[:1000], d2[:1000], d3[:1000], d4[:1000])), columns=['d1', 'd2', 'd3', 'd4'])"
   ]
  },
  {
   "cell_type": "code",
   "execution_count": 19,
   "id": "6127679b-dc19-41e3-9c75-535755667d27",
   "metadata": {},
   "outputs": [
    {
     "name": "stdout",
     "output_type": "stream",
     "text": [
      "Augmneted Dickey_fuller Statistic: -7.134084\n",
      "p-value: 0.000000\n"
     ]
    }
   ],
   "source": [
    "from statsmodels.tsa.stattools import adfuller\n",
    "values = df['d4']\n",
    "res = adfuller(values)\n",
    "print('Augmneted Dickey_fuller Statistic: %f' % res[0])\n",
    "print('p-value: %f' % res[1])"
   ]
  },
  {
   "cell_type": "code",
   "execution_count": 15,
   "id": "f869ef30-f524-4aed-b1c9-4eb34aed9694",
   "metadata": {},
   "outputs": [],
   "source": [
    "data_dict, kernel_dict = compute_kernel(df)"
   ]
  },
  {
   "cell_type": "code",
   "execution_count": 16,
   "id": "59990f1e-1f18-4afe-9d31-b26a67739291",
   "metadata": {},
   "outputs": [],
   "source": [
    "power_set_k = find_comb([kernel_dict['d1'], kernel_dict['d2'], kernel_dict['d3'], kernel_dict['d4']])"
   ]
  },
  {
   "cell_type": "code",
   "execution_count": 18,
   "id": "3232944a-64f7-4765-a69d-9ea77ebc0ae9",
   "metadata": {},
   "outputs": [],
   "source": [
    "power_set_d = find_comb([data_dict['d1'], data_dict['d2'], data_dict['d3'], data_dict['d4']])"
   ]
  },
  {
   "cell_type": "code",
   "execution_count": 19,
   "id": "64bcc278-494e-4051-b398-7e838ae80db4",
   "metadata": {
    "tags": []
   },
   "outputs": [],
   "source": [
    "power_set_name = find_comb(['d1', 'd2', 'd3', 'd4'])"
   ]
  },
  {
   "cell_type": "code",
   "execution_count": 20,
   "id": "e7578e15-ddce-49c4-a8ef-3a67ffb5438c",
   "metadata": {
    "tags": []
   },
   "outputs": [
    {
     "data": {
      "application/vnd.jupyter.widget-view+json": {
       "model_id": "c8fffc558cfc4ca7a50b98fcdb513900",
       "version_major": 2,
       "version_minor": 0
      },
      "text/plain": [
       "  0%|          | 0/11 [00:00<?, ?it/s]"
      ]
     },
     "metadata": {},
     "output_type": "display_data"
    },
    {
     "data": {
      "application/vnd.jupyter.widget-view+json": {
       "model_id": "5a1e1c1b20dd4cad9469028af67211de",
       "version_major": 2,
       "version_minor": 0
      },
      "text/plain": [
       "  0%|          | 0/10 [00:00<?, ?it/s]"
      ]
     },
     "metadata": {},
     "output_type": "display_data"
    },
    {
     "name": "stdout",
     "output_type": "stream",
     "text": [
      "{\"['d1', 'd2']\": 0}\n"
     ]
    },
    {
     "data": {
      "application/vnd.jupyter.widget-view+json": {
       "model_id": "40d328be9dbc4e33a9ad4d65a58be0e4",
       "version_major": 2,
       "version_minor": 0
      },
      "text/plain": [
       "  0%|          | 0/10 [00:00<?, ?it/s]"
      ]
     },
     "metadata": {},
     "output_type": "display_data"
    },
    {
     "name": "stdout",
     "output_type": "stream",
     "text": [
      "{\"['d1', 'd2']\": 0, \"['d1', 'd3']\": 0}\n"
     ]
    },
    {
     "data": {
      "application/vnd.jupyter.widget-view+json": {
       "model_id": "458097ebd8d248dab59fb3f475ac931f",
       "version_major": 2,
       "version_minor": 0
      },
      "text/plain": [
       "  0%|          | 0/10 [00:00<?, ?it/s]"
      ]
     },
     "metadata": {},
     "output_type": "display_data"
    },
    {
     "name": "stdout",
     "output_type": "stream",
     "text": [
      "{\"['d1', 'd2']\": 0, \"['d1', 'd3']\": 0, \"['d1', 'd4']\": 0}\n"
     ]
    },
    {
     "data": {
      "application/vnd.jupyter.widget-view+json": {
       "model_id": "41ac7217ee054789a357f1a5fdc4b3e1",
       "version_major": 2,
       "version_minor": 0
      },
      "text/plain": [
       "  0%|          | 0/10 [00:00<?, ?it/s]"
      ]
     },
     "metadata": {},
     "output_type": "display_data"
    },
    {
     "name": "stdout",
     "output_type": "stream",
     "text": [
      "{\"['d1', 'd2']\": 0, \"['d1', 'd3']\": 0, \"['d1', 'd4']\": 0, \"['d2', 'd3']\": 0}\n"
     ]
    },
    {
     "data": {
      "application/vnd.jupyter.widget-view+json": {
       "model_id": "0945d03cb9c4439e88de7e053861c758",
       "version_major": 2,
       "version_minor": 0
      },
      "text/plain": [
       "  0%|          | 0/10 [00:00<?, ?it/s]"
      ]
     },
     "metadata": {},
     "output_type": "display_data"
    },
    {
     "name": "stdout",
     "output_type": "stream",
     "text": [
      "{\"['d1', 'd2']\": 0, \"['d1', 'd3']\": 0, \"['d1', 'd4']\": 0, \"['d2', 'd3']\": 0, \"['d2', 'd4']\": 0}\n"
     ]
    },
    {
     "data": {
      "application/vnd.jupyter.widget-view+json": {
       "model_id": "6894629d1b0046fbb646979d16beba43",
       "version_major": 2,
       "version_minor": 0
      },
      "text/plain": [
       "  0%|          | 0/10 [00:00<?, ?it/s]"
      ]
     },
     "metadata": {},
     "output_type": "display_data"
    },
    {
     "name": "stdout",
     "output_type": "stream",
     "text": [
      "{\"['d1', 'd2']\": 0, \"['d1', 'd3']\": 0, \"['d1', 'd4']\": 0, \"['d2', 'd3']\": 0, \"['d2', 'd4']\": 0, \"['d3', 'd4']\": 0}\n"
     ]
    },
    {
     "data": {
      "application/vnd.jupyter.widget-view+json": {
       "model_id": "4a383278ca1f44cba3dee0022921d284",
       "version_major": 2,
       "version_minor": 0
      },
      "text/plain": [
       "  0%|          | 0/10 [00:00<?, ?it/s]"
      ]
     },
     "metadata": {},
     "output_type": "display_data"
    },
    {
     "name": "stdout",
     "output_type": "stream",
     "text": [
      "{\"['d1', 'd2']\": 0, \"['d1', 'd3']\": 0, \"['d1', 'd4']\": 0, \"['d2', 'd3']\": 0, \"['d2', 'd4']\": 0, \"['d3', 'd4']\": 0, \"['d1', 'd2', 'd3']\": 10}\n"
     ]
    },
    {
     "data": {
      "application/vnd.jupyter.widget-view+json": {
       "model_id": "05507e42b9384399a0e52542163866e0",
       "version_major": 2,
       "version_minor": 0
      },
      "text/plain": [
       "  0%|          | 0/10 [00:00<?, ?it/s]"
      ]
     },
     "metadata": {},
     "output_type": "display_data"
    },
    {
     "name": "stdout",
     "output_type": "stream",
     "text": [
      "{\"['d1', 'd2']\": 0, \"['d1', 'd3']\": 0, \"['d1', 'd4']\": 0, \"['d2', 'd3']\": 0, \"['d2', 'd4']\": 0, \"['d3', 'd4']\": 0, \"['d1', 'd2', 'd3']\": 10, \"['d1', 'd2', 'd4']\": 10}\n"
     ]
    },
    {
     "data": {
      "application/vnd.jupyter.widget-view+json": {
       "model_id": "ee6c1cb1f35e4b0da1b170f7b2605da1",
       "version_major": 2,
       "version_minor": 0
      },
      "text/plain": [
       "  0%|          | 0/10 [00:00<?, ?it/s]"
      ]
     },
     "metadata": {},
     "output_type": "display_data"
    },
    {
     "name": "stdout",
     "output_type": "stream",
     "text": [
      "{\"['d1', 'd2']\": 0, \"['d1', 'd3']\": 0, \"['d1', 'd4']\": 0, \"['d2', 'd3']\": 0, \"['d2', 'd4']\": 0, \"['d3', 'd4']\": 0, \"['d1', 'd2', 'd3']\": 10, \"['d1', 'd2', 'd4']\": 10, \"['d1', 'd3', 'd4']\": 10}\n"
     ]
    },
    {
     "data": {
      "application/vnd.jupyter.widget-view+json": {
       "model_id": "6be8d0c980c347aeb70671900e45f0fc",
       "version_major": 2,
       "version_minor": 0
      },
      "text/plain": [
       "  0%|          | 0/10 [00:00<?, ?it/s]"
      ]
     },
     "metadata": {},
     "output_type": "display_data"
    },
    {
     "name": "stdout",
     "output_type": "stream",
     "text": [
      "{\"['d1', 'd2']\": 0, \"['d1', 'd3']\": 0, \"['d1', 'd4']\": 0, \"['d2', 'd3']\": 0, \"['d2', 'd4']\": 0, \"['d3', 'd4']\": 0, \"['d1', 'd2', 'd3']\": 10, \"['d1', 'd2', 'd4']\": 10, \"['d1', 'd3', 'd4']\": 10, \"['d2', 'd3', 'd4']\": 10}\n"
     ]
    },
    {
     "data": {
      "application/vnd.jupyter.widget-view+json": {
       "model_id": "eaeba3b19eb94230872faf49c07e1fa4",
       "version_major": 2,
       "version_minor": 0
      },
      "text/plain": [
       "  0%|          | 0/10 [00:00<?, ?it/s]"
      ]
     },
     "metadata": {},
     "output_type": "display_data"
    },
    {
     "name": "stdout",
     "output_type": "stream",
     "text": [
      "{\"['d1', 'd2']\": 0, \"['d1', 'd3']\": 0, \"['d1', 'd4']\": 0, \"['d2', 'd3']\": 0, \"['d2', 'd4']\": 0, \"['d3', 'd4']\": 0, \"['d1', 'd2', 'd3']\": 10, \"['d1', 'd2', 'd4']\": 10, \"['d1', 'd3', 'd4']\": 10, \"['d2', 'd3', 'd4']\": 10, \"['d1', 'd2', 'd3', 'd4']\": 10}\n"
     ]
    }
   ],
   "source": [
    "power = {}\n",
    "for (name, klist, dlist) in tqdm(zip(power_set_name, power_set_k, power_set_d), total=len(power_set_k)):\n",
    "    rejects = 0\n",
    "    for i in tqdm(range(10)):\n",
    "        _, _, _, reject = test_independence(klist, dlist, n_perms=500, alpha=0.05, mode = 'shifting')\n",
    "        rejects = rejects + reject\n",
    "    power[str(name)] = rejects\n",
    "    print(power)"
   ]
  }
 ],
 "metadata": {
  "kernelspec": {
   "display_name": "Python 3 (ipykernel)",
   "language": "python",
   "name": "python3"
  },
  "language_info": {
   "codemirror_mode": {
    "name": "ipython",
    "version": 3
   },
   "file_extension": ".py",
   "mimetype": "text/x-python",
   "name": "python",
   "nbconvert_exporter": "python",
   "pygments_lexer": "ipython3",
   "version": "3.10.4"
  }
 },
 "nbformat": 4,
 "nbformat_minor": 5
}

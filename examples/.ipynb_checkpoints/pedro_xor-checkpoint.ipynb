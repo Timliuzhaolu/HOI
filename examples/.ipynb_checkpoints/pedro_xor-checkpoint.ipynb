{
 "cells": [
  {
   "cell_type": "code",
   "execution_count": 1,
   "id": "39f89232-cd03-4d67-a45a-28e4a0eaafd4",
   "metadata": {},
   "outputs": [],
   "source": [
    "%load_ext autoreload\n",
    "%autoreload 2"
   ]
  },
  {
   "cell_type": "code",
   "execution_count": 2,
   "id": "29e96b59-f289-4d59-9c05-3e1d0053ccb3",
   "metadata": {},
   "outputs": [],
   "source": [
    "import sys\n",
    "sys.path.append('/Users/Tim/PycharmProjects/HOI/')"
   ]
  },
  {
   "cell_type": "code",
   "execution_count": 3,
   "id": "8f9f1deb-15cc-48ba-942e-6701fce72281",
   "metadata": {},
   "outputs": [],
   "source": [
    "import pandas as pd\n",
    "import numpy as np\n",
    "from tqdm.notebook import tqdm"
   ]
  },
  {
   "cell_type": "code",
   "execution_count": 4,
   "id": "535a4310-0db2-42c6-a902-f2f83bd15486",
   "metadata": {},
   "outputs": [],
   "source": [
    "from synthetic_data import nonstationary_ts_n, make_iid_example, mixed_multinormal\n",
    "from HOI.preprocessings import compute_kernel, compute_kernel_n\n",
    "from HOI.tests import test_lancaster, lancaster_permutation, test_independence\n",
    "from HOI.statistics import compute_dHSIC_statistics, compute_lancaster_statistics"
   ]
  },
  {
   "cell_type": "code",
   "execution_count": 5,
   "id": "6f1c67cc-750c-4977-8904-b564d945dbde",
   "metadata": {},
   "outputs": [],
   "source": [
    "import matplotlib.pyplot as plt"
   ]
  },
  {
   "cell_type": "code",
   "execution_count": 7,
   "id": "6816847b-5d52-4cb8-9b01-6c9477cd5220",
   "metadata": {},
   "outputs": [],
   "source": [
    "x = np.random.binomial(n=1, p=0.5, size=300)\n",
    "y = np.random.binomial(n=1, p=0.5, size=300)"
   ]
  },
  {
   "cell_type": "code",
   "execution_count": 9,
   "id": "2a618b22-d40e-4e23-b641-6725d597bb69",
   "metadata": {},
   "outputs": [],
   "source": [
    "z = np.mod(x+y, 2)"
   ]
  },
  {
   "cell_type": "code",
   "execution_count": 13,
   "id": "7eae8751-e56e-4b6a-88f3-5faabf3e7b16",
   "metadata": {},
   "outputs": [],
   "source": []
  },
  {
   "cell_type": "code",
   "execution_count": 17,
   "id": "82453939-9ae1-4fae-917d-2fd7278cae71",
   "metadata": {},
   "outputs": [
    {
     "data": {
      "application/vnd.jupyter.widget-view+json": {
       "model_id": "c582616e1ee74aef94baf9116a875393",
       "version_major": 2,
       "version_minor": 0
      },
      "text/plain": [
       "  0%|          | 0/100 [00:00<?, ?it/s]"
      ]
     },
     "metadata": {},
     "output_type": "display_data"
    },
    {
     "name": "stdout",
     "output_type": "stream",
     "text": [
      "100\n"
     ]
    }
   ],
   "source": [
    "rejects = 0\n",
    "for i in tqdm(np.arange(100)):\n",
    "    df = pd.DataFrame(list(zip(x, y, z)), columns=['x', 'y', 'z'])\n",
    "    data_dict, kernel_dict = compute_kernel(df)\n",
    "    _, _, _, reject = test_lancaster([kernel_dict['x'], kernel_dict['y'],kernel_dict['z']], None, n_perms=5000, alpha=0.05, mode='permutation')       \n",
    "    rejects = rejects + reject\n",
    "print(rejects)"
   ]
  },
  {
   "cell_type": "code",
   "execution_count": 19,
   "id": "493e6475-787f-49eb-9193-e3280a328e00",
   "metadata": {},
   "outputs": [
    {
     "data": {
      "application/vnd.jupyter.widget-view+json": {
       "model_id": "66a83a35b947471bb91883e6d33b247d",
       "version_major": 2,
       "version_minor": 0
      },
      "text/plain": [
       "  0%|          | 0/100 [00:00<?, ?it/s]"
      ]
     },
     "metadata": {},
     "output_type": "display_data"
    },
    {
     "name": "stdout",
     "output_type": "stream",
     "text": [
      "100\n"
     ]
    }
   ],
   "source": [
    "rejects = 0\n",
    "for i in tqdm(np.arange(100)):\n",
    "    df = pd.DataFrame(list(zip(x, y, z)), columns=['x', 'y', 'z'])\n",
    "    data_dict, kernel_dict = compute_kernel(df)\n",
    "    _, _, _, reject = test_independence([kernel_dict['x'], kernel_dict['y'],kernel_dict['z']], None, mode='iid', n_perms=5000, alpha=0.05)\n",
    "    rejects = rejects + reject\n",
    "print(rejects)"
   ]
  },
  {
   "cell_type": "code",
   "execution_count": 20,
   "id": "ee5de901-57f2-4b65-85f7-379be9ac5cf5",
   "metadata": {},
   "outputs": [
    {
     "data": {
      "application/vnd.jupyter.widget-view+json": {
       "model_id": "e7ec0dc2eb5e4ad0b9d721ceb7b9bee7",
       "version_major": 2,
       "version_minor": 0
      },
      "text/plain": [
       "  0%|          | 0/100 [00:00<?, ?it/s]"
      ]
     },
     "metadata": {},
     "output_type": "display_data"
    },
    {
     "name": "stdout",
     "output_type": "stream",
     "text": [
      "100\n"
     ]
    }
   ],
   "source": [
    "rejects = 0\n",
    "for i in tqdm(np.arange(100)):\n",
    "    df = pd.DataFrame(list(zip(x, y, z)), columns=['x', 'y', 'z'])\n",
    "    data_dict, kernel_dict = compute_kernel(df)\n",
    "    _, _, _, reject = test_independence([kernel_dict['x'], kernel_dict['z']], None, mode='iid', n_perms=5000, alpha=0.05)\n",
    "    rejects = rejects + reject\n",
    "print(rejects)"
   ]
  },
  {
   "cell_type": "code",
   "execution_count": null,
   "id": "c2bdb294-f81f-48e9-b23d-560a928869de",
   "metadata": {},
   "outputs": [],
   "source": []
  }
 ],
 "metadata": {
  "kernelspec": {
   "display_name": "Python 3 (ipykernel)",
   "language": "python",
   "name": "python3"
  },
  "language_info": {
   "codemirror_mode": {
    "name": "ipython",
    "version": 3
   },
   "file_extension": ".py",
   "mimetype": "text/x-python",
   "name": "python",
   "nbconvert_exporter": "python",
   "pygments_lexer": "ipython3",
   "version": "3.9.12"
  }
 },
 "nbformat": 4,
 "nbformat_minor": 5
}

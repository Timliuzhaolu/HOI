{
 "cells": [
  {
   "cell_type": "code",
   "execution_count": 2,
   "id": "001a66f7-f64b-479d-a98b-3eb8d3594957",
   "metadata": {},
   "outputs": [],
   "source": [
    "%load_ext autoreload\n",
    "%autoreload 2"
   ]
  },
  {
   "cell_type": "code",
   "execution_count": 3,
   "id": "e8de70d7-85cd-4319-aa59-4bf0d2ed7488",
   "metadata": {},
   "outputs": [],
   "source": [
    "import sys\n",
    "sys.path.append('/Users/Tim/PycharmProjects/HOI/')"
   ]
  },
  {
   "cell_type": "code",
   "execution_count": 4,
   "id": "e78112ca-57fb-4177-81c8-b9eebaf8ae0d",
   "metadata": {},
   "outputs": [],
   "source": [
    "import numba\n",
    "import pandas as pd\n",
    "import numpy as np\n",
    "from tqdm.notebook import tqdm\n",
    "from ipywidgets import IntProgress"
   ]
  },
  {
   "cell_type": "code",
   "execution_count": 5,
   "id": "3b56efd5-d142-46cf-adb1-9dbea81c97f8",
   "metadata": {},
   "outputs": [],
   "source": [
    "from synthetic_data import stationary_pb_ts, nonstationary_ts_n, stationary_pb_ts_n\n",
    "from HOI.preprocessings import compute_kernel, compute_kernel_n\n",
    "from HOI.tests import test_independence"
   ]
  },
  {
   "cell_type": "code",
   "execution_count": 7,
   "id": "d7598a26-b8e0-476a-81fa-569e4c8179c4",
   "metadata": {},
   "outputs": [],
   "source": [
    "import matplotlib.pyplot as plt\n",
    "\n",
    "def plot_test(data, mode):\n",
    "    x = np.arange(0.1, 1, 0.1)\n",
    "    y = np.array(data)\n",
    "\n",
    "    fig = plt.figure(dpi=800)\n",
    "    ax = fig.add_subplot(111)\n",
    "    ax.set_ylim(0,1.05)\n",
    "    ax.set_xlabel('dependence coefficient')\n",
    "    ax.set_ylabel(mode)\n",
    "    ax.set_title(mode + ' of dHSIC independence tests')\n",
    "    plt.plot(x,y, marker='o', color='b')\n",
    "    for i,j in zip(x,y):\n",
    "        ax.annotate(str(j),xy=(i,j))\n",
    "    plt.show()"
   ]
  },
  {
   "cell_type": "code",
   "execution_count": null,
   "id": "8ffd0f0a-efeb-40a8-a99a-946df6be9fc5",
   "metadata": {},
   "outputs": [],
   "source": []
  },
  {
   "cell_type": "markdown",
   "id": "42433384-2390-4c36-aa63-48987d0fa55d",
   "metadata": {},
   "source": [
    "# triangle"
   ]
  },
  {
   "cell_type": "markdown",
   "id": "47114520-a60c-4c94-a75b-f93a5efd0910",
   "metadata": {
    "tags": []
   },
   "source": [
    "## case2, z = x+y, gt_rejects = [1, 0, 1, 1]"
   ]
  },
  {
   "cell_type": "code",
   "execution_count": 8,
   "id": "5e616466",
   "metadata": {
    "collapsed": true,
    "jupyter": {
     "outputs_hidden": true
    },
    "tags": []
   },
   "outputs": [
    {
     "data": {
      "application/vnd.jupyter.widget-view+json": {
       "model_id": "f14fab24538c477bb5458049084f8ba8",
       "version_major": 2,
       "version_minor": 0
      },
      "text/plain": [
       "  0%|          | 0/9 [00:00<?, ?it/s]"
      ]
     },
     "metadata": {},
     "output_type": "display_data"
    },
    {
     "data": {
      "application/vnd.jupyter.widget-view+json": {
       "model_id": "7a085ab5be1f4ef2a0d9cf0b53d12a31",
       "version_major": 2,
       "version_minor": 0
      },
      "text/plain": [
       "  0%|          | 0/100 [00:00<?, ?it/s]"
      ]
     },
     "metadata": {},
     "output_type": "display_data"
    },
    {
     "name": "stdout",
     "output_type": "stream",
     "text": [
      "{'0.1': 0.59}\n"
     ]
    },
    {
     "data": {
      "application/vnd.jupyter.widget-view+json": {
       "model_id": "2ad4293e0a5543e599ec2048bbb82072",
       "version_major": 2,
       "version_minor": 0
      },
      "text/plain": [
       "  0%|          | 0/100 [00:00<?, ?it/s]"
      ]
     },
     "metadata": {},
     "output_type": "display_data"
    },
    {
     "name": "stdout",
     "output_type": "stream",
     "text": [
      "{'0.1': 0.59, '0.2': 1.0}\n"
     ]
    },
    {
     "data": {
      "application/vnd.jupyter.widget-view+json": {
       "model_id": "95e16110693144d89ce02d5dc5a1844d",
       "version_major": 2,
       "version_minor": 0
      },
      "text/plain": [
       "  0%|          | 0/100 [00:00<?, ?it/s]"
      ]
     },
     "metadata": {},
     "output_type": "display_data"
    },
    {
     "name": "stdout",
     "output_type": "stream",
     "text": [
      "{'0.1': 0.59, '0.2': 1.0, '0.30000000000000004': 1.0}\n"
     ]
    },
    {
     "data": {
      "application/vnd.jupyter.widget-view+json": {
       "model_id": "3db7174718d1461791f3123fee2a17a1",
       "version_major": 2,
       "version_minor": 0
      },
      "text/plain": [
       "  0%|          | 0/100 [00:00<?, ?it/s]"
      ]
     },
     "metadata": {},
     "output_type": "display_data"
    },
    {
     "ename": "KeyboardInterrupt",
     "evalue": "",
     "output_type": "error",
     "traceback": [
      "\u001b[0;31m---------------------------------------------------------------------------\u001b[0m",
      "\u001b[0;31mKeyboardInterrupt\u001b[0m                         Traceback (most recent call last)",
      "Input \u001b[0;32mIn [8]\u001b[0m, in \u001b[0;36m<cell line: 2>\u001b[0;34m()\u001b[0m\n\u001b[1;32m      7\u001b[0m     kd2 \u001b[38;5;241m=\u001b[39m compute_kernel_n(d2)\n\u001b[1;32m      8\u001b[0m     kd3 \u001b[38;5;241m=\u001b[39m compute_kernel_n(d3)\n\u001b[0;32m----> 9\u001b[0m     _, _, _, reject \u001b[38;5;241m=\u001b[39m \u001b[43mtest_independence\u001b[49m\u001b[43m(\u001b[49m\u001b[43m[\u001b[49m\u001b[43mkd1\u001b[49m\u001b[43m,\u001b[49m\u001b[43m \u001b[49m\u001b[43mkd2\u001b[49m\u001b[43m,\u001b[49m\u001b[43m \u001b[49m\u001b[43mkd3\u001b[49m\u001b[43m]\u001b[49m\u001b[43m,\u001b[49m\u001b[38;5;28;43;01mNone\u001b[39;49;00m\u001b[43m,\u001b[49m\u001b[43m \u001b[49m\u001b[43mmode\u001b[49m\u001b[43m \u001b[49m\u001b[38;5;241;43m=\u001b[39;49m\u001b[43m \u001b[49m\u001b[38;5;124;43m'\u001b[39;49m\u001b[38;5;124;43mpermutation\u001b[39;49m\u001b[38;5;124;43m'\u001b[39;49m\u001b[43m,\u001b[49m\u001b[43m \u001b[49m\u001b[43mn_perms\u001b[49m\u001b[38;5;241;43m=\u001b[39;49m\u001b[38;5;241;43m1000\u001b[39;49m\u001b[43m,\u001b[49m\u001b[43m \u001b[49m\u001b[43malpha\u001b[49m\u001b[38;5;241;43m=\u001b[39;49m\u001b[38;5;241;43m0.05\u001b[39;49m\u001b[43m)\u001b[49m\n\u001b[1;32m     10\u001b[0m     rejects \u001b[38;5;241m=\u001b[39m rejects \u001b[38;5;241m+\u001b[39m reject\n\u001b[1;32m     11\u001b[0m power[\u001b[38;5;28mstr\u001b[39m(d)] \u001b[38;5;241m=\u001b[39m rejects\u001b[38;5;241m/\u001b[39m\u001b[38;5;241m100\u001b[39m\n",
      "File \u001b[0;32m/Users/Tim/PycharmProjects/HOI/HOI/tests.py:237\u001b[0m, in \u001b[0;36mtest_independence\u001b[0;34m(k_list, data_list, n_perms, alpha, mode)\u001b[0m\n\u001b[1;32m    235\u001b[0m \u001b[38;5;28;01mif\u001b[39;00m mode \u001b[38;5;241m==\u001b[39m \u001b[38;5;124m'\u001b[39m\u001b[38;5;124mpermutation\u001b[39m\u001b[38;5;124m'\u001b[39m:\n\u001b[1;32m    236\u001b[0m     statistic \u001b[38;5;241m=\u001b[39m compute_dHSIC_statistics(k_list)\n\u001b[0;32m--> 237\u001b[0m     critical_value, pval \u001b[38;5;241m=\u001b[39m \u001b[43mdhsic_permutation\u001b[49m\u001b[43m(\u001b[49m\u001b[43mk_list\u001b[49m\u001b[43m,\u001b[49m\u001b[43m \u001b[49m\u001b[43mn_samples\u001b[49m\u001b[43m,\u001b[49m\u001b[43m \u001b[49m\u001b[43mn_variables\u001b[49m\u001b[43m,\u001b[49m\u001b[43m \u001b[49m\u001b[43mstatistic\u001b[49m\u001b[43m,\u001b[49m\u001b[43m \u001b[49m\u001b[43mn_perms\u001b[49m\u001b[43m,\u001b[49m\u001b[43m \u001b[49m\u001b[43malpha\u001b[49m\u001b[43m)\u001b[49m\n\u001b[1;32m    238\u001b[0m     reject \u001b[38;5;241m=\u001b[39m \u001b[38;5;28mint\u001b[39m(statistic \u001b[38;5;241m>\u001b[39m critical_value)\n\u001b[1;32m    239\u001b[0m     \u001b[38;5;28;01mreturn\u001b[39;00m statistic, critical_value, pval, reject\n",
      "File \u001b[0;32m/Users/Tim/PycharmProjects/HOI/HOI/tests.py:33\u001b[0m, in \u001b[0;36mdhsic_permutation\u001b[0;34m(k_list, n_samples, n_variables, stat_found, n_perms, alpha)\u001b[0m\n\u001b[1;32m     30\u001b[0m index_perm \u001b[38;5;241m=\u001b[39m np\u001b[38;5;241m.\u001b[39mrandom\u001b[38;5;241m.\u001b[39mpermutation(k_list[j]\u001b[38;5;241m.\u001b[39mshape[\u001b[38;5;241m0\u001b[39m])\n\u001b[1;32m     31\u001b[0m k_perm \u001b[38;5;241m=\u001b[39m k_list[j][index_perm, index_perm[:, \u001b[38;5;28;01mNone\u001b[39;00m]]\n\u001b[0;32m---> 33\u001b[0m term1 \u001b[38;5;241m=\u001b[39m \u001b[43mterm1\u001b[49m\u001b[43m \u001b[49m\u001b[38;5;241;43m*\u001b[39;49m\u001b[43m \u001b[49m\u001b[43mk_perm\u001b[49m\n\u001b[1;32m     34\u001b[0m term2 \u001b[38;5;241m=\u001b[39m term2 \u001b[38;5;241m*\u001b[39m np\u001b[38;5;241m.\u001b[39msum(k_perm) \u001b[38;5;241m/\u001b[39m (n_samples \u001b[38;5;241m*\u001b[39m\u001b[38;5;241m*\u001b[39m \u001b[38;5;241m2\u001b[39m)\n\u001b[1;32m     35\u001b[0m term3 \u001b[38;5;241m=\u001b[39m term3 \u001b[38;5;241m*\u001b[39m np\u001b[38;5;241m.\u001b[39msum(k_perm, axis\u001b[38;5;241m=\u001b[39m\u001b[38;5;241m0\u001b[39m) \u001b[38;5;241m/\u001b[39m n_samples\n",
      "\u001b[0;31mKeyboardInterrupt\u001b[0m: "
     ]
    }
   ],
   "source": [
    "power ={}\n",
    "for d in tqdm(np.arange(0.1, 1, 0.1)):\n",
    "    rejects = 0\n",
    "    for i in tqdm(np.arange(100)):\n",
    "        d1, d2, _, d3 = nonstationary_ts_n(n_sample=300, t_time=5, d=d, mode='case2', a=0.5, order=3)\n",
    "        kd1 = compute_kernel_n(d1)\n",
    "        kd2 = compute_kernel_n(d2)\n",
    "        kd3 = compute_kernel_n(d3)\n",
    "        _, _, _, reject = test_independence([kd1, kd2, kd3],None, mode = 'permutation', n_perms=1000, alpha=0.05)\n",
    "        rejects = rejects + reject\n",
    "    power[str(d)] = rejects/100\n",
    "    print(power)"
   ]
  },
  {
   "cell_type": "markdown",
   "id": "e72d911f-c1a9-4331-8220-2a0524f615a2",
   "metadata": {
    "tags": []
   },
   "source": [
    "# case1, z = xy, gt_rejects = [1, 0, 0, 0]"
   ]
  },
  {
   "cell_type": "code",
   "execution_count": 17,
   "id": "fdfb9a48-48f5-4529-8feb-b52ed59f5d79",
   "metadata": {},
   "outputs": [
    {
     "data": {
      "application/vnd.jupyter.widget-view+json": {
       "model_id": "9587ebb1e5f640bebdc941e3d51b1d67",
       "version_major": 2,
       "version_minor": 0
      },
      "text/plain": [
       "  0%|          | 0/9 [00:00<?, ?it/s]"
      ]
     },
     "metadata": {},
     "output_type": "display_data"
    },
    {
     "data": {
      "application/vnd.jupyter.widget-view+json": {
       "model_id": "c30cca55920d49b0803aae38d7df052d",
       "version_major": 2,
       "version_minor": 0
      },
      "text/plain": [
       "  0%|          | 0/100 [00:00<?, ?it/s]"
      ]
     },
     "metadata": {},
     "output_type": "display_data"
    },
    {
     "name": "stdout",
     "output_type": "stream",
     "text": [
      "{'0.01': 0.11}\n"
     ]
    },
    {
     "data": {
      "application/vnd.jupyter.widget-view+json": {
       "model_id": "646f67e35f834c5bbd13a4f98a1e0a5c",
       "version_major": 2,
       "version_minor": 0
      },
      "text/plain": [
       "  0%|          | 0/100 [00:00<?, ?it/s]"
      ]
     },
     "metadata": {},
     "output_type": "display_data"
    },
    {
     "name": "stdout",
     "output_type": "stream",
     "text": [
      "{'0.01': 0.11, '0.02': 0.1}\n"
     ]
    },
    {
     "data": {
      "application/vnd.jupyter.widget-view+json": {
       "model_id": "89eb08c15a994339be9dda092a812e3f",
       "version_major": 2,
       "version_minor": 0
      },
      "text/plain": [
       "  0%|          | 0/100 [00:00<?, ?it/s]"
      ]
     },
     "metadata": {},
     "output_type": "display_data"
    },
    {
     "name": "stdout",
     "output_type": "stream",
     "text": [
      "{'0.01': 0.11, '0.02': 0.1, '0.03': 0.47}\n"
     ]
    },
    {
     "data": {
      "application/vnd.jupyter.widget-view+json": {
       "model_id": "52b1571dd3e04216b40f87e7052a955e",
       "version_major": 2,
       "version_minor": 0
      },
      "text/plain": [
       "  0%|          | 0/100 [00:00<?, ?it/s]"
      ]
     },
     "metadata": {},
     "output_type": "display_data"
    },
    {
     "name": "stdout",
     "output_type": "stream",
     "text": [
      "{'0.01': 0.11, '0.02': 0.1, '0.03': 0.47, '0.04': 0.86}\n"
     ]
    },
    {
     "data": {
      "application/vnd.jupyter.widget-view+json": {
       "model_id": "1eb8462d25b246768d29557665db2cd3",
       "version_major": 2,
       "version_minor": 0
      },
      "text/plain": [
       "  0%|          | 0/100 [00:00<?, ?it/s]"
      ]
     },
     "metadata": {},
     "output_type": "display_data"
    },
    {
     "name": "stdout",
     "output_type": "stream",
     "text": [
      "{'0.01': 0.11, '0.02': 0.1, '0.03': 0.47, '0.04': 0.86, '0.05': 0.99}\n"
     ]
    },
    {
     "data": {
      "application/vnd.jupyter.widget-view+json": {
       "model_id": "510a0ee1411749e29fd53c28b929166f",
       "version_major": 2,
       "version_minor": 0
      },
      "text/plain": [
       "  0%|          | 0/100 [00:00<?, ?it/s]"
      ]
     },
     "metadata": {},
     "output_type": "display_data"
    },
    {
     "name": "stdout",
     "output_type": "stream",
     "text": [
      "{'0.01': 0.11, '0.02': 0.1, '0.03': 0.47, '0.04': 0.86, '0.05': 0.99, '0.060000000000000005': 1.0}\n"
     ]
    },
    {
     "data": {
      "application/vnd.jupyter.widget-view+json": {
       "model_id": "d4d85bc70982473689d28aa6b9541fb7",
       "version_major": 2,
       "version_minor": 0
      },
      "text/plain": [
       "  0%|          | 0/100 [00:00<?, ?it/s]"
      ]
     },
     "metadata": {},
     "output_type": "display_data"
    },
    {
     "name": "stdout",
     "output_type": "stream",
     "text": [
      "{'0.01': 0.11, '0.02': 0.1, '0.03': 0.47, '0.04': 0.86, '0.05': 0.99, '0.060000000000000005': 1.0, '0.06999999999999999': 1.0}\n"
     ]
    },
    {
     "data": {
      "application/vnd.jupyter.widget-view+json": {
       "model_id": "50f8d6387ca248e7b82b6cf1cb43b6f5",
       "version_major": 2,
       "version_minor": 0
      },
      "text/plain": [
       "  0%|          | 0/100 [00:00<?, ?it/s]"
      ]
     },
     "metadata": {},
     "output_type": "display_data"
    },
    {
     "name": "stdout",
     "output_type": "stream",
     "text": [
      "{'0.01': 0.11, '0.02': 0.1, '0.03': 0.47, '0.04': 0.86, '0.05': 0.99, '0.060000000000000005': 1.0, '0.06999999999999999': 1.0, '0.08': 1.0}\n"
     ]
    },
    {
     "data": {
      "application/vnd.jupyter.widget-view+json": {
       "model_id": "35af0a62ef3e463d9ebb7b8f683bb974",
       "version_major": 2,
       "version_minor": 0
      },
      "text/plain": [
       "  0%|          | 0/100 [00:00<?, ?it/s]"
      ]
     },
     "metadata": {},
     "output_type": "display_data"
    },
    {
     "name": "stdout",
     "output_type": "stream",
     "text": [
      "{'0.01': 0.11, '0.02': 0.1, '0.03': 0.47, '0.04': 0.86, '0.05': 0.99, '0.060000000000000005': 1.0, '0.06999999999999999': 1.0, '0.08': 1.0, '0.09': 1.0}\n"
     ]
    }
   ],
   "source": [
    "power ={}\n",
    "for d in tqdm(np.arange(0.01, 0.1, 0.01)):\n",
    "    rejects = 0\n",
    "    for i in tqdm(np.arange(100)):\n",
    "        d1, d2, _, d3 = nonstationary_ts_n(n_sample=400, t_time=10, d=d, mode='case1', a=0.5, order=3)\n",
    "        kd1 = compute_kernel_n(d1)\n",
    "        kd2 = compute_kernel_n(d2)\n",
    "        kd3 = compute_kernel_n(d3)\n",
    "        _, _, _, reject = test_independence([kd1, kd2, kd3],None, mode = 'permutation', n_perms=1000, alpha=0.05)\n",
    "        rejects = rejects + reject\n",
    "    power[str(d)] = rejects/100\n",
    "    print(power)"
   ]
  },
  {
   "cell_type": "code",
   "execution_count": 18,
   "id": "2c8c687b-600e-40c3-9df3-74b50089a8c6",
   "metadata": {},
   "outputs": [
    {
     "data": {
      "application/vnd.jupyter.widget-view+json": {
       "model_id": "40b33f53a8e747eda219d389baafa973",
       "version_major": 2,
       "version_minor": 0
      },
      "text/plain": [
       "  0%|          | 0/9 [00:00<?, ?it/s]"
      ]
     },
     "metadata": {},
     "output_type": "display_data"
    },
    {
     "data": {
      "application/vnd.jupyter.widget-view+json": {
       "model_id": "bbed2f6cf8f04865a5633dd9c95bd80f",
       "version_major": 2,
       "version_minor": 0
      },
      "text/plain": [
       "  0%|          | 0/100 [00:00<?, ?it/s]"
      ]
     },
     "metadata": {},
     "output_type": "display_data"
    },
    {
     "name": "stdout",
     "output_type": "stream",
     "text": [
      "{'0.01': 0.08}\n"
     ]
    },
    {
     "data": {
      "application/vnd.jupyter.widget-view+json": {
       "model_id": "925852798516453bb1d85ba48560bce8",
       "version_major": 2,
       "version_minor": 0
      },
      "text/plain": [
       "  0%|          | 0/100 [00:00<?, ?it/s]"
      ]
     },
     "metadata": {},
     "output_type": "display_data"
    },
    {
     "name": "stdout",
     "output_type": "stream",
     "text": [
      "{'0.01': 0.08, '0.02': 0.19}\n"
     ]
    },
    {
     "data": {
      "application/vnd.jupyter.widget-view+json": {
       "model_id": "f4c2fd4f69e44bf3b1eeec773ffe33a7",
       "version_major": 2,
       "version_minor": 0
      },
      "text/plain": [
       "  0%|          | 0/100 [00:00<?, ?it/s]"
      ]
     },
     "metadata": {},
     "output_type": "display_data"
    },
    {
     "name": "stdout",
     "output_type": "stream",
     "text": [
      "{'0.01': 0.08, '0.02': 0.19, '0.03': 0.72}\n"
     ]
    },
    {
     "data": {
      "application/vnd.jupyter.widget-view+json": {
       "model_id": "26785a793d0d4510b8b04cf778010e23",
       "version_major": 2,
       "version_minor": 0
      },
      "text/plain": [
       "  0%|          | 0/100 [00:00<?, ?it/s]"
      ]
     },
     "metadata": {},
     "output_type": "display_data"
    },
    {
     "name": "stdout",
     "output_type": "stream",
     "text": [
      "{'0.01': 0.08, '0.02': 0.19, '0.03': 0.72, '0.04': 0.98}\n"
     ]
    },
    {
     "data": {
      "application/vnd.jupyter.widget-view+json": {
       "model_id": "77014b3ade604663a037b59e2d4d3031",
       "version_major": 2,
       "version_minor": 0
      },
      "text/plain": [
       "  0%|          | 0/100 [00:00<?, ?it/s]"
      ]
     },
     "metadata": {},
     "output_type": "display_data"
    },
    {
     "name": "stdout",
     "output_type": "stream",
     "text": [
      "{'0.01': 0.08, '0.02': 0.19, '0.03': 0.72, '0.04': 0.98, '0.05': 1.0}\n"
     ]
    },
    {
     "data": {
      "application/vnd.jupyter.widget-view+json": {
       "model_id": "394e783b2da74207add14899facf24f4",
       "version_major": 2,
       "version_minor": 0
      },
      "text/plain": [
       "  0%|          | 0/100 [00:00<?, ?it/s]"
      ]
     },
     "metadata": {},
     "output_type": "display_data"
    },
    {
     "name": "stdout",
     "output_type": "stream",
     "text": [
      "{'0.01': 0.08, '0.02': 0.19, '0.03': 0.72, '0.04': 0.98, '0.05': 1.0, '0.060000000000000005': 1.0}\n"
     ]
    },
    {
     "data": {
      "application/vnd.jupyter.widget-view+json": {
       "model_id": "7fa7f352221f4cacbb5339e334c1960d",
       "version_major": 2,
       "version_minor": 0
      },
      "text/plain": [
       "  0%|          | 0/100 [00:00<?, ?it/s]"
      ]
     },
     "metadata": {},
     "output_type": "display_data"
    },
    {
     "name": "stdout",
     "output_type": "stream",
     "text": [
      "{'0.01': 0.08, '0.02': 0.19, '0.03': 0.72, '0.04': 0.98, '0.05': 1.0, '0.060000000000000005': 1.0, '0.06999999999999999': 1.0}\n"
     ]
    },
    {
     "data": {
      "application/vnd.jupyter.widget-view+json": {
       "model_id": "634a1a710c9548459a8f289987a47822",
       "version_major": 2,
       "version_minor": 0
      },
      "text/plain": [
       "  0%|          | 0/100 [00:00<?, ?it/s]"
      ]
     },
     "metadata": {},
     "output_type": "display_data"
    },
    {
     "name": "stdout",
     "output_type": "stream",
     "text": [
      "{'0.01': 0.08, '0.02': 0.19, '0.03': 0.72, '0.04': 0.98, '0.05': 1.0, '0.060000000000000005': 1.0, '0.06999999999999999': 1.0, '0.08': 1.0}\n"
     ]
    },
    {
     "data": {
      "application/vnd.jupyter.widget-view+json": {
       "model_id": "6451a12048684b16bb76df520d23a894",
       "version_major": 2,
       "version_minor": 0
      },
      "text/plain": [
       "  0%|          | 0/100 [00:00<?, ?it/s]"
      ]
     },
     "metadata": {},
     "output_type": "display_data"
    },
    {
     "name": "stdout",
     "output_type": "stream",
     "text": [
      "{'0.01': 0.08, '0.02': 0.19, '0.03': 0.72, '0.04': 0.98, '0.05': 1.0, '0.060000000000000005': 1.0, '0.06999999999999999': 1.0, '0.08': 1.0, '0.09': 1.0}\n"
     ]
    }
   ],
   "source": [
    "power ={}\n",
    "for d in tqdm(np.arange(0.01, 0.1, 0.01)):\n",
    "    rejects = 0\n",
    "    for i in tqdm(np.arange(100)):\n",
    "        d1, d2, _, d3 = nonstationary_ts_n(n_sample=500, t_time=10, d=d, mode='case1', a=0.5, order=3)\n",
    "        kd1 = compute_kernel_n(d1)\n",
    "        kd2 = compute_kernel_n(d2)\n",
    "        kd3 = compute_kernel_n(d3)\n",
    "        _, _, _, reject = test_independence([kd1, kd2, kd3],None, mode = 'permutation', n_perms=1000, alpha=0.05)\n",
    "        rejects = rejects + reject\n",
    "    power[str(d)] = rejects/100\n",
    "    print(power)"
   ]
  },
  {
   "cell_type": "code",
   "execution_count": null,
   "id": "232bc44d-0333-43b2-9f8a-3d2b6f3c2430",
   "metadata": {},
   "outputs": [],
   "source": []
  },
  {
   "cell_type": "markdown",
   "id": "63967c1e-4959-4024-9bbb-2c4f0c8a65eb",
   "metadata": {},
   "source": [
    "## case 3, no edges, gt_rejects = [0, 0, 0, 0]"
   ]
  },
  {
   "cell_type": "code",
   "execution_count": 14,
   "id": "bed164a7-f6bd-48c8-98cd-7e41f71e1710",
   "metadata": {
    "tags": []
   },
   "outputs": [
    {
     "data": {
      "application/vnd.jupyter.widget-view+json": {
       "model_id": "ae9361a34b1846c6960ec4df25270c48",
       "version_major": 2,
       "version_minor": 0
      },
      "text/plain": [
       "  0%|          | 0/9 [00:00<?, ?it/s]"
      ]
     },
     "metadata": {},
     "output_type": "display_data"
    },
    {
     "data": {
      "application/vnd.jupyter.widget-view+json": {
       "model_id": "f02cd47c63cf4185afb7d30cf1de234f",
       "version_major": 2,
       "version_minor": 0
      },
      "text/plain": [
       "  0%|          | 0/100 [00:00<?, ?it/s]"
      ]
     },
     "metadata": {},
     "output_type": "display_data"
    },
    {
     "name": "stdout",
     "output_type": "stream",
     "text": [
      "{'1.0': 0.07}\n"
     ]
    },
    {
     "data": {
      "application/vnd.jupyter.widget-view+json": {
       "model_id": "171833da48b24b6895b7bae66a15f765",
       "version_major": 2,
       "version_minor": 0
      },
      "text/plain": [
       "  0%|          | 0/100 [00:00<?, ?it/s]"
      ]
     },
     "metadata": {},
     "output_type": "display_data"
    },
    {
     "name": "stdout",
     "output_type": "stream",
     "text": [
      "{'1.0': 0.07, '0.9': 0.02}\n"
     ]
    },
    {
     "data": {
      "application/vnd.jupyter.widget-view+json": {
       "model_id": "c231bb91bf2b444498b0d5624224b1ac",
       "version_major": 2,
       "version_minor": 0
      },
      "text/plain": [
       "  0%|          | 0/100 [00:00<?, ?it/s]"
      ]
     },
     "metadata": {},
     "output_type": "display_data"
    },
    {
     "name": "stdout",
     "output_type": "stream",
     "text": [
      "{'1.0': 0.07, '0.9': 0.02, '0.8': 0.05}\n"
     ]
    },
    {
     "data": {
      "application/vnd.jupyter.widget-view+json": {
       "model_id": "69b6108c654141968f7252c37aebf8c4",
       "version_major": 2,
       "version_minor": 0
      },
      "text/plain": [
       "  0%|          | 0/100 [00:00<?, ?it/s]"
      ]
     },
     "metadata": {},
     "output_type": "display_data"
    },
    {
     "name": "stdout",
     "output_type": "stream",
     "text": [
      "{'1.0': 0.07, '0.9': 0.02, '0.8': 0.05, '0.7000000000000001': 0.03}\n"
     ]
    },
    {
     "data": {
      "application/vnd.jupyter.widget-view+json": {
       "model_id": "7cbcaf067a114d86a2cd312a2d20ec6f",
       "version_major": 2,
       "version_minor": 0
      },
      "text/plain": [
       "  0%|          | 0/100 [00:00<?, ?it/s]"
      ]
     },
     "metadata": {},
     "output_type": "display_data"
    },
    {
     "name": "stdout",
     "output_type": "stream",
     "text": [
      "{'1.0': 0.07, '0.9': 0.02, '0.8': 0.05, '0.7000000000000001': 0.03, '0.6000000000000001': 0.08}\n"
     ]
    },
    {
     "data": {
      "application/vnd.jupyter.widget-view+json": {
       "model_id": "4975c4f240c34fafb2c7d9cb0e09a923",
       "version_major": 2,
       "version_minor": 0
      },
      "text/plain": [
       "  0%|          | 0/100 [00:00<?, ?it/s]"
      ]
     },
     "metadata": {},
     "output_type": "display_data"
    },
    {
     "name": "stdout",
     "output_type": "stream",
     "text": [
      "{'1.0': 0.07, '0.9': 0.02, '0.8': 0.05, '0.7000000000000001': 0.03, '0.6000000000000001': 0.08, '0.5000000000000001': 0.06}\n"
     ]
    },
    {
     "data": {
      "application/vnd.jupyter.widget-view+json": {
       "model_id": "5070f25586784031a61609a8e3ca2690",
       "version_major": 2,
       "version_minor": 0
      },
      "text/plain": [
       "  0%|          | 0/100 [00:00<?, ?it/s]"
      ]
     },
     "metadata": {},
     "output_type": "display_data"
    },
    {
     "name": "stdout",
     "output_type": "stream",
     "text": [
      "{'1.0': 0.07, '0.9': 0.02, '0.8': 0.05, '0.7000000000000001': 0.03, '0.6000000000000001': 0.08, '0.5000000000000001': 0.06, '0.40000000000000013': 0.06}\n"
     ]
    },
    {
     "data": {
      "application/vnd.jupyter.widget-view+json": {
       "model_id": "54135ef210764a17bfc28c31ef5c30ce",
       "version_major": 2,
       "version_minor": 0
      },
      "text/plain": [
       "  0%|          | 0/100 [00:00<?, ?it/s]"
      ]
     },
     "metadata": {},
     "output_type": "display_data"
    },
    {
     "name": "stdout",
     "output_type": "stream",
     "text": [
      "{'1.0': 0.07, '0.9': 0.02, '0.8': 0.05, '0.7000000000000001': 0.03, '0.6000000000000001': 0.08, '0.5000000000000001': 0.06, '0.40000000000000013': 0.06, '0.30000000000000016': 0.06}\n"
     ]
    },
    {
     "data": {
      "application/vnd.jupyter.widget-view+json": {
       "model_id": "bd513d71a31549d2a63cda49d4c9636e",
       "version_major": 2,
       "version_minor": 0
      },
      "text/plain": [
       "  0%|          | 0/100 [00:00<?, ?it/s]"
      ]
     },
     "metadata": {},
     "output_type": "display_data"
    },
    {
     "name": "stdout",
     "output_type": "stream",
     "text": [
      "{'1.0': 0.07, '0.9': 0.02, '0.8': 0.05, '0.7000000000000001': 0.03, '0.6000000000000001': 0.08, '0.5000000000000001': 0.06, '0.40000000000000013': 0.06, '0.30000000000000016': 0.06, '0.20000000000000018': 0.02}\n",
      "{'1.0': 0.07, '0.9': 0.02, '0.8': 0.05, '0.7000000000000001': 0.03, '0.6000000000000001': 0.08, '0.5000000000000001': 0.06, '0.40000000000000013': 0.06, '0.30000000000000016': 0.06, '0.20000000000000018': 0.02}\n"
     ]
    }
   ],
   "source": [
    "power ={}\n",
    "for d in tqdm(np.arange(1, 0.1, -0.1)):\n",
    "    rejects = 0\n",
    "    for i in tqdm(np.arange(100)):\n",
    "        d1, d2, _, d3 = nonstationary_ts_n(n_sample=300, t_time=10, d=0.5, mode='case3', a=d, order=3)\n",
    "        kd1 = compute_kernel_n(d1)\n",
    "        kd2 = compute_kernel_n(d2)\n",
    "        kd3 = compute_kernel_n(d3)\n",
    "        _, _, _, reject = test_independence([kd1, kd2, kd3],None,\n",
    "                                                  mode = 'iid', n_perms=5000, alpha=0.05)\n",
    "        rejects = rejects + reject\n",
    "    power[str(d)] = rejects/100\n",
    "    print(power)\n",
    "print(power)"
   ]
  },
  {
   "cell_type": "code",
   "execution_count": null,
   "id": "47afeceb-36e1-46c0-a6b0-38b8a3a2f909",
   "metadata": {},
   "outputs": [],
   "source": []
  }
 ],
 "metadata": {
  "kernelspec": {
   "display_name": "Python 3 (ipykernel)",
   "language": "python",
   "name": "python3"
  },
  "language_info": {
   "codemirror_mode": {
    "name": "ipython",
    "version": 3
   },
   "file_extension": ".py",
   "mimetype": "text/x-python",
   "name": "python",
   "nbconvert_exporter": "python",
   "pygments_lexer": "ipython3",
   "version": "3.9.12"
  }
 },
 "nbformat": 4,
 "nbformat_minor": 5
}

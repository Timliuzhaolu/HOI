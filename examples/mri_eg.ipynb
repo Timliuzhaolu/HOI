{
 "cells": [
  {
   "cell_type": "code",
   "execution_count": 498,
   "id": "a1673697-5261-49ac-8cb0-ba39544d3885",
   "metadata": {},
   "outputs": [
    {
     "name": "stdout",
     "output_type": "stream",
     "text": [
      "The autoreload extension is already loaded. To reload it, use:\n",
      "  %reload_ext autoreload\n"
     ]
    }
   ],
   "source": [
    "%load_ext autoreload\n",
    "%autoreload 2"
   ]
  },
  {
   "cell_type": "code",
   "execution_count": 499,
   "id": "99a6323e-14b8-4e5c-b22d-11848aacca22",
   "metadata": {},
   "outputs": [],
   "source": [
    "import sys\n",
    "sys.path.append('/Users/Tim/PycharmProjects/HOI/')"
   ]
  },
  {
   "cell_type": "code",
   "execution_count": 500,
   "id": "d9a7858e-2aa4-459e-9e19-990d42225d83",
   "metadata": {},
   "outputs": [],
   "source": [
    "import pandas as pd\n",
    "import numpy as np\n",
    "from tqdm.notebook import tqdm\n",
    "from ipywidgets import IntProgress\n",
    "import itertools\n",
    "import ast\n",
    "\n",
    "import matplotlib.pyplot as plt\n",
    "\n",
    "import hypernetx as hnx\n",
    "import networkx as nx"
   ]
  },
  {
   "cell_type": "code",
   "execution_count": 501,
   "id": "0632c66e-6c09-4928-8a9b-4119029b30e3",
   "metadata": {},
   "outputs": [],
   "source": [
    "from HOI.preprocessings import compute_kernel, compute_kernel_n\n",
    "from HOI.tests import test_independence\n",
    "from HOI.statistics import compute_dHSIC_statistics"
   ]
  },
  {
   "cell_type": "code",
   "execution_count": 502,
   "id": "281341b9-4879-4f41-bcda-967b499cb542",
   "metadata": {},
   "outputs": [],
   "source": [
    "def find_comb(var):\n",
    "    power_set = []\n",
    "    for L in range(len(var) + 1):\n",
    "        for subset in itertools.combinations(var, L):\n",
    "            if len(subset) >= 2:\n",
    "                power_set.append(list(subset))\n",
    "    return power_set"
   ]
  },
  {
   "cell_type": "code",
   "execution_count": 503,
   "id": "0b3752b4-d1f8-4422-9ae0-25be440e5ff9",
   "metadata": {},
   "outputs": [],
   "source": [
    "# (EDUC) Years of Education\n",
    "# (SES) Socioeconomic Status\n",
    "# (MMSE) Mini Mental State Examination\n",
    "# (CDR) Clinical Dementia Rating\n",
    "# (eTIV) Estimated total intracranial volume\n",
    "# (nWBV) Normalized Whole Brain Volume\n",
    "# (ASF) Atlas Scaling Factor"
   ]
  },
  {
   "cell_type": "code",
   "execution_count": 504,
   "id": "bf42c7bd-a212-4cbb-a5a0-8e6d8c37a1ff",
   "metadata": {},
   "outputs": [
    {
     "data": {
      "text/html": [
       "<div>\n",
       "<style scoped>\n",
       "    .dataframe tbody tr th:only-of-type {\n",
       "        vertical-align: middle;\n",
       "    }\n",
       "\n",
       "    .dataframe tbody tr th {\n",
       "        vertical-align: top;\n",
       "    }\n",
       "\n",
       "    .dataframe thead th {\n",
       "        text-align: right;\n",
       "    }\n",
       "</style>\n",
       "<table border=\"1\" class=\"dataframe\">\n",
       "  <thead>\n",
       "    <tr style=\"text-align: right;\">\n",
       "      <th></th>\n",
       "      <th>Subject ID</th>\n",
       "      <th>MRI ID</th>\n",
       "      <th>Group</th>\n",
       "      <th>Visit</th>\n",
       "      <th>MR Delay</th>\n",
       "      <th>M/F</th>\n",
       "      <th>Hand</th>\n",
       "      <th>Age</th>\n",
       "      <th>EDUC</th>\n",
       "      <th>CDR</th>\n",
       "      <th>eTIV</th>\n",
       "      <th>nWBV</th>\n",
       "      <th>ASF</th>\n",
       "    </tr>\n",
       "  </thead>\n",
       "  <tbody>\n",
       "    <tr>\n",
       "      <th>0</th>\n",
       "      <td>OAS2_0001</td>\n",
       "      <td>OAS2_0001_MR1</td>\n",
       "      <td>Nondemented</td>\n",
       "      <td>1</td>\n",
       "      <td>0</td>\n",
       "      <td>M</td>\n",
       "      <td>R</td>\n",
       "      <td>87</td>\n",
       "      <td>14</td>\n",
       "      <td>0.0</td>\n",
       "      <td>1987</td>\n",
       "      <td>0.696</td>\n",
       "      <td>0.883</td>\n",
       "    </tr>\n",
       "    <tr>\n",
       "      <th>1</th>\n",
       "      <td>OAS2_0001</td>\n",
       "      <td>OAS2_0001_MR2</td>\n",
       "      <td>Nondemented</td>\n",
       "      <td>2</td>\n",
       "      <td>457</td>\n",
       "      <td>M</td>\n",
       "      <td>R</td>\n",
       "      <td>88</td>\n",
       "      <td>14</td>\n",
       "      <td>0.0</td>\n",
       "      <td>2004</td>\n",
       "      <td>0.681</td>\n",
       "      <td>0.876</td>\n",
       "    </tr>\n",
       "    <tr>\n",
       "      <th>2</th>\n",
       "      <td>OAS2_0002</td>\n",
       "      <td>OAS2_0002_MR1</td>\n",
       "      <td>Demented</td>\n",
       "      <td>1</td>\n",
       "      <td>0</td>\n",
       "      <td>M</td>\n",
       "      <td>R</td>\n",
       "      <td>75</td>\n",
       "      <td>12</td>\n",
       "      <td>0.5</td>\n",
       "      <td>1678</td>\n",
       "      <td>0.736</td>\n",
       "      <td>1.046</td>\n",
       "    </tr>\n",
       "    <tr>\n",
       "      <th>3</th>\n",
       "      <td>OAS2_0002</td>\n",
       "      <td>OAS2_0002_MR2</td>\n",
       "      <td>Demented</td>\n",
       "      <td>2</td>\n",
       "      <td>560</td>\n",
       "      <td>M</td>\n",
       "      <td>R</td>\n",
       "      <td>76</td>\n",
       "      <td>12</td>\n",
       "      <td>0.5</td>\n",
       "      <td>1738</td>\n",
       "      <td>0.713</td>\n",
       "      <td>1.010</td>\n",
       "    </tr>\n",
       "    <tr>\n",
       "      <th>4</th>\n",
       "      <td>OAS2_0002</td>\n",
       "      <td>OAS2_0002_MR3</td>\n",
       "      <td>Demented</td>\n",
       "      <td>3</td>\n",
       "      <td>1895</td>\n",
       "      <td>M</td>\n",
       "      <td>R</td>\n",
       "      <td>80</td>\n",
       "      <td>12</td>\n",
       "      <td>0.5</td>\n",
       "      <td>1698</td>\n",
       "      <td>0.701</td>\n",
       "      <td>1.034</td>\n",
       "    </tr>\n",
       "  </tbody>\n",
       "</table>\n",
       "</div>"
      ],
      "text/plain": [
       "  Subject ID         MRI ID        Group  Visit  MR Delay M/F Hand  Age  EDUC  \\\n",
       "0  OAS2_0001  OAS2_0001_MR1  Nondemented      1         0   M    R   87    14   \n",
       "1  OAS2_0001  OAS2_0001_MR2  Nondemented      2       457   M    R   88    14   \n",
       "2  OAS2_0002  OAS2_0002_MR1     Demented      1         0   M    R   75    12   \n",
       "3  OAS2_0002  OAS2_0002_MR2     Demented      2       560   M    R   76    12   \n",
       "4  OAS2_0002  OAS2_0002_MR3     Demented      3      1895   M    R   80    12   \n",
       "\n",
       "   CDR  eTIV   nWBV    ASF  \n",
       "0  0.0  1987  0.696  0.883  \n",
       "1  0.0  2004  0.681  0.876  \n",
       "2  0.5  1678  0.736  1.046  \n",
       "3  0.5  1738  0.713  1.010  \n",
       "4  0.5  1698  0.701  1.034  "
      ]
     },
     "execution_count": 504,
     "metadata": {},
     "output_type": "execute_result"
    }
   ],
   "source": [
    "df = pd.read_csv('data/oasis_longitudinal.csv')\n",
    "df = df.dropna(axis=1)\n",
    "df.head()"
   ]
  },
  {
   "cell_type": "code",
   "execution_count": 505,
   "id": "c2ed5462-71c2-44ff-a09c-d00652be88cb",
   "metadata": {},
   "outputs": [],
   "source": [
    "from sklearn.preprocessing import StandardScaler, MinMaxScaler, Normalizer\n",
    "scaler = StandardScaler()\n",
    "df.iloc[:,7:] = scaler.fit_transform(df.iloc[:,7:].to_numpy())"
   ]
  },
  {
   "cell_type": "code",
   "execution_count": 506,
   "id": "108f0e97-cf3f-408c-9cfb-1f687903e6f1",
   "metadata": {
    "tags": []
   },
   "outputs": [
    {
     "name": "stderr",
     "output_type": "stream",
     "text": [
      "/var/folders/r2/kqm91_nx4lzbwlgclwj3gnfm0000gp/T/ipykernel_27778/3698554672.py:5: SettingWithCopyWarning: \n",
      "A value is trying to be set on a copy of a slice from a DataFrame\n",
      "\n",
      "See the caveats in the documentation: https://pandas.pydata.org/pandas-docs/stable/user_guide/indexing.html#returning-a-view-versus-a-copy\n",
      "  selected_rows.dropna(inplace=True)\n",
      "/var/folders/r2/kqm91_nx4lzbwlgclwj3gnfm0000gp/T/ipykernel_27778/3698554672.py:6: SettingWithCopyWarning: \n",
      "A value is trying to be set on a copy of a slice from a DataFrame.\n",
      "Try using .loc[row_indexer,col_indexer] = value instead\n",
      "\n",
      "See the caveats in the documentation: https://pandas.pydata.org/pandas-docs/stable/user_guide/indexing.html#returning-a-view-versus-a-copy\n",
      "  selected_rows['cumcount'] = selected_rows.groupby('Subject ID').cumcount()\n"
     ]
    }
   ],
   "source": [
    "value_counts = df['Subject ID'].value_counts()\n",
    "values_to_select = set(value_counts[value_counts >= 3].index)\n",
    "selected_rows = df[df['Subject ID'].isin(values_to_select)]\n",
    "\n",
    "selected_rows.dropna(inplace=True)\n",
    "selected_rows['cumcount'] = selected_rows.groupby('Subject ID').cumcount()\n",
    "\n",
    "Age = selected_rows.set_index(['Subject ID', 'cumcount'])['Age'].unstack().reset_index(drop=True).dropna(axis=1)\n",
    "EDUC = selected_rows.set_index(['Subject ID', 'cumcount'])['EDUC'].unstack().reset_index(drop=True).dropna(axis=1)\n",
    "# SES = selected_rows.set_index(['Subject ID', 'cumcount'])['SES'].unstack().reset_index(drop=True).dropna(axis=1)\n",
    "# MMSE = selected_rows.set_index(['Subject ID', 'cumcount'])['MMSE'].unstack().reset_index(drop=True).dropna(axis=1)\n",
    "CDR = selected_rows.set_index(['Subject ID', 'cumcount'])['CDR'].unstack().reset_index(drop=True).dropna(axis=1)\n",
    "eTIV = selected_rows.set_index(['Subject ID', 'cumcount'])['eTIV'].unstack().reset_index(drop=True).dropna(axis=1)\n",
    "nWBV = selected_rows.set_index(['Subject ID', 'cumcount'])['nWBV'].unstack().reset_index(drop=True).dropna(axis=1)\n",
    "ASF = selected_rows.set_index(['Subject ID', 'cumcount'])['ASF'].unstack().reset_index(drop=True).dropna(axis=1)"
   ]
  },
  {
   "cell_type": "code",
   "execution_count": 507,
   "id": "bc0cc18d-5779-44ce-acd3-194b2b5b96a1",
   "metadata": {},
   "outputs": [],
   "source": [
    "Age_k = compute_kernel_n(Age)\n",
    "EDUC_k = compute_kernel_n(EDUC)\n",
    "# SES_k = compute_kernel_n(SES)\n",
    "# MMSE_k = compute_kernel_n(MMSE)\n",
    "CDR_k = compute_kernel_n(CDR)\n",
    "eTIV_k = compute_kernel_n(eTIV)\n",
    "nWBV_k = compute_kernel_n(nWBV)\n",
    "ASF_k = compute_kernel_n(ASF)"
   ]
  },
  {
   "cell_type": "code",
   "execution_count": 508,
   "id": "cd5a6de9-d2db-49fe-a865-83d108f28c28",
   "metadata": {},
   "outputs": [
    {
     "data": {
      "text/plain": [
       "(56, 56)"
      ]
     },
     "execution_count": 508,
     "metadata": {},
     "output_type": "execute_result"
    }
   ],
   "source": [
    "ASF_k.shape"
   ]
  },
  {
   "cell_type": "code",
   "execution_count": 515,
   "id": "8fd8c252-376b-4410-8d4e-e41012b10f48",
   "metadata": {},
   "outputs": [
    {
     "data": {
      "application/vnd.jupyter.widget-view+json": {
       "model_id": "8ad5616f8ef24a4ca6b08fa751ee2fa3",
       "version_major": 2,
       "version_minor": 0
      },
      "text/plain": [
       "  0%|          | 0/11 [00:00<?, ?it/s]"
      ]
     },
     "metadata": {},
     "output_type": "display_data"
    },
    {
     "name": "stdout",
     "output_type": "stream",
     "text": [
      "{\"['Age', 'Normalised Whole Brain Volume']\": 1.0, \"['Clinical Dementia Rating', 'Normalised Whole Brain Volume']\": 1.0, \"['Age', 'Clinical Dementia Rating', 'Normalised Whole Brain Volume']\": 1.0, \"['Age', 'Normalised Whole Brain Volume', 'Estimated Total Intracranial Volume']\": 1.0, \"['Clinical Dementia Rating', 'Normalised Whole Brain Volume', 'Estimated Total Intracranial Volume']\": 1.0, \"['Age', 'Clinical Dementia Rating', 'Normalised Whole Brain Volume', 'Estimated Total Intracranial Volume']\": 1.0}\n"
     ]
    }
   ],
   "source": [
    "power_set_k = find_comb([Age_k, CDR_k, nWBV_k, eTIV_k])\n",
    "power_set_name = find_comb(['Age', 'Clinical Dementia Rating', 'Normalised Whole Brain Volume', 'Estimated Total Intracranial Volume'])\n",
    "n_exp = 10\n",
    "edges = {}\n",
    "for (name, klist) in tqdm(zip(power_set_name, power_set_k), total=len(power_set_k)):\n",
    "    rejects = 0\n",
    "    for i in range(n_exp):\n",
    "        _, _, _, reject = test_independence(klist, None, n_perms=1000, alpha=0.05, mode = 'permutation')\n",
    "        rejects = rejects + reject\n",
    "    if rejects/n_exp != 0:\n",
    "        edges[str(name)] = rejects/n_exp\n",
    "print(edges)"
   ]
  }
 ],
 "metadata": {
  "kernelspec": {
   "display_name": "Python 3 (ipykernel)",
   "language": "python",
   "name": "python3"
  },
  "language_info": {
   "codemirror_mode": {
    "name": "ipython",
    "version": 3
   },
   "file_extension": ".py",
   "mimetype": "text/x-python",
   "name": "python",
   "nbconvert_exporter": "python",
   "pygments_lexer": "ipython3",
   "version": "3.10.4"
  }
 },
 "nbformat": 4,
 "nbformat_minor": 5
}

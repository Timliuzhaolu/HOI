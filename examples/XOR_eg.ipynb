{
 "cells": [
  {
   "cell_type": "code",
   "execution_count": 319,
   "id": "4e855194-d6a5-4c96-900a-07d8a77d462c",
   "metadata": {},
   "outputs": [],
   "source": [
    "import operator"
   ]
  },
  {
   "cell_type": "code",
   "execution_count": 320,
   "id": "f309c29f-966b-476c-8492-d5af88788a1f",
   "metadata": {},
   "outputs": [
    {
     "name": "stdout",
     "output_type": "stream",
     "text": [
      "The autoreload extension is already loaded. To reload it, use:\n",
      "  %reload_ext autoreload\n"
     ]
    }
   ],
   "source": [
    "%load_ext autoreload\n",
    "%autoreload 2"
   ]
  },
  {
   "cell_type": "code",
   "execution_count": 321,
   "id": "e0569ff1-fffe-4a0e-970e-bed93336b98b",
   "metadata": {},
   "outputs": [],
   "source": [
    "import numpy as np\n",
    "import pandas as pd\n",
    "import os\n",
    "from tqdm.notebook import tqdm\n",
    "import matplotlib.pyplot as plt\n",
    "import itertools\n",
    "from sklearn.preprocessing import StandardScaler"
   ]
  },
  {
   "cell_type": "code",
   "execution_count": 322,
   "id": "32e43a43-6fb2-41a6-b9c7-7cf0e2e04bd1",
   "metadata": {},
   "outputs": [],
   "source": [
    "import sys\n",
    "sys.path.append('/Users/Tim/PycharmProjects/HOI/')"
   ]
  },
  {
   "cell_type": "code",
   "execution_count": 323,
   "id": "6a96e8a2-6a19-4ee1-8765-1c7315d908d9",
   "metadata": {},
   "outputs": [],
   "source": [
    "from HOI.preprocessings import compute_kernel, compute_kernel_n\n",
    "from HOI.tests import test_independence\n",
    "from synthetic_data import stationary_pb_ts, nonstationary_ts_n, stationary_pb_ts_n"
   ]
  },
  {
   "cell_type": "code",
   "execution_count": 324,
   "id": "fd845a60-26e4-45a8-bfef-ee1fe3c537a4",
   "metadata": {},
   "outputs": [],
   "source": [
    "def find_comb(var):\n",
    "    power_set = []\n",
    "    for L in range(len(var) + 1):\n",
    "        for subset in itertools.combinations(var, L):\n",
    "            if len(subset) >= 2:\n",
    "                power_set.append(list(subset))\n",
    "    return power_set"
   ]
  },
  {
   "cell_type": "code",
   "execution_count": 332,
   "id": "e01a495b-249d-4b64-a4de-9fdac7bb89b6",
   "metadata": {},
   "outputs": [],
   "source": [
    "def generate_xor(d=4, t=70, n=1000, noise=0.02):\n",
    "    d1_mat = []\n",
    "    d2_mat = []\n",
    "    d3_mat = []\n",
    "    d4_mat = []\n",
    "    for j in range(n):\n",
    "        zeta = np.array([np.random.uniform(0, 1, t), np.random.uniform(0, 1, t), np.random.uniform(0, 1, t), np.random.uniform(0, 1, t)])\n",
    "\n",
    "        mat = np.zeros((d, t))\n",
    "\n",
    "        mat[:,0] = np.random.uniform(0, 1, d)\n",
    "        # print(mat[:,0])\n",
    "        mat[:,0] = np.where(mat[:,0] > 0.5, True, False)\n",
    "        # print(mat[:,0])\n",
    "        for i in range(1, t):\n",
    "            mat[0,i] = mat[0,i-1]\n",
    "            mat[1,i] = mat[1,i-1]\n",
    "            mat[2,i] = mat[2,i-1]\n",
    "            \n",
    "            mat[0,i] = np.where(zeta[0,i] < 0.3, 1-mat[0,i], mat[0,i])\n",
    "            mat[1,i] = np.where(zeta[1,i] < 0.3, 1-mat[1,i], mat[1,i])\n",
    "            mat[2,i] = np.where(zeta[2,i] < 0.3, 1-mat[2,i], mat[2,i])\n",
    "            \n",
    "            mat[3,i] = np.logical_xor(mat[0,i-1], mat[1,i-1])\n",
    "            mat[3,i] = np.where(zeta[3,i] < 0.02, 1-mat[3,i], mat[3,i])\n",
    "\n",
    "        d1_mat.append(mat[0,:])\n",
    "        d2_mat.append(mat[1,:])\n",
    "        d3_mat.append(mat[2,:])\n",
    "        d4_mat.append(mat[3,:])\n",
    "    return np.array(d1_mat), np.array(d2_mat), np.array(d3_mat), np.array(d4_mat)"
   ]
  },
  {
   "cell_type": "code",
   "execution_count": 218,
   "id": "9f71aaee-22b1-4b0b-babc-30c9dab684fb",
   "metadata": {},
   "outputs": [],
   "source": [
    "power_set = find_comb([k1, k2, k3, k4])"
   ]
  },
  {
   "cell_type": "code",
   "execution_count": 219,
   "id": "ca0ef004-8083-401d-b3a9-3e79c1c1bf7e",
   "metadata": {
    "tags": []
   },
   "outputs": [],
   "source": [
    "power_set_name = find_comb(['d1', 'd2', 'd3', 'd4'])"
   ]
  },
  {
   "cell_type": "code",
   "execution_count": 220,
   "id": "b69f1093-df65-4682-b345-79863ba0e3f0",
   "metadata": {
    "tags": []
   },
   "outputs": [
    {
     "data": {
      "application/vnd.jupyter.widget-view+json": {
       "model_id": "25cd1c653fd7484aabaee1c7aeea8b19",
       "version_major": 2,
       "version_minor": 0
      },
      "text/plain": [
       "  0%|          | 0/11 [00:00<?, ?it/s]"
      ]
     },
     "metadata": {},
     "output_type": "display_data"
    },
    {
     "data": {
      "application/vnd.jupyter.widget-view+json": {
       "model_id": "a9edd745486048548a1df836709c4675",
       "version_major": 2,
       "version_minor": 0
      },
      "text/plain": [
       "  0%|          | 0/10 [00:00<?, ?it/s]"
      ]
     },
     "metadata": {},
     "output_type": "display_data"
    },
    {
     "name": "stdout",
     "output_type": "stream",
     "text": [
      "{\"['d1', 'd2']\": 0}\n"
     ]
    },
    {
     "data": {
      "application/vnd.jupyter.widget-view+json": {
       "model_id": "1cff9bf40f694e5d85d49b5c639022f7",
       "version_major": 2,
       "version_minor": 0
      },
      "text/plain": [
       "  0%|          | 0/10 [00:00<?, ?it/s]"
      ]
     },
     "metadata": {},
     "output_type": "display_data"
    },
    {
     "name": "stdout",
     "output_type": "stream",
     "text": [
      "{\"['d1', 'd2']\": 0, \"['d1', 'd3']\": 0}\n"
     ]
    },
    {
     "data": {
      "application/vnd.jupyter.widget-view+json": {
       "model_id": "5503a804f05a43c280547ae57c1461e3",
       "version_major": 2,
       "version_minor": 0
      },
      "text/plain": [
       "  0%|          | 0/10 [00:00<?, ?it/s]"
      ]
     },
     "metadata": {},
     "output_type": "display_data"
    },
    {
     "name": "stdout",
     "output_type": "stream",
     "text": [
      "{\"['d1', 'd2']\": 0, \"['d1', 'd3']\": 0, \"['d1', 'd4']\": 0}\n"
     ]
    },
    {
     "data": {
      "application/vnd.jupyter.widget-view+json": {
       "model_id": "c6a2fdb9e9b845b99fb41876c59d4974",
       "version_major": 2,
       "version_minor": 0
      },
      "text/plain": [
       "  0%|          | 0/10 [00:00<?, ?it/s]"
      ]
     },
     "metadata": {},
     "output_type": "display_data"
    },
    {
     "name": "stdout",
     "output_type": "stream",
     "text": [
      "{\"['d1', 'd2']\": 0, \"['d1', 'd3']\": 0, \"['d1', 'd4']\": 0, \"['d2', 'd3']\": 0}\n"
     ]
    },
    {
     "data": {
      "application/vnd.jupyter.widget-view+json": {
       "model_id": "f751ce451cff45deb27546a23b8ad33e",
       "version_major": 2,
       "version_minor": 0
      },
      "text/plain": [
       "  0%|          | 0/10 [00:00<?, ?it/s]"
      ]
     },
     "metadata": {},
     "output_type": "display_data"
    },
    {
     "name": "stdout",
     "output_type": "stream",
     "text": [
      "{\"['d1', 'd2']\": 0, \"['d1', 'd3']\": 0, \"['d1', 'd4']\": 0, \"['d2', 'd3']\": 0, \"['d2', 'd4']\": 0}\n"
     ]
    },
    {
     "data": {
      "application/vnd.jupyter.widget-view+json": {
       "model_id": "c7fda9b3d1ef4bd9946f906b7307c5e9",
       "version_major": 2,
       "version_minor": 0
      },
      "text/plain": [
       "  0%|          | 0/10 [00:00<?, ?it/s]"
      ]
     },
     "metadata": {},
     "output_type": "display_data"
    },
    {
     "name": "stdout",
     "output_type": "stream",
     "text": [
      "{\"['d1', 'd2']\": 0, \"['d1', 'd3']\": 0, \"['d1', 'd4']\": 0, \"['d2', 'd3']\": 0, \"['d2', 'd4']\": 0, \"['d3', 'd4']\": 2}\n"
     ]
    },
    {
     "data": {
      "application/vnd.jupyter.widget-view+json": {
       "model_id": "4c06f397772e4dd7ba276d0d32708cb9",
       "version_major": 2,
       "version_minor": 0
      },
      "text/plain": [
       "  0%|          | 0/10 [00:00<?, ?it/s]"
      ]
     },
     "metadata": {},
     "output_type": "display_data"
    },
    {
     "name": "stdout",
     "output_type": "stream",
     "text": [
      "{\"['d1', 'd2']\": 0, \"['d1', 'd3']\": 0, \"['d1', 'd4']\": 0, \"['d2', 'd3']\": 0, \"['d2', 'd4']\": 0, \"['d3', 'd4']\": 2, \"['d1', 'd2', 'd3']\": 0}\n"
     ]
    },
    {
     "data": {
      "application/vnd.jupyter.widget-view+json": {
       "model_id": "686da5bdc14f482db7902a58fd60e885",
       "version_major": 2,
       "version_minor": 0
      },
      "text/plain": [
       "  0%|          | 0/10 [00:00<?, ?it/s]"
      ]
     },
     "metadata": {},
     "output_type": "display_data"
    },
    {
     "name": "stdout",
     "output_type": "stream",
     "text": [
      "{\"['d1', 'd2']\": 0, \"['d1', 'd3']\": 0, \"['d1', 'd4']\": 0, \"['d2', 'd3']\": 0, \"['d2', 'd4']\": 0, \"['d3', 'd4']\": 2, \"['d1', 'd2', 'd3']\": 0, \"['d1', 'd2', 'd4']\": 0}\n"
     ]
    },
    {
     "data": {
      "application/vnd.jupyter.widget-view+json": {
       "model_id": "5aad45d0f6d547faa94882306da3ea5e",
       "version_major": 2,
       "version_minor": 0
      },
      "text/plain": [
       "  0%|          | 0/10 [00:00<?, ?it/s]"
      ]
     },
     "metadata": {},
     "output_type": "display_data"
    },
    {
     "name": "stdout",
     "output_type": "stream",
     "text": [
      "{\"['d1', 'd2']\": 0, \"['d1', 'd3']\": 0, \"['d1', 'd4']\": 0, \"['d2', 'd3']\": 0, \"['d2', 'd4']\": 0, \"['d3', 'd4']\": 2, \"['d1', 'd2', 'd3']\": 0, \"['d1', 'd2', 'd4']\": 0, \"['d1', 'd3', 'd4']\": 0}\n"
     ]
    },
    {
     "data": {
      "application/vnd.jupyter.widget-view+json": {
       "model_id": "6c6d12e7f0dd42f0925365dabbc627b7",
       "version_major": 2,
       "version_minor": 0
      },
      "text/plain": [
       "  0%|          | 0/10 [00:00<?, ?it/s]"
      ]
     },
     "metadata": {},
     "output_type": "display_data"
    },
    {
     "name": "stdout",
     "output_type": "stream",
     "text": [
      "{\"['d1', 'd2']\": 0, \"['d1', 'd3']\": 0, \"['d1', 'd4']\": 0, \"['d2', 'd3']\": 0, \"['d2', 'd4']\": 0, \"['d3', 'd4']\": 2, \"['d1', 'd2', 'd3']\": 0, \"['d1', 'd2', 'd4']\": 0, \"['d1', 'd3', 'd4']\": 0, \"['d2', 'd3', 'd4']\": 0}\n"
     ]
    },
    {
     "data": {
      "application/vnd.jupyter.widget-view+json": {
       "model_id": "a5ac6d20d30c4ffc951841bec511f40b",
       "version_major": 2,
       "version_minor": 0
      },
      "text/plain": [
       "  0%|          | 0/10 [00:00<?, ?it/s]"
      ]
     },
     "metadata": {},
     "output_type": "display_data"
    },
    {
     "name": "stdout",
     "output_type": "stream",
     "text": [
      "{\"['d1', 'd2']\": 0, \"['d1', 'd3']\": 0, \"['d1', 'd4']\": 0, \"['d2', 'd3']\": 0, \"['d2', 'd4']\": 0, \"['d3', 'd4']\": 2, \"['d1', 'd2', 'd3']\": 0, \"['d1', 'd2', 'd4']\": 0, \"['d1', 'd3', 'd4']\": 0, \"['d2', 'd3', 'd4']\": 0, \"['d1', 'd2', 'd3', 'd4']\": 10}\n"
     ]
    }
   ],
   "source": [
    "power = {}\n",
    "for (name, klist) in tqdm(zip(power_set_name, power_set), total=len(power_set)):\n",
    "    rejects = 0\n",
    "    for i in tqdm(range(10)):\n",
    "        _, _, _, reject = test_independence(klist, None, n_perms=1000, alpha=0.05, mode = 'permutation')\n",
    "        rejects = rejects + reject\n",
    "    power[str(name)] = rejects\n",
    "    print(power)"
   ]
  },
  {
   "cell_type": "code",
   "execution_count": null,
   "id": "46ab5f44-873d-43c9-af0f-39f0dc8a5a8a",
   "metadata": {},
   "outputs": [],
   "source": []
  }
 ],
 "metadata": {
  "kernelspec": {
   "display_name": "Python 3 (ipykernel)",
   "language": "python",
   "name": "python3"
  },
  "language_info": {
   "codemirror_mode": {
    "name": "ipython",
    "version": 3
   },
   "file_extension": ".py",
   "mimetype": "text/x-python",
   "name": "python",
   "nbconvert_exporter": "python",
   "pygments_lexer": "ipython3",
   "version": "3.10.4"
  }
 },
 "nbformat": 4,
 "nbformat_minor": 5
}

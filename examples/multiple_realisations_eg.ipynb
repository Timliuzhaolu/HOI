{
 "cells": [
  {
   "cell_type": "code",
   "execution_count": 1,
   "id": "001a66f7-f64b-479d-a98b-3eb8d3594957",
   "metadata": {},
   "outputs": [],
   "source": [
    "%load_ext autoreload\n",
    "%autoreload 2"
   ]
  },
  {
   "cell_type": "code",
   "execution_count": 2,
   "id": "e8de70d7-85cd-4319-aa59-4bf0d2ed7488",
   "metadata": {},
   "outputs": [],
   "source": [
    "import sys\n",
    "sys.path.append('/Users/Tim/PycharmProjects/HOI/')"
   ]
  },
  {
   "cell_type": "code",
   "execution_count": 3,
   "id": "e78112ca-57fb-4177-81c8-b9eebaf8ae0d",
   "metadata": {},
   "outputs": [],
   "source": [
    "import numba\n",
    "import pandas as pd\n",
    "import numpy as np\n",
    "from tqdm.notebook import tqdm\n",
    "from ipywidgets import IntProgress\n",
    "import itertools\n",
    "\n",
    "import matplotlib.pyplot as plt\n",
    "from numpy import sign, sin, cos, pi\n",
    "from numpy.random import normal, randn"
   ]
  },
  {
   "cell_type": "code",
   "execution_count": 4,
   "id": "3b56efd5-d142-46cf-adb1-9dbea81c97f8",
   "metadata": {},
   "outputs": [],
   "source": [
    "from synthetic_data import stationary_pb_ts, nonstationary_ts_n, nonstat_egs\n",
    "from HOI.preprocessings import compute_kernel, compute_kernel_n\n",
    "from HOI.tests import test_independence\n",
    "from HOI.statistics import compute_dHSIC_statistics"
   ]
  },
  {
   "cell_type": "markdown",
   "id": "3b211d3e-1574-480b-809c-86f4abb0dccd",
   "metadata": {},
   "source": [
    "# Multiple realisations"
   ]
  },
  {
   "cell_type": "code",
   "execution_count": 65,
   "id": "3abdd0c4-53ca-4f74-854d-3707488baeed",
   "metadata": {},
   "outputs": [
    {
     "data": {
      "application/vnd.jupyter.widget-view+json": {
       "model_id": "f236bddcd8ec4861b9da363fee3a5bdb",
       "version_major": 2,
       "version_minor": 0
      },
      "text/plain": [
       "  0%|          | 0/20 [00:00<?, ?it/s]"
      ]
     },
     "metadata": {},
     "output_type": "display_data"
    },
    {
     "name": "stdout",
     "output_type": "stream",
     "text": [
      "{'0.010': 0.04, '0.025': 0.03, '0.040': 0.08, '0.055': 0.05, '0.070': 0.13, '0.085': 0.12, '0.100': 0.2, '0.115': 0.3, '0.130': 0.35, '0.145': 0.49, '0.160': 0.53, '0.175': 0.7, '0.190': 0.78, '0.205': 0.9, '0.220': 0.94, '0.235': 0.92, '0.250': 0.97, '0.265': 0.99, '0.280': 1.0, '0.295': 0.98}\n"
     ]
    }
   ],
   "source": [
    "power ={}\n",
    "for d in tqdm(np.arange(0.01, 0.3, 0.015)):\n",
    "    rejects = 0\n",
    "    for i in np.arange(100):\n",
    "        d1, d2, d3 = nonstat_egs(n_sample=100, t_time=3, d=d, mode='case2', a=1)\n",
    "        kd1 = compute_kernel_n(d1)\n",
    "        kd2 = compute_kernel_n(d2)\n",
    "        kd3 = compute_kernel_n(d3)\n",
    "        _, _, _, reject = test_independence([kd1, kd2, kd3],None, mode = 'permutation', n_perms=1000, alpha=0.05)\n",
    "        rejects = rejects + reject\n",
    "    power[f'{d:.3f}'] = rejects/100\n",
    "print(power)"
   ]
  }
 ],
 "metadata": {
  "kernelspec": {
   "display_name": "Python 3 (ipykernel)",
   "language": "python",
   "name": "python3"
  },
  "language_info": {
   "codemirror_mode": {
    "name": "ipython",
    "version": 3
   },
   "file_extension": ".py",
   "mimetype": "text/x-python",
   "name": "python",
   "nbconvert_exporter": "python",
   "pygments_lexer": "ipython3",
   "version": "3.10.4"
  }
 },
 "nbformat": 4,
 "nbformat_minor": 5
}

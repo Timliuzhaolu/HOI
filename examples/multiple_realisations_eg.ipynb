{
 "cells": [
  {
   "cell_type": "code",
   "execution_count": 1,
   "id": "001a66f7-f64b-479d-a98b-3eb8d3594957",
   "metadata": {},
   "outputs": [],
   "source": [
    "%load_ext autoreload\n",
    "%autoreload 2"
   ]
  },
  {
   "cell_type": "code",
   "execution_count": 2,
   "id": "e8de70d7-85cd-4319-aa59-4bf0d2ed7488",
   "metadata": {},
   "outputs": [],
   "source": [
    "import sys\n",
    "sys.path.append('/Users/Tim/PycharmProjects/HOI/')"
   ]
  },
  {
   "cell_type": "code",
   "execution_count": 3,
   "id": "e78112ca-57fb-4177-81c8-b9eebaf8ae0d",
   "metadata": {},
   "outputs": [],
   "source": [
    "import numba\n",
    "import pandas as pd\n",
    "import numpy as np\n",
    "from tqdm.notebook import tqdm\n",
    "from ipywidgets import IntProgress\n",
    "import itertools\n",
    "\n",
    "import matplotlib.pyplot as plt\n",
    "from numpy import sign, sin, cos, pi\n",
    "from numpy.random import normal, randn"
   ]
  },
  {
   "cell_type": "code",
   "execution_count": 4,
   "id": "3b56efd5-d142-46cf-adb1-9dbea81c97f8",
   "metadata": {},
   "outputs": [],
   "source": [
    "from synthetic_data import stationary_pb_ts, nonstationary_ts_n, nonstat_egs\n",
    "from HOI.preprocessings import compute_kernel, compute_kernel_n\n",
    "from HOI.tests import test_independence\n",
    "from HOI.statistics import compute_dHSIC_statistics"
   ]
  },
  {
   "cell_type": "markdown",
   "id": "3b211d3e-1574-480b-809c-86f4abb0dccd",
   "metadata": {},
   "source": [
    "# Multiple realisations"
   ]
  },
  {
   "cell_type": "code",
   "execution_count": 123,
   "id": "eca2ddff-8678-480b-89b6-6d0ee21ab454",
   "metadata": {},
   "outputs": [],
   "source": [
    "np.random.seed(10)"
   ]
  },
  {
   "cell_type": "code",
   "execution_count": 124,
   "id": "ac7549da-dc08-40cb-a973-9d869cdd9f84",
   "metadata": {},
   "outputs": [],
   "source": [
    "d1, d2, d3 = nonstat_egs(n_sample=40, t_time=20, d=0.5, mode='case1.1', a=0.8)\n",
    "kd1 = compute_kernel_n(d1)\n",
    "kd2 = compute_kernel_n(d2)\n",
    "kd3 = compute_kernel_n(d3)"
   ]
  },
  {
   "cell_type": "code",
   "execution_count": 125,
   "id": "cd9e191d-b1cc-46b0-99e6-593ddeb6b3fa",
   "metadata": {},
   "outputs": [
    {
     "name": "stdout",
     "output_type": "stream",
     "text": [
      "0.217236738853134 0.1992052341344591 0.40164465819527817\n"
     ]
    }
   ],
   "source": [
    "dhsic = compute_dHSIC_statistics([kd1, kd2, kd3])"
   ]
  },
  {
   "cell_type": "code",
   "execution_count": 126,
   "id": "f2e43905-adc8-4273-8039-36f131e3024f",
   "metadata": {},
   "outputs": [
    {
     "name": "stdout",
     "output_type": "stream",
     "text": [
      "0.014797314792314942\n"
     ]
    }
   ],
   "source": [
    "print(dhsic)"
   ]
  },
  {
   "cell_type": "code",
   "execution_count": null,
   "id": "c715fc6a-578f-4b25-9ac9-a2dd60096bce",
   "metadata": {},
   "outputs": [],
   "source": []
  },
  {
   "cell_type": "code",
   "execution_count": null,
   "id": "c201ce37-3fd9-43d8-a893-fd99bd6b82f9",
   "metadata": {},
   "outputs": [],
   "source": []
  },
  {
   "cell_type": "code",
   "execution_count": null,
   "id": "24137c20-f530-46e1-97a1-8806e281e0d0",
   "metadata": {},
   "outputs": [],
   "source": []
  },
  {
   "cell_type": "code",
   "execution_count": 65,
   "id": "3abdd0c4-53ca-4f74-854d-3707488baeed",
   "metadata": {},
   "outputs": [
    {
     "data": {
      "application/vnd.jupyter.widget-view+json": {
       "model_id": "f236bddcd8ec4861b9da363fee3a5bdb",
       "version_major": 2,
       "version_minor": 0
      },
      "text/plain": [
       "  0%|          | 0/20 [00:00<?, ?it/s]"
      ]
     },
     "metadata": {},
     "output_type": "display_data"
    },
    {
     "name": "stdout",
     "output_type": "stream",
     "text": [
      "{'0.010': 0.04, '0.025': 0.03, '0.040': 0.08, '0.055': 0.05, '0.070': 0.13, '0.085': 0.12, '0.100': 0.2, '0.115': 0.3, '0.130': 0.35, '0.145': 0.49, '0.160': 0.53, '0.175': 0.7, '0.190': 0.78, '0.205': 0.9, '0.220': 0.94, '0.235': 0.92, '0.250': 0.97, '0.265': 0.99, '0.280': 1.0, '0.295': 0.98}\n"
     ]
    }
   ],
   "source": [
    "power ={}\n",
    "for d in tqdm(np.arange(0.01, 0.3, 0.015)):\n",
    "    rejects = 0\n",
    "    for i in np.arange(100):\n",
    "        d1, d2, d3 = nonstat_egs(n_sample=100, t_time=3, d=d, mode='case2', a=1)\n",
    "        kd1 = compute_kernel_n(d1)\n",
    "        kd2 = compute_kernel_n(d2)\n",
    "        kd3 = compute_kernel_n(d3)\n",
    "        _, _, _, reject = test_independence([kd1, kd2, kd3],None, mode = 'permutation', n_perms=1000, alpha=0.05)\n",
    "        rejects = rejects + reject\n",
    "    power[f'{d:.3f}'] = rejects/100\n",
    "print(power)"
   ]
  },
  {
   "cell_type": "code",
   "execution_count": 18,
   "id": "2c8c687b-600e-40c3-9df3-74b50089a8c6",
   "metadata": {
    "collapsed": true,
    "jupyter": {
     "outputs_hidden": true
    },
    "tags": []
   },
   "outputs": [
    {
     "data": {
      "application/vnd.jupyter.widget-view+json": {
       "model_id": "40b33f53a8e747eda219d389baafa973",
       "version_major": 2,
       "version_minor": 0
      },
      "text/plain": [
       "  0%|          | 0/9 [00:00<?, ?it/s]"
      ]
     },
     "metadata": {},
     "output_type": "display_data"
    },
    {
     "data": {
      "application/vnd.jupyter.widget-view+json": {
       "model_id": "bbed2f6cf8f04865a5633dd9c95bd80f",
       "version_major": 2,
       "version_minor": 0
      },
      "text/plain": [
       "  0%|          | 0/100 [00:00<?, ?it/s]"
      ]
     },
     "metadata": {},
     "output_type": "display_data"
    },
    {
     "name": "stdout",
     "output_type": "stream",
     "text": [
      "{'0.01': 0.08}\n"
     ]
    },
    {
     "data": {
      "application/vnd.jupyter.widget-view+json": {
       "model_id": "925852798516453bb1d85ba48560bce8",
       "version_major": 2,
       "version_minor": 0
      },
      "text/plain": [
       "  0%|          | 0/100 [00:00<?, ?it/s]"
      ]
     },
     "metadata": {},
     "output_type": "display_data"
    },
    {
     "name": "stdout",
     "output_type": "stream",
     "text": [
      "{'0.01': 0.08, '0.02': 0.19}\n"
     ]
    },
    {
     "data": {
      "application/vnd.jupyter.widget-view+json": {
       "model_id": "f4c2fd4f69e44bf3b1eeec773ffe33a7",
       "version_major": 2,
       "version_minor": 0
      },
      "text/plain": [
       "  0%|          | 0/100 [00:00<?, ?it/s]"
      ]
     },
     "metadata": {},
     "output_type": "display_data"
    },
    {
     "name": "stdout",
     "output_type": "stream",
     "text": [
      "{'0.01': 0.08, '0.02': 0.19, '0.03': 0.72}\n"
     ]
    },
    {
     "data": {
      "application/vnd.jupyter.widget-view+json": {
       "model_id": "26785a793d0d4510b8b04cf778010e23",
       "version_major": 2,
       "version_minor": 0
      },
      "text/plain": [
       "  0%|          | 0/100 [00:00<?, ?it/s]"
      ]
     },
     "metadata": {},
     "output_type": "display_data"
    },
    {
     "name": "stdout",
     "output_type": "stream",
     "text": [
      "{'0.01': 0.08, '0.02': 0.19, '0.03': 0.72, '0.04': 0.98}\n"
     ]
    },
    {
     "data": {
      "application/vnd.jupyter.widget-view+json": {
       "model_id": "77014b3ade604663a037b59e2d4d3031",
       "version_major": 2,
       "version_minor": 0
      },
      "text/plain": [
       "  0%|          | 0/100 [00:00<?, ?it/s]"
      ]
     },
     "metadata": {},
     "output_type": "display_data"
    },
    {
     "name": "stdout",
     "output_type": "stream",
     "text": [
      "{'0.01': 0.08, '0.02': 0.19, '0.03': 0.72, '0.04': 0.98, '0.05': 1.0}\n"
     ]
    },
    {
     "data": {
      "application/vnd.jupyter.widget-view+json": {
       "model_id": "394e783b2da74207add14899facf24f4",
       "version_major": 2,
       "version_minor": 0
      },
      "text/plain": [
       "  0%|          | 0/100 [00:00<?, ?it/s]"
      ]
     },
     "metadata": {},
     "output_type": "display_data"
    },
    {
     "name": "stdout",
     "output_type": "stream",
     "text": [
      "{'0.01': 0.08, '0.02': 0.19, '0.03': 0.72, '0.04': 0.98, '0.05': 1.0, '0.060000000000000005': 1.0}\n"
     ]
    },
    {
     "data": {
      "application/vnd.jupyter.widget-view+json": {
       "model_id": "7fa7f352221f4cacbb5339e334c1960d",
       "version_major": 2,
       "version_minor": 0
      },
      "text/plain": [
       "  0%|          | 0/100 [00:00<?, ?it/s]"
      ]
     },
     "metadata": {},
     "output_type": "display_data"
    },
    {
     "name": "stdout",
     "output_type": "stream",
     "text": [
      "{'0.01': 0.08, '0.02': 0.19, '0.03': 0.72, '0.04': 0.98, '0.05': 1.0, '0.060000000000000005': 1.0, '0.06999999999999999': 1.0}\n"
     ]
    },
    {
     "data": {
      "application/vnd.jupyter.widget-view+json": {
       "model_id": "634a1a710c9548459a8f289987a47822",
       "version_major": 2,
       "version_minor": 0
      },
      "text/plain": [
       "  0%|          | 0/100 [00:00<?, ?it/s]"
      ]
     },
     "metadata": {},
     "output_type": "display_data"
    },
    {
     "name": "stdout",
     "output_type": "stream",
     "text": [
      "{'0.01': 0.08, '0.02': 0.19, '0.03': 0.72, '0.04': 0.98, '0.05': 1.0, '0.060000000000000005': 1.0, '0.06999999999999999': 1.0, '0.08': 1.0}\n"
     ]
    },
    {
     "data": {
      "application/vnd.jupyter.widget-view+json": {
       "model_id": "6451a12048684b16bb76df520d23a894",
       "version_major": 2,
       "version_minor": 0
      },
      "text/plain": [
       "  0%|          | 0/100 [00:00<?, ?it/s]"
      ]
     },
     "metadata": {},
     "output_type": "display_data"
    },
    {
     "name": "stdout",
     "output_type": "stream",
     "text": [
      "{'0.01': 0.08, '0.02': 0.19, '0.03': 0.72, '0.04': 0.98, '0.05': 1.0, '0.060000000000000005': 1.0, '0.06999999999999999': 1.0, '0.08': 1.0, '0.09': 1.0}\n"
     ]
    }
   ],
   "source": [
    "power ={}\n",
    "for d in tqdm(np.arange(0.01, 0.1, 0.01)):\n",
    "    rejects = 0\n",
    "    for i in tqdm(np.arange(100)):\n",
    "        d1, d2, _, d3 = nonstationary_ts_n(n_sample=500, t_time=10, d=d, mode='case1', a=0.5, order=3)\n",
    "        kd1 = compute_kernel_n(d1)\n",
    "        kd2 = compute_kernel_n(d2)\n",
    "        kd3 = compute_kernel_n(d3)\n",
    "        _, _, _, reject = test_independence([kd1, kd2, kd3],None, mode = 'permutation', n_perms=1000, alpha=0.05)\n",
    "        rejects = rejects + reject\n",
    "    power[str(d)] = rejects/100\n",
    "    print(power)"
   ]
  },
  {
   "cell_type": "markdown",
   "id": "48dd638c-20f0-4c0a-a677-2ac28686ed26",
   "metadata": {},
   "source": [
    "## case1.1"
   ]
  },
  {
   "cell_type": "code",
   "execution_count": 13,
   "id": "c5d0c98e-9a60-4029-b9ef-b2f637a219d6",
   "metadata": {
    "tags": []
   },
   "outputs": [
    {
     "data": {
      "application/vnd.jupyter.widget-view+json": {
       "model_id": "55618761088a41e1928adb548c8aab9a",
       "version_major": 2,
       "version_minor": 0
      },
      "text/plain": [
       "  0%|          | 0/1 [00:00<?, ?it/s]"
      ]
     },
     "metadata": {},
     "output_type": "display_data"
    },
    {
     "data": {
      "application/vnd.jupyter.widget-view+json": {
       "model_id": "4638717c3dbc4105ab1d79c317e48595",
       "version_major": 2,
       "version_minor": 0
      },
      "text/plain": [
       "  0%|          | 0/100 [00:00<?, ?it/s]"
      ]
     },
     "metadata": {},
     "output_type": "display_data"
    },
    {
     "name": "stdout",
     "output_type": "stream",
     "text": [
      "{'0.91': 0.05}\n"
     ]
    }
   ],
   "source": [
    "power ={}\n",
    "for d in tqdm(np.arange(0.91, 1, 0.1)):\n",
    "    rejects = 0\n",
    "    for i in tqdm(range(100)):\n",
    "        d1, d2, d3 = nonstat_egs(n_sample=100, t_time=80, d=d, mode='case3', a=d)\n",
    "        kd1 = compute_kernel_n(d1)\n",
    "        kd2 = compute_kernel_n(d2)\n",
    "        kd3 = compute_kernel_n(d3)\n",
    "        _, _, _, reject = test_independence([kd1, kd2, kd3], None, n_perms = 1000, alpha=0.05, mode = 'permutation')\n",
    "        rejects = rejects + reject\n",
    "    power[str(d)] = rejects/100\n",
    "    print(power)"
   ]
  },
  {
   "cell_type": "code",
   "execution_count": 15,
   "id": "3cf7e4da-6afb-4c7e-98d7-1ff931347c41",
   "metadata": {},
   "outputs": [],
   "source": [
    "d1, d2, d3 = nonstat_egs(n_sample=100, t_time=50, d=0, mode='case3', a=0.91)"
   ]
  },
  {
   "cell_type": "code",
   "execution_count": 17,
   "id": "c5d5b527-6d9a-4998-92b6-b8d2ee3401a9",
   "metadata": {},
   "outputs": [
    {
     "data": {
      "image/png": "[encoded data removed]",
      "text/plain": [
       "<Figure size 1800x432 with 3 Axes>"
      ]
     },
     "metadata": {
      "needs_background": "light"
     },
     "output_type": "display_data"
    }
   ],
   "source": [
    "plt.figure(figsize=(25, 6))\n",
    "\n",
    "plt.subplot(1, 3, 1)\n",
    "plt.plot(d1[55])\n",
    "plt.title('d1')\n",
    "plt.ylabel('time')\n",
    "\n",
    "plt.subplot(1, 3, 2)\n",
    "plt.plot(d2[55])\n",
    "plt.title('d2')\n",
    "plt.ylabel('time')\n",
    "\n",
    "plt.subplot(1, 3, 3)\n",
    "plt.plot(d3[55])\n",
    "plt.title('d3')\n",
    "plt.ylabel('time')\n",
    "\n",
    "plt.savefig('svg/nonstat_case3.svg', format='svg', dpi=300)\n",
    "plt.show()"
   ]
  },
  {
   "cell_type": "code",
   "execution_count": 1154,
   "id": "b5640be1-27d3-4b9c-8686-c8c147268125",
   "metadata": {
    "tags": []
   },
   "outputs": [
    {
     "name": "stdout",
     "output_type": "stream",
     "text": [
      "Augmneted Dickey_fuller Statistic: -1.379063\n",
      "p-value: 0.592272\n"
     ]
    }
   ],
   "source": [
    "from statsmodels.tsa.stattools import adfuller\n",
    " \n",
    "# extracting only the passengers count using values function\n",
    "values = d3[45,:]\n",
    " \n",
    "# passing the extracted passengers count to adfuller function.\n",
    "# result of adfuller function is stored in a res variable\n",
    "res = adfuller(values)\n",
    " \n",
    "# Printing the statistical result of the adfuller test\n",
    "print('Augmneted Dickey_fuller Statistic: %f' % res[0])\n",
    "print('p-value: %f' % res[1])"
   ]
  },
  {
   "cell_type": "code",
   "execution_count": 896,
   "id": "9e279880-2c33-41d4-8323-99ec1128eaa7",
   "metadata": {},
   "outputs": [
    {
     "name": "stdout",
     "output_type": "stream",
     "text": [
      "Even Elements count : \n",
      "52\n",
      "Odd Elements count : \n",
      "48\n"
     ]
    }
   ],
   "source": [
    "arr = np.round(d2[8,:])+np.round(d1[8,:])\n",
    "n = len(arr)\n",
    "countEven = 0\n",
    "countodd = 0\n",
    "for i in range(0, n):\n",
    "    if arr[i]%2==0 :\n",
    "        countEven += 1\n",
    "    else:\n",
    "        countodd += 1\n",
    "\n",
    "print(\"Even Elements count : \" )\n",
    "print(countEven)\n",
    "\n",
    "print(\"Odd Elements count : \")\n",
    "print(countodd)"
   ]
  },
  {
   "cell_type": "code",
   "execution_count": 1157,
   "id": "fe34dad5-3588-47f9-9b2b-ddfe0fbd62de",
   "metadata": {
    "tags": []
   },
   "outputs": [
    {
     "data": {
      "application/vnd.jupyter.widget-view+json": {
       "model_id": "1fc792a0171a4f6c83864587b6f857bb",
       "version_major": 2,
       "version_minor": 0
      },
      "text/plain": [
       "  0%|          | 0/5 [00:00<?, ?it/s]"
      ]
     },
     "metadata": {},
     "output_type": "display_data"
    },
    {
     "data": {
      "application/vnd.jupyter.widget-view+json": {
       "model_id": "dcff9375b0a343ec83220959fde30220",
       "version_major": 2,
       "version_minor": 0
      },
      "text/plain": [
       "  0%|          | 0/20 [00:00<?, ?it/s]"
      ]
     },
     "metadata": {},
     "output_type": "display_data"
    },
    {
     "name": "stdout",
     "output_type": "stream",
     "text": [
      "{'0.9': 20}\n"
     ]
    },
    {
     "data": {
      "application/vnd.jupyter.widget-view+json": {
       "model_id": "4f19b13e55e64c39bff56a328d62cd7d",
       "version_major": 2,
       "version_minor": 0
      },
      "text/plain": [
       "  0%|          | 0/20 [00:00<?, ?it/s]"
      ]
     },
     "metadata": {},
     "output_type": "display_data"
    },
    {
     "ename": "KeyboardInterrupt",
     "evalue": "",
     "output_type": "error",
     "traceback": [
      "\u001b[0;31m---------------------------------------------------------------------------\u001b[0m",
      "\u001b[0;31mKeyboardInterrupt\u001b[0m                         Traceback (most recent call last)",
      "Input \u001b[0;32mIn [1157]\u001b[0m, in \u001b[0;36m<cell line: 2>\u001b[0;34m()\u001b[0m\n\u001b[1;32m      7\u001b[0m     kd2 \u001b[38;5;241m=\u001b[39m compute_kernel_n(d2)\n\u001b[1;32m      8\u001b[0m     kd3 \u001b[38;5;241m=\u001b[39m compute_kernel_n(d3)\n\u001b[0;32m----> 9\u001b[0m     _, _, _, reject \u001b[38;5;241m=\u001b[39m \u001b[43mtest_independence\u001b[49m\u001b[43m(\u001b[49m\u001b[43m[\u001b[49m\u001b[43mkd1\u001b[49m\u001b[43m,\u001b[49m\u001b[43m \u001b[49m\u001b[43mkd2\u001b[49m\u001b[43m,\u001b[49m\u001b[43m \u001b[49m\u001b[43mkd3\u001b[49m\u001b[43m]\u001b[49m\u001b[43m,\u001b[49m\u001b[43m \u001b[49m\u001b[38;5;28;43;01mNone\u001b[39;49;00m\u001b[43m,\u001b[49m\u001b[43m \u001b[49m\u001b[43mn_perms\u001b[49m\u001b[43m \u001b[49m\u001b[38;5;241;43m=\u001b[39;49m\u001b[43m \u001b[49m\u001b[38;5;241;43m1000\u001b[39;49m\u001b[43m,\u001b[49m\u001b[43m \u001b[49m\u001b[43malpha\u001b[49m\u001b[38;5;241;43m=\u001b[39;49m\u001b[38;5;241;43m0.05\u001b[39;49m\u001b[43m,\u001b[49m\u001b[43m \u001b[49m\u001b[43mmode\u001b[49m\u001b[43m \u001b[49m\u001b[38;5;241;43m=\u001b[39;49m\u001b[43m \u001b[49m\u001b[38;5;124;43m'\u001b[39;49m\u001b[38;5;124;43mpermutation\u001b[39;49m\u001b[38;5;124;43m'\u001b[39;49m\u001b[43m)\u001b[49m\n\u001b[1;32m     10\u001b[0m     rejects \u001b[38;5;241m=\u001b[39m rejects \u001b[38;5;241m+\u001b[39m reject\n\u001b[1;32m     11\u001b[0m power[\u001b[38;5;28mstr\u001b[39m(d)] \u001b[38;5;241m=\u001b[39m rejects\n",
      "File \u001b[0;32m/Users/Tim/PycharmProjects/HOI/HOI/tests.py:237\u001b[0m, in \u001b[0;36mtest_independence\u001b[0;34m(k_list, data_list, n_perms, alpha, mode)\u001b[0m\n\u001b[1;32m    235\u001b[0m \u001b[38;5;28;01mif\u001b[39;00m mode \u001b[38;5;241m==\u001b[39m \u001b[38;5;124m'\u001b[39m\u001b[38;5;124mpermutation\u001b[39m\u001b[38;5;124m'\u001b[39m:\n\u001b[1;32m    236\u001b[0m     statistic \u001b[38;5;241m=\u001b[39m compute_dHSIC_statistics(k_list)\n\u001b[0;32m--> 237\u001b[0m     critical_value, pval \u001b[38;5;241m=\u001b[39m \u001b[43mdhsic_permutation\u001b[49m\u001b[43m(\u001b[49m\u001b[43mk_list\u001b[49m\u001b[43m,\u001b[49m\u001b[43m \u001b[49m\u001b[43mn_samples\u001b[49m\u001b[43m,\u001b[49m\u001b[43m \u001b[49m\u001b[43mn_variables\u001b[49m\u001b[43m,\u001b[49m\u001b[43m \u001b[49m\u001b[43mstatistic\u001b[49m\u001b[43m,\u001b[49m\u001b[43m \u001b[49m\u001b[43mn_perms\u001b[49m\u001b[43m,\u001b[49m\u001b[43m \u001b[49m\u001b[43malpha\u001b[49m\u001b[43m)\u001b[49m\n\u001b[1;32m    238\u001b[0m     reject \u001b[38;5;241m=\u001b[39m \u001b[38;5;28mint\u001b[39m(statistic \u001b[38;5;241m>\u001b[39m critical_value)\n\u001b[1;32m    239\u001b[0m     \u001b[38;5;28;01mreturn\u001b[39;00m statistic, critical_value, pval, reject\n",
      "File \u001b[0;32m/Users/Tim/PycharmProjects/HOI/HOI/tests.py:31\u001b[0m, in \u001b[0;36mdhsic_permutation\u001b[0;34m(k_list, n_samples, n_variables, stat_found, n_perms, alpha)\u001b[0m\n\u001b[1;32m     29\u001b[0m \u001b[38;5;28;01mfor\u001b[39;00m j \u001b[38;5;129;01min\u001b[39;00m \u001b[38;5;28mrange\u001b[39m(\u001b[38;5;241m1\u001b[39m, n_variables):\n\u001b[1;32m     30\u001b[0m     index_perm \u001b[38;5;241m=\u001b[39m np\u001b[38;5;241m.\u001b[39mrandom\u001b[38;5;241m.\u001b[39mpermutation(k_list[j]\u001b[38;5;241m.\u001b[39mshape[\u001b[38;5;241m0\u001b[39m])\n\u001b[0;32m---> 31\u001b[0m     k_perm \u001b[38;5;241m=\u001b[39m \u001b[43mk_list\u001b[49m\u001b[43m[\u001b[49m\u001b[43mj\u001b[49m\u001b[43m]\u001b[49m\u001b[43m[\u001b[49m\u001b[43mindex_perm\u001b[49m\u001b[43m,\u001b[49m\u001b[43m \u001b[49m\u001b[43mindex_perm\u001b[49m\u001b[43m[\u001b[49m\u001b[43m:\u001b[49m\u001b[43m,\u001b[49m\u001b[43m \u001b[49m\u001b[38;5;28;43;01mNone\u001b[39;49;00m\u001b[43m]\u001b[49m\u001b[43m]\u001b[49m\n\u001b[1;32m     33\u001b[0m     term1 \u001b[38;5;241m=\u001b[39m term1 \u001b[38;5;241m*\u001b[39m k_perm\n\u001b[1;32m     34\u001b[0m     term2 \u001b[38;5;241m=\u001b[39m term2 \u001b[38;5;241m*\u001b[39m np\u001b[38;5;241m.\u001b[39msum(k_perm) \u001b[38;5;241m/\u001b[39m (n_samples \u001b[38;5;241m*\u001b[39m\u001b[38;5;241m*\u001b[39m \u001b[38;5;241m2\u001b[39m)\n",
      "\u001b[0;31mKeyboardInterrupt\u001b[0m: "
     ]
    }
   ],
   "source": [
    "power ={}\n",
    "for d in tqdm(np.arange(0.9, 0, -0.2)):\n",
    "    rejects = 0\n",
    "    for i in tqdm(range(20)):\n",
    "        d1, d2, d3 = nonstat_egs(n_sample=300, t_time=50, d=d, mode='nonstat', a=0.8)\n",
    "        kd1 = compute_kernel_n(d1)\n",
    "        kd2 = compute_kernel_n(d2)\n",
    "        kd3 = compute_kernel_n(d3)\n",
    "        _, _, _, reject = test_independence([kd1, kd2, kd3], None, n_perms = 1000, alpha=0.05, mode = 'permutation')\n",
    "        rejects = rejects + reject\n",
    "    power[str(d)] = rejects\n",
    "    print(power)"
   ]
  },
  {
   "cell_type": "code",
   "execution_count": null,
   "id": "fee733db-2155-4e86-9956-23c146340e76",
   "metadata": {},
   "outputs": [],
   "source": []
  },
  {
   "cell_type": "code",
   "execution_count": null,
   "id": "e79add17-40eb-40c8-8b62-08f099986203",
   "metadata": {},
   "outputs": [],
   "source": []
  },
  {
   "cell_type": "code",
   "execution_count": 770,
   "id": "a31f9989-b643-40c8-b9c1-277b13eed81d",
   "metadata": {},
   "outputs": [
    {
     "data": {
      "text/plain": [
       "0.0"
      ]
     },
     "execution_count": 772,
     "metadata": {},
     "output_type": "execute_result"
    }
   ],
   "source": []
  },
  {
   "cell_type": "markdown",
   "id": "f4169f17-06d9-420d-a9b5-21902ff68185",
   "metadata": {
    "tags": []
   },
   "source": [
    "## multiple realisation frequency mixing"
   ]
  },
  {
   "cell_type": "code",
   "execution_count": 214,
   "id": "abaf8ea9-4658-4bcb-8800-54f1e8eda4a9",
   "metadata": {},
   "outputs": [],
   "source": [
    "import scipy.io\n",
    "mat = scipy.io.loadmat('dependence_phases_equal_heteroskedascity_trend.mat')"
   ]
  },
  {
   "cell_type": "code",
   "execution_count": 215,
   "id": "7015f306-13c7-439c-9b8f-ea91acaa3d56",
   "metadata": {},
   "outputs": [
    {
     "data": {
      "text/plain": [
       "(100, 4, 3000)"
      ]
     },
     "execution_count": 215,
     "metadata": {},
     "output_type": "execute_result"
    }
   ],
   "source": [
    "mat['all_samples'].shape"
   ]
  },
  {
   "cell_type": "code",
   "execution_count": 228,
   "id": "bc57784c-9ce0-446f-a5f3-e60f7ecf5674",
   "metadata": {},
   "outputs": [],
   "source": [
    "md1 = mat['all_samples'][0:100,0,600:720]\n",
    "md2 = mat['all_samples'][0:100,1,600:720]\n",
    "md3 = mat['all_samples'][0:100,2,600:720]\n",
    "md4 = mat['all_samples'][0:100,3,600:720]\n",
    "\n",
    "kmd1 = compute_kernel_n(md1)\n",
    "kmd2 = compute_kernel_n(md2)\n",
    "kmd3 = compute_kernel_n(md3)\n",
    "kmd4 = compute_kernel_n(md4)"
   ]
  },
  {
   "cell_type": "code",
   "execution_count": 229,
   "id": "e0c138bd-c368-41e1-8538-b57518d67f61",
   "metadata": {},
   "outputs": [],
   "source": [
    "power_set = find_comb([kmd1, kmd2, kmd3, kmd4])"
   ]
  },
  {
   "cell_type": "code",
   "execution_count": 230,
   "id": "67e6f93c-a8d6-47dd-ae7c-d84586606a14",
   "metadata": {
    "tags": []
   },
   "outputs": [],
   "source": [
    "power_set_name = find_comb(['d1', 'd2', 'd3', 'd4'])"
   ]
  },
  {
   "cell_type": "code",
   "execution_count": 231,
   "id": "f8441bff-a892-454d-bde1-8efa534977b2",
   "metadata": {
    "tags": []
   },
   "outputs": [
    {
     "data": {
      "application/vnd.jupyter.widget-view+json": {
       "model_id": "d4f60dc032694ddf8b2c2d09b79764df",
       "version_major": 2,
       "version_minor": 0
      },
      "text/plain": [
       "  0%|          | 0/11 [00:00<?, ?it/s]"
      ]
     },
     "metadata": {},
     "output_type": "display_data"
    },
    {
     "data": {
      "application/vnd.jupyter.widget-view+json": {
       "model_id": "aa0c4b44d24a40389aaca8d01ab8dc3e",
       "version_major": 2,
       "version_minor": 0
      },
      "text/plain": [
       "  0%|          | 0/10 [00:00<?, ?it/s]"
      ]
     },
     "metadata": {},
     "output_type": "display_data"
    },
    {
     "name": "stdout",
     "output_type": "stream",
     "text": [
      "{\"['d1', 'd2']\": 10}\n"
     ]
    },
    {
     "data": {
      "application/vnd.jupyter.widget-view+json": {
       "model_id": "c982e074459544c68ba7749a8bff7707",
       "version_major": 2,
       "version_minor": 0
      },
      "text/plain": [
       "  0%|          | 0/10 [00:00<?, ?it/s]"
      ]
     },
     "metadata": {},
     "output_type": "display_data"
    },
    {
     "name": "stdout",
     "output_type": "stream",
     "text": [
      "{\"['d1', 'd2']\": 10, \"['d1', 'd3']\": 10}\n"
     ]
    },
    {
     "data": {
      "application/vnd.jupyter.widget-view+json": {
       "model_id": "20da3b855f064eebb2837f38e4a963a6",
       "version_major": 2,
       "version_minor": 0
      },
      "text/plain": [
       "  0%|          | 0/10 [00:00<?, ?it/s]"
      ]
     },
     "metadata": {},
     "output_type": "display_data"
    },
    {
     "name": "stdout",
     "output_type": "stream",
     "text": [
      "{\"['d1', 'd2']\": 10, \"['d1', 'd3']\": 10, \"['d1', 'd4']\": 10}\n"
     ]
    },
    {
     "data": {
      "application/vnd.jupyter.widget-view+json": {
       "model_id": "f358b0016a9b46148acd7f9677d75a74",
       "version_major": 2,
       "version_minor": 0
      },
      "text/plain": [
       "  0%|          | 0/10 [00:00<?, ?it/s]"
      ]
     },
     "metadata": {},
     "output_type": "display_data"
    },
    {
     "ename": "KeyboardInterrupt",
     "evalue": "",
     "output_type": "error",
     "traceback": [
      "\u001b[0;31m---------------------------------------------------------------------------\u001b[0m",
      "\u001b[0;31mKeyboardInterrupt\u001b[0m                         Traceback (most recent call last)",
      "Input \u001b[0;32mIn [231]\u001b[0m, in \u001b[0;36m<cell line: 2>\u001b[0;34m()\u001b[0m\n\u001b[1;32m      3\u001b[0m rejects \u001b[38;5;241m=\u001b[39m \u001b[38;5;241m0\u001b[39m\n\u001b[1;32m      4\u001b[0m \u001b[38;5;28;01mfor\u001b[39;00m i \u001b[38;5;129;01min\u001b[39;00m tqdm(\u001b[38;5;28mrange\u001b[39m(\u001b[38;5;241m10\u001b[39m)):\n\u001b[0;32m----> 5\u001b[0m     _, _, _, reject \u001b[38;5;241m=\u001b[39m \u001b[43mtest_independence\u001b[49m\u001b[43m(\u001b[49m\u001b[43mklist\u001b[49m\u001b[43m,\u001b[49m\u001b[43m \u001b[49m\u001b[38;5;28;43;01mNone\u001b[39;49;00m\u001b[43m,\u001b[49m\u001b[43m \u001b[49m\u001b[43mn_perms\u001b[49m\u001b[38;5;241;43m=\u001b[39;49m\u001b[38;5;241;43m1000\u001b[39;49m\u001b[43m,\u001b[49m\u001b[43m \u001b[49m\u001b[43malpha\u001b[49m\u001b[38;5;241;43m=\u001b[39;49m\u001b[38;5;241;43m0.05\u001b[39;49m\u001b[43m,\u001b[49m\u001b[43m \u001b[49m\u001b[43mmode\u001b[49m\u001b[43m \u001b[49m\u001b[38;5;241;43m=\u001b[39;49m\u001b[43m \u001b[49m\u001b[38;5;124;43m'\u001b[39;49m\u001b[38;5;124;43mpermutation\u001b[39;49m\u001b[38;5;124;43m'\u001b[39;49m\u001b[43m)\u001b[49m\n\u001b[1;32m      6\u001b[0m     rejects \u001b[38;5;241m=\u001b[39m rejects \u001b[38;5;241m+\u001b[39m reject\n\u001b[1;32m      7\u001b[0m power[\u001b[38;5;28mstr\u001b[39m(name)] \u001b[38;5;241m=\u001b[39m rejects\n",
      "File \u001b[0;32m/Users/Tim/PycharmProjects/HOI/HOI/tests.py:237\u001b[0m, in \u001b[0;36mtest_independence\u001b[0;34m(k_list, data_list, n_perms, alpha, mode)\u001b[0m\n\u001b[1;32m    235\u001b[0m \u001b[38;5;28;01mif\u001b[39;00m mode \u001b[38;5;241m==\u001b[39m \u001b[38;5;124m'\u001b[39m\u001b[38;5;124mpermutation\u001b[39m\u001b[38;5;124m'\u001b[39m:\n\u001b[1;32m    236\u001b[0m     statistic \u001b[38;5;241m=\u001b[39m compute_dHSIC_statistics(k_list)\n\u001b[0;32m--> 237\u001b[0m     critical_value, pval \u001b[38;5;241m=\u001b[39m \u001b[43mdhsic_permutation\u001b[49m\u001b[43m(\u001b[49m\u001b[43mk_list\u001b[49m\u001b[43m,\u001b[49m\u001b[43m \u001b[49m\u001b[43mn_samples\u001b[49m\u001b[43m,\u001b[49m\u001b[43m \u001b[49m\u001b[43mn_variables\u001b[49m\u001b[43m,\u001b[49m\u001b[43m \u001b[49m\u001b[43mstatistic\u001b[49m\u001b[43m,\u001b[49m\u001b[43m \u001b[49m\u001b[43mn_perms\u001b[49m\u001b[43m,\u001b[49m\u001b[43m \u001b[49m\u001b[43malpha\u001b[49m\u001b[43m)\u001b[49m\n\u001b[1;32m    238\u001b[0m     reject \u001b[38;5;241m=\u001b[39m \u001b[38;5;28mint\u001b[39m(statistic \u001b[38;5;241m>\u001b[39m critical_value)\n\u001b[1;32m    239\u001b[0m     \u001b[38;5;28;01mreturn\u001b[39;00m statistic, critical_value, pval, reject\n",
      "File \u001b[0;32m/Users/Tim/PycharmProjects/HOI/HOI/tests.py:37\u001b[0m, in \u001b[0;36mdhsic_permutation\u001b[0;34m(k_list, n_samples, n_variables, stat_found, n_perms, alpha)\u001b[0m\n\u001b[1;32m     34\u001b[0m     term2 \u001b[38;5;241m=\u001b[39m term2 \u001b[38;5;241m*\u001b[39m np\u001b[38;5;241m.\u001b[39msum(k_perm) \u001b[38;5;241m/\u001b[39m (n_samples \u001b[38;5;241m*\u001b[39m\u001b[38;5;241m*\u001b[39m \u001b[38;5;241m2\u001b[39m)\n\u001b[1;32m     35\u001b[0m     term3 \u001b[38;5;241m=\u001b[39m term3 \u001b[38;5;241m*\u001b[39m np\u001b[38;5;241m.\u001b[39msum(k_perm, axis\u001b[38;5;241m=\u001b[39m\u001b[38;5;241m0\u001b[39m) \u001b[38;5;241m/\u001b[39m n_samples\n\u001b[0;32m---> 37\u001b[0m term1_sum \u001b[38;5;241m=\u001b[39m \u001b[43mnp\u001b[49m\u001b[38;5;241;43m.\u001b[39;49m\u001b[43msum\u001b[49m\u001b[43m(\u001b[49m\u001b[43mterm1\u001b[49m\u001b[43m)\u001b[49m\n\u001b[1;32m     38\u001b[0m term3_sum \u001b[38;5;241m=\u001b[39m np\u001b[38;5;241m.\u001b[39msum(term3)\n\u001b[1;32m     40\u001b[0m statistics[i] \u001b[38;5;241m=\u001b[39m term1_sum \u001b[38;5;241m/\u001b[39m (n_samples \u001b[38;5;241m*\u001b[39m\u001b[38;5;241m*\u001b[39m \u001b[38;5;241m2\u001b[39m) \u001b[38;5;241m+\u001b[39m term2 \u001b[38;5;241m-\u001b[39m term3_sum\n",
      "File \u001b[0;32m<__array_function__ internals>:5\u001b[0m, in \u001b[0;36msum\u001b[0;34m(*args, **kwargs)\u001b[0m\n",
      "File \u001b[0;32m~/opt/anaconda3/lib/python3.9/site-packages/numpy/core/fromnumeric.py:2259\u001b[0m, in \u001b[0;36msum\u001b[0;34m(a, axis, dtype, out, keepdims, initial, where)\u001b[0m\n\u001b[1;32m   2256\u001b[0m         \u001b[38;5;28;01mreturn\u001b[39;00m out\n\u001b[1;32m   2257\u001b[0m     \u001b[38;5;28;01mreturn\u001b[39;00m res\n\u001b[0;32m-> 2259\u001b[0m \u001b[38;5;28;01mreturn\u001b[39;00m \u001b[43m_wrapreduction\u001b[49m\u001b[43m(\u001b[49m\u001b[43ma\u001b[49m\u001b[43m,\u001b[49m\u001b[43m \u001b[49m\u001b[43mnp\u001b[49m\u001b[38;5;241;43m.\u001b[39;49m\u001b[43madd\u001b[49m\u001b[43m,\u001b[49m\u001b[43m \u001b[49m\u001b[38;5;124;43m'\u001b[39;49m\u001b[38;5;124;43msum\u001b[39;49m\u001b[38;5;124;43m'\u001b[39;49m\u001b[43m,\u001b[49m\u001b[43m \u001b[49m\u001b[43maxis\u001b[49m\u001b[43m,\u001b[49m\u001b[43m \u001b[49m\u001b[43mdtype\u001b[49m\u001b[43m,\u001b[49m\u001b[43m \u001b[49m\u001b[43mout\u001b[49m\u001b[43m,\u001b[49m\u001b[43m \u001b[49m\u001b[43mkeepdims\u001b[49m\u001b[38;5;241;43m=\u001b[39;49m\u001b[43mkeepdims\u001b[49m\u001b[43m,\u001b[49m\n\u001b[1;32m   2260\u001b[0m \u001b[43m                      \u001b[49m\u001b[43minitial\u001b[49m\u001b[38;5;241;43m=\u001b[39;49m\u001b[43minitial\u001b[49m\u001b[43m,\u001b[49m\u001b[43m \u001b[49m\u001b[43mwhere\u001b[49m\u001b[38;5;241;43m=\u001b[39;49m\u001b[43mwhere\u001b[49m\u001b[43m)\u001b[49m\n",
      "File \u001b[0;32m~/opt/anaconda3/lib/python3.9/site-packages/numpy/core/fromnumeric.py:70\u001b[0m, in \u001b[0;36m_wrapreduction\u001b[0;34m(obj, ufunc, method, axis, dtype, out, **kwargs)\u001b[0m\n\u001b[1;32m     69\u001b[0m \u001b[38;5;28;01mdef\u001b[39;00m \u001b[38;5;21m_wrapreduction\u001b[39m(obj, ufunc, method, axis, dtype, out, \u001b[38;5;241m*\u001b[39m\u001b[38;5;241m*\u001b[39mkwargs):\n\u001b[0;32m---> 70\u001b[0m     passkwargs \u001b[38;5;241m=\u001b[39m {k: v \u001b[38;5;28;01mfor\u001b[39;00m k, v \u001b[38;5;129;01min\u001b[39;00m kwargs\u001b[38;5;241m.\u001b[39mitems()\n\u001b[1;32m     71\u001b[0m                   \u001b[38;5;28;01mif\u001b[39;00m v \u001b[38;5;129;01mis\u001b[39;00m \u001b[38;5;129;01mnot\u001b[39;00m np\u001b[38;5;241m.\u001b[39m_NoValue}\n\u001b[1;32m     73\u001b[0m     \u001b[38;5;28;01mif\u001b[39;00m \u001b[38;5;28mtype\u001b[39m(obj) \u001b[38;5;129;01mis\u001b[39;00m \u001b[38;5;129;01mnot\u001b[39;00m mu\u001b[38;5;241m.\u001b[39mndarray:\n\u001b[1;32m     74\u001b[0m         \u001b[38;5;28;01mtry\u001b[39;00m:\n",
      "File \u001b[0;32m~/opt/anaconda3/lib/python3.9/site-packages/numpy/core/fromnumeric.py:71\u001b[0m, in \u001b[0;36m<dictcomp>\u001b[0;34m(.0)\u001b[0m\n\u001b[1;32m     69\u001b[0m \u001b[38;5;28;01mdef\u001b[39;00m \u001b[38;5;21m_wrapreduction\u001b[39m(obj, ufunc, method, axis, dtype, out, \u001b[38;5;241m*\u001b[39m\u001b[38;5;241m*\u001b[39mkwargs):\n\u001b[1;32m     70\u001b[0m     passkwargs \u001b[38;5;241m=\u001b[39m {k: v \u001b[38;5;28;01mfor\u001b[39;00m k, v \u001b[38;5;129;01min\u001b[39;00m kwargs\u001b[38;5;241m.\u001b[39mitems()\n\u001b[0;32m---> 71\u001b[0m                   \u001b[38;5;28;01mif\u001b[39;00m v \u001b[38;5;129;01mis\u001b[39;00m \u001b[38;5;129;01mnot\u001b[39;00m \u001b[43mnp\u001b[49m\u001b[38;5;241;43m.\u001b[39;49m\u001b[43m_NoValue\u001b[49m}\n\u001b[1;32m     73\u001b[0m     \u001b[38;5;28;01mif\u001b[39;00m \u001b[38;5;28mtype\u001b[39m(obj) \u001b[38;5;129;01mis\u001b[39;00m \u001b[38;5;129;01mnot\u001b[39;00m mu\u001b[38;5;241m.\u001b[39mndarray:\n\u001b[1;32m     74\u001b[0m         \u001b[38;5;28;01mtry\u001b[39;00m:\n",
      "\u001b[0;31mKeyboardInterrupt\u001b[0m: "
     ]
    }
   ],
   "source": [
    "power = {}\n",
    "for (name, klist) in tqdm(zip(power_set_name, power_set), total=len(power_set)):\n",
    "    rejects = 0\n",
    "    for i in tqdm(range(10)):\n",
    "        _, _, _, reject = test_independence(klist, None, n_perms=1000, alpha=0.05, mode = 'permutation')\n",
    "        rejects = rejects + reject\n",
    "    power[str(name)] = rejects\n",
    "    print(power)"
   ]
  },
  {
   "cell_type": "code",
   "execution_count": 147,
   "id": "4729c0da-cc03-4b66-8881-6ab0d0ec5f43",
   "metadata": {},
   "outputs": [
    {
     "data": {
      "text/plain": [
       "{\"['d1', 'd2']\": 10,\n",
       " \"['d1', 'd3']\": 10,\n",
       " \"['d1', 'd4']\": 10,\n",
       " \"['d2', 'd3']\": 10,\n",
       " \"['d2', 'd4']\": 10,\n",
       " \"['d3', 'd4']\": 10,\n",
       " \"['d1', 'd2', 'd3']\": 10,\n",
       " \"['d1', 'd2', 'd4']\": 10,\n",
       " \"['d1', 'd3', 'd4']\": 10,\n",
       " \"['d2', 'd3', 'd4']\": 10,\n",
       " \"['d1', 'd2', 'd3', 'd4']\": 10}"
      ]
     },
     "execution_count": 147,
     "metadata": {},
     "output_type": "execute_result"
    }
   ],
   "source": [
    "power"
   ]
  },
  {
   "cell_type": "code",
   "execution_count": null,
   "id": "0a1ea311-f375-4992-b815-e6ed8ea2b002",
   "metadata": {},
   "outputs": [],
   "source": []
  },
  {
   "cell_type": "code",
   "execution_count": 257,
   "id": "4603d6de-aaa8-4ae7-94b6-d95eda0f9ef0",
   "metadata": {},
   "outputs": [],
   "source": [
    "mat = scipy.io.loadmat('dependence_phases_equal_linear_mean_and_heteroskedascity_trend.mat')"
   ]
  },
  {
   "cell_type": "code",
   "execution_count": 258,
   "id": "55432b41-c421-41fa-905a-11db2653676e",
   "metadata": {},
   "outputs": [
    {
     "data": {
      "text/plain": [
       "(100, 4, 3000)"
      ]
     },
     "execution_count": 258,
     "metadata": {},
     "output_type": "execute_result"
    }
   ],
   "source": [
    "mat['all_samples'].shape"
   ]
  },
  {
   "cell_type": "code",
   "execution_count": 263,
   "id": "bc81fb9c-d0e6-42ab-84f8-ad9b7336edda",
   "metadata": {},
   "outputs": [],
   "source": [
    "md1 = mat['all_samples'][:,0,:][:,800:830]\n",
    "md2 = mat['all_samples'][:,1,:][:,800:830]\n",
    "md3 = mat['all_samples'][:,2,:][:,800:830]\n",
    "md4 = mat['all_samples'][:,3,:][:,800:830]\n",
    "\n",
    "kmd1 = compute_kernel_n(md1)\n",
    "kmd2 = compute_kernel_n(md2)\n",
    "kmd3 = compute_kernel_n(md3)\n",
    "kmd4 = compute_kernel_n(md4)"
   ]
  },
  {
   "cell_type": "code",
   "execution_count": 264,
   "id": "a85eb8a4-da7c-4362-8d49-7e7a4f79284c",
   "metadata": {},
   "outputs": [],
   "source": [
    "power_set = find_comb([kmd1, kmd2, kmd3, kmd4])"
   ]
  },
  {
   "cell_type": "code",
   "execution_count": 265,
   "id": "43be286b-2ebd-4575-adae-c3123b22fdb3",
   "metadata": {
    "tags": []
   },
   "outputs": [],
   "source": [
    "power_set_name = find_comb(['d1', 'd2', 'd3', 'd4'])"
   ]
  },
  {
   "cell_type": "code",
   "execution_count": 266,
   "id": "6b4b95e1-e830-4489-a467-4a0a955f314a",
   "metadata": {
    "tags": []
   },
   "outputs": [
    {
     "data": {
      "application/vnd.jupyter.widget-view+json": {
       "model_id": "4ddae2257b6a48bbb6d652cb49c2fc7f",
       "version_major": 2,
       "version_minor": 0
      },
      "text/plain": [
       "  0%|          | 0/11 [00:00<?, ?it/s]"
      ]
     },
     "metadata": {},
     "output_type": "display_data"
    },
    {
     "data": {
      "application/vnd.jupyter.widget-view+json": {
       "model_id": "a6c6861ecebd40fbb01218559b483bb5",
       "version_major": 2,
       "version_minor": 0
      },
      "text/plain": [
       "  0%|          | 0/10 [00:00<?, ?it/s]"
      ]
     },
     "metadata": {},
     "output_type": "display_data"
    },
    {
     "name": "stdout",
     "output_type": "stream",
     "text": [
      "{\"['d1', 'd2']\": 10}\n"
     ]
    },
    {
     "data": {
      "application/vnd.jupyter.widget-view+json": {
       "model_id": "f1fb4666b73347f488ed249da7e8fb98",
       "version_major": 2,
       "version_minor": 0
      },
      "text/plain": [
       "  0%|          | 0/10 [00:00<?, ?it/s]"
      ]
     },
     "metadata": {},
     "output_type": "display_data"
    },
    {
     "name": "stdout",
     "output_type": "stream",
     "text": [
      "{\"['d1', 'd2']\": 10, \"['d1', 'd3']\": 10}\n"
     ]
    },
    {
     "data": {
      "application/vnd.jupyter.widget-view+json": {
       "model_id": "4c49f351f4f8457abdc98660198aed13",
       "version_major": 2,
       "version_minor": 0
      },
      "text/plain": [
       "  0%|          | 0/10 [00:00<?, ?it/s]"
      ]
     },
     "metadata": {},
     "output_type": "display_data"
    },
    {
     "name": "stdout",
     "output_type": "stream",
     "text": [
      "{\"['d1', 'd2']\": 10, \"['d1', 'd3']\": 10, \"['d1', 'd4']\": 10}\n"
     ]
    },
    {
     "data": {
      "application/vnd.jupyter.widget-view+json": {
       "model_id": "eae50216d552498aa86745011849d059",
       "version_major": 2,
       "version_minor": 0
      },
      "text/plain": [
       "  0%|          | 0/10 [00:00<?, ?it/s]"
      ]
     },
     "metadata": {},
     "output_type": "display_data"
    },
    {
     "name": "stdout",
     "output_type": "stream",
     "text": [
      "{\"['d1', 'd2']\": 10, \"['d1', 'd3']\": 10, \"['d1', 'd4']\": 10, \"['d2', 'd3']\": 10}\n"
     ]
    },
    {
     "data": {
      "application/vnd.jupyter.widget-view+json": {
       "model_id": "4a97eff21ca0403798a3c09566135f0b",
       "version_major": 2,
       "version_minor": 0
      },
      "text/plain": [
       "  0%|          | 0/10 [00:00<?, ?it/s]"
      ]
     },
     "metadata": {},
     "output_type": "display_data"
    },
    {
     "name": "stdout",
     "output_type": "stream",
     "text": [
      "{\"['d1', 'd2']\": 10, \"['d1', 'd3']\": 10, \"['d1', 'd4']\": 10, \"['d2', 'd3']\": 10, \"['d2', 'd4']\": 10}\n"
     ]
    },
    {
     "data": {
      "application/vnd.jupyter.widget-view+json": {
       "model_id": "7b996a5b7254490ca5fde69c68fd0f48",
       "version_major": 2,
       "version_minor": 0
      },
      "text/plain": [
       "  0%|          | 0/10 [00:00<?, ?it/s]"
      ]
     },
     "metadata": {},
     "output_type": "display_data"
    },
    {
     "name": "stdout",
     "output_type": "stream",
     "text": [
      "{\"['d1', 'd2']\": 10, \"['d1', 'd3']\": 10, \"['d1', 'd4']\": 10, \"['d2', 'd3']\": 10, \"['d2', 'd4']\": 10, \"['d3', 'd4']\": 10}\n"
     ]
    },
    {
     "data": {
      "application/vnd.jupyter.widget-view+json": {
       "model_id": "07ed5992cefe44509fdb31ce8e8f034a",
       "version_major": 2,
       "version_minor": 0
      },
      "text/plain": [
       "  0%|          | 0/10 [00:00<?, ?it/s]"
      ]
     },
     "metadata": {},
     "output_type": "display_data"
    },
    {
     "name": "stdout",
     "output_type": "stream",
     "text": [
      "{\"['d1', 'd2']\": 10, \"['d1', 'd3']\": 10, \"['d1', 'd4']\": 10, \"['d2', 'd3']\": 10, \"['d2', 'd4']\": 10, \"['d3', 'd4']\": 10, \"['d1', 'd2', 'd3']\": 10}\n"
     ]
    },
    {
     "data": {
      "application/vnd.jupyter.widget-view+json": {
       "model_id": "1445a596e2fb4706a3eb187fb7910566",
       "version_major": 2,
       "version_minor": 0
      },
      "text/plain": [
       "  0%|          | 0/10 [00:00<?, ?it/s]"
      ]
     },
     "metadata": {},
     "output_type": "display_data"
    },
    {
     "name": "stdout",
     "output_type": "stream",
     "text": [
      "{\"['d1', 'd2']\": 10, \"['d1', 'd3']\": 10, \"['d1', 'd4']\": 10, \"['d2', 'd3']\": 10, \"['d2', 'd4']\": 10, \"['d3', 'd4']\": 10, \"['d1', 'd2', 'd3']\": 10, \"['d1', 'd2', 'd4']\": 10}\n"
     ]
    },
    {
     "data": {
      "application/vnd.jupyter.widget-view+json": {
       "model_id": "3a3dacbca0b84e98892984b575b266bf",
       "version_major": 2,
       "version_minor": 0
      },
      "text/plain": [
       "  0%|          | 0/10 [00:00<?, ?it/s]"
      ]
     },
     "metadata": {},
     "output_type": "display_data"
    },
    {
     "name": "stdout",
     "output_type": "stream",
     "text": [
      "{\"['d1', 'd2']\": 10, \"['d1', 'd3']\": 10, \"['d1', 'd4']\": 10, \"['d2', 'd3']\": 10, \"['d2', 'd4']\": 10, \"['d3', 'd4']\": 10, \"['d1', 'd2', 'd3']\": 10, \"['d1', 'd2', 'd4']\": 10, \"['d1', 'd3', 'd4']\": 10}\n"
     ]
    },
    {
     "data": {
      "application/vnd.jupyter.widget-view+json": {
       "model_id": "6670d157805248d1807233a3c5fde2fc",
       "version_major": 2,
       "version_minor": 0
      },
      "text/plain": [
       "  0%|          | 0/10 [00:00<?, ?it/s]"
      ]
     },
     "metadata": {},
     "output_type": "display_data"
    },
    {
     "name": "stdout",
     "output_type": "stream",
     "text": [
      "{\"['d1', 'd2']\": 10, \"['d1', 'd3']\": 10, \"['d1', 'd4']\": 10, \"['d2', 'd3']\": 10, \"['d2', 'd4']\": 10, \"['d3', 'd4']\": 10, \"['d1', 'd2', 'd3']\": 10, \"['d1', 'd2', 'd4']\": 10, \"['d1', 'd3', 'd4']\": 10, \"['d2', 'd3', 'd4']\": 10}\n"
     ]
    },
    {
     "data": {
      "application/vnd.jupyter.widget-view+json": {
       "model_id": "2378e325314c4b93bea4c7a4fb07b369",
       "version_major": 2,
       "version_minor": 0
      },
      "text/plain": [
       "  0%|          | 0/10 [00:00<?, ?it/s]"
      ]
     },
     "metadata": {},
     "output_type": "display_data"
    },
    {
     "name": "stdout",
     "output_type": "stream",
     "text": [
      "{\"['d1', 'd2']\": 10, \"['d1', 'd3']\": 10, \"['d1', 'd4']\": 10, \"['d2', 'd3']\": 10, \"['d2', 'd4']\": 10, \"['d3', 'd4']\": 10, \"['d1', 'd2', 'd3']\": 10, \"['d1', 'd2', 'd4']\": 10, \"['d1', 'd3', 'd4']\": 10, \"['d2', 'd3', 'd4']\": 10, \"['d1', 'd2', 'd3', 'd4']\": 10}\n"
     ]
    }
   ],
   "source": [
    "power = {}\n",
    "for (name, klist) in tqdm(zip(power_set_name, power_set), total=len(power_set)):\n",
    "    rejects = 0\n",
    "    for i in tqdm(range(10)):\n",
    "        _, _, _, reject = test_independence(klist, None, n_perms=1000, alpha=0.05, mode = 'permutation')\n",
    "        rejects = rejects + reject\n",
    "    power[str(name)] = rejects\n",
    "    print(power)"
   ]
  },
  {
   "cell_type": "code",
   "execution_count": 154,
   "id": "26d1ed31-b01a-494b-9388-1887be9a1cfa",
   "metadata": {},
   "outputs": [
    {
     "data": {
      "text/plain": [
       "{\"['d1', 'd2']\": 10,\n",
       " \"['d1', 'd3']\": 10,\n",
       " \"['d1', 'd4']\": 10,\n",
       " \"['d2', 'd3']\": 10,\n",
       " \"['d2', 'd4']\": 10,\n",
       " \"['d3', 'd4']\": 10,\n",
       " \"['d1', 'd2', 'd3']\": 10,\n",
       " \"['d1', 'd2', 'd4']\": 10,\n",
       " \"['d1', 'd3', 'd4']\": 10,\n",
       " \"['d2', 'd3', 'd4']\": 10,\n",
       " \"['d1', 'd2', 'd3', 'd4']\": 10}"
      ]
     },
     "execution_count": 154,
     "metadata": {},
     "output_type": "execute_result"
    }
   ],
   "source": [
    "power"
   ]
  },
  {
   "cell_type": "code",
   "execution_count": null,
   "id": "9aa1eaba-0d3d-4e27-8078-dd639301b3cc",
   "metadata": {},
   "outputs": [],
   "source": []
  },
  {
   "cell_type": "code",
   "execution_count": 155,
   "id": "29cfb05b-5926-4283-bb4b-7b2d51cf5468",
   "metadata": {},
   "outputs": [],
   "source": [
    "mat = scipy.io.loadmat('dependence_phases_equal_linear_mean_trend.mat')"
   ]
  },
  {
   "cell_type": "code",
   "execution_count": 156,
   "id": "5f036f9d-5b30-4f4a-8783-66690789a308",
   "metadata": {},
   "outputs": [
    {
     "data": {
      "text/plain": [
       "(100, 4, 3000)"
      ]
     },
     "execution_count": 156,
     "metadata": {},
     "output_type": "execute_result"
    }
   ],
   "source": [
    "mat['all_samples'].shape"
   ]
  },
  {
   "cell_type": "code",
   "execution_count": 157,
   "id": "b2b3c0c9-8ffa-409d-96fe-406811bf5889",
   "metadata": {},
   "outputs": [],
   "source": [
    "md1 = mat['all_samples'][:,0,:][:,0:500]\n",
    "md2 = mat['all_samples'][:,1,:][:,0:500]\n",
    "md3 = mat['all_samples'][:,2,:][:,0:500]\n",
    "md4 = mat['all_samples'][:,3,:][:,0:500]\n",
    "\n",
    "kmd1 = compute_kernel_n(md1)\n",
    "kmd2 = compute_kernel_n(md2)\n",
    "kmd3 = compute_kernel_n(md3)\n",
    "kmd4 = compute_kernel_n(md4)"
   ]
  },
  {
   "cell_type": "code",
   "execution_count": 158,
   "id": "1f9f5ed4-91b7-4ab8-a67e-c63d7760bfb4",
   "metadata": {},
   "outputs": [],
   "source": [
    "power_set = find_comb([kmd1, kmd2, kmd3, kmd4])"
   ]
  },
  {
   "cell_type": "code",
   "execution_count": 159,
   "id": "d6994804-7c18-470e-bd6d-eecd8d4d655d",
   "metadata": {
    "tags": []
   },
   "outputs": [],
   "source": [
    "power_set_name = find_comb(['d1', 'd2', 'd3', 'd4'])"
   ]
  },
  {
   "cell_type": "code",
   "execution_count": 160,
   "id": "53b29bc1-4a05-4be2-8e2e-6a791723d385",
   "metadata": {
    "collapsed": true,
    "jupyter": {
     "outputs_hidden": true
    },
    "tags": []
   },
   "outputs": [
    {
     "data": {
      "application/vnd.jupyter.widget-view+json": {
       "model_id": "91259bda322a45f6974f00f4bffadb11",
       "version_major": 2,
       "version_minor": 0
      },
      "text/plain": [
       "  0%|          | 0/11 [00:00<?, ?it/s]"
      ]
     },
     "metadata": {},
     "output_type": "display_data"
    },
    {
     "data": {
      "application/vnd.jupyter.widget-view+json": {
       "model_id": "d18b633fef634ab5b38c9d163d1bc430",
       "version_major": 2,
       "version_minor": 0
      },
      "text/plain": [
       "  0%|          | 0/10 [00:00<?, ?it/s]"
      ]
     },
     "metadata": {},
     "output_type": "display_data"
    },
    {
     "name": "stdout",
     "output_type": "stream",
     "text": [
      "{\"['d1', 'd2']\": 10}\n"
     ]
    },
    {
     "data": {
      "application/vnd.jupyter.widget-view+json": {
       "model_id": "fcc5b6587b254d61b90bdd5aa4fe6ac8",
       "version_major": 2,
       "version_minor": 0
      },
      "text/plain": [
       "  0%|          | 0/10 [00:00<?, ?it/s]"
      ]
     },
     "metadata": {},
     "output_type": "display_data"
    },
    {
     "name": "stdout",
     "output_type": "stream",
     "text": [
      "{\"['d1', 'd2']\": 10, \"['d1', 'd3']\": 10}\n"
     ]
    },
    {
     "data": {
      "application/vnd.jupyter.widget-view+json": {
       "model_id": "777b21e768fc4336a0d504e5568ec6ff",
       "version_major": 2,
       "version_minor": 0
      },
      "text/plain": [
       "  0%|          | 0/10 [00:00<?, ?it/s]"
      ]
     },
     "metadata": {},
     "output_type": "display_data"
    },
    {
     "name": "stdout",
     "output_type": "stream",
     "text": [
      "{\"['d1', 'd2']\": 10, \"['d1', 'd3']\": 10, \"['d1', 'd4']\": 10}\n"
     ]
    },
    {
     "data": {
      "application/vnd.jupyter.widget-view+json": {
       "model_id": "2ddb607b50e94db7884de2cf641b65a8",
       "version_major": 2,
       "version_minor": 0
      },
      "text/plain": [
       "  0%|          | 0/10 [00:00<?, ?it/s]"
      ]
     },
     "metadata": {},
     "output_type": "display_data"
    },
    {
     "name": "stdout",
     "output_type": "stream",
     "text": [
      "{\"['d1', 'd2']\": 10, \"['d1', 'd3']\": 10, \"['d1', 'd4']\": 10, \"['d2', 'd3']\": 10}\n"
     ]
    },
    {
     "data": {
      "application/vnd.jupyter.widget-view+json": {
       "model_id": "484282f09df248ee87d8e9b57f266c09",
       "version_major": 2,
       "version_minor": 0
      },
      "text/plain": [
       "  0%|          | 0/10 [00:00<?, ?it/s]"
      ]
     },
     "metadata": {},
     "output_type": "display_data"
    },
    {
     "name": "stdout",
     "output_type": "stream",
     "text": [
      "{\"['d1', 'd2']\": 10, \"['d1', 'd3']\": 10, \"['d1', 'd4']\": 10, \"['d2', 'd3']\": 10, \"['d2', 'd4']\": 10}\n"
     ]
    },
    {
     "data": {
      "application/vnd.jupyter.widget-view+json": {
       "model_id": "2d76a189ec604d1b922abfd0c6b1dd8b",
       "version_major": 2,
       "version_minor": 0
      },
      "text/plain": [
       "  0%|          | 0/10 [00:00<?, ?it/s]"
      ]
     },
     "metadata": {},
     "output_type": "display_data"
    },
    {
     "name": "stdout",
     "output_type": "stream",
     "text": [
      "{\"['d1', 'd2']\": 10, \"['d1', 'd3']\": 10, \"['d1', 'd4']\": 10, \"['d2', 'd3']\": 10, \"['d2', 'd4']\": 10, \"['d3', 'd4']\": 10}\n"
     ]
    },
    {
     "data": {
      "application/vnd.jupyter.widget-view+json": {
       "model_id": "dacafc5a3e1046deb70f7761e854d0f9",
       "version_major": 2,
       "version_minor": 0
      },
      "text/plain": [
       "  0%|          | 0/10 [00:00<?, ?it/s]"
      ]
     },
     "metadata": {},
     "output_type": "display_data"
    },
    {
     "name": "stdout",
     "output_type": "stream",
     "text": [
      "{\"['d1', 'd2']\": 10, \"['d1', 'd3']\": 10, \"['d1', 'd4']\": 10, \"['d2', 'd3']\": 10, \"['d2', 'd4']\": 10, \"['d3', 'd4']\": 10, \"['d1', 'd2', 'd3']\": 10}\n"
     ]
    },
    {
     "data": {
      "application/vnd.jupyter.widget-view+json": {
       "model_id": "14d7951e01a849f5bdf54f45cf3de780",
       "version_major": 2,
       "version_minor": 0
      },
      "text/plain": [
       "  0%|          | 0/10 [00:00<?, ?it/s]"
      ]
     },
     "metadata": {},
     "output_type": "display_data"
    },
    {
     "name": "stdout",
     "output_type": "stream",
     "text": [
      "{\"['d1', 'd2']\": 10, \"['d1', 'd3']\": 10, \"['d1', 'd4']\": 10, \"['d2', 'd3']\": 10, \"['d2', 'd4']\": 10, \"['d3', 'd4']\": 10, \"['d1', 'd2', 'd3']\": 10, \"['d1', 'd2', 'd4']\": 10}\n"
     ]
    },
    {
     "data": {
      "application/vnd.jupyter.widget-view+json": {
       "model_id": "bea776c3b70d4cbd93f784bc842a87fa",
       "version_major": 2,
       "version_minor": 0
      },
      "text/plain": [
       "  0%|          | 0/10 [00:00<?, ?it/s]"
      ]
     },
     "metadata": {},
     "output_type": "display_data"
    },
    {
     "name": "stdout",
     "output_type": "stream",
     "text": [
      "{\"['d1', 'd2']\": 10, \"['d1', 'd3']\": 10, \"['d1', 'd4']\": 10, \"['d2', 'd3']\": 10, \"['d2', 'd4']\": 10, \"['d3', 'd4']\": 10, \"['d1', 'd2', 'd3']\": 10, \"['d1', 'd2', 'd4']\": 10, \"['d1', 'd3', 'd4']\": 10}\n"
     ]
    },
    {
     "data": {
      "application/vnd.jupyter.widget-view+json": {
       "model_id": "d077a093d01f48dcbd010530ab2ad42a",
       "version_major": 2,
       "version_minor": 0
      },
      "text/plain": [
       "  0%|          | 0/10 [00:00<?, ?it/s]"
      ]
     },
     "metadata": {},
     "output_type": "display_data"
    },
    {
     "name": "stdout",
     "output_type": "stream",
     "text": [
      "{\"['d1', 'd2']\": 10, \"['d1', 'd3']\": 10, \"['d1', 'd4']\": 10, \"['d2', 'd3']\": 10, \"['d2', 'd4']\": 10, \"['d3', 'd4']\": 10, \"['d1', 'd2', 'd3']\": 10, \"['d1', 'd2', 'd4']\": 10, \"['d1', 'd3', 'd4']\": 10, \"['d2', 'd3', 'd4']\": 10}\n"
     ]
    },
    {
     "data": {
      "application/vnd.jupyter.widget-view+json": {
       "model_id": "e05e3d3835074f0ba79b76013b01b523",
       "version_major": 2,
       "version_minor": 0
      },
      "text/plain": [
       "  0%|          | 0/10 [00:00<?, ?it/s]"
      ]
     },
     "metadata": {},
     "output_type": "display_data"
    },
    {
     "name": "stdout",
     "output_type": "stream",
     "text": [
      "{\"['d1', 'd2']\": 10, \"['d1', 'd3']\": 10, \"['d1', 'd4']\": 10, \"['d2', 'd3']\": 10, \"['d2', 'd4']\": 10, \"['d3', 'd4']\": 10, \"['d1', 'd2', 'd3']\": 10, \"['d1', 'd2', 'd4']\": 10, \"['d1', 'd3', 'd4']\": 10, \"['d2', 'd3', 'd4']\": 10, \"['d1', 'd2', 'd3', 'd4']\": 10}\n"
     ]
    }
   ],
   "source": [
    "power = {}\n",
    "for (name, klist) in tqdm(zip(power_set_name, power_set), total=len(power_set)):\n",
    "    rejects = 0\n",
    "    for i in tqdm(range(10)):\n",
    "        _, _, _, reject = test_independence(klist, None, n_perms=1000, alpha=0.05, mode = 'permutation')\n",
    "        rejects = rejects + reject\n",
    "    power[str(name)] = rejects\n",
    "    print(power)"
   ]
  },
  {
   "cell_type": "code",
   "execution_count": 161,
   "id": "b96c83f9-6760-4e94-94aa-859d8fcabb40",
   "metadata": {},
   "outputs": [
    {
     "data": {
      "text/plain": [
       "{\"['d1', 'd2']\": 10,\n",
       " \"['d1', 'd3']\": 10,\n",
       " \"['d1', 'd4']\": 10,\n",
       " \"['d2', 'd3']\": 10,\n",
       " \"['d2', 'd4']\": 10,\n",
       " \"['d3', 'd4']\": 10,\n",
       " \"['d1', 'd2', 'd3']\": 10,\n",
       " \"['d1', 'd2', 'd4']\": 10,\n",
       " \"['d1', 'd3', 'd4']\": 10,\n",
       " \"['d2', 'd3', 'd4']\": 10,\n",
       " \"['d1', 'd2', 'd3', 'd4']\": 10}"
      ]
     },
     "execution_count": 161,
     "metadata": {},
     "output_type": "execute_result"
    }
   ],
   "source": [
    "power"
   ]
  },
  {
   "cell_type": "code",
   "execution_count": null,
   "id": "4b84701b-89a6-4b83-ae45-447b75f27aaa",
   "metadata": {},
   "outputs": [],
   "source": []
  },
  {
   "cell_type": "code",
   "execution_count": 165,
   "id": "7308bd27-0af6-4686-b84a-e868d7c2c862",
   "metadata": {},
   "outputs": [],
   "source": [
    "mat = scipy.io.loadmat('multiple_samples_dependence.mat')"
   ]
  },
  {
   "cell_type": "code",
   "execution_count": 166,
   "id": "1bedecd4-703a-4d39-9093-e361d03143e6",
   "metadata": {},
   "outputs": [
    {
     "data": {
      "text/plain": [
       "(80, 4, 3000)"
      ]
     },
     "execution_count": 166,
     "metadata": {},
     "output_type": "execute_result"
    }
   ],
   "source": [
    "mat['all_samples'].shape"
   ]
  },
  {
   "cell_type": "code",
   "execution_count": 181,
   "id": "7e364917-181e-4ace-97dc-b6978bb85eb3",
   "metadata": {},
   "outputs": [],
   "source": [
    "md1 = mat['all_samples'][:,0,:][:,0:300]\n",
    "md2 = mat['all_samples'][:,1,:][:,0:300]\n",
    "md3 = mat['all_samples'][:,2,:][:,0:300]\n",
    "md4 = mat['all_samples'][:,3,:][:,0:300]\n",
    "\n",
    "kmd1 = compute_kernel_n(md1)\n",
    "kmd2 = compute_kernel_n(md2)\n",
    "kmd3 = compute_kernel_n(md3)\n",
    "kmd4 = compute_kernel_n(md4)"
   ]
  },
  {
   "cell_type": "code",
   "execution_count": 168,
   "id": "c3abca65-a331-4562-a490-a59d6bee2529",
   "metadata": {},
   "outputs": [],
   "source": [
    "power_set = find_comb([kmd1, kmd2, kmd3, kmd4])"
   ]
  },
  {
   "cell_type": "code",
   "execution_count": 169,
   "id": "1e35d3d6-779c-4ae5-88b8-e182730b34d1",
   "metadata": {
    "tags": []
   },
   "outputs": [],
   "source": [
    "power_set_name = find_comb(['d1', 'd2', 'd3', 'd4'])"
   ]
  },
  {
   "cell_type": "code",
   "execution_count": 139,
   "id": "cb61797e-79c5-41c9-98fb-13dd43a3bc80",
   "metadata": {
    "collapsed": true,
    "jupyter": {
     "outputs_hidden": true
    },
    "tags": []
   },
   "outputs": [
    {
     "data": {
      "application/vnd.jupyter.widget-view+json": {
       "model_id": "25203bdc19094d04aecff590efa3b0f2",
       "version_major": 2,
       "version_minor": 0
      },
      "text/plain": [
       "  0%|          | 0/11 [00:00<?, ?it/s]"
      ]
     },
     "metadata": {},
     "output_type": "display_data"
    },
    {
     "data": {
      "application/vnd.jupyter.widget-view+json": {
       "model_id": "610fd6f91efa468aab00ebc748b353ad",
       "version_major": 2,
       "version_minor": 0
      },
      "text/plain": [
       "  0%|          | 0/10 [00:00<?, ?it/s]"
      ]
     },
     "metadata": {},
     "output_type": "display_data"
    },
    {
     "name": "stdout",
     "output_type": "stream",
     "text": [
      "{\"['d1', 'd2']\": 0}\n"
     ]
    },
    {
     "data": {
      "application/vnd.jupyter.widget-view+json": {
       "model_id": "c1940c9481bb4596943625a34aa75fb1",
       "version_major": 2,
       "version_minor": 0
      },
      "text/plain": [
       "  0%|          | 0/10 [00:00<?, ?it/s]"
      ]
     },
     "metadata": {},
     "output_type": "display_data"
    },
    {
     "name": "stdout",
     "output_type": "stream",
     "text": [
      "{\"['d1', 'd2']\": 0, \"['d1', 'd3']\": 10}\n"
     ]
    },
    {
     "data": {
      "application/vnd.jupyter.widget-view+json": {
       "model_id": "1ff4b2f7048f48e59878f30b47802d33",
       "version_major": 2,
       "version_minor": 0
      },
      "text/plain": [
       "  0%|          | 0/10 [00:00<?, ?it/s]"
      ]
     },
     "metadata": {},
     "output_type": "display_data"
    },
    {
     "name": "stdout",
     "output_type": "stream",
     "text": [
      "{\"['d1', 'd2']\": 0, \"['d1', 'd3']\": 10, \"['d1', 'd4']\": 10}\n"
     ]
    },
    {
     "data": {
      "application/vnd.jupyter.widget-view+json": {
       "model_id": "19828a1dbfd448e7b21812ad00cceb96",
       "version_major": 2,
       "version_minor": 0
      },
      "text/plain": [
       "  0%|          | 0/10 [00:00<?, ?it/s]"
      ]
     },
     "metadata": {},
     "output_type": "display_data"
    },
    {
     "name": "stdout",
     "output_type": "stream",
     "text": [
      "{\"['d1', 'd2']\": 0, \"['d1', 'd3']\": 10, \"['d1', 'd4']\": 10, \"['d2', 'd3']\": 10}\n"
     ]
    },
    {
     "data": {
      "application/vnd.jupyter.widget-view+json": {
       "model_id": "a182c9d36ce14e0d9d26934d6a82e0c1",
       "version_major": 2,
       "version_minor": 0
      },
      "text/plain": [
       "  0%|          | 0/10 [00:00<?, ?it/s]"
      ]
     },
     "metadata": {},
     "output_type": "display_data"
    },
    {
     "name": "stdout",
     "output_type": "stream",
     "text": [
      "{\"['d1', 'd2']\": 0, \"['d1', 'd3']\": 10, \"['d1', 'd4']\": 10, \"['d2', 'd3']\": 10, \"['d2', 'd4']\": 10}\n"
     ]
    },
    {
     "data": {
      "application/vnd.jupyter.widget-view+json": {
       "model_id": "e8e0ff8692384580b6499e760d9e9041",
       "version_major": 2,
       "version_minor": 0
      },
      "text/plain": [
       "  0%|          | 0/10 [00:00<?, ?it/s]"
      ]
     },
     "metadata": {},
     "output_type": "display_data"
    },
    {
     "name": "stdout",
     "output_type": "stream",
     "text": [
      "{\"['d1', 'd2']\": 0, \"['d1', 'd3']\": 10, \"['d1', 'd4']\": 10, \"['d2', 'd3']\": 10, \"['d2', 'd4']\": 10, \"['d3', 'd4']\": 0}\n"
     ]
    },
    {
     "data": {
      "application/vnd.jupyter.widget-view+json": {
       "model_id": "6e8971f544b24ad89b9a903c1f043fc0",
       "version_major": 2,
       "version_minor": 0
      },
      "text/plain": [
       "  0%|          | 0/10 [00:00<?, ?it/s]"
      ]
     },
     "metadata": {},
     "output_type": "display_data"
    },
    {
     "name": "stdout",
     "output_type": "stream",
     "text": [
      "{\"['d1', 'd2']\": 0, \"['d1', 'd3']\": 10, \"['d1', 'd4']\": 10, \"['d2', 'd3']\": 10, \"['d2', 'd4']\": 10, \"['d3', 'd4']\": 0, \"['d1', 'd2', 'd3']\": 10}\n"
     ]
    },
    {
     "data": {
      "application/vnd.jupyter.widget-view+json": {
       "model_id": "e4df0770bbe3417ca631ebaba83418af",
       "version_major": 2,
       "version_minor": 0
      },
      "text/plain": [
       "  0%|          | 0/10 [00:00<?, ?it/s]"
      ]
     },
     "metadata": {},
     "output_type": "display_data"
    },
    {
     "name": "stdout",
     "output_type": "stream",
     "text": [
      "{\"['d1', 'd2']\": 0, \"['d1', 'd3']\": 10, \"['d1', 'd4']\": 10, \"['d2', 'd3']\": 10, \"['d2', 'd4']\": 10, \"['d3', 'd4']\": 0, \"['d1', 'd2', 'd3']\": 10, \"['d1', 'd2', 'd4']\": 10}\n"
     ]
    },
    {
     "data": {
      "application/vnd.jupyter.widget-view+json": {
       "model_id": "714fe4c8255a4c738351d4075e5e53fa",
       "version_major": 2,
       "version_minor": 0
      },
      "text/plain": [
       "  0%|          | 0/10 [00:00<?, ?it/s]"
      ]
     },
     "metadata": {},
     "output_type": "display_data"
    },
    {
     "name": "stdout",
     "output_type": "stream",
     "text": [
      "{\"['d1', 'd2']\": 0, \"['d1', 'd3']\": 10, \"['d1', 'd4']\": 10, \"['d2', 'd3']\": 10, \"['d2', 'd4']\": 10, \"['d3', 'd4']\": 0, \"['d1', 'd2', 'd3']\": 10, \"['d1', 'd2', 'd4']\": 10, \"['d1', 'd3', 'd4']\": 10}\n"
     ]
    },
    {
     "data": {
      "application/vnd.jupyter.widget-view+json": {
       "model_id": "83c4fe7a461b42029be192cfa9877de5",
       "version_major": 2,
       "version_minor": 0
      },
      "text/plain": [
       "  0%|          | 0/10 [00:00<?, ?it/s]"
      ]
     },
     "metadata": {},
     "output_type": "display_data"
    },
    {
     "name": "stdout",
     "output_type": "stream",
     "text": [
      "{\"['d1', 'd2']\": 0, \"['d1', 'd3']\": 10, \"['d1', 'd4']\": 10, \"['d2', 'd3']\": 10, \"['d2', 'd4']\": 10, \"['d3', 'd4']\": 0, \"['d1', 'd2', 'd3']\": 10, \"['d1', 'd2', 'd4']\": 10, \"['d1', 'd3', 'd4']\": 10, \"['d2', 'd3', 'd4']\": 10}\n"
     ]
    },
    {
     "data": {
      "application/vnd.jupyter.widget-view+json": {
       "model_id": "ba3f6c250ed54d04896fd326025bb5f2",
       "version_major": 2,
       "version_minor": 0
      },
      "text/plain": [
       "  0%|          | 0/10 [00:00<?, ?it/s]"
      ]
     },
     "metadata": {},
     "output_type": "display_data"
    },
    {
     "name": "stdout",
     "output_type": "stream",
     "text": [
      "{\"['d1', 'd2']\": 0, \"['d1', 'd3']\": 10, \"['d1', 'd4']\": 10, \"['d2', 'd3']\": 10, \"['d2', 'd4']\": 10, \"['d3', 'd4']\": 0, \"['d1', 'd2', 'd3']\": 10, \"['d1', 'd2', 'd4']\": 10, \"['d1', 'd3', 'd4']\": 10, \"['d2', 'd3', 'd4']\": 10, \"['d1', 'd2', 'd3', 'd4']\": 10}\n"
     ]
    }
   ],
   "source": [
    "power = {}\n",
    "for (name, klist) in tqdm(zip(power_set_name, power_set), total=len(power_set)):\n",
    "    rejects = 0\n",
    "    for i in tqdm(range(10)):\n",
    "        _, _, _, reject = test_independence(klist, None, n_perms=1000, alpha=0.05, mode = 'permutation')\n",
    "        rejects = rejects + reject\n",
    "    power[str(name)] = rejects\n",
    "    print(power)"
   ]
  },
  {
   "cell_type": "code",
   "execution_count": 140,
   "id": "c560e954-0ae2-4b26-bdd2-fb65b12bb4eb",
   "metadata": {},
   "outputs": [
    {
     "data": {
      "text/plain": [
       "{\"['d1', 'd2']\": 0,\n",
       " \"['d1', 'd3']\": 10,\n",
       " \"['d1', 'd4']\": 10,\n",
       " \"['d2', 'd3']\": 10,\n",
       " \"['d2', 'd4']\": 10,\n",
       " \"['d3', 'd4']\": 0,\n",
       " \"['d1', 'd2', 'd3']\": 10,\n",
       " \"['d1', 'd2', 'd4']\": 10,\n",
       " \"['d1', 'd3', 'd4']\": 10,\n",
       " \"['d2', 'd3', 'd4']\": 10,\n",
       " \"['d1', 'd2', 'd3', 'd4']\": 10}"
      ]
     },
     "execution_count": 140,
     "metadata": {},
     "output_type": "execute_result"
    }
   ],
   "source": [
    "power"
   ]
  },
  {
   "cell_type": "code",
   "execution_count": 172,
   "id": "780e4686-9445-4449-ad62-cf5caa6a1fef",
   "metadata": {},
   "outputs": [
    {
     "data": {
      "text/plain": [
       "[<matplotlib.lines.Line2D at 0x7fd36a336c10>]"
      ]
     },
     "execution_count": 172,
     "metadata": {},
     "output_type": "execute_result"
    },
    {
     "data": {
      "image/png": "[encoded data removed]",
      "text/plain": [
       "<Figure size 432x288 with 1 Axes>"
      ]
     },
     "metadata": {
      "needs_background": "light"
     },
     "output_type": "display_data"
    }
   ],
   "source": [
    "plt.plot(md1[0,:], md2[0,:])"
   ]
  },
  {
   "cell_type": "code",
   "execution_count": 307,
   "id": "16bf854f-bb1a-435b-871c-a8f63e50b184",
   "metadata": {},
   "outputs": [],
   "source": [
    "mat = scipy.io.loadmat('lin1k.mat')"
   ]
  },
  {
   "cell_type": "code",
   "execution_count": 308,
   "id": "48bea396-baa6-4217-b436-cf2d189e30c6",
   "metadata": {},
   "outputs": [
    {
     "data": {
      "text/plain": [
       "(1000, 4, 3000)"
      ]
     },
     "execution_count": 308,
     "metadata": {},
     "output_type": "execute_result"
    }
   ],
   "source": [
    "mat['all_samples'].shape"
   ]
  },
  {
   "cell_type": "code",
   "execution_count": 309,
   "id": "7b3b83a8-bc69-4afa-aad3-fba10586e9d5",
   "metadata": {},
   "outputs": [
    {
     "name": "stdout",
     "output_type": "stream",
     "text": [
      "(500, 50)\n",
      "(500, 500)\n"
     ]
    }
   ],
   "source": [
    "md1 = mat['all_samples'][0:500,0,450:500]\n",
    "md2 = mat['all_samples'][0:500,1,450:500]\n",
    "md3 = mat['all_samples'][0:500,2,450:500]\n",
    "md4 = mat['all_samples'][0:500,3,450:500]\n",
    "print(md1.shape)\n",
    "kmd1 = compute_kernel_n(md1)\n",
    "kmd2 = compute_kernel_n(md2)\n",
    "kmd3 = compute_kernel_n(md3)\n",
    "kmd4 = compute_kernel_n(md4)\n",
    "print(kmd1.shape)"
   ]
  },
  {
   "cell_type": "code",
   "execution_count": 310,
   "id": "cb78b677-e6a0-475f-b740-c5c56107d62b",
   "metadata": {},
   "outputs": [],
   "source": [
    "power_set = find_comb([kmd1, kmd2, kmd3, kmd4])"
   ]
  },
  {
   "cell_type": "code",
   "execution_count": 311,
   "id": "c9b0eaf0-2bd3-42c0-b81f-c5b1c1d12771",
   "metadata": {
    "tags": []
   },
   "outputs": [],
   "source": [
    "power_set_name = find_comb(['d1', 'd2', 'd3', 'd4'])"
   ]
  },
  {
   "cell_type": "code",
   "execution_count": 312,
   "id": "1b932e75-22e5-4d27-972f-ea6227c98a7b",
   "metadata": {
    "tags": []
   },
   "outputs": [
    {
     "data": {
      "application/vnd.jupyter.widget-view+json": {
       "model_id": "0f6b9e70c3ea49b4b57c161f560603a3",
       "version_major": 2,
       "version_minor": 0
      },
      "text/plain": [
       "  0%|          | 0/11 [00:00<?, ?it/s]"
      ]
     },
     "metadata": {},
     "output_type": "display_data"
    },
    {
     "data": {
      "application/vnd.jupyter.widget-view+json": {
       "model_id": "95f38b6457ec4f4f9f340b6a6dcbc38c",
       "version_major": 2,
       "version_minor": 0
      },
      "text/plain": [
       "  0%|          | 0/10 [00:00<?, ?it/s]"
      ]
     },
     "metadata": {},
     "output_type": "display_data"
    },
    {
     "name": "stdout",
     "output_type": "stream",
     "text": [
      "{\"['d1', 'd2']\": 10}\n"
     ]
    },
    {
     "data": {
      "application/vnd.jupyter.widget-view+json": {
       "model_id": "140eb63339a349f780ab13c67d6c0500",
       "version_major": 2,
       "version_minor": 0
      },
      "text/plain": [
       "  0%|          | 0/10 [00:00<?, ?it/s]"
      ]
     },
     "metadata": {},
     "output_type": "display_data"
    },
    {
     "name": "stdout",
     "output_type": "stream",
     "text": [
      "{\"['d1', 'd2']\": 10, \"['d1', 'd3']\": 10}\n"
     ]
    },
    {
     "data": {
      "application/vnd.jupyter.widget-view+json": {
       "model_id": "f13e09e8cc58499484d36bf62ec687de",
       "version_major": 2,
       "version_minor": 0
      },
      "text/plain": [
       "  0%|          | 0/10 [00:00<?, ?it/s]"
      ]
     },
     "metadata": {},
     "output_type": "display_data"
    },
    {
     "ename": "KeyboardInterrupt",
     "evalue": "",
     "output_type": "error",
     "traceback": [
      "\u001b[0;31m---------------------------------------------------------------------------\u001b[0m",
      "\u001b[0;31mKeyboardInterrupt\u001b[0m                         Traceback (most recent call last)",
      "Input \u001b[0;32mIn [312]\u001b[0m, in \u001b[0;36m<cell line: 2>\u001b[0;34m()\u001b[0m\n\u001b[1;32m      3\u001b[0m rejects \u001b[38;5;241m=\u001b[39m \u001b[38;5;241m0\u001b[39m\n\u001b[1;32m      4\u001b[0m \u001b[38;5;28;01mfor\u001b[39;00m i \u001b[38;5;129;01min\u001b[39;00m tqdm(\u001b[38;5;28mrange\u001b[39m(\u001b[38;5;241m10\u001b[39m)):\n\u001b[0;32m----> 5\u001b[0m     _, _, _, reject \u001b[38;5;241m=\u001b[39m \u001b[43mtest_independence\u001b[49m\u001b[43m(\u001b[49m\u001b[43mklist\u001b[49m\u001b[43m,\u001b[49m\u001b[43m \u001b[49m\u001b[38;5;28;43;01mNone\u001b[39;49;00m\u001b[43m,\u001b[49m\u001b[43m \u001b[49m\u001b[43mn_perms\u001b[49m\u001b[38;5;241;43m=\u001b[39;49m\u001b[38;5;241;43m300\u001b[39;49m\u001b[43m,\u001b[49m\u001b[43m \u001b[49m\u001b[43malpha\u001b[49m\u001b[38;5;241;43m=\u001b[39;49m\u001b[38;5;241;43m0.05\u001b[39;49m\u001b[43m,\u001b[49m\u001b[43m \u001b[49m\u001b[43mmode\u001b[49m\u001b[43m \u001b[49m\u001b[38;5;241;43m=\u001b[39;49m\u001b[43m \u001b[49m\u001b[38;5;124;43m'\u001b[39;49m\u001b[38;5;124;43mpermutation\u001b[39;49m\u001b[38;5;124;43m'\u001b[39;49m\u001b[43m)\u001b[49m\n\u001b[1;32m      6\u001b[0m     rejects \u001b[38;5;241m=\u001b[39m rejects \u001b[38;5;241m+\u001b[39m reject\n\u001b[1;32m      7\u001b[0m power[\u001b[38;5;28mstr\u001b[39m(name)] \u001b[38;5;241m=\u001b[39m rejects\n",
      "File \u001b[0;32m/Users/Tim/PycharmProjects/HOI/HOI/tests.py:237\u001b[0m, in \u001b[0;36mtest_independence\u001b[0;34m(k_list, data_list, n_perms, alpha, mode)\u001b[0m\n\u001b[1;32m    235\u001b[0m \u001b[38;5;28;01mif\u001b[39;00m mode \u001b[38;5;241m==\u001b[39m \u001b[38;5;124m'\u001b[39m\u001b[38;5;124mpermutation\u001b[39m\u001b[38;5;124m'\u001b[39m:\n\u001b[1;32m    236\u001b[0m     statistic \u001b[38;5;241m=\u001b[39m compute_dHSIC_statistics(k_list)\n\u001b[0;32m--> 237\u001b[0m     critical_value, pval \u001b[38;5;241m=\u001b[39m \u001b[43mdhsic_permutation\u001b[49m\u001b[43m(\u001b[49m\u001b[43mk_list\u001b[49m\u001b[43m,\u001b[49m\u001b[43m \u001b[49m\u001b[43mn_samples\u001b[49m\u001b[43m,\u001b[49m\u001b[43m \u001b[49m\u001b[43mn_variables\u001b[49m\u001b[43m,\u001b[49m\u001b[43m \u001b[49m\u001b[43mstatistic\u001b[49m\u001b[43m,\u001b[49m\u001b[43m \u001b[49m\u001b[43mn_perms\u001b[49m\u001b[43m,\u001b[49m\u001b[43m \u001b[49m\u001b[43malpha\u001b[49m\u001b[43m)\u001b[49m\n\u001b[1;32m    238\u001b[0m     reject \u001b[38;5;241m=\u001b[39m \u001b[38;5;28mint\u001b[39m(statistic \u001b[38;5;241m>\u001b[39m critical_value)\n\u001b[1;32m    239\u001b[0m     \u001b[38;5;28;01mreturn\u001b[39;00m statistic, critical_value, pval, reject\n",
      "File \u001b[0;32m/Users/Tim/PycharmProjects/HOI/HOI/tests.py:26\u001b[0m, in \u001b[0;36mdhsic_permutation\u001b[0;34m(k_list, n_samples, n_variables, stat_found, n_perms, alpha)\u001b[0m\n\u001b[1;32m     24\u001b[0m \u001b[38;5;28;01mfor\u001b[39;00m i \u001b[38;5;129;01min\u001b[39;00m \u001b[38;5;28mrange\u001b[39m(n_perms):\n\u001b[1;32m     25\u001b[0m     term1 \u001b[38;5;241m=\u001b[39m k_list[\u001b[38;5;241m0\u001b[39m]\n\u001b[0;32m---> 26\u001b[0m     term2 \u001b[38;5;241m=\u001b[39m \u001b[43mnp\u001b[49m\u001b[38;5;241;43m.\u001b[39;49m\u001b[43msum\u001b[49m\u001b[43m(\u001b[49m\u001b[43mk_list\u001b[49m\u001b[43m[\u001b[49m\u001b[38;5;241;43m0\u001b[39;49m\u001b[43m]\u001b[49m\u001b[43m)\u001b[49m \u001b[38;5;241m/\u001b[39m (n_samples \u001b[38;5;241m*\u001b[39m\u001b[38;5;241m*\u001b[39m \u001b[38;5;241m2\u001b[39m)\n\u001b[1;32m     27\u001b[0m     term3 \u001b[38;5;241m=\u001b[39m \u001b[38;5;241m2\u001b[39m \u001b[38;5;241m*\u001b[39m np\u001b[38;5;241m.\u001b[39msum(k_list[\u001b[38;5;241m0\u001b[39m], axis\u001b[38;5;241m=\u001b[39m\u001b[38;5;241m0\u001b[39m) \u001b[38;5;241m/\u001b[39m (n_samples \u001b[38;5;241m*\u001b[39m\u001b[38;5;241m*\u001b[39m \u001b[38;5;241m2\u001b[39m)\n\u001b[1;32m     29\u001b[0m     \u001b[38;5;28;01mfor\u001b[39;00m j \u001b[38;5;129;01min\u001b[39;00m \u001b[38;5;28mrange\u001b[39m(\u001b[38;5;241m1\u001b[39m, n_variables):\n",
      "File \u001b[0;32m<__array_function__ internals>:5\u001b[0m, in \u001b[0;36msum\u001b[0;34m(*args, **kwargs)\u001b[0m\n",
      "File \u001b[0;32m~/opt/anaconda3/lib/python3.9/site-packages/numpy/core/fromnumeric.py:2259\u001b[0m, in \u001b[0;36msum\u001b[0;34m(a, axis, dtype, out, keepdims, initial, where)\u001b[0m\n\u001b[1;32m   2256\u001b[0m         \u001b[38;5;28;01mreturn\u001b[39;00m out\n\u001b[1;32m   2257\u001b[0m     \u001b[38;5;28;01mreturn\u001b[39;00m res\n\u001b[0;32m-> 2259\u001b[0m \u001b[38;5;28;01mreturn\u001b[39;00m \u001b[43m_wrapreduction\u001b[49m\u001b[43m(\u001b[49m\u001b[43ma\u001b[49m\u001b[43m,\u001b[49m\u001b[43m \u001b[49m\u001b[43mnp\u001b[49m\u001b[38;5;241;43m.\u001b[39;49m\u001b[43madd\u001b[49m\u001b[43m,\u001b[49m\u001b[43m \u001b[49m\u001b[38;5;124;43m'\u001b[39;49m\u001b[38;5;124;43msum\u001b[39;49m\u001b[38;5;124;43m'\u001b[39;49m\u001b[43m,\u001b[49m\u001b[43m \u001b[49m\u001b[43maxis\u001b[49m\u001b[43m,\u001b[49m\u001b[43m \u001b[49m\u001b[43mdtype\u001b[49m\u001b[43m,\u001b[49m\u001b[43m \u001b[49m\u001b[43mout\u001b[49m\u001b[43m,\u001b[49m\u001b[43m \u001b[49m\u001b[43mkeepdims\u001b[49m\u001b[38;5;241;43m=\u001b[39;49m\u001b[43mkeepdims\u001b[49m\u001b[43m,\u001b[49m\n\u001b[1;32m   2260\u001b[0m \u001b[43m                      \u001b[49m\u001b[43minitial\u001b[49m\u001b[38;5;241;43m=\u001b[39;49m\u001b[43minitial\u001b[49m\u001b[43m,\u001b[49m\u001b[43m \u001b[49m\u001b[43mwhere\u001b[49m\u001b[38;5;241;43m=\u001b[39;49m\u001b[43mwhere\u001b[49m\u001b[43m)\u001b[49m\n",
      "File \u001b[0;32m~/opt/anaconda3/lib/python3.9/site-packages/numpy/core/fromnumeric.py:86\u001b[0m, in \u001b[0;36m_wrapreduction\u001b[0;34m(obj, ufunc, method, axis, dtype, out, **kwargs)\u001b[0m\n\u001b[1;32m     83\u001b[0m         \u001b[38;5;28;01melse\u001b[39;00m:\n\u001b[1;32m     84\u001b[0m             \u001b[38;5;28;01mreturn\u001b[39;00m reduction(axis\u001b[38;5;241m=\u001b[39maxis, out\u001b[38;5;241m=\u001b[39mout, \u001b[38;5;241m*\u001b[39m\u001b[38;5;241m*\u001b[39mpasskwargs)\n\u001b[0;32m---> 86\u001b[0m \u001b[38;5;28;01mreturn\u001b[39;00m \u001b[43mufunc\u001b[49m\u001b[38;5;241;43m.\u001b[39;49m\u001b[43mreduce\u001b[49m\u001b[43m(\u001b[49m\u001b[43mobj\u001b[49m\u001b[43m,\u001b[49m\u001b[43m \u001b[49m\u001b[43maxis\u001b[49m\u001b[43m,\u001b[49m\u001b[43m \u001b[49m\u001b[43mdtype\u001b[49m\u001b[43m,\u001b[49m\u001b[43m \u001b[49m\u001b[43mout\u001b[49m\u001b[43m,\u001b[49m\u001b[43m \u001b[49m\u001b[38;5;241;43m*\u001b[39;49m\u001b[38;5;241;43m*\u001b[39;49m\u001b[43mpasskwargs\u001b[49m\u001b[43m)\u001b[49m\n",
      "\u001b[0;31mKeyboardInterrupt\u001b[0m: "
     ]
    }
   ],
   "source": [
    "power = {}\n",
    "for (name, klist) in tqdm(zip(power_set_name, power_set), total=len(power_set)):\n",
    "    rejects = 0\n",
    "    for i in tqdm(range(10)):\n",
    "        _, _, _, reject = test_independence(klist, None, n_perms=300, alpha=0.05, mode = 'permutation')\n",
    "        rejects = rejects + reject\n",
    "    power[str(name)] = rejects\n",
    "    print(power)"
   ]
  },
  {
   "cell_type": "code",
   "execution_count": null,
   "id": "d6adb059-8679-41e2-82a5-cd8a6ffbba00",
   "metadata": {},
   "outputs": [],
   "source": []
  }
 ],
 "metadata": {
  "kernelspec": {
   "display_name": "Python 3 (ipykernel)",
   "language": "python",
   "name": "python3"
  },
  "language_info": {
   "codemirror_mode": {
    "name": "ipython",
    "version": 3
   },
   "file_extension": ".py",
   "mimetype": "text/x-python",
   "name": "python",
   "nbconvert_exporter": "python",
   "pygments_lexer": "ipython3",
   "version": "3.10.4"
  }
 },
 "nbformat": 4,
 "nbformat_minor": 5
}

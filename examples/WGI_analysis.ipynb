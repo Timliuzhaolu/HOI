{
 "cells": [
  {
   "cell_type": "code",
   "execution_count": 1,
   "id": "bd058953-bcf9-4709-ab9a-1a0fe4301d20",
   "metadata": {},
   "outputs": [],
   "source": [
    "%load_ext autoreload\n",
    "%autoreload 2"
   ]
  },
  {
   "cell_type": "code",
   "execution_count": 2,
   "id": "9f87e948-df00-4de1-9e2d-53b50e723107",
   "metadata": {},
   "outputs": [],
   "source": [
    "import numpy as np\n",
    "import pandas as pd\n",
    "import os\n",
    "from tqdm.notebook import tqdm\n",
    "import matplotlib.pyplot as plt\n",
    "import itertools\n",
    "from sklearn.preprocessing import StandardScaler"
   ]
  },
  {
   "cell_type": "code",
   "execution_count": 3,
   "id": "bd87ed1f-1533-479f-a5fb-4faa32d3d00e",
   "metadata": {},
   "outputs": [],
   "source": [
    "import sys\n",
    "sys.path.append('/Users/Tim/PycharmProjects/HOI/')"
   ]
  },
  {
   "cell_type": "code",
   "execution_count": 4,
   "id": "e37c20cd-e3dd-47fe-88f4-9630ebad1b12",
   "metadata": {},
   "outputs": [],
   "source": [
    "from HOI.preprocessings import compute_kernel, compute_kernel_n\n",
    "from HOI.tests import test_independence\n",
    "from synthetic_data import stationary_pb_ts, nonstationary_ts_n, stationary_pb_ts_n"
   ]
  },
  {
   "cell_type": "code",
   "execution_count": 28,
   "id": "05b55e56-3984-457c-8d96-acc7bc47053f",
   "metadata": {},
   "outputs": [],
   "source": [
    "def find_comb(var):\n",
    "    power_set = []\n",
    "    for L in range(len(var) + 1):\n",
    "        for subset in itertools.combinations(var, L):\n",
    "            if len(subset) >= 2:\n",
    "                power_set.append(list(subset))\n",
    "    return power_set"
   ]
  },
  {
   "cell_type": "code",
   "execution_count": 5,
   "id": "5ff826fe-36f0-4ea8-b94e-c629463cdad1",
   "metadata": {},
   "outputs": [
    {
     "data": {
      "text/plain": [
       "'/Users/tim/PycharmProjects/HOI/examples'"
      ]
     },
     "execution_count": 5,
     "metadata": {},
     "output_type": "execute_result"
    }
   ],
   "source": [
    "os.getcwd()"
   ]
  },
  {
   "cell_type": "markdown",
   "id": "bb0e7232-e604-4ea4-9677-a319f706c695",
   "metadata": {},
   "source": [
    "# data preprocessing from Felix's code"
   ]
  },
  {
   "cell_type": "code",
   "execution_count": 203,
   "id": "c5cb7171-b6c8-4bf3-8f49-e93121383a88",
   "metadata": {},
   "outputs": [],
   "source": [
    "df_VA = pd.read_excel('/Users/tim/PycharmProjects/HOI/examples/data/wgidataset.xlsx', sheet_name='VoiceandAccountability', header=13).rename(columns={'Unnamed: 0': 'Country'})\n",
    "df_PS = pd.read_excel('/Users/tim/PycharmProjects/HOI/examples/data/wgidataset.xlsx', sheet_name='Political StabilityNoViolence', header=13).rename(columns={'Unnamed: 0': 'Country'})\n",
    "df_GE = pd.read_excel('/Users/tim/PycharmProjects/HOI/examples/data/wgidataset.xlsx', sheet_name='GovernmentEffectiveness', header=13).rename(columns={'Unnamed: 0': 'Country'})\n",
    "df_RQ = pd.read_excel('/Users/tim/PycharmProjects/HOI/examples/data/wgidataset.xlsx', sheet_name='RegulatoryQuality', header=13).rename(columns={'Unnamed: 0': 'Country'})\n",
    "df_RL = pd.read_excel('/Users/tim/PycharmProjects/HOI/examples/data/wgidataset.xlsx', sheet_name='RuleofLaw', header=13).rename(columns={'Unnamed: 0': 'Country'})\n",
    "df_CC = pd.read_excel('/Users/tim/PycharmProjects/HOI/examples/data/wgidataset.xlsx', sheet_name='ControlofCorruption', header=13).rename(columns={'Unnamed: 0': 'Country'})"
   ]
  },
  {
   "cell_type": "code",
   "execution_count": 204,
   "id": "7633413e-dc21-44a2-9a7e-718b9c032f3b",
   "metadata": {},
   "outputs": [],
   "source": [
    "dfs = [df_VA, df_PS, df_GE, df_RQ, df_RL, df_CC]"
   ]
  },
  {
   "cell_type": "code",
   "execution_count": 205,
   "id": "c5dd5cf9-bfc6-413d-86c7-c74b3a871552",
   "metadata": {},
   "outputs": [],
   "source": [
    "for df in dfs:\n",
    "    df.drop(columns=[c for c in df if c!='Country' and c not in list(np.arange(1996, 2021, 1))],inplace=True)\n",
    "    df.drop(index=0, inplace=True)\n",
    "    df.dropna(inplace=True)"
   ]
  },
  {
   "cell_type": "code",
   "execution_count": 206,
   "id": "f136470b-4a6a-476c-a948-29f06e3bab65",
   "metadata": {},
   "outputs": [],
   "source": [
    "columns = ['Country', 1996, 1997, 1998, 1999, 2000, 2001, 2002, 2003, 2004, 2005, 2006, 2007, 2008, 2009, 2010, 2011, 2012, 2013, 2014, 2015, 2016, 2017, 2018, 2019, 2020]"
   ]
  },
  {
   "cell_type": "code",
   "execution_count": 207,
   "id": "83f24326-14a1-4494-984c-76ef4068e76b",
   "metadata": {},
   "outputs": [],
   "source": [
    "for df in dfs:\n",
    "    for y in np.arange(1996, 2021, 1):\n",
    "        if y not in df.columns:\n",
    "            df[y] = np.nan\n",
    "    \n",
    "    df[np.arange(1996, 2021, 1)] = df[np.arange(1996, 2021, 1)].astype(float).interpolate(axis=1)"
   ]
  },
  {
   "cell_type": "code",
   "execution_count": 208,
   "id": "21d71daa-7d3f-45a3-9c98-2dfcd2041fc6",
   "metadata": {},
   "outputs": [],
   "source": [
    "df_VA = df_VA[columns]\n",
    "df_PS = df_PS[columns]\n",
    "df_GE = df_GE[columns]\n",
    "df_RQ = df_RQ[columns]\n",
    "df_RL = df_RL[columns]\n",
    "df_CC = df_CC[columns]"
   ]
  },
  {
   "cell_type": "code",
   "execution_count": 209,
   "id": "c3ca2d5d-da63-4ff8-a760-cb1077dc6a16",
   "metadata": {},
   "outputs": [],
   "source": [
    "countries = set(df_VA['Country']) & set(df_PS['Country']) & set(df_GE['Country']) & set(df_RQ['Country']) & set(df_RL['Country']) & set(df_CC['Country'])"
   ]
  },
  {
   "cell_type": "code",
   "execution_count": 210,
   "id": "4443dc22-65c6-4ab7-aec2-3e5ab1d99abf",
   "metadata": {},
   "outputs": [],
   "source": [
    "df_VA = df_VA.loc[df_VA['Country'].isin(countries)]\n",
    "df_PS = df_PS.loc[df_PS['Country'].isin(countries)]\n",
    "df_GE = df_GE.loc[df_GE['Country'].isin(countries)]\n",
    "df_RQ = df_RQ.loc[df_RQ['Country'].isin(countries)]\n",
    "df_RL = df_RL.loc[df_RL['Country'].isin(countries)]\n",
    "df_CC = df_CC.loc[df_CC['Country'].isin(countries)]"
   ]
  },
  {
   "cell_type": "code",
   "execution_count": 211,
   "id": "efacdefd-cbca-41d0-a198-4f38e5c50815",
   "metadata": {},
   "outputs": [
    {
     "data": {
      "text/plain": [
       "(182, 26)"
      ]
     },
     "execution_count": 211,
     "metadata": {},
     "output_type": "execute_result"
    }
   ],
   "source": [
    "df_RQ.shape"
   ]
  },
  {
   "cell_type": "code",
   "execution_count": 212,
   "id": "473eaebe-01bc-49b7-ab89-8d0ad3f66bea",
   "metadata": {},
   "outputs": [
    {
     "data": {
      "text/html": [
       "<div>\n",
       "<style scoped>\n",
       "    .dataframe tbody tr th:only-of-type {\n",
       "        vertical-align: middle;\n",
       "    }\n",
       "\n",
       "    .dataframe tbody tr th {\n",
       "        vertical-align: top;\n",
       "    }\n",
       "\n",
       "    .dataframe thead th {\n",
       "        text-align: right;\n",
       "    }\n",
       "</style>\n",
       "<table border=\"1\" class=\"dataframe\">\n",
       "  <thead>\n",
       "    <tr style=\"text-align: right;\">\n",
       "      <th></th>\n",
       "      <th>Country</th>\n",
       "      <th>1996</th>\n",
       "      <th>1997</th>\n",
       "      <th>1998</th>\n",
       "      <th>1999</th>\n",
       "      <th>2000</th>\n",
       "      <th>2001</th>\n",
       "      <th>2002</th>\n",
       "      <th>2003</th>\n",
       "      <th>2004</th>\n",
       "      <th>...</th>\n",
       "      <th>2011</th>\n",
       "      <th>2012</th>\n",
       "      <th>2013</th>\n",
       "      <th>2014</th>\n",
       "      <th>2015</th>\n",
       "      <th>2016</th>\n",
       "      <th>2017</th>\n",
       "      <th>2018</th>\n",
       "      <th>2019</th>\n",
       "      <th>2020</th>\n",
       "    </tr>\n",
       "  </thead>\n",
       "  <tbody>\n",
       "    <tr>\n",
       "      <th>2</th>\n",
       "      <td>Andorra</td>\n",
       "      <td>1.563217</td>\n",
       "      <td>1.545988</td>\n",
       "      <td>1.528759</td>\n",
       "      <td>1.532207</td>\n",
       "      <td>1.535655</td>\n",
       "      <td>1.486392</td>\n",
       "      <td>1.437128</td>\n",
       "      <td>1.422262</td>\n",
       "      <td>1.563077</td>\n",
       "      <td>...</td>\n",
       "      <td>1.360453</td>\n",
       "      <td>1.433838</td>\n",
       "      <td>1.406642</td>\n",
       "      <td>1.165939</td>\n",
       "      <td>1.194477</td>\n",
       "      <td>1.176598</td>\n",
       "      <td>1.161647</td>\n",
       "      <td>1.036913</td>\n",
       "      <td>1.110124</td>\n",
       "      <td>1.089068</td>\n",
       "    </tr>\n",
       "    <tr>\n",
       "      <th>3</th>\n",
       "      <td>Afghanistan</td>\n",
       "      <td>-1.908540</td>\n",
       "      <td>-1.973921</td>\n",
       "      <td>-2.039301</td>\n",
       "      <td>-2.035359</td>\n",
       "      <td>-2.031417</td>\n",
       "      <td>-1.732419</td>\n",
       "      <td>-1.433421</td>\n",
       "      <td>-1.177571</td>\n",
       "      <td>-1.203034</td>\n",
       "      <td>...</td>\n",
       "      <td>-1.335977</td>\n",
       "      <td>-1.267430</td>\n",
       "      <td>-1.240068</td>\n",
       "      <td>-1.135445</td>\n",
       "      <td>-1.117563</td>\n",
       "      <td>-1.037838</td>\n",
       "      <td>-0.990854</td>\n",
       "      <td>-1.011603</td>\n",
       "      <td>-1.006792</td>\n",
       "      <td>-1.083459</td>\n",
       "    </tr>\n",
       "    <tr>\n",
       "      <th>4</th>\n",
       "      <td>Angola</td>\n",
       "      <td>-1.578164</td>\n",
       "      <td>-1.495021</td>\n",
       "      <td>-1.411879</td>\n",
       "      <td>-1.434972</td>\n",
       "      <td>-1.458065</td>\n",
       "      <td>-1.348422</td>\n",
       "      <td>-1.238779</td>\n",
       "      <td>-1.272615</td>\n",
       "      <td>-1.285480</td>\n",
       "      <td>...</td>\n",
       "      <td>-1.125478</td>\n",
       "      <td>-1.076247</td>\n",
       "      <td>-1.113843</td>\n",
       "      <td>-1.145494</td>\n",
       "      <td>-1.177248</td>\n",
       "      <td>-1.139600</td>\n",
       "      <td>-1.097939</td>\n",
       "      <td>-0.906303</td>\n",
       "      <td>-0.783532</td>\n",
       "      <td>-0.810628</td>\n",
       "    </tr>\n",
       "    <tr>\n",
       "      <th>6</th>\n",
       "      <td>Albania</td>\n",
       "      <td>-0.648298</td>\n",
       "      <td>-0.517835</td>\n",
       "      <td>-0.387373</td>\n",
       "      <td>-0.336256</td>\n",
       "      <td>-0.285139</td>\n",
       "      <td>-0.146644</td>\n",
       "      <td>-0.008150</td>\n",
       "      <td>0.070308</td>\n",
       "      <td>0.007238</td>\n",
       "      <td>...</td>\n",
       "      <td>0.062334</td>\n",
       "      <td>0.022064</td>\n",
       "      <td>0.048893</td>\n",
       "      <td>0.143761</td>\n",
       "      <td>0.157149</td>\n",
       "      <td>0.170927</td>\n",
       "      <td>0.203785</td>\n",
       "      <td>0.180734</td>\n",
       "      <td>0.142711</td>\n",
       "      <td>0.087340</td>\n",
       "    </tr>\n",
       "    <tr>\n",
       "      <th>8</th>\n",
       "      <td>United Arab Emirates</td>\n",
       "      <td>-0.409404</td>\n",
       "      <td>-0.464283</td>\n",
       "      <td>-0.519163</td>\n",
       "      <td>-0.518002</td>\n",
       "      <td>-0.516841</td>\n",
       "      <td>-0.574192</td>\n",
       "      <td>-0.631544</td>\n",
       "      <td>-0.912192</td>\n",
       "      <td>-0.687913</td>\n",
       "      <td>...</td>\n",
       "      <td>-0.896244</td>\n",
       "      <td>-1.000819</td>\n",
       "      <td>-1.019484</td>\n",
       "      <td>-1.061369</td>\n",
       "      <td>-1.112425</td>\n",
       "      <td>-1.050371</td>\n",
       "      <td>-1.096847</td>\n",
       "      <td>-1.126925</td>\n",
       "      <td>-1.140149</td>\n",
       "      <td>-1.184305</td>\n",
       "    </tr>\n",
       "  </tbody>\n",
       "</table>\n",
       "<p>5 rows × 26 columns</p>\n",
       "</div>"
      ],
      "text/plain": [
       "                Country      1996      1997      1998      1999      2000  \\\n",
       "2               Andorra  1.563217  1.545988  1.528759  1.532207  1.535655   \n",
       "3           Afghanistan -1.908540 -1.973921 -2.039301 -2.035359 -2.031417   \n",
       "4                Angola -1.578164 -1.495021 -1.411879 -1.434972 -1.458065   \n",
       "6               Albania -0.648298 -0.517835 -0.387373 -0.336256 -0.285139   \n",
       "8  United Arab Emirates -0.409404 -0.464283 -0.519163 -0.518002 -0.516841   \n",
       "\n",
       "       2001      2002      2003      2004  ...      2011      2012      2013  \\\n",
       "2  1.486392  1.437128  1.422262  1.563077  ...  1.360453  1.433838  1.406642   \n",
       "3 -1.732419 -1.433421 -1.177571 -1.203034  ... -1.335977 -1.267430 -1.240068   \n",
       "4 -1.348422 -1.238779 -1.272615 -1.285480  ... -1.125478 -1.076247 -1.113843   \n",
       "6 -0.146644 -0.008150  0.070308  0.007238  ...  0.062334  0.022064  0.048893   \n",
       "8 -0.574192 -0.631544 -0.912192 -0.687913  ... -0.896244 -1.000819 -1.019484   \n",
       "\n",
       "       2014      2015      2016      2017      2018      2019      2020  \n",
       "2  1.165939  1.194477  1.176598  1.161647  1.036913  1.110124  1.089068  \n",
       "3 -1.135445 -1.117563 -1.037838 -0.990854 -1.011603 -1.006792 -1.083459  \n",
       "4 -1.145494 -1.177248 -1.139600 -1.097939 -0.906303 -0.783532 -0.810628  \n",
       "6  0.143761  0.157149  0.170927  0.203785  0.180734  0.142711  0.087340  \n",
       "8 -1.061369 -1.112425 -1.050371 -1.096847 -1.126925 -1.140149 -1.184305  \n",
       "\n",
       "[5 rows x 26 columns]"
      ]
     },
     "execution_count": 212,
     "metadata": {},
     "output_type": "execute_result"
    }
   ],
   "source": [
    "df_VA.head()"
   ]
  },
  {
   "cell_type": "markdown",
   "id": "51b4d828-5bbc-4369-bc16-2c4126332f81",
   "metadata": {},
   "source": [
    "# find groups"
   ]
  },
  {
   "cell_type": "code",
   "execution_count": 213,
   "id": "4e616db4-aa1c-4cac-a761-05b6ab701569",
   "metadata": {},
   "outputs": [
    {
     "data": {
      "text/html": [
       "<div>\n",
       "<style scoped>\n",
       "    .dataframe tbody tr th:only-of-type {\n",
       "        vertical-align: middle;\n",
       "    }\n",
       "\n",
       "    .dataframe tbody tr th {\n",
       "        vertical-align: top;\n",
       "    }\n",
       "\n",
       "    .dataframe thead th {\n",
       "        text-align: right;\n",
       "    }\n",
       "</style>\n",
       "<table border=\"1\" class=\"dataframe\">\n",
       "  <thead>\n",
       "    <tr style=\"text-align: right;\">\n",
       "      <th></th>\n",
       "      <th>Global North</th>\n",
       "      <th>Global South</th>\n",
       "      <th>Least Developed Countries (LDC)</th>\n",
       "      <th>Land Locked Developing Countries (LLDC)</th>\n",
       "      <th>Small Island Developing States (SIDS)</th>\n",
       "      <th>G20</th>\n",
       "      <th>Emerging Markets (BRICS + N-11)</th>\n",
       "      <th>OPEC</th>\n",
       "      <th>Low Income</th>\n",
       "      <th>Lower middle Income</th>\n",
       "      <th>Upper middle Income</th>\n",
       "      <th>High Income</th>\n",
       "    </tr>\n",
       "  </thead>\n",
       "  <tbody>\n",
       "    <tr>\n",
       "      <th>0</th>\n",
       "      <td>Albania</td>\n",
       "      <td>Fiji</td>\n",
       "      <td>Yemen, Rep.</td>\n",
       "      <td>Afghanistan</td>\n",
       "      <td>Antigua and Barbuda</td>\n",
       "      <td>Australia</td>\n",
       "      <td>Bangladesh</td>\n",
       "      <td>Algeria</td>\n",
       "      <td>Afghanistan</td>\n",
       "      <td>Angola</td>\n",
       "      <td>Albania</td>\n",
       "      <td>Antigua and Barbuda</td>\n",
       "    </tr>\n",
       "    <tr>\n",
       "      <th>1</th>\n",
       "      <td>Austria</td>\n",
       "      <td>Micronesia, Fed. Sts.</td>\n",
       "      <td>Afghanistan</td>\n",
       "      <td>Armenia</td>\n",
       "      <td>Bahamas, The</td>\n",
       "      <td>Canada</td>\n",
       "      <td>Egypt, Arab Rep.</td>\n",
       "      <td>Angola</td>\n",
       "      <td>Burkina Faso</td>\n",
       "      <td>Bangladesh</td>\n",
       "      <td>Argentina</td>\n",
       "      <td>Australia</td>\n",
       "    </tr>\n",
       "    <tr>\n",
       "      <th>2</th>\n",
       "      <td>Belarus</td>\n",
       "      <td>Tonga</td>\n",
       "      <td>Burundi</td>\n",
       "      <td>Azerbaijan</td>\n",
       "      <td>Barbados</td>\n",
       "      <td>Saudi Arabia</td>\n",
       "      <td>Indonesia</td>\n",
       "      <td>Equatorial Guinea</td>\n",
       "      <td>Burundi</td>\n",
       "      <td>Bhutan</td>\n",
       "      <td>Armenia</td>\n",
       "      <td>Austria</td>\n",
       "    </tr>\n",
       "    <tr>\n",
       "      <th>3</th>\n",
       "      <td>Belgium</td>\n",
       "      <td>Vanuatu</td>\n",
       "      <td>Angola</td>\n",
       "      <td>Bhutan</td>\n",
       "      <td>Belize</td>\n",
       "      <td>United States</td>\n",
       "      <td>Iran, Islamic Rep.</td>\n",
       "      <td>Gabon</td>\n",
       "      <td>Central African Republic</td>\n",
       "      <td>Bolivia</td>\n",
       "      <td>Azerbaijan</td>\n",
       "      <td>Bahamas, The</td>\n",
       "    </tr>\n",
       "    <tr>\n",
       "      <th>4</th>\n",
       "      <td>Bosnia and Herzegovina</td>\n",
       "      <td>Tuvalu</td>\n",
       "      <td>Benin</td>\n",
       "      <td>Bolivia</td>\n",
       "      <td>Comoros</td>\n",
       "      <td>India</td>\n",
       "      <td>Mexico</td>\n",
       "      <td>Iran, Islamic Rep.</td>\n",
       "      <td>Chad</td>\n",
       "      <td>Cambodia</td>\n",
       "      <td>Belarus</td>\n",
       "      <td>Bahrain</td>\n",
       "    </tr>\n",
       "  </tbody>\n",
       "</table>\n",
       "</div>"
      ],
      "text/plain": [
       "             Global North           Global South  \\\n",
       "0                 Albania                   Fiji   \n",
       "1                 Austria  Micronesia, Fed. Sts.   \n",
       "2                 Belarus                  Tonga   \n",
       "3                 Belgium                Vanuatu   \n",
       "4  Bosnia and Herzegovina                 Tuvalu   \n",
       "\n",
       "  Least Developed Countries (LDC) Land Locked Developing Countries (LLDC)  \\\n",
       "0                     Yemen, Rep.                             Afghanistan   \n",
       "1                     Afghanistan                                 Armenia   \n",
       "2                         Burundi                              Azerbaijan   \n",
       "3                          Angola                                  Bhutan   \n",
       "4                           Benin                                 Bolivia   \n",
       "\n",
       "  Small Island Developing States (SIDS)            G20  \\\n",
       "0                   Antigua and Barbuda      Australia   \n",
       "1                          Bahamas, The         Canada   \n",
       "2                              Barbados   Saudi Arabia   \n",
       "3                                Belize  United States   \n",
       "4                               Comoros          India   \n",
       "\n",
       "  Emerging Markets (BRICS + N-11)                OPEC  \\\n",
       "0                      Bangladesh             Algeria   \n",
       "1                Egypt, Arab Rep.              Angola   \n",
       "2                       Indonesia   Equatorial Guinea   \n",
       "3              Iran, Islamic Rep.               Gabon   \n",
       "4                          Mexico  Iran, Islamic Rep.   \n",
       "\n",
       "                 Low Income Lower middle Income Upper middle Income  \\\n",
       "0               Afghanistan              Angola             Albania   \n",
       "1              Burkina Faso          Bangladesh           Argentina   \n",
       "2                   Burundi              Bhutan             Armenia   \n",
       "3  Central African Republic             Bolivia          Azerbaijan   \n",
       "4                      Chad            Cambodia             Belarus   \n",
       "\n",
       "           High Income  \n",
       "0  Antigua and Barbuda  \n",
       "1            Australia  \n",
       "2              Austria  \n",
       "3         Bahamas, The  \n",
       "4              Bahrain  "
      ]
     },
     "execution_count": 213,
     "metadata": {},
     "output_type": "execute_result"
    }
   ],
   "source": [
    "df_groups = pd.read_csv('/Users/tim/PycharmProjects/HOI/examples/data/groups.csv')\n",
    "df_groups.head()"
   ]
  },
  {
   "cell_type": "code",
   "execution_count": 223,
   "id": "2f97d4f8-8e13-4e76-ba71-baff58c8de1c",
   "metadata": {},
   "outputs": [],
   "source": [
    "low_income = list(df_groups['OPEC'].dropna())"
   ]
  },
  {
   "cell_type": "code",
   "execution_count": 224,
   "id": "76e24aa8-3b65-4ee5-b8df-24966fb3e969",
   "metadata": {},
   "outputs": [
    {
     "data": {
      "text/plain": [
       "13"
      ]
     },
     "execution_count": 224,
     "metadata": {},
     "output_type": "execute_result"
    }
   ],
   "source": [
    "len(low_income)"
   ]
  },
  {
   "cell_type": "markdown",
   "id": "ce2f8ebb-dc16-4315-bc55-7f51d82e716c",
   "metadata": {
    "tags": []
   },
   "source": [
    "## specific group"
   ]
  },
  {
   "cell_type": "code",
   "execution_count": 216,
   "id": "7b249b50-f977-424e-959a-233729f73806",
   "metadata": {
    "tags": []
   },
   "outputs": [],
   "source": [
    "df_VA = df_VA[df_VA['Country'].isin(low_income)]\n",
    "df_PS = df_PS[df_PS['Country'].isin(low_income)]\n",
    "df_GE = df_GE[df_GE['Country'].isin(low_income)]\n",
    "df_RQ = df_RQ[df_RQ['Country'].isin(low_income)]\n",
    "df_RL = df_RL[df_RL['Country'].isin(low_income)]\n",
    "df_CC = df_CC[df_CC['Country'].isin(low_income)]"
   ]
  },
  {
   "cell_type": "code",
   "execution_count": 217,
   "id": "e907f903-1d35-4079-a411-54704cb651a2",
   "metadata": {},
   "outputs": [],
   "source": [
    "df_VA.drop('Country', axis=1, inplace = True)\n",
    "df_PS.drop('Country', axis=1, inplace = True)\n",
    "df_GE.drop('Country', axis=1, inplace = True)\n",
    "df_RQ.drop('Country', axis=1, inplace = True)\n",
    "df_RL.drop('Country', axis=1, inplace = True)\n",
    "df_CC.drop('Country', axis=1, inplace = True)\n",
    "\n",
    "va_arr = df_VA.to_numpy()\n",
    "ps_arr = df_PS.to_numpy()\n",
    "ge_arr = df_GE.to_numpy()\n",
    "rq_arr = df_RQ.to_numpy()\n",
    "rl_arr = df_RL.to_numpy()\n",
    "cc_arr = df_CC.to_numpy()\n",
    "\n",
    "va_arr = StandardScaler().fit_transform(va_arr)\n",
    "ps_arr = StandardScaler().fit_transform(ps_arr)\n",
    "ge_arr = StandardScaler().fit_transform(ge_arr)\n",
    "rq_arr = StandardScaler().fit_transform(rq_arr)\n",
    "rl_arr = StandardScaler().fit_transform(rl_arr)\n",
    "cc_arr = StandardScaler().fit_transform(cc_arr)\n",
    "\n",
    "k_va = compute_kernel_n(va_arr)\n",
    "k_ps = compute_kernel_n(ps_arr)\n",
    "k_ge = compute_kernel_n(ge_arr)\n",
    "k_rq = compute_kernel_n(rq_arr)\n",
    "k_rl = compute_kernel_n(rl_arr)\n",
    "k_cc = compute_kernel_n(cc_arr)"
   ]
  },
  {
   "cell_type": "code",
   "execution_count": 218,
   "id": "968dcee7-12a1-48bc-a52d-82bf2fc1c0e4",
   "metadata": {},
   "outputs": [
    {
     "name": "stdout",
     "output_type": "stream",
     "text": [
      "(16, 25)\n"
     ]
    }
   ],
   "source": [
    "print(df_VA.shape)"
   ]
  },
  {
   "cell_type": "code",
   "execution_count": 219,
   "id": "481ed0bb-df02-4adb-9907-f87019e13a0e",
   "metadata": {},
   "outputs": [],
   "source": [
    "power_set = find_comb([k_va, k_ps, k_ge, k_rq, k_rl, k_cc])"
   ]
  },
  {
   "cell_type": "code",
   "execution_count": 220,
   "id": "50013102-fe23-4934-8593-3b09ccdc7b7f",
   "metadata": {
    "tags": []
   },
   "outputs": [],
   "source": [
    "power_set_name = find_comb(['va', 'ps', 'ge', 'rq', 'rl', 'cc'])"
   ]
  },
  {
   "cell_type": "code",
   "execution_count": 221,
   "id": "c736237d-2c5a-4025-be63-67cab4a83335",
   "metadata": {
    "collapsed": true,
    "jupyter": {
     "outputs_hidden": true
    },
    "tags": []
   },
   "outputs": [
    {
     "data": {
      "application/vnd.jupyter.widget-view+json": {
       "model_id": "8fb0dfcf8e264b1980ddd5263dc0f0d6",
       "version_major": 2,
       "version_minor": 0
      },
      "text/plain": [
       "  0%|          | 0/57 [00:00<?, ?it/s]"
      ]
     },
     "metadata": {},
     "output_type": "display_data"
    },
    {
     "data": {
      "application/vnd.jupyter.widget-view+json": {
       "model_id": "f250869aae374ebd8df945806b15346e",
       "version_major": 2,
       "version_minor": 0
      },
      "text/plain": [
       "  0%|          | 0/10 [00:00<?, ?it/s]"
      ]
     },
     "metadata": {},
     "output_type": "display_data"
    },
    {
     "name": "stdout",
     "output_type": "stream",
     "text": [
      "{\"['va', 'ps']\": 0}\n"
     ]
    },
    {
     "data": {
      "application/vnd.jupyter.widget-view+json": {
       "model_id": "d357bfd5ca5e47cfac57e129c74b51bf",
       "version_major": 2,
       "version_minor": 0
      },
      "text/plain": [
       "  0%|          | 0/10 [00:00<?, ?it/s]"
      ]
     },
     "metadata": {},
     "output_type": "display_data"
    },
    {
     "name": "stdout",
     "output_type": "stream",
     "text": [
      "{\"['va', 'ps']\": 0, \"['va', 'ge']\": 10}\n"
     ]
    },
    {
     "data": {
      "application/vnd.jupyter.widget-view+json": {
       "model_id": "2c5aed4dead6487ebcdd08cd07cc27aa",
       "version_major": 2,
       "version_minor": 0
      },
      "text/plain": [
       "  0%|          | 0/10 [00:00<?, ?it/s]"
      ]
     },
     "metadata": {},
     "output_type": "display_data"
    },
    {
     "name": "stdout",
     "output_type": "stream",
     "text": [
      "{\"['va', 'ps']\": 0, \"['va', 'ge']\": 10, \"['va', 'rq']\": 10}\n"
     ]
    },
    {
     "data": {
      "application/vnd.jupyter.widget-view+json": {
       "model_id": "962f3648a2674d0f87307a6470d187d3",
       "version_major": 2,
       "version_minor": 0
      },
      "text/plain": [
       "  0%|          | 0/10 [00:00<?, ?it/s]"
      ]
     },
     "metadata": {},
     "output_type": "display_data"
    },
    {
     "name": "stdout",
     "output_type": "stream",
     "text": [
      "{\"['va', 'ps']\": 0, \"['va', 'ge']\": 10, \"['va', 'rq']\": 10, \"['va', 'rl']\": 10}\n"
     ]
    },
    {
     "data": {
      "application/vnd.jupyter.widget-view+json": {
       "model_id": "8b1518272ec04a36860c206ec6e27d87",
       "version_major": 2,
       "version_minor": 0
      },
      "text/plain": [
       "  0%|          | 0/10 [00:00<?, ?it/s]"
      ]
     },
     "metadata": {},
     "output_type": "display_data"
    },
    {
     "name": "stdout",
     "output_type": "stream",
     "text": [
      "{\"['va', 'ps']\": 0, \"['va', 'ge']\": 10, \"['va', 'rq']\": 10, \"['va', 'rl']\": 10, \"['va', 'cc']\": 10}\n"
     ]
    },
    {
     "data": {
      "application/vnd.jupyter.widget-view+json": {
       "model_id": "07167752dd134eb5bbce39e55f6db015",
       "version_major": 2,
       "version_minor": 0
      },
      "text/plain": [
       "  0%|          | 0/10 [00:00<?, ?it/s]"
      ]
     },
     "metadata": {},
     "output_type": "display_data"
    },
    {
     "name": "stdout",
     "output_type": "stream",
     "text": [
      "{\"['va', 'ps']\": 0, \"['va', 'ge']\": 10, \"['va', 'rq']\": 10, \"['va', 'rl']\": 10, \"['va', 'cc']\": 10, \"['ps', 'ge']\": 10}\n"
     ]
    },
    {
     "data": {
      "application/vnd.jupyter.widget-view+json": {
       "model_id": "f25a882d8f894957910cfc6c7f75b7b3",
       "version_major": 2,
       "version_minor": 0
      },
      "text/plain": [
       "  0%|          | 0/10 [00:00<?, ?it/s]"
      ]
     },
     "metadata": {},
     "output_type": "display_data"
    },
    {
     "name": "stdout",
     "output_type": "stream",
     "text": [
      "{\"['va', 'ps']\": 0, \"['va', 'ge']\": 10, \"['va', 'rq']\": 10, \"['va', 'rl']\": 10, \"['va', 'cc']\": 10, \"['ps', 'ge']\": 10, \"['ps', 'rq']\": 1}\n"
     ]
    },
    {
     "data": {
      "application/vnd.jupyter.widget-view+json": {
       "model_id": "49d0f0e32b3846268df17d534450cca8",
       "version_major": 2,
       "version_minor": 0
      },
      "text/plain": [
       "  0%|          | 0/10 [00:00<?, ?it/s]"
      ]
     },
     "metadata": {},
     "output_type": "display_data"
    },
    {
     "name": "stdout",
     "output_type": "stream",
     "text": [
      "{\"['va', 'ps']\": 0, \"['va', 'ge']\": 10, \"['va', 'rq']\": 10, \"['va', 'rl']\": 10, \"['va', 'cc']\": 10, \"['ps', 'ge']\": 10, \"['ps', 'rq']\": 1, \"['ps', 'rl']\": 0}\n"
     ]
    },
    {
     "data": {
      "application/vnd.jupyter.widget-view+json": {
       "model_id": "5c46ed3b7c7d4287be150d2d8104e257",
       "version_major": 2,
       "version_minor": 0
      },
      "text/plain": [
       "  0%|          | 0/10 [00:00<?, ?it/s]"
      ]
     },
     "metadata": {},
     "output_type": "display_data"
    },
    {
     "name": "stdout",
     "output_type": "stream",
     "text": [
      "{\"['va', 'ps']\": 0, \"['va', 'ge']\": 10, \"['va', 'rq']\": 10, \"['va', 'rl']\": 10, \"['va', 'cc']\": 10, \"['ps', 'ge']\": 10, \"['ps', 'rq']\": 1, \"['ps', 'rl']\": 0, \"['ps', 'cc']\": 10}\n"
     ]
    },
    {
     "data": {
      "application/vnd.jupyter.widget-view+json": {
       "model_id": "e6f00156bc3f43bab256480632da789d",
       "version_major": 2,
       "version_minor": 0
      },
      "text/plain": [
       "  0%|          | 0/10 [00:00<?, ?it/s]"
      ]
     },
     "metadata": {},
     "output_type": "display_data"
    },
    {
     "name": "stdout",
     "output_type": "stream",
     "text": [
      "{\"['va', 'ps']\": 0, \"['va', 'ge']\": 10, \"['va', 'rq']\": 10, \"['va', 'rl']\": 10, \"['va', 'cc']\": 10, \"['ps', 'ge']\": 10, \"['ps', 'rq']\": 1, \"['ps', 'rl']\": 0, \"['ps', 'cc']\": 10, \"['ge', 'rq']\": 10}\n"
     ]
    },
    {
     "data": {
      "application/vnd.jupyter.widget-view+json": {
       "model_id": "a267f2351d214a86bba66580d1907cd4",
       "version_major": 2,
       "version_minor": 0
      },
      "text/plain": [
       "  0%|          | 0/10 [00:00<?, ?it/s]"
      ]
     },
     "metadata": {},
     "output_type": "display_data"
    },
    {
     "name": "stdout",
     "output_type": "stream",
     "text": [
      "{\"['va', 'ps']\": 0, \"['va', 'ge']\": 10, \"['va', 'rq']\": 10, \"['va', 'rl']\": 10, \"['va', 'cc']\": 10, \"['ps', 'ge']\": 10, \"['ps', 'rq']\": 1, \"['ps', 'rl']\": 0, \"['ps', 'cc']\": 10, \"['ge', 'rq']\": 10, \"['ge', 'rl']\": 10}\n"
     ]
    },
    {
     "data": {
      "application/vnd.jupyter.widget-view+json": {
       "model_id": "bd31cd99babc4a7fbbf6d2d95f1cdda7",
       "version_major": 2,
       "version_minor": 0
      },
      "text/plain": [
       "  0%|          | 0/10 [00:00<?, ?it/s]"
      ]
     },
     "metadata": {},
     "output_type": "display_data"
    },
    {
     "name": "stdout",
     "output_type": "stream",
     "text": [
      "{\"['va', 'ps']\": 0, \"['va', 'ge']\": 10, \"['va', 'rq']\": 10, \"['va', 'rl']\": 10, \"['va', 'cc']\": 10, \"['ps', 'ge']\": 10, \"['ps', 'rq']\": 1, \"['ps', 'rl']\": 0, \"['ps', 'cc']\": 10, \"['ge', 'rq']\": 10, \"['ge', 'rl']\": 10, \"['ge', 'cc']\": 10}\n"
     ]
    },
    {
     "data": {
      "application/vnd.jupyter.widget-view+json": {
       "model_id": "cccf7de765ff4909861276d3fbb87715",
       "version_major": 2,
       "version_minor": 0
      },
      "text/plain": [
       "  0%|          | 0/10 [00:00<?, ?it/s]"
      ]
     },
     "metadata": {},
     "output_type": "display_data"
    },
    {
     "name": "stdout",
     "output_type": "stream",
     "text": [
      "{\"['va', 'ps']\": 0, \"['va', 'ge']\": 10, \"['va', 'rq']\": 10, \"['va', 'rl']\": 10, \"['va', 'cc']\": 10, \"['ps', 'ge']\": 10, \"['ps', 'rq']\": 1, \"['ps', 'rl']\": 0, \"['ps', 'cc']\": 10, \"['ge', 'rq']\": 10, \"['ge', 'rl']\": 10, \"['ge', 'cc']\": 10, \"['rq', 'rl']\": 10}\n"
     ]
    },
    {
     "data": {
      "application/vnd.jupyter.widget-view+json": {
       "model_id": "d69880462fdc4c45a53f5b8d264b7b3d",
       "version_major": 2,
       "version_minor": 0
      },
      "text/plain": [
       "  0%|          | 0/10 [00:00<?, ?it/s]"
      ]
     },
     "metadata": {},
     "output_type": "display_data"
    },
    {
     "name": "stdout",
     "output_type": "stream",
     "text": [
      "{\"['va', 'ps']\": 0, \"['va', 'ge']\": 10, \"['va', 'rq']\": 10, \"['va', 'rl']\": 10, \"['va', 'cc']\": 10, \"['ps', 'ge']\": 10, \"['ps', 'rq']\": 1, \"['ps', 'rl']\": 0, \"['ps', 'cc']\": 10, \"['ge', 'rq']\": 10, \"['ge', 'rl']\": 10, \"['ge', 'cc']\": 10, \"['rq', 'rl']\": 10, \"['rq', 'cc']\": 10}\n"
     ]
    },
    {
     "data": {
      "application/vnd.jupyter.widget-view+json": {
       "model_id": "d70dc3a4d62641f5ab763222d3855c87",
       "version_major": 2,
       "version_minor": 0
      },
      "text/plain": [
       "  0%|          | 0/10 [00:00<?, ?it/s]"
      ]
     },
     "metadata": {},
     "output_type": "display_data"
    },
    {
     "name": "stdout",
     "output_type": "stream",
     "text": [
      "{\"['va', 'ps']\": 0, \"['va', 'ge']\": 10, \"['va', 'rq']\": 10, \"['va', 'rl']\": 10, \"['va', 'cc']\": 10, \"['ps', 'ge']\": 10, \"['ps', 'rq']\": 1, \"['ps', 'rl']\": 0, \"['ps', 'cc']\": 10, \"['ge', 'rq']\": 10, \"['ge', 'rl']\": 10, \"['ge', 'cc']\": 10, \"['rq', 'rl']\": 10, \"['rq', 'cc']\": 10, \"['rl', 'cc']\": 10}\n"
     ]
    },
    {
     "data": {
      "application/vnd.jupyter.widget-view+json": {
       "model_id": "2f4466f186d34e3ab537ea4005082b71",
       "version_major": 2,
       "version_minor": 0
      },
      "text/plain": [
       "  0%|          | 0/10 [00:00<?, ?it/s]"
      ]
     },
     "metadata": {},
     "output_type": "display_data"
    },
    {
     "name": "stdout",
     "output_type": "stream",
     "text": [
      "{\"['va', 'ps']\": 0, \"['va', 'ge']\": 10, \"['va', 'rq']\": 10, \"['va', 'rl']\": 10, \"['va', 'cc']\": 10, \"['ps', 'ge']\": 10, \"['ps', 'rq']\": 1, \"['ps', 'rl']\": 0, \"['ps', 'cc']\": 10, \"['ge', 'rq']\": 10, \"['ge', 'rl']\": 10, \"['ge', 'cc']\": 10, \"['rq', 'rl']\": 10, \"['rq', 'cc']\": 10, \"['rl', 'cc']\": 10, \"['va', 'ps', 'ge']\": 10}\n"
     ]
    },
    {
     "data": {
      "application/vnd.jupyter.widget-view+json": {
       "model_id": "c20ec590a2ac4f05bb0d483ab0d6d2c6",
       "version_major": 2,
       "version_minor": 0
      },
      "text/plain": [
       "  0%|          | 0/10 [00:00<?, ?it/s]"
      ]
     },
     "metadata": {},
     "output_type": "display_data"
    },
    {
     "name": "stdout",
     "output_type": "stream",
     "text": [
      "{\"['va', 'ps']\": 0, \"['va', 'ge']\": 10, \"['va', 'rq']\": 10, \"['va', 'rl']\": 10, \"['va', 'cc']\": 10, \"['ps', 'ge']\": 10, \"['ps', 'rq']\": 1, \"['ps', 'rl']\": 0, \"['ps', 'cc']\": 10, \"['ge', 'rq']\": 10, \"['ge', 'rl']\": 10, \"['ge', 'cc']\": 10, \"['rq', 'rl']\": 10, \"['rq', 'cc']\": 10, \"['rl', 'cc']\": 10, \"['va', 'ps', 'ge']\": 10, \"['va', 'ps', 'rq']\": 10}\n"
     ]
    },
    {
     "data": {
      "application/vnd.jupyter.widget-view+json": {
       "model_id": "5ee40bf9141e470793d7a355071051fa",
       "version_major": 2,
       "version_minor": 0
      },
      "text/plain": [
       "  0%|          | 0/10 [00:00<?, ?it/s]"
      ]
     },
     "metadata": {},
     "output_type": "display_data"
    },
    {
     "name": "stdout",
     "output_type": "stream",
     "text": [
      "{\"['va', 'ps']\": 0, \"['va', 'ge']\": 10, \"['va', 'rq']\": 10, \"['va', 'rl']\": 10, \"['va', 'cc']\": 10, \"['ps', 'ge']\": 10, \"['ps', 'rq']\": 1, \"['ps', 'rl']\": 0, \"['ps', 'cc']\": 10, \"['ge', 'rq']\": 10, \"['ge', 'rl']\": 10, \"['ge', 'cc']\": 10, \"['rq', 'rl']\": 10, \"['rq', 'cc']\": 10, \"['rl', 'cc']\": 10, \"['va', 'ps', 'ge']\": 10, \"['va', 'ps', 'rq']\": 10, \"['va', 'ps', 'rl']\": 10}\n"
     ]
    },
    {
     "data": {
      "application/vnd.jupyter.widget-view+json": {
       "model_id": "64691e2995734c1e9681ea2c6e7e8fba",
       "version_major": 2,
       "version_minor": 0
      },
      "text/plain": [
       "  0%|          | 0/10 [00:00<?, ?it/s]"
      ]
     },
     "metadata": {},
     "output_type": "display_data"
    },
    {
     "name": "stdout",
     "output_type": "stream",
     "text": [
      "{\"['va', 'ps']\": 0, \"['va', 'ge']\": 10, \"['va', 'rq']\": 10, \"['va', 'rl']\": 10, \"['va', 'cc']\": 10, \"['ps', 'ge']\": 10, \"['ps', 'rq']\": 1, \"['ps', 'rl']\": 0, \"['ps', 'cc']\": 10, \"['ge', 'rq']\": 10, \"['ge', 'rl']\": 10, \"['ge', 'cc']\": 10, \"['rq', 'rl']\": 10, \"['rq', 'cc']\": 10, \"['rl', 'cc']\": 10, \"['va', 'ps', 'ge']\": 10, \"['va', 'ps', 'rq']\": 10, \"['va', 'ps', 'rl']\": 10, \"['va', 'ps', 'cc']\": 10}\n"
     ]
    },
    {
     "data": {
      "application/vnd.jupyter.widget-view+json": {
       "model_id": "595972f87d194cf3946328cae9297b0c",
       "version_major": 2,
       "version_minor": 0
      },
      "text/plain": [
       "  0%|          | 0/10 [00:00<?, ?it/s]"
      ]
     },
     "metadata": {},
     "output_type": "display_data"
    },
    {
     "name": "stdout",
     "output_type": "stream",
     "text": [
      "{\"['va', 'ps']\": 0, \"['va', 'ge']\": 10, \"['va', 'rq']\": 10, \"['va', 'rl']\": 10, \"['va', 'cc']\": 10, \"['ps', 'ge']\": 10, \"['ps', 'rq']\": 1, \"['ps', 'rl']\": 0, \"['ps', 'cc']\": 10, \"['ge', 'rq']\": 10, \"['ge', 'rl']\": 10, \"['ge', 'cc']\": 10, \"['rq', 'rl']\": 10, \"['rq', 'cc']\": 10, \"['rl', 'cc']\": 10, \"['va', 'ps', 'ge']\": 10, \"['va', 'ps', 'rq']\": 10, \"['va', 'ps', 'rl']\": 10, \"['va', 'ps', 'cc']\": 10, \"['va', 'ge', 'rq']\": 10}\n"
     ]
    },
    {
     "data": {
      "application/vnd.jupyter.widget-view+json": {
       "model_id": "a8d0b366fde145399fbd746d7f39ab39",
       "version_major": 2,
       "version_minor": 0
      },
      "text/plain": [
       "  0%|          | 0/10 [00:00<?, ?it/s]"
      ]
     },
     "metadata": {},
     "output_type": "display_data"
    },
    {
     "name": "stdout",
     "output_type": "stream",
     "text": [
      "{\"['va', 'ps']\": 0, \"['va', 'ge']\": 10, \"['va', 'rq']\": 10, \"['va', 'rl']\": 10, \"['va', 'cc']\": 10, \"['ps', 'ge']\": 10, \"['ps', 'rq']\": 1, \"['ps', 'rl']\": 0, \"['ps', 'cc']\": 10, \"['ge', 'rq']\": 10, \"['ge', 'rl']\": 10, \"['ge', 'cc']\": 10, \"['rq', 'rl']\": 10, \"['rq', 'cc']\": 10, \"['rl', 'cc']\": 10, \"['va', 'ps', 'ge']\": 10, \"['va', 'ps', 'rq']\": 10, \"['va', 'ps', 'rl']\": 10, \"['va', 'ps', 'cc']\": 10, \"['va', 'ge', 'rq']\": 10, \"['va', 'ge', 'rl']\": 10}\n"
     ]
    },
    {
     "data": {
      "application/vnd.jupyter.widget-view+json": {
       "model_id": "96757f5b98d040e68998089d84160ce5",
       "version_major": 2,
       "version_minor": 0
      },
      "text/plain": [
       "  0%|          | 0/10 [00:00<?, ?it/s]"
      ]
     },
     "metadata": {},
     "output_type": "display_data"
    },
    {
     "name": "stdout",
     "output_type": "stream",
     "text": [
      "{\"['va', 'ps']\": 0, \"['va', 'ge']\": 10, \"['va', 'rq']\": 10, \"['va', 'rl']\": 10, \"['va', 'cc']\": 10, \"['ps', 'ge']\": 10, \"['ps', 'rq']\": 1, \"['ps', 'rl']\": 0, \"['ps', 'cc']\": 10, \"['ge', 'rq']\": 10, \"['ge', 'rl']\": 10, \"['ge', 'cc']\": 10, \"['rq', 'rl']\": 10, \"['rq', 'cc']\": 10, \"['rl', 'cc']\": 10, \"['va', 'ps', 'ge']\": 10, \"['va', 'ps', 'rq']\": 10, \"['va', 'ps', 'rl']\": 10, \"['va', 'ps', 'cc']\": 10, \"['va', 'ge', 'rq']\": 10, \"['va', 'ge', 'rl']\": 10, \"['va', 'ge', 'cc']\": 10}\n"
     ]
    },
    {
     "data": {
      "application/vnd.jupyter.widget-view+json": {
       "model_id": "8c15cfe67a884ff38140aa9f62f79db7",
       "version_major": 2,
       "version_minor": 0
      },
      "text/plain": [
       "  0%|          | 0/10 [00:00<?, ?it/s]"
      ]
     },
     "metadata": {},
     "output_type": "display_data"
    },
    {
     "name": "stdout",
     "output_type": "stream",
     "text": [
      "{\"['va', 'ps']\": 0, \"['va', 'ge']\": 10, \"['va', 'rq']\": 10, \"['va', 'rl']\": 10, \"['va', 'cc']\": 10, \"['ps', 'ge']\": 10, \"['ps', 'rq']\": 1, \"['ps', 'rl']\": 0, \"['ps', 'cc']\": 10, \"['ge', 'rq']\": 10, \"['ge', 'rl']\": 10, \"['ge', 'cc']\": 10, \"['rq', 'rl']\": 10, \"['rq', 'cc']\": 10, \"['rl', 'cc']\": 10, \"['va', 'ps', 'ge']\": 10, \"['va', 'ps', 'rq']\": 10, \"['va', 'ps', 'rl']\": 10, \"['va', 'ps', 'cc']\": 10, \"['va', 'ge', 'rq']\": 10, \"['va', 'ge', 'rl']\": 10, \"['va', 'ge', 'cc']\": 10, \"['va', 'rq', 'rl']\": 10}\n"
     ]
    },
    {
     "data": {
      "application/vnd.jupyter.widget-view+json": {
       "model_id": "20fa1f5ee231406ea2e435af37383ddb",
       "version_major": 2,
       "version_minor": 0
      },
      "text/plain": [
       "  0%|          | 0/10 [00:00<?, ?it/s]"
      ]
     },
     "metadata": {},
     "output_type": "display_data"
    },
    {
     "name": "stdout",
     "output_type": "stream",
     "text": [
      "{\"['va', 'ps']\": 0, \"['va', 'ge']\": 10, \"['va', 'rq']\": 10, \"['va', 'rl']\": 10, \"['va', 'cc']\": 10, \"['ps', 'ge']\": 10, \"['ps', 'rq']\": 1, \"['ps', 'rl']\": 0, \"['ps', 'cc']\": 10, \"['ge', 'rq']\": 10, \"['ge', 'rl']\": 10, \"['ge', 'cc']\": 10, \"['rq', 'rl']\": 10, \"['rq', 'cc']\": 10, \"['rl', 'cc']\": 10, \"['va', 'ps', 'ge']\": 10, \"['va', 'ps', 'rq']\": 10, \"['va', 'ps', 'rl']\": 10, \"['va', 'ps', 'cc']\": 10, \"['va', 'ge', 'rq']\": 10, \"['va', 'ge', 'rl']\": 10, \"['va', 'ge', 'cc']\": 10, \"['va', 'rq', 'rl']\": 10, \"['va', 'rq', 'cc']\": 10}\n"
     ]
    },
    {
     "data": {
      "application/vnd.jupyter.widget-view+json": {
       "model_id": "51157dc78ba14d32b45b5b9d2ecc8f51",
       "version_major": 2,
       "version_minor": 0
      },
      "text/plain": [
       "  0%|          | 0/10 [00:00<?, ?it/s]"
      ]
     },
     "metadata": {},
     "output_type": "display_data"
    },
    {
     "name": "stdout",
     "output_type": "stream",
     "text": [
      "{\"['va', 'ps']\": 0, \"['va', 'ge']\": 10, \"['va', 'rq']\": 10, \"['va', 'rl']\": 10, \"['va', 'cc']\": 10, \"['ps', 'ge']\": 10, \"['ps', 'rq']\": 1, \"['ps', 'rl']\": 0, \"['ps', 'cc']\": 10, \"['ge', 'rq']\": 10, \"['ge', 'rl']\": 10, \"['ge', 'cc']\": 10, \"['rq', 'rl']\": 10, \"['rq', 'cc']\": 10, \"['rl', 'cc']\": 10, \"['va', 'ps', 'ge']\": 10, \"['va', 'ps', 'rq']\": 10, \"['va', 'ps', 'rl']\": 10, \"['va', 'ps', 'cc']\": 10, \"['va', 'ge', 'rq']\": 10, \"['va', 'ge', 'rl']\": 10, \"['va', 'ge', 'cc']\": 10, \"['va', 'rq', 'rl']\": 10, \"['va', 'rq', 'cc']\": 10, \"['va', 'rl', 'cc']\": 10}\n"
     ]
    },
    {
     "data": {
      "application/vnd.jupyter.widget-view+json": {
       "model_id": "c125ce34ca4a47828c4a0e54fe13fb06",
       "version_major": 2,
       "version_minor": 0
      },
      "text/plain": [
       "  0%|          | 0/10 [00:00<?, ?it/s]"
      ]
     },
     "metadata": {},
     "output_type": "display_data"
    },
    {
     "name": "stdout",
     "output_type": "stream",
     "text": [
      "{\"['va', 'ps']\": 0, \"['va', 'ge']\": 10, \"['va', 'rq']\": 10, \"['va', 'rl']\": 10, \"['va', 'cc']\": 10, \"['ps', 'ge']\": 10, \"['ps', 'rq']\": 1, \"['ps', 'rl']\": 0, \"['ps', 'cc']\": 10, \"['ge', 'rq']\": 10, \"['ge', 'rl']\": 10, \"['ge', 'cc']\": 10, \"['rq', 'rl']\": 10, \"['rq', 'cc']\": 10, \"['rl', 'cc']\": 10, \"['va', 'ps', 'ge']\": 10, \"['va', 'ps', 'rq']\": 10, \"['va', 'ps', 'rl']\": 10, \"['va', 'ps', 'cc']\": 10, \"['va', 'ge', 'rq']\": 10, \"['va', 'ge', 'rl']\": 10, \"['va', 'ge', 'cc']\": 10, \"['va', 'rq', 'rl']\": 10, \"['va', 'rq', 'cc']\": 10, \"['va', 'rl', 'cc']\": 10, \"['ps', 'ge', 'rq']\": 10}\n"
     ]
    },
    {
     "data": {
      "application/vnd.jupyter.widget-view+json": {
       "model_id": "0499b18866344c7ca4305c2d8b52d253",
       "version_major": 2,
       "version_minor": 0
      },
      "text/plain": [
       "  0%|          | 0/10 [00:00<?, ?it/s]"
      ]
     },
     "metadata": {},
     "output_type": "display_data"
    },
    {
     "name": "stdout",
     "output_type": "stream",
     "text": [
      "{\"['va', 'ps']\": 0, \"['va', 'ge']\": 10, \"['va', 'rq']\": 10, \"['va', 'rl']\": 10, \"['va', 'cc']\": 10, \"['ps', 'ge']\": 10, \"['ps', 'rq']\": 1, \"['ps', 'rl']\": 0, \"['ps', 'cc']\": 10, \"['ge', 'rq']\": 10, \"['ge', 'rl']\": 10, \"['ge', 'cc']\": 10, \"['rq', 'rl']\": 10, \"['rq', 'cc']\": 10, \"['rl', 'cc']\": 10, \"['va', 'ps', 'ge']\": 10, \"['va', 'ps', 'rq']\": 10, \"['va', 'ps', 'rl']\": 10, \"['va', 'ps', 'cc']\": 10, \"['va', 'ge', 'rq']\": 10, \"['va', 'ge', 'rl']\": 10, \"['va', 'ge', 'cc']\": 10, \"['va', 'rq', 'rl']\": 10, \"['va', 'rq', 'cc']\": 10, \"['va', 'rl', 'cc']\": 10, \"['ps', 'ge', 'rq']\": 10, \"['ps', 'ge', 'rl']\": 10}\n"
     ]
    },
    {
     "data": {
      "application/vnd.jupyter.widget-view+json": {
       "model_id": "e4f362d9309044f9a317c92efeaaddae",
       "version_major": 2,
       "version_minor": 0
      },
      "text/plain": [
       "  0%|          | 0/10 [00:00<?, ?it/s]"
      ]
     },
     "metadata": {},
     "output_type": "display_data"
    },
    {
     "name": "stdout",
     "output_type": "stream",
     "text": [
      "{\"['va', 'ps']\": 0, \"['va', 'ge']\": 10, \"['va', 'rq']\": 10, \"['va', 'rl']\": 10, \"['va', 'cc']\": 10, \"['ps', 'ge']\": 10, \"['ps', 'rq']\": 1, \"['ps', 'rl']\": 0, \"['ps', 'cc']\": 10, \"['ge', 'rq']\": 10, \"['ge', 'rl']\": 10, \"['ge', 'cc']\": 10, \"['rq', 'rl']\": 10, \"['rq', 'cc']\": 10, \"['rl', 'cc']\": 10, \"['va', 'ps', 'ge']\": 10, \"['va', 'ps', 'rq']\": 10, \"['va', 'ps', 'rl']\": 10, \"['va', 'ps', 'cc']\": 10, \"['va', 'ge', 'rq']\": 10, \"['va', 'ge', 'rl']\": 10, \"['va', 'ge', 'cc']\": 10, \"['va', 'rq', 'rl']\": 10, \"['va', 'rq', 'cc']\": 10, \"['va', 'rl', 'cc']\": 10, \"['ps', 'ge', 'rq']\": 10, \"['ps', 'ge', 'rl']\": 10, \"['ps', 'ge', 'cc']\": 10}\n"
     ]
    },
    {
     "data": {
      "application/vnd.jupyter.widget-view+json": {
       "model_id": "c4d2894bbd514f09a634e85d81988b02",
       "version_major": 2,
       "version_minor": 0
      },
      "text/plain": [
       "  0%|          | 0/10 [00:00<?, ?it/s]"
      ]
     },
     "metadata": {},
     "output_type": "display_data"
    },
    {
     "name": "stdout",
     "output_type": "stream",
     "text": [
      "{\"['va', 'ps']\": 0, \"['va', 'ge']\": 10, \"['va', 'rq']\": 10, \"['va', 'rl']\": 10, \"['va', 'cc']\": 10, \"['ps', 'ge']\": 10, \"['ps', 'rq']\": 1, \"['ps', 'rl']\": 0, \"['ps', 'cc']\": 10, \"['ge', 'rq']\": 10, \"['ge', 'rl']\": 10, \"['ge', 'cc']\": 10, \"['rq', 'rl']\": 10, \"['rq', 'cc']\": 10, \"['rl', 'cc']\": 10, \"['va', 'ps', 'ge']\": 10, \"['va', 'ps', 'rq']\": 10, \"['va', 'ps', 'rl']\": 10, \"['va', 'ps', 'cc']\": 10, \"['va', 'ge', 'rq']\": 10, \"['va', 'ge', 'rl']\": 10, \"['va', 'ge', 'cc']\": 10, \"['va', 'rq', 'rl']\": 10, \"['va', 'rq', 'cc']\": 10, \"['va', 'rl', 'cc']\": 10, \"['ps', 'ge', 'rq']\": 10, \"['ps', 'ge', 'rl']\": 10, \"['ps', 'ge', 'cc']\": 10, \"['ps', 'rq', 'rl']\": 10}\n"
     ]
    },
    {
     "data": {
      "application/vnd.jupyter.widget-view+json": {
       "model_id": "7345550d5b824f16b6238357baf3f5a1",
       "version_major": 2,
       "version_minor": 0
      },
      "text/plain": [
       "  0%|          | 0/10 [00:00<?, ?it/s]"
      ]
     },
     "metadata": {},
     "output_type": "display_data"
    },
    {
     "name": "stdout",
     "output_type": "stream",
     "text": [
      "{\"['va', 'ps']\": 0, \"['va', 'ge']\": 10, \"['va', 'rq']\": 10, \"['va', 'rl']\": 10, \"['va', 'cc']\": 10, \"['ps', 'ge']\": 10, \"['ps', 'rq']\": 1, \"['ps', 'rl']\": 0, \"['ps', 'cc']\": 10, \"['ge', 'rq']\": 10, \"['ge', 'rl']\": 10, \"['ge', 'cc']\": 10, \"['rq', 'rl']\": 10, \"['rq', 'cc']\": 10, \"['rl', 'cc']\": 10, \"['va', 'ps', 'ge']\": 10, \"['va', 'ps', 'rq']\": 10, \"['va', 'ps', 'rl']\": 10, \"['va', 'ps', 'cc']\": 10, \"['va', 'ge', 'rq']\": 10, \"['va', 'ge', 'rl']\": 10, \"['va', 'ge', 'cc']\": 10, \"['va', 'rq', 'rl']\": 10, \"['va', 'rq', 'cc']\": 10, \"['va', 'rl', 'cc']\": 10, \"['ps', 'ge', 'rq']\": 10, \"['ps', 'ge', 'rl']\": 10, \"['ps', 'ge', 'cc']\": 10, \"['ps', 'rq', 'rl']\": 10, \"['ps', 'rq', 'cc']\": 10}\n"
     ]
    },
    {
     "data": {
      "application/vnd.jupyter.widget-view+json": {
       "model_id": "8f0f40df395c454c966e6b3ae1ec766a",
       "version_major": 2,
       "version_minor": 0
      },
      "text/plain": [
       "  0%|          | 0/10 [00:00<?, ?it/s]"
      ]
     },
     "metadata": {},
     "output_type": "display_data"
    },
    {
     "name": "stdout",
     "output_type": "stream",
     "text": [
      "{\"['va', 'ps']\": 0, \"['va', 'ge']\": 10, \"['va', 'rq']\": 10, \"['va', 'rl']\": 10, \"['va', 'cc']\": 10, \"['ps', 'ge']\": 10, \"['ps', 'rq']\": 1, \"['ps', 'rl']\": 0, \"['ps', 'cc']\": 10, \"['ge', 'rq']\": 10, \"['ge', 'rl']\": 10, \"['ge', 'cc']\": 10, \"['rq', 'rl']\": 10, \"['rq', 'cc']\": 10, \"['rl', 'cc']\": 10, \"['va', 'ps', 'ge']\": 10, \"['va', 'ps', 'rq']\": 10, \"['va', 'ps', 'rl']\": 10, \"['va', 'ps', 'cc']\": 10, \"['va', 'ge', 'rq']\": 10, \"['va', 'ge', 'rl']\": 10, \"['va', 'ge', 'cc']\": 10, \"['va', 'rq', 'rl']\": 10, \"['va', 'rq', 'cc']\": 10, \"['va', 'rl', 'cc']\": 10, \"['ps', 'ge', 'rq']\": 10, \"['ps', 'ge', 'rl']\": 10, \"['ps', 'ge', 'cc']\": 10, \"['ps', 'rq', 'rl']\": 10, \"['ps', 'rq', 'cc']\": 10, \"['ps', 'rl', 'cc']\": 10}\n"
     ]
    },
    {
     "data": {
      "application/vnd.jupyter.widget-view+json": {
       "model_id": "28a46f71087e46baa05cee87736921df",
       "version_major": 2,
       "version_minor": 0
      },
      "text/plain": [
       "  0%|          | 0/10 [00:00<?, ?it/s]"
      ]
     },
     "metadata": {},
     "output_type": "display_data"
    },
    {
     "name": "stdout",
     "output_type": "stream",
     "text": [
      "{\"['va', 'ps']\": 0, \"['va', 'ge']\": 10, \"['va', 'rq']\": 10, \"['va', 'rl']\": 10, \"['va', 'cc']\": 10, \"['ps', 'ge']\": 10, \"['ps', 'rq']\": 1, \"['ps', 'rl']\": 0, \"['ps', 'cc']\": 10, \"['ge', 'rq']\": 10, \"['ge', 'rl']\": 10, \"['ge', 'cc']\": 10, \"['rq', 'rl']\": 10, \"['rq', 'cc']\": 10, \"['rl', 'cc']\": 10, \"['va', 'ps', 'ge']\": 10, \"['va', 'ps', 'rq']\": 10, \"['va', 'ps', 'rl']\": 10, \"['va', 'ps', 'cc']\": 10, \"['va', 'ge', 'rq']\": 10, \"['va', 'ge', 'rl']\": 10, \"['va', 'ge', 'cc']\": 10, \"['va', 'rq', 'rl']\": 10, \"['va', 'rq', 'cc']\": 10, \"['va', 'rl', 'cc']\": 10, \"['ps', 'ge', 'rq']\": 10, \"['ps', 'ge', 'rl']\": 10, \"['ps', 'ge', 'cc']\": 10, \"['ps', 'rq', 'rl']\": 10, \"['ps', 'rq', 'cc']\": 10, \"['ps', 'rl', 'cc']\": 10, \"['ge', 'rq', 'rl']\": 10}\n"
     ]
    },
    {
     "data": {
      "application/vnd.jupyter.widget-view+json": {
       "model_id": "574ced0cf93c4754a9986cf80553695c",
       "version_major": 2,
       "version_minor": 0
      },
      "text/plain": [
       "  0%|          | 0/10 [00:00<?, ?it/s]"
      ]
     },
     "metadata": {},
     "output_type": "display_data"
    },
    {
     "name": "stdout",
     "output_type": "stream",
     "text": [
      "{\"['va', 'ps']\": 0, \"['va', 'ge']\": 10, \"['va', 'rq']\": 10, \"['va', 'rl']\": 10, \"['va', 'cc']\": 10, \"['ps', 'ge']\": 10, \"['ps', 'rq']\": 1, \"['ps', 'rl']\": 0, \"['ps', 'cc']\": 10, \"['ge', 'rq']\": 10, \"['ge', 'rl']\": 10, \"['ge', 'cc']\": 10, \"['rq', 'rl']\": 10, \"['rq', 'cc']\": 10, \"['rl', 'cc']\": 10, \"['va', 'ps', 'ge']\": 10, \"['va', 'ps', 'rq']\": 10, \"['va', 'ps', 'rl']\": 10, \"['va', 'ps', 'cc']\": 10, \"['va', 'ge', 'rq']\": 10, \"['va', 'ge', 'rl']\": 10, \"['va', 'ge', 'cc']\": 10, \"['va', 'rq', 'rl']\": 10, \"['va', 'rq', 'cc']\": 10, \"['va', 'rl', 'cc']\": 10, \"['ps', 'ge', 'rq']\": 10, \"['ps', 'ge', 'rl']\": 10, \"['ps', 'ge', 'cc']\": 10, \"['ps', 'rq', 'rl']\": 10, \"['ps', 'rq', 'cc']\": 10, \"['ps', 'rl', 'cc']\": 10, \"['ge', 'rq', 'rl']\": 10, \"['ge', 'rq', 'cc']\": 10}\n"
     ]
    },
    {
     "data": {
      "application/vnd.jupyter.widget-view+json": {
       "model_id": "e48a891e25ec436096617ef50fb65e1c",
       "version_major": 2,
       "version_minor": 0
      },
      "text/plain": [
       "  0%|          | 0/10 [00:00<?, ?it/s]"
      ]
     },
     "metadata": {},
     "output_type": "display_data"
    },
    {
     "name": "stdout",
     "output_type": "stream",
     "text": [
      "{\"['va', 'ps']\": 0, \"['va', 'ge']\": 10, \"['va', 'rq']\": 10, \"['va', 'rl']\": 10, \"['va', 'cc']\": 10, \"['ps', 'ge']\": 10, \"['ps', 'rq']\": 1, \"['ps', 'rl']\": 0, \"['ps', 'cc']\": 10, \"['ge', 'rq']\": 10, \"['ge', 'rl']\": 10, \"['ge', 'cc']\": 10, \"['rq', 'rl']\": 10, \"['rq', 'cc']\": 10, \"['rl', 'cc']\": 10, \"['va', 'ps', 'ge']\": 10, \"['va', 'ps', 'rq']\": 10, \"['va', 'ps', 'rl']\": 10, \"['va', 'ps', 'cc']\": 10, \"['va', 'ge', 'rq']\": 10, \"['va', 'ge', 'rl']\": 10, \"['va', 'ge', 'cc']\": 10, \"['va', 'rq', 'rl']\": 10, \"['va', 'rq', 'cc']\": 10, \"['va', 'rl', 'cc']\": 10, \"['ps', 'ge', 'rq']\": 10, \"['ps', 'ge', 'rl']\": 10, \"['ps', 'ge', 'cc']\": 10, \"['ps', 'rq', 'rl']\": 10, \"['ps', 'rq', 'cc']\": 10, \"['ps', 'rl', 'cc']\": 10, \"['ge', 'rq', 'rl']\": 10, \"['ge', 'rq', 'cc']\": 10, \"['ge', 'rl', 'cc']\": 10}\n"
     ]
    },
    {
     "data": {
      "application/vnd.jupyter.widget-view+json": {
       "model_id": "c1386406341641e5bac0593b711e7cc7",
       "version_major": 2,
       "version_minor": 0
      },
      "text/plain": [
       "  0%|          | 0/10 [00:00<?, ?it/s]"
      ]
     },
     "metadata": {},
     "output_type": "display_data"
    },
    {
     "name": "stdout",
     "output_type": "stream",
     "text": [
      "{\"['va', 'ps']\": 0, \"['va', 'ge']\": 10, \"['va', 'rq']\": 10, \"['va', 'rl']\": 10, \"['va', 'cc']\": 10, \"['ps', 'ge']\": 10, \"['ps', 'rq']\": 1, \"['ps', 'rl']\": 0, \"['ps', 'cc']\": 10, \"['ge', 'rq']\": 10, \"['ge', 'rl']\": 10, \"['ge', 'cc']\": 10, \"['rq', 'rl']\": 10, \"['rq', 'cc']\": 10, \"['rl', 'cc']\": 10, \"['va', 'ps', 'ge']\": 10, \"['va', 'ps', 'rq']\": 10, \"['va', 'ps', 'rl']\": 10, \"['va', 'ps', 'cc']\": 10, \"['va', 'ge', 'rq']\": 10, \"['va', 'ge', 'rl']\": 10, \"['va', 'ge', 'cc']\": 10, \"['va', 'rq', 'rl']\": 10, \"['va', 'rq', 'cc']\": 10, \"['va', 'rl', 'cc']\": 10, \"['ps', 'ge', 'rq']\": 10, \"['ps', 'ge', 'rl']\": 10, \"['ps', 'ge', 'cc']\": 10, \"['ps', 'rq', 'rl']\": 10, \"['ps', 'rq', 'cc']\": 10, \"['ps', 'rl', 'cc']\": 10, \"['ge', 'rq', 'rl']\": 10, \"['ge', 'rq', 'cc']\": 10, \"['ge', 'rl', 'cc']\": 10, \"['rq', 'rl', 'cc']\": 10}\n"
     ]
    },
    {
     "data": {
      "application/vnd.jupyter.widget-view+json": {
       "model_id": "8e5ab72dc2a140578abf10d26025a3b7",
       "version_major": 2,
       "version_minor": 0
      },
      "text/plain": [
       "  0%|          | 0/10 [00:00<?, ?it/s]"
      ]
     },
     "metadata": {},
     "output_type": "display_data"
    },
    {
     "name": "stdout",
     "output_type": "stream",
     "text": [
      "{\"['va', 'ps']\": 0, \"['va', 'ge']\": 10, \"['va', 'rq']\": 10, \"['va', 'rl']\": 10, \"['va', 'cc']\": 10, \"['ps', 'ge']\": 10, \"['ps', 'rq']\": 1, \"['ps', 'rl']\": 0, \"['ps', 'cc']\": 10, \"['ge', 'rq']\": 10, \"['ge', 'rl']\": 10, \"['ge', 'cc']\": 10, \"['rq', 'rl']\": 10, \"['rq', 'cc']\": 10, \"['rl', 'cc']\": 10, \"['va', 'ps', 'ge']\": 10, \"['va', 'ps', 'rq']\": 10, \"['va', 'ps', 'rl']\": 10, \"['va', 'ps', 'cc']\": 10, \"['va', 'ge', 'rq']\": 10, \"['va', 'ge', 'rl']\": 10, \"['va', 'ge', 'cc']\": 10, \"['va', 'rq', 'rl']\": 10, \"['va', 'rq', 'cc']\": 10, \"['va', 'rl', 'cc']\": 10, \"['ps', 'ge', 'rq']\": 10, \"['ps', 'ge', 'rl']\": 10, \"['ps', 'ge', 'cc']\": 10, \"['ps', 'rq', 'rl']\": 10, \"['ps', 'rq', 'cc']\": 10, \"['ps', 'rl', 'cc']\": 10, \"['ge', 'rq', 'rl']\": 10, \"['ge', 'rq', 'cc']\": 10, \"['ge', 'rl', 'cc']\": 10, \"['rq', 'rl', 'cc']\": 10, \"['va', 'ps', 'ge', 'rq']\": 10}\n"
     ]
    },
    {
     "data": {
      "application/vnd.jupyter.widget-view+json": {
       "model_id": "5d369d507a2c43bc9a87f0d08c504aa5",
       "version_major": 2,
       "version_minor": 0
      },
      "text/plain": [
       "  0%|          | 0/10 [00:00<?, ?it/s]"
      ]
     },
     "metadata": {},
     "output_type": "display_data"
    },
    {
     "name": "stdout",
     "output_type": "stream",
     "text": [
      "{\"['va', 'ps']\": 0, \"['va', 'ge']\": 10, \"['va', 'rq']\": 10, \"['va', 'rl']\": 10, \"['va', 'cc']\": 10, \"['ps', 'ge']\": 10, \"['ps', 'rq']\": 1, \"['ps', 'rl']\": 0, \"['ps', 'cc']\": 10, \"['ge', 'rq']\": 10, \"['ge', 'rl']\": 10, \"['ge', 'cc']\": 10, \"['rq', 'rl']\": 10, \"['rq', 'cc']\": 10, \"['rl', 'cc']\": 10, \"['va', 'ps', 'ge']\": 10, \"['va', 'ps', 'rq']\": 10, \"['va', 'ps', 'rl']\": 10, \"['va', 'ps', 'cc']\": 10, \"['va', 'ge', 'rq']\": 10, \"['va', 'ge', 'rl']\": 10, \"['va', 'ge', 'cc']\": 10, \"['va', 'rq', 'rl']\": 10, \"['va', 'rq', 'cc']\": 10, \"['va', 'rl', 'cc']\": 10, \"['ps', 'ge', 'rq']\": 10, \"['ps', 'ge', 'rl']\": 10, \"['ps', 'ge', 'cc']\": 10, \"['ps', 'rq', 'rl']\": 10, \"['ps', 'rq', 'cc']\": 10, \"['ps', 'rl', 'cc']\": 10, \"['ge', 'rq', 'rl']\": 10, \"['ge', 'rq', 'cc']\": 10, \"['ge', 'rl', 'cc']\": 10, \"['rq', 'rl', 'cc']\": 10, \"['va', 'ps', 'ge', 'rq']\": 10, \"['va', 'ps', 'ge', 'rl']\": 10}\n"
     ]
    },
    {
     "data": {
      "application/vnd.jupyter.widget-view+json": {
       "model_id": "4308d1932c754b678c7c2ed8749db122",
       "version_major": 2,
       "version_minor": 0
      },
      "text/plain": [
       "  0%|          | 0/10 [00:00<?, ?it/s]"
      ]
     },
     "metadata": {},
     "output_type": "display_data"
    },
    {
     "name": "stdout",
     "output_type": "stream",
     "text": [
      "{\"['va', 'ps']\": 0, \"['va', 'ge']\": 10, \"['va', 'rq']\": 10, \"['va', 'rl']\": 10, \"['va', 'cc']\": 10, \"['ps', 'ge']\": 10, \"['ps', 'rq']\": 1, \"['ps', 'rl']\": 0, \"['ps', 'cc']\": 10, \"['ge', 'rq']\": 10, \"['ge', 'rl']\": 10, \"['ge', 'cc']\": 10, \"['rq', 'rl']\": 10, \"['rq', 'cc']\": 10, \"['rl', 'cc']\": 10, \"['va', 'ps', 'ge']\": 10, \"['va', 'ps', 'rq']\": 10, \"['va', 'ps', 'rl']\": 10, \"['va', 'ps', 'cc']\": 10, \"['va', 'ge', 'rq']\": 10, \"['va', 'ge', 'rl']\": 10, \"['va', 'ge', 'cc']\": 10, \"['va', 'rq', 'rl']\": 10, \"['va', 'rq', 'cc']\": 10, \"['va', 'rl', 'cc']\": 10, \"['ps', 'ge', 'rq']\": 10, \"['ps', 'ge', 'rl']\": 10, \"['ps', 'ge', 'cc']\": 10, \"['ps', 'rq', 'rl']\": 10, \"['ps', 'rq', 'cc']\": 10, \"['ps', 'rl', 'cc']\": 10, \"['ge', 'rq', 'rl']\": 10, \"['ge', 'rq', 'cc']\": 10, \"['ge', 'rl', 'cc']\": 10, \"['rq', 'rl', 'cc']\": 10, \"['va', 'ps', 'ge', 'rq']\": 10, \"['va', 'ps', 'ge', 'rl']\": 10, \"['va', 'ps', 'ge', 'cc']\": 10}\n"
     ]
    },
    {
     "data": {
      "application/vnd.jupyter.widget-view+json": {
       "model_id": "cc4c45ed3d2a4c6f8ff03420cdb345bb",
       "version_major": 2,
       "version_minor": 0
      },
      "text/plain": [
       "  0%|          | 0/10 [00:00<?, ?it/s]"
      ]
     },
     "metadata": {},
     "output_type": "display_data"
    },
    {
     "name": "stdout",
     "output_type": "stream",
     "text": [
      "{\"['va', 'ps']\": 0, \"['va', 'ge']\": 10, \"['va', 'rq']\": 10, \"['va', 'rl']\": 10, \"['va', 'cc']\": 10, \"['ps', 'ge']\": 10, \"['ps', 'rq']\": 1, \"['ps', 'rl']\": 0, \"['ps', 'cc']\": 10, \"['ge', 'rq']\": 10, \"['ge', 'rl']\": 10, \"['ge', 'cc']\": 10, \"['rq', 'rl']\": 10, \"['rq', 'cc']\": 10, \"['rl', 'cc']\": 10, \"['va', 'ps', 'ge']\": 10, \"['va', 'ps', 'rq']\": 10, \"['va', 'ps', 'rl']\": 10, \"['va', 'ps', 'cc']\": 10, \"['va', 'ge', 'rq']\": 10, \"['va', 'ge', 'rl']\": 10, \"['va', 'ge', 'cc']\": 10, \"['va', 'rq', 'rl']\": 10, \"['va', 'rq', 'cc']\": 10, \"['va', 'rl', 'cc']\": 10, \"['ps', 'ge', 'rq']\": 10, \"['ps', 'ge', 'rl']\": 10, \"['ps', 'ge', 'cc']\": 10, \"['ps', 'rq', 'rl']\": 10, \"['ps', 'rq', 'cc']\": 10, \"['ps', 'rl', 'cc']\": 10, \"['ge', 'rq', 'rl']\": 10, \"['ge', 'rq', 'cc']\": 10, \"['ge', 'rl', 'cc']\": 10, \"['rq', 'rl', 'cc']\": 10, \"['va', 'ps', 'ge', 'rq']\": 10, \"['va', 'ps', 'ge', 'rl']\": 10, \"['va', 'ps', 'ge', 'cc']\": 10, \"['va', 'ps', 'rq', 'rl']\": 10}\n"
     ]
    },
    {
     "data": {
      "application/vnd.jupyter.widget-view+json": {
       "model_id": "4f0c7194688b4ebf94b3c6ba91340bcc",
       "version_major": 2,
       "version_minor": 0
      },
      "text/plain": [
       "  0%|          | 0/10 [00:00<?, ?it/s]"
      ]
     },
     "metadata": {},
     "output_type": "display_data"
    },
    {
     "name": "stdout",
     "output_type": "stream",
     "text": [
      "{\"['va', 'ps']\": 0, \"['va', 'ge']\": 10, \"['va', 'rq']\": 10, \"['va', 'rl']\": 10, \"['va', 'cc']\": 10, \"['ps', 'ge']\": 10, \"['ps', 'rq']\": 1, \"['ps', 'rl']\": 0, \"['ps', 'cc']\": 10, \"['ge', 'rq']\": 10, \"['ge', 'rl']\": 10, \"['ge', 'cc']\": 10, \"['rq', 'rl']\": 10, \"['rq', 'cc']\": 10, \"['rl', 'cc']\": 10, \"['va', 'ps', 'ge']\": 10, \"['va', 'ps', 'rq']\": 10, \"['va', 'ps', 'rl']\": 10, \"['va', 'ps', 'cc']\": 10, \"['va', 'ge', 'rq']\": 10, \"['va', 'ge', 'rl']\": 10, \"['va', 'ge', 'cc']\": 10, \"['va', 'rq', 'rl']\": 10, \"['va', 'rq', 'cc']\": 10, \"['va', 'rl', 'cc']\": 10, \"['ps', 'ge', 'rq']\": 10, \"['ps', 'ge', 'rl']\": 10, \"['ps', 'ge', 'cc']\": 10, \"['ps', 'rq', 'rl']\": 10, \"['ps', 'rq', 'cc']\": 10, \"['ps', 'rl', 'cc']\": 10, \"['ge', 'rq', 'rl']\": 10, \"['ge', 'rq', 'cc']\": 10, \"['ge', 'rl', 'cc']\": 10, \"['rq', 'rl', 'cc']\": 10, \"['va', 'ps', 'ge', 'rq']\": 10, \"['va', 'ps', 'ge', 'rl']\": 10, \"['va', 'ps', 'ge', 'cc']\": 10, \"['va', 'ps', 'rq', 'rl']\": 10, \"['va', 'ps', 'rq', 'cc']\": 10}\n"
     ]
    },
    {
     "data": {
      "application/vnd.jupyter.widget-view+json": {
       "model_id": "e9c3a942ccf048f6818e198e1a664b21",
       "version_major": 2,
       "version_minor": 0
      },
      "text/plain": [
       "  0%|          | 0/10 [00:00<?, ?it/s]"
      ]
     },
     "metadata": {},
     "output_type": "display_data"
    },
    {
     "name": "stdout",
     "output_type": "stream",
     "text": [
      "{\"['va', 'ps']\": 0, \"['va', 'ge']\": 10, \"['va', 'rq']\": 10, \"['va', 'rl']\": 10, \"['va', 'cc']\": 10, \"['ps', 'ge']\": 10, \"['ps', 'rq']\": 1, \"['ps', 'rl']\": 0, \"['ps', 'cc']\": 10, \"['ge', 'rq']\": 10, \"['ge', 'rl']\": 10, \"['ge', 'cc']\": 10, \"['rq', 'rl']\": 10, \"['rq', 'cc']\": 10, \"['rl', 'cc']\": 10, \"['va', 'ps', 'ge']\": 10, \"['va', 'ps', 'rq']\": 10, \"['va', 'ps', 'rl']\": 10, \"['va', 'ps', 'cc']\": 10, \"['va', 'ge', 'rq']\": 10, \"['va', 'ge', 'rl']\": 10, \"['va', 'ge', 'cc']\": 10, \"['va', 'rq', 'rl']\": 10, \"['va', 'rq', 'cc']\": 10, \"['va', 'rl', 'cc']\": 10, \"['ps', 'ge', 'rq']\": 10, \"['ps', 'ge', 'rl']\": 10, \"['ps', 'ge', 'cc']\": 10, \"['ps', 'rq', 'rl']\": 10, \"['ps', 'rq', 'cc']\": 10, \"['ps', 'rl', 'cc']\": 10, \"['ge', 'rq', 'rl']\": 10, \"['ge', 'rq', 'cc']\": 10, \"['ge', 'rl', 'cc']\": 10, \"['rq', 'rl', 'cc']\": 10, \"['va', 'ps', 'ge', 'rq']\": 10, \"['va', 'ps', 'ge', 'rl']\": 10, \"['va', 'ps', 'ge', 'cc']\": 10, \"['va', 'ps', 'rq', 'rl']\": 10, \"['va', 'ps', 'rq', 'cc']\": 10, \"['va', 'ps', 'rl', 'cc']\": 10}\n"
     ]
    },
    {
     "data": {
      "application/vnd.jupyter.widget-view+json": {
       "model_id": "e615ab724f5a428fae9da5d6212bfcef",
       "version_major": 2,
       "version_minor": 0
      },
      "text/plain": [
       "  0%|          | 0/10 [00:00<?, ?it/s]"
      ]
     },
     "metadata": {},
     "output_type": "display_data"
    },
    {
     "name": "stdout",
     "output_type": "stream",
     "text": [
      "{\"['va', 'ps']\": 0, \"['va', 'ge']\": 10, \"['va', 'rq']\": 10, \"['va', 'rl']\": 10, \"['va', 'cc']\": 10, \"['ps', 'ge']\": 10, \"['ps', 'rq']\": 1, \"['ps', 'rl']\": 0, \"['ps', 'cc']\": 10, \"['ge', 'rq']\": 10, \"['ge', 'rl']\": 10, \"['ge', 'cc']\": 10, \"['rq', 'rl']\": 10, \"['rq', 'cc']\": 10, \"['rl', 'cc']\": 10, \"['va', 'ps', 'ge']\": 10, \"['va', 'ps', 'rq']\": 10, \"['va', 'ps', 'rl']\": 10, \"['va', 'ps', 'cc']\": 10, \"['va', 'ge', 'rq']\": 10, \"['va', 'ge', 'rl']\": 10, \"['va', 'ge', 'cc']\": 10, \"['va', 'rq', 'rl']\": 10, \"['va', 'rq', 'cc']\": 10, \"['va', 'rl', 'cc']\": 10, \"['ps', 'ge', 'rq']\": 10, \"['ps', 'ge', 'rl']\": 10, \"['ps', 'ge', 'cc']\": 10, \"['ps', 'rq', 'rl']\": 10, \"['ps', 'rq', 'cc']\": 10, \"['ps', 'rl', 'cc']\": 10, \"['ge', 'rq', 'rl']\": 10, \"['ge', 'rq', 'cc']\": 10, \"['ge', 'rl', 'cc']\": 10, \"['rq', 'rl', 'cc']\": 10, \"['va', 'ps', 'ge', 'rq']\": 10, \"['va', 'ps', 'ge', 'rl']\": 10, \"['va', 'ps', 'ge', 'cc']\": 10, \"['va', 'ps', 'rq', 'rl']\": 10, \"['va', 'ps', 'rq', 'cc']\": 10, \"['va', 'ps', 'rl', 'cc']\": 10, \"['va', 'ge', 'rq', 'rl']\": 10}\n"
     ]
    },
    {
     "data": {
      "application/vnd.jupyter.widget-view+json": {
       "model_id": "1936e344e305425ba1d56e2d396e9bc0",
       "version_major": 2,
       "version_minor": 0
      },
      "text/plain": [
       "  0%|          | 0/10 [00:00<?, ?it/s]"
      ]
     },
     "metadata": {},
     "output_type": "display_data"
    },
    {
     "name": "stdout",
     "output_type": "stream",
     "text": [
      "{\"['va', 'ps']\": 0, \"['va', 'ge']\": 10, \"['va', 'rq']\": 10, \"['va', 'rl']\": 10, \"['va', 'cc']\": 10, \"['ps', 'ge']\": 10, \"['ps', 'rq']\": 1, \"['ps', 'rl']\": 0, \"['ps', 'cc']\": 10, \"['ge', 'rq']\": 10, \"['ge', 'rl']\": 10, \"['ge', 'cc']\": 10, \"['rq', 'rl']\": 10, \"['rq', 'cc']\": 10, \"['rl', 'cc']\": 10, \"['va', 'ps', 'ge']\": 10, \"['va', 'ps', 'rq']\": 10, \"['va', 'ps', 'rl']\": 10, \"['va', 'ps', 'cc']\": 10, \"['va', 'ge', 'rq']\": 10, \"['va', 'ge', 'rl']\": 10, \"['va', 'ge', 'cc']\": 10, \"['va', 'rq', 'rl']\": 10, \"['va', 'rq', 'cc']\": 10, \"['va', 'rl', 'cc']\": 10, \"['ps', 'ge', 'rq']\": 10, \"['ps', 'ge', 'rl']\": 10, \"['ps', 'ge', 'cc']\": 10, \"['ps', 'rq', 'rl']\": 10, \"['ps', 'rq', 'cc']\": 10, \"['ps', 'rl', 'cc']\": 10, \"['ge', 'rq', 'rl']\": 10, \"['ge', 'rq', 'cc']\": 10, \"['ge', 'rl', 'cc']\": 10, \"['rq', 'rl', 'cc']\": 10, \"['va', 'ps', 'ge', 'rq']\": 10, \"['va', 'ps', 'ge', 'rl']\": 10, \"['va', 'ps', 'ge', 'cc']\": 10, \"['va', 'ps', 'rq', 'rl']\": 10, \"['va', 'ps', 'rq', 'cc']\": 10, \"['va', 'ps', 'rl', 'cc']\": 10, \"['va', 'ge', 'rq', 'rl']\": 10, \"['va', 'ge', 'rq', 'cc']\": 10}\n"
     ]
    },
    {
     "data": {
      "application/vnd.jupyter.widget-view+json": {
       "model_id": "11eff587fee545b9b7e13fd5022ead2b",
       "version_major": 2,
       "version_minor": 0
      },
      "text/plain": [
       "  0%|          | 0/10 [00:00<?, ?it/s]"
      ]
     },
     "metadata": {},
     "output_type": "display_data"
    },
    {
     "name": "stdout",
     "output_type": "stream",
     "text": [
      "{\"['va', 'ps']\": 0, \"['va', 'ge']\": 10, \"['va', 'rq']\": 10, \"['va', 'rl']\": 10, \"['va', 'cc']\": 10, \"['ps', 'ge']\": 10, \"['ps', 'rq']\": 1, \"['ps', 'rl']\": 0, \"['ps', 'cc']\": 10, \"['ge', 'rq']\": 10, \"['ge', 'rl']\": 10, \"['ge', 'cc']\": 10, \"['rq', 'rl']\": 10, \"['rq', 'cc']\": 10, \"['rl', 'cc']\": 10, \"['va', 'ps', 'ge']\": 10, \"['va', 'ps', 'rq']\": 10, \"['va', 'ps', 'rl']\": 10, \"['va', 'ps', 'cc']\": 10, \"['va', 'ge', 'rq']\": 10, \"['va', 'ge', 'rl']\": 10, \"['va', 'ge', 'cc']\": 10, \"['va', 'rq', 'rl']\": 10, \"['va', 'rq', 'cc']\": 10, \"['va', 'rl', 'cc']\": 10, \"['ps', 'ge', 'rq']\": 10, \"['ps', 'ge', 'rl']\": 10, \"['ps', 'ge', 'cc']\": 10, \"['ps', 'rq', 'rl']\": 10, \"['ps', 'rq', 'cc']\": 10, \"['ps', 'rl', 'cc']\": 10, \"['ge', 'rq', 'rl']\": 10, \"['ge', 'rq', 'cc']\": 10, \"['ge', 'rl', 'cc']\": 10, \"['rq', 'rl', 'cc']\": 10, \"['va', 'ps', 'ge', 'rq']\": 10, \"['va', 'ps', 'ge', 'rl']\": 10, \"['va', 'ps', 'ge', 'cc']\": 10, \"['va', 'ps', 'rq', 'rl']\": 10, \"['va', 'ps', 'rq', 'cc']\": 10, \"['va', 'ps', 'rl', 'cc']\": 10, \"['va', 'ge', 'rq', 'rl']\": 10, \"['va', 'ge', 'rq', 'cc']\": 10, \"['va', 'ge', 'rl', 'cc']\": 10}\n"
     ]
    },
    {
     "data": {
      "application/vnd.jupyter.widget-view+json": {
       "model_id": "91f6e1c901bb448691ce7fc8e15659f7",
       "version_major": 2,
       "version_minor": 0
      },
      "text/plain": [
       "  0%|          | 0/10 [00:00<?, ?it/s]"
      ]
     },
     "metadata": {},
     "output_type": "display_data"
    },
    {
     "name": "stdout",
     "output_type": "stream",
     "text": [
      "{\"['va', 'ps']\": 0, \"['va', 'ge']\": 10, \"['va', 'rq']\": 10, \"['va', 'rl']\": 10, \"['va', 'cc']\": 10, \"['ps', 'ge']\": 10, \"['ps', 'rq']\": 1, \"['ps', 'rl']\": 0, \"['ps', 'cc']\": 10, \"['ge', 'rq']\": 10, \"['ge', 'rl']\": 10, \"['ge', 'cc']\": 10, \"['rq', 'rl']\": 10, \"['rq', 'cc']\": 10, \"['rl', 'cc']\": 10, \"['va', 'ps', 'ge']\": 10, \"['va', 'ps', 'rq']\": 10, \"['va', 'ps', 'rl']\": 10, \"['va', 'ps', 'cc']\": 10, \"['va', 'ge', 'rq']\": 10, \"['va', 'ge', 'rl']\": 10, \"['va', 'ge', 'cc']\": 10, \"['va', 'rq', 'rl']\": 10, \"['va', 'rq', 'cc']\": 10, \"['va', 'rl', 'cc']\": 10, \"['ps', 'ge', 'rq']\": 10, \"['ps', 'ge', 'rl']\": 10, \"['ps', 'ge', 'cc']\": 10, \"['ps', 'rq', 'rl']\": 10, \"['ps', 'rq', 'cc']\": 10, \"['ps', 'rl', 'cc']\": 10, \"['ge', 'rq', 'rl']\": 10, \"['ge', 'rq', 'cc']\": 10, \"['ge', 'rl', 'cc']\": 10, \"['rq', 'rl', 'cc']\": 10, \"['va', 'ps', 'ge', 'rq']\": 10, \"['va', 'ps', 'ge', 'rl']\": 10, \"['va', 'ps', 'ge', 'cc']\": 10, \"['va', 'ps', 'rq', 'rl']\": 10, \"['va', 'ps', 'rq', 'cc']\": 10, \"['va', 'ps', 'rl', 'cc']\": 10, \"['va', 'ge', 'rq', 'rl']\": 10, \"['va', 'ge', 'rq', 'cc']\": 10, \"['va', 'ge', 'rl', 'cc']\": 10, \"['va', 'rq', 'rl', 'cc']\": 10}\n"
     ]
    },
    {
     "data": {
      "application/vnd.jupyter.widget-view+json": {
       "model_id": "c44f1f5f729343f8b259cd42b5f96b70",
       "version_major": 2,
       "version_minor": 0
      },
      "text/plain": [
       "  0%|          | 0/10 [00:00<?, ?it/s]"
      ]
     },
     "metadata": {},
     "output_type": "display_data"
    },
    {
     "name": "stdout",
     "output_type": "stream",
     "text": [
      "{\"['va', 'ps']\": 0, \"['va', 'ge']\": 10, \"['va', 'rq']\": 10, \"['va', 'rl']\": 10, \"['va', 'cc']\": 10, \"['ps', 'ge']\": 10, \"['ps', 'rq']\": 1, \"['ps', 'rl']\": 0, \"['ps', 'cc']\": 10, \"['ge', 'rq']\": 10, \"['ge', 'rl']\": 10, \"['ge', 'cc']\": 10, \"['rq', 'rl']\": 10, \"['rq', 'cc']\": 10, \"['rl', 'cc']\": 10, \"['va', 'ps', 'ge']\": 10, \"['va', 'ps', 'rq']\": 10, \"['va', 'ps', 'rl']\": 10, \"['va', 'ps', 'cc']\": 10, \"['va', 'ge', 'rq']\": 10, \"['va', 'ge', 'rl']\": 10, \"['va', 'ge', 'cc']\": 10, \"['va', 'rq', 'rl']\": 10, \"['va', 'rq', 'cc']\": 10, \"['va', 'rl', 'cc']\": 10, \"['ps', 'ge', 'rq']\": 10, \"['ps', 'ge', 'rl']\": 10, \"['ps', 'ge', 'cc']\": 10, \"['ps', 'rq', 'rl']\": 10, \"['ps', 'rq', 'cc']\": 10, \"['ps', 'rl', 'cc']\": 10, \"['ge', 'rq', 'rl']\": 10, \"['ge', 'rq', 'cc']\": 10, \"['ge', 'rl', 'cc']\": 10, \"['rq', 'rl', 'cc']\": 10, \"['va', 'ps', 'ge', 'rq']\": 10, \"['va', 'ps', 'ge', 'rl']\": 10, \"['va', 'ps', 'ge', 'cc']\": 10, \"['va', 'ps', 'rq', 'rl']\": 10, \"['va', 'ps', 'rq', 'cc']\": 10, \"['va', 'ps', 'rl', 'cc']\": 10, \"['va', 'ge', 'rq', 'rl']\": 10, \"['va', 'ge', 'rq', 'cc']\": 10, \"['va', 'ge', 'rl', 'cc']\": 10, \"['va', 'rq', 'rl', 'cc']\": 10, \"['ps', 'ge', 'rq', 'rl']\": 10}\n"
     ]
    },
    {
     "data": {
      "application/vnd.jupyter.widget-view+json": {
       "model_id": "2ceb6068e45643a8b0f82f42bfeecf6c",
       "version_major": 2,
       "version_minor": 0
      },
      "text/plain": [
       "  0%|          | 0/10 [00:00<?, ?it/s]"
      ]
     },
     "metadata": {},
     "output_type": "display_data"
    },
    {
     "name": "stdout",
     "output_type": "stream",
     "text": [
      "{\"['va', 'ps']\": 0, \"['va', 'ge']\": 10, \"['va', 'rq']\": 10, \"['va', 'rl']\": 10, \"['va', 'cc']\": 10, \"['ps', 'ge']\": 10, \"['ps', 'rq']\": 1, \"['ps', 'rl']\": 0, \"['ps', 'cc']\": 10, \"['ge', 'rq']\": 10, \"['ge', 'rl']\": 10, \"['ge', 'cc']\": 10, \"['rq', 'rl']\": 10, \"['rq', 'cc']\": 10, \"['rl', 'cc']\": 10, \"['va', 'ps', 'ge']\": 10, \"['va', 'ps', 'rq']\": 10, \"['va', 'ps', 'rl']\": 10, \"['va', 'ps', 'cc']\": 10, \"['va', 'ge', 'rq']\": 10, \"['va', 'ge', 'rl']\": 10, \"['va', 'ge', 'cc']\": 10, \"['va', 'rq', 'rl']\": 10, \"['va', 'rq', 'cc']\": 10, \"['va', 'rl', 'cc']\": 10, \"['ps', 'ge', 'rq']\": 10, \"['ps', 'ge', 'rl']\": 10, \"['ps', 'ge', 'cc']\": 10, \"['ps', 'rq', 'rl']\": 10, \"['ps', 'rq', 'cc']\": 10, \"['ps', 'rl', 'cc']\": 10, \"['ge', 'rq', 'rl']\": 10, \"['ge', 'rq', 'cc']\": 10, \"['ge', 'rl', 'cc']\": 10, \"['rq', 'rl', 'cc']\": 10, \"['va', 'ps', 'ge', 'rq']\": 10, \"['va', 'ps', 'ge', 'rl']\": 10, \"['va', 'ps', 'ge', 'cc']\": 10, \"['va', 'ps', 'rq', 'rl']\": 10, \"['va', 'ps', 'rq', 'cc']\": 10, \"['va', 'ps', 'rl', 'cc']\": 10, \"['va', 'ge', 'rq', 'rl']\": 10, \"['va', 'ge', 'rq', 'cc']\": 10, \"['va', 'ge', 'rl', 'cc']\": 10, \"['va', 'rq', 'rl', 'cc']\": 10, \"['ps', 'ge', 'rq', 'rl']\": 10, \"['ps', 'ge', 'rq', 'cc']\": 10}\n"
     ]
    },
    {
     "data": {
      "application/vnd.jupyter.widget-view+json": {
       "model_id": "c4a2b8f599774126aa15edb548b1551b",
       "version_major": 2,
       "version_minor": 0
      },
      "text/plain": [
       "  0%|          | 0/10 [00:00<?, ?it/s]"
      ]
     },
     "metadata": {},
     "output_type": "display_data"
    },
    {
     "name": "stdout",
     "output_type": "stream",
     "text": [
      "{\"['va', 'ps']\": 0, \"['va', 'ge']\": 10, \"['va', 'rq']\": 10, \"['va', 'rl']\": 10, \"['va', 'cc']\": 10, \"['ps', 'ge']\": 10, \"['ps', 'rq']\": 1, \"['ps', 'rl']\": 0, \"['ps', 'cc']\": 10, \"['ge', 'rq']\": 10, \"['ge', 'rl']\": 10, \"['ge', 'cc']\": 10, \"['rq', 'rl']\": 10, \"['rq', 'cc']\": 10, \"['rl', 'cc']\": 10, \"['va', 'ps', 'ge']\": 10, \"['va', 'ps', 'rq']\": 10, \"['va', 'ps', 'rl']\": 10, \"['va', 'ps', 'cc']\": 10, \"['va', 'ge', 'rq']\": 10, \"['va', 'ge', 'rl']\": 10, \"['va', 'ge', 'cc']\": 10, \"['va', 'rq', 'rl']\": 10, \"['va', 'rq', 'cc']\": 10, \"['va', 'rl', 'cc']\": 10, \"['ps', 'ge', 'rq']\": 10, \"['ps', 'ge', 'rl']\": 10, \"['ps', 'ge', 'cc']\": 10, \"['ps', 'rq', 'rl']\": 10, \"['ps', 'rq', 'cc']\": 10, \"['ps', 'rl', 'cc']\": 10, \"['ge', 'rq', 'rl']\": 10, \"['ge', 'rq', 'cc']\": 10, \"['ge', 'rl', 'cc']\": 10, \"['rq', 'rl', 'cc']\": 10, \"['va', 'ps', 'ge', 'rq']\": 10, \"['va', 'ps', 'ge', 'rl']\": 10, \"['va', 'ps', 'ge', 'cc']\": 10, \"['va', 'ps', 'rq', 'rl']\": 10, \"['va', 'ps', 'rq', 'cc']\": 10, \"['va', 'ps', 'rl', 'cc']\": 10, \"['va', 'ge', 'rq', 'rl']\": 10, \"['va', 'ge', 'rq', 'cc']\": 10, \"['va', 'ge', 'rl', 'cc']\": 10, \"['va', 'rq', 'rl', 'cc']\": 10, \"['ps', 'ge', 'rq', 'rl']\": 10, \"['ps', 'ge', 'rq', 'cc']\": 10, \"['ps', 'ge', 'rl', 'cc']\": 10}\n"
     ]
    },
    {
     "data": {
      "application/vnd.jupyter.widget-view+json": {
       "model_id": "9434be193a9f4a14b9c88576bba54a0c",
       "version_major": 2,
       "version_minor": 0
      },
      "text/plain": [
       "  0%|          | 0/10 [00:00<?, ?it/s]"
      ]
     },
     "metadata": {},
     "output_type": "display_data"
    },
    {
     "name": "stdout",
     "output_type": "stream",
     "text": [
      "{\"['va', 'ps']\": 0, \"['va', 'ge']\": 10, \"['va', 'rq']\": 10, \"['va', 'rl']\": 10, \"['va', 'cc']\": 10, \"['ps', 'ge']\": 10, \"['ps', 'rq']\": 1, \"['ps', 'rl']\": 0, \"['ps', 'cc']\": 10, \"['ge', 'rq']\": 10, \"['ge', 'rl']\": 10, \"['ge', 'cc']\": 10, \"['rq', 'rl']\": 10, \"['rq', 'cc']\": 10, \"['rl', 'cc']\": 10, \"['va', 'ps', 'ge']\": 10, \"['va', 'ps', 'rq']\": 10, \"['va', 'ps', 'rl']\": 10, \"['va', 'ps', 'cc']\": 10, \"['va', 'ge', 'rq']\": 10, \"['va', 'ge', 'rl']\": 10, \"['va', 'ge', 'cc']\": 10, \"['va', 'rq', 'rl']\": 10, \"['va', 'rq', 'cc']\": 10, \"['va', 'rl', 'cc']\": 10, \"['ps', 'ge', 'rq']\": 10, \"['ps', 'ge', 'rl']\": 10, \"['ps', 'ge', 'cc']\": 10, \"['ps', 'rq', 'rl']\": 10, \"['ps', 'rq', 'cc']\": 10, \"['ps', 'rl', 'cc']\": 10, \"['ge', 'rq', 'rl']\": 10, \"['ge', 'rq', 'cc']\": 10, \"['ge', 'rl', 'cc']\": 10, \"['rq', 'rl', 'cc']\": 10, \"['va', 'ps', 'ge', 'rq']\": 10, \"['va', 'ps', 'ge', 'rl']\": 10, \"['va', 'ps', 'ge', 'cc']\": 10, \"['va', 'ps', 'rq', 'rl']\": 10, \"['va', 'ps', 'rq', 'cc']\": 10, \"['va', 'ps', 'rl', 'cc']\": 10, \"['va', 'ge', 'rq', 'rl']\": 10, \"['va', 'ge', 'rq', 'cc']\": 10, \"['va', 'ge', 'rl', 'cc']\": 10, \"['va', 'rq', 'rl', 'cc']\": 10, \"['ps', 'ge', 'rq', 'rl']\": 10, \"['ps', 'ge', 'rq', 'cc']\": 10, \"['ps', 'ge', 'rl', 'cc']\": 10, \"['ps', 'rq', 'rl', 'cc']\": 10}\n"
     ]
    },
    {
     "data": {
      "application/vnd.jupyter.widget-view+json": {
       "model_id": "9390db1ea4164359adfdb63e6d54bfb6",
       "version_major": 2,
       "version_minor": 0
      },
      "text/plain": [
       "  0%|          | 0/10 [00:00<?, ?it/s]"
      ]
     },
     "metadata": {},
     "output_type": "display_data"
    },
    {
     "name": "stdout",
     "output_type": "stream",
     "text": [
      "{\"['va', 'ps']\": 0, \"['va', 'ge']\": 10, \"['va', 'rq']\": 10, \"['va', 'rl']\": 10, \"['va', 'cc']\": 10, \"['ps', 'ge']\": 10, \"['ps', 'rq']\": 1, \"['ps', 'rl']\": 0, \"['ps', 'cc']\": 10, \"['ge', 'rq']\": 10, \"['ge', 'rl']\": 10, \"['ge', 'cc']\": 10, \"['rq', 'rl']\": 10, \"['rq', 'cc']\": 10, \"['rl', 'cc']\": 10, \"['va', 'ps', 'ge']\": 10, \"['va', 'ps', 'rq']\": 10, \"['va', 'ps', 'rl']\": 10, \"['va', 'ps', 'cc']\": 10, \"['va', 'ge', 'rq']\": 10, \"['va', 'ge', 'rl']\": 10, \"['va', 'ge', 'cc']\": 10, \"['va', 'rq', 'rl']\": 10, \"['va', 'rq', 'cc']\": 10, \"['va', 'rl', 'cc']\": 10, \"['ps', 'ge', 'rq']\": 10, \"['ps', 'ge', 'rl']\": 10, \"['ps', 'ge', 'cc']\": 10, \"['ps', 'rq', 'rl']\": 10, \"['ps', 'rq', 'cc']\": 10, \"['ps', 'rl', 'cc']\": 10, \"['ge', 'rq', 'rl']\": 10, \"['ge', 'rq', 'cc']\": 10, \"['ge', 'rl', 'cc']\": 10, \"['rq', 'rl', 'cc']\": 10, \"['va', 'ps', 'ge', 'rq']\": 10, \"['va', 'ps', 'ge', 'rl']\": 10, \"['va', 'ps', 'ge', 'cc']\": 10, \"['va', 'ps', 'rq', 'rl']\": 10, \"['va', 'ps', 'rq', 'cc']\": 10, \"['va', 'ps', 'rl', 'cc']\": 10, \"['va', 'ge', 'rq', 'rl']\": 10, \"['va', 'ge', 'rq', 'cc']\": 10, \"['va', 'ge', 'rl', 'cc']\": 10, \"['va', 'rq', 'rl', 'cc']\": 10, \"['ps', 'ge', 'rq', 'rl']\": 10, \"['ps', 'ge', 'rq', 'cc']\": 10, \"['ps', 'ge', 'rl', 'cc']\": 10, \"['ps', 'rq', 'rl', 'cc']\": 10, \"['ge', 'rq', 'rl', 'cc']\": 10}\n"
     ]
    },
    {
     "data": {
      "application/vnd.jupyter.widget-view+json": {
       "model_id": "9ce1122634bc4fd0abb13b8a3c28e0a0",
       "version_major": 2,
       "version_minor": 0
      },
      "text/plain": [
       "  0%|          | 0/10 [00:00<?, ?it/s]"
      ]
     },
     "metadata": {},
     "output_type": "display_data"
    },
    {
     "name": "stdout",
     "output_type": "stream",
     "text": [
      "{\"['va', 'ps']\": 0, \"['va', 'ge']\": 10, \"['va', 'rq']\": 10, \"['va', 'rl']\": 10, \"['va', 'cc']\": 10, \"['ps', 'ge']\": 10, \"['ps', 'rq']\": 1, \"['ps', 'rl']\": 0, \"['ps', 'cc']\": 10, \"['ge', 'rq']\": 10, \"['ge', 'rl']\": 10, \"['ge', 'cc']\": 10, \"['rq', 'rl']\": 10, \"['rq', 'cc']\": 10, \"['rl', 'cc']\": 10, \"['va', 'ps', 'ge']\": 10, \"['va', 'ps', 'rq']\": 10, \"['va', 'ps', 'rl']\": 10, \"['va', 'ps', 'cc']\": 10, \"['va', 'ge', 'rq']\": 10, \"['va', 'ge', 'rl']\": 10, \"['va', 'ge', 'cc']\": 10, \"['va', 'rq', 'rl']\": 10, \"['va', 'rq', 'cc']\": 10, \"['va', 'rl', 'cc']\": 10, \"['ps', 'ge', 'rq']\": 10, \"['ps', 'ge', 'rl']\": 10, \"['ps', 'ge', 'cc']\": 10, \"['ps', 'rq', 'rl']\": 10, \"['ps', 'rq', 'cc']\": 10, \"['ps', 'rl', 'cc']\": 10, \"['ge', 'rq', 'rl']\": 10, \"['ge', 'rq', 'cc']\": 10, \"['ge', 'rl', 'cc']\": 10, \"['rq', 'rl', 'cc']\": 10, \"['va', 'ps', 'ge', 'rq']\": 10, \"['va', 'ps', 'ge', 'rl']\": 10, \"['va', 'ps', 'ge', 'cc']\": 10, \"['va', 'ps', 'rq', 'rl']\": 10, \"['va', 'ps', 'rq', 'cc']\": 10, \"['va', 'ps', 'rl', 'cc']\": 10, \"['va', 'ge', 'rq', 'rl']\": 10, \"['va', 'ge', 'rq', 'cc']\": 10, \"['va', 'ge', 'rl', 'cc']\": 10, \"['va', 'rq', 'rl', 'cc']\": 10, \"['ps', 'ge', 'rq', 'rl']\": 10, \"['ps', 'ge', 'rq', 'cc']\": 10, \"['ps', 'ge', 'rl', 'cc']\": 10, \"['ps', 'rq', 'rl', 'cc']\": 10, \"['ge', 'rq', 'rl', 'cc']\": 10, \"['va', 'ps', 'ge', 'rq', 'rl']\": 10}\n"
     ]
    },
    {
     "data": {
      "application/vnd.jupyter.widget-view+json": {
       "model_id": "96043707f4f84c6da908b1ea3d449c7d",
       "version_major": 2,
       "version_minor": 0
      },
      "text/plain": [
       "  0%|          | 0/10 [00:00<?, ?it/s]"
      ]
     },
     "metadata": {},
     "output_type": "display_data"
    },
    {
     "name": "stdout",
     "output_type": "stream",
     "text": [
      "{\"['va', 'ps']\": 0, \"['va', 'ge']\": 10, \"['va', 'rq']\": 10, \"['va', 'rl']\": 10, \"['va', 'cc']\": 10, \"['ps', 'ge']\": 10, \"['ps', 'rq']\": 1, \"['ps', 'rl']\": 0, \"['ps', 'cc']\": 10, \"['ge', 'rq']\": 10, \"['ge', 'rl']\": 10, \"['ge', 'cc']\": 10, \"['rq', 'rl']\": 10, \"['rq', 'cc']\": 10, \"['rl', 'cc']\": 10, \"['va', 'ps', 'ge']\": 10, \"['va', 'ps', 'rq']\": 10, \"['va', 'ps', 'rl']\": 10, \"['va', 'ps', 'cc']\": 10, \"['va', 'ge', 'rq']\": 10, \"['va', 'ge', 'rl']\": 10, \"['va', 'ge', 'cc']\": 10, \"['va', 'rq', 'rl']\": 10, \"['va', 'rq', 'cc']\": 10, \"['va', 'rl', 'cc']\": 10, \"['ps', 'ge', 'rq']\": 10, \"['ps', 'ge', 'rl']\": 10, \"['ps', 'ge', 'cc']\": 10, \"['ps', 'rq', 'rl']\": 10, \"['ps', 'rq', 'cc']\": 10, \"['ps', 'rl', 'cc']\": 10, \"['ge', 'rq', 'rl']\": 10, \"['ge', 'rq', 'cc']\": 10, \"['ge', 'rl', 'cc']\": 10, \"['rq', 'rl', 'cc']\": 10, \"['va', 'ps', 'ge', 'rq']\": 10, \"['va', 'ps', 'ge', 'rl']\": 10, \"['va', 'ps', 'ge', 'cc']\": 10, \"['va', 'ps', 'rq', 'rl']\": 10, \"['va', 'ps', 'rq', 'cc']\": 10, \"['va', 'ps', 'rl', 'cc']\": 10, \"['va', 'ge', 'rq', 'rl']\": 10, \"['va', 'ge', 'rq', 'cc']\": 10, \"['va', 'ge', 'rl', 'cc']\": 10, \"['va', 'rq', 'rl', 'cc']\": 10, \"['ps', 'ge', 'rq', 'rl']\": 10, \"['ps', 'ge', 'rq', 'cc']\": 10, \"['ps', 'ge', 'rl', 'cc']\": 10, \"['ps', 'rq', 'rl', 'cc']\": 10, \"['ge', 'rq', 'rl', 'cc']\": 10, \"['va', 'ps', 'ge', 'rq', 'rl']\": 10, \"['va', 'ps', 'ge', 'rq', 'cc']\": 10}\n"
     ]
    },
    {
     "data": {
      "application/vnd.jupyter.widget-view+json": {
       "model_id": "860906af1eb3487390a3cddfc5062a1e",
       "version_major": 2,
       "version_minor": 0
      },
      "text/plain": [
       "  0%|          | 0/10 [00:00<?, ?it/s]"
      ]
     },
     "metadata": {},
     "output_type": "display_data"
    },
    {
     "name": "stdout",
     "output_type": "stream",
     "text": [
      "{\"['va', 'ps']\": 0, \"['va', 'ge']\": 10, \"['va', 'rq']\": 10, \"['va', 'rl']\": 10, \"['va', 'cc']\": 10, \"['ps', 'ge']\": 10, \"['ps', 'rq']\": 1, \"['ps', 'rl']\": 0, \"['ps', 'cc']\": 10, \"['ge', 'rq']\": 10, \"['ge', 'rl']\": 10, \"['ge', 'cc']\": 10, \"['rq', 'rl']\": 10, \"['rq', 'cc']\": 10, \"['rl', 'cc']\": 10, \"['va', 'ps', 'ge']\": 10, \"['va', 'ps', 'rq']\": 10, \"['va', 'ps', 'rl']\": 10, \"['va', 'ps', 'cc']\": 10, \"['va', 'ge', 'rq']\": 10, \"['va', 'ge', 'rl']\": 10, \"['va', 'ge', 'cc']\": 10, \"['va', 'rq', 'rl']\": 10, \"['va', 'rq', 'cc']\": 10, \"['va', 'rl', 'cc']\": 10, \"['ps', 'ge', 'rq']\": 10, \"['ps', 'ge', 'rl']\": 10, \"['ps', 'ge', 'cc']\": 10, \"['ps', 'rq', 'rl']\": 10, \"['ps', 'rq', 'cc']\": 10, \"['ps', 'rl', 'cc']\": 10, \"['ge', 'rq', 'rl']\": 10, \"['ge', 'rq', 'cc']\": 10, \"['ge', 'rl', 'cc']\": 10, \"['rq', 'rl', 'cc']\": 10, \"['va', 'ps', 'ge', 'rq']\": 10, \"['va', 'ps', 'ge', 'rl']\": 10, \"['va', 'ps', 'ge', 'cc']\": 10, \"['va', 'ps', 'rq', 'rl']\": 10, \"['va', 'ps', 'rq', 'cc']\": 10, \"['va', 'ps', 'rl', 'cc']\": 10, \"['va', 'ge', 'rq', 'rl']\": 10, \"['va', 'ge', 'rq', 'cc']\": 10, \"['va', 'ge', 'rl', 'cc']\": 10, \"['va', 'rq', 'rl', 'cc']\": 10, \"['ps', 'ge', 'rq', 'rl']\": 10, \"['ps', 'ge', 'rq', 'cc']\": 10, \"['ps', 'ge', 'rl', 'cc']\": 10, \"['ps', 'rq', 'rl', 'cc']\": 10, \"['ge', 'rq', 'rl', 'cc']\": 10, \"['va', 'ps', 'ge', 'rq', 'rl']\": 10, \"['va', 'ps', 'ge', 'rq', 'cc']\": 10, \"['va', 'ps', 'ge', 'rl', 'cc']\": 10}\n"
     ]
    },
    {
     "data": {
      "application/vnd.jupyter.widget-view+json": {
       "model_id": "cab77bc8b17a438c971137191658a823",
       "version_major": 2,
       "version_minor": 0
      },
      "text/plain": [
       "  0%|          | 0/10 [00:00<?, ?it/s]"
      ]
     },
     "metadata": {},
     "output_type": "display_data"
    },
    {
     "name": "stdout",
     "output_type": "stream",
     "text": [
      "{\"['va', 'ps']\": 0, \"['va', 'ge']\": 10, \"['va', 'rq']\": 10, \"['va', 'rl']\": 10, \"['va', 'cc']\": 10, \"['ps', 'ge']\": 10, \"['ps', 'rq']\": 1, \"['ps', 'rl']\": 0, \"['ps', 'cc']\": 10, \"['ge', 'rq']\": 10, \"['ge', 'rl']\": 10, \"['ge', 'cc']\": 10, \"['rq', 'rl']\": 10, \"['rq', 'cc']\": 10, \"['rl', 'cc']\": 10, \"['va', 'ps', 'ge']\": 10, \"['va', 'ps', 'rq']\": 10, \"['va', 'ps', 'rl']\": 10, \"['va', 'ps', 'cc']\": 10, \"['va', 'ge', 'rq']\": 10, \"['va', 'ge', 'rl']\": 10, \"['va', 'ge', 'cc']\": 10, \"['va', 'rq', 'rl']\": 10, \"['va', 'rq', 'cc']\": 10, \"['va', 'rl', 'cc']\": 10, \"['ps', 'ge', 'rq']\": 10, \"['ps', 'ge', 'rl']\": 10, \"['ps', 'ge', 'cc']\": 10, \"['ps', 'rq', 'rl']\": 10, \"['ps', 'rq', 'cc']\": 10, \"['ps', 'rl', 'cc']\": 10, \"['ge', 'rq', 'rl']\": 10, \"['ge', 'rq', 'cc']\": 10, \"['ge', 'rl', 'cc']\": 10, \"['rq', 'rl', 'cc']\": 10, \"['va', 'ps', 'ge', 'rq']\": 10, \"['va', 'ps', 'ge', 'rl']\": 10, \"['va', 'ps', 'ge', 'cc']\": 10, \"['va', 'ps', 'rq', 'rl']\": 10, \"['va', 'ps', 'rq', 'cc']\": 10, \"['va', 'ps', 'rl', 'cc']\": 10, \"['va', 'ge', 'rq', 'rl']\": 10, \"['va', 'ge', 'rq', 'cc']\": 10, \"['va', 'ge', 'rl', 'cc']\": 10, \"['va', 'rq', 'rl', 'cc']\": 10, \"['ps', 'ge', 'rq', 'rl']\": 10, \"['ps', 'ge', 'rq', 'cc']\": 10, \"['ps', 'ge', 'rl', 'cc']\": 10, \"['ps', 'rq', 'rl', 'cc']\": 10, \"['ge', 'rq', 'rl', 'cc']\": 10, \"['va', 'ps', 'ge', 'rq', 'rl']\": 10, \"['va', 'ps', 'ge', 'rq', 'cc']\": 10, \"['va', 'ps', 'ge', 'rl', 'cc']\": 10, \"['va', 'ps', 'rq', 'rl', 'cc']\": 10}\n"
     ]
    },
    {
     "data": {
      "application/vnd.jupyter.widget-view+json": {
       "model_id": "d480fb4e69b942e5954760ddbd8a8ba7",
       "version_major": 2,
       "version_minor": 0
      },
      "text/plain": [
       "  0%|          | 0/10 [00:00<?, ?it/s]"
      ]
     },
     "metadata": {},
     "output_type": "display_data"
    },
    {
     "name": "stdout",
     "output_type": "stream",
     "text": [
      "{\"['va', 'ps']\": 0, \"['va', 'ge']\": 10, \"['va', 'rq']\": 10, \"['va', 'rl']\": 10, \"['va', 'cc']\": 10, \"['ps', 'ge']\": 10, \"['ps', 'rq']\": 1, \"['ps', 'rl']\": 0, \"['ps', 'cc']\": 10, \"['ge', 'rq']\": 10, \"['ge', 'rl']\": 10, \"['ge', 'cc']\": 10, \"['rq', 'rl']\": 10, \"['rq', 'cc']\": 10, \"['rl', 'cc']\": 10, \"['va', 'ps', 'ge']\": 10, \"['va', 'ps', 'rq']\": 10, \"['va', 'ps', 'rl']\": 10, \"['va', 'ps', 'cc']\": 10, \"['va', 'ge', 'rq']\": 10, \"['va', 'ge', 'rl']\": 10, \"['va', 'ge', 'cc']\": 10, \"['va', 'rq', 'rl']\": 10, \"['va', 'rq', 'cc']\": 10, \"['va', 'rl', 'cc']\": 10, \"['ps', 'ge', 'rq']\": 10, \"['ps', 'ge', 'rl']\": 10, \"['ps', 'ge', 'cc']\": 10, \"['ps', 'rq', 'rl']\": 10, \"['ps', 'rq', 'cc']\": 10, \"['ps', 'rl', 'cc']\": 10, \"['ge', 'rq', 'rl']\": 10, \"['ge', 'rq', 'cc']\": 10, \"['ge', 'rl', 'cc']\": 10, \"['rq', 'rl', 'cc']\": 10, \"['va', 'ps', 'ge', 'rq']\": 10, \"['va', 'ps', 'ge', 'rl']\": 10, \"['va', 'ps', 'ge', 'cc']\": 10, \"['va', 'ps', 'rq', 'rl']\": 10, \"['va', 'ps', 'rq', 'cc']\": 10, \"['va', 'ps', 'rl', 'cc']\": 10, \"['va', 'ge', 'rq', 'rl']\": 10, \"['va', 'ge', 'rq', 'cc']\": 10, \"['va', 'ge', 'rl', 'cc']\": 10, \"['va', 'rq', 'rl', 'cc']\": 10, \"['ps', 'ge', 'rq', 'rl']\": 10, \"['ps', 'ge', 'rq', 'cc']\": 10, \"['ps', 'ge', 'rl', 'cc']\": 10, \"['ps', 'rq', 'rl', 'cc']\": 10, \"['ge', 'rq', 'rl', 'cc']\": 10, \"['va', 'ps', 'ge', 'rq', 'rl']\": 10, \"['va', 'ps', 'ge', 'rq', 'cc']\": 10, \"['va', 'ps', 'ge', 'rl', 'cc']\": 10, \"['va', 'ps', 'rq', 'rl', 'cc']\": 10, \"['va', 'ge', 'rq', 'rl', 'cc']\": 10}\n"
     ]
    },
    {
     "data": {
      "application/vnd.jupyter.widget-view+json": {
       "model_id": "6c8729247c2142c5890e3f898b7bb558",
       "version_major": 2,
       "version_minor": 0
      },
      "text/plain": [
       "  0%|          | 0/10 [00:00<?, ?it/s]"
      ]
     },
     "metadata": {},
     "output_type": "display_data"
    },
    {
     "name": "stdout",
     "output_type": "stream",
     "text": [
      "{\"['va', 'ps']\": 0, \"['va', 'ge']\": 10, \"['va', 'rq']\": 10, \"['va', 'rl']\": 10, \"['va', 'cc']\": 10, \"['ps', 'ge']\": 10, \"['ps', 'rq']\": 1, \"['ps', 'rl']\": 0, \"['ps', 'cc']\": 10, \"['ge', 'rq']\": 10, \"['ge', 'rl']\": 10, \"['ge', 'cc']\": 10, \"['rq', 'rl']\": 10, \"['rq', 'cc']\": 10, \"['rl', 'cc']\": 10, \"['va', 'ps', 'ge']\": 10, \"['va', 'ps', 'rq']\": 10, \"['va', 'ps', 'rl']\": 10, \"['va', 'ps', 'cc']\": 10, \"['va', 'ge', 'rq']\": 10, \"['va', 'ge', 'rl']\": 10, \"['va', 'ge', 'cc']\": 10, \"['va', 'rq', 'rl']\": 10, \"['va', 'rq', 'cc']\": 10, \"['va', 'rl', 'cc']\": 10, \"['ps', 'ge', 'rq']\": 10, \"['ps', 'ge', 'rl']\": 10, \"['ps', 'ge', 'cc']\": 10, \"['ps', 'rq', 'rl']\": 10, \"['ps', 'rq', 'cc']\": 10, \"['ps', 'rl', 'cc']\": 10, \"['ge', 'rq', 'rl']\": 10, \"['ge', 'rq', 'cc']\": 10, \"['ge', 'rl', 'cc']\": 10, \"['rq', 'rl', 'cc']\": 10, \"['va', 'ps', 'ge', 'rq']\": 10, \"['va', 'ps', 'ge', 'rl']\": 10, \"['va', 'ps', 'ge', 'cc']\": 10, \"['va', 'ps', 'rq', 'rl']\": 10, \"['va', 'ps', 'rq', 'cc']\": 10, \"['va', 'ps', 'rl', 'cc']\": 10, \"['va', 'ge', 'rq', 'rl']\": 10, \"['va', 'ge', 'rq', 'cc']\": 10, \"['va', 'ge', 'rl', 'cc']\": 10, \"['va', 'rq', 'rl', 'cc']\": 10, \"['ps', 'ge', 'rq', 'rl']\": 10, \"['ps', 'ge', 'rq', 'cc']\": 10, \"['ps', 'ge', 'rl', 'cc']\": 10, \"['ps', 'rq', 'rl', 'cc']\": 10, \"['ge', 'rq', 'rl', 'cc']\": 10, \"['va', 'ps', 'ge', 'rq', 'rl']\": 10, \"['va', 'ps', 'ge', 'rq', 'cc']\": 10, \"['va', 'ps', 'ge', 'rl', 'cc']\": 10, \"['va', 'ps', 'rq', 'rl', 'cc']\": 10, \"['va', 'ge', 'rq', 'rl', 'cc']\": 10, \"['ps', 'ge', 'rq', 'rl', 'cc']\": 10}\n"
     ]
    },
    {
     "data": {
      "application/vnd.jupyter.widget-view+json": {
       "model_id": "f30677bfe5e540bb97312181888d4fbe",
       "version_major": 2,
       "version_minor": 0
      },
      "text/plain": [
       "  0%|          | 0/10 [00:00<?, ?it/s]"
      ]
     },
     "metadata": {},
     "output_type": "display_data"
    },
    {
     "name": "stdout",
     "output_type": "stream",
     "text": [
      "{\"['va', 'ps']\": 0, \"['va', 'ge']\": 10, \"['va', 'rq']\": 10, \"['va', 'rl']\": 10, \"['va', 'cc']\": 10, \"['ps', 'ge']\": 10, \"['ps', 'rq']\": 1, \"['ps', 'rl']\": 0, \"['ps', 'cc']\": 10, \"['ge', 'rq']\": 10, \"['ge', 'rl']\": 10, \"['ge', 'cc']\": 10, \"['rq', 'rl']\": 10, \"['rq', 'cc']\": 10, \"['rl', 'cc']\": 10, \"['va', 'ps', 'ge']\": 10, \"['va', 'ps', 'rq']\": 10, \"['va', 'ps', 'rl']\": 10, \"['va', 'ps', 'cc']\": 10, \"['va', 'ge', 'rq']\": 10, \"['va', 'ge', 'rl']\": 10, \"['va', 'ge', 'cc']\": 10, \"['va', 'rq', 'rl']\": 10, \"['va', 'rq', 'cc']\": 10, \"['va', 'rl', 'cc']\": 10, \"['ps', 'ge', 'rq']\": 10, \"['ps', 'ge', 'rl']\": 10, \"['ps', 'ge', 'cc']\": 10, \"['ps', 'rq', 'rl']\": 10, \"['ps', 'rq', 'cc']\": 10, \"['ps', 'rl', 'cc']\": 10, \"['ge', 'rq', 'rl']\": 10, \"['ge', 'rq', 'cc']\": 10, \"['ge', 'rl', 'cc']\": 10, \"['rq', 'rl', 'cc']\": 10, \"['va', 'ps', 'ge', 'rq']\": 10, \"['va', 'ps', 'ge', 'rl']\": 10, \"['va', 'ps', 'ge', 'cc']\": 10, \"['va', 'ps', 'rq', 'rl']\": 10, \"['va', 'ps', 'rq', 'cc']\": 10, \"['va', 'ps', 'rl', 'cc']\": 10, \"['va', 'ge', 'rq', 'rl']\": 10, \"['va', 'ge', 'rq', 'cc']\": 10, \"['va', 'ge', 'rl', 'cc']\": 10, \"['va', 'rq', 'rl', 'cc']\": 10, \"['ps', 'ge', 'rq', 'rl']\": 10, \"['ps', 'ge', 'rq', 'cc']\": 10, \"['ps', 'ge', 'rl', 'cc']\": 10, \"['ps', 'rq', 'rl', 'cc']\": 10, \"['ge', 'rq', 'rl', 'cc']\": 10, \"['va', 'ps', 'ge', 'rq', 'rl']\": 10, \"['va', 'ps', 'ge', 'rq', 'cc']\": 10, \"['va', 'ps', 'ge', 'rl', 'cc']\": 10, \"['va', 'ps', 'rq', 'rl', 'cc']\": 10, \"['va', 'ge', 'rq', 'rl', 'cc']\": 10, \"['ps', 'ge', 'rq', 'rl', 'cc']\": 10, \"['va', 'ps', 'ge', 'rq', 'rl', 'cc']\": 10}\n"
     ]
    }
   ],
   "source": [
    "power = {}\n",
    "for (name, klist) in tqdm(zip(power_set_name, power_set), total=len(power_set)):\n",
    "    rejects = 0\n",
    "    for i in tqdm(range(10)):\n",
    "        _, _, _, reject = test_independence(klist, None, n_perms=300, alpha=0.05, mode = 'permutation')\n",
    "        rejects = rejects + reject\n",
    "    power[str(name)] = rejects\n",
    "    print(power)"
   ]
  },
  {
   "cell_type": "code",
   "execution_count": 225,
   "id": "217211d5-6f69-4902-a728-5442d490ade0",
   "metadata": {
    "collapsed": true,
    "jupyter": {
     "outputs_hidden": true
    },
    "tags": []
   },
   "outputs": [
    {
     "data": {
      "text/plain": [
       "{\"['va', 'ps']\": 0,\n",
       " \"['va', 'ge']\": 10,\n",
       " \"['va', 'rq']\": 10,\n",
       " \"['va', 'rl']\": 10,\n",
       " \"['va', 'cc']\": 10,\n",
       " \"['ps', 'ge']\": 10,\n",
       " \"['ps', 'rq']\": 1,\n",
       " \"['ps', 'rl']\": 0,\n",
       " \"['ps', 'cc']\": 10,\n",
       " \"['ge', 'rq']\": 10,\n",
       " \"['ge', 'rl']\": 10,\n",
       " \"['ge', 'cc']\": 10,\n",
       " \"['rq', 'rl']\": 10,\n",
       " \"['rq', 'cc']\": 10,\n",
       " \"['rl', 'cc']\": 10,\n",
       " \"['va', 'ps', 'ge']\": 10,\n",
       " \"['va', 'ps', 'rq']\": 10,\n",
       " \"['va', 'ps', 'rl']\": 10,\n",
       " \"['va', 'ps', 'cc']\": 10,\n",
       " \"['va', 'ge', 'rq']\": 10,\n",
       " \"['va', 'ge', 'rl']\": 10,\n",
       " \"['va', 'ge', 'cc']\": 10,\n",
       " \"['va', 'rq', 'rl']\": 10,\n",
       " \"['va', 'rq', 'cc']\": 10,\n",
       " \"['va', 'rl', 'cc']\": 10,\n",
       " \"['ps', 'ge', 'rq']\": 10,\n",
       " \"['ps', 'ge', 'rl']\": 10,\n",
       " \"['ps', 'ge', 'cc']\": 10,\n",
       " \"['ps', 'rq', 'rl']\": 10,\n",
       " \"['ps', 'rq', 'cc']\": 10,\n",
       " \"['ps', 'rl', 'cc']\": 10,\n",
       " \"['ge', 'rq', 'rl']\": 10,\n",
       " \"['ge', 'rq', 'cc']\": 10,\n",
       " \"['ge', 'rl', 'cc']\": 10,\n",
       " \"['rq', 'rl', 'cc']\": 10,\n",
       " \"['va', 'ps', 'ge', 'rq']\": 10,\n",
       " \"['va', 'ps', 'ge', 'rl']\": 10,\n",
       " \"['va', 'ps', 'ge', 'cc']\": 10,\n",
       " \"['va', 'ps', 'rq', 'rl']\": 10,\n",
       " \"['va', 'ps', 'rq', 'cc']\": 10,\n",
       " \"['va', 'ps', 'rl', 'cc']\": 10,\n",
       " \"['va', 'ge', 'rq', 'rl']\": 10,\n",
       " \"['va', 'ge', 'rq', 'cc']\": 10,\n",
       " \"['va', 'ge', 'rl', 'cc']\": 10,\n",
       " \"['va', 'rq', 'rl', 'cc']\": 10,\n",
       " \"['ps', 'ge', 'rq', 'rl']\": 10,\n",
       " \"['ps', 'ge', 'rq', 'cc']\": 10,\n",
       " \"['ps', 'ge', 'rl', 'cc']\": 10,\n",
       " \"['ps', 'rq', 'rl', 'cc']\": 10,\n",
       " \"['ge', 'rq', 'rl', 'cc']\": 10,\n",
       " \"['va', 'ps', 'ge', 'rq', 'rl']\": 10,\n",
       " \"['va', 'ps', 'ge', 'rq', 'cc']\": 10,\n",
       " \"['va', 'ps', 'ge', 'rl', 'cc']\": 10,\n",
       " \"['va', 'ps', 'rq', 'rl', 'cc']\": 10,\n",
       " \"['va', 'ge', 'rq', 'rl', 'cc']\": 10,\n",
       " \"['ps', 'ge', 'rq', 'rl', 'cc']\": 10,\n",
       " \"['va', 'ps', 'ge', 'rq', 'rl', 'cc']\": 10}"
      ]
     },
     "execution_count": 225,
     "metadata": {},
     "output_type": "execute_result"
    }
   ],
   "source": [
    "power"
   ]
  },
  {
   "cell_type": "code",
   "execution_count": 50,
   "id": "6243492c-b8fa-4d38-a0ef-2bd61a7f87b2",
   "metadata": {
    "tags": []
   },
   "outputs": [],
   "source": [
    "df_VA = df_VA[df_VA['Country'].isin(poor)]\n",
    "df_PS = df_PS[df_PS['Country'].isin(poor)]\n",
    "df_GE = df_GE[df_GE['Country'].isin(poor)]\n",
    "df_RQ = df_RQ[df_RQ['Country'].isin(poor)]\n",
    "df_RL = df_RL[df_RL['Country'].isin(poor)]\n",
    "df_CC = df_CC[df_CC['Country'].isin(poor)]"
   ]
  },
  {
   "cell_type": "code",
   "execution_count": 51,
   "id": "aac51516-6243-4a1c-b6df-e02370ada5a1",
   "metadata": {},
   "outputs": [],
   "source": [
    "df_VA.drop('Country', axis=1, inplace = True)\n",
    "df_PS.drop('Country', axis=1, inplace = True)\n",
    "df_GE.drop('Country', axis=1, inplace = True)\n",
    "df_RQ.drop('Country', axis=1, inplace = True)\n",
    "df_RL.drop('Country', axis=1, inplace = True)\n",
    "df_CC.drop('Country', axis=1, inplace = True)\n",
    "\n",
    "va_arr = df_VA.to_numpy()\n",
    "ps_arr = df_PS.to_numpy()\n",
    "ge_arr = df_GE.to_numpy()\n",
    "rq_arr = df_RQ.to_numpy()\n",
    "rl_arr = df_RL.to_numpy()\n",
    "cc_arr = df_CC.to_numpy()\n",
    "\n",
    "va_arr = StandardScaler().fit_transform(va_arr)\n",
    "ps_arr = StandardScaler().fit_transform(ps_arr)\n",
    "ge_arr = StandardScaler().fit_transform(ge_arr)\n",
    "rq_arr = StandardScaler().fit_transform(rq_arr)\n",
    "rl_arr = StandardScaler().fit_transform(rl_arr)\n",
    "cc_arr = StandardScaler().fit_transform(cc_arr)\n",
    "\n",
    "k_va = compute_kernel_n(va_arr)\n",
    "k_ps = compute_kernel_n(ps_arr)\n",
    "k_ge = compute_kernel_n(ge_arr)\n",
    "k_rq = compute_kernel_n(rq_arr)\n",
    "k_rl = compute_kernel_n(rl_arr)\n",
    "k_cc = compute_kernel_n(cc_arr)"
   ]
  },
  {
   "cell_type": "code",
   "execution_count": 52,
   "id": "b6581923-3e4b-439d-a9b4-45ce3a5cc8ab",
   "metadata": {},
   "outputs": [
    {
     "name": "stdout",
     "output_type": "stream",
     "text": [
      "(66, 25)\n"
     ]
    }
   ],
   "source": [
    "print(df_CC.shape)"
   ]
  },
  {
   "cell_type": "code",
   "execution_count": 53,
   "id": "bf8152e8-9ffc-48b6-8800-4cf28b25c8ca",
   "metadata": {},
   "outputs": [],
   "source": [
    "power_set = find_comb([k_va, k_ps, k_ge, k_rq, k_rl, k_cc])"
   ]
  },
  {
   "cell_type": "code",
   "execution_count": 54,
   "id": "b55c6056-1d2d-4d76-8e3b-07d70d2965bf",
   "metadata": {
    "tags": []
   },
   "outputs": [],
   "source": [
    "power_set_name = find_comb(['va', 'ps', 'ge', 'rq', 'rl', 'cc'])"
   ]
  },
  {
   "cell_type": "code",
   "execution_count": 55,
   "id": "6b3f67be-1f5c-4cd9-ba5c-e1641ae9e038",
   "metadata": {
    "collapsed": true,
    "jupyter": {
     "outputs_hidden": true
    },
    "tags": []
   },
   "outputs": [
    {
     "data": {
      "application/vnd.jupyter.widget-view+json": {
       "model_id": "d6efe33422a74a23aa64bb277c847ccb",
       "version_major": 2,
       "version_minor": 0
      },
      "text/plain": [
       "  0%|          | 0/57 [00:00<?, ?it/s]"
      ]
     },
     "metadata": {},
     "output_type": "display_data"
    },
    {
     "data": {
      "application/vnd.jupyter.widget-view+json": {
       "model_id": "be35e7f37411434ebba66a347a5890c6",
       "version_major": 2,
       "version_minor": 0
      },
      "text/plain": [
       "  0%|          | 0/10 [00:00<?, ?it/s]"
      ]
     },
     "metadata": {},
     "output_type": "display_data"
    },
    {
     "name": "stdout",
     "output_type": "stream",
     "text": [
      "{\"['va', 'ps']\": 10}\n"
     ]
    },
    {
     "data": {
      "application/vnd.jupyter.widget-view+json": {
       "model_id": "ef6b6bd4de0e457985495c5dea6600c5",
       "version_major": 2,
       "version_minor": 0
      },
      "text/plain": [
       "  0%|          | 0/10 [00:00<?, ?it/s]"
      ]
     },
     "metadata": {},
     "output_type": "display_data"
    },
    {
     "name": "stdout",
     "output_type": "stream",
     "text": [
      "{\"['va', 'ps']\": 10, \"['va', 'ge']\": 10}\n"
     ]
    },
    {
     "data": {
      "application/vnd.jupyter.widget-view+json": {
       "model_id": "982c2acd3f724667b09a13156c605335",
       "version_major": 2,
       "version_minor": 0
      },
      "text/plain": [
       "  0%|          | 0/10 [00:00<?, ?it/s]"
      ]
     },
     "metadata": {},
     "output_type": "display_data"
    },
    {
     "name": "stdout",
     "output_type": "stream",
     "text": [
      "{\"['va', 'ps']\": 10, \"['va', 'ge']\": 10, \"['va', 'rq']\": 10}\n"
     ]
    },
    {
     "data": {
      "application/vnd.jupyter.widget-view+json": {
       "model_id": "08d44966dec347e087512c01c48d60a7",
       "version_major": 2,
       "version_minor": 0
      },
      "text/plain": [
       "  0%|          | 0/10 [00:00<?, ?it/s]"
      ]
     },
     "metadata": {},
     "output_type": "display_data"
    },
    {
     "name": "stdout",
     "output_type": "stream",
     "text": [
      "{\"['va', 'ps']\": 10, \"['va', 'ge']\": 10, \"['va', 'rq']\": 10, \"['va', 'rl']\": 10}\n"
     ]
    },
    {
     "data": {
      "application/vnd.jupyter.widget-view+json": {
       "model_id": "847247db84124a4589ed6302af561b21",
       "version_major": 2,
       "version_minor": 0
      },
      "text/plain": [
       "  0%|          | 0/10 [00:00<?, ?it/s]"
      ]
     },
     "metadata": {},
     "output_type": "display_data"
    },
    {
     "name": "stdout",
     "output_type": "stream",
     "text": [
      "{\"['va', 'ps']\": 10, \"['va', 'ge']\": 10, \"['va', 'rq']\": 10, \"['va', 'rl']\": 10, \"['va', 'cc']\": 10}\n"
     ]
    },
    {
     "data": {
      "application/vnd.jupyter.widget-view+json": {
       "model_id": "0b9a3c8d50584eeab76f6c483c569288",
       "version_major": 2,
       "version_minor": 0
      },
      "text/plain": [
       "  0%|          | 0/10 [00:00<?, ?it/s]"
      ]
     },
     "metadata": {},
     "output_type": "display_data"
    },
    {
     "name": "stdout",
     "output_type": "stream",
     "text": [
      "{\"['va', 'ps']\": 10, \"['va', 'ge']\": 10, \"['va', 'rq']\": 10, \"['va', 'rl']\": 10, \"['va', 'cc']\": 10, \"['ps', 'ge']\": 10}\n"
     ]
    },
    {
     "data": {
      "application/vnd.jupyter.widget-view+json": {
       "model_id": "abf8ca8eefc94cbc9e7c98cdd36b4d2d",
       "version_major": 2,
       "version_minor": 0
      },
      "text/plain": [
       "  0%|          | 0/10 [00:00<?, ?it/s]"
      ]
     },
     "metadata": {},
     "output_type": "display_data"
    },
    {
     "name": "stdout",
     "output_type": "stream",
     "text": [
      "{\"['va', 'ps']\": 10, \"['va', 'ge']\": 10, \"['va', 'rq']\": 10, \"['va', 'rl']\": 10, \"['va', 'cc']\": 10, \"['ps', 'ge']\": 10, \"['ps', 'rq']\": 10}\n"
     ]
    },
    {
     "data": {
      "application/vnd.jupyter.widget-view+json": {
       "model_id": "599230b7b7444e3b850769bfc896ff4c",
       "version_major": 2,
       "version_minor": 0
      },
      "text/plain": [
       "  0%|          | 0/10 [00:00<?, ?it/s]"
      ]
     },
     "metadata": {},
     "output_type": "display_data"
    },
    {
     "name": "stdout",
     "output_type": "stream",
     "text": [
      "{\"['va', 'ps']\": 10, \"['va', 'ge']\": 10, \"['va', 'rq']\": 10, \"['va', 'rl']\": 10, \"['va', 'cc']\": 10, \"['ps', 'ge']\": 10, \"['ps', 'rq']\": 10, \"['ps', 'rl']\": 10}\n"
     ]
    },
    {
     "data": {
      "application/vnd.jupyter.widget-view+json": {
       "model_id": "227e49daa01548409fb160af8fd54e9e",
       "version_major": 2,
       "version_minor": 0
      },
      "text/plain": [
       "  0%|          | 0/10 [00:00<?, ?it/s]"
      ]
     },
     "metadata": {},
     "output_type": "display_data"
    },
    {
     "name": "stdout",
     "output_type": "stream",
     "text": [
      "{\"['va', 'ps']\": 10, \"['va', 'ge']\": 10, \"['va', 'rq']\": 10, \"['va', 'rl']\": 10, \"['va', 'cc']\": 10, \"['ps', 'ge']\": 10, \"['ps', 'rq']\": 10, \"['ps', 'rl']\": 10, \"['ps', 'cc']\": 10}\n"
     ]
    },
    {
     "data": {
      "application/vnd.jupyter.widget-view+json": {
       "model_id": "0d878999ef6d48d3be5b40e6e384b01a",
       "version_major": 2,
       "version_minor": 0
      },
      "text/plain": [
       "  0%|          | 0/10 [00:00<?, ?it/s]"
      ]
     },
     "metadata": {},
     "output_type": "display_data"
    },
    {
     "name": "stdout",
     "output_type": "stream",
     "text": [
      "{\"['va', 'ps']\": 10, \"['va', 'ge']\": 10, \"['va', 'rq']\": 10, \"['va', 'rl']\": 10, \"['va', 'cc']\": 10, \"['ps', 'ge']\": 10, \"['ps', 'rq']\": 10, \"['ps', 'rl']\": 10, \"['ps', 'cc']\": 10, \"['ge', 'rq']\": 10}\n"
     ]
    },
    {
     "data": {
      "application/vnd.jupyter.widget-view+json": {
       "model_id": "e29de065edbb41b792f8a6e470144b6d",
       "version_major": 2,
       "version_minor": 0
      },
      "text/plain": [
       "  0%|          | 0/10 [00:00<?, ?it/s]"
      ]
     },
     "metadata": {},
     "output_type": "display_data"
    },
    {
     "name": "stdout",
     "output_type": "stream",
     "text": [
      "{\"['va', 'ps']\": 10, \"['va', 'ge']\": 10, \"['va', 'rq']\": 10, \"['va', 'rl']\": 10, \"['va', 'cc']\": 10, \"['ps', 'ge']\": 10, \"['ps', 'rq']\": 10, \"['ps', 'rl']\": 10, \"['ps', 'cc']\": 10, \"['ge', 'rq']\": 10, \"['ge', 'rl']\": 10}\n"
     ]
    },
    {
     "data": {
      "application/vnd.jupyter.widget-view+json": {
       "model_id": "332c647fc8de484e8f3188a36411c8a4",
       "version_major": 2,
       "version_minor": 0
      },
      "text/plain": [
       "  0%|          | 0/10 [00:00<?, ?it/s]"
      ]
     },
     "metadata": {},
     "output_type": "display_data"
    },
    {
     "name": "stdout",
     "output_type": "stream",
     "text": [
      "{\"['va', 'ps']\": 10, \"['va', 'ge']\": 10, \"['va', 'rq']\": 10, \"['va', 'rl']\": 10, \"['va', 'cc']\": 10, \"['ps', 'ge']\": 10, \"['ps', 'rq']\": 10, \"['ps', 'rl']\": 10, \"['ps', 'cc']\": 10, \"['ge', 'rq']\": 10, \"['ge', 'rl']\": 10, \"['ge', 'cc']\": 10}\n"
     ]
    },
    {
     "data": {
      "application/vnd.jupyter.widget-view+json": {
       "model_id": "0f68026e04f14b9caf5bd70ebed81b4a",
       "version_major": 2,
       "version_minor": 0
      },
      "text/plain": [
       "  0%|          | 0/10 [00:00<?, ?it/s]"
      ]
     },
     "metadata": {},
     "output_type": "display_data"
    },
    {
     "name": "stdout",
     "output_type": "stream",
     "text": [
      "{\"['va', 'ps']\": 10, \"['va', 'ge']\": 10, \"['va', 'rq']\": 10, \"['va', 'rl']\": 10, \"['va', 'cc']\": 10, \"['ps', 'ge']\": 10, \"['ps', 'rq']\": 10, \"['ps', 'rl']\": 10, \"['ps', 'cc']\": 10, \"['ge', 'rq']\": 10, \"['ge', 'rl']\": 10, \"['ge', 'cc']\": 10, \"['rq', 'rl']\": 10}\n"
     ]
    },
    {
     "data": {
      "application/vnd.jupyter.widget-view+json": {
       "model_id": "1f562a5486b74283aecad58b7be0658e",
       "version_major": 2,
       "version_minor": 0
      },
      "text/plain": [
       "  0%|          | 0/10 [00:00<?, ?it/s]"
      ]
     },
     "metadata": {},
     "output_type": "display_data"
    },
    {
     "name": "stdout",
     "output_type": "stream",
     "text": [
      "{\"['va', 'ps']\": 10, \"['va', 'ge']\": 10, \"['va', 'rq']\": 10, \"['va', 'rl']\": 10, \"['va', 'cc']\": 10, \"['ps', 'ge']\": 10, \"['ps', 'rq']\": 10, \"['ps', 'rl']\": 10, \"['ps', 'cc']\": 10, \"['ge', 'rq']\": 10, \"['ge', 'rl']\": 10, \"['ge', 'cc']\": 10, \"['rq', 'rl']\": 10, \"['rq', 'cc']\": 10}\n"
     ]
    },
    {
     "data": {
      "application/vnd.jupyter.widget-view+json": {
       "model_id": "a220a21b1ad742bf954b6cf06815533b",
       "version_major": 2,
       "version_minor": 0
      },
      "text/plain": [
       "  0%|          | 0/10 [00:00<?, ?it/s]"
      ]
     },
     "metadata": {},
     "output_type": "display_data"
    },
    {
     "name": "stdout",
     "output_type": "stream",
     "text": [
      "{\"['va', 'ps']\": 10, \"['va', 'ge']\": 10, \"['va', 'rq']\": 10, \"['va', 'rl']\": 10, \"['va', 'cc']\": 10, \"['ps', 'ge']\": 10, \"['ps', 'rq']\": 10, \"['ps', 'rl']\": 10, \"['ps', 'cc']\": 10, \"['ge', 'rq']\": 10, \"['ge', 'rl']\": 10, \"['ge', 'cc']\": 10, \"['rq', 'rl']\": 10, \"['rq', 'cc']\": 10, \"['rl', 'cc']\": 10}\n"
     ]
    },
    {
     "data": {
      "application/vnd.jupyter.widget-view+json": {
       "model_id": "d43b165f69ea46ca88e59dd31963dd83",
       "version_major": 2,
       "version_minor": 0
      },
      "text/plain": [
       "  0%|          | 0/10 [00:00<?, ?it/s]"
      ]
     },
     "metadata": {},
     "output_type": "display_data"
    },
    {
     "name": "stdout",
     "output_type": "stream",
     "text": [
      "{\"['va', 'ps']\": 10, \"['va', 'ge']\": 10, \"['va', 'rq']\": 10, \"['va', 'rl']\": 10, \"['va', 'cc']\": 10, \"['ps', 'ge']\": 10, \"['ps', 'rq']\": 10, \"['ps', 'rl']\": 10, \"['ps', 'cc']\": 10, \"['ge', 'rq']\": 10, \"['ge', 'rl']\": 10, \"['ge', 'cc']\": 10, \"['rq', 'rl']\": 10, \"['rq', 'cc']\": 10, \"['rl', 'cc']\": 10, \"['va', 'ps', 'ge']\": 10}\n"
     ]
    },
    {
     "data": {
      "application/vnd.jupyter.widget-view+json": {
       "model_id": "1577d450d7794e0981bef8ce422f6274",
       "version_major": 2,
       "version_minor": 0
      },
      "text/plain": [
       "  0%|          | 0/10 [00:00<?, ?it/s]"
      ]
     },
     "metadata": {},
     "output_type": "display_data"
    },
    {
     "name": "stdout",
     "output_type": "stream",
     "text": [
      "{\"['va', 'ps']\": 10, \"['va', 'ge']\": 10, \"['va', 'rq']\": 10, \"['va', 'rl']\": 10, \"['va', 'cc']\": 10, \"['ps', 'ge']\": 10, \"['ps', 'rq']\": 10, \"['ps', 'rl']\": 10, \"['ps', 'cc']\": 10, \"['ge', 'rq']\": 10, \"['ge', 'rl']\": 10, \"['ge', 'cc']\": 10, \"['rq', 'rl']\": 10, \"['rq', 'cc']\": 10, \"['rl', 'cc']\": 10, \"['va', 'ps', 'ge']\": 10, \"['va', 'ps', 'rq']\": 10}\n"
     ]
    },
    {
     "data": {
      "application/vnd.jupyter.widget-view+json": {
       "model_id": "6f37f324de1947d884ebc4463f297ba5",
       "version_major": 2,
       "version_minor": 0
      },
      "text/plain": [
       "  0%|          | 0/10 [00:00<?, ?it/s]"
      ]
     },
     "metadata": {},
     "output_type": "display_data"
    },
    {
     "ename": "KeyboardInterrupt",
     "evalue": "",
     "output_type": "error",
     "traceback": [
      "\u001b[0;31m---------------------------------------------------------------------------\u001b[0m",
      "\u001b[0;31mKeyboardInterrupt\u001b[0m                         Traceback (most recent call last)",
      "Input \u001b[0;32mIn [55]\u001b[0m, in \u001b[0;36m<cell line: 2>\u001b[0;34m()\u001b[0m\n\u001b[1;32m      3\u001b[0m rejects \u001b[38;5;241m=\u001b[39m \u001b[38;5;241m0\u001b[39m\n\u001b[1;32m      4\u001b[0m \u001b[38;5;28;01mfor\u001b[39;00m i \u001b[38;5;129;01min\u001b[39;00m tqdm(\u001b[38;5;28mrange\u001b[39m(\u001b[38;5;241m10\u001b[39m)):\n\u001b[0;32m----> 5\u001b[0m     _, _, _, reject \u001b[38;5;241m=\u001b[39m \u001b[43mtest_independence\u001b[49m\u001b[43m(\u001b[49m\u001b[43mklist\u001b[49m\u001b[43m,\u001b[49m\u001b[43m \u001b[49m\u001b[38;5;28;43;01mNone\u001b[39;49;00m\u001b[43m,\u001b[49m\u001b[43m \u001b[49m\u001b[43mn_perms\u001b[49m\u001b[38;5;241;43m=\u001b[39;49m\u001b[38;5;241;43m500\u001b[39;49m\u001b[43m,\u001b[49m\u001b[43m \u001b[49m\u001b[43malpha\u001b[49m\u001b[38;5;241;43m=\u001b[39;49m\u001b[38;5;241;43m0.05\u001b[39;49m\u001b[43m,\u001b[49m\u001b[43m \u001b[49m\u001b[43mmode\u001b[49m\u001b[43m \u001b[49m\u001b[38;5;241;43m=\u001b[39;49m\u001b[43m \u001b[49m\u001b[38;5;124;43m'\u001b[39;49m\u001b[38;5;124;43mpermutation\u001b[39;49m\u001b[38;5;124;43m'\u001b[39;49m\u001b[43m)\u001b[49m\n\u001b[1;32m      6\u001b[0m     rejects \u001b[38;5;241m=\u001b[39m rejects \u001b[38;5;241m+\u001b[39m reject\n\u001b[1;32m      7\u001b[0m power[\u001b[38;5;28mstr\u001b[39m(name)] \u001b[38;5;241m=\u001b[39m rejects\n",
      "File \u001b[0;32m/Users/Tim/PycharmProjects/HOI/HOI/tests.py:237\u001b[0m, in \u001b[0;36mtest_independence\u001b[0;34m(k_list, data_list, n_perms, alpha, mode)\u001b[0m\n\u001b[1;32m    235\u001b[0m \u001b[38;5;28;01mif\u001b[39;00m mode \u001b[38;5;241m==\u001b[39m \u001b[38;5;124m'\u001b[39m\u001b[38;5;124mpermutation\u001b[39m\u001b[38;5;124m'\u001b[39m:\n\u001b[1;32m    236\u001b[0m     statistic \u001b[38;5;241m=\u001b[39m compute_dHSIC_statistics(k_list)\n\u001b[0;32m--> 237\u001b[0m     critical_value, pval \u001b[38;5;241m=\u001b[39m \u001b[43mdhsic_permutation\u001b[49m\u001b[43m(\u001b[49m\u001b[43mk_list\u001b[49m\u001b[43m,\u001b[49m\u001b[43m \u001b[49m\u001b[43mn_samples\u001b[49m\u001b[43m,\u001b[49m\u001b[43m \u001b[49m\u001b[43mn_variables\u001b[49m\u001b[43m,\u001b[49m\u001b[43m \u001b[49m\u001b[43mstatistic\u001b[49m\u001b[43m,\u001b[49m\u001b[43m \u001b[49m\u001b[43mn_perms\u001b[49m\u001b[43m,\u001b[49m\u001b[43m \u001b[49m\u001b[43malpha\u001b[49m\u001b[43m)\u001b[49m\n\u001b[1;32m    238\u001b[0m     reject \u001b[38;5;241m=\u001b[39m \u001b[38;5;28mint\u001b[39m(statistic \u001b[38;5;241m>\u001b[39m critical_value)\n\u001b[1;32m    239\u001b[0m     \u001b[38;5;28;01mreturn\u001b[39;00m statistic, critical_value, pval, reject\n",
      "File \u001b[0;32m/Users/Tim/PycharmProjects/HOI/HOI/tests.py:27\u001b[0m, in \u001b[0;36mdhsic_permutation\u001b[0;34m(k_list, n_samples, n_variables, stat_found, n_perms, alpha)\u001b[0m\n\u001b[1;32m     25\u001b[0m term1 \u001b[38;5;241m=\u001b[39m k_list[\u001b[38;5;241m0\u001b[39m]\n\u001b[1;32m     26\u001b[0m term2 \u001b[38;5;241m=\u001b[39m np\u001b[38;5;241m.\u001b[39msum(k_list[\u001b[38;5;241m0\u001b[39m]) \u001b[38;5;241m/\u001b[39m (n_samples \u001b[38;5;241m*\u001b[39m\u001b[38;5;241m*\u001b[39m \u001b[38;5;241m2\u001b[39m)\n\u001b[0;32m---> 27\u001b[0m term3 \u001b[38;5;241m=\u001b[39m \u001b[38;5;241m2\u001b[39m \u001b[38;5;241m*\u001b[39m \u001b[43mnp\u001b[49m\u001b[38;5;241;43m.\u001b[39;49m\u001b[43msum\u001b[49m\u001b[43m(\u001b[49m\u001b[43mk_list\u001b[49m\u001b[43m[\u001b[49m\u001b[38;5;241;43m0\u001b[39;49m\u001b[43m]\u001b[49m\u001b[43m,\u001b[49m\u001b[43m \u001b[49m\u001b[43maxis\u001b[49m\u001b[38;5;241;43m=\u001b[39;49m\u001b[38;5;241;43m0\u001b[39;49m\u001b[43m)\u001b[49m \u001b[38;5;241m/\u001b[39m (n_samples \u001b[38;5;241m*\u001b[39m\u001b[38;5;241m*\u001b[39m \u001b[38;5;241m2\u001b[39m)\n\u001b[1;32m     29\u001b[0m \u001b[38;5;28;01mfor\u001b[39;00m j \u001b[38;5;129;01min\u001b[39;00m \u001b[38;5;28mrange\u001b[39m(\u001b[38;5;241m1\u001b[39m, n_variables):\n\u001b[1;32m     30\u001b[0m     index_perm \u001b[38;5;241m=\u001b[39m np\u001b[38;5;241m.\u001b[39mrandom\u001b[38;5;241m.\u001b[39mpermutation(k_list[j]\u001b[38;5;241m.\u001b[39mshape[\u001b[38;5;241m0\u001b[39m])\n",
      "File \u001b[0;32m<__array_function__ internals>:5\u001b[0m, in \u001b[0;36msum\u001b[0;34m(*args, **kwargs)\u001b[0m\n",
      "File \u001b[0;32m~/opt/anaconda3/lib/python3.9/site-packages/numpy/core/fromnumeric.py:2259\u001b[0m, in \u001b[0;36msum\u001b[0;34m(a, axis, dtype, out, keepdims, initial, where)\u001b[0m\n\u001b[1;32m   2256\u001b[0m         \u001b[38;5;28;01mreturn\u001b[39;00m out\n\u001b[1;32m   2257\u001b[0m     \u001b[38;5;28;01mreturn\u001b[39;00m res\n\u001b[0;32m-> 2259\u001b[0m \u001b[38;5;28;01mreturn\u001b[39;00m \u001b[43m_wrapreduction\u001b[49m\u001b[43m(\u001b[49m\u001b[43ma\u001b[49m\u001b[43m,\u001b[49m\u001b[43m \u001b[49m\u001b[43mnp\u001b[49m\u001b[38;5;241;43m.\u001b[39;49m\u001b[43madd\u001b[49m\u001b[43m,\u001b[49m\u001b[43m \u001b[49m\u001b[38;5;124;43m'\u001b[39;49m\u001b[38;5;124;43msum\u001b[39;49m\u001b[38;5;124;43m'\u001b[39;49m\u001b[43m,\u001b[49m\u001b[43m \u001b[49m\u001b[43maxis\u001b[49m\u001b[43m,\u001b[49m\u001b[43m \u001b[49m\u001b[43mdtype\u001b[49m\u001b[43m,\u001b[49m\u001b[43m \u001b[49m\u001b[43mout\u001b[49m\u001b[43m,\u001b[49m\u001b[43m \u001b[49m\u001b[43mkeepdims\u001b[49m\u001b[38;5;241;43m=\u001b[39;49m\u001b[43mkeepdims\u001b[49m\u001b[43m,\u001b[49m\n\u001b[1;32m   2260\u001b[0m \u001b[43m                      \u001b[49m\u001b[43minitial\u001b[49m\u001b[38;5;241;43m=\u001b[39;49m\u001b[43minitial\u001b[49m\u001b[43m,\u001b[49m\u001b[43m \u001b[49m\u001b[43mwhere\u001b[49m\u001b[38;5;241;43m=\u001b[39;49m\u001b[43mwhere\u001b[49m\u001b[43m)\u001b[49m\n",
      "File \u001b[0;32m~/opt/anaconda3/lib/python3.9/site-packages/numpy/core/fromnumeric.py:86\u001b[0m, in \u001b[0;36m_wrapreduction\u001b[0;34m(obj, ufunc, method, axis, dtype, out, **kwargs)\u001b[0m\n\u001b[1;32m     83\u001b[0m         \u001b[38;5;28;01melse\u001b[39;00m:\n\u001b[1;32m     84\u001b[0m             \u001b[38;5;28;01mreturn\u001b[39;00m reduction(axis\u001b[38;5;241m=\u001b[39maxis, out\u001b[38;5;241m=\u001b[39mout, \u001b[38;5;241m*\u001b[39m\u001b[38;5;241m*\u001b[39mpasskwargs)\n\u001b[0;32m---> 86\u001b[0m \u001b[38;5;28;01mreturn\u001b[39;00m \u001b[43mufunc\u001b[49m\u001b[38;5;241;43m.\u001b[39;49m\u001b[43mreduce\u001b[49m\u001b[43m(\u001b[49m\u001b[43mobj\u001b[49m\u001b[43m,\u001b[49m\u001b[43m \u001b[49m\u001b[43maxis\u001b[49m\u001b[43m,\u001b[49m\u001b[43m \u001b[49m\u001b[43mdtype\u001b[49m\u001b[43m,\u001b[49m\u001b[43m \u001b[49m\u001b[43mout\u001b[49m\u001b[43m,\u001b[49m\u001b[43m \u001b[49m\u001b[38;5;241;43m*\u001b[39;49m\u001b[38;5;241;43m*\u001b[39;49m\u001b[43mpasskwargs\u001b[49m\u001b[43m)\u001b[49m\n",
      "\u001b[0;31mKeyboardInterrupt\u001b[0m: "
     ]
    }
   ],
   "source": [
    "power = {}\n",
    "for (name, klist) in tqdm(zip(power_set_name, power_set), total=len(power_set)):\n",
    "    rejects = 0\n",
    "    for i in tqdm(range(10)):\n",
    "        _, _, _, reject = test_independence(klist, None, n_perms=500, alpha=0.05, mode = 'permutation')\n",
    "        rejects = rejects + reject\n",
    "    power[str(name)] = rejects\n",
    "    print(power)"
   ]
  },
  {
   "cell_type": "code",
   "execution_count": null,
   "id": "c3c2e878-d47e-4af0-97c1-3c066a165141",
   "metadata": {},
   "outputs": [],
   "source": []
  },
  {
   "cell_type": "code",
   "execution_count": null,
   "id": "db188103-ad14-4020-a890-fe0ff43adcde",
   "metadata": {},
   "outputs": [],
   "source": []
  },
  {
   "cell_type": "code",
   "execution_count": null,
   "id": "1c23f977-00bf-4ad8-8d0d-9f19a3f6144d",
   "metadata": {},
   "outputs": [],
   "source": []
  },
  {
   "cell_type": "markdown",
   "id": "958c1fd0-c221-4c8e-af35-2af838cdb1f2",
   "metadata": {},
   "source": [
    "# dHSIC tests"
   ]
  },
  {
   "cell_type": "code",
   "execution_count": 223,
   "id": "0e2b4afc-049c-4d5d-bc96-bd4c97fc9fe6",
   "metadata": {},
   "outputs": [],
   "source": [
    "df_VA.drop('Country', axis=1, inplace = True)\n",
    "df_PS.drop('Country', axis=1, inplace = True)\n",
    "df_GE.drop('Country', axis=1, inplace = True)\n",
    "df_RQ.drop('Country', axis=1, inplace = True)\n",
    "df_RL.drop('Country', axis=1, inplace = True)\n",
    "df_CC.drop('Country', axis=1, inplace = True)"
   ]
  },
  {
   "cell_type": "code",
   "execution_count": 224,
   "id": "71cd60d0-b5cf-4b14-a1df-8da93adfa732",
   "metadata": {},
   "outputs": [],
   "source": [
    "va_arr = df_VA.to_numpy()\n",
    "ps_arr = df_PS.to_numpy()\n",
    "ge_arr = df_GE.to_numpy()\n",
    "rq_arr = df_RQ.to_numpy()\n",
    "rl_arr = df_RL.to_numpy()\n",
    "cc_arr = df_CC.to_numpy()"
   ]
  },
  {
   "cell_type": "code",
   "execution_count": 200,
   "id": "0b8dd5c1-4873-4f84-89e0-c2045b6751e5",
   "metadata": {},
   "outputs": [],
   "source": [
    "va_arr = StandardScaler().fit_transform(va_arr)\n",
    "ps_arr = StandardScaler().fit_transform(ps_arr)\n",
    "ge_arr = StandardScaler().fit_transform(ge_arr)\n",
    "rq_arr = StandardScaler().fit_transform(rq_arr)\n",
    "rl_arr = StandardScaler().fit_transform(rl_arr)\n",
    "cc_arr = StandardScaler().fit_transform(cc_arr)"
   ]
  },
  {
   "cell_type": "code",
   "execution_count": 201,
   "id": "0ef0e66a-7d5c-4251-91ca-934540081f52",
   "metadata": {},
   "outputs": [],
   "source": [
    "k_va = compute_kernel_n(va_arr)\n",
    "k_ps = compute_kernel_n(ps_arr)\n",
    "k_ge = compute_kernel_n(ge_arr)\n",
    "k_rq = compute_kernel_n(rq_arr)\n",
    "k_rl = compute_kernel_n(rl_arr)\n",
    "k_cc = compute_kernel_n(cc_arr)"
   ]
  },
  {
   "cell_type": "code",
   "execution_count": 203,
   "id": "3e55ece5-c299-4301-84f5-5e7ce5f6f526",
   "metadata": {},
   "outputs": [],
   "source": [
    "power_set = find_comb([k_va, k_ps, k_ge, k_rq, k_rl, k_cc])"
   ]
  },
  {
   "cell_type": "code",
   "execution_count": 204,
   "id": "24d15b8b-3af4-402c-9bd9-d32d898d5a5c",
   "metadata": {
    "tags": []
   },
   "outputs": [],
   "source": [
    "power_set_name = find_comb(['va', 'ps', 'ge', 'rq', 'rl', 'cc'])"
   ]
  },
  {
   "cell_type": "code",
   "execution_count": 205,
   "id": "e4c04f31-229d-4a07-929c-8f0843107876",
   "metadata": {
    "collapsed": true,
    "jupyter": {
     "outputs_hidden": true
    },
    "tags": []
   },
   "outputs": [
    {
     "data": {
      "application/vnd.jupyter.widget-view+json": {
       "model_id": "ddaeacad543f47df950b906d484c7c25",
       "version_major": 2,
       "version_minor": 0
      },
      "text/plain": [
       "  0%|          | 0/57 [00:00<?, ?it/s]"
      ]
     },
     "metadata": {},
     "output_type": "display_data"
    },
    {
     "data": {
      "application/vnd.jupyter.widget-view+json": {
       "model_id": "d1eb00eb1b8b4e01ac7c003042bb50a0",
       "version_major": 2,
       "version_minor": 0
      },
      "text/plain": [
       "  0%|          | 0/100 [00:00<?, ?it/s]"
      ]
     },
     "metadata": {},
     "output_type": "display_data"
    },
    {
     "name": "stdout",
     "output_type": "stream",
     "text": [
      "{\"['va', 'ps']\": 100}\n"
     ]
    },
    {
     "data": {
      "application/vnd.jupyter.widget-view+json": {
       "model_id": "ac67f134beb84279b99507f546b4b19b",
       "version_major": 2,
       "version_minor": 0
      },
      "text/plain": [
       "  0%|          | 0/100 [00:00<?, ?it/s]"
      ]
     },
     "metadata": {},
     "output_type": "display_data"
    },
    {
     "name": "stdout",
     "output_type": "stream",
     "text": [
      "{\"['va', 'ps']\": 100, \"['va', 'ge']\": 100}\n"
     ]
    },
    {
     "data": {
      "application/vnd.jupyter.widget-view+json": {
       "model_id": "32f3b3ca06f4406f9fc1953ab8ee9fd3",
       "version_major": 2,
       "version_minor": 0
      },
      "text/plain": [
       "  0%|          | 0/100 [00:00<?, ?it/s]"
      ]
     },
     "metadata": {},
     "output_type": "display_data"
    },
    {
     "name": "stdout",
     "output_type": "stream",
     "text": [
      "{\"['va', 'ps']\": 100, \"['va', 'ge']\": 100, \"['va', 'rq']\": 100}\n"
     ]
    },
    {
     "data": {
      "application/vnd.jupyter.widget-view+json": {
       "model_id": "75fd26895fab449a80ac7a6e6a28a67a",
       "version_major": 2,
       "version_minor": 0
      },
      "text/plain": [
       "  0%|          | 0/100 [00:00<?, ?it/s]"
      ]
     },
     "metadata": {},
     "output_type": "display_data"
    },
    {
     "name": "stdout",
     "output_type": "stream",
     "text": [
      "{\"['va', 'ps']\": 100, \"['va', 'ge']\": 100, \"['va', 'rq']\": 100, \"['va', 'rl']\": 100}\n"
     ]
    },
    {
     "data": {
      "application/vnd.jupyter.widget-view+json": {
       "model_id": "654a6feb56924a24b47dcbae87d41c78",
       "version_major": 2,
       "version_minor": 0
      },
      "text/plain": [
       "  0%|          | 0/100 [00:00<?, ?it/s]"
      ]
     },
     "metadata": {},
     "output_type": "display_data"
    },
    {
     "name": "stdout",
     "output_type": "stream",
     "text": [
      "{\"['va', 'ps']\": 100, \"['va', 'ge']\": 100, \"['va', 'rq']\": 100, \"['va', 'rl']\": 100, \"['va', 'cc']\": 100}\n"
     ]
    },
    {
     "data": {
      "application/vnd.jupyter.widget-view+json": {
       "model_id": "7d6f82c965da4ba986b8402ddbcb280c",
       "version_major": 2,
       "version_minor": 0
      },
      "text/plain": [
       "  0%|          | 0/100 [00:00<?, ?it/s]"
      ]
     },
     "metadata": {},
     "output_type": "display_data"
    },
    {
     "name": "stdout",
     "output_type": "stream",
     "text": [
      "{\"['va', 'ps']\": 100, \"['va', 'ge']\": 100, \"['va', 'rq']\": 100, \"['va', 'rl']\": 100, \"['va', 'cc']\": 100, \"['ps', 'ge']\": 100}\n"
     ]
    },
    {
     "data": {
      "application/vnd.jupyter.widget-view+json": {
       "model_id": "9ea8f5e90e1241bf867afe0207a37f76",
       "version_major": 2,
       "version_minor": 0
      },
      "text/plain": [
       "  0%|          | 0/100 [00:00<?, ?it/s]"
      ]
     },
     "metadata": {},
     "output_type": "display_data"
    },
    {
     "name": "stdout",
     "output_type": "stream",
     "text": [
      "{\"['va', 'ps']\": 100, \"['va', 'ge']\": 100, \"['va', 'rq']\": 100, \"['va', 'rl']\": 100, \"['va', 'cc']\": 100, \"['ps', 'ge']\": 100, \"['ps', 'rq']\": 100}\n"
     ]
    },
    {
     "data": {
      "application/vnd.jupyter.widget-view+json": {
       "model_id": "5622d500cf584c7e95cc6fef3cf5f47f",
       "version_major": 2,
       "version_minor": 0
      },
      "text/plain": [
       "  0%|          | 0/100 [00:00<?, ?it/s]"
      ]
     },
     "metadata": {},
     "output_type": "display_data"
    },
    {
     "name": "stdout",
     "output_type": "stream",
     "text": [
      "{\"['va', 'ps']\": 100, \"['va', 'ge']\": 100, \"['va', 'rq']\": 100, \"['va', 'rl']\": 100, \"['va', 'cc']\": 100, \"['ps', 'ge']\": 100, \"['ps', 'rq']\": 100, \"['ps', 'rl']\": 100}\n"
     ]
    },
    {
     "data": {
      "application/vnd.jupyter.widget-view+json": {
       "model_id": "5347dbe689fc4412a8842909abadc603",
       "version_major": 2,
       "version_minor": 0
      },
      "text/plain": [
       "  0%|          | 0/100 [00:00<?, ?it/s]"
      ]
     },
     "metadata": {},
     "output_type": "display_data"
    },
    {
     "name": "stdout",
     "output_type": "stream",
     "text": [
      "{\"['va', 'ps']\": 100, \"['va', 'ge']\": 100, \"['va', 'rq']\": 100, \"['va', 'rl']\": 100, \"['va', 'cc']\": 100, \"['ps', 'ge']\": 100, \"['ps', 'rq']\": 100, \"['ps', 'rl']\": 100, \"['ps', 'cc']\": 100}\n"
     ]
    },
    {
     "data": {
      "application/vnd.jupyter.widget-view+json": {
       "model_id": "bbb0b1216def49b883b7e03068594ff8",
       "version_major": 2,
       "version_minor": 0
      },
      "text/plain": [
       "  0%|          | 0/100 [00:00<?, ?it/s]"
      ]
     },
     "metadata": {},
     "output_type": "display_data"
    },
    {
     "name": "stdout",
     "output_type": "stream",
     "text": [
      "{\"['va', 'ps']\": 100, \"['va', 'ge']\": 100, \"['va', 'rq']\": 100, \"['va', 'rl']\": 100, \"['va', 'cc']\": 100, \"['ps', 'ge']\": 100, \"['ps', 'rq']\": 100, \"['ps', 'rl']\": 100, \"['ps', 'cc']\": 100, \"['ge', 'rq']\": 100}\n"
     ]
    },
    {
     "data": {
      "application/vnd.jupyter.widget-view+json": {
       "model_id": "4ef4bad6fbf94e5dbca5db44369f684d",
       "version_major": 2,
       "version_minor": 0
      },
      "text/plain": [
       "  0%|          | 0/100 [00:00<?, ?it/s]"
      ]
     },
     "metadata": {},
     "output_type": "display_data"
    },
    {
     "name": "stdout",
     "output_type": "stream",
     "text": [
      "{\"['va', 'ps']\": 100, \"['va', 'ge']\": 100, \"['va', 'rq']\": 100, \"['va', 'rl']\": 100, \"['va', 'cc']\": 100, \"['ps', 'ge']\": 100, \"['ps', 'rq']\": 100, \"['ps', 'rl']\": 100, \"['ps', 'cc']\": 100, \"['ge', 'rq']\": 100, \"['ge', 'rl']\": 100}\n"
     ]
    },
    {
     "data": {
      "application/vnd.jupyter.widget-view+json": {
       "model_id": "0627fa35f3604e2a9e92ba7ac92807aa",
       "version_major": 2,
       "version_minor": 0
      },
      "text/plain": [
       "  0%|          | 0/100 [00:00<?, ?it/s]"
      ]
     },
     "metadata": {},
     "output_type": "display_data"
    },
    {
     "name": "stdout",
     "output_type": "stream",
     "text": [
      "{\"['va', 'ps']\": 100, \"['va', 'ge']\": 100, \"['va', 'rq']\": 100, \"['va', 'rl']\": 100, \"['va', 'cc']\": 100, \"['ps', 'ge']\": 100, \"['ps', 'rq']\": 100, \"['ps', 'rl']\": 100, \"['ps', 'cc']\": 100, \"['ge', 'rq']\": 100, \"['ge', 'rl']\": 100, \"['ge', 'cc']\": 100}\n"
     ]
    },
    {
     "data": {
      "application/vnd.jupyter.widget-view+json": {
       "model_id": "f6525b7e4a7146e5aca4280703f44502",
       "version_major": 2,
       "version_minor": 0
      },
      "text/plain": [
       "  0%|          | 0/100 [00:00<?, ?it/s]"
      ]
     },
     "metadata": {},
     "output_type": "display_data"
    },
    {
     "name": "stdout",
     "output_type": "stream",
     "text": [
      "{\"['va', 'ps']\": 100, \"['va', 'ge']\": 100, \"['va', 'rq']\": 100, \"['va', 'rl']\": 100, \"['va', 'cc']\": 100, \"['ps', 'ge']\": 100, \"['ps', 'rq']\": 100, \"['ps', 'rl']\": 100, \"['ps', 'cc']\": 100, \"['ge', 'rq']\": 100, \"['ge', 'rl']\": 100, \"['ge', 'cc']\": 100, \"['rq', 'rl']\": 100}\n"
     ]
    },
    {
     "data": {
      "application/vnd.jupyter.widget-view+json": {
       "model_id": "76bf73e1e9e84e4289a2df5a4613f358",
       "version_major": 2,
       "version_minor": 0
      },
      "text/plain": [
       "  0%|          | 0/100 [00:00<?, ?it/s]"
      ]
     },
     "metadata": {},
     "output_type": "display_data"
    },
    {
     "name": "stdout",
     "output_type": "stream",
     "text": [
      "{\"['va', 'ps']\": 100, \"['va', 'ge']\": 100, \"['va', 'rq']\": 100, \"['va', 'rl']\": 100, \"['va', 'cc']\": 100, \"['ps', 'ge']\": 100, \"['ps', 'rq']\": 100, \"['ps', 'rl']\": 100, \"['ps', 'cc']\": 100, \"['ge', 'rq']\": 100, \"['ge', 'rl']\": 100, \"['ge', 'cc']\": 100, \"['rq', 'rl']\": 100, \"['rq', 'cc']\": 100}\n"
     ]
    },
    {
     "data": {
      "application/vnd.jupyter.widget-view+json": {
       "model_id": "a5adee3a718347ffb4020e95e1b1afc0",
       "version_major": 2,
       "version_minor": 0
      },
      "text/plain": [
       "  0%|          | 0/100 [00:00<?, ?it/s]"
      ]
     },
     "metadata": {},
     "output_type": "display_data"
    },
    {
     "name": "stdout",
     "output_type": "stream",
     "text": [
      "{\"['va', 'ps']\": 100, \"['va', 'ge']\": 100, \"['va', 'rq']\": 100, \"['va', 'rl']\": 100, \"['va', 'cc']\": 100, \"['ps', 'ge']\": 100, \"['ps', 'rq']\": 100, \"['ps', 'rl']\": 100, \"['ps', 'cc']\": 100, \"['ge', 'rq']\": 100, \"['ge', 'rl']\": 100, \"['ge', 'cc']\": 100, \"['rq', 'rl']\": 100, \"['rq', 'cc']\": 100, \"['rl', 'cc']\": 100}\n"
     ]
    },
    {
     "data": {
      "application/vnd.jupyter.widget-view+json": {
       "model_id": "822bc44135344fc3a50892b466bc879f",
       "version_major": 2,
       "version_minor": 0
      },
      "text/plain": [
       "  0%|          | 0/100 [00:00<?, ?it/s]"
      ]
     },
     "metadata": {},
     "output_type": "display_data"
    },
    {
     "ename": "KeyboardInterrupt",
     "evalue": "",
     "output_type": "error",
     "traceback": [
      "\u001b[0;31m---------------------------------------------------------------------------\u001b[0m",
      "\u001b[0;31mKeyboardInterrupt\u001b[0m                         Traceback (most recent call last)",
      "Input \u001b[0;32mIn [205]\u001b[0m, in \u001b[0;36m<cell line: 2>\u001b[0;34m()\u001b[0m\n\u001b[1;32m      3\u001b[0m rejects \u001b[38;5;241m=\u001b[39m \u001b[38;5;241m0\u001b[39m\n\u001b[1;32m      4\u001b[0m \u001b[38;5;28;01mfor\u001b[39;00m i \u001b[38;5;129;01min\u001b[39;00m tqdm(\u001b[38;5;28mrange\u001b[39m(\u001b[38;5;241m100\u001b[39m)):\n\u001b[0;32m----> 5\u001b[0m     _, _, _, reject \u001b[38;5;241m=\u001b[39m \u001b[43mtest_independence\u001b[49m\u001b[43m(\u001b[49m\u001b[43mklist\u001b[49m\u001b[43m,\u001b[49m\u001b[43m \u001b[49m\u001b[38;5;28;43;01mNone\u001b[39;49;00m\u001b[43m,\u001b[49m\u001b[43m \u001b[49m\u001b[43mn_perms\u001b[49m\u001b[38;5;241;43m=\u001b[39;49m\u001b[38;5;241;43m1000\u001b[39;49m\u001b[43m,\u001b[49m\u001b[43m \u001b[49m\u001b[43malpha\u001b[49m\u001b[38;5;241;43m=\u001b[39;49m\u001b[38;5;241;43m0.05\u001b[39;49m\u001b[43m,\u001b[49m\u001b[43m \u001b[49m\u001b[43mmode\u001b[49m\u001b[43m \u001b[49m\u001b[38;5;241;43m=\u001b[39;49m\u001b[43m \u001b[49m\u001b[38;5;124;43m'\u001b[39;49m\u001b[38;5;124;43mpermutation\u001b[39;49m\u001b[38;5;124;43m'\u001b[39;49m\u001b[43m)\u001b[49m\n\u001b[1;32m      6\u001b[0m     rejects \u001b[38;5;241m=\u001b[39m rejects \u001b[38;5;241m+\u001b[39m reject\n\u001b[1;32m      7\u001b[0m power[\u001b[38;5;28mstr\u001b[39m(name)] \u001b[38;5;241m=\u001b[39m rejects\n",
      "File \u001b[0;32m/Users/Tim/PycharmProjects/HOI/HOI/tests.py:237\u001b[0m, in \u001b[0;36mtest_independence\u001b[0;34m(k_list, data_list, n_perms, alpha, mode)\u001b[0m\n\u001b[1;32m    235\u001b[0m \u001b[38;5;28;01mif\u001b[39;00m mode \u001b[38;5;241m==\u001b[39m \u001b[38;5;124m'\u001b[39m\u001b[38;5;124mpermutation\u001b[39m\u001b[38;5;124m'\u001b[39m:\n\u001b[1;32m    236\u001b[0m     statistic \u001b[38;5;241m=\u001b[39m compute_dHSIC_statistics(k_list)\n\u001b[0;32m--> 237\u001b[0m     critical_value, pval \u001b[38;5;241m=\u001b[39m \u001b[43mdhsic_permutation\u001b[49m\u001b[43m(\u001b[49m\u001b[43mk_list\u001b[49m\u001b[43m,\u001b[49m\u001b[43m \u001b[49m\u001b[43mn_samples\u001b[49m\u001b[43m,\u001b[49m\u001b[43m \u001b[49m\u001b[43mn_variables\u001b[49m\u001b[43m,\u001b[49m\u001b[43m \u001b[49m\u001b[43mstatistic\u001b[49m\u001b[43m,\u001b[49m\u001b[43m \u001b[49m\u001b[43mn_perms\u001b[49m\u001b[43m,\u001b[49m\u001b[43m \u001b[49m\u001b[43malpha\u001b[49m\u001b[43m)\u001b[49m\n\u001b[1;32m    238\u001b[0m     reject \u001b[38;5;241m=\u001b[39m \u001b[38;5;28mint\u001b[39m(statistic \u001b[38;5;241m>\u001b[39m critical_value)\n\u001b[1;32m    239\u001b[0m     \u001b[38;5;28;01mreturn\u001b[39;00m statistic, critical_value, pval, reject\n",
      "File \u001b[0;32m/Users/Tim/PycharmProjects/HOI/HOI/tests.py:31\u001b[0m, in \u001b[0;36mdhsic_permutation\u001b[0;34m(k_list, n_samples, n_variables, stat_found, n_perms, alpha)\u001b[0m\n\u001b[1;32m     29\u001b[0m \u001b[38;5;28;01mfor\u001b[39;00m j \u001b[38;5;129;01min\u001b[39;00m \u001b[38;5;28mrange\u001b[39m(\u001b[38;5;241m1\u001b[39m, n_variables):\n\u001b[1;32m     30\u001b[0m     index_perm \u001b[38;5;241m=\u001b[39m np\u001b[38;5;241m.\u001b[39mrandom\u001b[38;5;241m.\u001b[39mpermutation(k_list[j]\u001b[38;5;241m.\u001b[39mshape[\u001b[38;5;241m0\u001b[39m])\n\u001b[0;32m---> 31\u001b[0m     k_perm \u001b[38;5;241m=\u001b[39m \u001b[43mk_list\u001b[49m\u001b[43m[\u001b[49m\u001b[43mj\u001b[49m\u001b[43m]\u001b[49m\u001b[43m[\u001b[49m\u001b[43mindex_perm\u001b[49m\u001b[43m,\u001b[49m\u001b[43m \u001b[49m\u001b[43mindex_perm\u001b[49m\u001b[43m[\u001b[49m\u001b[43m:\u001b[49m\u001b[43m,\u001b[49m\u001b[43m \u001b[49m\u001b[38;5;28;43;01mNone\u001b[39;49;00m\u001b[43m]\u001b[49m\u001b[43m]\u001b[49m\n\u001b[1;32m     33\u001b[0m     term1 \u001b[38;5;241m=\u001b[39m term1 \u001b[38;5;241m*\u001b[39m k_perm\n\u001b[1;32m     34\u001b[0m     term2 \u001b[38;5;241m=\u001b[39m term2 \u001b[38;5;241m*\u001b[39m np\u001b[38;5;241m.\u001b[39msum(k_perm) \u001b[38;5;241m/\u001b[39m (n_samples \u001b[38;5;241m*\u001b[39m\u001b[38;5;241m*\u001b[39m \u001b[38;5;241m2\u001b[39m)\n",
      "\u001b[0;31mKeyboardInterrupt\u001b[0m: "
     ]
    }
   ],
   "source": [
    "power = {}\n",
    "for (name, klist) in tqdm(zip(power_set_name, power_set), total=len(power_set)):\n",
    "    rejects = 0\n",
    "    for i in tqdm(range(100)):\n",
    "        _, _, _, reject = test_independence(klist, None, n_perms=1000, alpha=0.05, mode = 'permutation')\n",
    "        rejects = rejects + reject\n",
    "    power[str(name)] = rejects\n",
    "    print(power)"
   ]
  },
  {
   "cell_type": "code",
   "execution_count": 206,
   "id": "29ab77c2-d53d-427e-9016-3486b5ee44e8",
   "metadata": {},
   "outputs": [
    {
     "data": {
      "text/plain": [
       "dict_values([100, 100, 100, 100, 100, 100, 100, 100, 100, 100, 100, 100, 100, 100, 100])"
      ]
     },
     "execution_count": 206,
     "metadata": {},
     "output_type": "execute_result"
    }
   ],
   "source": [
    "power.values()"
   ]
  }
 ],
 "metadata": {
  "kernelspec": {
   "display_name": "Python 3 (ipykernel)",
   "language": "python",
   "name": "python3"
  },
  "language_info": {
   "codemirror_mode": {
    "name": "ipython",
    "version": 3
   },
   "file_extension": ".py",
   "mimetype": "text/x-python",
   "name": "python",
   "nbconvert_exporter": "python",
   "pygments_lexer": "ipython3",
   "version": "3.9.12"
  }
 },
 "nbformat": 4,
 "nbformat_minor": 5
}

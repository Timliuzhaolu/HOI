{
 "cells": [
  {
   "cell_type": "code",
   "execution_count": 172,
   "id": "bd058953-bcf9-4709-ab9a-1a0fe4301d20",
   "metadata": {},
   "outputs": [
    {
     "name": "stdout",
     "output_type": "stream",
     "text": [
      "The autoreload extension is already loaded. To reload it, use:\n",
      "  %reload_ext autoreload\n"
     ]
    }
   ],
   "source": [
    "%load_ext autoreload\n",
    "%autoreload 2"
   ]
  },
  {
   "cell_type": "code",
   "execution_count": 207,
   "id": "9f87e948-df00-4de1-9e2d-53b50e723107",
   "metadata": {},
   "outputs": [],
   "source": [
    "import numpy as np\n",
    "import pandas as pd\n",
    "import os\n",
    "from tqdm.notebook import tqdm\n",
    "import matplotlib.pyplot as plt\n",
    "import itertools\n",
    "from sklearn.preprocessing import StandardScaler"
   ]
  },
  {
   "cell_type": "code",
   "execution_count": 208,
   "id": "bd87ed1f-1533-479f-a5fb-4faa32d3d00e",
   "metadata": {},
   "outputs": [],
   "source": [
    "import sys\n",
    "sys.path.append('/Users/Tim/PycharmProjects/HOI/')"
   ]
  },
  {
   "cell_type": "code",
   "execution_count": 209,
   "id": "e37c20cd-e3dd-47fe-88f4-9630ebad1b12",
   "metadata": {},
   "outputs": [],
   "source": [
    "from HOI.preprocessings import compute_kernel, compute_kernel_n\n",
    "from HOI.tests import test_independence\n",
    "from synthetic_data import stationary_pb_ts, nonstationary_ts_n, stationary_pb_ts_n"
   ]
  },
  {
   "cell_type": "code",
   "execution_count": 210,
   "id": "5ff826fe-36f0-4ea8-b94e-c629463cdad1",
   "metadata": {},
   "outputs": [
    {
     "data": {
      "text/plain": [
       "'/Users/tim/PycharmProjects/HOI/examples'"
      ]
     },
     "execution_count": 210,
     "metadata": {},
     "output_type": "execute_result"
    }
   ],
   "source": [
    "os.getcwd()"
   ]
  },
  {
   "cell_type": "markdown",
   "id": "bb0e7232-e604-4ea4-9677-a319f706c695",
   "metadata": {},
   "source": [
    "# data preprocessing from Felix's code"
   ]
  },
  {
   "cell_type": "code",
   "execution_count": 211,
   "id": "c5cb7171-b6c8-4bf3-8f49-e93121383a88",
   "metadata": {},
   "outputs": [],
   "source": [
    "df_VA = pd.read_excel('/Users/tim/PycharmProjects/HOI/examples/wgidataset.xlsx', sheet_name='VoiceandAccountability', header=13).rename(columns={'Unnamed: 0': 'Country'})\n",
    "df_PS = pd.read_excel('/Users/tim/PycharmProjects/HOI/examples/wgidataset.xlsx', sheet_name='Political StabilityNoViolence', header=13).rename(columns={'Unnamed: 0': 'Country'})\n",
    "df_GE = pd.read_excel('/Users/tim/PycharmProjects/HOI/examples/wgidataset.xlsx', sheet_name='GovernmentEffectiveness', header=13).rename(columns={'Unnamed: 0': 'Country'})\n",
    "df_RQ = pd.read_excel('/Users/tim/PycharmProjects/HOI/examples/wgidataset.xlsx', sheet_name='RegulatoryQuality', header=13).rename(columns={'Unnamed: 0': 'Country'})\n",
    "df_RL = pd.read_excel('/Users/tim/PycharmProjects/HOI/examples/wgidataset.xlsx', sheet_name='RuleofLaw', header=13).rename(columns={'Unnamed: 0': 'Country'})\n",
    "df_CC = pd.read_excel('/Users/tim/PycharmProjects/HOI/examples/wgidataset.xlsx', sheet_name='ControlofCorruption', header=13).rename(columns={'Unnamed: 0': 'Country'})"
   ]
  },
  {
   "cell_type": "code",
   "execution_count": 212,
   "id": "7633413e-dc21-44a2-9a7e-718b9c032f3b",
   "metadata": {},
   "outputs": [],
   "source": [
    "dfs = [df_VA, df_PS, df_GE, df_RQ, df_RL, df_CC]"
   ]
  },
  {
   "cell_type": "code",
   "execution_count": 213,
   "id": "c5dd5cf9-bfc6-413d-86c7-c74b3a871552",
   "metadata": {},
   "outputs": [],
   "source": [
    "for df in dfs:\n",
    "    df.drop(columns=[c for c in df if c!='Country' and c not in list(np.arange(1996, 2021, 1))],inplace=True)\n",
    "    df.drop(index=0, inplace=True)\n",
    "    df.dropna(inplace=True)"
   ]
  },
  {
   "cell_type": "code",
   "execution_count": 214,
   "id": "f136470b-4a6a-476c-a948-29f06e3bab65",
   "metadata": {},
   "outputs": [],
   "source": [
    "columns = ['Country', 1996, 1997, 1998, 1999, 2000, 2001, 2002, 2003, 2004, 2005, 2006, 2007, 2008, 2009, 2010, 2011, 2012, 2013, 2014, 2015, 2016, 2017, 2018, 2019, 2020]"
   ]
  },
  {
   "cell_type": "code",
   "execution_count": 215,
   "id": "83f24326-14a1-4494-984c-76ef4068e76b",
   "metadata": {},
   "outputs": [],
   "source": [
    "for df in dfs:\n",
    "    for y in np.arange(1996, 2021, 1):\n",
    "        if y not in df.columns:\n",
    "            df[y] = np.nan\n",
    "    \n",
    "    df[np.arange(1996, 2021, 1)] = df[np.arange(1996, 2021, 1)].astype(float).interpolate(axis=1)"
   ]
  },
  {
   "cell_type": "code",
   "execution_count": 216,
   "id": "21d71daa-7d3f-45a3-9c98-2dfcd2041fc6",
   "metadata": {},
   "outputs": [],
   "source": [
    "df_VA = df_VA[columns]\n",
    "df_PS = df_PS[columns]\n",
    "df_GE = df_GE[columns]\n",
    "df_RQ = df_RQ[columns]\n",
    "df_RL = df_RL[columns]\n",
    "df_CC = df_CC[columns]"
   ]
  },
  {
   "cell_type": "code",
   "execution_count": 217,
   "id": "c3ca2d5d-da63-4ff8-a760-cb1077dc6a16",
   "metadata": {},
   "outputs": [],
   "source": [
    "countries = set(df_VA['Country']) & set(df_PS['Country']) & set(df_GE['Country']) & set(df_RQ['Country']) & set(df_RL['Country']) & set(df_CC['Country'])"
   ]
  },
  {
   "cell_type": "code",
   "execution_count": 218,
   "id": "4443dc22-65c6-4ab7-aec2-3e5ab1d99abf",
   "metadata": {},
   "outputs": [],
   "source": [
    "df_VA = df_VA.loc[df_VA['Country'].isin(countries)]\n",
    "df_PS = df_PS.loc[df_PS['Country'].isin(countries)]\n",
    "df_GE = df_GE.loc[df_GE['Country'].isin(countries)]\n",
    "df_RQ = df_RQ.loc[df_RQ['Country'].isin(countries)]\n",
    "df_RL = df_RL.loc[df_RL['Country'].isin(countries)]\n",
    "df_CC = df_CC.loc[df_CC['Country'].isin(countries)]"
   ]
  },
  {
   "cell_type": "code",
   "execution_count": 219,
   "id": "efacdefd-cbca-41d0-a198-4f38e5c50815",
   "metadata": {},
   "outputs": [
    {
     "data": {
      "text/plain": [
       "(182, 26)"
      ]
     },
     "execution_count": 219,
     "metadata": {},
     "output_type": "execute_result"
    }
   ],
   "source": [
    "df_RQ.shape"
   ]
  },
  {
   "cell_type": "code",
   "execution_count": 220,
   "id": "473eaebe-01bc-49b7-ab89-8d0ad3f66bea",
   "metadata": {},
   "outputs": [
    {
     "data": {
      "text/html": [
       "<div>\n",
       "<style scoped>\n",
       "    .dataframe tbody tr th:only-of-type {\n",
       "        vertical-align: middle;\n",
       "    }\n",
       "\n",
       "    .dataframe tbody tr th {\n",
       "        vertical-align: top;\n",
       "    }\n",
       "\n",
       "    .dataframe thead th {\n",
       "        text-align: right;\n",
       "    }\n",
       "</style>\n",
       "<table border=\"1\" class=\"dataframe\">\n",
       "  <thead>\n",
       "    <tr style=\"text-align: right;\">\n",
       "      <th></th>\n",
       "      <th>Country</th>\n",
       "      <th>1996</th>\n",
       "      <th>1997</th>\n",
       "      <th>1998</th>\n",
       "      <th>1999</th>\n",
       "      <th>2000</th>\n",
       "      <th>2001</th>\n",
       "      <th>2002</th>\n",
       "      <th>2003</th>\n",
       "      <th>2004</th>\n",
       "      <th>...</th>\n",
       "      <th>2011</th>\n",
       "      <th>2012</th>\n",
       "      <th>2013</th>\n",
       "      <th>2014</th>\n",
       "      <th>2015</th>\n",
       "      <th>2016</th>\n",
       "      <th>2017</th>\n",
       "      <th>2018</th>\n",
       "      <th>2019</th>\n",
       "      <th>2020</th>\n",
       "    </tr>\n",
       "  </thead>\n",
       "  <tbody>\n",
       "    <tr>\n",
       "      <th>2</th>\n",
       "      <td>Andorra</td>\n",
       "      <td>1.563217</td>\n",
       "      <td>1.545988</td>\n",
       "      <td>1.528759</td>\n",
       "      <td>1.532207</td>\n",
       "      <td>1.535655</td>\n",
       "      <td>1.486392</td>\n",
       "      <td>1.437128</td>\n",
       "      <td>1.422262</td>\n",
       "      <td>1.563077</td>\n",
       "      <td>...</td>\n",
       "      <td>1.360453</td>\n",
       "      <td>1.433838</td>\n",
       "      <td>1.406642</td>\n",
       "      <td>1.165939</td>\n",
       "      <td>1.194477</td>\n",
       "      <td>1.176598</td>\n",
       "      <td>1.161647</td>\n",
       "      <td>1.036913</td>\n",
       "      <td>1.110124</td>\n",
       "      <td>1.089068</td>\n",
       "    </tr>\n",
       "    <tr>\n",
       "      <th>3</th>\n",
       "      <td>Afghanistan</td>\n",
       "      <td>-1.908540</td>\n",
       "      <td>-1.973921</td>\n",
       "      <td>-2.039301</td>\n",
       "      <td>-2.035359</td>\n",
       "      <td>-2.031417</td>\n",
       "      <td>-1.732419</td>\n",
       "      <td>-1.433421</td>\n",
       "      <td>-1.177571</td>\n",
       "      <td>-1.203034</td>\n",
       "      <td>...</td>\n",
       "      <td>-1.335977</td>\n",
       "      <td>-1.267430</td>\n",
       "      <td>-1.240068</td>\n",
       "      <td>-1.135445</td>\n",
       "      <td>-1.117563</td>\n",
       "      <td>-1.037838</td>\n",
       "      <td>-0.990854</td>\n",
       "      <td>-1.011603</td>\n",
       "      <td>-1.006792</td>\n",
       "      <td>-1.083459</td>\n",
       "    </tr>\n",
       "    <tr>\n",
       "      <th>4</th>\n",
       "      <td>Angola</td>\n",
       "      <td>-1.578164</td>\n",
       "      <td>-1.495021</td>\n",
       "      <td>-1.411879</td>\n",
       "      <td>-1.434972</td>\n",
       "      <td>-1.458065</td>\n",
       "      <td>-1.348422</td>\n",
       "      <td>-1.238779</td>\n",
       "      <td>-1.272615</td>\n",
       "      <td>-1.285480</td>\n",
       "      <td>...</td>\n",
       "      <td>-1.125478</td>\n",
       "      <td>-1.076247</td>\n",
       "      <td>-1.113843</td>\n",
       "      <td>-1.145494</td>\n",
       "      <td>-1.177248</td>\n",
       "      <td>-1.139600</td>\n",
       "      <td>-1.097939</td>\n",
       "      <td>-0.906303</td>\n",
       "      <td>-0.783532</td>\n",
       "      <td>-0.810628</td>\n",
       "    </tr>\n",
       "    <tr>\n",
       "      <th>6</th>\n",
       "      <td>Albania</td>\n",
       "      <td>-0.648298</td>\n",
       "      <td>-0.517835</td>\n",
       "      <td>-0.387373</td>\n",
       "      <td>-0.336256</td>\n",
       "      <td>-0.285139</td>\n",
       "      <td>-0.146644</td>\n",
       "      <td>-0.008150</td>\n",
       "      <td>0.070308</td>\n",
       "      <td>0.007238</td>\n",
       "      <td>...</td>\n",
       "      <td>0.062334</td>\n",
       "      <td>0.022064</td>\n",
       "      <td>0.048893</td>\n",
       "      <td>0.143761</td>\n",
       "      <td>0.157149</td>\n",
       "      <td>0.170927</td>\n",
       "      <td>0.203785</td>\n",
       "      <td>0.180734</td>\n",
       "      <td>0.142711</td>\n",
       "      <td>0.087340</td>\n",
       "    </tr>\n",
       "    <tr>\n",
       "      <th>8</th>\n",
       "      <td>United Arab Emirates</td>\n",
       "      <td>-0.409404</td>\n",
       "      <td>-0.464283</td>\n",
       "      <td>-0.519163</td>\n",
       "      <td>-0.518002</td>\n",
       "      <td>-0.516841</td>\n",
       "      <td>-0.574192</td>\n",
       "      <td>-0.631544</td>\n",
       "      <td>-0.912192</td>\n",
       "      <td>-0.687913</td>\n",
       "      <td>...</td>\n",
       "      <td>-0.896244</td>\n",
       "      <td>-1.000819</td>\n",
       "      <td>-1.019484</td>\n",
       "      <td>-1.061369</td>\n",
       "      <td>-1.112425</td>\n",
       "      <td>-1.050371</td>\n",
       "      <td>-1.096847</td>\n",
       "      <td>-1.126925</td>\n",
       "      <td>-1.140149</td>\n",
       "      <td>-1.184305</td>\n",
       "    </tr>\n",
       "  </tbody>\n",
       "</table>\n",
       "<p>5 rows × 26 columns</p>\n",
       "</div>"
      ],
      "text/plain": [
       "                Country      1996      1997      1998      1999      2000  \\\n",
       "2               Andorra  1.563217  1.545988  1.528759  1.532207  1.535655   \n",
       "3           Afghanistan -1.908540 -1.973921 -2.039301 -2.035359 -2.031417   \n",
       "4                Angola -1.578164 -1.495021 -1.411879 -1.434972 -1.458065   \n",
       "6               Albania -0.648298 -0.517835 -0.387373 -0.336256 -0.285139   \n",
       "8  United Arab Emirates -0.409404 -0.464283 -0.519163 -0.518002 -0.516841   \n",
       "\n",
       "       2001      2002      2003      2004  ...      2011      2012      2013  \\\n",
       "2  1.486392  1.437128  1.422262  1.563077  ...  1.360453  1.433838  1.406642   \n",
       "3 -1.732419 -1.433421 -1.177571 -1.203034  ... -1.335977 -1.267430 -1.240068   \n",
       "4 -1.348422 -1.238779 -1.272615 -1.285480  ... -1.125478 -1.076247 -1.113843   \n",
       "6 -0.146644 -0.008150  0.070308  0.007238  ...  0.062334  0.022064  0.048893   \n",
       "8 -0.574192 -0.631544 -0.912192 -0.687913  ... -0.896244 -1.000819 -1.019484   \n",
       "\n",
       "       2014      2015      2016      2017      2018      2019      2020  \n",
       "2  1.165939  1.194477  1.176598  1.161647  1.036913  1.110124  1.089068  \n",
       "3 -1.135445 -1.117563 -1.037838 -0.990854 -1.011603 -1.006792 -1.083459  \n",
       "4 -1.145494 -1.177248 -1.139600 -1.097939 -0.906303 -0.783532 -0.810628  \n",
       "6  0.143761  0.157149  0.170927  0.203785  0.180734  0.142711  0.087340  \n",
       "8 -1.061369 -1.112425 -1.050371 -1.096847 -1.126925 -1.140149 -1.184305  \n",
       "\n",
       "[5 rows x 26 columns]"
      ]
     },
     "execution_count": 220,
     "metadata": {},
     "output_type": "execute_result"
    }
   ],
   "source": [
    "df_VA.head()"
   ]
  },
  {
   "cell_type": "code",
   "execution_count": 221,
   "id": "3fc02264-bb48-41b5-b6c3-13c3f4d165ad",
   "metadata": {},
   "outputs": [],
   "source": [
    "countries = list(df_RQ['Country'])"
   ]
  },
  {
   "cell_type": "code",
   "execution_count": 222,
   "id": "bd72b777-66ed-43ab-ac21-b3257f1cf5ff",
   "metadata": {},
   "outputs": [
    {
     "data": {
      "text/plain": [
       "'Andorra'"
      ]
     },
     "execution_count": 222,
     "metadata": {},
     "output_type": "execute_result"
    }
   ],
   "source": [
    "countries[0]"
   ]
  },
  {
   "cell_type": "markdown",
   "id": "958c1fd0-c221-4c8e-af35-2af838cdb1f2",
   "metadata": {},
   "source": [
    "# dHSIC tests"
   ]
  },
  {
   "cell_type": "code",
   "execution_count": 223,
   "id": "0e2b4afc-049c-4d5d-bc96-bd4c97fc9fe6",
   "metadata": {},
   "outputs": [],
   "source": [
    "df_VA.drop('Country', axis=1, inplace = True)\n",
    "df_PS.drop('Country', axis=1, inplace = True)\n",
    "df_GE.drop('Country', axis=1, inplace = True)\n",
    "df_RQ.drop('Country', axis=1, inplace = True)\n",
    "df_RL.drop('Country', axis=1, inplace = True)\n",
    "df_CC.drop('Country', axis=1, inplace = True)"
   ]
  },
  {
   "cell_type": "code",
   "execution_count": 224,
   "id": "71cd60d0-b5cf-4b14-a1df-8da93adfa732",
   "metadata": {},
   "outputs": [],
   "source": [
    "va_arr = df_VA.to_numpy()\n",
    "ps_arr = df_PS.to_numpy()\n",
    "ge_arr = df_GE.to_numpy()\n",
    "rq_arr = df_RQ.to_numpy()\n",
    "rl_arr = df_RL.to_numpy()\n",
    "cc_arr = df_CC.to_numpy()"
   ]
  },
  {
   "cell_type": "code",
   "execution_count": 229,
   "id": "f9980479-bc5f-4ac8-86b0-f3572dd7f2ce",
   "metadata": {},
   "outputs": [
    {
     "data": {
      "text/plain": [
       "(25,)"
      ]
     },
     "execution_count": 229,
     "metadata": {},
     "output_type": "execute_result"
    }
   ],
   "source": [
    "va_arr[0,:].shape"
   ]
  },
  {
   "cell_type": "code",
   "execution_count": 235,
   "id": "c96872ac-aa56-4917-a658-cccef120bf3d",
   "metadata": {},
   "outputs": [
    {
     "name": "stdout",
     "output_type": "stream",
     "text": [
      "Augmneted Dickey_fuller Statistic: -2.815458\n",
      "p-value: 0.056099\n"
     ]
    }
   ],
   "source": [
    "from statsmodels.tsa.stattools import adfuller\n",
    "values = cc_arr[0,:]\n",
    "res = adfuller(values)\n",
    "print('Augmneted Dickey_fuller Statistic: %f' % res[0])\n",
    "print('p-value: %f' % res[1])"
   ]
  },
  {
   "cell_type": "code",
   "execution_count": 200,
   "id": "0b8dd5c1-4873-4f84-89e0-c2045b6751e5",
   "metadata": {},
   "outputs": [],
   "source": [
    "va_arr = StandardScaler().fit_transform(va_arr)\n",
    "ps_arr = StandardScaler().fit_transform(ps_arr)\n",
    "ge_arr = StandardScaler().fit_transform(ge_arr)\n",
    "rq_arr = StandardScaler().fit_transform(rq_arr)\n",
    "rl_arr = StandardScaler().fit_transform(rl_arr)\n",
    "cc_arr = StandardScaler().fit_transform(cc_arr)"
   ]
  },
  {
   "cell_type": "code",
   "execution_count": 201,
   "id": "0ef0e66a-7d5c-4251-91ca-934540081f52",
   "metadata": {},
   "outputs": [],
   "source": [
    "k_va = compute_kernel_n(va_arr)\n",
    "k_ps = compute_kernel_n(ps_arr)\n",
    "k_ge = compute_kernel_n(ge_arr)\n",
    "k_rq = compute_kernel_n(rq_arr)\n",
    "k_rl = compute_kernel_n(rl_arr)\n",
    "k_cc = compute_kernel_n(cc_arr)"
   ]
  },
  {
   "cell_type": "code",
   "execution_count": 202,
   "id": "05b55e56-3984-457c-8d96-acc7bc47053f",
   "metadata": {},
   "outputs": [],
   "source": [
    "def find_comb(var):\n",
    "    power_set = []\n",
    "    for L in range(len(var) + 1):\n",
    "        for subset in itertools.combinations(var, L):\n",
    "            if len(subset) >= 2:\n",
    "                power_set.append(list(subset))\n",
    "    return power_set"
   ]
  },
  {
   "cell_type": "code",
   "execution_count": 203,
   "id": "3e55ece5-c299-4301-84f5-5e7ce5f6f526",
   "metadata": {},
   "outputs": [],
   "source": [
    "power_set = find_comb([k_va, k_ps, k_ge, k_rq, k_rl, k_cc])"
   ]
  },
  {
   "cell_type": "code",
   "execution_count": 204,
   "id": "24d15b8b-3af4-402c-9bd9-d32d898d5a5c",
   "metadata": {
    "tags": []
   },
   "outputs": [],
   "source": [
    "power_set_name = find_comb(['va', 'ps', 'ge', 'rq', 'rl', 'cc'])"
   ]
  },
  {
   "cell_type": "code",
   "execution_count": 205,
   "id": "e4c04f31-229d-4a07-929c-8f0843107876",
   "metadata": {
    "collapsed": true,
    "jupyter": {
     "outputs_hidden": true
    },
    "tags": []
   },
   "outputs": [
    {
     "data": {
      "application/vnd.jupyter.widget-view+json": {
       "model_id": "ddaeacad543f47df950b906d484c7c25",
       "version_major": 2,
       "version_minor": 0
      },
      "text/plain": [
       "  0%|          | 0/57 [00:00<?, ?it/s]"
      ]
     },
     "metadata": {},
     "output_type": "display_data"
    },
    {
     "data": {
      "application/vnd.jupyter.widget-view+json": {
       "model_id": "d1eb00eb1b8b4e01ac7c003042bb50a0",
       "version_major": 2,
       "version_minor": 0
      },
      "text/plain": [
       "  0%|          | 0/100 [00:00<?, ?it/s]"
      ]
     },
     "metadata": {},
     "output_type": "display_data"
    },
    {
     "name": "stdout",
     "output_type": "stream",
     "text": [
      "{\"['va', 'ps']\": 100}\n"
     ]
    },
    {
     "data": {
      "application/vnd.jupyter.widget-view+json": {
       "model_id": "ac67f134beb84279b99507f546b4b19b",
       "version_major": 2,
       "version_minor": 0
      },
      "text/plain": [
       "  0%|          | 0/100 [00:00<?, ?it/s]"
      ]
     },
     "metadata": {},
     "output_type": "display_data"
    },
    {
     "name": "stdout",
     "output_type": "stream",
     "text": [
      "{\"['va', 'ps']\": 100, \"['va', 'ge']\": 100}\n"
     ]
    },
    {
     "data": {
      "application/vnd.jupyter.widget-view+json": {
       "model_id": "32f3b3ca06f4406f9fc1953ab8ee9fd3",
       "version_major": 2,
       "version_minor": 0
      },
      "text/plain": [
       "  0%|          | 0/100 [00:00<?, ?it/s]"
      ]
     },
     "metadata": {},
     "output_type": "display_data"
    },
    {
     "name": "stdout",
     "output_type": "stream",
     "text": [
      "{\"['va', 'ps']\": 100, \"['va', 'ge']\": 100, \"['va', 'rq']\": 100}\n"
     ]
    },
    {
     "data": {
      "application/vnd.jupyter.widget-view+json": {
       "model_id": "75fd26895fab449a80ac7a6e6a28a67a",
       "version_major": 2,
       "version_minor": 0
      },
      "text/plain": [
       "  0%|          | 0/100 [00:00<?, ?it/s]"
      ]
     },
     "metadata": {},
     "output_type": "display_data"
    },
    {
     "name": "stdout",
     "output_type": "stream",
     "text": [
      "{\"['va', 'ps']\": 100, \"['va', 'ge']\": 100, \"['va', 'rq']\": 100, \"['va', 'rl']\": 100}\n"
     ]
    },
    {
     "data": {
      "application/vnd.jupyter.widget-view+json": {
       "model_id": "654a6feb56924a24b47dcbae87d41c78",
       "version_major": 2,
       "version_minor": 0
      },
      "text/plain": [
       "  0%|          | 0/100 [00:00<?, ?it/s]"
      ]
     },
     "metadata": {},
     "output_type": "display_data"
    },
    {
     "name": "stdout",
     "output_type": "stream",
     "text": [
      "{\"['va', 'ps']\": 100, \"['va', 'ge']\": 100, \"['va', 'rq']\": 100, \"['va', 'rl']\": 100, \"['va', 'cc']\": 100}\n"
     ]
    },
    {
     "data": {
      "application/vnd.jupyter.widget-view+json": {
       "model_id": "7d6f82c965da4ba986b8402ddbcb280c",
       "version_major": 2,
       "version_minor": 0
      },
      "text/plain": [
       "  0%|          | 0/100 [00:00<?, ?it/s]"
      ]
     },
     "metadata": {},
     "output_type": "display_data"
    },
    {
     "name": "stdout",
     "output_type": "stream",
     "text": [
      "{\"['va', 'ps']\": 100, \"['va', 'ge']\": 100, \"['va', 'rq']\": 100, \"['va', 'rl']\": 100, \"['va', 'cc']\": 100, \"['ps', 'ge']\": 100}\n"
     ]
    },
    {
     "data": {
      "application/vnd.jupyter.widget-view+json": {
       "model_id": "9ea8f5e90e1241bf867afe0207a37f76",
       "version_major": 2,
       "version_minor": 0
      },
      "text/plain": [
       "  0%|          | 0/100 [00:00<?, ?it/s]"
      ]
     },
     "metadata": {},
     "output_type": "display_data"
    },
    {
     "name": "stdout",
     "output_type": "stream",
     "text": [
      "{\"['va', 'ps']\": 100, \"['va', 'ge']\": 100, \"['va', 'rq']\": 100, \"['va', 'rl']\": 100, \"['va', 'cc']\": 100, \"['ps', 'ge']\": 100, \"['ps', 'rq']\": 100}\n"
     ]
    },
    {
     "data": {
      "application/vnd.jupyter.widget-view+json": {
       "model_id": "5622d500cf584c7e95cc6fef3cf5f47f",
       "version_major": 2,
       "version_minor": 0
      },
      "text/plain": [
       "  0%|          | 0/100 [00:00<?, ?it/s]"
      ]
     },
     "metadata": {},
     "output_type": "display_data"
    },
    {
     "name": "stdout",
     "output_type": "stream",
     "text": [
      "{\"['va', 'ps']\": 100, \"['va', 'ge']\": 100, \"['va', 'rq']\": 100, \"['va', 'rl']\": 100, \"['va', 'cc']\": 100, \"['ps', 'ge']\": 100, \"['ps', 'rq']\": 100, \"['ps', 'rl']\": 100}\n"
     ]
    },
    {
     "data": {
      "application/vnd.jupyter.widget-view+json": {
       "model_id": "5347dbe689fc4412a8842909abadc603",
       "version_major": 2,
       "version_minor": 0
      },
      "text/plain": [
       "  0%|          | 0/100 [00:00<?, ?it/s]"
      ]
     },
     "metadata": {},
     "output_type": "display_data"
    },
    {
     "name": "stdout",
     "output_type": "stream",
     "text": [
      "{\"['va', 'ps']\": 100, \"['va', 'ge']\": 100, \"['va', 'rq']\": 100, \"['va', 'rl']\": 100, \"['va', 'cc']\": 100, \"['ps', 'ge']\": 100, \"['ps', 'rq']\": 100, \"['ps', 'rl']\": 100, \"['ps', 'cc']\": 100}\n"
     ]
    },
    {
     "data": {
      "application/vnd.jupyter.widget-view+json": {
       "model_id": "bbb0b1216def49b883b7e03068594ff8",
       "version_major": 2,
       "version_minor": 0
      },
      "text/plain": [
       "  0%|          | 0/100 [00:00<?, ?it/s]"
      ]
     },
     "metadata": {},
     "output_type": "display_data"
    },
    {
     "name": "stdout",
     "output_type": "stream",
     "text": [
      "{\"['va', 'ps']\": 100, \"['va', 'ge']\": 100, \"['va', 'rq']\": 100, \"['va', 'rl']\": 100, \"['va', 'cc']\": 100, \"['ps', 'ge']\": 100, \"['ps', 'rq']\": 100, \"['ps', 'rl']\": 100, \"['ps', 'cc']\": 100, \"['ge', 'rq']\": 100}\n"
     ]
    },
    {
     "data": {
      "application/vnd.jupyter.widget-view+json": {
       "model_id": "4ef4bad6fbf94e5dbca5db44369f684d",
       "version_major": 2,
       "version_minor": 0
      },
      "text/plain": [
       "  0%|          | 0/100 [00:00<?, ?it/s]"
      ]
     },
     "metadata": {},
     "output_type": "display_data"
    },
    {
     "name": "stdout",
     "output_type": "stream",
     "text": [
      "{\"['va', 'ps']\": 100, \"['va', 'ge']\": 100, \"['va', 'rq']\": 100, \"['va', 'rl']\": 100, \"['va', 'cc']\": 100, \"['ps', 'ge']\": 100, \"['ps', 'rq']\": 100, \"['ps', 'rl']\": 100, \"['ps', 'cc']\": 100, \"['ge', 'rq']\": 100, \"['ge', 'rl']\": 100}\n"
     ]
    },
    {
     "data": {
      "application/vnd.jupyter.widget-view+json": {
       "model_id": "0627fa35f3604e2a9e92ba7ac92807aa",
       "version_major": 2,
       "version_minor": 0
      },
      "text/plain": [
       "  0%|          | 0/100 [00:00<?, ?it/s]"
      ]
     },
     "metadata": {},
     "output_type": "display_data"
    },
    {
     "name": "stdout",
     "output_type": "stream",
     "text": [
      "{\"['va', 'ps']\": 100, \"['va', 'ge']\": 100, \"['va', 'rq']\": 100, \"['va', 'rl']\": 100, \"['va', 'cc']\": 100, \"['ps', 'ge']\": 100, \"['ps', 'rq']\": 100, \"['ps', 'rl']\": 100, \"['ps', 'cc']\": 100, \"['ge', 'rq']\": 100, \"['ge', 'rl']\": 100, \"['ge', 'cc']\": 100}\n"
     ]
    },
    {
     "data": {
      "application/vnd.jupyter.widget-view+json": {
       "model_id": "f6525b7e4a7146e5aca4280703f44502",
       "version_major": 2,
       "version_minor": 0
      },
      "text/plain": [
       "  0%|          | 0/100 [00:00<?, ?it/s]"
      ]
     },
     "metadata": {},
     "output_type": "display_data"
    },
    {
     "name": "stdout",
     "output_type": "stream",
     "text": [
      "{\"['va', 'ps']\": 100, \"['va', 'ge']\": 100, \"['va', 'rq']\": 100, \"['va', 'rl']\": 100, \"['va', 'cc']\": 100, \"['ps', 'ge']\": 100, \"['ps', 'rq']\": 100, \"['ps', 'rl']\": 100, \"['ps', 'cc']\": 100, \"['ge', 'rq']\": 100, \"['ge', 'rl']\": 100, \"['ge', 'cc']\": 100, \"['rq', 'rl']\": 100}\n"
     ]
    },
    {
     "data": {
      "application/vnd.jupyter.widget-view+json": {
       "model_id": "76bf73e1e9e84e4289a2df5a4613f358",
       "version_major": 2,
       "version_minor": 0
      },
      "text/plain": [
       "  0%|          | 0/100 [00:00<?, ?it/s]"
      ]
     },
     "metadata": {},
     "output_type": "display_data"
    },
    {
     "name": "stdout",
     "output_type": "stream",
     "text": [
      "{\"['va', 'ps']\": 100, \"['va', 'ge']\": 100, \"['va', 'rq']\": 100, \"['va', 'rl']\": 100, \"['va', 'cc']\": 100, \"['ps', 'ge']\": 100, \"['ps', 'rq']\": 100, \"['ps', 'rl']\": 100, \"['ps', 'cc']\": 100, \"['ge', 'rq']\": 100, \"['ge', 'rl']\": 100, \"['ge', 'cc']\": 100, \"['rq', 'rl']\": 100, \"['rq', 'cc']\": 100}\n"
     ]
    },
    {
     "data": {
      "application/vnd.jupyter.widget-view+json": {
       "model_id": "a5adee3a718347ffb4020e95e1b1afc0",
       "version_major": 2,
       "version_minor": 0
      },
      "text/plain": [
       "  0%|          | 0/100 [00:00<?, ?it/s]"
      ]
     },
     "metadata": {},
     "output_type": "display_data"
    },
    {
     "name": "stdout",
     "output_type": "stream",
     "text": [
      "{\"['va', 'ps']\": 100, \"['va', 'ge']\": 100, \"['va', 'rq']\": 100, \"['va', 'rl']\": 100, \"['va', 'cc']\": 100, \"['ps', 'ge']\": 100, \"['ps', 'rq']\": 100, \"['ps', 'rl']\": 100, \"['ps', 'cc']\": 100, \"['ge', 'rq']\": 100, \"['ge', 'rl']\": 100, \"['ge', 'cc']\": 100, \"['rq', 'rl']\": 100, \"['rq', 'cc']\": 100, \"['rl', 'cc']\": 100}\n"
     ]
    },
    {
     "data": {
      "application/vnd.jupyter.widget-view+json": {
       "model_id": "822bc44135344fc3a50892b466bc879f",
       "version_major": 2,
       "version_minor": 0
      },
      "text/plain": [
       "  0%|          | 0/100 [00:00<?, ?it/s]"
      ]
     },
     "metadata": {},
     "output_type": "display_data"
    },
    {
     "ename": "KeyboardInterrupt",
     "evalue": "",
     "output_type": "error",
     "traceback": [
      "\u001b[0;31m---------------------------------------------------------------------------\u001b[0m",
      "\u001b[0;31mKeyboardInterrupt\u001b[0m                         Traceback (most recent call last)",
      "Input \u001b[0;32mIn [205]\u001b[0m, in \u001b[0;36m<cell line: 2>\u001b[0;34m()\u001b[0m\n\u001b[1;32m      3\u001b[0m rejects \u001b[38;5;241m=\u001b[39m \u001b[38;5;241m0\u001b[39m\n\u001b[1;32m      4\u001b[0m \u001b[38;5;28;01mfor\u001b[39;00m i \u001b[38;5;129;01min\u001b[39;00m tqdm(\u001b[38;5;28mrange\u001b[39m(\u001b[38;5;241m100\u001b[39m)):\n\u001b[0;32m----> 5\u001b[0m     _, _, _, reject \u001b[38;5;241m=\u001b[39m \u001b[43mtest_independence\u001b[49m\u001b[43m(\u001b[49m\u001b[43mklist\u001b[49m\u001b[43m,\u001b[49m\u001b[43m \u001b[49m\u001b[38;5;28;43;01mNone\u001b[39;49;00m\u001b[43m,\u001b[49m\u001b[43m \u001b[49m\u001b[43mn_perms\u001b[49m\u001b[38;5;241;43m=\u001b[39;49m\u001b[38;5;241;43m1000\u001b[39;49m\u001b[43m,\u001b[49m\u001b[43m \u001b[49m\u001b[43malpha\u001b[49m\u001b[38;5;241;43m=\u001b[39;49m\u001b[38;5;241;43m0.05\u001b[39;49m\u001b[43m,\u001b[49m\u001b[43m \u001b[49m\u001b[43mmode\u001b[49m\u001b[43m \u001b[49m\u001b[38;5;241;43m=\u001b[39;49m\u001b[43m \u001b[49m\u001b[38;5;124;43m'\u001b[39;49m\u001b[38;5;124;43mpermutation\u001b[39;49m\u001b[38;5;124;43m'\u001b[39;49m\u001b[43m)\u001b[49m\n\u001b[1;32m      6\u001b[0m     rejects \u001b[38;5;241m=\u001b[39m rejects \u001b[38;5;241m+\u001b[39m reject\n\u001b[1;32m      7\u001b[0m power[\u001b[38;5;28mstr\u001b[39m(name)] \u001b[38;5;241m=\u001b[39m rejects\n",
      "File \u001b[0;32m/Users/Tim/PycharmProjects/HOI/HOI/tests.py:237\u001b[0m, in \u001b[0;36mtest_independence\u001b[0;34m(k_list, data_list, n_perms, alpha, mode)\u001b[0m\n\u001b[1;32m    235\u001b[0m \u001b[38;5;28;01mif\u001b[39;00m mode \u001b[38;5;241m==\u001b[39m \u001b[38;5;124m'\u001b[39m\u001b[38;5;124mpermutation\u001b[39m\u001b[38;5;124m'\u001b[39m:\n\u001b[1;32m    236\u001b[0m     statistic \u001b[38;5;241m=\u001b[39m compute_dHSIC_statistics(k_list)\n\u001b[0;32m--> 237\u001b[0m     critical_value, pval \u001b[38;5;241m=\u001b[39m \u001b[43mdhsic_permutation\u001b[49m\u001b[43m(\u001b[49m\u001b[43mk_list\u001b[49m\u001b[43m,\u001b[49m\u001b[43m \u001b[49m\u001b[43mn_samples\u001b[49m\u001b[43m,\u001b[49m\u001b[43m \u001b[49m\u001b[43mn_variables\u001b[49m\u001b[43m,\u001b[49m\u001b[43m \u001b[49m\u001b[43mstatistic\u001b[49m\u001b[43m,\u001b[49m\u001b[43m \u001b[49m\u001b[43mn_perms\u001b[49m\u001b[43m,\u001b[49m\u001b[43m \u001b[49m\u001b[43malpha\u001b[49m\u001b[43m)\u001b[49m\n\u001b[1;32m    238\u001b[0m     reject \u001b[38;5;241m=\u001b[39m \u001b[38;5;28mint\u001b[39m(statistic \u001b[38;5;241m>\u001b[39m critical_value)\n\u001b[1;32m    239\u001b[0m     \u001b[38;5;28;01mreturn\u001b[39;00m statistic, critical_value, pval, reject\n",
      "File \u001b[0;32m/Users/Tim/PycharmProjects/HOI/HOI/tests.py:31\u001b[0m, in \u001b[0;36mdhsic_permutation\u001b[0;34m(k_list, n_samples, n_variables, stat_found, n_perms, alpha)\u001b[0m\n\u001b[1;32m     29\u001b[0m \u001b[38;5;28;01mfor\u001b[39;00m j \u001b[38;5;129;01min\u001b[39;00m \u001b[38;5;28mrange\u001b[39m(\u001b[38;5;241m1\u001b[39m, n_variables):\n\u001b[1;32m     30\u001b[0m     index_perm \u001b[38;5;241m=\u001b[39m np\u001b[38;5;241m.\u001b[39mrandom\u001b[38;5;241m.\u001b[39mpermutation(k_list[j]\u001b[38;5;241m.\u001b[39mshape[\u001b[38;5;241m0\u001b[39m])\n\u001b[0;32m---> 31\u001b[0m     k_perm \u001b[38;5;241m=\u001b[39m \u001b[43mk_list\u001b[49m\u001b[43m[\u001b[49m\u001b[43mj\u001b[49m\u001b[43m]\u001b[49m\u001b[43m[\u001b[49m\u001b[43mindex_perm\u001b[49m\u001b[43m,\u001b[49m\u001b[43m \u001b[49m\u001b[43mindex_perm\u001b[49m\u001b[43m[\u001b[49m\u001b[43m:\u001b[49m\u001b[43m,\u001b[49m\u001b[43m \u001b[49m\u001b[38;5;28;43;01mNone\u001b[39;49;00m\u001b[43m]\u001b[49m\u001b[43m]\u001b[49m\n\u001b[1;32m     33\u001b[0m     term1 \u001b[38;5;241m=\u001b[39m term1 \u001b[38;5;241m*\u001b[39m k_perm\n\u001b[1;32m     34\u001b[0m     term2 \u001b[38;5;241m=\u001b[39m term2 \u001b[38;5;241m*\u001b[39m np\u001b[38;5;241m.\u001b[39msum(k_perm) \u001b[38;5;241m/\u001b[39m (n_samples \u001b[38;5;241m*\u001b[39m\u001b[38;5;241m*\u001b[39m \u001b[38;5;241m2\u001b[39m)\n",
      "\u001b[0;31mKeyboardInterrupt\u001b[0m: "
     ]
    }
   ],
   "source": [
    "power = {}\n",
    "for (name, klist) in tqdm(zip(power_set_name, power_set), total=len(power_set)):\n",
    "    rejects = 0\n",
    "    for i in tqdm(range(100)):\n",
    "        _, _, _, reject = test_independence(klist, None, n_perms=1000, alpha=0.05, mode = 'permutation')\n",
    "        rejects = rejects + reject\n",
    "    power[str(name)] = rejects\n",
    "    print(power)"
   ]
  },
  {
   "cell_type": "code",
   "execution_count": 206,
   "id": "29ab77c2-d53d-427e-9016-3486b5ee44e8",
   "metadata": {},
   "outputs": [
    {
     "data": {
      "text/plain": [
       "dict_values([100, 100, 100, 100, 100, 100, 100, 100, 100, 100, 100, 100, 100, 100, 100])"
      ]
     },
     "execution_count": 206,
     "metadata": {},
     "output_type": "execute_result"
    }
   ],
   "source": [
    "power.values()"
   ]
  }
 ],
 "metadata": {
  "kernelspec": {
   "display_name": "Python 3 (ipykernel)",
   "language": "python",
   "name": "python3"
  },
  "language_info": {
   "codemirror_mode": {
    "name": "ipython",
    "version": 3
   },
   "file_extension": ".py",
   "mimetype": "text/x-python",
   "name": "python",
   "nbconvert_exporter": "python",
   "pygments_lexer": "ipython3",
   "version": "3.9.12"
  }
 },
 "nbformat": 4,
 "nbformat_minor": 5
}

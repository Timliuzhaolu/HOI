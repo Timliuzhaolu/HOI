{
 "cells": [
  {
   "cell_type": "code",
   "execution_count": 1,
   "id": "f4449180-8612-4617-ad81-9c9288488c77",
   "metadata": {},
   "outputs": [],
   "source": [
    "%load_ext autoreload\n",
    "%autoreload 2"
   ]
  },
  {
   "cell_type": "code",
   "execution_count": 2,
   "id": "899996fb-8dff-46ec-8171-e3912b9df1ae",
   "metadata": {},
   "outputs": [],
   "source": [
    "import sys\n",
    "sys.path.append('/Users/Tim/PycharmProjects/HOI/')"
   ]
  },
  {
   "cell_type": "code",
   "execution_count": 3,
   "id": "85deabd5-04d3-4244-a612-e404bddfc6a6",
   "metadata": {},
   "outputs": [
    {
     "data": {
      "text/plain": [
       "['/Users/tim/PycharmProjects/HOI/examples',\n",
       " '/Users/tim/opt/anaconda3/lib/python39.zip',\n",
       " '/Users/tim/opt/anaconda3/lib/python3.9',\n",
       " '/Users/tim/opt/anaconda3/lib/python3.9/lib-dynload',\n",
       " '',\n",
       " '/Users/tim/opt/anaconda3/lib/python3.9/site-packages',\n",
       " '/Users/tim/opt/anaconda3/lib/python3.9/site-packages/aeosa',\n",
       " '/Users/Tim/PycharmProjects/HOI/']"
      ]
     },
     "execution_count": 3,
     "metadata": {},
     "output_type": "execute_result"
    }
   ],
   "source": [
    "import sys\n",
    "sys.path"
   ]
  },
  {
   "cell_type": "code",
   "execution_count": 5,
   "id": "ce6f0321-e8ff-4a20-bbc7-0d85ec3ca815",
   "metadata": {},
   "outputs": [],
   "source": [
    "import pandas as pd\n",
    "import numpy as np\n",
    "from tqdm.notebook import tqdm\n",
    "from ipywidgets import IntProgress"
   ]
  },
  {
   "cell_type": "code",
   "execution_count": 6,
   "id": "29146b54-55d7-4069-9d32-6d5b8a2ca376",
   "metadata": {},
   "outputs": [],
   "source": [
    "from synthetic_data import stationary_pb_ts, nonstationary_ts_n, stationary_pb_ts_n\n",
    "from HOI.preprocessings import compute_kernel, compute_kernel_n\n",
    "from HOI.tests import test_independence"
   ]
  },
  {
   "cell_type": "markdown",
   "id": "3be7a514-6ac1-453c-815b-a3d1b4607134",
   "metadata": {},
   "source": [
    "# case1"
   ]
  },
  {
   "cell_type": "code",
   "execution_count": 28,
   "id": "226c47c4-7694-4427-b779-a9ac5a0aad4b",
   "metadata": {},
   "outputs": [
    {
     "name": "stdout",
     "output_type": "stream",
     "text": [
      "1 1 0 0\n",
      "1 1 1 0\n",
      "1 0 0 0\n",
      "0 0 0 0\n",
      "1 0 0 0\n",
      "1 0 0 0\n",
      "1 0 0 0\n",
      "1 0 0 0\n",
      "1 0 0 0\n",
      "1 0 0 0\n",
      "1 1 0 0\n",
      "1 0 0 0\n",
      "1 0 0 0\n",
      "1 0 0 0\n",
      "1 0 0 0\n",
      "1 0 0 0\n",
      "1 0 0 0\n",
      "1 0 0 0\n",
      "1 0 0 0\n",
      "1 1 0 0\n",
      "0 0 0 0\n",
      "1 0 0 0\n",
      "0 0 0 0\n",
      "1 0 0 0\n",
      "0 0 1 0\n",
      "1 0 0 0\n",
      "1 1 0 0\n",
      "1 0 0 0\n",
      "1 0 0 0\n",
      "0 0 0 0\n"
     ]
    }
   ],
   "source": [
    "for n in range(30):\n",
    "    df = stationary_pb_ts(t_time = 300, d = 0.8, mode = \"case1\", a=0.5, order=4)\n",
    "    data_dict, kernel_dict = compute_kernel(df)\n",
    "    \n",
    "    d1 = data_dict['d1']\n",
    "    d2 = data_dict['d2']\n",
    "    d3 = data_dict['d3']\n",
    "    d4 = data_dict['d4']\n",
    "    \n",
    "    kd1 = kernel_dict['d1']\n",
    "    kd2 = kernel_dict['d2']\n",
    "    kd3 = kernel_dict['d3']   \n",
    "    kd4 = kernel_dict['d4']\n",
    "    \n",
    "    _, _, reject = test_independence([kd1, kd2, kd3, kd4],[d1, d2, d3, d4],\n",
    "                                              mode = 'stat_ts', n_perms=None, alpha=0.05)\n",
    "\n",
    "    _, _, reject1 = test_independence([kd1, kd2, kd4], [d1, d2, d4],\n",
    "                                          mode = 'stat_ts', n_perms=None, alpha=0.05)\n",
    "\n",
    "    _, _, reject2 = test_independence([kd1, kd4],[d1, d4],\n",
    "                                      mode = 'stat_ts', n_perms=None, alpha=0.05)\n",
    "    print(reject, reject1, reject2)"
   ]
  },
  {
   "cell_type": "markdown",
   "id": "d8b58069-85b7-4461-85e9-516a05d5f64b",
   "metadata": {},
   "source": [
    "# case2"
   ]
  },
  {
   "cell_type": "code",
   "execution_count": 29,
   "id": "25ae57c8-547b-48da-8977-15985753a96c",
   "metadata": {},
   "outputs": [
    {
     "name": "stdout",
     "output_type": "stream",
     "text": [
      "1 0 1 1\n",
      "1 0 0 0\n",
      "1 0 1 1\n",
      "1 0 1 1\n",
      "1 0 0 1\n",
      "1 0 1 1\n",
      "1 0 1 1\n",
      "1 1 1 0\n",
      "1 1 0 1\n",
      "1 0 0 1\n",
      "1 0 1 1\n",
      "1 0 1 1\n",
      "1 1 1 0\n",
      "1 0 1 1\n",
      "1 0 0 1\n",
      "1 0 1 0\n",
      "1 0 1 1\n",
      "1 1 1 1\n",
      "1 1 1 1\n",
      "1 0 1 0\n",
      "1 0 1 0\n",
      "1 0 1 0\n",
      "1 0 1 1\n",
      "1 0 1 1\n",
      "1 0 1 1\n",
      "1 0 1 0\n",
      "1 0 0 1\n",
      "1 0 1 0\n",
      "1 0 1 1\n",
      "1 0 1 1\n"
     ]
    }
   ],
   "source": [
    "for n in range(30):\n",
    "    df = stationary_pb_ts(t_time = 300, d = 0.8, mode = \"case2\", a=0.5, order=4)\n",
    "    data_dict, kernel_dict = compute_kernel(df)\n",
    "    \n",
    "    d1 = data_dict['d1']\n",
    "    d2 = data_dict['d2']\n",
    "    d3 = data_dict['d3']\n",
    "    d4 = data_dict['d4']\n",
    "    \n",
    "    kd1 = kernel_dict['d1']\n",
    "    kd2 = kernel_dict['d2']\n",
    "    kd3 = kernel_dict['d3']   \n",
    "    kd4 = kernel_dict['d4']\n",
    "    \n",
    "    _, _, reject = test_independence([kd1, kd2, kd3, kd4],[d1, d2, d3, d4],\n",
    "                                              mode = 'stat_ts', n_perms=None, alpha=0.05)\n",
    "\n",
    "    _, _, reject1 = test_independence([kd1, kd2], [d1, d2],\n",
    "                                          mode = 'stat_ts', n_perms=None, alpha=0.05)\n",
    "\n",
    "    _, _, reject2 = test_independence([kd1, kd4],[d1, d4],\n",
    "                                      mode = 'stat_ts', n_perms=None, alpha=0.05)\n",
    "\n",
    "    _, _, reject3 = test_independence([kd2, kd4],[d2, d4],\n",
    "                                      mode = 'stat_ts', n_perms=None, alpha=0.05)\n",
    "    print(reject, reject1, reject2, reject3)"
   ]
  },
  {
   "cell_type": "markdown",
   "id": "4387fd52-8518-4af5-8b19-a30856baca64",
   "metadata": {},
   "source": [
    "# case3"
   ]
  },
  {
   "cell_type": "code",
   "execution_count": 39,
   "id": "927d3bd7-73dd-4fb8-81c5-bd5e99fe0a98",
   "metadata": {},
   "outputs": [
    {
     "name": "stdout",
     "output_type": "stream",
     "text": [
      "0\n",
      "1\n",
      "1\n",
      "0\n",
      "0\n",
      "0\n",
      "1\n",
      "0\n",
      "1\n",
      "1\n",
      "0\n",
      "1\n",
      "1\n",
      "1\n",
      "0\n",
      "1\n",
      "1\n",
      "1\n",
      "1\n",
      "0\n"
     ]
    }
   ],
   "source": [
    "for n in range(20):\n",
    "    df = stationary_pb_ts(t_time = 300, d = None, mode = \"case3\", a=0.9, order=4)\n",
    "    data_dict, kernel_dict = compute_kernel(df)\n",
    "    \n",
    "    d1 = data_dict['d1']\n",
    "    d2 = data_dict['d2']\n",
    "    d3 = data_dict['d3']\n",
    "    d4 = data_dict['d4']\n",
    "    \n",
    "    kd1 = kernel_dict['d1']\n",
    "    kd2 = kernel_dict['d2']\n",
    "    kd3 = kernel_dict['d3']   \n",
    "    kd4 = kernel_dict['d4']\n",
    "    \n",
    "    # _, _, reject = test_independence([kd1, kd2, kd3, kd4],[d1, d2, d3, d4],\n",
    "    #                                           mode = 'stat_ts', n_perms=None, alpha=0.05)\n",
    "\n",
    "    _, _, reject1 = test_independence([kd1, kd2, kd4], [d1, d2, d4],\n",
    "                                          mode = 'stat_ts', n_perms=None, alpha=0.05)\n",
    "\n",
    "    # _, _, reject2 = test_independence([kd1, kd4],[d1, d4],\n",
    "    #                                   mode = 'stat_ts', n_perms=None, alpha=0.05)\n",
    "\n",
    "    print(reject1)"
   ]
  },
  {
   "cell_type": "code",
   "execution_count": 72,
   "id": "e69aeb9d-9474-4041-87fa-53e323296738",
   "metadata": {},
   "outputs": [
    {
     "data": {
      "application/vnd.jupyter.widget-view+json": {
       "model_id": "3c1ce992c56a4f48b90f05adf68a9303",
       "version_major": 2,
       "version_minor": 0
      },
      "text/plain": [
       "  0%|          | 0/100 [00:00<?, ?it/s]"
      ]
     },
     "metadata": {},
     "output_type": "display_data"
    },
    {
     "name": "stdout",
     "output_type": "stream",
     "text": [
      "1\n",
      "1\n",
      "1\n",
      "1\n",
      "1\n",
      "1\n",
      "1\n",
      "1\n",
      "1\n",
      "1\n",
      "1\n",
      "1\n",
      "1\n",
      "1\n",
      "1\n",
      "1\n",
      "1\n",
      "1\n",
      "1\n",
      "1\n",
      "1\n",
      "1\n",
      "1\n",
      "1\n",
      "1\n",
      "1\n",
      "1\n",
      "1\n",
      "1\n",
      "1\n",
      "1\n",
      "1\n",
      "1\n",
      "1\n",
      "1\n",
      "1\n",
      "1\n",
      "1\n",
      "1\n",
      "1\n",
      "1\n",
      "1\n",
      "1\n",
      "1\n",
      "0\n",
      "1\n",
      "1\n",
      "1\n",
      "1\n",
      "1\n",
      "1\n",
      "1\n",
      "1\n",
      "1\n",
      "1\n",
      "1\n",
      "1\n",
      "1\n",
      "1\n",
      "1\n",
      "1\n",
      "1\n",
      "1\n",
      "1\n",
      "1\n",
      "1\n",
      "1\n",
      "1\n",
      "1\n",
      "1\n",
      "1\n",
      "1\n",
      "1\n",
      "1\n",
      "1\n",
      "1\n",
      "1\n",
      "1\n",
      "1\n",
      "1\n",
      "1\n",
      "1\n",
      "1\n",
      "1\n",
      "1\n",
      "1\n",
      "1\n",
      "1\n",
      "1\n",
      "1\n",
      "1\n",
      "1\n",
      "1\n",
      "1\n",
      "1\n",
      "1\n",
      "1\n",
      "1\n",
      "1\n",
      "1\n"
     ]
    }
   ],
   "source": [
    "for i in tqdm(np.arange(100)):\n",
    "    df = stationary_pb_ts(t_time = 200, d = 0, mode = \"case3\", a=0.8, order=4)\n",
    "    data_dict, kernel_dict = compute_kernel(df)\n",
    "    _, _, reject_1 = test_independence([kernel_dict['d1'], kernel_dict['d2'], kernel_dict['d3'], kernel_dict['d4']],\n",
    "                                      [data_dict['d1'], data_dict['d2'], data_dict['d3'], data_dict['d4']],\n",
    "                                       mode = 'stat_ts', n_perms=2000, alpha=0.05)\n",
    "    print(reject_1)"
   ]
  },
  {
   "cell_type": "code",
   "execution_count": 63,
   "id": "f30d67c9-bf0a-4091-810d-c7acb6bdb8d6",
   "metadata": {},
   "outputs": [
    {
     "data": {
      "text/plain": [
       "0.49666666666666665"
      ]
     },
     "execution_count": 63,
     "metadata": {},
     "output_type": "execute_result"
    }
   ],
   "source": [
    "rejects/300"
   ]
  },
  {
   "cell_type": "code",
   "execution_count": null,
   "id": "3361c8d7-2ed7-4308-b82f-a0bec73c8db4",
   "metadata": {},
   "outputs": [],
   "source": []
  },
  {
   "cell_type": "code",
   "execution_count": null,
   "id": "2b39fbe0-31a6-4bf3-a6a9-2a209edee349",
   "metadata": {},
   "outputs": [],
   "source": []
  },
  {
   "cell_type": "code",
   "execution_count": null,
   "id": "703985e8-e73d-4257-ad00-49b01ccd63c1",
   "metadata": {},
   "outputs": [],
   "source": []
  }
 ],
 "metadata": {
  "kernelspec": {
   "display_name": "Python 3 (ipykernel)",
   "language": "python",
   "name": "python3"
  },
  "language_info": {
   "codemirror_mode": {
    "name": "ipython",
    "version": 3
   },
   "file_extension": ".py",
   "mimetype": "text/x-python",
   "name": "python",
   "nbconvert_exporter": "python",
   "pygments_lexer": "ipython3",
   "version": "3.9.12"
  }
 },
 "nbformat": 4,
 "nbformat_minor": 5
}

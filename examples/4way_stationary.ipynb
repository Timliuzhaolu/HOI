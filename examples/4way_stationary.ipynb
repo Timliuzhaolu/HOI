{
 "cells": [
  {
   "cell_type": "code",
   "execution_count": 1,
   "id": "f4449180-8612-4617-ad81-9c9288488c77",
   "metadata": {},
   "outputs": [],
   "source": [
    "%load_ext autoreload\n",
    "%autoreload 2"
   ]
  },
  {
   "cell_type": "code",
   "execution_count": 2,
   "id": "899996fb-8dff-46ec-8171-e3912b9df1ae",
   "metadata": {},
   "outputs": [],
   "source": [
    "import sys\n",
    "sys.path.append('/Users/Tim/PycharmProjects/HOI/')"
   ]
  },
  {
   "cell_type": "code",
   "execution_count": 3,
   "id": "85deabd5-04d3-4244-a612-e404bddfc6a6",
   "metadata": {},
   "outputs": [
    {
     "data": {
      "text/plain": [
       "['/Users/tim/PycharmProjects/HOI/examples',\n",
       " '/Users/tim/.conda/envs/HOI/lib/python310.zip',\n",
       " '/Users/tim/.conda/envs/HOI/lib/python3.10',\n",
       " '/Users/tim/.conda/envs/HOI/lib/python3.10/lib-dynload',\n",
       " '',\n",
       " '/Users/tim/.conda/envs/HOI/lib/python3.10/site-packages',\n",
       " '/Users/Tim/PycharmProjects/HOI/']"
      ]
     },
     "execution_count": 3,
     "metadata": {},
     "output_type": "execute_result"
    }
   ],
   "source": [
    "import sys\n",
    "sys.path"
   ]
  },
  {
   "cell_type": "code",
   "execution_count": 4,
   "id": "ce6f0321-e8ff-4a20-bbc7-0d85ec3ca815",
   "metadata": {},
   "outputs": [],
   "source": [
    "import pandas as pd\n",
    "import numpy as np\n",
    "from tqdm.notebook import tqdm\n",
    "from ipywidgets import IntProgress"
   ]
  },
  {
   "cell_type": "code",
   "execution_count": 5,
   "id": "29146b54-55d7-4069-9d32-6d5b8a2ca376",
   "metadata": {},
   "outputs": [],
   "source": [
    "from synthetic_data import stationary_pb_ts, nonstationary_ts_n, stationary_pb_ts_n\n",
    "from HOI.preprocessings import compute_kernel, compute_kernel_n\n",
    "from HOI.tests import test_independence"
   ]
  },
  {
   "cell_type": "markdown",
   "id": "3be7a514-6ac1-453c-815b-a3d1b4607134",
   "metadata": {},
   "source": [
    "# case1"
   ]
  },
  {
   "cell_type": "code",
   "execution_count": 18,
   "id": "b7200681",
   "metadata": {},
   "outputs": [
    {
     "data": {
      "application/json": {
       "ascii": false,
       "bar_format": null,
       "colour": null,
       "elapsed": 0.008285999298095703,
       "initial": 0,
       "n": 0,
       "ncols": null,
       "nrows": 24,
       "postfix": null,
       "prefix": "",
       "rate": null,
       "total": 9,
       "unit": "it",
       "unit_divisor": 1000,
       "unit_scale": false
      },
      "application/vnd.jupyter.widget-view+json": {
       "model_id": "58400454ef1442f29430818d93d16292",
       "version_major": 2,
       "version_minor": 0
      },
      "text/plain": [
       "  0%|          | 0/9 [00:00<?, ?it/s]"
      ]
     },
     "metadata": {},
     "output_type": "display_data"
    },
    {
     "data": {
      "application/json": {
       "ascii": false,
       "bar_format": null,
       "colour": null,
       "elapsed": 0.007945060729980469,
       "initial": 0,
       "n": 0,
       "ncols": null,
       "nrows": 24,
       "postfix": null,
       "prefix": "",
       "rate": null,
       "total": 100,
       "unit": "it",
       "unit_divisor": 1000,
       "unit_scale": false
      },
      "application/vnd.jupyter.widget-view+json": {
       "model_id": "cbd0a6c906414ca78495cee3f6bd714f",
       "version_major": 2,
       "version_minor": 0
      },
      "text/plain": [
       "  0%|          | 0/100 [00:00<?, ?it/s]"
      ]
     },
     "metadata": {},
     "output_type": "display_data"
    },
    {
     "name": "stdout",
     "output_type": "stream",
     "text": [
      "{'0.1': 0.05}\n"
     ]
    },
    {
     "data": {
      "application/json": {
       "ascii": false,
       "bar_format": null,
       "colour": null,
       "elapsed": 0.00616002082824707,
       "initial": 0,
       "n": 0,
       "ncols": null,
       "nrows": 24,
       "postfix": null,
       "prefix": "",
       "rate": null,
       "total": 100,
       "unit": "it",
       "unit_divisor": 1000,
       "unit_scale": false
      },
      "application/vnd.jupyter.widget-view+json": {
       "model_id": "f126d526020c4ccf823b9c682adc37ee",
       "version_major": 2,
       "version_minor": 0
      },
      "text/plain": [
       "  0%|          | 0/100 [00:00<?, ?it/s]"
      ]
     },
     "metadata": {},
     "output_type": "display_data"
    },
    {
     "name": "stdout",
     "output_type": "stream",
     "text": [
      "{'0.1': 0.05, '0.2': 0.1}\n"
     ]
    },
    {
     "data": {
      "application/json": {
       "ascii": false,
       "bar_format": null,
       "colour": null,
       "elapsed": 0.006045818328857422,
       "initial": 0,
       "n": 0,
       "ncols": null,
       "nrows": 24,
       "postfix": null,
       "prefix": "",
       "rate": null,
       "total": 100,
       "unit": "it",
       "unit_divisor": 1000,
       "unit_scale": false
      },
      "application/vnd.jupyter.widget-view+json": {
       "model_id": "8b0036ea672b4a28a96b2dbe9eddca44",
       "version_major": 2,
       "version_minor": 0
      },
      "text/plain": [
       "  0%|          | 0/100 [00:00<?, ?it/s]"
      ]
     },
     "metadata": {},
     "output_type": "display_data"
    },
    {
     "name": "stdout",
     "output_type": "stream",
     "text": [
      "{'0.1': 0.05, '0.2': 0.1, '0.30000000000000004': 0.06}\n"
     ]
    },
    {
     "data": {
      "application/json": {
       "ascii": false,
       "bar_format": null,
       "colour": null,
       "elapsed": 0.006032705307006836,
       "initial": 0,
       "n": 0,
       "ncols": null,
       "nrows": 24,
       "postfix": null,
       "prefix": "",
       "rate": null,
       "total": 100,
       "unit": "it",
       "unit_divisor": 1000,
       "unit_scale": false
      },
      "application/vnd.jupyter.widget-view+json": {
       "model_id": "ec86dda74d5e4bc092387f6f80c31577",
       "version_major": 2,
       "version_minor": 0
      },
      "text/plain": [
       "  0%|          | 0/100 [00:00<?, ?it/s]"
      ]
     },
     "metadata": {},
     "output_type": "display_data"
    },
    {
     "name": "stdout",
     "output_type": "stream",
     "text": [
      "{'0.1': 0.05, '0.2': 0.1, '0.30000000000000004': 0.06, '0.4': 0.1}\n"
     ]
    },
    {
     "data": {
      "application/json": {
       "ascii": false,
       "bar_format": null,
       "colour": null,
       "elapsed": 0.006172895431518555,
       "initial": 0,
       "n": 0,
       "ncols": null,
       "nrows": 24,
       "postfix": null,
       "prefix": "",
       "rate": null,
       "total": 100,
       "unit": "it",
       "unit_divisor": 1000,
       "unit_scale": false
      },
      "application/vnd.jupyter.widget-view+json": {
       "model_id": "119e4ae8fe8d4b0c8164b1e28b4a693e",
       "version_major": 2,
       "version_minor": 0
      },
      "text/plain": [
       "  0%|          | 0/100 [00:00<?, ?it/s]"
      ]
     },
     "metadata": {},
     "output_type": "display_data"
    },
    {
     "name": "stdout",
     "output_type": "stream",
     "text": [
      "{'0.1': 0.05, '0.2': 0.1, '0.30000000000000004': 0.06, '0.4': 0.1, '0.5': 0.08}\n"
     ]
    },
    {
     "data": {
      "application/json": {
       "ascii": false,
       "bar_format": null,
       "colour": null,
       "elapsed": 0.006019115447998047,
       "initial": 0,
       "n": 0,
       "ncols": null,
       "nrows": 24,
       "postfix": null,
       "prefix": "",
       "rate": null,
       "total": 100,
       "unit": "it",
       "unit_divisor": 1000,
       "unit_scale": false
      },
      "application/vnd.jupyter.widget-view+json": {
       "model_id": "750a4d143c204cd7a465b1da90be29d6",
       "version_major": 2,
       "version_minor": 0
      },
      "text/plain": [
       "  0%|          | 0/100 [00:00<?, ?it/s]"
      ]
     },
     "metadata": {},
     "output_type": "display_data"
    },
    {
     "name": "stdout",
     "output_type": "stream",
     "text": [
      "{'0.1': 0.05, '0.2': 0.1, '0.30000000000000004': 0.06, '0.4': 0.1, '0.5': 0.08, '0.6': 0.12}\n"
     ]
    },
    {
     "data": {
      "application/json": {
       "ascii": false,
       "bar_format": null,
       "colour": null,
       "elapsed": 0.006022930145263672,
       "initial": 0,
       "n": 0,
       "ncols": null,
       "nrows": 24,
       "postfix": null,
       "prefix": "",
       "rate": null,
       "total": 100,
       "unit": "it",
       "unit_divisor": 1000,
       "unit_scale": false
      },
      "application/vnd.jupyter.widget-view+json": {
       "model_id": "a0030bc86840418b9bf7cee0c7250579",
       "version_major": 2,
       "version_minor": 0
      },
      "text/plain": [
       "  0%|          | 0/100 [00:00<?, ?it/s]"
      ]
     },
     "metadata": {},
     "output_type": "display_data"
    },
    {
     "name": "stdout",
     "output_type": "stream",
     "text": [
      "{'0.1': 0.05, '0.2': 0.1, '0.30000000000000004': 0.06, '0.4': 0.1, '0.5': 0.08, '0.6': 0.12, '0.7000000000000001': 0.14}\n"
     ]
    },
    {
     "data": {
      "application/json": {
       "ascii": false,
       "bar_format": null,
       "colour": null,
       "elapsed": 0.0060710906982421875,
       "initial": 0,
       "n": 0,
       "ncols": null,
       "nrows": 24,
       "postfix": null,
       "prefix": "",
       "rate": null,
       "total": 100,
       "unit": "it",
       "unit_divisor": 1000,
       "unit_scale": false
      },
      "application/vnd.jupyter.widget-view+json": {
       "model_id": "75aef35085aa4170b5c526f14378ec83",
       "version_major": 2,
       "version_minor": 0
      },
      "text/plain": [
       "  0%|          | 0/100 [00:00<?, ?it/s]"
      ]
     },
     "metadata": {},
     "output_type": "display_data"
    },
    {
     "name": "stdout",
     "output_type": "stream",
     "text": [
      "{'0.1': 0.05, '0.2': 0.1, '0.30000000000000004': 0.06, '0.4': 0.1, '0.5': 0.08, '0.6': 0.12, '0.7000000000000001': 0.14, '0.8': 0.12}\n"
     ]
    },
    {
     "data": {
      "application/json": {
       "ascii": false,
       "bar_format": null,
       "colour": null,
       "elapsed": 0.006065845489501953,
       "initial": 0,
       "n": 0,
       "ncols": null,
       "nrows": 24,
       "postfix": null,
       "prefix": "",
       "rate": null,
       "total": 100,
       "unit": "it",
       "unit_divisor": 1000,
       "unit_scale": false
      },
      "application/vnd.jupyter.widget-view+json": {
       "model_id": "9ae723c88f534bce827fb422559f1df5",
       "version_major": 2,
       "version_minor": 0
      },
      "text/plain": [
       "  0%|          | 0/100 [00:00<?, ?it/s]"
      ]
     },
     "metadata": {},
     "output_type": "display_data"
    },
    {
     "name": "stdout",
     "output_type": "stream",
     "text": [
      "{'0.1': 0.05, '0.2': 0.1, '0.30000000000000004': 0.06, '0.4': 0.1, '0.5': 0.08, '0.6': 0.12, '0.7000000000000001': 0.14, '0.8': 0.12, '0.9': 0.19}\n",
      "{'0.1': 0.05, '0.2': 0.1, '0.30000000000000004': 0.06, '0.4': 0.1, '0.5': 0.08, '0.6': 0.12, '0.7000000000000001': 0.14, '0.8': 0.12, '0.9': 0.19}\n"
     ]
    }
   ],
   "source": [
    "power ={}\n",
    "for d in tqdm(np.arange(0.1, 1, 0.1)):\n",
    "    rejects = 0\n",
    "    for i in tqdm(np.arange(100)):\n",
    "        df = stationary_pb_ts(t_time = 300, d = d, mode = \"case1\", a=0.5, order=4)\n",
    "        data_dict, kernel_dict = compute_kernel(df)\n",
    "    \n",
    "        d1 = data_dict['d1']\n",
    "        d2 = data_dict['d2']\n",
    "        d3 = data_dict['d3']\n",
    "        d4 = data_dict['d4']\n",
    "\n",
    "        kd1 = kernel_dict['d1']\n",
    "        kd2 = kernel_dict['d2']\n",
    "        kd3 = kernel_dict['d3']   \n",
    "        kd4 = kernel_dict['d4']\n",
    "        _, _, _, reject = test_independence([kd1, kd2, kd3, kd4],[d1, d2, d3, d4], \n",
    "                                            mode = 'stat_ts', n_perms=5000, alpha=0.05)      \n",
    "        rejects = rejects + reject\n",
    "    power[str(d)] = rejects/100\n",
    "    print(power)\n",
    "print(power)"
   ]
  },
  {
   "cell_type": "code",
   "execution_count": null,
   "id": "07f3f7ce",
   "metadata": {},
   "outputs": [],
   "source": []
  },
  {
   "cell_type": "code",
   "execution_count": null,
   "id": "79ff6feb",
   "metadata": {},
   "outputs": [],
   "source": []
  },
  {
   "cell_type": "code",
   "execution_count": 28,
   "id": "226c47c4-7694-4427-b779-a9ac5a0aad4b",
   "metadata": {},
   "outputs": [
    {
     "name": "stdout",
     "output_type": "stream",
     "text": [
      "1 1 0 0\n",
      "1 1 1 0\n",
      "1 0 0 0\n",
      "0 0 0 0\n",
      "1 0 0 0\n",
      "1 0 0 0\n",
      "1 0 0 0\n",
      "1 0 0 0\n",
      "1 0 0 0\n",
      "1 0 0 0\n",
      "1 1 0 0\n",
      "1 0 0 0\n",
      "1 0 0 0\n",
      "1 0 0 0\n",
      "1 0 0 0\n",
      "1 0 0 0\n",
      "1 0 0 0\n",
      "1 0 0 0\n",
      "1 0 0 0\n",
      "1 1 0 0\n",
      "0 0 0 0\n",
      "1 0 0 0\n",
      "0 0 0 0\n",
      "1 0 0 0\n",
      "0 0 1 0\n",
      "1 0 0 0\n",
      "1 1 0 0\n",
      "1 0 0 0\n",
      "1 0 0 0\n",
      "0 0 0 0\n"
     ]
    }
   ],
   "source": [
    "for n in range(30):\n",
    "    df = stationary_pb_ts(t_time = 300, d = 0.8, mode = \"case1\", a=0.5, order=4)\n",
    "    data_dict, kernel_dict = compute_kernel(df)\n",
    "    \n",
    "    d1 = data_dict['d1']\n",
    "    d2 = data_dict['d2']\n",
    "    d3 = data_dict['d3']\n",
    "    d4 = data_dict['d4']\n",
    "    \n",
    "    kd1 = kernel_dict['d1']\n",
    "    kd2 = kernel_dict['d2']\n",
    "    kd3 = kernel_dict['d3']   \n",
    "    kd4 = kernel_dict['d4']\n",
    "    \n",
    "    _, _, reject = test_independence([kd1, kd2, kd3, kd4],[d1, d2, d3, d4],\n",
    "                                              mode = 'stat_ts', n_perms=None, alpha=0.05)\n",
    "\n",
    "    _, _, reject1 = test_independence([kd1, kd2, kd4], [d1, d2, d4],\n",
    "                                          mode = 'stat_ts', n_perms=None, alpha=0.05)\n",
    "\n",
    "    _, _, reject2 = test_independence([kd1, kd4],[d1, d4],\n",
    "                                      mode = 'stat_ts', n_perms=None, alpha=0.05)\n",
    "    print(reject, reject1, reject2)"
   ]
  },
  {
   "cell_type": "markdown",
   "id": "d8b58069-85b7-4461-85e9-516a05d5f64b",
   "metadata": {},
   "source": [
    "# case2"
   ]
  },
  {
   "cell_type": "code",
   "execution_count": 15,
   "id": "d797b23b",
   "metadata": {},
   "outputs": [
    {
     "data": {
      "application/json": {
       "ascii": false,
       "bar_format": null,
       "colour": null,
       "elapsed": 0.00962376594543457,
       "initial": 0,
       "n": 0,
       "ncols": null,
       "nrows": 24,
       "postfix": null,
       "prefix": "",
       "rate": null,
       "total": 9,
       "unit": "it",
       "unit_divisor": 1000,
       "unit_scale": false
      },
      "application/vnd.jupyter.widget-view+json": {
       "model_id": "ebb0f4f250694d91a331728324a9c935",
       "version_major": 2,
       "version_minor": 0
      },
      "text/plain": [
       "  0%|          | 0/9 [00:00<?, ?it/s]"
      ]
     },
     "metadata": {},
     "output_type": "display_data"
    },
    {
     "data": {
      "application/json": {
       "ascii": false,
       "bar_format": null,
       "colour": null,
       "elapsed": 0.010233163833618164,
       "initial": 0,
       "n": 0,
       "ncols": null,
       "nrows": 24,
       "postfix": null,
       "prefix": "",
       "rate": null,
       "total": 100,
       "unit": "it",
       "unit_divisor": 1000,
       "unit_scale": false
      },
      "application/vnd.jupyter.widget-view+json": {
       "model_id": "24a22aa9fe66479ebf8f73111cf9044b",
       "version_major": 2,
       "version_minor": 0
      },
      "text/plain": [
       "  0%|          | 0/100 [00:00<?, ?it/s]"
      ]
     },
     "metadata": {},
     "output_type": "display_data"
    },
    {
     "name": "stdout",
     "output_type": "stream",
     "text": [
      "{'0.1': 0.28}\n"
     ]
    },
    {
     "data": {
      "application/json": {
       "ascii": false,
       "bar_format": null,
       "colour": null,
       "elapsed": 0.006008625030517578,
       "initial": 0,
       "n": 0,
       "ncols": null,
       "nrows": 24,
       "postfix": null,
       "prefix": "",
       "rate": null,
       "total": 100,
       "unit": "it",
       "unit_divisor": 1000,
       "unit_scale": false
      },
      "application/vnd.jupyter.widget-view+json": {
       "model_id": "e8ce878f45bb4489a344b00c272d1bb4",
       "version_major": 2,
       "version_minor": 0
      },
      "text/plain": [
       "  0%|          | 0/100 [00:00<?, ?it/s]"
      ]
     },
     "metadata": {},
     "output_type": "display_data"
    },
    {
     "name": "stdout",
     "output_type": "stream",
     "text": [
      "{'0.1': 0.28, '0.2': 0.96}\n"
     ]
    },
    {
     "data": {
      "application/json": {
       "ascii": false,
       "bar_format": null,
       "colour": null,
       "elapsed": 0.006022214889526367,
       "initial": 0,
       "n": 0,
       "ncols": null,
       "nrows": 24,
       "postfix": null,
       "prefix": "",
       "rate": null,
       "total": 100,
       "unit": "it",
       "unit_divisor": 1000,
       "unit_scale": false
      },
      "application/vnd.jupyter.widget-view+json": {
       "model_id": "c192d4a379a043a8b6e85b7773098c66",
       "version_major": 2,
       "version_minor": 0
      },
      "text/plain": [
       "  0%|          | 0/100 [00:00<?, ?it/s]"
      ]
     },
     "metadata": {},
     "output_type": "display_data"
    },
    {
     "ename": "KeyboardInterrupt",
     "evalue": "",
     "output_type": "error",
     "traceback": [
      "\u001b[0;31m---------------------------------------------------------------------------\u001b[0m",
      "\u001b[0;31mKeyboardInterrupt\u001b[0m                         Traceback (most recent call last)",
      "Input \u001b[0;32mIn [15]\u001b[0m, in \u001b[0;36m<cell line: 2>\u001b[0;34m()\u001b[0m\n\u001b[1;32m     15\u001b[0m     kd3 \u001b[38;5;241m=\u001b[39m kernel_dict[\u001b[38;5;124m'\u001b[39m\u001b[38;5;124md3\u001b[39m\u001b[38;5;124m'\u001b[39m]   \n\u001b[1;32m     16\u001b[0m     kd4 \u001b[38;5;241m=\u001b[39m kernel_dict[\u001b[38;5;124m'\u001b[39m\u001b[38;5;124md4\u001b[39m\u001b[38;5;124m'\u001b[39m]\n\u001b[0;32m---> 17\u001b[0m     _, _, _, reject \u001b[38;5;241m=\u001b[39m \u001b[43mtest_independence\u001b[49m\u001b[43m(\u001b[49m\u001b[43m[\u001b[49m\u001b[43mkd1\u001b[49m\u001b[43m,\u001b[49m\u001b[43m \u001b[49m\u001b[43mkd2\u001b[49m\u001b[43m,\u001b[49m\u001b[43m \u001b[49m\u001b[43mkd3\u001b[49m\u001b[43m,\u001b[49m\u001b[43m \u001b[49m\u001b[43mkd4\u001b[49m\u001b[43m]\u001b[49m\u001b[43m,\u001b[49m\u001b[43m[\u001b[49m\u001b[43md1\u001b[49m\u001b[43m,\u001b[49m\u001b[43m \u001b[49m\u001b[43md2\u001b[49m\u001b[43m,\u001b[49m\u001b[43m \u001b[49m\u001b[43md3\u001b[49m\u001b[43m,\u001b[49m\u001b[43m \u001b[49m\u001b[43md4\u001b[49m\u001b[43m]\u001b[49m\u001b[43m,\u001b[49m\u001b[43m \u001b[49m\n\u001b[1;32m     18\u001b[0m \u001b[43m                                        \u001b[49m\u001b[43mmode\u001b[49m\u001b[43m \u001b[49m\u001b[38;5;241;43m=\u001b[39;49m\u001b[43m \u001b[49m\u001b[38;5;124;43m'\u001b[39;49m\u001b[38;5;124;43mstat_ts\u001b[39;49m\u001b[38;5;124;43m'\u001b[39;49m\u001b[43m,\u001b[49m\u001b[43m \u001b[49m\u001b[43mn_perms\u001b[49m\u001b[38;5;241;43m=\u001b[39;49m\u001b[38;5;241;43m5000\u001b[39;49m\u001b[43m,\u001b[49m\u001b[43m \u001b[49m\u001b[43malpha\u001b[49m\u001b[38;5;241;43m=\u001b[39;49m\u001b[38;5;241;43m0.05\u001b[39;49m\u001b[43m)\u001b[49m      \n\u001b[1;32m     19\u001b[0m     rejects \u001b[38;5;241m=\u001b[39m rejects \u001b[38;5;241m+\u001b[39m reject\n\u001b[1;32m     20\u001b[0m power[\u001b[38;5;28mstr\u001b[39m(d)] \u001b[38;5;241m=\u001b[39m rejects\u001b[38;5;241m/\u001b[39m\u001b[38;5;241m100\u001b[39m\n",
      "File \u001b[0;32m/Users/Tim/PycharmProjects/HOI/HOI/tests.py:172\u001b[0m, in \u001b[0;36mtest_independence\u001b[0;34m(k_list, data_list, mode, n_perms, alpha)\u001b[0m\n\u001b[1;32m    170\u001b[0m \u001b[38;5;28;01mif\u001b[39;00m mode \u001b[38;5;241m==\u001b[39m \u001b[38;5;124m'\u001b[39m\u001b[38;5;124mstat_ts\u001b[39m\u001b[38;5;124m'\u001b[39m:\n\u001b[1;32m    171\u001b[0m     statistic \u001b[38;5;241m=\u001b[39m compute_dHSIC_statistics(k_list)\n\u001b[0;32m--> 172\u001b[0m     critical_value, pval \u001b[38;5;241m=\u001b[39m \u001b[43mshifting\u001b[49m\u001b[43m(\u001b[49m\u001b[43mdata_list\u001b[49m\u001b[43m,\u001b[49m\u001b[43m \u001b[49m\u001b[43mk_list\u001b[49m\u001b[43m,\u001b[49m\u001b[43m \u001b[49m\u001b[43mn_samples\u001b[49m\u001b[43m,\u001b[49m\u001b[43m \u001b[49m\u001b[43mn_variables\u001b[49m\u001b[43m,\u001b[49m\u001b[43m \u001b[49m\u001b[43mstatistic\u001b[49m\u001b[43m,\u001b[49m\u001b[43m \u001b[49m\u001b[43mn_perms\u001b[49m\u001b[43m,\u001b[49m\u001b[43m \u001b[49m\u001b[43malpha\u001b[49m\u001b[43m)\u001b[49m\n\u001b[1;32m    173\u001b[0m     reject \u001b[38;5;241m=\u001b[39m \u001b[38;5;28mint\u001b[39m(statistic \u001b[38;5;241m>\u001b[39m critical_value)\n\u001b[1;32m    174\u001b[0m     \u001b[38;5;28;01mreturn\u001b[39;00m statistic, critical_value, pval, reject\n",
      "File \u001b[0;32m/Users/Tim/PycharmProjects/HOI/HOI/tests.py:67\u001b[0m, in \u001b[0;36mshifting\u001b[0;34m(data_list, k_list, n_samples, n_variables, stat_found, n_perms, alpha)\u001b[0m\n\u001b[1;32m     64\u001b[0m cut \u001b[38;5;241m=\u001b[39m np\u001b[38;5;241m.\u001b[39mrandom\u001b[38;5;241m.\u001b[39mrandint(low\u001b[38;5;241m=\u001b[39mhead, high\u001b[38;5;241m=\u001b[39mtail)\n\u001b[1;32m     65\u001b[0m \u001b[38;5;66;03m# get permutations after shift\u001b[39;00m\n\u001b[1;32m     66\u001b[0m \u001b[38;5;66;03m# index_perm = np.array([cut:tail, 1:cut-1])\u001b[39;00m\n\u001b[0;32m---> 67\u001b[0m index_perm \u001b[38;5;241m=\u001b[39m \u001b[43mnp\u001b[49m\u001b[38;5;241;43m.\u001b[39;49m\u001b[43mroll\u001b[49m\u001b[43m(\u001b[49m\u001b[43mindex\u001b[49m\u001b[43m,\u001b[49m\u001b[43m \u001b[49m\u001b[43mcut\u001b[49m\u001b[43m)\u001b[49m\n\u001b[1;32m     68\u001b[0m \u001b[38;5;66;03m# shift the matrix corresponds to that of the time series\u001b[39;00m\n\u001b[1;32m     69\u001b[0m k_perm \u001b[38;5;241m=\u001b[39m k_list[j][index_perm, index_perm[:, \u001b[38;5;28;01mNone\u001b[39;00m]]\n",
      "File \u001b[0;32m<__array_function__ internals>:5\u001b[0m, in \u001b[0;36mroll\u001b[0;34m(*args, **kwargs)\u001b[0m\n",
      "File \u001b[0;32m~/.conda/envs/HOI/lib/python3.10/site-packages/numpy/core/numeric.py:1211\u001b[0m, in \u001b[0;36mroll\u001b[0;34m(a, shift, axis)\u001b[0m\n\u001b[1;32m   1140\u001b[0m \u001b[38;5;129m@array_function_dispatch\u001b[39m(_roll_dispatcher)\n\u001b[1;32m   1141\u001b[0m \u001b[38;5;28;01mdef\u001b[39;00m \u001b[38;5;21mroll\u001b[39m(a, shift, axis\u001b[38;5;241m=\u001b[39m\u001b[38;5;28;01mNone\u001b[39;00m):\n\u001b[1;32m   1142\u001b[0m     \u001b[38;5;124;03m\"\"\"\u001b[39;00m\n\u001b[1;32m   1143\u001b[0m \u001b[38;5;124;03m    Roll array elements along a given axis.\u001b[39;00m\n\u001b[1;32m   1144\u001b[0m \n\u001b[0;32m   (...)\u001b[0m\n\u001b[1;32m   1209\u001b[0m \n\u001b[1;32m   1210\u001b[0m \u001b[38;5;124;03m    \"\"\"\u001b[39;00m\n\u001b[0;32m-> 1211\u001b[0m     a \u001b[38;5;241m=\u001b[39m \u001b[43masanyarray\u001b[49m\u001b[43m(\u001b[49m\u001b[43ma\u001b[49m\u001b[43m)\u001b[49m\n\u001b[1;32m   1212\u001b[0m     \u001b[38;5;28;01mif\u001b[39;00m axis \u001b[38;5;129;01mis\u001b[39;00m \u001b[38;5;28;01mNone\u001b[39;00m:\n\u001b[1;32m   1213\u001b[0m         \u001b[38;5;28;01mreturn\u001b[39;00m roll(a\u001b[38;5;241m.\u001b[39mravel(), shift, \u001b[38;5;241m0\u001b[39m)\u001b[38;5;241m.\u001b[39mreshape(a\u001b[38;5;241m.\u001b[39mshape)\n",
      "\u001b[0;31mKeyboardInterrupt\u001b[0m: "
     ]
    }
   ],
   "source": [
    "power ={}\n",
    "for d in tqdm(np.arange(0.1, 1, 0.1)):\n",
    "    rejects = 0\n",
    "    for i in tqdm(np.arange(100)):\n",
    "        df = stationary_pb_ts(t_time = 300, d = d, mode = \"case2\", a=0.5, order=4)\n",
    "        data_dict, kernel_dict = compute_kernel(df)\n",
    "    \n",
    "        d1 = data_dict['d1']\n",
    "        d2 = data_dict['d2']\n",
    "        d3 = data_dict['d3']\n",
    "        d4 = data_dict['d4']\n",
    "\n",
    "        kd1 = kernel_dict['d1']\n",
    "        kd2 = kernel_dict['d2']\n",
    "        kd3 = kernel_dict['d3']   \n",
    "        kd4 = kernel_dict['d4']\n",
    "        _, _, _, reject = test_independence([kd1, kd2, kd3, kd4],[d1, d2, d3, d4], \n",
    "                                            mode = 'stat_ts', n_perms=5000, alpha=0.05)      \n",
    "        rejects = rejects + reject\n",
    "    power[str(d)] = rejects/100\n",
    "    print(power)\n",
    "print(power)"
   ]
  },
  {
   "cell_type": "code",
   "execution_count": null,
   "id": "fcfa8ef7",
   "metadata": {},
   "outputs": [],
   "source": []
  },
  {
   "cell_type": "code",
   "execution_count": null,
   "id": "6d08e47f",
   "metadata": {},
   "outputs": [],
   "source": []
  },
  {
   "cell_type": "code",
   "execution_count": 29,
   "id": "25ae57c8-547b-48da-8977-15985753a96c",
   "metadata": {},
   "outputs": [
    {
     "name": "stdout",
     "output_type": "stream",
     "text": [
      "1 0 1 1\n",
      "1 0 0 0\n",
      "1 0 1 1\n",
      "1 0 1 1\n",
      "1 0 0 1\n",
      "1 0 1 1\n",
      "1 0 1 1\n",
      "1 1 1 0\n",
      "1 1 0 1\n",
      "1 0 0 1\n",
      "1 0 1 1\n",
      "1 0 1 1\n",
      "1 1 1 0\n",
      "1 0 1 1\n",
      "1 0 0 1\n",
      "1 0 1 0\n",
      "1 0 1 1\n",
      "1 1 1 1\n",
      "1 1 1 1\n",
      "1 0 1 0\n",
      "1 0 1 0\n",
      "1 0 1 0\n",
      "1 0 1 1\n",
      "1 0 1 1\n",
      "1 0 1 1\n",
      "1 0 1 0\n",
      "1 0 0 1\n",
      "1 0 1 0\n",
      "1 0 1 1\n",
      "1 0 1 1\n"
     ]
    }
   ],
   "source": [
    "for n in range(30):\n",
    "    df = stationary_pb_ts(t_time = 300, d = 0.8, mode = \"case2\", a=0.5, order=4)\n",
    "    data_dict, kernel_dict = compute_kernel(df)\n",
    "    \n",
    "    d1 = data_dict['d1']\n",
    "    d2 = data_dict['d2']\n",
    "    d3 = data_dict['d3']\n",
    "    d4 = data_dict['d4']\n",
    "    \n",
    "    kd1 = kernel_dict['d1']\n",
    "    kd2 = kernel_dict['d2']\n",
    "    kd3 = kernel_dict['d3']   \n",
    "    kd4 = kernel_dict['d4']\n",
    "    \n",
    "    _, _, reject = test_independence([kd1, kd2, kd3, kd4],[d1, d2, d3, d4],\n",
    "                                              mode = 'stat_ts', n_perms=None, alpha=0.05)\n",
    "\n",
    "    _, _, reject1 = test_independence([kd1, kd2], [d1, d2],\n",
    "                                          mode = 'stat_ts', n_perms=None, alpha=0.05)\n",
    "\n",
    "    _, _, reject2 = test_independence([kd1, kd4],[d1, d4],\n",
    "                                      mode = 'stat_ts', n_perms=None, alpha=0.05)\n",
    "\n",
    "    _, _, reject3 = test_independence([kd2, kd4],[d2, d4],\n",
    "                                      mode = 'stat_ts', n_perms=None, alpha=0.05)\n",
    "    print(reject, reject1, reject2, reject3)"
   ]
  },
  {
   "cell_type": "markdown",
   "id": "4387fd52-8518-4af5-8b19-a30856baca64",
   "metadata": {},
   "source": [
    "# case3"
   ]
  },
  {
   "cell_type": "code",
   "execution_count": 14,
   "id": "e69aeb9d-9474-4041-87fa-53e323296738",
   "metadata": {},
   "outputs": [
    {
     "data": {
      "application/json": {
       "ascii": false,
       "bar_format": null,
       "colour": null,
       "elapsed": 0.010023832321166992,
       "initial": 0,
       "n": 0,
       "ncols": null,
       "nrows": 24,
       "postfix": null,
       "prefix": "",
       "rate": null,
       "total": 2,
       "unit": "it",
       "unit_divisor": 1000,
       "unit_scale": false
      },
      "application/vnd.jupyter.widget-view+json": {
       "model_id": "7df3d52327f540ee93ce5c23a56655a2",
       "version_major": 2,
       "version_minor": 0
      },
      "text/plain": [
       "  0%|          | 0/2 [00:00<?, ?it/s]"
      ]
     },
     "metadata": {},
     "output_type": "display_data"
    },
    {
     "data": {
      "application/json": {
       "ascii": false,
       "bar_format": null,
       "colour": null,
       "elapsed": 0.010501861572265625,
       "initial": 0,
       "n": 0,
       "ncols": null,
       "nrows": 24,
       "postfix": null,
       "prefix": "",
       "rate": null,
       "total": 100,
       "unit": "it",
       "unit_divisor": 1000,
       "unit_scale": false
      },
      "application/vnd.jupyter.widget-view+json": {
       "model_id": "7dac49e5ac8240d38c330842968fccef",
       "version_major": 2,
       "version_minor": 0
      },
      "text/plain": [
       "  0%|          | 0/100 [00:00<?, ?it/s]"
      ]
     },
     "metadata": {},
     "output_type": "display_data"
    },
    {
     "name": "stdout",
     "output_type": "stream",
     "text": [
      "{'0.8': 0.06}\n"
     ]
    },
    {
     "data": {
      "application/json": {
       "ascii": false,
       "bar_format": null,
       "colour": null,
       "elapsed": 0.006111860275268555,
       "initial": 0,
       "n": 0,
       "ncols": null,
       "nrows": 24,
       "postfix": null,
       "prefix": "",
       "rate": null,
       "total": 100,
       "unit": "it",
       "unit_divisor": 1000,
       "unit_scale": false
      },
      "application/vnd.jupyter.widget-view+json": {
       "model_id": "e3962521ae584d34b51e23b5ac3f28bc",
       "version_major": 2,
       "version_minor": 0
      },
      "text/plain": [
       "  0%|          | 0/100 [00:00<?, ?it/s]"
      ]
     },
     "metadata": {},
     "output_type": "display_data"
    },
    {
     "ename": "KeyboardInterrupt",
     "evalue": "",
     "output_type": "error",
     "traceback": [
      "\u001b[0;31m---------------------------------------------------------------------------\u001b[0m",
      "\u001b[0;31mKeyboardInterrupt\u001b[0m                         Traceback (most recent call last)",
      "Input \u001b[0;32mIn [14]\u001b[0m, in \u001b[0;36m<cell line: 2>\u001b[0;34m()\u001b[0m\n\u001b[1;32m     15\u001b[0m     kd3 \u001b[38;5;241m=\u001b[39m kernel_dict[\u001b[38;5;124m'\u001b[39m\u001b[38;5;124md3\u001b[39m\u001b[38;5;124m'\u001b[39m]   \n\u001b[1;32m     16\u001b[0m     kd4 \u001b[38;5;241m=\u001b[39m kernel_dict[\u001b[38;5;124m'\u001b[39m\u001b[38;5;124md4\u001b[39m\u001b[38;5;124m'\u001b[39m]\n\u001b[0;32m---> 17\u001b[0m     _, _, _, reject \u001b[38;5;241m=\u001b[39m \u001b[43mtest_independence\u001b[49m\u001b[43m(\u001b[49m\u001b[43m[\u001b[49m\u001b[43mkd1\u001b[49m\u001b[43m,\u001b[49m\u001b[43m \u001b[49m\u001b[43mkd2\u001b[49m\u001b[43m,\u001b[49m\u001b[43m \u001b[49m\u001b[43mkd3\u001b[49m\u001b[43m,\u001b[49m\u001b[43m \u001b[49m\u001b[43mkd4\u001b[49m\u001b[43m]\u001b[49m\u001b[43m,\u001b[49m\u001b[43m[\u001b[49m\u001b[43md1\u001b[49m\u001b[43m,\u001b[49m\u001b[43m \u001b[49m\u001b[43md2\u001b[49m\u001b[43m,\u001b[49m\u001b[43m \u001b[49m\u001b[43md3\u001b[49m\u001b[43m,\u001b[49m\u001b[43m \u001b[49m\u001b[43md4\u001b[49m\u001b[43m]\u001b[49m\u001b[43m,\u001b[49m\u001b[43m \u001b[49m\n\u001b[1;32m     18\u001b[0m \u001b[43m                                        \u001b[49m\u001b[43mmode\u001b[49m\u001b[43m \u001b[49m\u001b[38;5;241;43m=\u001b[39;49m\u001b[43m \u001b[49m\u001b[38;5;124;43m'\u001b[39;49m\u001b[38;5;124;43mstat_ts\u001b[39;49m\u001b[38;5;124;43m'\u001b[39;49m\u001b[43m,\u001b[49m\u001b[43m \u001b[49m\u001b[43mn_perms\u001b[49m\u001b[38;5;241;43m=\u001b[39;49m\u001b[38;5;241;43m5000\u001b[39;49m\u001b[43m,\u001b[49m\u001b[43m \u001b[49m\u001b[43malpha\u001b[49m\u001b[38;5;241;43m=\u001b[39;49m\u001b[38;5;241;43m0.05\u001b[39;49m\u001b[43m)\u001b[49m      \n\u001b[1;32m     19\u001b[0m     rejects \u001b[38;5;241m=\u001b[39m rejects \u001b[38;5;241m+\u001b[39m reject\n\u001b[1;32m     20\u001b[0m power[\u001b[38;5;28mstr\u001b[39m(d)] \u001b[38;5;241m=\u001b[39m rejects\u001b[38;5;241m/\u001b[39m\u001b[38;5;241m100\u001b[39m\n",
      "File \u001b[0;32m/Users/Tim/PycharmProjects/HOI/HOI/tests.py:172\u001b[0m, in \u001b[0;36mtest_independence\u001b[0;34m(k_list, data_list, mode, n_perms, alpha)\u001b[0m\n\u001b[1;32m    170\u001b[0m \u001b[38;5;28;01mif\u001b[39;00m mode \u001b[38;5;241m==\u001b[39m \u001b[38;5;124m'\u001b[39m\u001b[38;5;124mstat_ts\u001b[39m\u001b[38;5;124m'\u001b[39m:\n\u001b[1;32m    171\u001b[0m     statistic \u001b[38;5;241m=\u001b[39m compute_dHSIC_statistics(k_list)\n\u001b[0;32m--> 172\u001b[0m     critical_value, pval \u001b[38;5;241m=\u001b[39m \u001b[43mshifting\u001b[49m\u001b[43m(\u001b[49m\u001b[43mdata_list\u001b[49m\u001b[43m,\u001b[49m\u001b[43m \u001b[49m\u001b[43mk_list\u001b[49m\u001b[43m,\u001b[49m\u001b[43m \u001b[49m\u001b[43mn_samples\u001b[49m\u001b[43m,\u001b[49m\u001b[43m \u001b[49m\u001b[43mn_variables\u001b[49m\u001b[43m,\u001b[49m\u001b[43m \u001b[49m\u001b[43mstatistic\u001b[49m\u001b[43m,\u001b[49m\u001b[43m \u001b[49m\u001b[43mn_perms\u001b[49m\u001b[43m,\u001b[49m\u001b[43m \u001b[49m\u001b[43malpha\u001b[49m\u001b[43m)\u001b[49m\n\u001b[1;32m    173\u001b[0m     reject \u001b[38;5;241m=\u001b[39m \u001b[38;5;28mint\u001b[39m(statistic \u001b[38;5;241m>\u001b[39m critical_value)\n\u001b[1;32m    174\u001b[0m     \u001b[38;5;28;01mreturn\u001b[39;00m statistic, critical_value, pval, reject\n",
      "File \u001b[0;32m/Users/Tim/PycharmProjects/HOI/HOI/tests.py:72\u001b[0m, in \u001b[0;36mshifting\u001b[0;34m(data_list, k_list, n_samples, n_variables, stat_found, n_perms, alpha)\u001b[0m\n\u001b[1;32m     69\u001b[0m     k_perm \u001b[38;5;241m=\u001b[39m k_list[j][index_perm, index_perm[:, \u001b[38;5;28;01mNone\u001b[39;00m]]\n\u001b[1;32m     71\u001b[0m     term1 \u001b[38;5;241m=\u001b[39m term1 \u001b[38;5;241m*\u001b[39m k_perm\n\u001b[0;32m---> 72\u001b[0m     term2 \u001b[38;5;241m=\u001b[39m term2 \u001b[38;5;241m*\u001b[39m \u001b[43mnp\u001b[49m\u001b[38;5;241;43m.\u001b[39;49m\u001b[43msum\u001b[49m\u001b[43m(\u001b[49m\u001b[43mk_perm\u001b[49m\u001b[43m)\u001b[49m \u001b[38;5;241m/\u001b[39m (n_samples \u001b[38;5;241m*\u001b[39m\u001b[38;5;241m*\u001b[39m \u001b[38;5;241m2\u001b[39m)\n\u001b[1;32m     73\u001b[0m     term3 \u001b[38;5;241m=\u001b[39m term3 \u001b[38;5;241m*\u001b[39m np\u001b[38;5;241m.\u001b[39msum(k_perm, axis\u001b[38;5;241m=\u001b[39m\u001b[38;5;241m0\u001b[39m) \u001b[38;5;241m/\u001b[39m n_samples\n\u001b[1;32m     75\u001b[0m term1_sum \u001b[38;5;241m=\u001b[39m np\u001b[38;5;241m.\u001b[39msum(term1)\n",
      "File \u001b[0;32m<__array_function__ internals>:2\u001b[0m, in \u001b[0;36msum\u001b[0;34m(*args, **kwargs)\u001b[0m\n",
      "\u001b[0;31mKeyboardInterrupt\u001b[0m: "
     ]
    }
   ],
   "source": [
    "power ={}\n",
    "for d in tqdm(np.arange(0.8, 0.7, -0.1)):\n",
    "    rejects = 0\n",
    "    for i in tqdm(np.arange(100)):\n",
    "        df = stationary_pb_ts(t_time = 300, d = 0.5, mode = \"case3\", a=d, order=4)\n",
    "        data_dict, kernel_dict = compute_kernel(df)\n",
    "    \n",
    "        d1 = data_dict['d1']\n",
    "        d2 = data_dict['d2']\n",
    "        d3 = data_dict['d3']\n",
    "        d4 = data_dict['d4']\n",
    "\n",
    "        kd1 = kernel_dict['d1']\n",
    "        kd2 = kernel_dict['d2']\n",
    "        kd3 = kernel_dict['d3']   \n",
    "        kd4 = kernel_dict['d4']\n",
    "        _, _, _, reject = test_independence([kd1, kd2, kd3, kd4],[d1, d2, d3, d4], \n",
    "                                            mode = 'stat_ts', n_perms=5000, alpha=0.05)      \n",
    "        rejects = rejects + reject\n",
    "    power[str(d)] = rejects/100\n",
    "    print(power)\n",
    "print(power)"
   ]
  },
  {
   "cell_type": "code",
   "execution_count": null,
   "id": "3361c8d7-2ed7-4308-b82f-a0bec73c8db4",
   "metadata": {},
   "outputs": [],
   "source": []
  },
  {
   "cell_type": "code",
   "execution_count": null,
   "id": "2b39fbe0-31a6-4bf3-a6a9-2a209edee349",
   "metadata": {},
   "outputs": [],
   "source": []
  },
  {
   "cell_type": "code",
   "execution_count": null,
   "id": "703985e8-e73d-4257-ad00-49b01ccd63c1",
   "metadata": {},
   "outputs": [],
   "source": []
  }
 ],
 "metadata": {
  "kernelspec": {
   "display_name": "Python 3 (ipykernel)",
   "language": "python",
   "name": "python3"
  },
  "language_info": {
   "codemirror_mode": {
    "name": "ipython",
    "version": 3
   },
   "file_extension": ".py",
   "mimetype": "text/x-python",
   "name": "python",
   "nbconvert_exporter": "python",
   "pygments_lexer": "ipython3",
   "version": "3.9.12"
  }
 },
 "nbformat": 4,
 "nbformat_minor": 5
}

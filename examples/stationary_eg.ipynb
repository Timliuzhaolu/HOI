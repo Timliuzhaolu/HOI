{
 "cells": [
  {
   "cell_type": "code",
   "execution_count": 1,
   "id": "9c46e201-a5e6-4110-9ee8-53b9c16cc9d2",
   "metadata": {
    "tags": []
   },
   "outputs": [],
   "source": [
    "import sys\n",
    "sys.path.append('/Users/Tim/PycharmProjects/HOI/')"
   ]
  },
  {
   "cell_type": "code",
   "execution_count": 2,
   "id": "580fd7da-306a-4f72-a041-6ceff49f457b",
   "metadata": {},
   "outputs": [
    {
     "data": {
      "text/plain": [
       "['/Users/tim/PycharmProjects/HOI/examples',\n",
       " '/Users/tim/opt/anaconda3/envs/hoi/lib/python310.zip',\n",
       " '/Users/tim/opt/anaconda3/envs/hoi/lib/python3.10',\n",
       " '/Users/tim/opt/anaconda3/envs/hoi/lib/python3.10/lib-dynload',\n",
       " '',\n",
       " '/Users/tim/opt/anaconda3/envs/hoi/lib/python3.10/site-packages',\n",
       " '/Users/Tim/PycharmProjects/HOI/']"
      ]
     },
     "execution_count": 2,
     "metadata": {},
     "output_type": "execute_result"
    }
   ],
   "source": [
    "import sys\n",
    "sys.path"
   ]
  },
  {
   "cell_type": "code",
   "execution_count": 3,
   "id": "c277e50b-6a38-4a2e-a765-f4a4a883f384",
   "metadata": {},
   "outputs": [],
   "source": [
    "import pandas as pd\n",
    "import numpy as np\n",
    "from tqdm import tqdm"
   ]
  },
  {
   "cell_type": "code",
   "execution_count": 4,
   "id": "99800d92-a22c-4f79-a5dc-7a9e8dee0b7b",
   "metadata": {},
   "outputs": [],
   "source": [
    "from synthetic_data import stationary_pb_ts\n",
    "from HOI.preprocessings import compute_kernel\n",
    "from HOI.tests import test_independence, estimate_tail_head, shifting_kernel, permutation_stationary_ts\n",
    "from HOI.statistics import compute_dHSIC_statistics"
   ]
  },
  {
   "cell_type": "code",
   "execution_count": 5,
   "id": "e42813f6-caea-4753-8166-6bddceccef37",
   "metadata": {},
   "outputs": [],
   "source": [
    "import statsmodels.api as sm"
   ]
  },
  {
   "cell_type": "code",
   "execution_count": 29,
   "id": "cb8778e5-b096-4b25-a9a3-3a8486c2c93e",
   "metadata": {},
   "outputs": [],
   "source": [
    "df = stationary_pb_ts(n_sample = 300, seed = 11, d = 0.5, mode = \"case1\", a=0.5)"
   ]
  },
  {
   "cell_type": "code",
   "execution_count": 30,
   "id": "f259aef7-74f6-41e3-baef-17548c1bcf5c",
   "metadata": {},
   "outputs": [
    {
     "data": {
      "text/html": [
       "<div>\n",
       "<style scoped>\n",
       "    .dataframe tbody tr th:only-of-type {\n",
       "        vertical-align: middle;\n",
       "    }\n",
       "\n",
       "    .dataframe tbody tr th {\n",
       "        vertical-align: top;\n",
       "    }\n",
       "\n",
       "    .dataframe thead th {\n",
       "        text-align: right;\n",
       "    }\n",
       "</style>\n",
       "<table border=\"1\" class=\"dataframe\">\n",
       "  <thead>\n",
       "    <tr style=\"text-align: right;\">\n",
       "      <th></th>\n",
       "      <th>d1</th>\n",
       "      <th>d2</th>\n",
       "      <th>d3</th>\n",
       "    </tr>\n",
       "  </thead>\n",
       "  <tbody>\n",
       "    <tr>\n",
       "      <th>0</th>\n",
       "      <td>1.749455</td>\n",
       "      <td>-0.286073</td>\n",
       "      <td>-0.484565</td>\n",
       "    </tr>\n",
       "    <tr>\n",
       "      <th>1</th>\n",
       "      <td>-1.778591</td>\n",
       "      <td>-0.151321</td>\n",
       "      <td>-0.619096</td>\n",
       "    </tr>\n",
       "    <tr>\n",
       "      <th>2</th>\n",
       "      <td>-0.573893</td>\n",
       "      <td>0.345390</td>\n",
       "      <td>-1.728589</td>\n",
       "    </tr>\n",
       "    <tr>\n",
       "      <th>3</th>\n",
       "      <td>-0.762680</td>\n",
       "      <td>0.862377</td>\n",
       "      <td>-2.450439</td>\n",
       "    </tr>\n",
       "    <tr>\n",
       "      <th>4</th>\n",
       "      <td>-1.500815</td>\n",
       "      <td>1.168026</td>\n",
       "      <td>-2.043612</td>\n",
       "    </tr>\n",
       "    <tr>\n",
       "      <th>...</th>\n",
       "      <td>...</td>\n",
       "      <td>...</td>\n",
       "      <td>...</td>\n",
       "    </tr>\n",
       "    <tr>\n",
       "      <th>295</th>\n",
       "      <td>0.715899</td>\n",
       "      <td>0.676237</td>\n",
       "      <td>1.623845</td>\n",
       "    </tr>\n",
       "    <tr>\n",
       "      <th>296</th>\n",
       "      <td>0.733380</td>\n",
       "      <td>0.567582</td>\n",
       "      <td>0.646624</td>\n",
       "    </tr>\n",
       "    <tr>\n",
       "      <th>297</th>\n",
       "      <td>-2.280090</td>\n",
       "      <td>-0.053891</td>\n",
       "      <td>1.082430</td>\n",
       "    </tr>\n",
       "    <tr>\n",
       "      <th>298</th>\n",
       "      <td>-1.936439</td>\n",
       "      <td>-2.526821</td>\n",
       "      <td>0.738789</td>\n",
       "    </tr>\n",
       "    <tr>\n",
       "      <th>299</th>\n",
       "      <td>0.208919</td>\n",
       "      <td>-3.016251</td>\n",
       "      <td>0.799354</td>\n",
       "    </tr>\n",
       "  </tbody>\n",
       "</table>\n",
       "<p>300 rows × 3 columns</p>\n",
       "</div>"
      ],
      "text/plain": [
       "           d1        d2        d3\n",
       "0    1.749455 -0.286073 -0.484565\n",
       "1   -1.778591 -0.151321 -0.619096\n",
       "2   -0.573893  0.345390 -1.728589\n",
       "3   -0.762680  0.862377 -2.450439\n",
       "4   -1.500815  1.168026 -2.043612\n",
       "..        ...       ...       ...\n",
       "295  0.715899  0.676237  1.623845\n",
       "296  0.733380  0.567582  0.646624\n",
       "297 -2.280090 -0.053891  1.082430\n",
       "298 -1.936439 -2.526821  0.738789\n",
       "299  0.208919 -3.016251  0.799354\n",
       "\n",
       "[300 rows x 3 columns]"
      ]
     },
     "execution_count": 30,
     "metadata": {},
     "output_type": "execute_result"
    }
   ],
   "source": [
    "df"
   ]
  },
  {
   "cell_type": "code",
   "execution_count": 31,
   "id": "a5a49e9b-559d-4aa0-b869-1d45919fea7e",
   "metadata": {},
   "outputs": [],
   "source": [
    "data_dict, kernel_dict = compute_kernel(df)"
   ]
  },
  {
   "cell_type": "code",
   "execution_count": 32,
   "id": "840540f6-00f2-41d9-8dd6-a2881bf9aab9",
   "metadata": {},
   "outputs": [],
   "source": [
    "data_list = [data_dict['d1'], data_dict['d2'], data_dict['d3']]"
   ]
  },
  {
   "cell_type": "code",
   "execution_count": 33,
   "id": "4fd48ee4-0181-403d-8f39-271f16391509",
   "metadata": {},
   "outputs": [],
   "source": [
    "k_list = [kernel_dict['d1'], kernel_dict['d2'], kernel_dict['d3']]"
   ]
  },
  {
   "cell_type": "code",
   "execution_count": 34,
   "id": "4d77e8d7-597f-48d4-951b-3645fd41d8d5",
   "metadata": {
    "tags": []
   },
   "outputs": [],
   "source": [
    "statistic = compute_dHSIC_statistics(k_list)\n",
    "critical_value = permutation_stationary_ts(data_list, k_list, alpha=0.05)"
   ]
  },
  {
   "cell_type": "code",
   "execution_count": 35,
   "id": "dc48b0ce-2f16-4fab-8e51-fe36a2b84898",
   "metadata": {},
   "outputs": [
    {
     "data": {
      "text/plain": [
       "(0.0026235365848013004, 0.0017333242528891895, 1)"
      ]
     },
     "execution_count": 35,
     "metadata": {},
     "output_type": "execute_result"
    }
   ],
   "source": [
    "test_independence(k_list=k_list, data_list=data_list, mode='stat_ts', n_perms=1000, alpha=0.05)"
   ]
  },
  {
   "cell_type": "code",
   "execution_count": 36,
   "id": "31228a03-b13b-456b-838c-a98749e92d67",
   "metadata": {},
   "outputs": [
    {
     "data": {
      "text/plain": [
       "(0.0009016972028506043, 0.0020964309276277015, 0)"
      ]
     },
     "execution_count": 36,
     "metadata": {},
     "output_type": "execute_result"
    }
   ],
   "source": [
    "test_independence(k_list=[kernel_dict['d1'], kernel_dict['d2']], \n",
    "                  data_list=[data_dict['d1'], data_dict['d2']], \n",
    "                  mode='stat_ts', n_perms=1000, alpha=0.05)"
   ]
  },
  {
   "cell_type": "code",
   "execution_count": 37,
   "id": "13506510-69e2-496c-97d1-eeb9cbe1c164",
   "metadata": {},
   "outputs": [
    {
     "data": {
      "text/plain": [
       "(0.0006952669977832171, 0.001652320236389282, 0)"
      ]
     },
     "execution_count": 37,
     "metadata": {},
     "output_type": "execute_result"
    }
   ],
   "source": [
    "test_independence(k_list=[kernel_dict['d1'], kernel_dict['d3']], \n",
    "                  data_list=[data_dict['d1'], data_dict['d3']], \n",
    "                  mode='stat_ts', n_perms=1000, alpha=0.05)"
   ]
  },
  {
   "cell_type": "code",
   "execution_count": 38,
   "id": "7cac0945-b86d-4f19-8759-26addf512c9b",
   "metadata": {},
   "outputs": [
    {
     "data": {
      "text/plain": [
       "(0.0003036424696591933, 0.001733001524319322, 0)"
      ]
     },
     "execution_count": 38,
     "metadata": {},
     "output_type": "execute_result"
    }
   ],
   "source": [
    "test_independence(k_list=[kernel_dict['d2'], kernel_dict['d3']], \n",
    "                  data_list=[data_dict['d2'], data_dict['d3']], \n",
    "                  mode='stat_ts', n_perms=1000, alpha=0.05)"
   ]
  },
  {
   "cell_type": "code",
   "execution_count": null,
   "id": "f410048e-07be-448c-b180-a6bf5b19c3ee",
   "metadata": {},
   "outputs": [],
   "source": []
  },
  {
   "cell_type": "code",
   "execution_count": null,
   "id": "4fc9152c-e938-4eb7-ace6-507d4a06ac59",
   "metadata": {},
   "outputs": [],
   "source": []
  },
  {
   "cell_type": "code",
   "execution_count": null,
   "id": "782da86e-31ad-4338-a15d-927dfec70bbd",
   "metadata": {},
   "outputs": [],
   "source": []
  },
  {
   "cell_type": "code",
   "execution_count": null,
   "id": "6c8a077c-56f8-40c7-84fe-32cd1a0c62bf",
   "metadata": {},
   "outputs": [],
   "source": []
  },
  {
   "cell_type": "code",
   "execution_count": null,
   "id": "ce8e926c-7590-4019-b30f-2fc1aa1dfe30",
   "metadata": {},
   "outputs": [],
   "source": [
    "def shifting_kernel(head, tail, k_list):\n",
    "    num_var = len(k_list)\n",
    "    shifted_kernel_lists = {}\n",
    "    for cut in range(head, tail):\n",
    "        ind = list(range(cut, tail)) + list(range(0, cut))\n",
    "        shifted_kernel_list = {}\n",
    "        for i in range(num_var):\n",
    "            shifted_kernel_list[str(i)] = k_list[i][:, ind]\n",
    "        shifted_kernel_lists[str(cut-head)] = shifted_kernel_list\n",
    "    return shifted_kernel_lists"
   ]
  },
  {
   "cell_type": "code",
   "execution_count": null,
   "id": "5c94fb35-0a43-41a7-9bcc-762f362a1f1d",
   "metadata": {},
   "outputs": [],
   "source": [
    "shifted_kernel_lists = shifting_kernel(head = 7, tail = 200, \n",
    "                                    k_list = [kernel_dict['d1'], kernel_dict['d2'], kernel_dict['d3']])"
   ]
  },
  {
   "cell_type": "code",
   "execution_count": null,
   "id": "f88ff6bc-97e2-41fb-a6cb-be5074566376",
   "metadata": {
    "tags": []
   },
   "outputs": [],
   "source": [
    "k_list = [kernel_dict['d1'], kernel_dict['d2'], kernel_dict['d3']]"
   ]
  },
  {
   "cell_type": "code",
   "execution_count": null,
   "id": "f5b4a9c3-a8c8-4b6f-813e-39458dfd2eef",
   "metadata": {},
   "outputs": [],
   "source": [
    "k_list[0].shape"
   ]
  },
  {
   "cell_type": "code",
   "execution_count": null,
   "id": "b1a31fcc-e084-44a6-8490-716a9e04ff2a",
   "metadata": {},
   "outputs": [],
   "source": [
    "def rand_ind(num_cut, num_var):\n",
    "    perms = []\n",
    "    perms.append(np.array(range(num_cut)))\n",
    "    for i in range(num_var-1):    \n",
    "        perm = np.random.permutation(num_cut)\n",
    "        perms.append(perm)\n",
    "    perms = np.transpose(perms)\n",
    "    return perms"
   ]
  },
  {
   "cell_type": "code",
   "execution_count": null,
   "id": "a0a2b7aa-b9ad-4429-a77a-ec52bd03cbe5",
   "metadata": {},
   "outputs": [],
   "source": [
    "def permutation_stationary_ts(data_list, k_list, alpha):\n",
    "    num_var = len(k_list)\n",
    "    tail, head = estimate_tail_head(data_list)\n",
    "    shifted_kernel_lists = shifting_kernel(head, tail, k_list)\n",
    "    num_cut = len(shifted_kernel_lists)\n",
    "    perms = rand_ind(num_cut, num_var)\n",
    "    \n",
    "    shifted_dHSICs = []\n",
    "    for ind in perms:\n",
    "        shifted_k_lists = [shifted_kernel_lists[str(ind[i])][str(i)] for i in range(num_var)]\n",
    "        shifted_dHSIC = compute_dHSIC_statistics(shifted_k_lists)\n",
    "        shifted_dHSICs.append(shifted_dHSIC)\n",
    "\n",
    "    critical_value = np.quantile(shifted_dHSICs, 1 - alpha)\n",
    "    return critical_value"
   ]
  },
  {
   "cell_type": "code",
   "execution_count": null,
   "id": "f0986984-5554-4525-be06-02e38a93b18d",
   "metadata": {},
   "outputs": [],
   "source": [
    "data_list = [data_dict['d1'], data_dict['d3'], data_dict['d3']]\n",
    "k_list = [kernel_dict['d1'], kernel_dict['d2'], kernel_dict['d3']]\n",
    "alpha = 0.05"
   ]
  },
  {
   "cell_type": "code",
   "execution_count": null,
   "id": "a334c093-e3e9-4ec5-bf12-b50d7064400c",
   "metadata": {},
   "outputs": [],
   "source": [
    "critical = permutation_stationary_ts(data_list, k_list, alpha)"
   ]
  },
  {
   "cell_type": "code",
   "execution_count": null,
   "id": "5b31a55b-427b-4b8f-941c-1b742e68c066",
   "metadata": {},
   "outputs": [],
   "source": [
    "critical"
   ]
  },
  {
   "cell_type": "code",
   "execution_count": null,
   "id": "7da615fa-7c2e-4d31-a34b-399283d6a11f",
   "metadata": {},
   "outputs": [],
   "source": [
    "num_var = len(k_list)\n",
    "tail, head = estimate_tail_head(data_list)\n",
    "shifted_kernel_lists = shift_kernel(head, tail, k_list)\n",
    "num_cut = len(shifted_kernel_lists)\n",
    "perms = rand_ind(num_cut, num_var)"
   ]
  },
  {
   "cell_type": "code",
   "execution_count": null,
   "id": "f27cf3fe-369b-4970-830d-56780de60365",
   "metadata": {},
   "outputs": [],
   "source": [
    "head, tail"
   ]
  },
  {
   "cell_type": "code",
   "execution_count": null,
   "id": "f6f475a9-0874-443d-aa66-505605c0d74c",
   "metadata": {},
   "outputs": [],
   "source": [
    "\n",
    "shifted_dHSICs = []\n",
    "for ind in perms:\n",
    "    shifted_k_lists = [shifted_kernel_lists[str(ind[i])][str(i)] for i in range(num_var)]\n",
    "    shifted_dHSIC = compute_dHSIC_statistics(shifted_k_lists)\n",
    "    shifted_dHSICs.append(shifted_dHSIC)"
   ]
  },
  {
   "cell_type": "code",
   "execution_count": null,
   "id": "4b02657a-acad-4b05-8050-497f0612e41b",
   "metadata": {},
   "outputs": [],
   "source": [
    "shifted_dHSICs"
   ]
  },
  {
   "cell_type": "code",
   "execution_count": null,
   "id": "58be0ff0-86f2-4b18-9670-5ccc2f3c504a",
   "metadata": {},
   "outputs": [],
   "source": [
    "shifted_kernel_lists[str(1)][str(1)].shape"
   ]
  },
  {
   "cell_type": "code",
   "execution_count": null,
   "id": "b4ac21a3-a81b-42ae-b774-de7748dffa9b",
   "metadata": {},
   "outputs": [],
   "source": []
  }
 ],
 "metadata": {
  "kernelspec": {
   "display_name": "Python 3 (ipykernel)",
   "language": "python",
   "name": "python3"
  },
  "language_info": {
   "codemirror_mode": {
    "name": "ipython",
    "version": 3
   },
   "file_extension": ".py",
   "mimetype": "text/x-python",
   "name": "python",
   "nbconvert_exporter": "python",
   "pygments_lexer": "ipython3",
   "version": "3.10.4"
  }
 },
 "nbformat": 4,
 "nbformat_minor": 5
}

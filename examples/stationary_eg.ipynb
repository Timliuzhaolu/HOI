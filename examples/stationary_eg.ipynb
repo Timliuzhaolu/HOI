{
 "cells": [
  {
   "cell_type": "code",
   "execution_count": 22,
   "id": "e5ea282c-d242-4ec7-82a5-a980a198b361",
   "metadata": {},
   "outputs": [
    {
     "name": "stdout",
     "output_type": "stream",
     "text": [
      "The autoreload extension is already loaded. To reload it, use:\n",
      "  %reload_ext autoreload\n"
     ]
    }
   ],
   "source": [
    "%load_ext autoreload\n",
    "%autoreload 2"
   ]
  },
  {
   "cell_type": "code",
   "execution_count": 23,
   "id": "448a740d-83ed-4e49-bfd4-ecbb11db63e1",
   "metadata": {},
   "outputs": [],
   "source": [
    "import sys\n",
    "sys.path.append('/Users/Tim/PycharmProjects/HOI/')"
   ]
  },
  {
   "cell_type": "code",
   "execution_count": 24,
   "id": "295f5aba-7905-40b0-9b89-9ef3c2cbd454",
   "metadata": {},
   "outputs": [
    {
     "data": {
      "text/plain": [
       "['/Users/tim/PycharmProjects/HOI/examples',\n",
       " '/Users/tim/opt/anaconda3/lib/python39.zip',\n",
       " '/Users/tim/opt/anaconda3/lib/python3.9',\n",
       " '/Users/tim/opt/anaconda3/lib/python3.9/lib-dynload',\n",
       " '',\n",
       " '/Users/tim/opt/anaconda3/lib/python3.9/site-packages',\n",
       " '/Users/tim/opt/anaconda3/lib/python3.9/site-packages/aeosa',\n",
       " '/Users/Tim/PycharmProjects/HOI/',\n",
       " '/Users/Tim/PycharmProjects/HOI/']"
      ]
     },
     "execution_count": 24,
     "metadata": {},
     "output_type": "execute_result"
    }
   ],
   "source": [
    "import sys\n",
    "sys.path"
   ]
  },
  {
   "cell_type": "code",
   "execution_count": 25,
   "id": "53900f95-60d1-40e9-b026-ac69455ebd32",
   "metadata": {},
   "outputs": [],
   "source": [
    "import pandas as pd\n",
    "import numpy as np\n",
    "from tqdm.notebook import tqdm\n",
    "from ipywidgets import IntProgress"
   ]
  },
  {
   "cell_type": "code",
   "execution_count": 26,
   "id": "d49cd58a-56ad-49f0-9001-51bbe1df181f",
   "metadata": {},
   "outputs": [],
   "source": [
    "from synthetic_data import stationary_pb_ts\n",
    "from HOI.preprocessings import compute_kernel\n",
    "from HOI.tests import test_independence"
   ]
  },
  {
   "cell_type": "code",
   "execution_count": 32,
   "id": "851ff5f0-2a8c-4490-ab06-ffcc47c80b43",
   "metadata": {
    "collapsed": true,
    "jupyter": {
     "outputs_hidden": true
    },
    "tags": []
   },
   "outputs": [
    {
     "data": {
      "application/vnd.jupyter.widget-view+json": {
       "model_id": "a51d26ad6b9040a597ee9c0b4a402466",
       "version_major": 2,
       "version_minor": 0
      },
      "text/plain": [
       "  0%|          | 0/9 [00:00<?, ?it/s]"
      ]
     },
     "metadata": {},
     "output_type": "display_data"
    },
    {
     "data": {
      "application/vnd.jupyter.widget-view+json": {
       "model_id": "043b248fd0674f3da1c2774e97cf58e2",
       "version_major": 2,
       "version_minor": 0
      },
      "text/plain": [
       "  0%|          | 0/100 [00:00<?, ?it/s]"
      ]
     },
     "metadata": {},
     "output_type": "display_data"
    },
    {
     "ename": "KeyboardInterrupt",
     "evalue": "",
     "output_type": "error",
     "traceback": [
      "\u001b[0;31m---------------------------------------------------------------------------\u001b[0m",
      "\u001b[0;31mKeyboardInterrupt\u001b[0m                         Traceback (most recent call last)",
      "Input \u001b[0;32mIn [32]\u001b[0m, in \u001b[0;36m<cell line: 3>\u001b[0;34m()\u001b[0m\n\u001b[1;32m      6\u001b[0m     df \u001b[38;5;241m=\u001b[39m stationary_pb_ts(t_time \u001b[38;5;241m=\u001b[39m \u001b[38;5;241m1200\u001b[39m, d \u001b[38;5;241m=\u001b[39m d, mode \u001b[38;5;241m=\u001b[39m \u001b[38;5;124m\"\u001b[39m\u001b[38;5;124mcase1\u001b[39m\u001b[38;5;124m\"\u001b[39m, a\u001b[38;5;241m=\u001b[39m\u001b[38;5;241m0.5\u001b[39m)\n\u001b[1;32m      7\u001b[0m     data_dict, kernel_dict \u001b[38;5;241m=\u001b[39m compute_kernel(df)\n\u001b[0;32m----> 8\u001b[0m     _, _, reject \u001b[38;5;241m=\u001b[39m \u001b[43mtest_independence\u001b[49m\u001b[43m(\u001b[49m\u001b[43m[\u001b[49m\u001b[43mkernel_dict\u001b[49m\u001b[43m[\u001b[49m\u001b[38;5;124;43m'\u001b[39;49m\u001b[38;5;124;43md1\u001b[39;49m\u001b[38;5;124;43m'\u001b[39;49m\u001b[43m]\u001b[49m\u001b[43m,\u001b[49m\u001b[43m \u001b[49m\u001b[43mkernel_dict\u001b[49m\u001b[43m[\u001b[49m\u001b[38;5;124;43m'\u001b[39;49m\u001b[38;5;124;43md2\u001b[39;49m\u001b[38;5;124;43m'\u001b[39;49m\u001b[43m]\u001b[49m\u001b[43m,\u001b[49m\u001b[43m \u001b[49m\u001b[43mkernel_dict\u001b[49m\u001b[43m[\u001b[49m\u001b[38;5;124;43m'\u001b[39;49m\u001b[38;5;124;43md3\u001b[39;49m\u001b[38;5;124;43m'\u001b[39;49m\u001b[43m]\u001b[49m\u001b[43m]\u001b[49m\u001b[43m,\u001b[49m\n\u001b[1;32m      9\u001b[0m \u001b[43m                                     \u001b[49m\u001b[43m[\u001b[49m\u001b[43mdata_dict\u001b[49m\u001b[43m[\u001b[49m\u001b[38;5;124;43m'\u001b[39;49m\u001b[38;5;124;43md1\u001b[39;49m\u001b[38;5;124;43m'\u001b[39;49m\u001b[43m]\u001b[49m\u001b[43m,\u001b[49m\u001b[43m \u001b[49m\u001b[43mdata_dict\u001b[49m\u001b[43m[\u001b[49m\u001b[38;5;124;43m'\u001b[39;49m\u001b[38;5;124;43md2\u001b[39;49m\u001b[38;5;124;43m'\u001b[39;49m\u001b[43m]\u001b[49m\u001b[43m,\u001b[49m\u001b[43m \u001b[49m\u001b[43mdata_dict\u001b[49m\u001b[43m[\u001b[49m\u001b[38;5;124;43m'\u001b[39;49m\u001b[38;5;124;43md3\u001b[39;49m\u001b[38;5;124;43m'\u001b[39;49m\u001b[43m]\u001b[49m\u001b[43m]\u001b[49m\u001b[43m,\u001b[49m\n\u001b[1;32m     10\u001b[0m \u001b[43m                                      \u001b[49m\u001b[43mmode\u001b[49m\u001b[43m \u001b[49m\u001b[38;5;241;43m=\u001b[39;49m\u001b[43m \u001b[49m\u001b[38;5;124;43m'\u001b[39;49m\u001b[38;5;124;43mstat_ts\u001b[39;49m\u001b[38;5;124;43m'\u001b[39;49m\u001b[43m,\u001b[49m\u001b[43m \u001b[49m\u001b[43mn_perms\u001b[49m\u001b[38;5;241;43m=\u001b[39;49m\u001b[38;5;241;43m5000\u001b[39;49m\u001b[43m,\u001b[49m\u001b[43m \u001b[49m\u001b[43malpha\u001b[49m\u001b[38;5;241;43m=\u001b[39;49m\u001b[38;5;241;43m0.05\u001b[39;49m\u001b[43m)\u001b[49m\n\u001b[1;32m     11\u001b[0m     rejects \u001b[38;5;241m=\u001b[39m rejects \u001b[38;5;241m+\u001b[39m reject\n\u001b[1;32m     12\u001b[0m power[\u001b[38;5;28mstr\u001b[39m(d)] \u001b[38;5;241m=\u001b[39m rejects\u001b[38;5;241m/\u001b[39m\u001b[38;5;241m300\u001b[39m\n",
      "File \u001b[0;32m/Users/Tim/PycharmProjects/HOI/HOI/tests.py:128\u001b[0m, in \u001b[0;36mtest_independence\u001b[0;34m(k_list, data_list, mode, n_perms, alpha)\u001b[0m\n\u001b[1;32m    126\u001b[0m \u001b[38;5;28;01mif\u001b[39;00m mode \u001b[38;5;241m==\u001b[39m \u001b[38;5;124m'\u001b[39m\u001b[38;5;124mstat_ts\u001b[39m\u001b[38;5;124m'\u001b[39m:\n\u001b[1;32m    127\u001b[0m     statistic \u001b[38;5;241m=\u001b[39m compute_dHSIC_statistics(k_list)\n\u001b[0;32m--> 128\u001b[0m     critical_value \u001b[38;5;241m=\u001b[39m \u001b[43mpermutation_stationary_ts\u001b[49m\u001b[43m(\u001b[49m\u001b[43mdata_list\u001b[49m\u001b[43m,\u001b[49m\u001b[43m \u001b[49m\u001b[43mk_list\u001b[49m\u001b[43m,\u001b[49m\u001b[43m \u001b[49m\u001b[43malpha\u001b[49m\u001b[38;5;241;43m=\u001b[39;49m\u001b[38;5;241;43m0.05\u001b[39;49m\u001b[43m)\u001b[49m\n\u001b[1;32m    129\u001b[0m     reject \u001b[38;5;241m=\u001b[39m \u001b[38;5;28mint\u001b[39m(statistic \u001b[38;5;241m>\u001b[39m critical_value)\n\u001b[1;32m    130\u001b[0m     \u001b[38;5;28;01mreturn\u001b[39;00m statistic, critical_value, reject\n",
      "File \u001b[0;32m/Users/Tim/PycharmProjects/HOI/HOI/tests.py:91\u001b[0m, in \u001b[0;36mpermutation_stationary_ts\u001b[0;34m(data_list, k_list, alpha)\u001b[0m\n\u001b[1;32m     89\u001b[0m \u001b[38;5;28;01mfor\u001b[39;00m ind \u001b[38;5;129;01min\u001b[39;00m perms:\n\u001b[1;32m     90\u001b[0m     shifted_k_lists \u001b[38;5;241m=\u001b[39m [shifted_kernel_lists[\u001b[38;5;28mstr\u001b[39m(ind[i])][\u001b[38;5;28mstr\u001b[39m(i)] \u001b[38;5;28;01mfor\u001b[39;00m i \u001b[38;5;129;01min\u001b[39;00m \u001b[38;5;28mrange\u001b[39m(num_var)]\n\u001b[0;32m---> 91\u001b[0m     shifted_dHSIC \u001b[38;5;241m=\u001b[39m \u001b[43mcompute_dHSIC_statistics\u001b[49m\u001b[43m(\u001b[49m\u001b[43mshifted_k_lists\u001b[49m\u001b[43m)\u001b[49m\n\u001b[1;32m     92\u001b[0m     shifted_dHSICs\u001b[38;5;241m.\u001b[39mappend(shifted_dHSIC)\n\u001b[1;32m     94\u001b[0m critical_value \u001b[38;5;241m=\u001b[39m np\u001b[38;5;241m.\u001b[39mquantile(shifted_dHSICs, \u001b[38;5;241m1\u001b[39m \u001b[38;5;241m-\u001b[39m alpha)\n",
      "File \u001b[0;32m/Users/Tim/PycharmProjects/HOI/HOI/statistics.py:24\u001b[0m, in \u001b[0;36mcompute_dHSIC_statistics\u001b[0;34m(k_list)\u001b[0m\n\u001b[1;32m     22\u001b[0m term3 \u001b[38;5;241m=\u001b[39m \u001b[38;5;241m2\u001b[39m \u001b[38;5;241m*\u001b[39m np\u001b[38;5;241m.\u001b[39msum(k_list[\u001b[38;5;241m0\u001b[39m], axis\u001b[38;5;241m=\u001b[39m\u001b[38;5;241m0\u001b[39m) \u001b[38;5;241m/\u001b[39m (n_samples \u001b[38;5;241m*\u001b[39m\u001b[38;5;241m*\u001b[39m \u001b[38;5;241m2\u001b[39m)\n\u001b[1;32m     23\u001b[0m \u001b[38;5;28;01mfor\u001b[39;00m j \u001b[38;5;129;01min\u001b[39;00m \u001b[38;5;28mrange\u001b[39m(\u001b[38;5;241m1\u001b[39m, n_variables):\n\u001b[0;32m---> 24\u001b[0m     term1 \u001b[38;5;241m=\u001b[39m \u001b[43mterm1\u001b[49m\u001b[43m \u001b[49m\u001b[38;5;241;43m*\u001b[39;49m\u001b[43m \u001b[49m\u001b[43mk_list\u001b[49m\u001b[43m[\u001b[49m\u001b[43mj\u001b[49m\u001b[43m]\u001b[49m\n\u001b[1;32m     25\u001b[0m     term2 \u001b[38;5;241m=\u001b[39m term2 \u001b[38;5;241m*\u001b[39m np\u001b[38;5;241m.\u001b[39msum(k_list[j]) \u001b[38;5;241m/\u001b[39m (n_samples \u001b[38;5;241m*\u001b[39m\u001b[38;5;241m*\u001b[39m \u001b[38;5;241m2\u001b[39m)\n\u001b[1;32m     26\u001b[0m     term3 \u001b[38;5;241m=\u001b[39m term3 \u001b[38;5;241m*\u001b[39m np\u001b[38;5;241m.\u001b[39msum(k_list[j], axis\u001b[38;5;241m=\u001b[39m\u001b[38;5;241m0\u001b[39m) \u001b[38;5;241m/\u001b[39m n_samples\n",
      "\u001b[0;31mKeyboardInterrupt\u001b[0m: "
     ]
    }
   ],
   "source": [
    "# all pairwise independent but jointly dependent\n",
    "power ={}\n",
    "for d in tqdm(np.arange(0.1, 1, 0.1)):\n",
    "    rejects = 0\n",
    "    for i in tqdm(np.arange(100)):\n",
    "        df = stationary_pb_ts(t_time = 1200, d = d, mode = \"case1\", a=0.5)\n",
    "        data_dict, kernel_dict = compute_kernel(df)\n",
    "        _, _, reject = test_independence([kernel_dict['d1'], kernel_dict['d2'], kernel_dict['d3']],\n",
    "                                         [data_dict['d1'], data_dict['d2'], data_dict['d3']],\n",
    "                                          mode = 'stat_ts', n_perms=5000, alpha=0.05)\n",
    "        rejects = rejects + reject\n",
    "    power[str(d)] = rejects/300"
   ]
  },
  {
   "cell_type": "code",
   "execution_count": 30,
   "id": "aae26774-0e7d-4e76-a6d4-3b6d325dbc62",
   "metadata": {},
   "outputs": [
    {
     "data": {
      "text/plain": [
       "{'0.1': 0.34,\n",
       " '0.2': 0.31,\n",
       " '0.30000000000000004': 0.47,\n",
       " '0.4': 0.49,\n",
       " '0.5': 0.62,\n",
       " '0.6': 0.71,\n",
       " '0.7000000000000001': 0.72,\n",
       " '0.8': 0.79,\n",
       " '0.9': 0.87}"
      ]
     },
     "execution_count": 30,
     "metadata": {},
     "output_type": "execute_result"
    }
   ],
   "source": [
    "power"
   ]
  },
  {
   "cell_type": "code",
   "execution_count": null,
   "id": "9a09b946-f999-4d88-80b3-9dfe2fe333ea",
   "metadata": {},
   "outputs": [],
   "source": [
    "# 100% better than 3-way HSIC, comparable with lancaster test from paulr"
   ]
  },
  {
   "cell_type": "code",
   "execution_count": null,
   "id": "72ac9318-b12e-440a-8b6a-0d5045eecb63",
   "metadata": {},
   "outputs": [],
   "source": []
  },
  {
   "cell_type": "code",
   "execution_count": null,
   "id": "4f9037bc-a0c8-4931-91da-c3765f2e4feb",
   "metadata": {},
   "outputs": [],
   "source": [
    " # 2 pairwise dependent, xy pairwise independent and jointly dependent\n",
    "power ={}\n",
    "for d in tqdm(np.arange(0.1, 1, 0.1)):\n",
    "    rejects = 0\n",
    "    for i in tqdm(np.arange(100)):\n",
    "        df = stationary_pb_ts(n_sample = 500, d = 0.65, mode = \"case2\", a=0.5)\n",
    "        data_dict, kernel_dict = compute_kernel(df)\n",
    "        _, _, reject = test_independence([kernel_dict['d1'], kernel_dict['d2'], kernel_dict['d3']],\n",
    "                                         [data_dict['d1'], data_dict['d2'], data_dict['d3']],\n",
    "                                          mode = 'stat_ts', n_perms=5000, alpha=0.05)\n",
    "        _, _, reject = test_independence([kernel_dict['d1'], kernel_dict['d3']],\n",
    "                                         [data_dict['d1'], data_dict['d3']],\n",
    "                                          mode = 'stat_ts', n_perms=5000, alpha=0.05)\n",
    "        _, _, reject = test_independence([kernel_dict['d2'], kernel_dict['d3']],\n",
    "                                         [data_dict['d2'], data_dict['d3']],\n",
    "                                          mode = 'stat_ts', n_perms=5000, alpha=0.05)\n",
    "        rejects = rejects + reject\n",
    "    power[str(d)] = rejects/100"
   ]
  },
  {
   "cell_type": "code",
   "execution_count": null,
   "id": "4e588739-94a1-41fc-9ba9-5630e109bde6",
   "metadata": {},
   "outputs": [],
   "source": []
  },
  {
   "cell_type": "code",
   "execution_count": null,
   "id": "86672099-b42d-4d7d-bbf8-41492866a60e",
   "metadata": {},
   "outputs": [],
   "source": []
  },
  {
   "cell_type": "code",
   "execution_count": null,
   "id": "8ac7a922-49fa-452f-a72f-b575f3602608",
   "metadata": {},
   "outputs": [],
   "source": []
  },
  {
   "cell_type": "code",
   "execution_count": 14,
   "id": "c277e50b-6a38-4a2e-a765-f4a4a883f384",
   "metadata": {},
   "outputs": [],
   "source": [
    "import pandas as pd\n",
    "import numpy as np\n",
    "from tqdm import tqdm"
   ]
  },
  {
   "cell_type": "code",
   "execution_count": 15,
   "id": "99800d92-a22c-4f79-a5dc-7a9e8dee0b7b",
   "metadata": {},
   "outputs": [],
   "source": [
    "from synthetic_data import stationary_pb_ts\n",
    "from HOI.preprocessings import compute_kernel\n",
    "from HOI.tests import test_independence"
   ]
  },
  {
   "cell_type": "code",
   "execution_count": 16,
   "id": "e42813f6-caea-4753-8166-6bddceccef37",
   "metadata": {},
   "outputs": [],
   "source": [
    "import statsmodels.api as sm"
   ]
  },
  {
   "cell_type": "code",
   "execution_count": 18,
   "id": "cb8778e5-b096-4b25-a9a3-3a8486c2c93e",
   "metadata": {},
   "outputs": [],
   "source": [
    "# all pairwise independent but jointly dependent\n",
    "df = stationary_pb_ts(t_time = 300, seed = 11, d = 0.5, mode = \"case1\", a=0.5)"
   ]
  },
  {
   "cell_type": "code",
   "execution_count": 29,
   "id": "a5a49e9b-559d-4aa0-b869-1d45919fea7e",
   "metadata": {},
   "outputs": [],
   "source": [
    "data_dict, kernel_dict = compute_kernel(df)"
   ]
  },
  {
   "cell_type": "code",
   "execution_count": 30,
   "id": "840540f6-00f2-41d9-8dd6-a2881bf9aab9",
   "metadata": {},
   "outputs": [],
   "source": [
    "data_list = [data_dict['d1'], data_dict['d2'], data_dict['d3']]"
   ]
  },
  {
   "cell_type": "code",
   "execution_count": 31,
   "id": "4fd48ee4-0181-403d-8f39-271f16391509",
   "metadata": {},
   "outputs": [],
   "source": [
    "k_list = [kernel_dict['d1'], kernel_dict['d2'], kernel_dict['d3']]"
   ]
  },
  {
   "cell_type": "code",
   "execution_count": 32,
   "id": "dc48b0ce-2f16-4fab-8e51-fe36a2b84898",
   "metadata": {},
   "outputs": [
    {
     "data": {
      "text/plain": [
       "(0.0026235365848013004, 0.0017002146919464333, 1)"
      ]
     },
     "execution_count": 32,
     "metadata": {},
     "output_type": "execute_result"
    }
   ],
   "source": [
    "test_independence(k_list=k_list, data_list=data_list, mode='stat_ts', n_perms=1000, alpha=0.05)"
   ]
  },
  {
   "cell_type": "code",
   "execution_count": 33,
   "id": "31228a03-b13b-456b-838c-a98749e92d67",
   "metadata": {},
   "outputs": [
    {
     "data": {
      "text/plain": [
       "(0.0009016972028506043, 0.0018298917154126778, 0)"
      ]
     },
     "execution_count": 33,
     "metadata": {},
     "output_type": "execute_result"
    }
   ],
   "source": [
    "test_independence(k_list=[kernel_dict['d1'], kernel_dict['d2']], \n",
    "                  data_list=[data_dict['d1'], data_dict['d2']], \n",
    "                  mode='stat_ts', n_perms=1000, alpha=0.05)"
   ]
  },
  {
   "cell_type": "code",
   "execution_count": 34,
   "id": "13506510-69e2-496c-97d1-eeb9cbe1c164",
   "metadata": {},
   "outputs": [
    {
     "data": {
      "text/plain": [
       "(0.0006952669977832171, 0.0019504181366873374, 0)"
      ]
     },
     "execution_count": 34,
     "metadata": {},
     "output_type": "execute_result"
    }
   ],
   "source": [
    "test_independence(k_list=[kernel_dict['d1'], kernel_dict['d3']], \n",
    "                  data_list=[data_dict['d1'], data_dict['d3']], \n",
    "                  mode='stat_ts', n_perms=1000, alpha=0.05)"
   ]
  },
  {
   "cell_type": "code",
   "execution_count": 35,
   "id": "7cac0945-b86d-4f19-8759-26addf512c9b",
   "metadata": {},
   "outputs": [
    {
     "data": {
      "text/plain": [
       "(0.0003036424696591933, 0.001997042274738181, 0)"
      ]
     },
     "execution_count": 35,
     "metadata": {},
     "output_type": "execute_result"
    }
   ],
   "source": [
    "test_independence(k_list=[kernel_dict['d2'], kernel_dict['d3']], \n",
    "                  data_list=[data_dict['d2'], data_dict['d3']], \n",
    "                  mode='stat_ts', n_perms=1000, alpha=0.05)"
   ]
  },
  {
   "cell_type": "code",
   "execution_count": null,
   "id": "f410048e-07be-448c-b180-a6bf5b19c3ee",
   "metadata": {},
   "outputs": [],
   "source": []
  },
  {
   "cell_type": "code",
   "execution_count": 110,
   "id": "4fc9152c-e938-4eb7-ace6-507d4a06ac59",
   "metadata": {},
   "outputs": [],
   "source": [
    "# 2 pairwise dependent, xy pairwise independent and jointly dependent\n",
    "df = stationary_pb_ts(n_sample = 500, seed = 109, d = 0.65, mode = \"case2\", a=0.5)\n",
    "data_dict, kernel_dict = compute_kernel(df)\n",
    "data_list = [data_dict['d1'], data_dict['d2'], data_dict['d3']]\n",
    "k_list = [kernel_dict['d1'], kernel_dict['d2'], kernel_dict['d3']]"
   ]
  },
  {
   "cell_type": "code",
   "execution_count": 111,
   "id": "18224c8a-8ac6-4209-8fe7-40b91cf17d3b",
   "metadata": {},
   "outputs": [
    {
     "data": {
      "text/plain": [
       "(0.016044540601538315, 0.009292483895777054, 1)"
      ]
     },
     "execution_count": 111,
     "metadata": {},
     "output_type": "execute_result"
    }
   ],
   "source": [
    "test_independence(k_list=k_list, data_list=data_list, mode='stat_ts', n_perms=1000, alpha=0.05)"
   ]
  },
  {
   "cell_type": "code",
   "execution_count": 112,
   "id": "6a238834-1e36-4c5e-a123-e8fae546fbfc",
   "metadata": {},
   "outputs": [
    {
     "data": {
      "text/plain": [
       "(0.0005067694109530674, 0.0027047636288386467, 0)"
      ]
     },
     "execution_count": 112,
     "metadata": {},
     "output_type": "execute_result"
    }
   ],
   "source": [
    "test_independence(k_list=[kernel_dict['d1'], kernel_dict['d2']], \n",
    "                  data_list=[data_dict['d1'], data_dict['d2']], \n",
    "                  mode='stat_ts', n_perms=1000, alpha=0.05)"
   ]
  },
  {
   "cell_type": "code",
   "execution_count": 113,
   "id": "084e7646-e6bc-4778-aa39-ebacf6b74064",
   "metadata": {},
   "outputs": [
    {
     "data": {
      "text/plain": [
       "(0.010298398467857739, 0.00834964775135938, 1)"
      ]
     },
     "execution_count": 113,
     "metadata": {},
     "output_type": "execute_result"
    }
   ],
   "source": [
    "test_independence(k_list=[kernel_dict['d1'], kernel_dict['d3']], \n",
    "                  data_list=[data_dict['d1'], data_dict['d3']], \n",
    "                  mode='stat_ts', n_perms=1000, alpha=0.05)"
   ]
  },
  {
   "cell_type": "code",
   "execution_count": 114,
   "id": "19b19ed6-b1a6-46fe-9227-1d993c2fc4ea",
   "metadata": {},
   "outputs": [
    {
     "data": {
      "text/plain": [
       "(0.013573335902312134, 0.00862558261305904, 1)"
      ]
     },
     "execution_count": 114,
     "metadata": {},
     "output_type": "execute_result"
    }
   ],
   "source": [
    "test_independence(k_list=[kernel_dict['d2'], kernel_dict['d3']], \n",
    "                  data_list=[data_dict['d2'], data_dict['d3']], \n",
    "                  mode='stat_ts', n_perms=1000, alpha=0.05)"
   ]
  },
  {
   "cell_type": "code",
   "execution_count": null,
   "id": "6c8a077c-56f8-40c7-84fe-32cd1a0c62bf",
   "metadata": {},
   "outputs": [],
   "source": []
  },
  {
   "cell_type": "code",
   "execution_count": null,
   "id": "b4ac21a3-a81b-42ae-b774-de7748dffa9b",
   "metadata": {},
   "outputs": [],
   "source": []
  },
  {
   "cell_type": "code",
   "execution_count": 78,
   "id": "5a0f7e88-ba06-4657-a68e-a9c664b5dbd5",
   "metadata": {},
   "outputs": [],
   "source": [
    "# independent\n",
    "df = stationary_pb_ts(n_sample = 500, seed = 190, d = 1.1, mode = \"case3\", a=0.5)\n",
    "data_dict, kernel_dict = compute_kernel(df)\n",
    "data_list = [data_dict['d1'], data_dict['d2'], data_dict['d3']]\n",
    "k_list = [kernel_dict['d1'], kernel_dict['d2'], kernel_dict['d3']]"
   ]
  },
  {
   "cell_type": "code",
   "execution_count": 79,
   "id": "a54e83f1-55f3-4498-a940-d86487e152e3",
   "metadata": {},
   "outputs": [
    {
     "data": {
      "text/plain": [
       "(0.0009576279285979372, 0.002181602178572525, 0)"
      ]
     },
     "execution_count": 79,
     "metadata": {},
     "output_type": "execute_result"
    }
   ],
   "source": [
    "test_independence(k_list=k_list, data_list=data_list, mode='stat_ts', n_perms=1000, alpha=0.05)"
   ]
  },
  {
   "cell_type": "code",
   "execution_count": 80,
   "id": "420a7413-27fc-452e-b6ae-a68055cadaaf",
   "metadata": {},
   "outputs": [
    {
     "data": {
      "text/plain": [
       "(0.0005155378666643617, 0.001913283012410005, 0)"
      ]
     },
     "execution_count": 80,
     "metadata": {},
     "output_type": "execute_result"
    }
   ],
   "source": [
    "test_independence(k_list=[kernel_dict['d1'], kernel_dict['d2']], \n",
    "                  data_list=[data_dict['d1'], data_dict['d2']], \n",
    "                  mode='stat_ts', n_perms=1000, alpha=0.05)"
   ]
  },
  {
   "cell_type": "code",
   "execution_count": 81,
   "id": "332e02d5-dd48-473e-b80f-1398dc602e69",
   "metadata": {},
   "outputs": [
    {
     "data": {
      "text/plain": [
       "(0.000368500396157212, 0.001722822310883737, 0)"
      ]
     },
     "execution_count": 81,
     "metadata": {},
     "output_type": "execute_result"
    }
   ],
   "source": [
    "test_independence(k_list=[kernel_dict['d1'], kernel_dict['d3']], \n",
    "                  data_list=[data_dict['d1'], data_dict['d3']], \n",
    "                  mode='stat_ts', n_perms=1000, alpha=0.05)"
   ]
  },
  {
   "cell_type": "code",
   "execution_count": 82,
   "id": "f881c34f-cb14-4572-a72a-cc1e74bb646f",
   "metadata": {},
   "outputs": [
    {
     "data": {
      "text/plain": [
       "(0.0004885169485012719, 0.0023070856703295726, 0)"
      ]
     },
     "execution_count": 82,
     "metadata": {},
     "output_type": "execute_result"
    }
   ],
   "source": [
    "test_independence(k_list=[kernel_dict['d2'], kernel_dict['d3']], \n",
    "                  data_list=[data_dict['d2'], data_dict['d3']], \n",
    "                  mode='stat_ts', n_perms=1000, alpha=0.05)"
   ]
  },
  {
   "cell_type": "code",
   "execution_count": null,
   "id": "f04c9807-6a54-4900-9820-1768e3d975c8",
   "metadata": {},
   "outputs": [],
   "source": []
  },
  {
   "cell_type": "code",
   "execution_count": null,
   "id": "2aa955df-5886-4aea-80a4-7a8417849ead",
   "metadata": {},
   "outputs": [],
   "source": []
  },
  {
   "cell_type": "code",
   "execution_count": null,
   "id": "f4b67615-1242-4518-a8ac-f5415db37867",
   "metadata": {},
   "outputs": [],
   "source": []
  },
  {
   "cell_type": "code",
   "execution_count": 36,
   "id": "667ac470-b1df-48f6-89e0-aea0fa98be7d",
   "metadata": {},
   "outputs": [],
   "source": [
    "# independent\n",
    "df = stationary_pb_ts(n_sample = 500, seed = 190, d = 0.7, mode = \"case1\", a=1)\n",
    "data_dict, kernel_dict = compute_kernel(df)\n",
    "data_list = [data_dict['d1'], data_dict['d2'], data_dict['d3']]\n",
    "k_list = [kernel_dict['d1'], kernel_dict['d2'], kernel_dict['d3']]"
   ]
  },
  {
   "cell_type": "code",
   "execution_count": 37,
   "id": "c64c643e-0aef-4896-845a-7bb607682abc",
   "metadata": {},
   "outputs": [
    {
     "data": {
      "text/plain": [
       "(0.022273081846982956, 0.0013290053004219593, 1)"
      ]
     },
     "execution_count": 37,
     "metadata": {},
     "output_type": "execute_result"
    }
   ],
   "source": [
    "test_independence(k_list=k_list, data_list=data_list, mode='iid', n_perms=1000, alpha=0.05)"
   ]
  },
  {
   "cell_type": "code",
   "execution_count": 39,
   "id": "f18f417e-e235-435d-855c-6923b99db332",
   "metadata": {},
   "outputs": [
    {
     "data": {
      "text/plain": [
       "(0.007686663840210994, 0.0008816469741782518, 1)"
      ]
     },
     "execution_count": 39,
     "metadata": {},
     "output_type": "execute_result"
    }
   ],
   "source": [
    "test_independence(k_list=[kernel_dict['d1'], kernel_dict['d2']], \n",
    "                  data_list=[data_dict['d1'], data_dict['d2']], \n",
    "                  mode='iid', n_perms=1000, alpha=0.05)"
   ]
  },
  {
   "cell_type": "code",
   "execution_count": 40,
   "id": "656d99a4-c544-407e-ba96-06fec0326c55",
   "metadata": {},
   "outputs": [
    {
     "data": {
      "text/plain": [
       "(0.0020899646776492142, 0.0009328691440982917, 1)"
      ]
     },
     "execution_count": 40,
     "metadata": {},
     "output_type": "execute_result"
    }
   ],
   "source": [
    "test_independence(k_list=[kernel_dict['d1'], kernel_dict['d3']], \n",
    "                  data_list=[data_dict['d1'], data_dict['d3']], \n",
    "                  mode='iid', n_perms=1000, alpha=0.05)"
   ]
  },
  {
   "cell_type": "code",
   "execution_count": 41,
   "id": "3458d295-145f-4e3c-89ee-ec00b5d21349",
   "metadata": {},
   "outputs": [
    {
     "data": {
      "text/plain": [
       "(0.026592307158503026, 0.0008846596143171626, 1)"
      ]
     },
     "execution_count": 41,
     "metadata": {},
     "output_type": "execute_result"
    }
   ],
   "source": [
    "test_independence(k_list=[kernel_dict['d2'], kernel_dict['d3']], \n",
    "                  data_list=[data_dict['d2'], data_dict['d3']], \n",
    "                  mode='iid', n_perms=1000, alpha=0.05)"
   ]
  },
  {
   "cell_type": "code",
   "execution_count": null,
   "id": "43858c2e-a379-4c8c-b1d3-4a8196e6b2ae",
   "metadata": {},
   "outputs": [],
   "source": []
  },
  {
   "cell_type": "code",
   "execution_count": 6,
   "id": "4c4d3272-fcd3-476f-a654-852e6532595a",
   "metadata": {},
   "outputs": [],
   "source": [
    "x_mat = []\n",
    "x = np.zeros(10)\n",
    "y = np.ones(10)\n",
    "x_mat.append(x)\n",
    "x_mat.append(y)"
   ]
  },
  {
   "cell_type": "code",
   "execution_count": 9,
   "id": "d941f543-68a1-4a0b-b5c8-1eef8cdb869f",
   "metadata": {},
   "outputs": [
    {
     "data": {
      "text/plain": [
       "(2, 10)"
      ]
     },
     "execution_count": 9,
     "metadata": {},
     "output_type": "execute_result"
    }
   ],
   "source": [
    "np.array(x_mat).shape"
   ]
  },
  {
   "cell_type": "code",
   "execution_count": 34,
   "id": "d99abf39-d57d-4d94-83b9-af3d80333602",
   "metadata": {},
   "outputs": [],
   "source": [
    "from sklearn.metrics import pairwise_kernels, pairwise_distances"
   ]
  },
  {
   "cell_type": "code",
   "execution_count": null,
   "id": "f90e847b-d77c-42c1-8127-7f030001a74f",
   "metadata": {},
   "outputs": [],
   "source": [
    "kernel_matrix = pairwise_kernels(data, metric='rbf', gamma=0.5 / (width(data) ** 2)"
   ]
  },
  {
   "cell_type": "code",
   "execution_count": 19,
   "id": "024154d0-3b36-4397-9903-6e8e0b9db1c4",
   "metadata": {},
   "outputs": [],
   "source": [
    "data_dict = df.to_dict('list')"
   ]
  },
  {
   "cell_type": "code",
   "execution_count": 28,
   "id": "151757c5-4797-405c-bc2c-6f8fb32a5b35",
   "metadata": {},
   "outputs": [],
   "source": [
    "data = np.array(data_dict['d1'])"
   ]
  },
  {
   "cell_type": "code",
   "execution_count": 29,
   "id": "301c9343-3e62-4c8e-b010-85905c4d0a48",
   "metadata": {},
   "outputs": [
    {
     "data": {
      "text/plain": [
       "(300,)"
      ]
     },
     "execution_count": 29,
     "metadata": {},
     "output_type": "execute_result"
    }
   ],
   "source": [
    "data.shape"
   ]
  },
  {
   "cell_type": "code",
   "execution_count": 32,
   "id": "1e2175bb-fb9d-42af-bf6c-b0d2937acc7b",
   "metadata": {},
   "outputs": [
    {
     "data": {
      "text/plain": [
       "(3, 300)"
      ]
     },
     "execution_count": 32,
     "metadata": {},
     "output_type": "execute_result"
    }
   ],
   "source": [
    "x_mat = []\n",
    "x_mat.append(data)\n",
    "x_mat.append(data)\n",
    "x_mat.append(data)\n",
    "np.array(x_mat).shape"
   ]
  },
  {
   "cell_type": "code",
   "execution_count": 35,
   "id": "e9b16428-2ae7-4214-91bb-144b91da8c83",
   "metadata": {},
   "outputs": [],
   "source": [
    "dist_mat = pairwise_distances(x_mat, metric='euclidean')\n",
    "width_Z = np.median(dist_mat[dist_mat > 0])"
   ]
  },
  {
   "cell_type": "code",
   "execution_count": 36,
   "id": "b20f19ca-636b-4b33-87f3-259b1b991e21",
   "metadata": {},
   "outputs": [],
   "source": [
    "kernel_matrix = pairwise_kernels(x_mat, metric='rbf', gamma=0.5 / (width_Z ** 2))"
   ]
  },
  {
   "cell_type": "code",
   "execution_count": 37,
   "id": "7b6e97a5-b1d5-40f4-9f69-c3e2ad008a7b",
   "metadata": {},
   "outputs": [
    {
     "data": {
      "text/plain": [
       "array([[0.60653066, 0.60653066, 0.60653066],\n",
       "       [0.60653066, 0.60653066, 0.60653066],\n",
       "       [0.60653066, 0.60653066, 0.60653066]])"
      ]
     },
     "execution_count": 37,
     "metadata": {},
     "output_type": "execute_result"
    }
   ],
   "source": [
    "kernel_matrix"
   ]
  },
  {
   "cell_type": "code",
   "execution_count": null,
   "id": "4997dfbd-4a4a-4271-8e3a-922744e80b12",
   "metadata": {},
   "outputs": [],
   "source": []
  }
 ],
 "metadata": {
  "kernelspec": {
   "display_name": "Python 3 (ipykernel)",
   "language": "python",
   "name": "python3"
  },
  "language_info": {
   "codemirror_mode": {
    "name": "ipython",
    "version": 3
   },
   "file_extension": ".py",
   "mimetype": "text/x-python",
   "name": "python",
   "nbconvert_exporter": "python",
   "pygments_lexer": "ipython3",
   "version": "3.9.12"
  }
 },
 "nbformat": 4,
 "nbformat_minor": 5
}

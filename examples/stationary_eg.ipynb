{
 "cells": [
  {
   "cell_type": "code",
   "execution_count": 65,
   "id": "e5ea282c-d242-4ec7-82a5-a980a198b361",
   "metadata": {},
   "outputs": [
    {
     "name": "stdout",
     "output_type": "stream",
     "text": [
      "The autoreload extension is already loaded. To reload it, use:\n",
      "  %reload_ext autoreload\n"
     ]
    }
   ],
   "source": [
    "%load_ext autoreload\n",
    "%autoreload 2"
   ]
  },
  {
   "cell_type": "code",
   "execution_count": 66,
   "id": "448a740d-83ed-4e49-bfd4-ecbb11db63e1",
   "metadata": {},
   "outputs": [],
   "source": [
    "import sys\n",
    "sys.path.append('/Users/Tim/PycharmProjects/HOI/')"
   ]
  },
  {
   "cell_type": "code",
   "execution_count": 67,
   "id": "53900f95-60d1-40e9-b026-ac69455ebd32",
   "metadata": {},
   "outputs": [],
   "source": [
    "import pandas as pd\n",
    "import numpy as np\n",
    "from tqdm.notebook import tqdm\n",
    "import matplotlib.pyplot as plt\n",
    "import scipy"
   ]
  },
  {
   "cell_type": "code",
   "execution_count": 69,
   "id": "d49cd58a-56ad-49f0-9001-51bbe1df181f",
   "metadata": {},
   "outputs": [],
   "source": [
    "from synthetic_data import stationary_pb_ts, nonstationary_ts_n\n",
    "from HOI.preprocessings import compute_kernel, compute_kernel_n\n",
    "from HOI.tests import test_independence, dhsic_permutation, test_lancaster, estimate_tail_head"
   ]
  },
  {
   "cell_type": "code",
   "execution_count": 70,
   "id": "134ab13b-7f52-4781-baeb-ddb8a9e1759a",
   "metadata": {},
   "outputs": [],
   "source": [
    "import matplotlib.pyplot as plt"
   ]
  },
  {
   "cell_type": "code",
   "execution_count": 13,
   "id": "812ac6f5-5da8-4d8f-bbfb-dd02b1cec373",
   "metadata": {},
   "outputs": [
    {
     "data": {
      "application/vnd.jupyter.widget-view+json": {
       "model_id": "ff741274be8a42deb2957038c134ee63",
       "version_major": 2,
       "version_minor": 0
      },
      "text/plain": [
       "  0%|          | 0/100 [00:00<?, ?it/s]"
      ]
     },
     "metadata": {},
     "output_type": "display_data"
    },
    {
     "name": "stdout",
     "output_type": "stream",
     "text": [
      "31\n"
     ]
    }
   ],
   "source": [
    "rejects = 0\n",
    "for i in tqdm(np.arange(100)):\n",
    "    df = stationary_pb_ts(t_time = 100, d = 0.8, mode = \"case1\", a=0.5)\n",
    "    data_dict, kernel_dict = compute_kernel(df)\n",
    "    _, _, _, reject = test_independence([kernel_dict['d1'], kernel_dict['d2'], kernel_dict['d3']],\n",
    "                             [data_dict['d1'], data_dict['d2'], data_dict['d3']],\n",
    "                              n_perms=1000, alpha=0.05, mode = 'shifting')\n",
    "    rejects = rejects + reject\n",
    "print(rejects)"
   ]
  }
 ],
 "metadata": {
  "kernelspec": {
   "display_name": "Python 3 (ipykernel)",
   "language": "python",
   "name": "python3"
  },
  "language_info": {
   "codemirror_mode": {
    "name": "ipython",
    "version": 3
   },
   "file_extension": ".py",
   "mimetype": "text/x-python",
   "name": "python",
   "nbconvert_exporter": "python",
   "pygments_lexer": "ipython3",
   "version": "3.10.4"
  }
 },
 "nbformat": 4,
 "nbformat_minor": 5
}

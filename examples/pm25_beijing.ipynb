{
 "cells": [
  {
   "cell_type": "code",
   "execution_count": 1,
   "id": "55b5a307-2887-4d3b-84c1-52a023dfa859",
   "metadata": {},
   "outputs": [],
   "source": [
    "%load_ext autoreload\n",
    "%autoreload 2"
   ]
  },
  {
   "cell_type": "code",
   "execution_count": 72,
   "id": "ccbd08e7-4c6b-472b-aab4-8510bf528a74",
   "metadata": {},
   "outputs": [],
   "source": [
    "import numpy as np\n",
    "import pandas as pd\n",
    "import os\n",
    "from tqdm.notebook import tqdm\n",
    "import matplotlib.pyplot as plt\n",
    "import itertools\n",
    "from sklearn.preprocessing import StandardScaler\n",
    "from statsmodels.tsa.stattools import adfuller"
   ]
  },
  {
   "cell_type": "code",
   "execution_count": 3,
   "id": "8ccaf8ed-4872-4c96-ac85-8cae5b0e5b90",
   "metadata": {},
   "outputs": [],
   "source": [
    "import sys\n",
    "sys.path.append('/Users/Tim/PycharmProjects/HOI/')"
   ]
  },
  {
   "cell_type": "code",
   "execution_count": 4,
   "id": "aebeea2d-bcc3-492a-a23e-b1214752ed10",
   "metadata": {},
   "outputs": [],
   "source": [
    "from HOI.preprocessings import compute_kernel, compute_kernel_n\n",
    "from HOI.tests import test_independence\n",
    "from synthetic_data import stationary_pb_ts, nonstationary_ts_n, stationary_pb_ts_n"
   ]
  },
  {
   "cell_type": "code",
   "execution_count": 85,
   "id": "4a3eff3e-85fc-4bff-9bcf-f6cd59ab8c7f",
   "metadata": {},
   "outputs": [],
   "source": [
    "def find_comb(var):\n",
    "    power_set = []\n",
    "    for L in range(len(var) + 1):\n",
    "        for subset in itertools.combinations(var, L):\n",
    "            if len(subset) >= 2:\n",
    "                power_set.append(list(subset))\n",
    "    return power_set"
   ]
  },
  {
   "cell_type": "markdown",
   "id": "942734ce-386d-477b-a2e4-78e4aa1b3393",
   "metadata": {
    "jp-MarkdownHeadingCollapsed": true,
    "tags": []
   },
   "source": [
    "# Data Preprocessing"
   ]
  },
  {
   "cell_type": "code",
   "execution_count": 256,
   "id": "1e0b9231-a393-484d-858e-2bf943228ad2",
   "metadata": {},
   "outputs": [],
   "source": [
    "df = pd.read_csv('/Users/tim/PycharmProjects/HOI/examples/PRSA_data_2010.1.1-2014.12.31.csv')"
   ]
  },
  {
   "cell_type": "code",
   "execution_count": 257,
   "id": "37eba63d-ebe0-4f27-aa4c-f676cfb5799d",
   "metadata": {},
   "outputs": [
    {
     "data": {
      "text/html": [
       "<div>\n",
       "<style scoped>\n",
       "    .dataframe tbody tr th:only-of-type {\n",
       "        vertical-align: middle;\n",
       "    }\n",
       "\n",
       "    .dataframe tbody tr th {\n",
       "        vertical-align: top;\n",
       "    }\n",
       "\n",
       "    .dataframe thead th {\n",
       "        text-align: right;\n",
       "    }\n",
       "</style>\n",
       "<table border=\"1\" class=\"dataframe\">\n",
       "  <thead>\n",
       "    <tr style=\"text-align: right;\">\n",
       "      <th></th>\n",
       "      <th>No</th>\n",
       "      <th>year</th>\n",
       "      <th>month</th>\n",
       "      <th>day</th>\n",
       "      <th>hour</th>\n",
       "      <th>pm2.5</th>\n",
       "      <th>DEWP</th>\n",
       "      <th>TEMP</th>\n",
       "      <th>PRES</th>\n",
       "      <th>cbwd</th>\n",
       "      <th>Iws</th>\n",
       "      <th>Is</th>\n",
       "      <th>Ir</th>\n",
       "    </tr>\n",
       "  </thead>\n",
       "  <tbody>\n",
       "    <tr>\n",
       "      <th>0</th>\n",
       "      <td>1</td>\n",
       "      <td>2010</td>\n",
       "      <td>1</td>\n",
       "      <td>1</td>\n",
       "      <td>0</td>\n",
       "      <td>NaN</td>\n",
       "      <td>-21</td>\n",
       "      <td>-11.0</td>\n",
       "      <td>1021.0</td>\n",
       "      <td>NW</td>\n",
       "      <td>1.79</td>\n",
       "      <td>0</td>\n",
       "      <td>0</td>\n",
       "    </tr>\n",
       "    <tr>\n",
       "      <th>1</th>\n",
       "      <td>2</td>\n",
       "      <td>2010</td>\n",
       "      <td>1</td>\n",
       "      <td>1</td>\n",
       "      <td>1</td>\n",
       "      <td>NaN</td>\n",
       "      <td>-21</td>\n",
       "      <td>-12.0</td>\n",
       "      <td>1020.0</td>\n",
       "      <td>NW</td>\n",
       "      <td>4.92</td>\n",
       "      <td>0</td>\n",
       "      <td>0</td>\n",
       "    </tr>\n",
       "    <tr>\n",
       "      <th>2</th>\n",
       "      <td>3</td>\n",
       "      <td>2010</td>\n",
       "      <td>1</td>\n",
       "      <td>1</td>\n",
       "      <td>2</td>\n",
       "      <td>NaN</td>\n",
       "      <td>-21</td>\n",
       "      <td>-11.0</td>\n",
       "      <td>1019.0</td>\n",
       "      <td>NW</td>\n",
       "      <td>6.71</td>\n",
       "      <td>0</td>\n",
       "      <td>0</td>\n",
       "    </tr>\n",
       "    <tr>\n",
       "      <th>3</th>\n",
       "      <td>4</td>\n",
       "      <td>2010</td>\n",
       "      <td>1</td>\n",
       "      <td>1</td>\n",
       "      <td>3</td>\n",
       "      <td>NaN</td>\n",
       "      <td>-21</td>\n",
       "      <td>-14.0</td>\n",
       "      <td>1019.0</td>\n",
       "      <td>NW</td>\n",
       "      <td>9.84</td>\n",
       "      <td>0</td>\n",
       "      <td>0</td>\n",
       "    </tr>\n",
       "    <tr>\n",
       "      <th>4</th>\n",
       "      <td>5</td>\n",
       "      <td>2010</td>\n",
       "      <td>1</td>\n",
       "      <td>1</td>\n",
       "      <td>4</td>\n",
       "      <td>NaN</td>\n",
       "      <td>-20</td>\n",
       "      <td>-12.0</td>\n",
       "      <td>1018.0</td>\n",
       "      <td>NW</td>\n",
       "      <td>12.97</td>\n",
       "      <td>0</td>\n",
       "      <td>0</td>\n",
       "    </tr>\n",
       "    <tr>\n",
       "      <th>...</th>\n",
       "      <td>...</td>\n",
       "      <td>...</td>\n",
       "      <td>...</td>\n",
       "      <td>...</td>\n",
       "      <td>...</td>\n",
       "      <td>...</td>\n",
       "      <td>...</td>\n",
       "      <td>...</td>\n",
       "      <td>...</td>\n",
       "      <td>...</td>\n",
       "      <td>...</td>\n",
       "      <td>...</td>\n",
       "      <td>...</td>\n",
       "    </tr>\n",
       "    <tr>\n",
       "      <th>43819</th>\n",
       "      <td>43820</td>\n",
       "      <td>2014</td>\n",
       "      <td>12</td>\n",
       "      <td>31</td>\n",
       "      <td>19</td>\n",
       "      <td>8.0</td>\n",
       "      <td>-23</td>\n",
       "      <td>-2.0</td>\n",
       "      <td>1034.0</td>\n",
       "      <td>NW</td>\n",
       "      <td>231.97</td>\n",
       "      <td>0</td>\n",
       "      <td>0</td>\n",
       "    </tr>\n",
       "    <tr>\n",
       "      <th>43820</th>\n",
       "      <td>43821</td>\n",
       "      <td>2014</td>\n",
       "      <td>12</td>\n",
       "      <td>31</td>\n",
       "      <td>20</td>\n",
       "      <td>10.0</td>\n",
       "      <td>-22</td>\n",
       "      <td>-3.0</td>\n",
       "      <td>1034.0</td>\n",
       "      <td>NW</td>\n",
       "      <td>237.78</td>\n",
       "      <td>0</td>\n",
       "      <td>0</td>\n",
       "    </tr>\n",
       "    <tr>\n",
       "      <th>43821</th>\n",
       "      <td>43822</td>\n",
       "      <td>2014</td>\n",
       "      <td>12</td>\n",
       "      <td>31</td>\n",
       "      <td>21</td>\n",
       "      <td>10.0</td>\n",
       "      <td>-22</td>\n",
       "      <td>-3.0</td>\n",
       "      <td>1034.0</td>\n",
       "      <td>NW</td>\n",
       "      <td>242.70</td>\n",
       "      <td>0</td>\n",
       "      <td>0</td>\n",
       "    </tr>\n",
       "    <tr>\n",
       "      <th>43822</th>\n",
       "      <td>43823</td>\n",
       "      <td>2014</td>\n",
       "      <td>12</td>\n",
       "      <td>31</td>\n",
       "      <td>22</td>\n",
       "      <td>8.0</td>\n",
       "      <td>-22</td>\n",
       "      <td>-4.0</td>\n",
       "      <td>1034.0</td>\n",
       "      <td>NW</td>\n",
       "      <td>246.72</td>\n",
       "      <td>0</td>\n",
       "      <td>0</td>\n",
       "    </tr>\n",
       "    <tr>\n",
       "      <th>43823</th>\n",
       "      <td>43824</td>\n",
       "      <td>2014</td>\n",
       "      <td>12</td>\n",
       "      <td>31</td>\n",
       "      <td>23</td>\n",
       "      <td>12.0</td>\n",
       "      <td>-21</td>\n",
       "      <td>-3.0</td>\n",
       "      <td>1034.0</td>\n",
       "      <td>NW</td>\n",
       "      <td>249.85</td>\n",
       "      <td>0</td>\n",
       "      <td>0</td>\n",
       "    </tr>\n",
       "  </tbody>\n",
       "</table>\n",
       "<p>43824 rows × 13 columns</p>\n",
       "</div>"
      ],
      "text/plain": [
       "          No  year  month  day  hour  pm2.5  DEWP  TEMP    PRES cbwd     Iws  \\\n",
       "0          1  2010      1    1     0    NaN   -21 -11.0  1021.0   NW    1.79   \n",
       "1          2  2010      1    1     1    NaN   -21 -12.0  1020.0   NW    4.92   \n",
       "2          3  2010      1    1     2    NaN   -21 -11.0  1019.0   NW    6.71   \n",
       "3          4  2010      1    1     3    NaN   -21 -14.0  1019.0   NW    9.84   \n",
       "4          5  2010      1    1     4    NaN   -20 -12.0  1018.0   NW   12.97   \n",
       "...      ...   ...    ...  ...   ...    ...   ...   ...     ...  ...     ...   \n",
       "43819  43820  2014     12   31    19    8.0   -23  -2.0  1034.0   NW  231.97   \n",
       "43820  43821  2014     12   31    20   10.0   -22  -3.0  1034.0   NW  237.78   \n",
       "43821  43822  2014     12   31    21   10.0   -22  -3.0  1034.0   NW  242.70   \n",
       "43822  43823  2014     12   31    22    8.0   -22  -4.0  1034.0   NW  246.72   \n",
       "43823  43824  2014     12   31    23   12.0   -21  -3.0  1034.0   NW  249.85   \n",
       "\n",
       "       Is  Ir  \n",
       "0       0   0  \n",
       "1       0   0  \n",
       "2       0   0  \n",
       "3       0   0  \n",
       "4       0   0  \n",
       "...    ..  ..  \n",
       "43819   0   0  \n",
       "43820   0   0  \n",
       "43821   0   0  \n",
       "43822   0   0  \n",
       "43823   0   0  \n",
       "\n",
       "[43824 rows x 13 columns]"
      ]
     },
     "execution_count": 257,
     "metadata": {},
     "output_type": "execute_result"
    }
   ],
   "source": [
    "df"
   ]
  },
  {
   "cell_type": "code",
   "execution_count": 258,
   "id": "137be5cf-fa9a-4d59-9f44-c53d42ebf875",
   "metadata": {},
   "outputs": [
    {
     "data": {
      "text/plain": [
       "No       0\n",
       "year     0\n",
       "month    0\n",
       "day      0\n",
       "hour     0\n",
       "pm2.5    0\n",
       "DEWP     0\n",
       "TEMP     0\n",
       "PRES     0\n",
       "cbwd     0\n",
       "Iws      0\n",
       "Is       0\n",
       "Ir       0\n",
       "dtype: int64"
      ]
     },
     "execution_count": 258,
     "metadata": {},
     "output_type": "execute_result"
    }
   ],
   "source": [
    "df[(df['month']==7) & (df['year']==2010)].isna().sum()"
   ]
  },
  {
   "cell_type": "code",
   "execution_count": 259,
   "id": "64d4ae79-7370-41f2-bf1c-59a37c0278e1",
   "metadata": {},
   "outputs": [
    {
     "data": {
      "text/plain": [
       "(744, 13)"
      ]
     },
     "execution_count": 259,
     "metadata": {},
     "output_type": "execute_result"
    }
   ],
   "source": [
    "df[(df['month']==7) & (df['year']==2010)].shape"
   ]
  },
  {
   "cell_type": "code",
   "execution_count": 260,
   "id": "428acadd-adf9-436b-98c2-f50366097411",
   "metadata": {},
   "outputs": [],
   "source": [
    "df_var_wk = df[(df['month']==7) & (df['year']==2010)]"
   ]
  },
  {
   "cell_type": "code",
   "execution_count": 261,
   "id": "de3d300b-c24b-4681-85db-08e9c86cfc45",
   "metadata": {},
   "outputs": [],
   "source": [
    "df_var_wk = df_var_wk.drop(['No', 'year', 'month', 'day', 'hour','cbwd', 'Iws', 'Is', 'Ir'], axis=1)"
   ]
  },
  {
   "cell_type": "code",
   "execution_count": 262,
   "id": "92500580-c597-4de7-94e9-3e15037f08d3",
   "metadata": {},
   "outputs": [],
   "source": [
    "# differencing xt+1 - xt"
   ]
  },
  {
   "cell_type": "code",
   "execution_count": 263,
   "id": "72648368-bc8d-448d-a737-66c5833b7120",
   "metadata": {},
   "outputs": [],
   "source": [
    "df_var_wk['pm2.5'] = df_var_wk['pm2.5'].diff()\n",
    "df_var_wk['DEWP'] = df_var_wk['DEWP'].diff()\n",
    "df_var_wk['TEMP'] = df_var_wk['TEMP'].diff()\n",
    "df_var_wk['PRES'] = df_var_wk['PRES'].diff()"
   ]
  },
  {
   "cell_type": "code",
   "execution_count": 264,
   "id": "ccafc18f-003f-4304-90a2-13f4c83740d9",
   "metadata": {},
   "outputs": [],
   "source": [
    "# then differencing xt+12 - xt"
   ]
  },
  {
   "cell_type": "code",
   "execution_count": 265,
   "id": "950c81bc-f01c-4bc3-8b57-557895905ad7",
   "metadata": {},
   "outputs": [],
   "source": [
    "df_var_wk['d52_pm2.5'] = df_var_wk['pm2.5'].diff(periods=12)\n",
    "df_var_wk['d52_DEWP'] = df_var_wk['DEWP'].diff(periods=12)\n",
    "df_var_wk['d52_TEMP'] = df_var_wk['TEMP'].diff(periods=12)\n",
    "df_var_wk['d52_PRES'] = df_var_wk['PRES'].diff(periods=12)"
   ]
  },
  {
   "cell_type": "code",
   "execution_count": 266,
   "id": "6f7d93f8-deb4-4408-8dbd-7abb3daed4aa",
   "metadata": {},
   "outputs": [],
   "source": [
    "# var_df_2010_diff = var_df_2010[['pm2.5', 'DEWP', 'TEMP', 'PRES']]\n",
    "df_var_wk_d12 = df_var_wk[['d52_pm2.5', 'd52_DEWP', 'd52_TEMP', 'd52_PRES']]"
   ]
  },
  {
   "cell_type": "code",
   "execution_count": 270,
   "id": "dd71195a-6762-4afe-a919-5668c54efa84",
   "metadata": {},
   "outputs": [
    {
     "data": {
      "text/html": [
       "<div>\n",
       "<style scoped>\n",
       "    .dataframe tbody tr th:only-of-type {\n",
       "        vertical-align: middle;\n",
       "    }\n",
       "\n",
       "    .dataframe tbody tr th {\n",
       "        vertical-align: top;\n",
       "    }\n",
       "\n",
       "    .dataframe thead th {\n",
       "        text-align: right;\n",
       "    }\n",
       "</style>\n",
       "<table border=\"1\" class=\"dataframe\">\n",
       "  <thead>\n",
       "    <tr style=\"text-align: right;\">\n",
       "      <th></th>\n",
       "      <th>diff_d12_pm2.5</th>\n",
       "      <th>diff_d12_DEWP</th>\n",
       "      <th>diff_d12_TEMP</th>\n",
       "      <th>diff_d12_PRES</th>\n",
       "    </tr>\n",
       "  </thead>\n",
       "  <tbody>\n",
       "    <tr>\n",
       "      <th>4344</th>\n",
       "      <td>NaN</td>\n",
       "      <td>NaN</td>\n",
       "      <td>NaN</td>\n",
       "      <td>NaN</td>\n",
       "    </tr>\n",
       "    <tr>\n",
       "      <th>4345</th>\n",
       "      <td>NaN</td>\n",
       "      <td>NaN</td>\n",
       "      <td>NaN</td>\n",
       "      <td>NaN</td>\n",
       "    </tr>\n",
       "    <tr>\n",
       "      <th>4346</th>\n",
       "      <td>NaN</td>\n",
       "      <td>NaN</td>\n",
       "      <td>NaN</td>\n",
       "      <td>NaN</td>\n",
       "    </tr>\n",
       "    <tr>\n",
       "      <th>4347</th>\n",
       "      <td>NaN</td>\n",
       "      <td>NaN</td>\n",
       "      <td>NaN</td>\n",
       "      <td>NaN</td>\n",
       "    </tr>\n",
       "    <tr>\n",
       "      <th>4348</th>\n",
       "      <td>NaN</td>\n",
       "      <td>NaN</td>\n",
       "      <td>NaN</td>\n",
       "      <td>NaN</td>\n",
       "    </tr>\n",
       "    <tr>\n",
       "      <th>...</th>\n",
       "      <td>...</td>\n",
       "      <td>...</td>\n",
       "      <td>...</td>\n",
       "      <td>...</td>\n",
       "    </tr>\n",
       "    <tr>\n",
       "      <th>5083</th>\n",
       "      <td>20.0</td>\n",
       "      <td>-1.0</td>\n",
       "      <td>-1.0</td>\n",
       "      <td>2.0</td>\n",
       "    </tr>\n",
       "    <tr>\n",
       "      <th>5084</th>\n",
       "      <td>-14.0</td>\n",
       "      <td>0.0</td>\n",
       "      <td>-2.0</td>\n",
       "      <td>1.0</td>\n",
       "    </tr>\n",
       "    <tr>\n",
       "      <th>5085</th>\n",
       "      <td>-33.0</td>\n",
       "      <td>1.0</td>\n",
       "      <td>-1.0</td>\n",
       "      <td>0.0</td>\n",
       "    </tr>\n",
       "    <tr>\n",
       "      <th>5086</th>\n",
       "      <td>-8.0</td>\n",
       "      <td>6.0</td>\n",
       "      <td>0.0</td>\n",
       "      <td>0.0</td>\n",
       "    </tr>\n",
       "    <tr>\n",
       "      <th>5087</th>\n",
       "      <td>128.0</td>\n",
       "      <td>3.0</td>\n",
       "      <td>0.0</td>\n",
       "      <td>-1.0</td>\n",
       "    </tr>\n",
       "  </tbody>\n",
       "</table>\n",
       "<p>744 rows × 4 columns</p>\n",
       "</div>"
      ],
      "text/plain": [
       "      diff_d12_pm2.5  diff_d12_DEWP  diff_d12_TEMP  diff_d12_PRES\n",
       "4344             NaN            NaN            NaN            NaN\n",
       "4345             NaN            NaN            NaN            NaN\n",
       "4346             NaN            NaN            NaN            NaN\n",
       "4347             NaN            NaN            NaN            NaN\n",
       "4348             NaN            NaN            NaN            NaN\n",
       "...              ...            ...            ...            ...\n",
       "5083            20.0           -1.0           -1.0            2.0\n",
       "5084           -14.0            0.0           -2.0            1.0\n",
       "5085           -33.0            1.0           -1.0            0.0\n",
       "5086            -8.0            6.0            0.0            0.0\n",
       "5087           128.0            3.0            0.0           -1.0\n",
       "\n",
       "[744 rows x 4 columns]"
      ]
     },
     "execution_count": 270,
     "metadata": {},
     "output_type": "execute_result"
    }
   ],
   "source": [
    "df_var_wk_d12"
   ]
  },
  {
   "cell_type": "code",
   "execution_count": 184,
   "id": "52b4c2bd-b3a9-4cdc-89af-a7a33adb030b",
   "metadata": {},
   "outputs": [],
   "source": [
    "# normalisation by -mean & /std"
   ]
  },
  {
   "cell_type": "code",
   "execution_count": 275,
   "id": "fc782918-c361-4f00-82e8-23bbb3ec2b68",
   "metadata": {},
   "outputs": [],
   "source": [
    "std_df = df_var_wk_d12[13:].apply(lambda iterator: (iterator - iterator.mean())/iterator.std())"
   ]
  },
  {
   "cell_type": "code",
   "execution_count": 276,
   "id": "65bc93ad-9cc0-4fa8-b26f-907f83752782",
   "metadata": {},
   "outputs": [
    {
     "data": {
      "text/html": [
       "<div>\n",
       "<style scoped>\n",
       "    .dataframe tbody tr th:only-of-type {\n",
       "        vertical-align: middle;\n",
       "    }\n",
       "\n",
       "    .dataframe tbody tr th {\n",
       "        vertical-align: top;\n",
       "    }\n",
       "\n",
       "    .dataframe thead th {\n",
       "        text-align: right;\n",
       "    }\n",
       "</style>\n",
       "<table border=\"1\" class=\"dataframe\">\n",
       "  <thead>\n",
       "    <tr style=\"text-align: right;\">\n",
       "      <th></th>\n",
       "      <th>diff_d12_pm2.5</th>\n",
       "      <th>diff_d12_DEWP</th>\n",
       "      <th>diff_d12_TEMP</th>\n",
       "      <th>diff_d12_PRES</th>\n",
       "    </tr>\n",
       "  </thead>\n",
       "  <tbody>\n",
       "    <tr>\n",
       "      <th>4357</th>\n",
       "      <td>0.449659</td>\n",
       "      <td>0.002872</td>\n",
       "      <td>0.000712</td>\n",
       "      <td>1.246418</td>\n",
       "    </tr>\n",
       "    <tr>\n",
       "      <th>4358</th>\n",
       "      <td>-0.252829</td>\n",
       "      <td>-0.696849</td>\n",
       "      <td>0.000712</td>\n",
       "      <td>-0.012051</td>\n",
       "    </tr>\n",
       "    <tr>\n",
       "      <th>4359</th>\n",
       "      <td>-2.136774</td>\n",
       "      <td>0.002872</td>\n",
       "      <td>0.521166</td>\n",
       "      <td>1.246418</td>\n",
       "    </tr>\n",
       "    <tr>\n",
       "      <th>4360</th>\n",
       "      <td>-1.657805</td>\n",
       "      <td>-0.696849</td>\n",
       "      <td>-0.519742</td>\n",
       "      <td>-0.012051</td>\n",
       "    </tr>\n",
       "    <tr>\n",
       "      <th>4361</th>\n",
       "      <td>0.130346</td>\n",
       "      <td>-1.396569</td>\n",
       "      <td>0.000712</td>\n",
       "      <td>-0.012051</td>\n",
       "    </tr>\n",
       "    <tr>\n",
       "      <th>...</th>\n",
       "      <td>...</td>\n",
       "      <td>...</td>\n",
       "      <td>...</td>\n",
       "      <td>...</td>\n",
       "    </tr>\n",
       "    <tr>\n",
       "      <th>5083</th>\n",
       "      <td>0.641246</td>\n",
       "      <td>-0.696849</td>\n",
       "      <td>-0.519742</td>\n",
       "      <td>2.504887</td>\n",
       "    </tr>\n",
       "    <tr>\n",
       "      <th>5084</th>\n",
       "      <td>-0.444417</td>\n",
       "      <td>0.002872</td>\n",
       "      <td>-1.040196</td>\n",
       "      <td>1.246418</td>\n",
       "    </tr>\n",
       "    <tr>\n",
       "      <th>5085</th>\n",
       "      <td>-1.051111</td>\n",
       "      <td>0.702592</td>\n",
       "      <td>-0.519742</td>\n",
       "      <td>-0.012051</td>\n",
       "    </tr>\n",
       "    <tr>\n",
       "      <th>5086</th>\n",
       "      <td>-0.252829</td>\n",
       "      <td>4.201193</td>\n",
       "      <td>0.000712</td>\n",
       "      <td>-0.012051</td>\n",
       "    </tr>\n",
       "    <tr>\n",
       "      <th>5087</th>\n",
       "      <td>4.089823</td>\n",
       "      <td>2.102032</td>\n",
       "      <td>0.000712</td>\n",
       "      <td>-1.270520</td>\n",
       "    </tr>\n",
       "  </tbody>\n",
       "</table>\n",
       "<p>731 rows × 4 columns</p>\n",
       "</div>"
      ],
      "text/plain": [
       "      diff_d12_pm2.5  diff_d12_DEWP  diff_d12_TEMP  diff_d12_PRES\n",
       "4357        0.449659       0.002872       0.000712       1.246418\n",
       "4358       -0.252829      -0.696849       0.000712      -0.012051\n",
       "4359       -2.136774       0.002872       0.521166       1.246418\n",
       "4360       -1.657805      -0.696849      -0.519742      -0.012051\n",
       "4361        0.130346      -1.396569       0.000712      -0.012051\n",
       "...              ...            ...            ...            ...\n",
       "5083        0.641246      -0.696849      -0.519742       2.504887\n",
       "5084       -0.444417       0.002872      -1.040196       1.246418\n",
       "5085       -1.051111       0.702592      -0.519742      -0.012051\n",
       "5086       -0.252829       4.201193       0.000712      -0.012051\n",
       "5087        4.089823       2.102032       0.000712      -1.270520\n",
       "\n",
       "[731 rows x 4 columns]"
      ]
     },
     "execution_count": 276,
     "metadata": {},
     "output_type": "execute_result"
    }
   ],
   "source": [
    "std_df"
   ]
  },
  {
   "cell_type": "code",
   "execution_count": 277,
   "id": "891c88b4-e92e-4255-a6e7-a7e7c96afcf6",
   "metadata": {},
   "outputs": [],
   "source": [
    "data_dict, kernel_dict = compute_kernel(std_df)"
   ]
  },
  {
   "cell_type": "code",
   "execution_count": 279,
   "id": "a303dd65-60ef-4abc-a7a1-8aeeffa7a5f8",
   "metadata": {},
   "outputs": [],
   "source": [
    "power_set_k = find_comb([kernel_dict['d52_pm2.5'], kernel_dict['d52_DEWP'], kernel_dict['d52_TEMP'], kernel_dict['d52_PRES']])"
   ]
  },
  {
   "cell_type": "code",
   "execution_count": 280,
   "id": "9e8ce39f-7f44-4207-b7d9-30baf138cc91",
   "metadata": {},
   "outputs": [],
   "source": [
    "power_set_d = find_comb([data_dict['d52_pm2.5'], data_dict['d52_DEWP'], data_dict['d52_TEMP'], data_dict['d52_PRES']])"
   ]
  },
  {
   "cell_type": "code",
   "execution_count": 281,
   "id": "f5195ca3-67ce-47f7-aa6f-bb58d19d9bd9",
   "metadata": {
    "tags": []
   },
   "outputs": [],
   "source": [
    "power_set_name = find_comb(['pm2.5', 'DEWP', 'TEMP', 'PRES'])"
   ]
  },
  {
   "cell_type": "code",
   "execution_count": 284,
   "id": "cc482d84-de96-4551-91eb-6222a53d9d2c",
   "metadata": {
    "collapsed": true,
    "jupyter": {
     "outputs_hidden": true
    },
    "tags": []
   },
   "outputs": [
    {
     "data": {
      "application/vnd.jupyter.widget-view+json": {
       "model_id": "77e9cf66e58647189ba1ad2610634a27",
       "version_major": 2,
       "version_minor": 0
      },
      "text/plain": [
       "  0%|          | 0/11 [00:00<?, ?it/s]"
      ]
     },
     "metadata": {},
     "output_type": "display_data"
    },
    {
     "data": {
      "application/vnd.jupyter.widget-view+json": {
       "model_id": "87f7e3f4009e46399d8d2e58629aac25",
       "version_major": 2,
       "version_minor": 0
      },
      "text/plain": [
       "  0%|          | 0/10 [00:00<?, ?it/s]"
      ]
     },
     "metadata": {},
     "output_type": "display_data"
    },
    {
     "name": "stdout",
     "output_type": "stream",
     "text": [
      "{\"['pm2.5', 'DEWP']\": 0}\n"
     ]
    },
    {
     "data": {
      "application/vnd.jupyter.widget-view+json": {
       "model_id": "ff822e32d663418080177e543a9bf87e",
       "version_major": 2,
       "version_minor": 0
      },
      "text/plain": [
       "  0%|          | 0/10 [00:00<?, ?it/s]"
      ]
     },
     "metadata": {},
     "output_type": "display_data"
    },
    {
     "name": "stdout",
     "output_type": "stream",
     "text": [
      "{\"['pm2.5', 'DEWP']\": 0, \"['pm2.5', 'TEMP']\": 0}\n"
     ]
    },
    {
     "data": {
      "application/vnd.jupyter.widget-view+json": {
       "model_id": "5113b859d3fb4009ad2bcdddf98e61f9",
       "version_major": 2,
       "version_minor": 0
      },
      "text/plain": [
       "  0%|          | 0/10 [00:00<?, ?it/s]"
      ]
     },
     "metadata": {},
     "output_type": "display_data"
    },
    {
     "name": "stdout",
     "output_type": "stream",
     "text": [
      "{\"['pm2.5', 'DEWP']\": 0, \"['pm2.5', 'TEMP']\": 0, \"['pm2.5', 'PRES']\": 0}\n"
     ]
    },
    {
     "data": {
      "application/vnd.jupyter.widget-view+json": {
       "model_id": "3a6d279dc9274923b213ac3377440c6a",
       "version_major": 2,
       "version_minor": 0
      },
      "text/plain": [
       "  0%|          | 0/10 [00:00<?, ?it/s]"
      ]
     },
     "metadata": {},
     "output_type": "display_data"
    },
    {
     "name": "stdout",
     "output_type": "stream",
     "text": [
      "{\"['pm2.5', 'DEWP']\": 0, \"['pm2.5', 'TEMP']\": 0, \"['pm2.5', 'PRES']\": 0, \"['DEWP', 'TEMP']\": 10}\n"
     ]
    },
    {
     "data": {
      "application/vnd.jupyter.widget-view+json": {
       "model_id": "e2fb9e454c1b4fd983475c49d273ab65",
       "version_major": 2,
       "version_minor": 0
      },
      "text/plain": [
       "  0%|          | 0/10 [00:00<?, ?it/s]"
      ]
     },
     "metadata": {},
     "output_type": "display_data"
    },
    {
     "name": "stdout",
     "output_type": "stream",
     "text": [
      "{\"['pm2.5', 'DEWP']\": 0, \"['pm2.5', 'TEMP']\": 0, \"['pm2.5', 'PRES']\": 0, \"['DEWP', 'TEMP']\": 10, \"['DEWP', 'PRES']\": 0}\n"
     ]
    },
    {
     "data": {
      "application/vnd.jupyter.widget-view+json": {
       "model_id": "02acf8e3cde449168c8badc6c8d3c4cc",
       "version_major": 2,
       "version_minor": 0
      },
      "text/plain": [
       "  0%|          | 0/10 [00:00<?, ?it/s]"
      ]
     },
     "metadata": {},
     "output_type": "display_data"
    },
    {
     "name": "stdout",
     "output_type": "stream",
     "text": [
      "{\"['pm2.5', 'DEWP']\": 0, \"['pm2.5', 'TEMP']\": 0, \"['pm2.5', 'PRES']\": 0, \"['DEWP', 'TEMP']\": 10, \"['DEWP', 'PRES']\": 0, \"['TEMP', 'PRES']\": 10}\n"
     ]
    },
    {
     "data": {
      "application/vnd.jupyter.widget-view+json": {
       "model_id": "8224ff61c50540a2a5f3d1b4b70aa8ae",
       "version_major": 2,
       "version_minor": 0
      },
      "text/plain": [
       "  0%|          | 0/10 [00:00<?, ?it/s]"
      ]
     },
     "metadata": {},
     "output_type": "display_data"
    },
    {
     "name": "stdout",
     "output_type": "stream",
     "text": [
      "{\"['pm2.5', 'DEWP']\": 0, \"['pm2.5', 'TEMP']\": 0, \"['pm2.5', 'PRES']\": 0, \"['DEWP', 'TEMP']\": 10, \"['DEWP', 'PRES']\": 0, \"['TEMP', 'PRES']\": 10, \"['pm2.5', 'DEWP', 'TEMP']\": 10}\n"
     ]
    },
    {
     "data": {
      "application/vnd.jupyter.widget-view+json": {
       "model_id": "21bb8d675f174fc5bdab9e24d8d26c9c",
       "version_major": 2,
       "version_minor": 0
      },
      "text/plain": [
       "  0%|          | 0/10 [00:00<?, ?it/s]"
      ]
     },
     "metadata": {},
     "output_type": "display_data"
    },
    {
     "name": "stdout",
     "output_type": "stream",
     "text": [
      "{\"['pm2.5', 'DEWP']\": 0, \"['pm2.5', 'TEMP']\": 0, \"['pm2.5', 'PRES']\": 0, \"['DEWP', 'TEMP']\": 10, \"['DEWP', 'PRES']\": 0, \"['TEMP', 'PRES']\": 10, \"['pm2.5', 'DEWP', 'TEMP']\": 10, \"['pm2.5', 'DEWP', 'PRES']\": 0}\n"
     ]
    },
    {
     "data": {
      "application/vnd.jupyter.widget-view+json": {
       "model_id": "31f427d21798489495ca5edbdc189a5d",
       "version_major": 2,
       "version_minor": 0
      },
      "text/plain": [
       "  0%|          | 0/10 [00:00<?, ?it/s]"
      ]
     },
     "metadata": {},
     "output_type": "display_data"
    },
    {
     "name": "stdout",
     "output_type": "stream",
     "text": [
      "{\"['pm2.5', 'DEWP']\": 0, \"['pm2.5', 'TEMP']\": 0, \"['pm2.5', 'PRES']\": 0, \"['DEWP', 'TEMP']\": 10, \"['DEWP', 'PRES']\": 0, \"['TEMP', 'PRES']\": 10, \"['pm2.5', 'DEWP', 'TEMP']\": 10, \"['pm2.5', 'DEWP', 'PRES']\": 0, \"['pm2.5', 'TEMP', 'PRES']\": 10}\n"
     ]
    },
    {
     "data": {
      "application/vnd.jupyter.widget-view+json": {
       "model_id": "10fc5b1a1a6442eb9b237c2ea4d8d3cd",
       "version_major": 2,
       "version_minor": 0
      },
      "text/plain": [
       "  0%|          | 0/10 [00:00<?, ?it/s]"
      ]
     },
     "metadata": {},
     "output_type": "display_data"
    },
    {
     "name": "stdout",
     "output_type": "stream",
     "text": [
      "{\"['pm2.5', 'DEWP']\": 0, \"['pm2.5', 'TEMP']\": 0, \"['pm2.5', 'PRES']\": 0, \"['DEWP', 'TEMP']\": 10, \"['DEWP', 'PRES']\": 0, \"['TEMP', 'PRES']\": 10, \"['pm2.5', 'DEWP', 'TEMP']\": 10, \"['pm2.5', 'DEWP', 'PRES']\": 0, \"['pm2.5', 'TEMP', 'PRES']\": 10, \"['DEWP', 'TEMP', 'PRES']\": 10}\n"
     ]
    },
    {
     "data": {
      "application/vnd.jupyter.widget-view+json": {
       "model_id": "f11588856cb049da997a5206a51df59d",
       "version_major": 2,
       "version_minor": 0
      },
      "text/plain": [
       "  0%|          | 0/10 [00:00<?, ?it/s]"
      ]
     },
     "metadata": {},
     "output_type": "display_data"
    },
    {
     "name": "stdout",
     "output_type": "stream",
     "text": [
      "{\"['pm2.5', 'DEWP']\": 0, \"['pm2.5', 'TEMP']\": 0, \"['pm2.5', 'PRES']\": 0, \"['DEWP', 'TEMP']\": 10, \"['DEWP', 'PRES']\": 0, \"['TEMP', 'PRES']\": 10, \"['pm2.5', 'DEWP', 'TEMP']\": 10, \"['pm2.5', 'DEWP', 'PRES']\": 0, \"['pm2.5', 'TEMP', 'PRES']\": 10, \"['DEWP', 'TEMP', 'PRES']\": 10, \"['pm2.5', 'DEWP', 'TEMP', 'PRES']\": 10}\n"
     ]
    }
   ],
   "source": [
    "power = {}\n",
    "for (name, klist, dlist) in tqdm(zip(power_set_name, power_set_k, power_set_d), total=len(power_set)):\n",
    "    rejects = 0\n",
    "    for i in tqdm(range(10)):\n",
    "        _, _, _, reject = test_independence(klist, dlist, n_perms=500, alpha=0.05, mode = 'shifting')\n",
    "        rejects = rejects + reject\n",
    "    power[str(name)] = rejects\n",
    "    print(power)"
   ]
  },
  {
   "cell_type": "code",
   "execution_count": 288,
   "id": "b4788098-fc61-4004-b9cd-0bc512ff9654",
   "metadata": {},
   "outputs": [
    {
     "name": "stdout",
     "output_type": "stream",
     "text": [
      "Augmneted Dickey_fuller Statistic: -9.880149\n",
      "p-value: 0.000000\n"
     ]
    }
   ],
   "source": [
    "from statsmodels.tsa.stattools import adfuller\n",
    " \n",
    "# extracting only the passengers count using values function\n",
    "values = std_df['d52_TEMP']\n",
    " \n",
    "# passing the extracted passengers count to adfuller function.\n",
    "# result of adfuller function is stored in a res variable\n",
    "res = adfuller(values)\n",
    " \n",
    "# Printing the statistical result of the adfuller test\n",
    "print('Augmneted Dickey_fuller Statistic: %f' % res[0])\n",
    "print('p-value: %f' % res[1])"
   ]
  },
  {
   "cell_type": "code",
   "execution_count": null,
   "id": "3843edf4-6836-4ae4-8606-1457e2d7aaa7",
   "metadata": {},
   "outputs": [],
   "source": []
  },
  {
   "cell_type": "markdown",
   "id": "89885432-b517-41d8-8770-55e02d0d481b",
   "metadata": {},
   "source": [
    "# weekly data over 5 years"
   ]
  },
  {
   "cell_type": "code",
   "execution_count": 53,
   "id": "c6dd8779-7298-482e-9ccb-4a7e3bd65ef4",
   "metadata": {},
   "outputs": [],
   "source": [
    "df = pd.read_csv('/Users/tim/PycharmProjects/HOI/examples/PRSA_data_2010.1.1-2014.12.31.csv')"
   ]
  },
  {
   "cell_type": "code",
   "execution_count": 54,
   "id": "e7ce93c3-044f-4643-aed0-7cfd1fe37373",
   "metadata": {},
   "outputs": [
    {
     "data": {
      "text/plain": [
       "(43800, 13)"
      ]
     },
     "execution_count": 54,
     "metadata": {},
     "output_type": "execute_result"
    }
   ],
   "source": [
    "df.shape"
   ]
  },
  {
   "cell_type": "code",
   "execution_count": 55,
   "id": "62ee9617-9779-421c-b83e-868665a4245a",
   "metadata": {},
   "outputs": [],
   "source": [
    "df_var = df.drop(['No', 'year', 'month', 'day', 'hour','cbwd', 'Iws', 'Is', 'Ir'], axis=1)"
   ]
  },
  {
   "cell_type": "code",
   "execution_count": 56,
   "id": "d96c2121-c77d-4480-9aef-a2ad6a2a92b8",
   "metadata": {},
   "outputs": [
    {
     "data": {
      "text/html": [
       "<div>\n",
       "<style scoped>\n",
       "    .dataframe tbody tr th:only-of-type {\n",
       "        vertical-align: middle;\n",
       "    }\n",
       "\n",
       "    .dataframe tbody tr th {\n",
       "        vertical-align: top;\n",
       "    }\n",
       "\n",
       "    .dataframe thead th {\n",
       "        text-align: right;\n",
       "    }\n",
       "</style>\n",
       "<table border=\"1\" class=\"dataframe\">\n",
       "  <thead>\n",
       "    <tr style=\"text-align: right;\">\n",
       "      <th></th>\n",
       "      <th>pm2.5</th>\n",
       "      <th>DEWP</th>\n",
       "      <th>TEMP</th>\n",
       "      <th>PRES</th>\n",
       "    </tr>\n",
       "  </thead>\n",
       "  <tbody>\n",
       "    <tr>\n",
       "      <th>0</th>\n",
       "      <td>NaN</td>\n",
       "      <td>-21</td>\n",
       "      <td>-11.0</td>\n",
       "      <td>1021.0</td>\n",
       "    </tr>\n",
       "    <tr>\n",
       "      <th>1</th>\n",
       "      <td>NaN</td>\n",
       "      <td>-21</td>\n",
       "      <td>-12.0</td>\n",
       "      <td>1020.0</td>\n",
       "    </tr>\n",
       "    <tr>\n",
       "      <th>2</th>\n",
       "      <td>NaN</td>\n",
       "      <td>-21</td>\n",
       "      <td>-11.0</td>\n",
       "      <td>1019.0</td>\n",
       "    </tr>\n",
       "    <tr>\n",
       "      <th>3</th>\n",
       "      <td>NaN</td>\n",
       "      <td>-21</td>\n",
       "      <td>-14.0</td>\n",
       "      <td>1019.0</td>\n",
       "    </tr>\n",
       "    <tr>\n",
       "      <th>4</th>\n",
       "      <td>NaN</td>\n",
       "      <td>-20</td>\n",
       "      <td>-12.0</td>\n",
       "      <td>1018.0</td>\n",
       "    </tr>\n",
       "    <tr>\n",
       "      <th>...</th>\n",
       "      <td>...</td>\n",
       "      <td>...</td>\n",
       "      <td>...</td>\n",
       "      <td>...</td>\n",
       "    </tr>\n",
       "    <tr>\n",
       "      <th>43795</th>\n",
       "      <td>8.0</td>\n",
       "      <td>-23</td>\n",
       "      <td>-2.0</td>\n",
       "      <td>1034.0</td>\n",
       "    </tr>\n",
       "    <tr>\n",
       "      <th>43796</th>\n",
       "      <td>10.0</td>\n",
       "      <td>-22</td>\n",
       "      <td>-3.0</td>\n",
       "      <td>1034.0</td>\n",
       "    </tr>\n",
       "    <tr>\n",
       "      <th>43797</th>\n",
       "      <td>10.0</td>\n",
       "      <td>-22</td>\n",
       "      <td>-3.0</td>\n",
       "      <td>1034.0</td>\n",
       "    </tr>\n",
       "    <tr>\n",
       "      <th>43798</th>\n",
       "      <td>8.0</td>\n",
       "      <td>-22</td>\n",
       "      <td>-4.0</td>\n",
       "      <td>1034.0</td>\n",
       "    </tr>\n",
       "    <tr>\n",
       "      <th>43799</th>\n",
       "      <td>12.0</td>\n",
       "      <td>-21</td>\n",
       "      <td>-3.0</td>\n",
       "      <td>1034.0</td>\n",
       "    </tr>\n",
       "  </tbody>\n",
       "</table>\n",
       "<p>43800 rows × 4 columns</p>\n",
       "</div>"
      ],
      "text/plain": [
       "       pm2.5  DEWP  TEMP    PRES\n",
       "0        NaN   -21 -11.0  1021.0\n",
       "1        NaN   -21 -12.0  1020.0\n",
       "2        NaN   -21 -11.0  1019.0\n",
       "3        NaN   -21 -14.0  1019.0\n",
       "4        NaN   -20 -12.0  1018.0\n",
       "...      ...   ...   ...     ...\n",
       "43795    8.0   -23  -2.0  1034.0\n",
       "43796   10.0   -22  -3.0  1034.0\n",
       "43797   10.0   -22  -3.0  1034.0\n",
       "43798    8.0   -22  -4.0  1034.0\n",
       "43799   12.0   -21  -3.0  1034.0\n",
       "\n",
       "[43800 rows x 4 columns]"
      ]
     },
     "execution_count": 56,
     "metadata": {},
     "output_type": "execute_result"
    }
   ],
   "source": [
    "df_var"
   ]
  },
  {
   "cell_type": "code",
   "execution_count": 58,
   "id": "5eb2433d-6201-4230-a5eb-7414c2fb55f6",
   "metadata": {},
   "outputs": [],
   "source": [
    "df_var_wk = df_var.groupby(df_var.index // (7*24)).mean()"
   ]
  },
  {
   "cell_type": "code",
   "execution_count": 60,
   "id": "036edb75-8c86-4e94-b58d-ef0c55f5f0db",
   "metadata": {},
   "outputs": [
    {
     "data": {
      "text/html": [
       "<div>\n",
       "<style scoped>\n",
       "    .dataframe tbody tr th:only-of-type {\n",
       "        vertical-align: middle;\n",
       "    }\n",
       "\n",
       "    .dataframe tbody tr th {\n",
       "        vertical-align: top;\n",
       "    }\n",
       "\n",
       "    .dataframe thead th {\n",
       "        text-align: right;\n",
       "    }\n",
       "</style>\n",
       "<table border=\"1\" class=\"dataframe\">\n",
       "  <thead>\n",
       "    <tr style=\"text-align: right;\">\n",
       "      <th></th>\n",
       "      <th>pm2.5</th>\n",
       "      <th>DEWP</th>\n",
       "      <th>TEMP</th>\n",
       "      <th>PRES</th>\n",
       "    </tr>\n",
       "  </thead>\n",
       "  <tbody>\n",
       "    <tr>\n",
       "      <th>0</th>\n",
       "      <td>70.666667</td>\n",
       "      <td>-18.255952</td>\n",
       "      <td>-10.202381</td>\n",
       "      <td>1027.910714</td>\n",
       "    </tr>\n",
       "    <tr>\n",
       "      <th>1</th>\n",
       "      <td>70.946429</td>\n",
       "      <td>-19.035714</td>\n",
       "      <td>-10.029762</td>\n",
       "      <td>1030.035714</td>\n",
       "    </tr>\n",
       "    <tr>\n",
       "      <th>2</th>\n",
       "      <td>163.660714</td>\n",
       "      <td>-12.630952</td>\n",
       "      <td>-4.946429</td>\n",
       "      <td>1030.386905</td>\n",
       "    </tr>\n",
       "    <tr>\n",
       "      <th>3</th>\n",
       "      <td>68.227723</td>\n",
       "      <td>-17.404762</td>\n",
       "      <td>-2.672619</td>\n",
       "      <td>1026.196429</td>\n",
       "    </tr>\n",
       "    <tr>\n",
       "      <th>4</th>\n",
       "      <td>53.410714</td>\n",
       "      <td>-17.565476</td>\n",
       "      <td>-2.083333</td>\n",
       "      <td>1025.273810</td>\n",
       "    </tr>\n",
       "    <tr>\n",
       "      <th>...</th>\n",
       "      <td>...</td>\n",
       "      <td>...</td>\n",
       "      <td>...</td>\n",
       "      <td>...</td>\n",
       "    </tr>\n",
       "    <tr>\n",
       "      <th>256</th>\n",
       "      <td>76.614458</td>\n",
       "      <td>-17.095238</td>\n",
       "      <td>-1.517857</td>\n",
       "      <td>1026.392857</td>\n",
       "    </tr>\n",
       "    <tr>\n",
       "      <th>257</th>\n",
       "      <td>84.708609</td>\n",
       "      <td>-14.166667</td>\n",
       "      <td>-1.023810</td>\n",
       "      <td>1029.714286</td>\n",
       "    </tr>\n",
       "    <tr>\n",
       "      <th>258</th>\n",
       "      <td>84.547619</td>\n",
       "      <td>-15.291667</td>\n",
       "      <td>-2.172619</td>\n",
       "      <td>1027.934524</td>\n",
       "    </tr>\n",
       "    <tr>\n",
       "      <th>259</th>\n",
       "      <td>65.421384</td>\n",
       "      <td>-14.398810</td>\n",
       "      <td>-0.863095</td>\n",
       "      <td>1028.321429</td>\n",
       "    </tr>\n",
       "    <tr>\n",
       "      <th>260</th>\n",
       "      <td>130.233333</td>\n",
       "      <td>-13.700000</td>\n",
       "      <td>0.100000</td>\n",
       "      <td>1022.558333</td>\n",
       "    </tr>\n",
       "  </tbody>\n",
       "</table>\n",
       "<p>261 rows × 4 columns</p>\n",
       "</div>"
      ],
      "text/plain": [
       "          pm2.5       DEWP       TEMP         PRES\n",
       "0     70.666667 -18.255952 -10.202381  1027.910714\n",
       "1     70.946429 -19.035714 -10.029762  1030.035714\n",
       "2    163.660714 -12.630952  -4.946429  1030.386905\n",
       "3     68.227723 -17.404762  -2.672619  1026.196429\n",
       "4     53.410714 -17.565476  -2.083333  1025.273810\n",
       "..          ...        ...        ...          ...\n",
       "256   76.614458 -17.095238  -1.517857  1026.392857\n",
       "257   84.708609 -14.166667  -1.023810  1029.714286\n",
       "258   84.547619 -15.291667  -2.172619  1027.934524\n",
       "259   65.421384 -14.398810  -0.863095  1028.321429\n",
       "260  130.233333 -13.700000   0.100000  1022.558333\n",
       "\n",
       "[261 rows x 4 columns]"
      ]
     },
     "execution_count": 60,
     "metadata": {},
     "output_type": "execute_result"
    }
   ],
   "source": [
    "df_var_wk"
   ]
  },
  {
   "cell_type": "code",
   "execution_count": 63,
   "id": "285d98c1-75f8-4ba3-8730-641ba30d6cc6",
   "metadata": {},
   "outputs": [],
   "source": [
    "df_var_wk['d52_pm2.5'] = df_var_wk['pm2.5'].diff(periods=52)\n",
    "df_var_wk['d52_DEWP'] = df_var_wk['DEWP'].diff(periods=52)\n",
    "df_var_wk['d52_TEMP'] = df_var_wk['TEMP'].diff(periods=52)\n",
    "df_var_wk['d52_PRES'] = df_var_wk['PRES'].diff(periods=52)"
   ]
  },
  {
   "cell_type": "code",
   "execution_count": 70,
   "id": "9ac03db6-a42e-49f2-9026-0c609aaf7889",
   "metadata": {},
   "outputs": [],
   "source": [
    "df_var_wk['d1_d52_pm2.5'] = df_var_wk['d52_pm2.5'].diff(periods=1)\n",
    "df_var_wk['d1_d52_DEWP'] = df_var_wk['d52_DEWP'].diff(periods=1)\n",
    "df_var_wk['d1_d52_TEMP'] = df_var_wk['d52_TEMP'].diff(periods=1)\n",
    "df_var_wk['d1_d52_PRES'] = df_var_wk['d52_PRES'].diff(periods=1)"
   ]
  },
  {
   "cell_type": "code",
   "execution_count": 62,
   "id": "4d0d9b7d-9aa5-40fb-b1f2-f507a55f580b",
   "metadata": {},
   "outputs": [
    {
     "data": {
      "text/plain": [
       "[<matplotlib.lines.Line2D at 0x7fb151857a60>]"
      ]
     },
     "execution_count": 62,
     "metadata": {},
     "output_type": "execute_result"
    },
    {
     "data": {
      "image/png": "[encoded data removed]",
      "text/plain": [
       "<Figure size 432x288 with 1 Axes>"
      ]
     },
     "metadata": {
      "needs_background": "light"
     },
     "output_type": "display_data"
    }
   ],
   "source": [
    "plt.plot(df_var_wk['DEWP'])"
   ]
  },
  {
   "cell_type": "code",
   "execution_count": 64,
   "id": "a13e4d8e-b90d-4c16-93bd-82bd62ad89cc",
   "metadata": {},
   "outputs": [
    {
     "data": {
      "text/plain": [
       "[<matplotlib.lines.Line2D at 0x7fb174e70820>]"
      ]
     },
     "execution_count": 64,
     "metadata": {},
     "output_type": "execute_result"
    },
    {
     "data": {
      "image/png": "[encoded data removed]",
      "text/plain": [
       "<Figure size 432x288 with 1 Axes>"
      ]
     },
     "metadata": {
      "needs_background": "light"
     },
     "output_type": "display_data"
    }
   ],
   "source": [
    "plt.plot(df_var_wk['d52_DEWP'])"
   ]
  },
  {
   "cell_type": "code",
   "execution_count": 71,
   "id": "a976f651-f9d1-4fc4-9627-c1632c97bd22",
   "metadata": {},
   "outputs": [
    {
     "data": {
      "text/plain": [
       "[<matplotlib.lines.Line2D at 0x7fb14a2ea8e0>]"
      ]
     },
     "execution_count": 71,
     "metadata": {},
     "output_type": "execute_result"
    },
    {
     "data": {
      "image/png": "[encoded data removed]",
      "text/plain": [
       "<Figure size 432x288 with 1 Axes>"
      ]
     },
     "metadata": {
      "needs_background": "light"
     },
     "output_type": "display_data"
    }
   ],
   "source": [
    "plt.plot(df_var_wk['d1_d52_DEWP'])"
   ]
  },
  {
   "cell_type": "code",
   "execution_count": 75,
   "id": "271b105f-e492-41b1-b252-bd5f34c4dea5",
   "metadata": {},
   "outputs": [],
   "source": [
    "df_var_wk_nan = df_var_wk[['d1_d52_pm2.5', 'd1_d52_DEWP', 'd1_d52_TEMP', 'd1_d52_PRES']]"
   ]
  },
  {
   "cell_type": "code",
   "execution_count": 79,
   "id": "84a5d0a1-49a4-46c6-b106-c2da56e9df37",
   "metadata": {},
   "outputs": [],
   "source": [
    "df_var_wk_nan = df_var_wk_nan.dropna()"
   ]
  },
  {
   "cell_type": "code",
   "execution_count": 84,
   "id": "b28108c6-b0fa-47e8-9d0e-47c175515e61",
   "metadata": {},
   "outputs": [
    {
     "data": {
      "text/html": [
       "<div>\n",
       "<style scoped>\n",
       "    .dataframe tbody tr th:only-of-type {\n",
       "        vertical-align: middle;\n",
       "    }\n",
       "\n",
       "    .dataframe tbody tr th {\n",
       "        vertical-align: top;\n",
       "    }\n",
       "\n",
       "    .dataframe thead th {\n",
       "        text-align: right;\n",
       "    }\n",
       "</style>\n",
       "<table border=\"1\" class=\"dataframe\">\n",
       "  <thead>\n",
       "    <tr style=\"text-align: right;\">\n",
       "      <th></th>\n",
       "      <th>d1_d52_pm2.5</th>\n",
       "      <th>d1_d52_DEWP</th>\n",
       "      <th>d1_d52_TEMP</th>\n",
       "      <th>d1_d52_PRES</th>\n",
       "    </tr>\n",
       "  </thead>\n",
       "  <tbody>\n",
       "    <tr>\n",
       "      <th>53</th>\n",
       "      <td>10.748016</td>\n",
       "      <td>-0.732143</td>\n",
       "      <td>0.672619</td>\n",
       "      <td>-6.994048</td>\n",
       "    </tr>\n",
       "    <tr>\n",
       "      <th>54</th>\n",
       "      <td>-134.488095</td>\n",
       "      <td>-8.827381</td>\n",
       "      <td>-7.321429</td>\n",
       "      <td>6.583333</td>\n",
       "    </tr>\n",
       "    <tr>\n",
       "      <th>55</th>\n",
       "      <td>114.444896</td>\n",
       "      <td>6.851190</td>\n",
       "      <td>-1.226190</td>\n",
       "      <td>3.428571</td>\n",
       "    </tr>\n",
       "    <tr>\n",
       "      <th>56</th>\n",
       "      <td>7.501532</td>\n",
       "      <td>0.196429</td>\n",
       "      <td>3.428571</td>\n",
       "      <td>-4.208333</td>\n",
       "    </tr>\n",
       "    <tr>\n",
       "      <th>57</th>\n",
       "      <td>29.880952</td>\n",
       "      <td>5.648810</td>\n",
       "      <td>1.726190</td>\n",
       "      <td>-10.202381</td>\n",
       "    </tr>\n",
       "    <tr>\n",
       "      <th>...</th>\n",
       "      <td>...</td>\n",
       "      <td>...</td>\n",
       "      <td>...</td>\n",
       "      <td>...</td>\n",
       "    </tr>\n",
       "    <tr>\n",
       "      <th>256</th>\n",
       "      <td>-82.971834</td>\n",
       "      <td>-16.851190</td>\n",
       "      <td>-6.297619</td>\n",
       "      <td>2.815476</td>\n",
       "    </tr>\n",
       "    <tr>\n",
       "      <th>257</th>\n",
       "      <td>-3.399896</td>\n",
       "      <td>6.130952</td>\n",
       "      <td>3.940476</td>\n",
       "      <td>3.125000</td>\n",
       "    </tr>\n",
       "    <tr>\n",
       "      <th>258</th>\n",
       "      <td>31.505174</td>\n",
       "      <td>2.023810</td>\n",
       "      <td>2.291667</td>\n",
       "      <td>-12.285714</td>\n",
       "    </tr>\n",
       "    <tr>\n",
       "      <th>259</th>\n",
       "      <td>-80.679305</td>\n",
       "      <td>-0.922619</td>\n",
       "      <td>1.130952</td>\n",
       "      <td>0.059524</td>\n",
       "    </tr>\n",
       "    <tr>\n",
       "      <th>260</th>\n",
       "      <td>134.893854</td>\n",
       "      <td>1.657143</td>\n",
       "      <td>-4.602381</td>\n",
       "      <td>8.230952</td>\n",
       "    </tr>\n",
       "  </tbody>\n",
       "</table>\n",
       "<p>208 rows × 4 columns</p>\n",
       "</div>"
      ],
      "text/plain": [
       "     d1_d52_pm2.5  d1_d52_DEWP  d1_d52_TEMP  d1_d52_PRES\n",
       "53      10.748016    -0.732143     0.672619    -6.994048\n",
       "54    -134.488095    -8.827381    -7.321429     6.583333\n",
       "55     114.444896     6.851190    -1.226190     3.428571\n",
       "56       7.501532     0.196429     3.428571    -4.208333\n",
       "57      29.880952     5.648810     1.726190   -10.202381\n",
       "..            ...          ...          ...          ...\n",
       "256    -82.971834   -16.851190    -6.297619     2.815476\n",
       "257     -3.399896     6.130952     3.940476     3.125000\n",
       "258     31.505174     2.023810     2.291667   -12.285714\n",
       "259    -80.679305    -0.922619     1.130952     0.059524\n",
       "260    134.893854     1.657143    -4.602381     8.230952\n",
       "\n",
       "[208 rows x 4 columns]"
      ]
     },
     "execution_count": 84,
     "metadata": {},
     "output_type": "execute_result"
    }
   ],
   "source": [
    "df_var_wk_nan"
   ]
  },
  {
   "cell_type": "code",
   "execution_count": 86,
   "id": "bf10787d-3494-494e-b0d4-34f801148aec",
   "metadata": {},
   "outputs": [],
   "source": [
    "std_df = df_var_wk_nan.apply(lambda iterator: (iterator - iterator.mean())/iterator.std())"
   ]
  },
  {
   "cell_type": "code",
   "execution_count": 87,
   "id": "7ff434c2-184d-4cdf-9050-04ddae4e6cd4",
   "metadata": {},
   "outputs": [
    {
     "data": {
      "text/html": [
       "<div>\n",
       "<style scoped>\n",
       "    .dataframe tbody tr th:only-of-type {\n",
       "        vertical-align: middle;\n",
       "    }\n",
       "\n",
       "    .dataframe tbody tr th {\n",
       "        vertical-align: top;\n",
       "    }\n",
       "\n",
       "    .dataframe thead th {\n",
       "        text-align: right;\n",
       "    }\n",
       "</style>\n",
       "<table border=\"1\" class=\"dataframe\">\n",
       "  <thead>\n",
       "    <tr style=\"text-align: right;\">\n",
       "      <th></th>\n",
       "      <th>d1_d52_pm2.5</th>\n",
       "      <th>d1_d52_DEWP</th>\n",
       "      <th>d1_d52_TEMP</th>\n",
       "      <th>d1_d52_PRES</th>\n",
       "    </tr>\n",
       "  </thead>\n",
       "  <tbody>\n",
       "    <tr>\n",
       "      <th>53</th>\n",
       "      <td>0.126368</td>\n",
       "      <td>-0.128097</td>\n",
       "      <td>0.235090</td>\n",
       "      <td>-1.367928</td>\n",
       "    </tr>\n",
       "    <tr>\n",
       "      <th>54</th>\n",
       "      <td>-1.642441</td>\n",
       "      <td>-1.505449</td>\n",
       "      <td>-2.424497</td>\n",
       "      <td>1.288221</td>\n",
       "    </tr>\n",
       "    <tr>\n",
       "      <th>55</th>\n",
       "      <td>1.389277</td>\n",
       "      <td>1.162159</td>\n",
       "      <td>-0.396636</td>\n",
       "      <td>0.671053</td>\n",
       "    </tr>\n",
       "    <tr>\n",
       "      <th>56</th>\n",
       "      <td>0.086830</td>\n",
       "      <td>0.029894</td>\n",
       "      <td>1.151985</td>\n",
       "      <td>-0.822958</td>\n",
       "    </tr>\n",
       "    <tr>\n",
       "      <th>57</th>\n",
       "      <td>0.359385</td>\n",
       "      <td>0.957581</td>\n",
       "      <td>0.585609</td>\n",
       "      <td>-1.995576</td>\n",
       "    </tr>\n",
       "    <tr>\n",
       "      <th>...</th>\n",
       "      <td>...</td>\n",
       "      <td>...</td>\n",
       "      <td>...</td>\n",
       "      <td>...</td>\n",
       "    </tr>\n",
       "    <tr>\n",
       "      <th>256</th>\n",
       "      <td>-1.015032</td>\n",
       "      <td>-2.870648</td>\n",
       "      <td>-2.083880</td>\n",
       "      <td>0.551113</td>\n",
       "    </tr>\n",
       "    <tr>\n",
       "      <th>257</th>\n",
       "      <td>-0.045937</td>\n",
       "      <td>1.039615</td>\n",
       "      <td>1.322293</td>\n",
       "      <td>0.611665</td>\n",
       "    </tr>\n",
       "    <tr>\n",
       "      <th>258</th>\n",
       "      <td>0.379167</td>\n",
       "      <td>0.340811</td>\n",
       "      <td>0.773741</td>\n",
       "      <td>-2.403140</td>\n",
       "    </tr>\n",
       "    <tr>\n",
       "      <th>259</th>\n",
       "      <td>-0.987112</td>\n",
       "      <td>-0.160505</td>\n",
       "      <td>0.387576</td>\n",
       "      <td>0.011965</td>\n",
       "    </tr>\n",
       "    <tr>\n",
       "      <th>260</th>\n",
       "      <td>1.638322</td>\n",
       "      <td>0.278425</td>\n",
       "      <td>-1.519881</td>\n",
       "      <td>1.610545</td>\n",
       "    </tr>\n",
       "  </tbody>\n",
       "</table>\n",
       "<p>208 rows × 4 columns</p>\n",
       "</div>"
      ],
      "text/plain": [
       "     d1_d52_pm2.5  d1_d52_DEWP  d1_d52_TEMP  d1_d52_PRES\n",
       "53       0.126368    -0.128097     0.235090    -1.367928\n",
       "54      -1.642441    -1.505449    -2.424497     1.288221\n",
       "55       1.389277     1.162159    -0.396636     0.671053\n",
       "56       0.086830     0.029894     1.151985    -0.822958\n",
       "57       0.359385     0.957581     0.585609    -1.995576\n",
       "..            ...          ...          ...          ...\n",
       "256     -1.015032    -2.870648    -2.083880     0.551113\n",
       "257     -0.045937     1.039615     1.322293     0.611665\n",
       "258      0.379167     0.340811     0.773741    -2.403140\n",
       "259     -0.987112    -0.160505     0.387576     0.011965\n",
       "260      1.638322     0.278425    -1.519881     1.610545\n",
       "\n",
       "[208 rows x 4 columns]"
      ]
     },
     "execution_count": 87,
     "metadata": {},
     "output_type": "execute_result"
    }
   ],
   "source": [
    "std_df"
   ]
  },
  {
   "cell_type": "code",
   "execution_count": 88,
   "id": "b579e5e3-73ef-4224-9351-a83e4edd5c1b",
   "metadata": {},
   "outputs": [],
   "source": [
    "data_dict, kernel_dict = compute_kernel(std_df)"
   ]
  },
  {
   "cell_type": "code",
   "execution_count": 89,
   "id": "f7351ee4-c328-44b6-9e96-8aebff35a246",
   "metadata": {},
   "outputs": [],
   "source": [
    "power_set_k = find_comb([kernel_dict['d1_d52_pm2.5'], kernel_dict['d1_d52_DEWP'], kernel_dict['d1_d52_TEMP'], kernel_dict['d1_d52_PRES']])"
   ]
  },
  {
   "cell_type": "code",
   "execution_count": 90,
   "id": "12125330-5551-4bec-b03c-81592c370c5a",
   "metadata": {},
   "outputs": [],
   "source": [
    "power_set_d = find_comb([data_dict['d1_d52_pm2.5'], data_dict['d1_d52_DEWP'], data_dict['d1_d52_TEMP'], data_dict['d1_d52_PRES']])"
   ]
  },
  {
   "cell_type": "code",
   "execution_count": 91,
   "id": "077ed9de-3d49-430b-97b3-d509c6f0e102",
   "metadata": {
    "tags": []
   },
   "outputs": [],
   "source": [
    "power_set_name = find_comb(['pm2.5', 'DEWP', 'TEMP', 'PRES'])"
   ]
  },
  {
   "cell_type": "code",
   "execution_count": 94,
   "id": "73169e6f-a0d5-4b4b-a89c-f79b2f031973",
   "metadata": {
    "tags": []
   },
   "outputs": [
    {
     "data": {
      "application/vnd.jupyter.widget-view+json": {
       "model_id": "cd1606f93b1647dbaa8aa50e288a2dce",
       "version_major": 2,
       "version_minor": 0
      },
      "text/plain": [
       "  0%|          | 0/11 [00:00<?, ?it/s]"
      ]
     },
     "metadata": {},
     "output_type": "display_data"
    },
    {
     "data": {
      "application/vnd.jupyter.widget-view+json": {
       "model_id": "1cb9910bd80f406f9ca53aee956274d2",
       "version_major": 2,
       "version_minor": 0
      },
      "text/plain": [
       "  0%|          | 0/10 [00:00<?, ?it/s]"
      ]
     },
     "metadata": {},
     "output_type": "display_data"
    },
    {
     "name": "stdout",
     "output_type": "stream",
     "text": [
      "{\"['pm2.5', 'DEWP']\": 10}\n"
     ]
    },
    {
     "data": {
      "application/vnd.jupyter.widget-view+json": {
       "model_id": "dfe2ca9daf7244ce88598f5593c4a592",
       "version_major": 2,
       "version_minor": 0
      },
      "text/plain": [
       "  0%|          | 0/10 [00:00<?, ?it/s]"
      ]
     },
     "metadata": {},
     "output_type": "display_data"
    },
    {
     "name": "stdout",
     "output_type": "stream",
     "text": [
      "{\"['pm2.5', 'DEWP']\": 10, \"['pm2.5', 'TEMP']\": 10}\n"
     ]
    },
    {
     "data": {
      "application/vnd.jupyter.widget-view+json": {
       "model_id": "3a6a3d642d924e81b7ea1cf4c613110f",
       "version_major": 2,
       "version_minor": 0
      },
      "text/plain": [
       "  0%|          | 0/10 [00:00<?, ?it/s]"
      ]
     },
     "metadata": {},
     "output_type": "display_data"
    },
    {
     "name": "stdout",
     "output_type": "stream",
     "text": [
      "{\"['pm2.5', 'DEWP']\": 10, \"['pm2.5', 'TEMP']\": 10, \"['pm2.5', 'PRES']\": 1}\n"
     ]
    },
    {
     "data": {
      "application/vnd.jupyter.widget-view+json": {
       "model_id": "b089b9d27a2e415888c1173a2a2a34a8",
       "version_major": 2,
       "version_minor": 0
      },
      "text/plain": [
       "  0%|          | 0/10 [00:00<?, ?it/s]"
      ]
     },
     "metadata": {},
     "output_type": "display_data"
    },
    {
     "name": "stdout",
     "output_type": "stream",
     "text": [
      "{\"['pm2.5', 'DEWP']\": 10, \"['pm2.5', 'TEMP']\": 10, \"['pm2.5', 'PRES']\": 1, \"['DEWP', 'TEMP']\": 10}\n"
     ]
    },
    {
     "data": {
      "application/vnd.jupyter.widget-view+json": {
       "model_id": "d01705ae3ac14f19927818bf00bc5e31",
       "version_major": 2,
       "version_minor": 0
      },
      "text/plain": [
       "  0%|          | 0/10 [00:00<?, ?it/s]"
      ]
     },
     "metadata": {},
     "output_type": "display_data"
    },
    {
     "name": "stdout",
     "output_type": "stream",
     "text": [
      "{\"['pm2.5', 'DEWP']\": 10, \"['pm2.5', 'TEMP']\": 10, \"['pm2.5', 'PRES']\": 1, \"['DEWP', 'TEMP']\": 10, \"['DEWP', 'PRES']\": 10}\n"
     ]
    },
    {
     "data": {
      "application/vnd.jupyter.widget-view+json": {
       "model_id": "182d7eedeb7a4eb5a26422a730d2d9aa",
       "version_major": 2,
       "version_minor": 0
      },
      "text/plain": [
       "  0%|          | 0/10 [00:00<?, ?it/s]"
      ]
     },
     "metadata": {},
     "output_type": "display_data"
    },
    {
     "name": "stdout",
     "output_type": "stream",
     "text": [
      "{\"['pm2.5', 'DEWP']\": 10, \"['pm2.5', 'TEMP']\": 10, \"['pm2.5', 'PRES']\": 1, \"['DEWP', 'TEMP']\": 10, \"['DEWP', 'PRES']\": 10, \"['TEMP', 'PRES']\": 10}\n"
     ]
    },
    {
     "data": {
      "application/vnd.jupyter.widget-view+json": {
       "model_id": "63ac89c6d3974119a34ecbb974e45217",
       "version_major": 2,
       "version_minor": 0
      },
      "text/plain": [
       "  0%|          | 0/10 [00:00<?, ?it/s]"
      ]
     },
     "metadata": {},
     "output_type": "display_data"
    },
    {
     "name": "stdout",
     "output_type": "stream",
     "text": [
      "{\"['pm2.5', 'DEWP']\": 10, \"['pm2.5', 'TEMP']\": 10, \"['pm2.5', 'PRES']\": 1, \"['DEWP', 'TEMP']\": 10, \"['DEWP', 'PRES']\": 10, \"['TEMP', 'PRES']\": 10, \"['pm2.5', 'DEWP', 'TEMP']\": 10}\n"
     ]
    },
    {
     "data": {
      "application/vnd.jupyter.widget-view+json": {
       "model_id": "c363c298e4b2474484f3b00c5b043907",
       "version_major": 2,
       "version_minor": 0
      },
      "text/plain": [
       "  0%|          | 0/10 [00:00<?, ?it/s]"
      ]
     },
     "metadata": {},
     "output_type": "display_data"
    },
    {
     "name": "stdout",
     "output_type": "stream",
     "text": [
      "{\"['pm2.5', 'DEWP']\": 10, \"['pm2.5', 'TEMP']\": 10, \"['pm2.5', 'PRES']\": 1, \"['DEWP', 'TEMP']\": 10, \"['DEWP', 'PRES']\": 10, \"['TEMP', 'PRES']\": 10, \"['pm2.5', 'DEWP', 'TEMP']\": 10, \"['pm2.5', 'DEWP', 'PRES']\": 10}\n"
     ]
    },
    {
     "data": {
      "application/vnd.jupyter.widget-view+json": {
       "model_id": "14b61dd647dd4e97981abf9749e4897c",
       "version_major": 2,
       "version_minor": 0
      },
      "text/plain": [
       "  0%|          | 0/10 [00:00<?, ?it/s]"
      ]
     },
     "metadata": {},
     "output_type": "display_data"
    },
    {
     "name": "stdout",
     "output_type": "stream",
     "text": [
      "{\"['pm2.5', 'DEWP']\": 10, \"['pm2.5', 'TEMP']\": 10, \"['pm2.5', 'PRES']\": 1, \"['DEWP', 'TEMP']\": 10, \"['DEWP', 'PRES']\": 10, \"['TEMP', 'PRES']\": 10, \"['pm2.5', 'DEWP', 'TEMP']\": 10, \"['pm2.5', 'DEWP', 'PRES']\": 10, \"['pm2.5', 'TEMP', 'PRES']\": 10}\n"
     ]
    },
    {
     "data": {
      "application/vnd.jupyter.widget-view+json": {
       "model_id": "451b5d3df88748e885540632955fc267",
       "version_major": 2,
       "version_minor": 0
      },
      "text/plain": [
       "  0%|          | 0/10 [00:00<?, ?it/s]"
      ]
     },
     "metadata": {},
     "output_type": "display_data"
    },
    {
     "name": "stdout",
     "output_type": "stream",
     "text": [
      "{\"['pm2.5', 'DEWP']\": 10, \"['pm2.5', 'TEMP']\": 10, \"['pm2.5', 'PRES']\": 1, \"['DEWP', 'TEMP']\": 10, \"['DEWP', 'PRES']\": 10, \"['TEMP', 'PRES']\": 10, \"['pm2.5', 'DEWP', 'TEMP']\": 10, \"['pm2.5', 'DEWP', 'PRES']\": 10, \"['pm2.5', 'TEMP', 'PRES']\": 10, \"['DEWP', 'TEMP', 'PRES']\": 10}\n"
     ]
    },
    {
     "data": {
      "application/vnd.jupyter.widget-view+json": {
       "model_id": "6174d80d37284432b6ff4de382699444",
       "version_major": 2,
       "version_minor": 0
      },
      "text/plain": [
       "  0%|          | 0/10 [00:00<?, ?it/s]"
      ]
     },
     "metadata": {},
     "output_type": "display_data"
    },
    {
     "name": "stdout",
     "output_type": "stream",
     "text": [
      "{\"['pm2.5', 'DEWP']\": 10, \"['pm2.5', 'TEMP']\": 10, \"['pm2.5', 'PRES']\": 1, \"['DEWP', 'TEMP']\": 10, \"['DEWP', 'PRES']\": 10, \"['TEMP', 'PRES']\": 10, \"['pm2.5', 'DEWP', 'TEMP']\": 10, \"['pm2.5', 'DEWP', 'PRES']\": 10, \"['pm2.5', 'TEMP', 'PRES']\": 10, \"['DEWP', 'TEMP', 'PRES']\": 10, \"['pm2.5', 'DEWP', 'TEMP', 'PRES']\": 10}\n"
     ]
    }
   ],
   "source": [
    "power = {}\n",
    "for (name, klist, dlist) in tqdm(zip(power_set_name, power_set_k, power_set_d), total=len(power_set_k)):\n",
    "    rejects = 0\n",
    "    for i in tqdm(range(10)):\n",
    "        _, _, _, reject = test_independence(klist, dlist, n_perms=1000, alpha=0.05, mode = 'shifting')\n",
    "        rejects = rejects + reject\n",
    "    power[str(name)] = rejects\n",
    "    print(power)"
   ]
  },
  {
   "cell_type": "code",
   "execution_count": null,
   "id": "e102ce00-d840-47af-a1ea-6c0d847da612",
   "metadata": {},
   "outputs": [],
   "source": []
  }
 ],
 "metadata": {
  "kernelspec": {
   "display_name": "Python 3 (ipykernel)",
   "language": "python",
   "name": "python3"
  },
  "language_info": {
   "codemirror_mode": {
    "name": "ipython",
    "version": 3
   },
   "file_extension": ".py",
   "mimetype": "text/x-python",
   "name": "python",
   "nbconvert_exporter": "python",
   "pygments_lexer": "ipython3",
   "version": "3.9.12"
  }
 },
 "nbformat": 4,
 "nbformat_minor": 5
}

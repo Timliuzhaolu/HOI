{
 "cells": [
  {
   "cell_type": "code",
   "execution_count": 2,
   "id": "4b6fff20-c613-4b87-bd76-5e39a78f02a2",
   "metadata": {},
   "outputs": [],
   "source": [
    "%load_ext autoreload\n",
    "%autoreload 2"
   ]
  },
  {
   "cell_type": "code",
   "execution_count": 3,
   "id": "0884df41-a15a-46c7-86ff-1b647ab24abb",
   "metadata": {},
   "outputs": [],
   "source": [
    "import sys\n",
    "sys.path.append('/Users/Tim/PycharmProjects/HOI/')"
   ]
  },
  {
   "cell_type": "code",
   "execution_count": 4,
   "id": "bddcdb6b-f8f3-4dba-869e-e046b299f4f3",
   "metadata": {},
   "outputs": [
    {
     "data": {
      "text/plain": [
       "['/Users/tim/PycharmProjects/HOI/examples',\n",
       " '/Users/tim/opt/anaconda3/lib/python39.zip',\n",
       " '/Users/tim/opt/anaconda3/lib/python3.9',\n",
       " '/Users/tim/opt/anaconda3/lib/python3.9/lib-dynload',\n",
       " '',\n",
       " '/Users/tim/opt/anaconda3/lib/python3.9/site-packages',\n",
       " '/Users/tim/opt/anaconda3/lib/python3.9/site-packages/aeosa',\n",
       " '/Users/Tim/PycharmProjects/HOI/']"
      ]
     },
     "execution_count": 4,
     "metadata": {},
     "output_type": "execute_result"
    }
   ],
   "source": [
    "import sys\n",
    "sys.path"
   ]
  },
  {
   "cell_type": "code",
   "execution_count": 5,
   "id": "6c119b8e-a297-4533-a1ea-2a08ca350a9d",
   "metadata": {},
   "outputs": [],
   "source": [
    "import pandas as pd\n",
    "import numpy as np\n",
    "from tqdm.notebook import tqdm\n",
    "from ipywidgets import IntProgress"
   ]
  },
  {
   "cell_type": "code",
   "execution_count": 6,
   "id": "36959aad-371f-4241-ada9-bbcce3840518",
   "metadata": {},
   "outputs": [],
   "source": [
    "from synthetic_data import stationary_pb_ts, nonstationary_ts_n, stationary_pb_ts_n\n",
    "from HOI.preprocessings import compute_kernel, compute_kernel_n\n",
    "from HOI.tests import test_independence"
   ]
  },
  {
   "cell_type": "markdown",
   "id": "df774cbb-f4bf-4d53-a594-7a087f1b1036",
   "metadata": {
    "tags": []
   },
   "source": [
    "## case2, z = x+y+w"
   ]
  },
  {
   "cell_type": "code",
   "execution_count": 46,
   "id": "8ad6b376-3b41-4114-babd-edba1fbfa924",
   "metadata": {},
   "outputs": [
    {
     "name": "stdout",
     "output_type": "stream",
     "text": [
      "1 1 0\n",
      "1 1 1\n",
      "1 1 1\n",
      "1 1 1\n",
      "1 1 1\n",
      "1 1 0\n",
      "0 0 0\n",
      "1 1 1\n",
      "1 1 0\n",
      "1 1 1\n",
      "0 1 0\n",
      "1 1 0\n",
      "1 1 0\n",
      "1 1 0\n",
      "1 1 1\n",
      "1 1 1\n",
      "1 1 1\n",
      "1 1 1\n",
      "1 1 1\n",
      "1 1 1\n"
     ]
    }
   ],
   "source": [
    "for n in range(20):\n",
    "    d1, d2, d3, d4 = nonstationary_ts_n(n_sample=100, t_time=10, d=0.2, mode='case2', a=0.5, order=4)\n",
    "    kd1 = compute_kernel_n(d1)\n",
    "    kd2 = compute_kernel_n(d2)\n",
    "    kd3 = compute_kernel_n(d3)\n",
    "    kd4 = compute_kernel_n(d4)\n",
    "    _, _, reject = test_independence([kd1, kd2, kd3, kd4],None,\n",
    "                                              mode = 'iid', n_perms=5000, alpha=0.05)\n",
    "\n",
    "    _, _, reject1 = test_independence([kd1, kd2, kd4], None,\n",
    "                                          mode = 'iid', n_perms=5000, alpha=0.05)\n",
    "\n",
    "    _, _, reject2 = test_independence([kd2, kd4],None,\n",
    "                                      mode = 'iid', n_perms=5000, alpha=0.05)\n",
    "    print(reject, reject1, reject2)"
   ]
  },
  {
   "cell_type": "markdown",
   "id": "f748ba2c-0d78-482a-b316-64a8c38dcbb4",
   "metadata": {
    "tags": []
   },
   "source": [
    "# case1, z = xyw"
   ]
  },
  {
   "cell_type": "code",
   "execution_count": 59,
   "id": "229c0e86-51f2-4b11-b632-55b4a91569b6",
   "metadata": {
    "tags": []
   },
   "outputs": [
    {
     "name": "stdout",
     "output_type": "stream",
     "text": [
      "0\n",
      "0\n",
      "0\n",
      "0\n",
      "0\n",
      "0\n",
      "0\n",
      "0\n",
      "0\n",
      "0\n",
      "0\n",
      "0\n",
      "0\n",
      "0\n",
      "0\n",
      "0\n",
      "0\n",
      "0\n",
      "0\n",
      "0\n",
      "0\n",
      "0\n",
      "0\n",
      "0\n",
      "0\n",
      "0\n",
      "0\n",
      "0\n",
      "0\n",
      "0\n"
     ]
    }
   ],
   "source": [
    "for n in range(30):\n",
    "    d1, d2, d3, d4 = nonstationary_ts_n(n_sample=100, t_time=80, d=800, mode='case1', a=0.5, order=4)\n",
    "    kd1 = compute_kernel_n(d1)\n",
    "    kd2 = compute_kernel_n(d2)\n",
    "    kd3 = compute_kernel_n(d3)\n",
    "    kd4 = compute_kernel_n(d4)\n",
    "    _, _, reject = test_independence([kd1, kd2, kd3, kd4],None,\n",
    "                                              mode = 'iid', n_perms=1000, alpha=0.05)\n",
    "\n",
    "#     _, _, reject1 = test_independence([kd1, kd2, kd4], None,\n",
    "#                                           mode = 'iid', n_perms=2000, alpha=0.05)\n",
    "\n",
    "#     _, _, reject2 = test_independence([kd1, kd4],None,\n",
    "#                                       mode = 'iid', n_perms=2000, alpha=0.05)\n",
    "\n",
    "    print(reject)"
   ]
  },
  {
   "cell_type": "code",
   "execution_count": null,
   "id": "fd709dd1-f5e7-4805-9e3e-2202378fc6d8",
   "metadata": {},
   "outputs": [],
   "source": []
  },
  {
   "cell_type": "code",
   "execution_count": null,
   "id": "9a339ab4-9405-46ae-9809-1cd25a9d56ce",
   "metadata": {},
   "outputs": [],
   "source": []
  },
  {
   "cell_type": "markdown",
   "id": "788c466b-f4c0-4247-a29c-c67ee0cd0f71",
   "metadata": {},
   "source": [
    "## case 3, no edges"
   ]
  },
  {
   "cell_type": "code",
   "execution_count": 52,
   "id": "32e0ef95-9136-49da-a7cf-e37f559ee83c",
   "metadata": {
    "tags": []
   },
   "outputs": [
    {
     "name": "stdout",
     "output_type": "stream",
     "text": [
      "0 0 0\n",
      "0 0 0\n",
      "1 0 0\n",
      "0 0 0\n",
      "0 0 0\n",
      "0 0 0\n",
      "0 0 0\n",
      "0 0 0\n",
      "0 0 0\n",
      "0 0 0\n",
      "0 0 0\n",
      "0 0 0\n",
      "0 0 0\n",
      "0 0 0\n",
      "0 0 0\n",
      "0 0 0\n",
      "1 0 0\n",
      "0 0 0\n",
      "0 0 0\n",
      "0 0 0\n",
      "0 0 0\n",
      "0 0 0\n",
      "0 1 0\n",
      "0 0 0\n",
      "0 0 0\n",
      "0 0 0\n",
      "0 0 0\n",
      "0 0 0\n",
      "0 0 0\n",
      "0 0 0\n"
     ]
    }
   ],
   "source": [
    "for n in range(30):\n",
    "    d1, d2, d3, d4 = nonstationary_ts_n(n_sample=100, t_time=10, d=0.9, mode='case3', a=0.9, order=4)\n",
    "    kd1 = compute_kernel_n(d1)\n",
    "    kd2 = compute_kernel_n(d2)\n",
    "    kd3 = compute_kernel_n(d3)\n",
    "    kd4 = compute_kernel_n(d4)\n",
    "    _, _, reject = test_independence([kd1, kd2, kd3, kd4],None,\n",
    "                                              mode = 'iid', n_perms=5000, alpha=0.05)\n",
    "\n",
    "    _, _, reject1 = test_independence([kd1, kd2, kd3], None,\n",
    "                                          mode = 'iid', n_perms=5000, alpha=0.05)\n",
    "\n",
    "    _, _, reject2 = test_independence([kd1, kd3],None,\n",
    "                                      mode = 'iid', n_perms=5000, alpha=0.05)\n",
    "\n",
    "    print(reject, reject1, reject2)"
   ]
  },
  {
   "cell_type": "code",
   "execution_count": null,
   "id": "ff910539-d7d7-4db5-a4a2-0a1daa11453c",
   "metadata": {},
   "outputs": [],
   "source": []
  }
 ],
 "metadata": {
  "kernelspec": {
   "display_name": "Python 3 (ipykernel)",
   "language": "python",
   "name": "python3"
  },
  "language_info": {
   "codemirror_mode": {
    "name": "ipython",
    "version": 3
   },
   "file_extension": ".py",
   "mimetype": "text/x-python",
   "name": "python",
   "nbconvert_exporter": "python",
   "pygments_lexer": "ipython3",
   "version": "3.9.12"
  }
 },
 "nbformat": 4,
 "nbformat_minor": 5
}

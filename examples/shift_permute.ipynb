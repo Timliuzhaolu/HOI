{
 "cells": [
  {
   "cell_type": "code",
   "execution_count": 10,
   "id": "9e768b5b-b11f-4d98-8c3b-157fefad9fa9",
   "metadata": {},
   "outputs": [
    {
     "name": "stdout",
     "output_type": "stream",
     "text": [
      "The autoreload extension is already loaded. To reload it, use:\n",
      "  %reload_ext autoreload\n"
     ]
    }
   ],
   "source": [
    "%load_ext autoreload\n",
    "%autoreload 2"
   ]
  },
  {
   "cell_type": "code",
   "execution_count": 11,
   "id": "b120dbc6-fb15-47f1-84cb-c68dac005928",
   "metadata": {},
   "outputs": [],
   "source": [
    "import sys\n",
    "sys.path.append('/Users/Tim/PycharmProjects/HOI/')"
   ]
  },
  {
   "cell_type": "code",
   "execution_count": 12,
   "id": "c488a1ee-b593-4cf9-8c7d-61778fd62afb",
   "metadata": {},
   "outputs": [],
   "source": [
    "import pandas as pd\n",
    "import numpy as np\n",
    "from tqdm.notebook import tqdm\n",
    "from ipywidgets import IntProgress\n",
    "import itertools\n",
    "\n",
    "import matplotlib.pyplot as plt\n",
    "from numpy import sign, sin, cos, pi\n",
    "from numpy.random import normal, randn"
   ]
  },
  {
   "cell_type": "code",
   "execution_count": 13,
   "id": "dee69a95-aa1b-4bc2-be02-ddc300532544",
   "metadata": {},
   "outputs": [],
   "source": [
    "from synthetic_data import stationary_pb_ts, nonstationary_ts_n, nonstat_egs\n",
    "from HOI.preprocessings import compute_kernel, compute_kernel_n\n",
    "from HOI.tests import test_independence\n",
    "from HOI.statistics import compute_dHSIC_statistics"
   ]
  },
  {
   "cell_type": "code",
   "execution_count": 23,
   "id": "603b1860-1f5a-4de8-95df-c6fd9816789a",
   "metadata": {},
   "outputs": [],
   "source": [
    "def stationary_ts_n(n_sample, t_time, d, mode, a=0.5):\n",
    "    \"\"\"\n",
    "    Returns nonstationary time series data that has higher-order interactions\n",
    "    \"\"\"\n",
    "    # variables * time * n_sample\n",
    "    x_mat = []\n",
    "    y_mat = []\n",
    "    z_mat = []\n",
    "    for j in range(n_sample):\n",
    "        # np.random.seed(seed)\n",
    "        x = np.zeros(t_time)\n",
    "        y = np.zeros(t_time)\n",
    "        z = np.zeros(t_time)\n",
    "\n",
    "        x[0] = randn()\n",
    "        y[0] = randn()\n",
    "        z[0] = randn()\n",
    "        for i in range(1, t_time):\n",
    "            x[i] = a * x[i - 1] + randn()\n",
    "            y[i] = a * y[i - 1] + randn()\n",
    "            if mode == 'case1':\n",
    "                # pairwise independent but jointly dependent\n",
    "                z[i] = a * z[i - 1] + d * abs(randn()) * sign(x[i] * y[i]) + randn()\n",
    "            if mode == 'case2':\n",
    "                # 2 pairwise dependent and 3-way jointly dependent\n",
    "                z[i] = a * z[i - 1] + d * (x[i] + y[i]) + randn()\n",
    "            if mode == 'case3':\n",
    "                # all independence\n",
    "                z[i] = a * z[i - 1] + randn()\n",
    "\n",
    "        x_mat.append(x)\n",
    "        y_mat.append(y)\n",
    "        z_mat.append(z)\n",
    "    return np.array(x_mat), np.array(y_mat), np.array(z_mat)"
   ]
  },
  {
   "cell_type": "markdown",
   "id": "73f1e8f8-33e8-4da0-af5a-b34617977629",
   "metadata": {
    "tags": []
   },
   "source": [
    "# permute"
   ]
  },
  {
   "cell_type": "code",
   "execution_count": 77,
   "id": "82f92fbb-c230-4229-a41f-aae49cfedb2b",
   "metadata": {
    "collapsed": true,
    "jupyter": {
     "outputs_hidden": true
    },
    "tags": []
   },
   "outputs": [
    {
     "data": {
      "application/vnd.jupyter.widget-view+json": {
       "model_id": "273beb8c29d24768b55f2bd0a3981422",
       "version_major": 2,
       "version_minor": 0
      },
      "text/plain": [
       "  0%|          | 0/9 [00:00<?, ?it/s]"
      ]
     },
     "metadata": {},
     "output_type": "display_data"
    },
    {
     "data": {
      "application/vnd.jupyter.widget-view+json": {
       "model_id": "9d6164e1e4054509a8bb61372bf9a11c",
       "version_major": 2,
       "version_minor": 0
      },
      "text/plain": [
       "  0%|          | 0/100 [00:00<?, ?it/s]"
      ]
     },
     "metadata": {},
     "output_type": "display_data"
    },
    {
     "data": {
      "application/vnd.jupyter.widget-view+json": {
       "model_id": "885a2139b4a545f2b9f9efa03cb9a765",
       "version_major": 2,
       "version_minor": 0
      },
      "text/plain": [
       "  0%|          | 0/100 [00:00<?, ?it/s]"
      ]
     },
     "metadata": {},
     "output_type": "display_data"
    },
    {
     "data": {
      "application/vnd.jupyter.widget-view+json": {
       "model_id": "ca42fe427bfb456693faa24b781e8143",
       "version_major": 2,
       "version_minor": 0
      },
      "text/plain": [
       "  0%|          | 0/100 [00:00<?, ?it/s]"
      ]
     },
     "metadata": {},
     "output_type": "display_data"
    },
    {
     "data": {
      "application/vnd.jupyter.widget-view+json": {
       "model_id": "77bc2390862b4b188d441d3df1865771",
       "version_major": 2,
       "version_minor": 0
      },
      "text/plain": [
       "  0%|          | 0/100 [00:00<?, ?it/s]"
      ]
     },
     "metadata": {},
     "output_type": "display_data"
    },
    {
     "data": {
      "application/vnd.jupyter.widget-view+json": {
       "model_id": "a7fbddabf2a04aac911257feb3fe3ef0",
       "version_major": 2,
       "version_minor": 0
      },
      "text/plain": [
       "  0%|          | 0/100 [00:00<?, ?it/s]"
      ]
     },
     "metadata": {},
     "output_type": "display_data"
    },
    {
     "data": {
      "application/vnd.jupyter.widget-view+json": {
       "model_id": "de66f6afd86941f1b0dd5cd6916c0bbd",
       "version_major": 2,
       "version_minor": 0
      },
      "text/plain": [
       "  0%|          | 0/100 [00:00<?, ?it/s]"
      ]
     },
     "metadata": {},
     "output_type": "display_data"
    },
    {
     "data": {
      "application/vnd.jupyter.widget-view+json": {
       "model_id": "a6924a77ecea4634a8241bf9ead6592d",
       "version_major": 2,
       "version_minor": 0
      },
      "text/plain": [
       "  0%|          | 0/100 [00:00<?, ?it/s]"
      ]
     },
     "metadata": {},
     "output_type": "display_data"
    },
    {
     "data": {
      "application/vnd.jupyter.widget-view+json": {
       "model_id": "f9c769d5bc904daeaee7000096048a94",
       "version_major": 2,
       "version_minor": 0
      },
      "text/plain": [
       "  0%|          | 0/100 [00:00<?, ?it/s]"
      ]
     },
     "metadata": {},
     "output_type": "display_data"
    },
    {
     "data": {
      "application/vnd.jupyter.widget-view+json": {
       "model_id": "6250bd9748174b05acacbad388799ad3",
       "version_major": 2,
       "version_minor": 0
      },
      "text/plain": [
       "  0%|          | 0/100 [00:00<?, ?it/s]"
      ]
     },
     "metadata": {},
     "output_type": "display_data"
    },
    {
     "name": "stdout",
     "output_type": "stream",
     "text": [
      "{'0.1': 0.09, '0.2': 0.44, '0.30000000000000004': 0.81, '0.4': 0.96, '0.5': 0.99, '0.6': 1.0, '0.7000000000000001': 1.0, '0.8': 1.0, '0.9': 1.0}\n"
     ]
    }
   ],
   "source": [
    "power ={}\n",
    "for d in tqdm(np.arange(0.1, 1, 0.1)):\n",
    "    rejects = 0\n",
    "    for i in tqdm(range(100)):\n",
    "        d1, d2, d3 = stationary_ts_n(n_sample=20, t_time=50, d=d, mode='case2', a=0.5)\n",
    "        kd1 = compute_kernel_n(d1)\n",
    "        kd2 = compute_kernel_n(d2)\n",
    "        kd3 = compute_kernel_n(d3)\n",
    "        _, _, _, reject = test_independence([kd1, kd2, kd3], None, n_perms = 1000, alpha=0.05, mode = 'permutation')\n",
    "        rejects = rejects + reject\n",
    "    power[str(d)] = rejects/100\n",
    "print(power)"
   ]
  },
  {
   "cell_type": "markdown",
   "id": "7ffe527a-ca66-4e04-b190-1b89b3394802",
   "metadata": {
    "tags": []
   },
   "source": [
    "# shift"
   ]
  },
  {
   "cell_type": "code",
   "execution_count": 74,
   "id": "bd1a420b-f914-43d2-aef2-9d85a91a328f",
   "metadata": {
    "collapsed": true,
    "jupyter": {
     "outputs_hidden": true
    },
    "tags": []
   },
   "outputs": [
    {
     "data": {
      "application/vnd.jupyter.widget-view+json": {
       "model_id": "88225921ceb043e1965c3cae054c0556",
       "version_major": 2,
       "version_minor": 0
      },
      "text/plain": [
       "  0%|          | 0/9 [00:00<?, ?it/s]"
      ]
     },
     "metadata": {},
     "output_type": "display_data"
    },
    {
     "data": {
      "application/vnd.jupyter.widget-view+json": {
       "model_id": "5a29b9c0c6b443a38496ac66b2d151f8",
       "version_major": 2,
       "version_minor": 0
      },
      "text/plain": [
       "  0%|          | 0/100 [00:00<?, ?it/s]"
      ]
     },
     "metadata": {},
     "output_type": "display_data"
    },
    {
     "name": "stdout",
     "output_type": "stream",
     "text": [
      "{'0.1': 0.15}\n"
     ]
    },
    {
     "data": {
      "application/vnd.jupyter.widget-view+json": {
       "model_id": "87e9228330dd4fc497c039c2f8235a01",
       "version_major": 2,
       "version_minor": 0
      },
      "text/plain": [
       "  0%|          | 0/100 [00:00<?, ?it/s]"
      ]
     },
     "metadata": {},
     "output_type": "display_data"
    },
    {
     "name": "stdout",
     "output_type": "stream",
     "text": [
      "{'0.1': 0.15, '0.2': 0.15}\n"
     ]
    },
    {
     "data": {
      "application/vnd.jupyter.widget-view+json": {
       "model_id": "96be6bdf0fbe4f39a40882c7b0a59d04",
       "version_major": 2,
       "version_minor": 0
      },
      "text/plain": [
       "  0%|          | 0/100 [00:00<?, ?it/s]"
      ]
     },
     "metadata": {},
     "output_type": "display_data"
    },
    {
     "name": "stdout",
     "output_type": "stream",
     "text": [
      "{'0.1': 0.15, '0.2': 0.15, '0.30000000000000004': 0.37}\n"
     ]
    },
    {
     "data": {
      "application/vnd.jupyter.widget-view+json": {
       "model_id": "e61b81fdeeec42999d28a68c8e2d85db",
       "version_major": 2,
       "version_minor": 0
      },
      "text/plain": [
       "  0%|          | 0/100 [00:00<?, ?it/s]"
      ]
     },
     "metadata": {},
     "output_type": "display_data"
    },
    {
     "name": "stdout",
     "output_type": "stream",
     "text": [
      "{'0.1': 0.15, '0.2': 0.15, '0.30000000000000004': 0.37, '0.4': 0.63}\n"
     ]
    },
    {
     "data": {
      "application/vnd.jupyter.widget-view+json": {
       "model_id": "33300d44184248f39ebf183c095dc9dc",
       "version_major": 2,
       "version_minor": 0
      },
      "text/plain": [
       "  0%|          | 0/100 [00:00<?, ?it/s]"
      ]
     },
     "metadata": {},
     "output_type": "display_data"
    },
    {
     "name": "stdout",
     "output_type": "stream",
     "text": [
      "{'0.1': 0.15, '0.2': 0.15, '0.30000000000000004': 0.37, '0.4': 0.63, '0.5': 0.74}\n"
     ]
    },
    {
     "data": {
      "application/vnd.jupyter.widget-view+json": {
       "model_id": "14a82d79ae8149c19138431adcfc0fb3",
       "version_major": 2,
       "version_minor": 0
      },
      "text/plain": [
       "  0%|          | 0/100 [00:00<?, ?it/s]"
      ]
     },
     "metadata": {},
     "output_type": "display_data"
    },
    {
     "name": "stdout",
     "output_type": "stream",
     "text": [
      "{'0.1': 0.15, '0.2': 0.15, '0.30000000000000004': 0.37, '0.4': 0.63, '0.5': 0.74, '0.6': 0.84}\n"
     ]
    },
    {
     "data": {
      "application/vnd.jupyter.widget-view+json": {
       "model_id": "89fcd90ed89948d2910bbe30514b2473",
       "version_major": 2,
       "version_minor": 0
      },
      "text/plain": [
       "  0%|          | 0/100 [00:00<?, ?it/s]"
      ]
     },
     "metadata": {},
     "output_type": "display_data"
    },
    {
     "name": "stdout",
     "output_type": "stream",
     "text": [
      "{'0.1': 0.15, '0.2': 0.15, '0.30000000000000004': 0.37, '0.4': 0.63, '0.5': 0.74, '0.6': 0.84, '0.7000000000000001': 0.91}\n"
     ]
    },
    {
     "data": {
      "application/vnd.jupyter.widget-view+json": {
       "model_id": "8bff66a69ea74a1183aebd34bee9fa95",
       "version_major": 2,
       "version_minor": 0
      },
      "text/plain": [
       "  0%|          | 0/100 [00:00<?, ?it/s]"
      ]
     },
     "metadata": {},
     "output_type": "display_data"
    },
    {
     "name": "stdout",
     "output_type": "stream",
     "text": [
      "{'0.1': 0.15, '0.2': 0.15, '0.30000000000000004': 0.37, '0.4': 0.63, '0.5': 0.74, '0.6': 0.84, '0.7000000000000001': 0.91, '0.8': 0.96}\n"
     ]
    },
    {
     "data": {
      "application/vnd.jupyter.widget-view+json": {
       "model_id": "aa9f065b176444e78ad2ca03146f4b94",
       "version_major": 2,
       "version_minor": 0
      },
      "text/plain": [
       "  0%|          | 0/100 [00:00<?, ?it/s]"
      ]
     },
     "metadata": {},
     "output_type": "display_data"
    },
    {
     "name": "stdout",
     "output_type": "stream",
     "text": [
      "{'0.1': 0.15, '0.2': 0.15, '0.30000000000000004': 0.37, '0.4': 0.63, '0.5': 0.74, '0.6': 0.84, '0.7000000000000001': 0.91, '0.8': 0.96, '0.9': 0.99}\n"
     ]
    }
   ],
   "source": [
    "power ={}\n",
    "for d in tqdm(np.arange(0.1, 1, 0.1)):\n",
    "    rejects = 0\n",
    "    for i in tqdm(np.arange(100)):\n",
    "        df = stationary_pb_ts(t_time = 50, d = d, mode = \"case2\", a=0.5)\n",
    "        data_dict, kernel_dict = compute_kernel(df)\n",
    "        _, _, _, reject = test_independence([kernel_dict['d1'], kernel_dict['d2'], kernel_dict['d3']],\n",
    "                                 [data_dict['d1'], data_dict['d2'], data_dict['d3']],\n",
    "                                 n_perms=1000, alpha=0.05, mode = 'shifting')\n",
    "        rejects = rejects + reject\n",
    "    power[str(d)] = rejects/100\n",
    "    print(power)"
   ]
  },
  {
   "cell_type": "code",
   "execution_count": 14,
   "id": "732137de-850c-42e6-b445-d0cf9e9059a9",
   "metadata": {
    "tags": []
   },
   "outputs": [],
   "source": [
    "def almost_iid(n_sample, t_time, d, mode, a=0.5):\n",
    "    \"\"\"\n",
    "    Returns nonstationary time series data that has higher-order interactions\n",
    "    \"\"\"\n",
    "    # variables * time * n_sample\n",
    "    x_mat = []\n",
    "    y_mat = []\n",
    "    z_mat = []\n",
    "    for j in range(n_sample):\n",
    "        # np.random.seed(seed)\n",
    "        x = np.zeros(t_time)\n",
    "        y = np.zeros(t_time)\n",
    "        z = np.zeros(t_time)\n",
    "\n",
    "        x[0] = randn()\n",
    "        y[0] = randn()\n",
    "        z[0] = randn()\n",
    "        for i in range(1, t_time):\n",
    "            x[i] = a * x[i - 1] + randn()\n",
    "            y[i] = a * y[i - 1] + randn()\n",
    "            if mode == 'case1':\n",
    "                # pairwise independent but jointly dependent\n",
    "                z[i] = a * z[i - 1] + d * abs(randn()) * sign(x[i] * y[i]) + randn()\n",
    "            if mode == 'case2':\n",
    "                # 2 pairwise dependent and 3-way jointly dependent\n",
    "                z[i] = a * z[i - 1] + d * (x[i] + y[i]) + randn()\n",
    "            if mode == 'case3':\n",
    "                # all independence\n",
    "                z[i] = a * z[i - 1] + randn()\n",
    "\n",
    "        x_mat.append(x)\n",
    "        y_mat.append(y)\n",
    "        z_mat.append(z)\n",
    "  \n",
    "    return np.array(x_mat*2), np.array(y_mat*2), np.array(z_mat*2)"
   ]
  },
  {
   "cell_type": "code",
   "execution_count": 30,
   "id": "133e281b-efaa-437b-80c7-ad610d9746f3",
   "metadata": {
    "tags": []
   },
   "outputs": [
    {
     "data": {
      "application/vnd.jupyter.widget-view+json": {
       "model_id": "e67369310f9241e58f5d75cd49db10df",
       "version_major": 2,
       "version_minor": 0
      },
      "text/plain": [
       "  0%|          | 0/5 [00:00<?, ?it/s]"
      ]
     },
     "metadata": {},
     "output_type": "display_data"
    },
    {
     "data": {
      "application/vnd.jupyter.widget-view+json": {
       "model_id": "79b8a5ea1746472e9388e4b4235b7611",
       "version_major": 2,
       "version_minor": 0
      },
      "text/plain": [
       "  0%|          | 0/100 [00:00<?, ?it/s]"
      ]
     },
     "metadata": {},
     "output_type": "display_data"
    },
    {
     "name": "stdout",
     "output_type": "stream",
     "text": [
      "{'0.01': 1.0}\n"
     ]
    },
    {
     "data": {
      "application/vnd.jupyter.widget-view+json": {
       "model_id": "e4c92ca4e5b641448ad88ef7d4183b2a",
       "version_major": 2,
       "version_minor": 0
      },
      "text/plain": [
       "  0%|          | 0/100 [00:00<?, ?it/s]"
      ]
     },
     "metadata": {},
     "output_type": "display_data"
    },
    {
     "name": "stdout",
     "output_type": "stream",
     "text": [
      "{'0.01': 1.0, '0.21000000000000002': 1.0}\n"
     ]
    },
    {
     "data": {
      "application/vnd.jupyter.widget-view+json": {
       "model_id": "a733d8268d4c4a6998a6eb323fadb195",
       "version_major": 2,
       "version_minor": 0
      },
      "text/plain": [
       "  0%|          | 0/100 [00:00<?, ?it/s]"
      ]
     },
     "metadata": {},
     "output_type": "display_data"
    },
    {
     "ename": "KeyboardInterrupt",
     "evalue": "",
     "output_type": "error",
     "traceback": [
      "\u001b[0;31m---------------------------------------------------------------------------\u001b[0m",
      "\u001b[0;31mKeyboardInterrupt\u001b[0m                         Traceback (most recent call last)",
      "Input \u001b[0;32mIn [30]\u001b[0m, in \u001b[0;36m<cell line: 2>\u001b[0;34m()\u001b[0m\n\u001b[1;32m      7\u001b[0m     kd2 \u001b[38;5;241m=\u001b[39m compute_kernel_n(d2)\n\u001b[1;32m      8\u001b[0m     kd3 \u001b[38;5;241m=\u001b[39m compute_kernel_n(d3)\n\u001b[0;32m----> 9\u001b[0m     _, _, _, reject \u001b[38;5;241m=\u001b[39m \u001b[43mtest_independence\u001b[49m\u001b[43m(\u001b[49m\u001b[43m[\u001b[49m\u001b[43mkd1\u001b[49m\u001b[43m,\u001b[49m\u001b[43m \u001b[49m\u001b[43mkd2\u001b[49m\u001b[43m,\u001b[49m\u001b[43m \u001b[49m\u001b[43mkd3\u001b[49m\u001b[43m]\u001b[49m\u001b[43m,\u001b[49m\u001b[43m \u001b[49m\u001b[38;5;28;43;01mNone\u001b[39;49;00m\u001b[43m,\u001b[49m\u001b[43m \u001b[49m\u001b[43mn_perms\u001b[49m\u001b[43m \u001b[49m\u001b[38;5;241;43m=\u001b[39;49m\u001b[43m \u001b[49m\u001b[38;5;241;43m1000\u001b[39;49m\u001b[43m,\u001b[49m\u001b[43m \u001b[49m\u001b[43malpha\u001b[49m\u001b[38;5;241;43m=\u001b[39;49m\u001b[38;5;241;43m0.05\u001b[39;49m\u001b[43m,\u001b[49m\u001b[43m \u001b[49m\u001b[43mmode\u001b[49m\u001b[43m \u001b[49m\u001b[38;5;241;43m=\u001b[39;49m\u001b[43m \u001b[49m\u001b[38;5;124;43m'\u001b[39;49m\u001b[38;5;124;43mpermutation\u001b[39;49m\u001b[38;5;124;43m'\u001b[39;49m\u001b[43m)\u001b[49m\n\u001b[1;32m     10\u001b[0m     rejects \u001b[38;5;241m=\u001b[39m rejects \u001b[38;5;241m+\u001b[39m reject\n\u001b[1;32m     11\u001b[0m power[\u001b[38;5;28mstr\u001b[39m(d)] \u001b[38;5;241m=\u001b[39m rejects\u001b[38;5;241m/\u001b[39m\u001b[38;5;241m100\u001b[39m\n",
      "File \u001b[0;32m/Users/Tim/PycharmProjects/HOI/HOI/tests.py:177\u001b[0m, in \u001b[0;36mtest_independence\u001b[0;34m(k_list, data_list, n_perms, alpha, mode)\u001b[0m\n\u001b[1;32m    175\u001b[0m \u001b[38;5;28;01mif\u001b[39;00m mode \u001b[38;5;241m==\u001b[39m \u001b[38;5;124m'\u001b[39m\u001b[38;5;124mpermutation\u001b[39m\u001b[38;5;124m'\u001b[39m:\n\u001b[1;32m    176\u001b[0m     statistic \u001b[38;5;241m=\u001b[39m compute_dHSIC_statistics(k_list)\n\u001b[0;32m--> 177\u001b[0m     critical_value, pval \u001b[38;5;241m=\u001b[39m \u001b[43mdhsic_permutation\u001b[49m\u001b[43m(\u001b[49m\u001b[43mk_list\u001b[49m\u001b[43m,\u001b[49m\u001b[43m \u001b[49m\u001b[43mn_samples\u001b[49m\u001b[43m,\u001b[49m\u001b[43m \u001b[49m\u001b[43mn_variables\u001b[49m\u001b[43m,\u001b[49m\u001b[43m \u001b[49m\u001b[43mstatistic\u001b[49m\u001b[43m,\u001b[49m\u001b[43m \u001b[49m\u001b[43mn_perms\u001b[49m\u001b[43m,\u001b[49m\u001b[43m \u001b[49m\u001b[43malpha\u001b[49m\u001b[43m)\u001b[49m\n\u001b[1;32m    178\u001b[0m     reject \u001b[38;5;241m=\u001b[39m \u001b[38;5;28mint\u001b[39m(statistic \u001b[38;5;241m>\u001b[39m critical_value)\n\u001b[1;32m    179\u001b[0m     \u001b[38;5;28;01mreturn\u001b[39;00m statistic, critical_value, pval, reject\n",
      "File \u001b[0;32m/Users/Tim/PycharmProjects/HOI/HOI/tests.py:99\u001b[0m, in \u001b[0;36mdhsic_permutation\u001b[0;34m(k_list, n_samples, n_variables, stat_found, n_perms, alpha)\u001b[0m\n\u001b[1;32m     96\u001b[0m     term2 \u001b[38;5;241m=\u001b[39m term2 \u001b[38;5;241m*\u001b[39m np\u001b[38;5;241m.\u001b[39msum(k_perm) \u001b[38;5;241m/\u001b[39m (n_samples \u001b[38;5;241m*\u001b[39m\u001b[38;5;241m*\u001b[39m \u001b[38;5;241m2\u001b[39m)\n\u001b[1;32m     97\u001b[0m     term3 \u001b[38;5;241m=\u001b[39m term3 \u001b[38;5;241m*\u001b[39m np\u001b[38;5;241m.\u001b[39msum(k_perm, axis\u001b[38;5;241m=\u001b[39m\u001b[38;5;241m0\u001b[39m) \u001b[38;5;241m/\u001b[39m n_samples\n\u001b[0;32m---> 99\u001b[0m term1_sum \u001b[38;5;241m=\u001b[39m \u001b[43mnp\u001b[49m\u001b[38;5;241;43m.\u001b[39;49m\u001b[43msum\u001b[49m\u001b[43m(\u001b[49m\u001b[43mterm1\u001b[49m\u001b[43m)\u001b[49m\n\u001b[1;32m    100\u001b[0m term3_sum \u001b[38;5;241m=\u001b[39m np\u001b[38;5;241m.\u001b[39msum(term3)\n\u001b[1;32m    102\u001b[0m statistics[i] \u001b[38;5;241m=\u001b[39m term1_sum \u001b[38;5;241m/\u001b[39m (n_samples \u001b[38;5;241m*\u001b[39m\u001b[38;5;241m*\u001b[39m \u001b[38;5;241m2\u001b[39m) \u001b[38;5;241m+\u001b[39m term2 \u001b[38;5;241m-\u001b[39m term3_sum\n",
      "File \u001b[0;32m~/opt/anaconda3/envs/hoi/lib/python3.10/site-packages/numpy/core/fromnumeric.py:2313\u001b[0m, in \u001b[0;36msum\u001b[0;34m(a, axis, dtype, out, keepdims, initial, where)\u001b[0m\n\u001b[1;32m   2310\u001b[0m         \u001b[38;5;28;01mreturn\u001b[39;00m out\n\u001b[1;32m   2311\u001b[0m     \u001b[38;5;28;01mreturn\u001b[39;00m res\n\u001b[0;32m-> 2313\u001b[0m \u001b[38;5;28;01mreturn\u001b[39;00m \u001b[43m_wrapreduction\u001b[49m\u001b[43m(\u001b[49m\u001b[43ma\u001b[49m\u001b[43m,\u001b[49m\u001b[43m \u001b[49m\u001b[43mnp\u001b[49m\u001b[38;5;241;43m.\u001b[39;49m\u001b[43madd\u001b[49m\u001b[43m,\u001b[49m\u001b[43m \u001b[49m\u001b[38;5;124;43m'\u001b[39;49m\u001b[38;5;124;43msum\u001b[39;49m\u001b[38;5;124;43m'\u001b[39;49m\u001b[43m,\u001b[49m\u001b[43m \u001b[49m\u001b[43maxis\u001b[49m\u001b[43m,\u001b[49m\u001b[43m \u001b[49m\u001b[43mdtype\u001b[49m\u001b[43m,\u001b[49m\u001b[43m \u001b[49m\u001b[43mout\u001b[49m\u001b[43m,\u001b[49m\u001b[43m \u001b[49m\u001b[43mkeepdims\u001b[49m\u001b[38;5;241;43m=\u001b[39;49m\u001b[43mkeepdims\u001b[49m\u001b[43m,\u001b[49m\n\u001b[1;32m   2314\u001b[0m \u001b[43m                      \u001b[49m\u001b[43minitial\u001b[49m\u001b[38;5;241;43m=\u001b[39;49m\u001b[43minitial\u001b[49m\u001b[43m,\u001b[49m\u001b[43m \u001b[49m\u001b[43mwhere\u001b[49m\u001b[38;5;241;43m=\u001b[39;49m\u001b[43mwhere\u001b[49m\u001b[43m)\u001b[49m\n",
      "File \u001b[0;32m~/opt/anaconda3/envs/hoi/lib/python3.10/site-packages/numpy/core/fromnumeric.py:88\u001b[0m, in \u001b[0;36m_wrapreduction\u001b[0;34m(obj, ufunc, method, axis, dtype, out, **kwargs)\u001b[0m\n\u001b[1;32m     85\u001b[0m         \u001b[38;5;28;01melse\u001b[39;00m:\n\u001b[1;32m     86\u001b[0m             \u001b[38;5;28;01mreturn\u001b[39;00m reduction(axis\u001b[38;5;241m=\u001b[39maxis, out\u001b[38;5;241m=\u001b[39mout, \u001b[38;5;241m*\u001b[39m\u001b[38;5;241m*\u001b[39mpasskwargs)\n\u001b[0;32m---> 88\u001b[0m \u001b[38;5;28;01mreturn\u001b[39;00m \u001b[43mufunc\u001b[49m\u001b[38;5;241;43m.\u001b[39;49m\u001b[43mreduce\u001b[49m\u001b[43m(\u001b[49m\u001b[43mobj\u001b[49m\u001b[43m,\u001b[49m\u001b[43m \u001b[49m\u001b[43maxis\u001b[49m\u001b[43m,\u001b[49m\u001b[43m \u001b[49m\u001b[43mdtype\u001b[49m\u001b[43m,\u001b[49m\u001b[43m \u001b[49m\u001b[43mout\u001b[49m\u001b[43m,\u001b[49m\u001b[43m \u001b[49m\u001b[38;5;241;43m*\u001b[39;49m\u001b[38;5;241;43m*\u001b[39;49m\u001b[43mpasskwargs\u001b[49m\u001b[43m)\u001b[49m\n",
      "\u001b[0;31mKeyboardInterrupt\u001b[0m: "
     ]
    }
   ],
   "source": [
    "power ={}\n",
    "for d in tqdm(np.arange(0.01, 1, 0.2)):\n",
    "    rejects = 0\n",
    "    for i in tqdm(range(100)):\n",
    "        d1, d2, d3 = almost_iid(n_sample=20, t_time=10, d=d, mode='case2', a=0.5)\n",
    "        kd1 = compute_kernel_n(d1)\n",
    "        kd2 = compute_kernel_n(d2)\n",
    "        kd3 = compute_kernel_n(d3)\n",
    "        _, _, _, reject = test_independence([kd1, kd2, kd3], None, n_perms = 1000, alpha=0.05, mode = 'permutation')\n",
    "        rejects = rejects + reject\n",
    "    power[str(d)] = rejects/100\n",
    "    print(power)"
   ]
  },
  {
   "cell_type": "code",
   "execution_count": 28,
   "id": "a6d2046f-4f23-4718-baeb-50e4620f4d8a",
   "metadata": {},
   "outputs": [
    {
     "data": {
      "application/vnd.jupyter.widget-view+json": {
       "model_id": "38345642e3fc47d981b0e37e690bf150",
       "version_major": 2,
       "version_minor": 0
      },
      "text/plain": [
       "  0%|          | 0/5 [00:00<?, ?it/s]"
      ]
     },
     "metadata": {},
     "output_type": "display_data"
    },
    {
     "data": {
      "application/vnd.jupyter.widget-view+json": {
       "model_id": "7d33712e82064c609cfb05ca4f6785dd",
       "version_major": 2,
       "version_minor": 0
      },
      "text/plain": [
       "  0%|          | 0/100 [00:00<?, ?it/s]"
      ]
     },
     "metadata": {},
     "output_type": "display_data"
    },
    {
     "name": "stdout",
     "output_type": "stream",
     "text": [
      "{'0.01': 0.02}\n"
     ]
    },
    {
     "data": {
      "application/vnd.jupyter.widget-view+json": {
       "model_id": "6ecdfcbbbb2e47648e8eb792732c4955",
       "version_major": 2,
       "version_minor": 0
      },
      "text/plain": [
       "  0%|          | 0/100 [00:00<?, ?it/s]"
      ]
     },
     "metadata": {},
     "output_type": "display_data"
    },
    {
     "name": "stdout",
     "output_type": "stream",
     "text": [
      "{'0.01': 0.02, '0.21000000000000002': 0.62}\n"
     ]
    },
    {
     "data": {
      "application/vnd.jupyter.widget-view+json": {
       "model_id": "8444ac39bb7d4433b0364f8d4ec91af0",
       "version_major": 2,
       "version_minor": 0
      },
      "text/plain": [
       "  0%|          | 0/100 [00:00<?, ?it/s]"
      ]
     },
     "metadata": {},
     "output_type": "display_data"
    },
    {
     "name": "stdout",
     "output_type": "stream",
     "text": [
      "{'0.01': 0.02, '0.21000000000000002': 0.62, '0.41000000000000003': 1.0}\n"
     ]
    },
    {
     "data": {
      "application/vnd.jupyter.widget-view+json": {
       "model_id": "dfaa26d3c9a24e0db2fea79d5c80d72f",
       "version_major": 2,
       "version_minor": 0
      },
      "text/plain": [
       "  0%|          | 0/100 [00:00<?, ?it/s]"
      ]
     },
     "metadata": {},
     "output_type": "display_data"
    },
    {
     "ename": "KeyboardInterrupt",
     "evalue": "",
     "output_type": "error",
     "traceback": [
      "\u001b[0;31m---------------------------------------------------------------------------\u001b[0m",
      "\u001b[0;31mKeyboardInterrupt\u001b[0m                         Traceback (most recent call last)",
      "Input \u001b[0;32mIn [28]\u001b[0m, in \u001b[0;36m<cell line: 2>\u001b[0;34m()\u001b[0m\n\u001b[1;32m      7\u001b[0m     kd2 \u001b[38;5;241m=\u001b[39m compute_kernel_n(d2)\n\u001b[1;32m      8\u001b[0m     kd3 \u001b[38;5;241m=\u001b[39m compute_kernel_n(d3)\n\u001b[0;32m----> 9\u001b[0m     _, _, _, reject \u001b[38;5;241m=\u001b[39m \u001b[43mtest_independence\u001b[49m\u001b[43m(\u001b[49m\u001b[43m[\u001b[49m\u001b[43mkd1\u001b[49m\u001b[43m,\u001b[49m\u001b[43m \u001b[49m\u001b[43mkd2\u001b[49m\u001b[43m,\u001b[49m\u001b[43m \u001b[49m\u001b[43mkd3\u001b[49m\u001b[43m]\u001b[49m\u001b[43m,\u001b[49m\u001b[43m \u001b[49m\u001b[38;5;28;43;01mNone\u001b[39;49;00m\u001b[43m,\u001b[49m\u001b[43m \u001b[49m\u001b[43mn_perms\u001b[49m\u001b[43m \u001b[49m\u001b[38;5;241;43m=\u001b[39;49m\u001b[43m \u001b[49m\u001b[38;5;241;43m1000\u001b[39;49m\u001b[43m,\u001b[49m\u001b[43m \u001b[49m\u001b[43malpha\u001b[49m\u001b[38;5;241;43m=\u001b[39;49m\u001b[38;5;241;43m0.05\u001b[39;49m\u001b[43m,\u001b[49m\u001b[43m \u001b[49m\u001b[43mmode\u001b[49m\u001b[43m \u001b[49m\u001b[38;5;241;43m=\u001b[39;49m\u001b[43m \u001b[49m\u001b[38;5;124;43m'\u001b[39;49m\u001b[38;5;124;43mpermutation\u001b[39;49m\u001b[38;5;124;43m'\u001b[39;49m\u001b[43m)\u001b[49m\n\u001b[1;32m     10\u001b[0m     rejects \u001b[38;5;241m=\u001b[39m rejects \u001b[38;5;241m+\u001b[39m reject\n\u001b[1;32m     11\u001b[0m power[\u001b[38;5;28mstr\u001b[39m(d)] \u001b[38;5;241m=\u001b[39m rejects\u001b[38;5;241m/\u001b[39m\u001b[38;5;241m100\u001b[39m\n",
      "File \u001b[0;32m/Users/Tim/PycharmProjects/HOI/HOI/tests.py:177\u001b[0m, in \u001b[0;36mtest_independence\u001b[0;34m(k_list, data_list, n_perms, alpha, mode)\u001b[0m\n\u001b[1;32m    175\u001b[0m \u001b[38;5;28;01mif\u001b[39;00m mode \u001b[38;5;241m==\u001b[39m \u001b[38;5;124m'\u001b[39m\u001b[38;5;124mpermutation\u001b[39m\u001b[38;5;124m'\u001b[39m:\n\u001b[1;32m    176\u001b[0m     statistic \u001b[38;5;241m=\u001b[39m compute_dHSIC_statistics(k_list)\n\u001b[0;32m--> 177\u001b[0m     critical_value, pval \u001b[38;5;241m=\u001b[39m \u001b[43mdhsic_permutation\u001b[49m\u001b[43m(\u001b[49m\u001b[43mk_list\u001b[49m\u001b[43m,\u001b[49m\u001b[43m \u001b[49m\u001b[43mn_samples\u001b[49m\u001b[43m,\u001b[49m\u001b[43m \u001b[49m\u001b[43mn_variables\u001b[49m\u001b[43m,\u001b[49m\u001b[43m \u001b[49m\u001b[43mstatistic\u001b[49m\u001b[43m,\u001b[49m\u001b[43m \u001b[49m\u001b[43mn_perms\u001b[49m\u001b[43m,\u001b[49m\u001b[43m \u001b[49m\u001b[43malpha\u001b[49m\u001b[43m)\u001b[49m\n\u001b[1;32m    178\u001b[0m     reject \u001b[38;5;241m=\u001b[39m \u001b[38;5;28mint\u001b[39m(statistic \u001b[38;5;241m>\u001b[39m critical_value)\n\u001b[1;32m    179\u001b[0m     \u001b[38;5;28;01mreturn\u001b[39;00m statistic, critical_value, pval, reject\n",
      "File \u001b[0;32m/Users/Tim/PycharmProjects/HOI/HOI/tests.py:96\u001b[0m, in \u001b[0;36mdhsic_permutation\u001b[0;34m(k_list, n_samples, n_variables, stat_found, n_perms, alpha)\u001b[0m\n\u001b[1;32m     93\u001b[0m     k_perm \u001b[38;5;241m=\u001b[39m k_list[j][index_perm, index_perm[:, \u001b[38;5;28;01mNone\u001b[39;00m]]\n\u001b[1;32m     95\u001b[0m     term1 \u001b[38;5;241m=\u001b[39m term1 \u001b[38;5;241m*\u001b[39m k_perm\n\u001b[0;32m---> 96\u001b[0m     term2 \u001b[38;5;241m=\u001b[39m term2 \u001b[38;5;241m*\u001b[39m \u001b[43mnp\u001b[49m\u001b[38;5;241;43m.\u001b[39;49m\u001b[43msum\u001b[49m\u001b[43m(\u001b[49m\u001b[43mk_perm\u001b[49m\u001b[43m)\u001b[49m \u001b[38;5;241m/\u001b[39m (n_samples \u001b[38;5;241m*\u001b[39m\u001b[38;5;241m*\u001b[39m \u001b[38;5;241m2\u001b[39m)\n\u001b[1;32m     97\u001b[0m     term3 \u001b[38;5;241m=\u001b[39m term3 \u001b[38;5;241m*\u001b[39m np\u001b[38;5;241m.\u001b[39msum(k_perm, axis\u001b[38;5;241m=\u001b[39m\u001b[38;5;241m0\u001b[39m) \u001b[38;5;241m/\u001b[39m n_samples\n\u001b[1;32m     99\u001b[0m term1_sum \u001b[38;5;241m=\u001b[39m np\u001b[38;5;241m.\u001b[39msum(term1)\n",
      "File \u001b[0;32m~/opt/anaconda3/envs/hoi/lib/python3.10/site-packages/numpy/core/fromnumeric.py:2172\u001b[0m, in \u001b[0;36m_sum_dispatcher\u001b[0;34m(a, axis, dtype, out, keepdims, initial, where)\u001b[0m\n\u001b[1;32m   2102\u001b[0m     \u001b[38;5;124;03m\"\"\"\u001b[39;00m\n\u001b[1;32m   2103\u001b[0m \u001b[38;5;124;03m    Clip (limit) the values in an array.\u001b[39;00m\n\u001b[1;32m   2104\u001b[0m \n\u001b[0;32m   (...)\u001b[0m\n\u001b[1;32m   2167\u001b[0m \n\u001b[1;32m   2168\u001b[0m \u001b[38;5;124;03m    \"\"\"\u001b[39;00m\n\u001b[1;32m   2169\u001b[0m     \u001b[38;5;28;01mreturn\u001b[39;00m _wrapfunc(a, \u001b[38;5;124m'\u001b[39m\u001b[38;5;124mclip\u001b[39m\u001b[38;5;124m'\u001b[39m, a_min, a_max, out\u001b[38;5;241m=\u001b[39mout, \u001b[38;5;241m*\u001b[39m\u001b[38;5;241m*\u001b[39mkwargs)\n\u001b[0;32m-> 2172\u001b[0m \u001b[38;5;28;01mdef\u001b[39;00m \u001b[38;5;21m_sum_dispatcher\u001b[39m(a, axis\u001b[38;5;241m=\u001b[39m\u001b[38;5;28;01mNone\u001b[39;00m, dtype\u001b[38;5;241m=\u001b[39m\u001b[38;5;28;01mNone\u001b[39;00m, out\u001b[38;5;241m=\u001b[39m\u001b[38;5;28;01mNone\u001b[39;00m, keepdims\u001b[38;5;241m=\u001b[39m\u001b[38;5;28;01mNone\u001b[39;00m,\n\u001b[1;32m   2173\u001b[0m                     initial\u001b[38;5;241m=\u001b[39m\u001b[38;5;28;01mNone\u001b[39;00m, where\u001b[38;5;241m=\u001b[39m\u001b[38;5;28;01mNone\u001b[39;00m):\n\u001b[1;32m   2174\u001b[0m     \u001b[38;5;28;01mreturn\u001b[39;00m (a, out)\n\u001b[1;32m   2177\u001b[0m \u001b[38;5;129m@array_function_dispatch\u001b[39m(_sum_dispatcher)\n\u001b[1;32m   2178\u001b[0m \u001b[38;5;28;01mdef\u001b[39;00m \u001b[38;5;21msum\u001b[39m(a, axis\u001b[38;5;241m=\u001b[39m\u001b[38;5;28;01mNone\u001b[39;00m, dtype\u001b[38;5;241m=\u001b[39m\u001b[38;5;28;01mNone\u001b[39;00m, out\u001b[38;5;241m=\u001b[39m\u001b[38;5;28;01mNone\u001b[39;00m, keepdims\u001b[38;5;241m=\u001b[39mnp\u001b[38;5;241m.\u001b[39m_NoValue,\n\u001b[1;32m   2179\u001b[0m         initial\u001b[38;5;241m=\u001b[39mnp\u001b[38;5;241m.\u001b[39m_NoValue, where\u001b[38;5;241m=\u001b[39mnp\u001b[38;5;241m.\u001b[39m_NoValue):\n",
      "\u001b[0;31mKeyboardInterrupt\u001b[0m: "
     ]
    }
   ],
   "source": [
    "power ={}\n",
    "for d in tqdm(np.arange(0.01, 1, 0.2)):\n",
    "    rejects = 0\n",
    "    for i in tqdm(range(100)):\n",
    "        d1, d2, d3 = stationary_ts_n(n_sample=40, t_time=10, d=d, mode='case2', a=0.5)\n",
    "        kd1 = compute_kernel_n(d1)\n",
    "        kd2 = compute_kernel_n(d2)\n",
    "        kd3 = compute_kernel_n(d3)\n",
    "        _, _, _, reject = test_independence([kd1, kd2, kd3], None, n_perms = 1000, alpha=0.05, mode = 'permutation')\n",
    "        rejects = rejects + reject\n",
    "    power[str(d)] = rejects/100\n",
    "    print(power)"
   ]
  },
  {
   "cell_type": "code",
   "execution_count": null,
   "id": "a222069d-70b0-4845-b787-a2a18a6da254",
   "metadata": {},
   "outputs": [],
   "source": []
  }
 ],
 "metadata": {
  "kernelspec": {
   "display_name": "Python 3 (ipykernel)",
   "language": "python",
   "name": "python3"
  },
  "language_info": {
   "codemirror_mode": {
    "name": "ipython",
    "version": 3
   },
   "file_extension": ".py",
   "mimetype": "text/x-python",
   "name": "python",
   "nbconvert_exporter": "python",
   "pygments_lexer": "ipython3",
   "version": "3.10.4"
  }
 },
 "nbformat": 4,
 "nbformat_minor": 5
}
